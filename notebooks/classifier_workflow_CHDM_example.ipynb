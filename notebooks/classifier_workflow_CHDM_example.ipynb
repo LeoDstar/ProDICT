{
 "cells": [
  {
   "cell_type": "markdown",
   "id": "d921dd65",
   "metadata": {},
   "source": [
    "## Imports"
   ]
  },
  {
   "cell_type": "code",
   "execution_count": 32,
   "id": "d22b7644",
   "metadata": {},
   "outputs": [],
   "source": [
    "import sys\n",
    "import os\n",
    "import pandas as pd\n",
    "import numpy as np\n",
    "from pathlib import Path\n",
    "\n",
    "module_path = str(Path(\"../src/data\").resolve())\n",
    "if module_path not in sys.path:\n",
    "    sys.path.append(module_path)\n",
    "\n",
    "import preprocessing as prep\n",
    "import feature_selection as fs\n",
    "import model_fit as mf\n",
    "import graphs as grph\n",
    "\n"
   ]
  },
  {
   "cell_type": "code",
   "execution_count": 35,
   "id": "a7c8692c",
   "metadata": {},
   "outputs": [
    {
     "data": {
      "text/plain": [
       "<module 'graphs' from '/home/lestrada/tumor_type_prediction/src/data/graphs.py'>"
      ]
     },
     "execution_count": 35,
     "metadata": {},
     "output_type": "execute_result"
    }
   ],
   "source": [
    "import importlib\n",
    "importlib.reload(grph)\n"
   ]
  },
  {
   "cell_type": "markdown",
   "id": "b95e6332",
   "metadata": {},
   "source": [
    "## Data Import"
   ]
  },
  {
   "cell_type": "code",
   "execution_count": 12,
   "id": "84e9b090",
   "metadata": {},
   "outputs": [],
   "source": [
    "#Proteins quantification intensities file\n",
    "processed_data = '2025.01.29_CJ_pancancer_273/'\n",
    "folder_path = '/media/kusterlab/internal_projects/active/TOPAS/WP31/Playground/Retrospective_study/'\n",
    "PREPROCESSED_FP_INTENSITY = 'preprocessed_fp_with_ref.csv'\n",
    "intensity_path_file = folder_path + processed_data + PREPROCESSED_FP_INTENSITY\n",
    "input_quantifications = pd.read_csv(intensity_path_file)\n",
    "\n",
    "#--------------------------------------------------------------------------------\n",
    "\n",
    "# Proteins quantification z-scores file\n",
    "preprocessed_fp_z_scores = 'full_proteome_measures_z.tsv'\n",
    "z_scores_path_file = folder_path + processed_data + preprocessed_fp_z_scores\n",
    "df_z_scores = pd.read_csv(z_scores_path_file, sep='\\t')\n",
    "\n",
    "\n",
    "#--------------------------------------------------------------------------------\n",
    "\n",
    "#Samples metadata (oncotree classification) file.\n",
    "metadata_path = '/media/kusterlab/internal_projects/active/TOPAS/WP31/Playground/Retrospective_MTBs_Evaluation/'\n",
    "metadata_file = 'METADATA_PAN_CANCER_Batch300.xlsx'\n",
    "the_metadata_file = metadata_path + metadata_file\n",
    "input_metadata = pd.read_excel(the_metadata_file)\n",
    "\n"
   ]
  },
  {
   "cell_type": "code",
   "execution_count": 28,
   "id": "934c8f6a",
   "metadata": {},
   "outputs": [],
   "source": [
    "project_root = os.path.abspath(os.path.join(os.getcwd(), '..'))\n",
    "output_dir = os.path.join(project_root, 'data', 'data_output', 'Notebook_output')\n",
    "os.makedirs(output_dir, exist_ok=True)\n"
   ]
  },
  {
   "cell_type": "markdown",
   "id": "0d31b59b",
   "metadata": {},
   "source": [
    "## Data Preprocessing"
   ]
  },
  {
   "cell_type": "code",
   "execution_count": 13,
   "id": "e6163b23",
   "metadata": {},
   "outputs": [
    {
     "name": "stdout",
     "output_type": "stream",
     "text": [
      "(2360, 13074)\n",
      "Proteins with  empty values: ['PTGER4', 'CD19', 'IAPP', 'FOXO4', 'CRYGA', 'HNRNPCL3;HNRNPCL4', 'MYBPHL']\n"
     ]
    },
    {
     "data": {
      "text/html": [
       "<div>\n",
       "<style scoped>\n",
       "    .dataframe tbody tr th:only-of-type {\n",
       "        vertical-align: middle;\n",
       "    }\n",
       "\n",
       "    .dataframe tbody tr th {\n",
       "        vertical-align: top;\n",
       "    }\n",
       "\n",
       "    .dataframe thead th {\n",
       "        text-align: right;\n",
       "    }\n",
       "</style>\n",
       "<table border=\"1\" class=\"dataframe\">\n",
       "  <thead>\n",
       "    <tr style=\"text-align: right;\">\n",
       "      <th></th>\n",
       "      <th>Sample name</th>\n",
       "      <th>code_oncotree</th>\n",
       "      <th>PHB</th>\n",
       "      <th>TBL2</th>\n",
       "      <th>SAA1</th>\n",
       "      <th>CDKN1B</th>\n",
       "      <th>SNRNP70</th>\n",
       "      <th>TARDBP</th>\n",
       "      <th>GALNT6</th>\n",
       "      <th>ADGRL2</th>\n",
       "      <th>...</th>\n",
       "      <th>B4GALNT4</th>\n",
       "      <th>VGLL1</th>\n",
       "      <th>CCDC18</th>\n",
       "      <th>ZDHHC12</th>\n",
       "      <th>EGLN2</th>\n",
       "      <th>GABARAP</th>\n",
       "      <th>GUCY1B2</th>\n",
       "      <th>ATOH1</th>\n",
       "      <th>IL37</th>\n",
       "      <th>MYEOV</th>\n",
       "    </tr>\n",
       "  </thead>\n",
       "  <tbody>\n",
       "    <tr>\n",
       "      <th>0</th>\n",
       "      <td>H021-3RLVZS-T1-Q1</td>\n",
       "      <td>AASTR</td>\n",
       "      <td>1</td>\n",
       "      <td>1</td>\n",
       "      <td>0</td>\n",
       "      <td>1</td>\n",
       "      <td>1</td>\n",
       "      <td>1</td>\n",
       "      <td>1</td>\n",
       "      <td>1</td>\n",
       "      <td>...</td>\n",
       "      <td>0</td>\n",
       "      <td>0</td>\n",
       "      <td>1</td>\n",
       "      <td>0</td>\n",
       "      <td>0</td>\n",
       "      <td>0</td>\n",
       "      <td>0</td>\n",
       "      <td>0</td>\n",
       "      <td>0</td>\n",
       "      <td>0</td>\n",
       "    </tr>\n",
       "    <tr>\n",
       "      <th>1</th>\n",
       "      <td>H021-VFM3B1-T1-Q1</td>\n",
       "      <td>AASTR</td>\n",
       "      <td>1</td>\n",
       "      <td>1</td>\n",
       "      <td>0</td>\n",
       "      <td>1</td>\n",
       "      <td>1</td>\n",
       "      <td>1</td>\n",
       "      <td>1</td>\n",
       "      <td>1</td>\n",
       "      <td>...</td>\n",
       "      <td>0</td>\n",
       "      <td>0</td>\n",
       "      <td>0</td>\n",
       "      <td>0</td>\n",
       "      <td>0</td>\n",
       "      <td>0</td>\n",
       "      <td>0</td>\n",
       "      <td>0</td>\n",
       "      <td>0</td>\n",
       "      <td>0</td>\n",
       "    </tr>\n",
       "    <tr>\n",
       "      <th>2</th>\n",
       "      <td>H021-3RLVZS-T1-Q1-R2</td>\n",
       "      <td>AASTR</td>\n",
       "      <td>1</td>\n",
       "      <td>1</td>\n",
       "      <td>0</td>\n",
       "      <td>1</td>\n",
       "      <td>1</td>\n",
       "      <td>1</td>\n",
       "      <td>0</td>\n",
       "      <td>1</td>\n",
       "      <td>...</td>\n",
       "      <td>0</td>\n",
       "      <td>0</td>\n",
       "      <td>1</td>\n",
       "      <td>0</td>\n",
       "      <td>1</td>\n",
       "      <td>1</td>\n",
       "      <td>0</td>\n",
       "      <td>0</td>\n",
       "      <td>0</td>\n",
       "      <td>0</td>\n",
       "    </tr>\n",
       "    <tr>\n",
       "      <th>3</th>\n",
       "      <td>H021-XBLS3R-M1-Q1</td>\n",
       "      <td>AASTR</td>\n",
       "      <td>1</td>\n",
       "      <td>1</td>\n",
       "      <td>1</td>\n",
       "      <td>1</td>\n",
       "      <td>1</td>\n",
       "      <td>1</td>\n",
       "      <td>0</td>\n",
       "      <td>1</td>\n",
       "      <td>...</td>\n",
       "      <td>0</td>\n",
       "      <td>0</td>\n",
       "      <td>0</td>\n",
       "      <td>0</td>\n",
       "      <td>0</td>\n",
       "      <td>0</td>\n",
       "      <td>0</td>\n",
       "      <td>0</td>\n",
       "      <td>0</td>\n",
       "      <td>0</td>\n",
       "    </tr>\n",
       "    <tr>\n",
       "      <th>4</th>\n",
       "      <td>H021-M2MSRE-M1-Q1</td>\n",
       "      <td>ACBC</td>\n",
       "      <td>1</td>\n",
       "      <td>1</td>\n",
       "      <td>0</td>\n",
       "      <td>1</td>\n",
       "      <td>1</td>\n",
       "      <td>1</td>\n",
       "      <td>0</td>\n",
       "      <td>1</td>\n",
       "      <td>...</td>\n",
       "      <td>0</td>\n",
       "      <td>0</td>\n",
       "      <td>0</td>\n",
       "      <td>0</td>\n",
       "      <td>0</td>\n",
       "      <td>0</td>\n",
       "      <td>0</td>\n",
       "      <td>0</td>\n",
       "      <td>0</td>\n",
       "      <td>0</td>\n",
       "    </tr>\n",
       "    <tr>\n",
       "      <th>...</th>\n",
       "      <td>...</td>\n",
       "      <td>...</td>\n",
       "      <td>...</td>\n",
       "      <td>...</td>\n",
       "      <td>...</td>\n",
       "      <td>...</td>\n",
       "      <td>...</td>\n",
       "      <td>...</td>\n",
       "      <td>...</td>\n",
       "      <td>...</td>\n",
       "      <td>...</td>\n",
       "      <td>...</td>\n",
       "      <td>...</td>\n",
       "      <td>...</td>\n",
       "      <td>...</td>\n",
       "      <td>...</td>\n",
       "      <td>...</td>\n",
       "      <td>...</td>\n",
       "      <td>...</td>\n",
       "      <td>...</td>\n",
       "      <td>...</td>\n",
       "    </tr>\n",
       "    <tr>\n",
       "      <th>1839</th>\n",
       "      <td>H021-BYHFHEU-M2-Q1</td>\n",
       "      <td>VMM</td>\n",
       "      <td>1</td>\n",
       "      <td>1</td>\n",
       "      <td>0</td>\n",
       "      <td>1</td>\n",
       "      <td>1</td>\n",
       "      <td>1</td>\n",
       "      <td>0</td>\n",
       "      <td>1</td>\n",
       "      <td>...</td>\n",
       "      <td>0</td>\n",
       "      <td>0</td>\n",
       "      <td>0</td>\n",
       "      <td>0</td>\n",
       "      <td>0</td>\n",
       "      <td>0</td>\n",
       "      <td>0</td>\n",
       "      <td>0</td>\n",
       "      <td>0</td>\n",
       "      <td>0</td>\n",
       "    </tr>\n",
       "    <tr>\n",
       "      <th>1840</th>\n",
       "      <td>H021-VYS51F-M1-Q1</td>\n",
       "      <td>VSC</td>\n",
       "      <td>1</td>\n",
       "      <td>1</td>\n",
       "      <td>1</td>\n",
       "      <td>1</td>\n",
       "      <td>1</td>\n",
       "      <td>1</td>\n",
       "      <td>0</td>\n",
       "      <td>1</td>\n",
       "      <td>...</td>\n",
       "      <td>0</td>\n",
       "      <td>0</td>\n",
       "      <td>0</td>\n",
       "      <td>0</td>\n",
       "      <td>0</td>\n",
       "      <td>1</td>\n",
       "      <td>0</td>\n",
       "      <td>0</td>\n",
       "      <td>0</td>\n",
       "      <td>0</td>\n",
       "    </tr>\n",
       "    <tr>\n",
       "      <th>1841</th>\n",
       "      <td>H021-1B7R18-M1-Q1</td>\n",
       "      <td>VSC</td>\n",
       "      <td>1</td>\n",
       "      <td>1</td>\n",
       "      <td>1</td>\n",
       "      <td>1</td>\n",
       "      <td>1</td>\n",
       "      <td>1</td>\n",
       "      <td>0</td>\n",
       "      <td>1</td>\n",
       "      <td>...</td>\n",
       "      <td>0</td>\n",
       "      <td>0</td>\n",
       "      <td>0</td>\n",
       "      <td>0</td>\n",
       "      <td>0</td>\n",
       "      <td>1</td>\n",
       "      <td>0</td>\n",
       "      <td>0</td>\n",
       "      <td>0</td>\n",
       "      <td>0</td>\n",
       "    </tr>\n",
       "    <tr>\n",
       "      <th>1842</th>\n",
       "      <td>H021-FUFZFT-T1-Q1</td>\n",
       "      <td>VSC</td>\n",
       "      <td>1</td>\n",
       "      <td>1</td>\n",
       "      <td>1</td>\n",
       "      <td>1</td>\n",
       "      <td>1</td>\n",
       "      <td>1</td>\n",
       "      <td>0</td>\n",
       "      <td>1</td>\n",
       "      <td>...</td>\n",
       "      <td>0</td>\n",
       "      <td>0</td>\n",
       "      <td>0</td>\n",
       "      <td>0</td>\n",
       "      <td>0</td>\n",
       "      <td>0</td>\n",
       "      <td>0</td>\n",
       "      <td>0</td>\n",
       "      <td>0</td>\n",
       "      <td>0</td>\n",
       "    </tr>\n",
       "    <tr>\n",
       "      <th>1843</th>\n",
       "      <td>H021-1B7R18-M7-Q1</td>\n",
       "      <td>VSC</td>\n",
       "      <td>1</td>\n",
       "      <td>1</td>\n",
       "      <td>1</td>\n",
       "      <td>1</td>\n",
       "      <td>1</td>\n",
       "      <td>1</td>\n",
       "      <td>0</td>\n",
       "      <td>1</td>\n",
       "      <td>...</td>\n",
       "      <td>0</td>\n",
       "      <td>0</td>\n",
       "      <td>0</td>\n",
       "      <td>0</td>\n",
       "      <td>0</td>\n",
       "      <td>0</td>\n",
       "      <td>0</td>\n",
       "      <td>0</td>\n",
       "      <td>0</td>\n",
       "      <td>0</td>\n",
       "    </tr>\n",
       "  </tbody>\n",
       "</table>\n",
       "<p>1844 rows × 13076 columns</p>\n",
       "</div>"
      ],
      "text/plain": [
       "               Sample name code_oncotree  PHB  TBL2  SAA1  CDKN1B  SNRNP70  \\\n",
       "0        H021-3RLVZS-T1-Q1         AASTR    1     1     0       1        1   \n",
       "1        H021-VFM3B1-T1-Q1         AASTR    1     1     0       1        1   \n",
       "2     H021-3RLVZS-T1-Q1-R2         AASTR    1     1     0       1        1   \n",
       "3        H021-XBLS3R-M1-Q1         AASTR    1     1     1       1        1   \n",
       "4        H021-M2MSRE-M1-Q1          ACBC    1     1     0       1        1   \n",
       "...                    ...           ...  ...   ...   ...     ...      ...   \n",
       "1839    H021-BYHFHEU-M2-Q1           VMM    1     1     0       1        1   \n",
       "1840     H021-VYS51F-M1-Q1           VSC    1     1     1       1        1   \n",
       "1841     H021-1B7R18-M1-Q1           VSC    1     1     1       1        1   \n",
       "1842     H021-FUFZFT-T1-Q1           VSC    1     1     1       1        1   \n",
       "1843     H021-1B7R18-M7-Q1           VSC    1     1     1       1        1   \n",
       "\n",
       "      TARDBP  GALNT6  ADGRL2  ...  B4GALNT4  VGLL1  CCDC18  ZDHHC12  EGLN2  \\\n",
       "0          1       1       1  ...         0      0       1        0      0   \n",
       "1          1       1       1  ...         0      0       0        0      0   \n",
       "2          1       0       1  ...         0      0       1        0      1   \n",
       "3          1       0       1  ...         0      0       0        0      0   \n",
       "4          1       0       1  ...         0      0       0        0      0   \n",
       "...      ...     ...     ...  ...       ...    ...     ...      ...    ...   \n",
       "1839       1       0       1  ...         0      0       0        0      0   \n",
       "1840       1       0       1  ...         0      0       0        0      0   \n",
       "1841       1       0       1  ...         0      0       0        0      0   \n",
       "1842       1       0       1  ...         0      0       0        0      0   \n",
       "1843       1       0       1  ...         0      0       0        0      0   \n",
       "\n",
       "      GABARAP  GUCY1B2  ATOH1  IL37  MYEOV  \n",
       "0           0        0      0     0      0  \n",
       "1           0        0      0     0      0  \n",
       "2           1        0      0     0      0  \n",
       "3           0        0      0     0      0  \n",
       "4           0        0      0     0      0  \n",
       "...       ...      ...    ...   ...    ...  \n",
       "1839        0        0      0     0      0  \n",
       "1840        1        0      0     0      0  \n",
       "1841        1        0      0     0      0  \n",
       "1842        0        0      0     0      0  \n",
       "1843        0        0      0     0      0  \n",
       "\n",
       "[1844 rows x 13076 columns]"
      ]
     },
     "execution_count": 13,
     "metadata": {},
     "output_type": "execute_result"
    }
   ],
   "source": [
    "# Protein and peptides quantification intensities post-processing\n",
    "input_quantifications = input_quantifications.set_index(input_quantifications.columns[0])\n",
    "\n",
    "peptides_quant_info = prep.post_process_meta_intensities(input_quantifications.iloc[:,int(input_quantifications.shape[1]/2):].T ) #clean dataframe from regex characers\n",
    "proteins_quant = input_quantifications.iloc[:,:int(input_quantifications.shape[1]/2)].T #subset protein measurements from dataset\n",
    "\n",
    "#Imputation\n",
    "prot_quant_imputed = prep.impute_normal_down_shift_distribution(proteins_quant) #Imputation of missing values in protein intensities using normal distribution down-shift method\n",
    "na_columns = prot_quant_imputed.isna().any()\n",
    "na_columns_true = na_columns[na_columns].index.tolist()\n",
    "print(\"Proteins with  empty values:\", na_columns_true)\n",
    "\n",
    "#Cleaning sample names\n",
    "prot_quant_imputed.reset_index(inplace=True)\n",
    "prot_quant_imputed.rename(columns={'index': 'Sample name'}, inplace=True)\n",
    "prot_quant_imputed['Sample name'] = prot_quant_imputed['Sample name'].str.replace('pat_', '')\n",
    "\n",
    "#Dataset with protein intensities and metadata\n",
    "samples_metadata = input_metadata[[\"Sample name\", \"code_oncotree\",]] #sample metadata e.g. class, TCC, tissue of origin, etc.\n",
    "initial_df = samples_metadata.merge(prot_quant_imputed, left_on='Sample name', right_on='Sample name')\n",
    "\n",
    "#Peptides quantification to binary dataset\n",
    "peptides_df_binary = pd.DataFrame(\n",
    "    np.where(peptides_quant_info > 1, 1, 0), #if the # of peptides > 1, then turns to 1, otherwise 0. \n",
    "    index=peptides_quant_info.index,\n",
    "    columns=peptides_quant_info.columns  \n",
    ")\n",
    "peptides_df_binary.reset_index(inplace=True) #Moves the index to a column. Allows to obtain patient id\n",
    "peptides_df_binary.replace('Identification metadata ','',regex=True, inplace=True) #Removes text from id's\n",
    "peptides_df_binary = samples_metadata.merge(peptides_df_binary, left_on='Sample name', right_on='index') #merging both data sets by Sample Name, ontaining a dataset with sample, classification and peptide binary count\n",
    "peptides_df_binary.drop('index', axis=1, inplace=True)\n",
    "\n",
    "peptides_df_binary"
   ]
  },
  {
   "cell_type": "code",
   "execution_count": 14,
   "id": "ea85d65c",
   "metadata": {},
   "outputs": [
    {
     "name": "stdout",
     "output_type": "stream",
     "text": [
      "(1846, 13074)\n"
     ]
    },
    {
     "data": {
      "text/html": [
       "<div>\n",
       "<style scoped>\n",
       "    .dataframe tbody tr th:only-of-type {\n",
       "        vertical-align: middle;\n",
       "    }\n",
       "\n",
       "    .dataframe tbody tr th {\n",
       "        vertical-align: top;\n",
       "    }\n",
       "\n",
       "    .dataframe thead th {\n",
       "        text-align: right;\n",
       "    }\n",
       "</style>\n",
       "<table border=\"1\" class=\"dataframe\">\n",
       "  <thead>\n",
       "    <tr style=\"text-align: right;\">\n",
       "      <th></th>\n",
       "      <th>Sample name</th>\n",
       "      <th>code_oncotree</th>\n",
       "      <th>PHB</th>\n",
       "      <th>TBL2</th>\n",
       "      <th>SAA1</th>\n",
       "      <th>CDKN1B</th>\n",
       "      <th>SNRNP70</th>\n",
       "      <th>TARDBP</th>\n",
       "      <th>GALNT6</th>\n",
       "      <th>ADGRL2</th>\n",
       "      <th>...</th>\n",
       "      <th>B4GALNT4</th>\n",
       "      <th>VGLL1</th>\n",
       "      <th>CCDC18</th>\n",
       "      <th>ZDHHC12</th>\n",
       "      <th>EGLN2</th>\n",
       "      <th>GABARAP</th>\n",
       "      <th>GUCY1B2</th>\n",
       "      <th>ATOH1</th>\n",
       "      <th>IL37</th>\n",
       "      <th>MYEOV</th>\n",
       "    </tr>\n",
       "  </thead>\n",
       "  <tbody>\n",
       "    <tr>\n",
       "      <th>0</th>\n",
       "      <td>H021-3RLVZS-T1-Q1</td>\n",
       "      <td>AASTR</td>\n",
       "      <td>0.570269</td>\n",
       "      <td>-1.954848</td>\n",
       "      <td>-0.108304</td>\n",
       "      <td>0.528920</td>\n",
       "      <td>-0.552978</td>\n",
       "      <td>-1.547589</td>\n",
       "      <td>-0.674703</td>\n",
       "      <td>-1.431098</td>\n",
       "      <td>...</td>\n",
       "      <td>-2.259616</td>\n",
       "      <td>-2.229895</td>\n",
       "      <td>1.711366</td>\n",
       "      <td>-1.893114</td>\n",
       "      <td>-0.914195</td>\n",
       "      <td>3.933296</td>\n",
       "      <td>-1.717553</td>\n",
       "      <td>-1.747781</td>\n",
       "      <td>-2.026128</td>\n",
       "      <td>-1.951108</td>\n",
       "    </tr>\n",
       "    <tr>\n",
       "      <th>1</th>\n",
       "      <td>H021-VFM3B1-T1-Q1</td>\n",
       "      <td>AASTR</td>\n",
       "      <td>-0.119897</td>\n",
       "      <td>-0.913546</td>\n",
       "      <td>-2.356393</td>\n",
       "      <td>-0.412755</td>\n",
       "      <td>-0.101366</td>\n",
       "      <td>-0.493058</td>\n",
       "      <td>-0.704860</td>\n",
       "      <td>-1.872432</td>\n",
       "      <td>...</td>\n",
       "      <td>-2.321418</td>\n",
       "      <td>-2.418372</td>\n",
       "      <td>1.284506</td>\n",
       "      <td>-1.944684</td>\n",
       "      <td>-2.061922</td>\n",
       "      <td>1.575512</td>\n",
       "      <td>-1.533850</td>\n",
       "      <td>-2.016380</td>\n",
       "      <td>-1.735505</td>\n",
       "      <td>-2.259470</td>\n",
       "    </tr>\n",
       "    <tr>\n",
       "      <th>2</th>\n",
       "      <td>H021-3RLVZS-T1-Q1-R2</td>\n",
       "      <td>AASTR</td>\n",
       "      <td>0.182432</td>\n",
       "      <td>-2.414916</td>\n",
       "      <td>-1.678159</td>\n",
       "      <td>0.802436</td>\n",
       "      <td>-1.726570</td>\n",
       "      <td>-1.213458</td>\n",
       "      <td>-1.876987</td>\n",
       "      <td>-1.315078</td>\n",
       "      <td>...</td>\n",
       "      <td>-1.811154</td>\n",
       "      <td>-2.516052</td>\n",
       "      <td>1.024149</td>\n",
       "      <td>-1.739299</td>\n",
       "      <td>0.406768</td>\n",
       "      <td>1.253458</td>\n",
       "      <td>-2.380925</td>\n",
       "      <td>-2.355762</td>\n",
       "      <td>-1.814242</td>\n",
       "      <td>-1.670028</td>\n",
       "    </tr>\n",
       "    <tr>\n",
       "      <th>3</th>\n",
       "      <td>H021-XBLS3R-M1-Q1</td>\n",
       "      <td>AASTR</td>\n",
       "      <td>-0.481549</td>\n",
       "      <td>-1.759738</td>\n",
       "      <td>-0.296455</td>\n",
       "      <td>0.976292</td>\n",
       "      <td>-0.733072</td>\n",
       "      <td>-0.810804</td>\n",
       "      <td>-1.327052</td>\n",
       "      <td>-0.500066</td>\n",
       "      <td>...</td>\n",
       "      <td>-1.982625</td>\n",
       "      <td>-1.891657</td>\n",
       "      <td>-0.934652</td>\n",
       "      <td>-2.052825</td>\n",
       "      <td>-1.745946</td>\n",
       "      <td>0.607305</td>\n",
       "      <td>-1.605360</td>\n",
       "      <td>-1.540036</td>\n",
       "      <td>-2.340112</td>\n",
       "      <td>-2.377034</td>\n",
       "    </tr>\n",
       "    <tr>\n",
       "      <th>4</th>\n",
       "      <td>H021-M2MSRE-M1-Q1</td>\n",
       "      <td>ACBC</td>\n",
       "      <td>-0.795462</td>\n",
       "      <td>-0.784477</td>\n",
       "      <td>0.288746</td>\n",
       "      <td>0.830664</td>\n",
       "      <td>1.627005</td>\n",
       "      <td>1.117730</td>\n",
       "      <td>-0.512298</td>\n",
       "      <td>0.071553</td>\n",
       "      <td>...</td>\n",
       "      <td>-2.597361</td>\n",
       "      <td>-2.609782</td>\n",
       "      <td>-1.005164</td>\n",
       "      <td>-1.348821</td>\n",
       "      <td>-0.205083</td>\n",
       "      <td>-1.273310</td>\n",
       "      <td>-1.476473</td>\n",
       "      <td>-1.751050</td>\n",
       "      <td>-2.302141</td>\n",
       "      <td>-1.765846</td>\n",
       "    </tr>\n",
       "    <tr>\n",
       "      <th>...</th>\n",
       "      <td>...</td>\n",
       "      <td>...</td>\n",
       "      <td>...</td>\n",
       "      <td>...</td>\n",
       "      <td>...</td>\n",
       "      <td>...</td>\n",
       "      <td>...</td>\n",
       "      <td>...</td>\n",
       "      <td>...</td>\n",
       "      <td>...</td>\n",
       "      <td>...</td>\n",
       "      <td>...</td>\n",
       "      <td>...</td>\n",
       "      <td>...</td>\n",
       "      <td>...</td>\n",
       "      <td>...</td>\n",
       "      <td>...</td>\n",
       "      <td>...</td>\n",
       "      <td>...</td>\n",
       "      <td>...</td>\n",
       "      <td>...</td>\n",
       "    </tr>\n",
       "    <tr>\n",
       "      <th>1839</th>\n",
       "      <td>H021-BYHFHEU-M2-Q1</td>\n",
       "      <td>VMM</td>\n",
       "      <td>0.393200</td>\n",
       "      <td>0.235131</td>\n",
       "      <td>-0.877088</td>\n",
       "      <td>0.801262</td>\n",
       "      <td>0.599496</td>\n",
       "      <td>-0.052041</td>\n",
       "      <td>-1.489120</td>\n",
       "      <td>-1.133797</td>\n",
       "      <td>...</td>\n",
       "      <td>-2.729675</td>\n",
       "      <td>-2.223789</td>\n",
       "      <td>1.170956</td>\n",
       "      <td>-1.411426</td>\n",
       "      <td>-0.330144</td>\n",
       "      <td>0.235525</td>\n",
       "      <td>-1.478528</td>\n",
       "      <td>-1.426303</td>\n",
       "      <td>-1.969946</td>\n",
       "      <td>-1.601865</td>\n",
       "    </tr>\n",
       "    <tr>\n",
       "      <th>1840</th>\n",
       "      <td>H021-VYS51F-M1-Q1</td>\n",
       "      <td>VSC</td>\n",
       "      <td>-0.109858</td>\n",
       "      <td>0.177969</td>\n",
       "      <td>0.999149</td>\n",
       "      <td>-0.416473</td>\n",
       "      <td>-0.454592</td>\n",
       "      <td>-0.972266</td>\n",
       "      <td>-1.999528</td>\n",
       "      <td>-2.062077</td>\n",
       "      <td>...</td>\n",
       "      <td>-2.012480</td>\n",
       "      <td>-3.238598</td>\n",
       "      <td>-0.047412</td>\n",
       "      <td>-1.186199</td>\n",
       "      <td>-2.171985</td>\n",
       "      <td>0.395960</td>\n",
       "      <td>-1.350378</td>\n",
       "      <td>-2.050263</td>\n",
       "      <td>-2.349782</td>\n",
       "      <td>-1.399920</td>\n",
       "    </tr>\n",
       "    <tr>\n",
       "      <th>1841</th>\n",
       "      <td>H021-1B7R18-M1-Q1</td>\n",
       "      <td>VSC</td>\n",
       "      <td>0.053191</td>\n",
       "      <td>-2.516390</td>\n",
       "      <td>0.668423</td>\n",
       "      <td>-1.445997</td>\n",
       "      <td>-1.593026</td>\n",
       "      <td>0.353921</td>\n",
       "      <td>-1.313306</td>\n",
       "      <td>-1.000417</td>\n",
       "      <td>...</td>\n",
       "      <td>-1.656409</td>\n",
       "      <td>-2.937084</td>\n",
       "      <td>-1.760477</td>\n",
       "      <td>-1.459320</td>\n",
       "      <td>-2.525625</td>\n",
       "      <td>-0.513694</td>\n",
       "      <td>-1.784874</td>\n",
       "      <td>-1.749608</td>\n",
       "      <td>-2.344643</td>\n",
       "      <td>-1.184619</td>\n",
       "    </tr>\n",
       "    <tr>\n",
       "      <th>1842</th>\n",
       "      <td>H021-FUFZFT-T1-Q1</td>\n",
       "      <td>VSC</td>\n",
       "      <td>-0.931686</td>\n",
       "      <td>0.048827</td>\n",
       "      <td>1.045210</td>\n",
       "      <td>0.620125</td>\n",
       "      <td>0.288494</td>\n",
       "      <td>-0.249849</td>\n",
       "      <td>1.396934</td>\n",
       "      <td>-0.084231</td>\n",
       "      <td>...</td>\n",
       "      <td>-2.060663</td>\n",
       "      <td>-1.817443</td>\n",
       "      <td>-1.373557</td>\n",
       "      <td>-1.131807</td>\n",
       "      <td>-1.800865</td>\n",
       "      <td>-0.534801</td>\n",
       "      <td>-2.060059</td>\n",
       "      <td>-1.987010</td>\n",
       "      <td>-1.375791</td>\n",
       "      <td>-1.685683</td>\n",
       "    </tr>\n",
       "    <tr>\n",
       "      <th>1843</th>\n",
       "      <td>H021-1B7R18-M7-Q1</td>\n",
       "      <td>VSC</td>\n",
       "      <td>-0.422122</td>\n",
       "      <td>-1.479985</td>\n",
       "      <td>1.374325</td>\n",
       "      <td>0.174604</td>\n",
       "      <td>-0.738775</td>\n",
       "      <td>-1.287418</td>\n",
       "      <td>-1.462430</td>\n",
       "      <td>-0.375774</td>\n",
       "      <td>...</td>\n",
       "      <td>-2.119067</td>\n",
       "      <td>-2.329814</td>\n",
       "      <td>-1.626911</td>\n",
       "      <td>-1.830169</td>\n",
       "      <td>1.347842</td>\n",
       "      <td>-1.852569</td>\n",
       "      <td>-1.163184</td>\n",
       "      <td>-1.988876</td>\n",
       "      <td>-2.072155</td>\n",
       "      <td>-2.126897</td>\n",
       "    </tr>\n",
       "  </tbody>\n",
       "</table>\n",
       "<p>1844 rows × 13076 columns</p>\n",
       "</div>"
      ],
      "text/plain": [
       "               Sample name code_oncotree       PHB      TBL2      SAA1  \\\n",
       "0        H021-3RLVZS-T1-Q1         AASTR  0.570269 -1.954848 -0.108304   \n",
       "1        H021-VFM3B1-T1-Q1         AASTR -0.119897 -0.913546 -2.356393   \n",
       "2     H021-3RLVZS-T1-Q1-R2         AASTR  0.182432 -2.414916 -1.678159   \n",
       "3        H021-XBLS3R-M1-Q1         AASTR -0.481549 -1.759738 -0.296455   \n",
       "4        H021-M2MSRE-M1-Q1          ACBC -0.795462 -0.784477  0.288746   \n",
       "...                    ...           ...       ...       ...       ...   \n",
       "1839    H021-BYHFHEU-M2-Q1           VMM  0.393200  0.235131 -0.877088   \n",
       "1840     H021-VYS51F-M1-Q1           VSC -0.109858  0.177969  0.999149   \n",
       "1841     H021-1B7R18-M1-Q1           VSC  0.053191 -2.516390  0.668423   \n",
       "1842     H021-FUFZFT-T1-Q1           VSC -0.931686  0.048827  1.045210   \n",
       "1843     H021-1B7R18-M7-Q1           VSC -0.422122 -1.479985  1.374325   \n",
       "\n",
       "        CDKN1B   SNRNP70    TARDBP    GALNT6    ADGRL2  ...  B4GALNT4  \\\n",
       "0     0.528920 -0.552978 -1.547589 -0.674703 -1.431098  ... -2.259616   \n",
       "1    -0.412755 -0.101366 -0.493058 -0.704860 -1.872432  ... -2.321418   \n",
       "2     0.802436 -1.726570 -1.213458 -1.876987 -1.315078  ... -1.811154   \n",
       "3     0.976292 -0.733072 -0.810804 -1.327052 -0.500066  ... -1.982625   \n",
       "4     0.830664  1.627005  1.117730 -0.512298  0.071553  ... -2.597361   \n",
       "...        ...       ...       ...       ...       ...  ...       ...   \n",
       "1839  0.801262  0.599496 -0.052041 -1.489120 -1.133797  ... -2.729675   \n",
       "1840 -0.416473 -0.454592 -0.972266 -1.999528 -2.062077  ... -2.012480   \n",
       "1841 -1.445997 -1.593026  0.353921 -1.313306 -1.000417  ... -1.656409   \n",
       "1842  0.620125  0.288494 -0.249849  1.396934 -0.084231  ... -2.060663   \n",
       "1843  0.174604 -0.738775 -1.287418 -1.462430 -0.375774  ... -2.119067   \n",
       "\n",
       "         VGLL1    CCDC18   ZDHHC12     EGLN2   GABARAP   GUCY1B2     ATOH1  \\\n",
       "0    -2.229895  1.711366 -1.893114 -0.914195  3.933296 -1.717553 -1.747781   \n",
       "1    -2.418372  1.284506 -1.944684 -2.061922  1.575512 -1.533850 -2.016380   \n",
       "2    -2.516052  1.024149 -1.739299  0.406768  1.253458 -2.380925 -2.355762   \n",
       "3    -1.891657 -0.934652 -2.052825 -1.745946  0.607305 -1.605360 -1.540036   \n",
       "4    -2.609782 -1.005164 -1.348821 -0.205083 -1.273310 -1.476473 -1.751050   \n",
       "...        ...       ...       ...       ...       ...       ...       ...   \n",
       "1839 -2.223789  1.170956 -1.411426 -0.330144  0.235525 -1.478528 -1.426303   \n",
       "1840 -3.238598 -0.047412 -1.186199 -2.171985  0.395960 -1.350378 -2.050263   \n",
       "1841 -2.937084 -1.760477 -1.459320 -2.525625 -0.513694 -1.784874 -1.749608   \n",
       "1842 -1.817443 -1.373557 -1.131807 -1.800865 -0.534801 -2.060059 -1.987010   \n",
       "1843 -2.329814 -1.626911 -1.830169  1.347842 -1.852569 -1.163184 -1.988876   \n",
       "\n",
       "          IL37     MYEOV  \n",
       "0    -2.026128 -1.951108  \n",
       "1    -1.735505 -2.259470  \n",
       "2    -1.814242 -1.670028  \n",
       "3    -2.340112 -2.377034  \n",
       "4    -2.302141 -1.765846  \n",
       "...        ...       ...  \n",
       "1839 -1.969946 -1.601865  \n",
       "1840 -2.349782 -1.399920  \n",
       "1841 -2.344643 -1.184619  \n",
       "1842 -1.375791 -1.685683  \n",
       "1843 -2.072155 -2.126897  \n",
       "\n",
       "[1844 rows x 13076 columns]"
      ]
     },
     "execution_count": 14,
     "metadata": {},
     "output_type": "execute_result"
    }
   ],
   "source": [
    "# Transforming Z-scores file to obtain values and info\n",
    "z_scores_df = df_z_scores.transpose(copy=True) \n",
    "z_scores_df = z_scores_df.reset_index()\n",
    "z_scores_df = z_scores_df.replace('zscore_','', regex=True) \n",
    "z_scores_df.rename(columns = z_scores_df.iloc[0], inplace=True)\n",
    "z_scores_df.drop(axis=0, index=0, inplace=True)\n",
    "z_scores_df['Gene names'] = z_scores_df['Gene names'].str.replace('pat_', '')\n",
    "z_scores_df = z_scores_df.set_index('Gene names') \n",
    "\n",
    "z_scores_imputed = prep.impute_normal_down_shift_distribution(z_scores_df)\n",
    "z_scores_imputed.reset_index(inplace=True)\n",
    "z_scores_imputed.rename(columns={'Gene names': 'Sample name'}, inplace=True)\n",
    "\n",
    "z_scores_initial_df = samples_metadata.merge(z_scores_imputed, left_on='Sample name', right_on='Sample name')\n",
    "z_scores_initial_df"
   ]
  },
  {
   "cell_type": "markdown",
   "id": "06bfbece",
   "metadata": {},
   "source": [
    "## Data Set Split"
   ]
  },
  {
   "cell_type": "code",
   "execution_count": 8,
   "id": "25a553a7",
   "metadata": {},
   "outputs": [
    {
     "name": "stdout",
     "output_type": "stream",
     "text": [
      "Removed samples: 203\n",
      "Remaining samples: 1457\n",
      "Classes with only one sample: 68\n",
      "Training set samples: 1109\n",
      "Held-out set samples: 348\n"
     ]
    }
   ],
   "source": [
    "#Removing samples not part of the Oncotree classification\n",
    "NOS_cases = initial_df[initial_df['code_oncotree'].str.endswith('NOS', na=False)]['code_oncotree'].unique().tolist()\n",
    "other_cases = ['missing']\n",
    "cases_to_remove = NOS_cases + other_cases\n",
    "ml_initial_df = prep.remove_class(initial_df, cases_to_remove, 'code_oncotree')\n",
    "\n",
    "# Splitting dataset into training and held-out sets1\n",
    "training_df, held_out_df = prep.data_split(ml_initial_df, split_size=0.25, classified_by='code_oncotree', export=False)\n",
    "\n",
    "#Z_scores dataset\n",
    "z_scores_training_df = z_scores_initial_df.iloc[training_df.index]"
   ]
  },
  {
   "cell_type": "markdown",
   "id": "37b6f928",
   "metadata": {},
   "source": [
    "# Class Specific Worflow"
   ]
  },
  {
   "cell_type": "code",
   "execution_count": 9,
   "id": "52604b5e",
   "metadata": {},
   "outputs": [],
   "source": [
    "#Set Classification Parameters\n",
    "target_class = ['CHDM'] \n",
    "classified_by = 'code_oncotree'\n",
    "samples_column = 'Sample name'\n"
   ]
  },
  {
   "cell_type": "code",
   "execution_count": 10,
   "id": "0b2520a4",
   "metadata": {},
   "outputs": [
    {
     "name": "stdout",
     "output_type": "stream",
     "text": [
      " 28 proteins identified in 70.0% of ['CHDM'] samples\n",
      "\n",
      "Number of samples per class:\n",
      "Classifier\n",
      "0    1030\n",
      "1      79\n",
      "Name: count, dtype: int64\n",
      "\n",
      "\n",
      "Number of samples per class:\n",
      "Classifier\n",
      "0    321\n",
      "1     27\n",
      "Name: count, dtype: int64\n",
      "\n",
      "\n",
      "Number of samples per class:\n",
      "Classifier\n",
      "0    1030\n",
      "1      79\n",
      "Name: count, dtype: int64\n",
      "\n"
     ]
    }
   ],
   "source": [
    "\n",
    "#Obtaining high confidence proteins by peptides\n",
    "entity_proteins_by_peptides = fs.get_high_confidence_proteins(peptides_df_binary, target_class, classified_by, threshold=0.7)\n",
    "\n",
    "# Binary labeling for specific class classification \n",
    "entity_training_df = fs.binary_labeling(training_df, classified_by=classified_by, true_class=target_class)\n",
    "entity_ho_df = fs.binary_labeling(held_out_df, classified_by=classified_by, true_class=target_class)\n",
    "\n",
    "entity_z_scores_train_df = fs.binary_labeling(z_scores_training_df, classified_by=classified_by, true_class=target_class)\n",
    "\n",
    "\n",
    "# 1st Filter - Filtering entity training and held-out dataframes by proteins with peptides\n",
    "entity_training_df = entity_training_df.filter(items=[samples_column, classified_by, 'Classifier'] + entity_proteins_by_peptides)\n",
    "entity_ho_df = entity_ho_df.filter(items=[samples_column, classified_by, 'Classifier'] + entity_proteins_by_peptides)\n",
    "\n",
    "entity_z_scores_train_df = entity_z_scores_train_df.filter(items=[samples_column, classified_by, 'Classifier'] + entity_proteins_by_peptides)"
   ]
  },
  {
   "cell_type": "markdown",
   "id": "89bd5127",
   "metadata": {},
   "source": [
    "## Feature Selection"
   ]
  },
  {
   "cell_type": "markdown",
   "id": "999c958e",
   "metadata": {},
   "source": [
    "### Hyperparametes for ElasticNet\n",
    "Calculated in Z-scores"
   ]
  },
  {
   "cell_type": "code",
   "execution_count": 11,
   "id": "fad0b1f5",
   "metadata": {},
   "outputs": [
    {
     "name": "stdout",
     "output_type": "stream",
     "text": [
      "Grid search completed in 1.78 seconds\n",
      "Best parameters: {'C': 1, 'l1_ratio': 0.5, 'max_iter': 10000, 'penalty': 'elasticnet', 'solver': 'saga'}\n",
      "Best score: 0.6773657341657652\n"
     ]
    }
   ],
   "source": [
    "entity_cv_results, entity_best_params, entity_best_score, entity_grid_search_obj = fs.hparameter_grid_search(entity_z_scores_train_df, 4, l1_ratio_list=[0.7,0.5], C_list=[0.1,1], classified_by='code_oncotree')"
   ]
  },
  {
   "cell_type": "markdown",
   "id": "9a1fddbc",
   "metadata": {},
   "source": [
    "### Feature Selection by ElasticNet Cross-Validation"
   ]
  },
  {
   "cell_type": "code",
   "execution_count": 12,
   "id": "e7785ee3",
   "metadata": {},
   "outputs": [
    {
     "name": "stderr",
     "output_type": "stream",
     "text": [
      "Running Logistic Regression:   0%|          | 0/25 [00:00<?, ?iteration/s]Exception ignored in: <function ResourceTracker.__del__ at 0x7cf6e258dee0>\n",
      "Traceback (most recent call last):\n",
      "  File \"/home/lestrada/miniconda3/envs/tumor_type_clasifier/lib/python3.13/multiprocessing/resource_tracker.py\", line 82, in __del__\n",
      "  File \"/home/lestrada/miniconda3/envs/tumor_type_clasifier/lib/python3.13/multiprocessing/resource_tracker.py\", line 91, in _stop\n",
      "  File \"/home/lestrada/miniconda3/envs/tumor_type_clasifier/lib/python3.13/multiprocessing/resource_tracker.py\", line 116, in _stop_locked\n",
      "ChildProcessError: [Errno 10] No child processes\n",
      "Exception ignored in: <function ResourceTracker.__del__ at 0x7a0066f8dee0>\n",
      "Traceback (most recent call last):\n",
      "  File \"/home/lestrada/miniconda3/envs/tumor_type_clasifier/lib/python3.13/multiprocessing/resource_tracker.py\", line 82, in __del__\n",
      "  File \"/home/lestrada/miniconda3/envs/tumor_type_clasifier/lib/python3.13/multiprocessing/resource_tracker.py\", line 91, in _stop\n",
      "  File \"/home/lestrada/miniconda3/envs/tumor_type_clasifier/lib/python3.13/multiprocessing/resource_tracker.py\", line 116, in _stop_locked\n",
      "ChildProcessError: [Errno 10] No child processes\n",
      "Exception ignored in: <function ResourceTracker.__del__ at 0x7c1ba1189ee0>\n",
      "Traceback (most recent call last):\n",
      "  File \"/home/lestrada/miniconda3/envs/tumor_type_clasifier/lib/python3.13/multiprocessing/resource_tracker.py\", line 82, in __del__\n",
      "  File \"/home/lestrada/miniconda3/envs/tumor_type_clasifier/lib/python3.13/multiprocessing/resource_tracker.py\", line 91, in _stop\n",
      "  File \"/home/lestrada/miniconda3/envs/tumor_type_clasifier/lib/python3.13/multiprocessing/resource_tracker.py\", line 116, in _stop_locked\n",
      "ChildProcessError: [Errno 10] No child processes\n",
      "Exception ignored in: <function ResourceTracker.__del__ at 0x7b7f6d191ee0>\n",
      "Traceback (most recent call last):\n",
      "  File \"/home/lestrada/miniconda3/envs/tumor_type_clasifier/lib/python3.13/multiprocessing/resource_tracker.py\", line 82, in __del__\n",
      "  File \"/home/lestrada/miniconda3/envs/tumor_type_clasifier/lib/python3.13/multiprocessing/resource_tracker.py\", line 91, in _stop\n",
      "  File \"/home/lestrada/miniconda3/envs/tumor_type_clasifier/lib/python3.13/multiprocessing/resource_tracker.py\", line 116, in _stop_locked\n",
      "ChildProcessError: [Errno 10] No child processes\n",
      "Exception ignored in: <function ResourceTracker.__del__ at 0x72537378dee0>\n",
      "Traceback (most recent call last):\n",
      "  File \"/home/lestrada/miniconda3/envs/tumor_type_clasifier/lib/python3.13/multiprocessing/resource_tracker.py\", line 82, in __del__\n",
      "  File \"/home/lestrada/miniconda3/envs/tumor_type_clasifier/lib/python3.13/multiprocessing/resource_tracker.py\", line 91, in _stop\n",
      "  File \"/home/lestrada/miniconda3/envs/tumor_type_clasifier/lib/python3.13/multiprocessing/resource_tracker.py\", line 116, in _stop_locked\n",
      "ChildProcessError: [Errno 10] No child processes\n",
      "Exception ignored in: <function ResourceTracker.__del__ at 0x7f0ba798dee0>\n",
      "Traceback (most recent call last):\n",
      "  File \"/home/lestrada/miniconda3/envs/tumor_type_clasifier/lib/python3.13/multiprocessing/resource_tracker.py\", line 82, in __del__\n",
      "  File \"/home/lestrada/miniconda3/envs/tumor_type_clasifier/lib/python3.13/multiprocessing/resource_tracker.py\", line 91, in _stop\n",
      "  File \"/home/lestrada/miniconda3/envs/tumor_type_clasifier/lib/python3.13/multiprocessing/resource_tracker.py\", line 116, in _stop_locked\n",
      "ChildProcessError: [Errno 10] No child processes\n",
      "Exception ignored in: <function ResourceTracker.__del__ at 0x77f130795ee0>\n",
      "Traceback (most recent call last):\n",
      "  File \"/home/lestrada/miniconda3/envs/tumor_type_clasifier/lib/python3.13/multiprocessing/resource_tracker.py\", line 82, in __del__\n",
      "  File \"/home/lestrada/miniconda3/envs/tumor_type_clasifier/lib/python3.13/multiprocessing/resource_tracker.py\", line 91, in _stop\n",
      "  File \"/home/lestrada/miniconda3/envs/tumor_type_clasifier/lib/python3.13/multiprocessing/resource_tracker.py\", line 116, in _stop_locked\n",
      "ChildProcessError: [Errno 10] No child processes\n",
      "Exception ignored in: <function ResourceTracker.__del__ at 0x7ca70c199ee0>\n",
      "Traceback (most recent call last):\n",
      "  File \"/home/lestrada/miniconda3/envs/tumor_type_clasifier/lib/python3.13/multiprocessing/resource_tracker.py\", line 82, in __del__\n",
      "  File \"/home/lestrada/miniconda3/envs/tumor_type_clasifier/lib/python3.13/multiprocessing/resource_tracker.py\", line 91, in _stop\n",
      "  File \"/home/lestrada/miniconda3/envs/tumor_type_clasifier/lib/python3.13/multiprocessing/resource_tracker.py\", line 116, in _stop_locked\n",
      "ChildProcessError: [Errno 10] No child processes\n",
      "Running Logistic Regression: 100%|██████████| 25/25 [00:00<00:00, 35.55iteration/s]\n"
     ]
    },
    {
     "name": "stdout",
     "output_type": "stream",
     "text": [
      "DataFrame exported to: /home/lestrada/tumor_type_prediction/notebooks/data/data_output/BRCA_250812_1030_results/feature_selection/CHDM_coefficients.xlsx\n"
     ]
    }
   ],
   "source": [
    "entity_cross_val_coeffs = fs.elnet_wrapper(entity_z_scores_train_df,classified_by=classified_by, tumor_type_name='CHDM', l1_ratio=entity_best_params['l1_ratio'], C=entity_best_params['C'], n_splits=4, n_repeats=25,n_jobs=16, export=True)"
   ]
  },
  {
   "cell_type": "code",
   "execution_count": 13,
   "id": "22c53150",
   "metadata": {},
   "outputs": [
    {
     "name": "stdout",
     "output_type": "stream",
     "text": [
      "With  28  folds, the following statistics were obtained, from feature selection:\n",
      "• Mean MCC score: 0.5628 ± 0.0529\n",
      "\n",
      "----------------------------------------\n",
      "• Top 3 proteins with highest coefficients:\n",
      "           mean       std  Freq  Wald Chi-Square   p-value_corrected  \\\n",
      "TCAF2  1.370146  0.154238   1.0        78.913606            0.000000   \n",
      "PFAS   0.910248  0.185453   1.0        24.090807            0.000003   \n",
      "AMPD2  0.661815  0.199735   1.0        10.979075            0.002172   \n",
      "\n",
      "       Significant  \n",
      "TCAF2          1.0  \n",
      "PFAS           1.0  \n",
      "AMPD2          1.0  \n",
      "\n",
      "----------------------------------------\n",
      "• List of significant proteins: ['TCAF2', 'PFAS', 'AMPD2', 'KRT5', 'CCT2', 'MSH6', 'BIN1', 'PPA1', 'INTS3']\n",
      "• Number of significant proteins: 9\n",
      "\n",
      "----------------------------------------\n",
      " ✖ Warning! ✖: The mean MCC score is below 0.7, indicating poor model performance.\n"
     ]
    }
   ],
   "source": [
    "entity_stats_try, entity_proteins = fs.statistic_from_coefficients(entity_cross_val_coeffs, target_class)"
   ]
  },
  {
   "cell_type": "markdown",
   "id": "a6c19ce5",
   "metadata": {},
   "source": [
    "## Model Fitting\n",
    "Calculated on intensities"
   ]
  },
  {
   "cell_type": "markdown",
   "id": "72a324a7",
   "metadata": {},
   "source": [
    "### Reshaping dataset for training and test"
   ]
  },
  {
   "cell_type": "code",
   "execution_count": 14,
   "id": "b07d03c8",
   "metadata": {},
   "outputs": [],
   "source": [
    "entity_training_fs = fs.reshape_df_for_fitting(entity_training_df, entity_proteins)\n",
    "entity_test_fs = fs.reshape_df_for_fitting(entity_ho_df, entity_proteins)\n"
   ]
  },
  {
   "cell_type": "markdown",
   "id": "57dde188",
   "metadata": {},
   "source": [
    "### Hyperparameter Selection for Logistic Regression"
   ]
  },
  {
   "cell_type": "code",
   "execution_count": 15,
   "id": "68635a44",
   "metadata": {},
   "outputs": [
    {
     "name": "stdout",
     "output_type": "stream",
     "text": [
      "• Running for random_state=0\n",
      "Inner fold model did not converged.\n",
      "Inner fold model did not converged.\n",
      "Inner fold model did not converged.\n",
      "Inner fold model did not converged.\n",
      "Inner fold model did not converged.\n",
      "Inner fold model did not converged.\n",
      "Inner fold model did not converged.\n",
      "Inner fold model did not converged.\n",
      "1 Inner fold best parameter={'C': 10}, Score=0.5092, Outer Validation MCC Score: 0.4426\n",
      "\n",
      "Inner fold model did not converged.\n",
      "Inner fold model did not converged.\n",
      "Inner fold model did not converged.\n",
      "Inner fold model did not converged.\n",
      "Inner fold model did not converged.\n",
      "Inner fold model did not converged.\n",
      "Inner fold model did not converged.\n",
      "Inner fold model did not converged.\n",
      "2 Inner fold best parameter={'C': 1}, Score=0.4786, Outer Validation MCC Score: 0.4793\n",
      "\n",
      "Inner fold model did not converged.\n",
      "Inner fold model did not converged.\n",
      "Inner fold model did not converged.\n",
      "Inner fold model did not converged.\n",
      "Inner fold model did not converged.\n",
      "Inner fold model did not converged.\n",
      "3 Inner fold best parameter={'C': 10}, Score=0.5619, Outer Validation MCC Score: 0.4790\n",
      "\n",
      "Average MCC across all outer folds: 0.4670\n",
      "\n",
      "--------------------------------------------------\n",
      "• Running for random_state=1\n",
      "Inner fold model did not converged.\n",
      "Inner fold model did not converged.\n",
      "Inner fold model did not converged.\n",
      "Inner fold model did not converged.\n",
      "Inner fold model did not converged.\n",
      "Inner fold model did not converged.\n",
      "Inner fold model did not converged.\n",
      "1 Inner fold best parameter={'C': 10}, Score=0.5111, Outer Validation MCC Score: 0.4970\n",
      "\n",
      "Inner fold model did not converged.\n",
      "Inner fold model did not converged.\n",
      "Inner fold model did not converged.\n",
      "Inner fold model did not converged.\n",
      "Inner fold model did not converged.\n",
      "Inner fold model did not converged.\n",
      "Inner fold model did not converged.\n",
      "Inner fold model did not converged.\n",
      "Inner fold model did not converged.\n",
      "2 Inner fold best parameter={'C': 1}, Score=0.5743, Outer Validation MCC Score: 0.4046\n",
      "\n",
      "Inner fold model did not converged.\n",
      "Inner fold model did not converged.\n",
      "Inner fold model did not converged.\n",
      "Inner fold model did not converged.\n",
      "Inner fold model did not converged.\n",
      "Inner fold model did not converged.\n",
      "Inner fold model did not converged.\n",
      "3 Inner fold best parameter={'C': 1}, Score=0.4426, Outer Validation MCC Score: 0.4171\n",
      "\n",
      "Average MCC across all outer folds: 0.4396\n",
      "\n",
      "--------------------------------------------------\n",
      "• Running for random_state=2\n",
      "Inner fold model did not converged.\n",
      "Inner fold model did not converged.\n",
      "Inner fold model did not converged.\n",
      "Inner fold model did not converged.\n",
      "Inner fold model did not converged.\n",
      "Inner fold model did not converged.\n",
      "Inner fold model did not converged.\n",
      "1 Inner fold best parameter={'C': 10}, Score=0.4955, Outer Validation MCC Score: 0.5407\n",
      "\n",
      "Inner fold model did not converged.\n",
      "Inner fold model did not converged.\n",
      "Inner fold model did not converged.\n",
      "Inner fold model did not converged.\n",
      "Inner fold model did not converged.\n",
      "Inner fold model did not converged.\n",
      "Inner fold model did not converged.\n",
      "2 Inner fold best parameter={'C': 10}, Score=0.5382, Outer Validation MCC Score: 0.5510\n",
      "\n",
      "Inner fold model did not converged.\n",
      "Inner fold model did not converged.\n",
      "Inner fold model did not converged.\n",
      "Inner fold model did not converged.\n",
      "3 Inner fold best parameter={'C': 10}, Score=0.5150, Outer Validation MCC Score: 0.4973\n",
      "\n",
      "Average MCC across all outer folds: 0.5297\n",
      "\n",
      "--------------------------------------------------\n",
      "• Running for random_state=3\n",
      "Inner fold model did not converged.\n",
      "Inner fold model did not converged.\n",
      "Inner fold model did not converged.\n",
      "Inner fold model did not converged.\n",
      "Inner fold model did not converged.\n",
      "Inner fold model did not converged.\n",
      "Inner fold model did not converged.\n",
      "Inner fold model did not converged.\n",
      "Inner fold model did not converged.\n",
      "1 Inner fold best parameter={'C': 10}, Score=0.5198, Outer Validation MCC Score: 0.5151\n",
      "\n",
      "Inner fold model did not converged.\n",
      "Inner fold model did not converged.\n",
      "Inner fold model did not converged.\n",
      "Inner fold model did not converged.\n",
      "Inner fold model did not converged.\n",
      "2 Inner fold best parameter={'C': 10}, Score=0.5011, Outer Validation MCC Score: 0.5427\n",
      "\n",
      "Inner fold model did not converged.\n",
      "Inner fold model did not converged.\n",
      "Inner fold model did not converged.\n",
      "Inner fold model did not converged.\n",
      "Inner fold model did not converged.\n",
      "Inner fold model did not converged.\n",
      "Inner fold model did not converged.\n",
      "Inner fold model did not converged.\n",
      "3 Inner fold best parameter={'C': 10}, Score=0.4822, Outer Validation MCC Score: 0.4880\n",
      "\n",
      "Average MCC across all outer folds: 0.5153\n",
      "\n",
      "--------------------------------------------------\n",
      "• Running for random_state=4\n",
      "Inner fold model did not converged.\n",
      "Inner fold model did not converged.\n",
      "Inner fold model did not converged.\n",
      "Inner fold model did not converged.\n",
      "Inner fold model did not converged.\n",
      "Inner fold model did not converged.\n",
      "Inner fold model did not converged.\n",
      "Inner fold model did not converged.\n",
      "Inner fold model did not converged.\n",
      "1 Inner fold best parameter={'C': 10}, Score=0.5697, Outer Validation MCC Score: 0.4663\n",
      "\n",
      "Inner fold model did not converged.\n",
      "Inner fold model did not converged.\n",
      "Inner fold model did not converged.\n",
      "Inner fold model did not converged.\n",
      "Inner fold model did not converged.\n",
      "Inner fold model did not converged.\n",
      "Inner fold model did not converged.\n",
      "2 Inner fold best parameter={'C': 1}, Score=0.4490, Outer Validation MCC Score: 0.4719\n",
      "\n",
      "Inner fold model did not converged.\n",
      "Inner fold model did not converged.\n",
      "Inner fold model did not converged.\n",
      "Inner fold model did not converged.\n",
      "Inner fold model did not converged.\n",
      "3 Inner fold best parameter={'C': 10}, Score=0.4961, Outer Validation MCC Score: 0.5389\n",
      "\n",
      "Average MCC across all outer folds: 0.4924\n",
      "\n",
      "--------------------------------------------------\n",
      "                                                       10  \\\n",
      "scores  [0.44263369499293914, 0.47901778876993906, 0.4...   \n",
      "count                                                  11   \n",
      "avg                                              0.505336   \n",
      "\n",
      "                                                       1   \n",
      "scores  [0.4792795993172215, 0.40462148468046216, 0.41...  \n",
      "count                                                   4  \n",
      "avg                                              0.443214  \n"
     ]
    }
   ],
   "source": [
    "entity_to_nest_cv_results = mf.wrapper_nested_cv(entity_training_fs, random_state_tries=5, n_splits=3, classified_by=classified_by)\n",
    "entity_to_nest_hp = mf.nested_cv_hparameters_selection(entity_to_nest_cv_results)"
   ]
  },
  {
   "cell_type": "code",
   "execution_count": 16,
   "id": "c630f68f",
   "metadata": {},
   "outputs": [],
   "source": [
    "hyperparameter_C = pd.DataFrame(entity_to_nest_hp).T.sort_values(by='avg', ascending=False).index.tolist()[0]"
   ]
  },
  {
   "cell_type": "code",
   "execution_count": 17,
   "id": "1b69a286",
   "metadata": {},
   "outputs": [
    {
     "data": {
      "text/plain": [
       "10"
      ]
     },
     "execution_count": 17,
     "metadata": {},
     "output_type": "execute_result"
    }
   ],
   "source": [
    "hyperparameter_C"
   ]
  },
  {
   "cell_type": "markdown",
   "id": "b1b535ce",
   "metadata": {},
   "source": [
    "### Model Fit"
   ]
  },
  {
   "cell_type": "code",
   "execution_count": 18,
   "id": "737c7a0a",
   "metadata": {},
   "outputs": [
    {
     "name": "stdout",
     "output_type": "stream",
     "text": [
      "Model saved as CHDM_log_reg_ridge_model.pkl\n"
     ]
    },
    {
     "name": "stderr",
     "output_type": "stream",
     "text": [
      "/home/lestrada/miniconda3/envs/tumor_type_clasifier/lib/python3.13/site-packages/sklearn/linear_model/_sag.py:348: ConvergenceWarning: The max_iter was reached which means the coef_ did not converge\n",
      "  warnings.warn(\n"
     ]
    }
   ],
   "source": [
    "entity_log_reg_model = mf.logistic_regression_ridge( entity_training_fs, hyperparameter_C, target_class, classified_by=classified_by) "
   ]
  },
  {
   "cell_type": "code",
   "execution_count": 19,
   "id": "05fd7658",
   "metadata": {},
   "outputs": [
    {
     "name": "stdout",
     "output_type": "stream",
     "text": [
      "# of Iterations: [10000]\n",
      "MCC train: 0.47319156771586096\n",
      "MCC test: 0.4749539249389099\n",
      "F1 Positive: 0.47058823529411764\n"
     ]
    }
   ],
   "source": [
    "entity_coefficients, entity_train_probabilities, entity_test_probabilities = mf.logistic_regression_results(entity_log_reg_model, entity_training_fs, entity_ho_df, target_class, classified_by=classified_by)"
   ]
  },
  {
   "cell_type": "code",
   "execution_count": 20,
   "id": "aaef3c09",
   "metadata": {},
   "outputs": [
    {
     "name": "stdout",
     "output_type": "stream",
     "text": [
      "------------------------------------\n",
      "•General Scores:\n",
      "MCC Score: 0.4749539249389099\n",
      "F1 Macro: 0.6898395721925134\n",
      "F1 Micro: 0.8448275862068966\n",
      "F1 Entity Score: 0.47058823529411764\n",
      "\n",
      "------------------------------------\n",
      "•Confusion Matrix:\n",
      "  TN | FP\n",
      "[[270  51]\n",
      " [  3  24]]\n",
      "  FN | TP\n",
      "\n",
      "------------------------------------\n",
      "•False Positives:\n",
      "              Sample name code_oncotree  Classifier  Probability  Predicted\n",
      "0       H021-3RLVZS-T1-Q1         AASTR           0     0.873161        1.0\n",
      "2       H021-T1B3YD-M1-Q1           ACC           0     0.986838        1.0\n",
      "7       H021-ADE19T-M1-Q1           ACC           0     0.561760        1.0\n",
      "16      H021-XQG7LH-T1-Q1          ANGS           0     0.695787        1.0\n",
      "42         H021-1AZ5GH-T1            BA           0     0.907111        1.0\n",
      "46     K26K-AKQTJ4-M12-P1          BRCA           0     0.999924        1.0\n",
      "56     K26K-RTLHQJ-M11-Q1          BRCA           0     0.787424        1.0\n",
      "68     K26K-YN54AN-M11-Q1          BRCA           0     0.586034        1.0\n",
      "73     K26K-L8XPSZ-M11-Q1          BRCA           0     0.908107        1.0\n",
      "75     K26K-7ATS4U-M12-Q1          BRCA           0     0.704316        1.0\n",
      "81      H021-4X511D-M2-Q1          CEAD           0     0.962066        1.0\n",
      "112     H021-PJCDQK-T1-Q1           CHS           0     0.965034        1.0\n",
      "113     H021-REHPN7-T1-Q2           CHS           0     0.959965        1.0\n",
      "114    H021-WAPKKMA-T1-Q1           CHS           0     0.578228        1.0\n",
      "121        H021-1GLAY6-T3          DDLS           0     0.981823        1.0\n",
      "124     H021-WNF9LY-T2-Q1          DDLS           0     0.990266        1.0\n",
      "133     H021-7KHCMY-T1-Q1         DSRCT           0     0.788264        1.0\n",
      "134     H021-P691WD-M4-E2          EHAE           0     0.638597        1.0\n",
      "135     H021-TU8PQ4-T2-E2          EHAE           0     0.790091        1.0\n",
      "145       I024-032-1T1-P1          ERMS           0     0.759687        1.0\n",
      "163        H021-W91N9P-M1          FIBS           0     0.611405        1.0\n",
      "177        H021-VN7KR5-T3          IHCH           0     0.759945        1.0\n",
      "209     H021-BPS42D-T2-Q1          LUNE           0     0.956962        1.0\n",
      "211     H021-DUNQJ4-T1-Q1           MEL           0     0.909150        1.0\n",
      "213     H021-PMCF88-M1-Q1           MEL           0     0.652381        1.0\n",
      "215        H021-RF6GGV-T1           MFH           0     0.592811        1.0\n",
      "218     H021-F3AWG4-M3-Q1           MFH           0     0.950551        1.0\n",
      "222        H021-ENQC15-T3           MFS           0     0.743309        1.0\n",
      "223     H021-REMYWJ-T1-Q1           MFS           0     0.606264        1.0\n",
      "227     H021-CQK51F-M1-Q1         MPNST           0     0.869403        1.0\n",
      "235     H021-BXZS35-M1-Q2         MYCHS           0     0.859747        1.0\n",
      "244     H021-638DT1-M1-Q1            OS           0     0.524059        1.0\n",
      "245     H021-NSM3WK-M2-Q1            OS           0     0.918641        1.0\n",
      "246     H021-Z58MC6-T1-Q1            OS           0     0.507817        1.0\n",
      "254     H021-3SG1C4-T1-Q1          PAAD           0     0.886699        1.0\n",
      "260     H021-G1XT3E-T3-Q1         PANET           0     0.576626        1.0\n",
      "265     H021-FAEDHG-M1-Q1        PEMESO           0     0.990611        1.0\n",
      "268  PLAGL-T2490324-T1-R3        PLAGL1           0     0.720904        1.0\n",
      "272        H021-XP5T1N-M4         PLRMS           0     0.735318        1.0\n",
      "275     H021-5867EC-M5-Q1           PHC           0     0.980512        1.0\n",
      "276     H021-85264R-M1-Q1           RCC           0     0.554387        1.0\n",
      "277     H021-UK5YMH-M6-Q1           RCC           0     0.574085        1.0\n",
      "287     H021-LKCJEL-U1-Q1         SCRMS           0     0.927731        1.0\n",
      "304     H021-S5NH1G-M1-Q1           SNA           0     0.843508        1.0\n",
      "306     H021-JLFYAT-T2-Q1          STAD           0     0.621069        1.0\n",
      "307     H021-9GE5AQ-M1-Q1          STAD           0     0.872075        1.0\n",
      "320     H021-8EFMUF-T2-Q1          SYNS           0     0.508075        1.0\n",
      "321     H021-L2R2M9-T2-Q1          SYNS           0     0.856829        1.0\n",
      "324     H021-8HZGNY-T1-Q1          THAP           0     0.552593        1.0\n",
      "338     H021-9Q12BY-M1-Q1          ULMS           0     0.897338        1.0\n",
      "343     H021-98DXXQ-M3-Q1            UM           0     0.758321        1.0\n",
      "\n",
      "------------------------------------\n",
      "•False Negatives:\n",
      "           Sample name code_oncotree  Classifier  Probability  Predicted\n",
      "85   H021-9G2S1F-T1-E2          CHDM           1     0.182742        0.0\n",
      "87      H021-YUE8CH-T1          CHDM           1     0.394440        0.0\n",
      "105  S033-33+035-T1-Q1          CHDM           1     0.223405        0.0\n"
     ]
    },
    {
     "name": "stderr",
     "output_type": "stream",
     "text": [
      "Exception ignored in: <function ResourceTracker.__del__ at 0x76871d785ee0>\n",
      "Traceback (most recent call last):\n",
      "  File \"/home/lestrada/miniconda3/envs/tumor_type_clasifier/lib/python3.13/multiprocessing/resource_tracker.py\", line 82, in __del__\n",
      "  File \"/home/lestrada/miniconda3/envs/tumor_type_clasifier/lib/python3.13/multiprocessing/resource_tracker.py\", line 91, in _stop\n",
      "  File \"/home/lestrada/miniconda3/envs/tumor_type_clasifier/lib/python3.13/multiprocessing/resource_tracker.py\", line 116, in _stop_locked\n",
      "ChildProcessError: [Errno 10] No child processes\n",
      "Exception ignored in: <function ResourceTracker.__del__ at 0x768675391ee0>\n",
      "Traceback (most recent call last):\n",
      "  File \"/home/lestrada/miniconda3/envs/tumor_type_clasifier/lib/python3.13/multiprocessing/resource_tracker.py\", line 82, in __del__\n",
      "  File \"/home/lestrada/miniconda3/envs/tumor_type_clasifier/lib/python3.13/multiprocessing/resource_tracker.py\", line 91, in _stop\n",
      "  File \"/home/lestrada/miniconda3/envs/tumor_type_clasifier/lib/python3.13/multiprocessing/resource_tracker.py\", line 116, in _stop_locked\n",
      "ChildProcessError: [Errno 10] No child processes\n",
      "Exception ignored in: <function ResourceTracker.__del__ at 0x70b7e3795ee0>\n",
      "Traceback (most recent call last):\n",
      "  File \"/home/lestrada/miniconda3/envs/tumor_type_clasifier/lib/python3.13/multiprocessing/resource_tracker.py\", line 82, in __del__\n",
      "  File \"/home/lestrada/miniconda3/envs/tumor_type_clasifier/lib/python3.13/multiprocessing/resource_tracker.py\", line 91, in _stop\n",
      "  File \"/home/lestrada/miniconda3/envs/tumor_type_clasifier/lib/python3.13/multiprocessing/resource_tracker.py\", line 116, in _stop_locked\n",
      "ChildProcessError: [Errno 10] No child processes\n",
      "Exception ignored in: <function ResourceTracker.__del__ at 0x72d330789ee0>\n",
      "Traceback (most recent call last):\n",
      "  File \"/home/lestrada/miniconda3/envs/tumor_type_clasifier/lib/python3.13/multiprocessing/resource_tracker.py\", line 82, in __del__\n",
      "  File \"/home/lestrada/miniconda3/envs/tumor_type_clasifier/lib/python3.13/multiprocessing/resource_tracker.py\", line 91, in _stop\n",
      "  File \"/home/lestrada/miniconda3/envs/tumor_type_clasifier/lib/python3.13/multiprocessing/resource_tracker.py\", line 116, in _stop_locked\n",
      "ChildProcessError: [Errno 10] No child processes\n",
      "Exception ignored in: <function ResourceTracker.__del__ at 0x727901f81ee0>\n",
      "Traceback (most recent call last):\n",
      "  File \"/home/lestrada/miniconda3/envs/tumor_type_clasifier/lib/python3.13/multiprocessing/resource_tracker.py\", line 82, in __del__\n",
      "  File \"/home/lestrada/miniconda3/envs/tumor_type_clasifier/lib/python3.13/multiprocessing/resource_tracker.py\", line 91, in _stop\n",
      "  File \"/home/lestrada/miniconda3/envs/tumor_type_clasifier/lib/python3.13/multiprocessing/resource_tracker.py\", line 116, in _stop_locked\n",
      "ChildProcessError: [Errno 10] No child processes\n",
      "Exception ignored in: <function ResourceTracker.__del__ at 0x766a8f185ee0>\n",
      "Traceback (most recent call last):\n",
      "  File \"/home/lestrada/miniconda3/envs/tumor_type_clasifier/lib/python3.13/multiprocessing/resource_tracker.py\", line 82, in __del__\n",
      "  File \"/home/lestrada/miniconda3/envs/tumor_type_clasifier/lib/python3.13/multiprocessing/resource_tracker.py\", line 91, in _stop\n",
      "  File \"/home/lestrada/miniconda3/envs/tumor_type_clasifier/lib/python3.13/multiprocessing/resource_tracker.py\", line 116, in _stop_locked\n",
      "ChildProcessError: [Errno 10] No child processes\n",
      "Exception ignored in: <function ResourceTracker.__del__ at 0x7449be97dee0>\n",
      "Traceback (most recent call last):\n",
      "  File \"/home/lestrada/miniconda3/envs/tumor_type_clasifier/lib/python3.13/multiprocessing/resource_tracker.py\", line 82, in __del__\n",
      "  File \"/home/lestrada/miniconda3/envs/tumor_type_clasifier/lib/python3.13/multiprocessing/resource_tracker.py\", line 91, in _stop\n",
      "  File \"/home/lestrada/miniconda3/envs/tumor_type_clasifier/lib/python3.13/multiprocessing/resource_tracker.py\", line 116, in _stop_locked\n",
      "ChildProcessError: [Errno 10] No child processes\n",
      "Exception ignored in: <function ResourceTracker.__del__ at 0x78b8c2189ee0>\n",
      "Traceback (most recent call last):\n",
      "  File \"/home/lestrada/miniconda3/envs/tumor_type_clasifier/lib/python3.13/multiprocessing/resource_tracker.py\", line 82, in __del__\n",
      "  File \"/home/lestrada/miniconda3/envs/tumor_type_clasifier/lib/python3.13/multiprocessing/resource_tracker.py\", line 91, in _stop\n",
      "  File \"/home/lestrada/miniconda3/envs/tumor_type_clasifier/lib/python3.13/multiprocessing/resource_tracker.py\", line 116, in _stop_locked\n",
      "ChildProcessError: [Errno 10] No child processes\n",
      "Exception ignored in: <function ResourceTracker.__del__ at 0x7ce7adf85ee0>\n",
      "Traceback (most recent call last):\n",
      "  File \"/home/lestrada/miniconda3/envs/tumor_type_clasifier/lib/python3.13/multiprocessing/resource_tracker.py\", line 82, in __del__\n",
      "  File \"/home/lestrada/miniconda3/envs/tumor_type_clasifier/lib/python3.13/multiprocessing/resource_tracker.py\", line 91, in _stop\n",
      "  File \"/home/lestrada/miniconda3/envs/tumor_type_clasifier/lib/python3.13/multiprocessing/resource_tracker.py\", line 116, in _stop_locked\n",
      "ChildProcessError: [Errno 10] No child processes\n",
      "Exception ignored in: <function ResourceTracker.__del__ at 0x700ccdb8dee0>\n",
      "Traceback (most recent call last):\n",
      "  File \"/home/lestrada/miniconda3/envs/tumor_type_clasifier/lib/python3.13/multiprocessing/resource_tracker.py\", line 82, in __del__\n",
      "  File \"/home/lestrada/miniconda3/envs/tumor_type_clasifier/lib/python3.13/multiprocessing/resource_tracker.py\", line 91, in _stop\n",
      "  File \"/home/lestrada/miniconda3/envs/tumor_type_clasifier/lib/python3.13/multiprocessing/resource_tracker.py\", line 116, in _stop_locked\n",
      "ChildProcessError: [Errno 10] No child processes\n",
      "Exception ignored in: <function ResourceTracker.__del__ at 0x7613be995ee0>\n",
      "Traceback (most recent call last):\n",
      "  File \"/home/lestrada/miniconda3/envs/tumor_type_clasifier/lib/python3.13/multiprocessing/resource_tracker.py\", line 82, in __del__\n",
      "  File \"/home/lestrada/miniconda3/envs/tumor_type_clasifier/lib/python3.13/multiprocessing/resource_tracker.py\", line 91, in _stop\n",
      "  File \"/home/lestrada/miniconda3/envs/tumor_type_clasifier/lib/python3.13/multiprocessing/resource_tracker.py\", line 116, in _stop_locked\n",
      "ChildProcessError: [Errno 10] No child processes\n",
      "Exception ignored in: <function ResourceTracker.__del__ at 0x7541ed189ee0>\n",
      "Traceback (most recent call last):\n",
      "  File \"/home/lestrada/miniconda3/envs/tumor_type_clasifier/lib/python3.13/multiprocessing/resource_tracker.py\", line 82, in __del__\n",
      "  File \"/home/lestrada/miniconda3/envs/tumor_type_clasifier/lib/python3.13/multiprocessing/resource_tracker.py\", line 91, in _stop\n",
      "  File \"/home/lestrada/miniconda3/envs/tumor_type_clasifier/lib/python3.13/multiprocessing/resource_tracker.py\", line 116, in _stop_locked\n",
      "ChildProcessError: [Errno 10] No child processes\n",
      "Exception ignored in: <function ResourceTracker.__del__ at 0x7811c6f95ee0>\n",
      "Traceback (most recent call last):\n",
      "  File \"/home/lestrada/miniconda3/envs/tumor_type_clasifier/lib/python3.13/multiprocessing/resource_tracker.py\", line 82, in __del__\n",
      "  File \"/home/lestrada/miniconda3/envs/tumor_type_clasifier/lib/python3.13/multiprocessing/resource_tracker.py\", line 91, in _stop\n",
      "  File \"/home/lestrada/miniconda3/envs/tumor_type_clasifier/lib/python3.13/multiprocessing/resource_tracker.py\", line 116, in _stop_locked\n",
      "ChildProcessError: [Errno 10] No child processes\n",
      "Exception ignored in: <function ResourceTracker.__del__ at 0x767412589ee0>\n",
      "Traceback (most recent call last):\n",
      "  File \"/home/lestrada/miniconda3/envs/tumor_type_clasifier/lib/python3.13/multiprocessing/resource_tracker.py\", line 82, in __del__\n",
      "  File \"/home/lestrada/miniconda3/envs/tumor_type_clasifier/lib/python3.13/multiprocessing/resource_tracker.py\", line 91, in _stop\n",
      "  File \"/home/lestrada/miniconda3/envs/tumor_type_clasifier/lib/python3.13/multiprocessing/resource_tracker.py\", line 116, in _stop_locked\n",
      "ChildProcessError: [Errno 10] No child processes\n",
      "Exception ignored in: <function ResourceTracker.__del__ at 0x71b457575ee0>\n",
      "Traceback (most recent call last):\n",
      "  File \"/home/lestrada/miniconda3/envs/tumor_type_clasifier/lib/python3.13/multiprocessing/resource_tracker.py\", line 82, in __del__\n",
      "  File \"/home/lestrada/miniconda3/envs/tumor_type_clasifier/lib/python3.13/multiprocessing/resource_tracker.py\", line 91, in _stop\n",
      "  File \"/home/lestrada/miniconda3/envs/tumor_type_clasifier/lib/python3.13/multiprocessing/resource_tracker.py\", line 116, in _stop_locked\n",
      "ChildProcessError: [Errno 10] No child processes\n",
      "Exception ignored in: <function ResourceTracker.__del__ at 0x7ca7c5b95ee0>\n",
      "Traceback (most recent call last):\n",
      "  File \"/home/lestrada/miniconda3/envs/tumor_type_clasifier/lib/python3.13/multiprocessing/resource_tracker.py\", line 82, in __del__\n",
      "  File \"/home/lestrada/miniconda3/envs/tumor_type_clasifier/lib/python3.13/multiprocessing/resource_tracker.py\", line 91, in _stop\n",
      "  File \"/home/lestrada/miniconda3/envs/tumor_type_clasifier/lib/python3.13/multiprocessing/resource_tracker.py\", line 116, in _stop_locked\n",
      "ChildProcessError: [Errno 10] No child processes\n"
     ]
    }
   ],
   "source": [
    "test_entity_scores = mf.classification_scores(entity_test_probabilities)"
   ]
  },
  {
   "cell_type": "markdown",
   "id": "3049e4d5",
   "metadata": {},
   "source": [
    "# Graphs"
   ]
  },
  {
   "cell_type": "markdown",
   "id": "ce519f26",
   "metadata": {},
   "source": [
    "### 3D UMAP with selected features"
   ]
  },
  {
   "cell_type": "code",
   "execution_count": 16,
   "id": "5e399f6f",
   "metadata": {},
   "outputs": [
    {
     "data": {
      "text/html": [
       "<div>\n",
       "<style scoped>\n",
       "    .dataframe tbody tr th:only-of-type {\n",
       "        vertical-align: middle;\n",
       "    }\n",
       "\n",
       "    .dataframe tbody tr th {\n",
       "        vertical-align: top;\n",
       "    }\n",
       "\n",
       "    .dataframe thead th {\n",
       "        text-align: right;\n",
       "    }\n",
       "</style>\n",
       "<table border=\"1\" class=\"dataframe\">\n",
       "  <thead>\n",
       "    <tr style=\"text-align: right;\">\n",
       "      <th></th>\n",
       "      <th>Sample name</th>\n",
       "      <th>code_oncotree</th>\n",
       "      <th>PHB</th>\n",
       "      <th>TBL2</th>\n",
       "      <th>SAA1</th>\n",
       "      <th>CDKN1B</th>\n",
       "      <th>SNRNP70</th>\n",
       "      <th>TARDBP</th>\n",
       "      <th>GALNT6</th>\n",
       "      <th>ADGRL2</th>\n",
       "      <th>...</th>\n",
       "      <th>B4GALNT4</th>\n",
       "      <th>VGLL1</th>\n",
       "      <th>CCDC18</th>\n",
       "      <th>ZDHHC12</th>\n",
       "      <th>EGLN2</th>\n",
       "      <th>GABARAP</th>\n",
       "      <th>GUCY1B2</th>\n",
       "      <th>ATOH1</th>\n",
       "      <th>IL37</th>\n",
       "      <th>MYEOV</th>\n",
       "    </tr>\n",
       "  </thead>\n",
       "  <tbody>\n",
       "    <tr>\n",
       "      <th>0</th>\n",
       "      <td>H021-3RLVZS-T1-Q1</td>\n",
       "      <td>AASTR</td>\n",
       "      <td>8.984560</td>\n",
       "      <td>8.023966</td>\n",
       "      <td>6.753402</td>\n",
       "      <td>7.454177</td>\n",
       "      <td>8.925887</td>\n",
       "      <td>8.619639</td>\n",
       "      <td>6.503819</td>\n",
       "      <td>6.634201</td>\n",
       "      <td>...</td>\n",
       "      <td>3.908711</td>\n",
       "      <td>4.893061</td>\n",
       "      <td>8.384738</td>\n",
       "      <td>5.540645</td>\n",
       "      <td>5.610053</td>\n",
       "      <td>8.589079</td>\n",
       "      <td>4.280819</td>\n",
       "      <td>4.804935</td>\n",
       "      <td>5.081195</td>\n",
       "      <td>6.330591</td>\n",
       "    </tr>\n",
       "    <tr>\n",
       "      <th>1</th>\n",
       "      <td>H021-VFM3B1-T1-Q1</td>\n",
       "      <td>AASTR</td>\n",
       "      <td>8.718650</td>\n",
       "      <td>8.251288</td>\n",
       "      <td>4.339679</td>\n",
       "      <td>7.100625</td>\n",
       "      <td>9.011852</td>\n",
       "      <td>8.804410</td>\n",
       "      <td>6.485060</td>\n",
       "      <td>6.455182</td>\n",
       "      <td>...</td>\n",
       "      <td>3.716039</td>\n",
       "      <td>5.097237</td>\n",
       "      <td>8.154195</td>\n",
       "      <td>5.523128</td>\n",
       "      <td>4.333116</td>\n",
       "      <td>7.669777</td>\n",
       "      <td>4.017277</td>\n",
       "      <td>4.735047</td>\n",
       "      <td>5.042454</td>\n",
       "      <td>6.344058</td>\n",
       "    </tr>\n",
       "    <tr>\n",
       "      <th>2</th>\n",
       "      <td>H021-3RLVZS-T1-Q1-R2</td>\n",
       "      <td>AASTR</td>\n",
       "      <td>8.835052</td>\n",
       "      <td>7.923742</td>\n",
       "      <td>4.993241</td>\n",
       "      <td>7.556858</td>\n",
       "      <td>8.702717</td>\n",
       "      <td>8.678147</td>\n",
       "      <td>5.679800</td>\n",
       "      <td>6.681296</td>\n",
       "      <td>...</td>\n",
       "      <td>3.523717</td>\n",
       "      <td>4.570259</td>\n",
       "      <td>8.013464</td>\n",
       "      <td>5.413037</td>\n",
       "      <td>6.559988</td>\n",
       "      <td>7.543514</td>\n",
       "      <td>3.253285</td>\n",
       "      <td>4.820705</td>\n",
       "      <td>5.485397</td>\n",
       "      <td>6.428895</td>\n",
       "    </tr>\n",
       "    <tr>\n",
       "      <th>3</th>\n",
       "      <td>H021-XBLS3R-M1-Q1</td>\n",
       "      <td>AASTR</td>\n",
       "      <td>8.579244</td>\n",
       "      <td>8.066515</td>\n",
       "      <td>6.595761</td>\n",
       "      <td>7.622104</td>\n",
       "      <td>8.891614</td>\n",
       "      <td>8.748704</td>\n",
       "      <td>5.830286</td>\n",
       "      <td>7.012399</td>\n",
       "      <td>...</td>\n",
       "      <td>3.741589</td>\n",
       "      <td>5.271207</td>\n",
       "      <td>6.954656</td>\n",
       "      <td>5.456343</td>\n",
       "      <td>5.011769</td>\n",
       "      <td>7.289927</td>\n",
       "      <td>3.622817</td>\n",
       "      <td>4.718377</td>\n",
       "      <td>4.756875</td>\n",
       "      <td>6.355915</td>\n",
       "    </tr>\n",
       "    <tr>\n",
       "      <th>4</th>\n",
       "      <td>H021-M2MSRE-M1-Q1</td>\n",
       "      <td>ACBC</td>\n",
       "      <td>8.458278</td>\n",
       "      <td>8.279497</td>\n",
       "      <td>7.085902</td>\n",
       "      <td>7.567453</td>\n",
       "      <td>9.340441</td>\n",
       "      <td>9.086740</td>\n",
       "      <td>6.604867</td>\n",
       "      <td>7.244211</td>\n",
       "      <td>...</td>\n",
       "      <td>3.617362</td>\n",
       "      <td>5.161070</td>\n",
       "      <td>6.916521</td>\n",
       "      <td>5.458319</td>\n",
       "      <td>6.121038</td>\n",
       "      <td>5.577484</td>\n",
       "      <td>4.061102</td>\n",
       "      <td>4.686711</td>\n",
       "      <td>5.029859</td>\n",
       "      <td>6.337855</td>\n",
       "    </tr>\n",
       "    <tr>\n",
       "      <th>...</th>\n",
       "      <td>...</td>\n",
       "      <td>...</td>\n",
       "      <td>...</td>\n",
       "      <td>...</td>\n",
       "      <td>...</td>\n",
       "      <td>...</td>\n",
       "      <td>...</td>\n",
       "      <td>...</td>\n",
       "      <td>...</td>\n",
       "      <td>...</td>\n",
       "      <td>...</td>\n",
       "      <td>...</td>\n",
       "      <td>...</td>\n",
       "      <td>...</td>\n",
       "      <td>...</td>\n",
       "      <td>...</td>\n",
       "      <td>...</td>\n",
       "      <td>...</td>\n",
       "      <td>...</td>\n",
       "      <td>...</td>\n",
       "      <td>...</td>\n",
       "    </tr>\n",
       "    <tr>\n",
       "      <th>1839</th>\n",
       "      <td>H021-BYHFHEU-M2-Q1</td>\n",
       "      <td>VMM</td>\n",
       "      <td>8.916305</td>\n",
       "      <td>8.502172</td>\n",
       "      <td>6.109480</td>\n",
       "      <td>7.556417</td>\n",
       "      <td>9.145065</td>\n",
       "      <td>8.881749</td>\n",
       "      <td>5.766890</td>\n",
       "      <td>6.754905</td>\n",
       "      <td>...</td>\n",
       "      <td>3.986428</td>\n",
       "      <td>5.139966</td>\n",
       "      <td>8.092827</td>\n",
       "      <td>5.487697</td>\n",
       "      <td>6.030887</td>\n",
       "      <td>7.143923</td>\n",
       "      <td>4.014328</td>\n",
       "      <td>4.771435</td>\n",
       "      <td>5.033161</td>\n",
       "      <td>6.388024</td>\n",
       "    </tr>\n",
       "    <tr>\n",
       "      <th>1840</th>\n",
       "      <td>H021-VYS51F-M1-Q1</td>\n",
       "      <td>VSC</td>\n",
       "      <td>8.722520</td>\n",
       "      <td>8.489673</td>\n",
       "      <td>7.680883</td>\n",
       "      <td>7.099229</td>\n",
       "      <td>8.944614</td>\n",
       "      <td>8.720405</td>\n",
       "      <td>5.669458</td>\n",
       "      <td>6.378328</td>\n",
       "      <td>...</td>\n",
       "      <td>3.864893</td>\n",
       "      <td>4.952716</td>\n",
       "      <td>7.434742</td>\n",
       "      <td>5.426502</td>\n",
       "      <td>4.768099</td>\n",
       "      <td>7.206934</td>\n",
       "      <td>4.049730</td>\n",
       "      <td>4.749698</td>\n",
       "      <td>5.009383</td>\n",
       "      <td>6.308210</td>\n",
       "    </tr>\n",
       "    <tr>\n",
       "      <th>1841</th>\n",
       "      <td>H021-1B7R18-M1-Q1</td>\n",
       "      <td>VSC</td>\n",
       "      <td>8.785227</td>\n",
       "      <td>7.901660</td>\n",
       "      <td>7.403964</td>\n",
       "      <td>6.712853</td>\n",
       "      <td>8.728085</td>\n",
       "      <td>8.952848</td>\n",
       "      <td>6.006462</td>\n",
       "      <td>6.809079</td>\n",
       "      <td>...</td>\n",
       "      <td>3.886330</td>\n",
       "      <td>5.299532</td>\n",
       "      <td>6.508352</td>\n",
       "      <td>5.459801</td>\n",
       "      <td>4.192192</td>\n",
       "      <td>6.851469</td>\n",
       "      <td>3.747775</td>\n",
       "      <td>4.817958</td>\n",
       "      <td>5.058267</td>\n",
       "      <td>6.315013</td>\n",
       "    </tr>\n",
       "    <tr>\n",
       "      <th>1842</th>\n",
       "      <td>H021-FUFZFT-T1-Q1</td>\n",
       "      <td>VSC</td>\n",
       "      <td>8.405800</td>\n",
       "      <td>8.461433</td>\n",
       "      <td>7.719436</td>\n",
       "      <td>7.488420</td>\n",
       "      <td>9.085873</td>\n",
       "      <td>8.847058</td>\n",
       "      <td>7.791974</td>\n",
       "      <td>7.181439</td>\n",
       "      <td>...</td>\n",
       "      <td>3.604483</td>\n",
       "      <td>5.250035</td>\n",
       "      <td>6.717356</td>\n",
       "      <td>5.476761</td>\n",
       "      <td>4.972328</td>\n",
       "      <td>6.843180</td>\n",
       "      <td>4.012043</td>\n",
       "      <td>4.593288</td>\n",
       "      <td>5.307830</td>\n",
       "      <td>6.394320</td>\n",
       "    </tr>\n",
       "    <tr>\n",
       "      <th>1843</th>\n",
       "      <td>H021-1B7R18-M7-Q1</td>\n",
       "      <td>VSC</td>\n",
       "      <td>8.602149</td>\n",
       "      <td>8.127563</td>\n",
       "      <td>7.994777</td>\n",
       "      <td>7.321124</td>\n",
       "      <td>8.890529</td>\n",
       "      <td>8.665192</td>\n",
       "      <td>5.724092</td>\n",
       "      <td>7.062921</td>\n",
       "      <td>...</td>\n",
       "      <td>3.817470</td>\n",
       "      <td>5.127022</td>\n",
       "      <td>6.580477</td>\n",
       "      <td>5.524469</td>\n",
       "      <td>7.237829</td>\n",
       "      <td>6.326291</td>\n",
       "      <td>3.677063</td>\n",
       "      <td>4.997501</td>\n",
       "      <td>5.340947</td>\n",
       "      <td>6.331129</td>\n",
       "    </tr>\n",
       "  </tbody>\n",
       "</table>\n",
       "<p>1844 rows × 13076 columns</p>\n",
       "</div>"
      ],
      "text/plain": [
       "               Sample name code_oncotree       PHB      TBL2      SAA1  \\\n",
       "0        H021-3RLVZS-T1-Q1         AASTR  8.984560  8.023966  6.753402   \n",
       "1        H021-VFM3B1-T1-Q1         AASTR  8.718650  8.251288  4.339679   \n",
       "2     H021-3RLVZS-T1-Q1-R2         AASTR  8.835052  7.923742  4.993241   \n",
       "3        H021-XBLS3R-M1-Q1         AASTR  8.579244  8.066515  6.595761   \n",
       "4        H021-M2MSRE-M1-Q1          ACBC  8.458278  8.279497  7.085902   \n",
       "...                    ...           ...       ...       ...       ...   \n",
       "1839    H021-BYHFHEU-M2-Q1           VMM  8.916305  8.502172  6.109480   \n",
       "1840     H021-VYS51F-M1-Q1           VSC  8.722520  8.489673  7.680883   \n",
       "1841     H021-1B7R18-M1-Q1           VSC  8.785227  7.901660  7.403964   \n",
       "1842     H021-FUFZFT-T1-Q1           VSC  8.405800  8.461433  7.719436   \n",
       "1843     H021-1B7R18-M7-Q1           VSC  8.602149  8.127563  7.994777   \n",
       "\n",
       "        CDKN1B   SNRNP70    TARDBP    GALNT6    ADGRL2  ...  B4GALNT4  \\\n",
       "0     7.454177  8.925887  8.619639  6.503819  6.634201  ...  3.908711   \n",
       "1     7.100625  9.011852  8.804410  6.485060  6.455182  ...  3.716039   \n",
       "2     7.556858  8.702717  8.678147  5.679800  6.681296  ...  3.523717   \n",
       "3     7.622104  8.891614  8.748704  5.830286  7.012399  ...  3.741589   \n",
       "4     7.567453  9.340441  9.086740  6.604867  7.244211  ...  3.617362   \n",
       "...        ...       ...       ...       ...       ...  ...       ...   \n",
       "1839  7.556417  9.145065  8.881749  5.766890  6.754905  ...  3.986428   \n",
       "1840  7.099229  8.944614  8.720405  5.669458  6.378328  ...  3.864893   \n",
       "1841  6.712853  8.728085  8.952848  6.006462  6.809079  ...  3.886330   \n",
       "1842  7.488420  9.085873  8.847058  7.791974  7.181439  ...  3.604483   \n",
       "1843  7.321124  8.890529  8.665192  5.724092  7.062921  ...  3.817470   \n",
       "\n",
       "         VGLL1    CCDC18   ZDHHC12     EGLN2   GABARAP   GUCY1B2     ATOH1  \\\n",
       "0     4.893061  8.384738  5.540645  5.610053  8.589079  4.280819  4.804935   \n",
       "1     5.097237  8.154195  5.523128  4.333116  7.669777  4.017277  4.735047   \n",
       "2     4.570259  8.013464  5.413037  6.559988  7.543514  3.253285  4.820705   \n",
       "3     5.271207  6.954656  5.456343  5.011769  7.289927  3.622817  4.718377   \n",
       "4     5.161070  6.916521  5.458319  6.121038  5.577484  4.061102  4.686711   \n",
       "...        ...       ...       ...       ...       ...       ...       ...   \n",
       "1839  5.139966  8.092827  5.487697  6.030887  7.143923  4.014328  4.771435   \n",
       "1840  4.952716  7.434742  5.426502  4.768099  7.206934  4.049730  4.749698   \n",
       "1841  5.299532  6.508352  5.459801  4.192192  6.851469  3.747775  4.817958   \n",
       "1842  5.250035  6.717356  5.476761  4.972328  6.843180  4.012043  4.593288   \n",
       "1843  5.127022  6.580477  5.524469  7.237829  6.326291  3.677063  4.997501   \n",
       "\n",
       "          IL37     MYEOV  \n",
       "0     5.081195  6.330591  \n",
       "1     5.042454  6.344058  \n",
       "2     5.485397  6.428895  \n",
       "3     4.756875  6.355915  \n",
       "4     5.029859  6.337855  \n",
       "...        ...       ...  \n",
       "1839  5.033161  6.388024  \n",
       "1840  5.009383  6.308210  \n",
       "1841  5.058267  6.315013  \n",
       "1842  5.307830  6.394320  \n",
       "1843  5.340947  6.331129  \n",
       "\n",
       "[1844 rows x 13076 columns]"
      ]
     },
     "execution_count": 16,
     "metadata": {},
     "output_type": "execute_result"
    }
   ],
   "source": [
    "initial_df"
   ]
  },
  {
   "cell_type": "code",
   "execution_count": 18,
   "id": "fb59c1fd",
   "metadata": {},
   "outputs": [],
   "source": [
    "CHDM_proteins = ['SCARA5',\n",
    "'TRIL',\n",
    "'OLFML2A',\n",
    "'SUSD5',\n",
    "'PDE1A',\n",
    "'KRT80',\n",
    "'XYLT1',\n",
    "'AKR1B10',\n",
    "'GALNT3',\n",
    "'ITGBL1',\n",
    "'COL2A1',\n",
    "'SPP2',\n",
    "'MGARP',\n",
    "'LYST',\n",
    "'TLR3',\n",
    "'CHST3',\n",
    "'ABLIM3',\n",
    "'CDK18',\n",
    "'LGALSL',\n",
    "'CD109',\n",
    "'LPA',\n",
    "'TUBA8',\n",
    "'CRISP3',\n",
    "'PADI4',\n",
    "'GPAT3',\n",
    "'HVCN1',\n",
    "'RAB3B',\n",
    "'CA12',\n",
    "'TUBB1',\n",
    "'DOCK8',\n",
    "'CLMN',\n",
    "'DOCK9',\n",
    "'EPPK1',\n",
    "'PODXL',\n",
    "'NES',\n",
    "'GLA',\n",
    "'GPRC5A']"
   ]
  },
  {
   "cell_type": "code",
   "execution_count": null,
   "id": "c18d7659",
   "metadata": {},
   "outputs": [],
   "source": [
    "import pandas as pd\n",
    "import numpy as np\n",
    "import plotly.express as px\n",
    "import plotly.graph_objects as go\n",
    "from plotly.offline import plot\n",
    "import umap\n",
    "from sklearn.preprocessing import StandardScaler\n",
    "import warnings\n",
    "warnings.filterwarnings('ignore')\n",
    "\n",
    "def create_3d_umap_plot(df, feature_columns, color_column='code_oncotree', \n",
    "                       metadata_cols=['Sample name', 'code_oncotree', 'TCC'],\n",
    "                       n_neighbors=15, min_dist=0.1,\n",
    "                       title=\"3D UMAP Visualization\"):\n",
    "    \"\"\"\n",
    "    Create a 3D UMAP visualization with Plotly\n",
    "    \n",
    "    Parameters:\n",
    "        df : pandas.DataFrame\n",
    "            Input dataframe\n",
    "        feature_columns : list\n",
    "            List of column names to use as features for UMAP\n",
    "        color_column : str\n",
    "            Column name to use for coloring points (default: 'code_oncotree')\n",
    "        hover_columns : list\n",
    "            Column names to show on hover (default: ['Sample name', 'code_oncotree', 'TCC'])\n",
    "        n_neighbors : int\n",
    "            UMAP parameter for number of neighbors (default: 15)\n",
    "        min_dist : float\n",
    "            UMAP parameter for minimum distance (default: 0.1)\n",
    "        title : str\n",
    "            Plot title (default: \"3D UMAP Visualization\")\n",
    "        \n",
    "    Returns:\n",
    "\n",
    "    plotly.graph_objects.Figure\n",
    "        The 3D UMAP plot figure\n",
    "    \"\"\"\n",
    "    \n",
    "     \n",
    "    # Filter and prepare data\n",
    "    print(f\"Original dataframe shape: {df.shape}\")\n",
    "    \n",
    "    # Select feature columns\n",
    "    feature_data = df[feature_columns].copy()\n",
    "    print(f\"Feature data shape: {feature_data.shape}\")\n",
    "    \n",
    "    \n",
    "    # Standardize features\n",
    "    print(\"Standardizing features...\")\n",
    "    scaler = StandardScaler()\n",
    "    feature_data_scaled = scaler.fit_transform(feature_data)\n",
    "    \n",
    "    # Apply UMAP\n",
    "    print(\"Applying UMAP...\")\n",
    "    umap_model = umap.UMAP(\n",
    "        n_components=3,\n",
    "        n_neighbors=n_neighbors,\n",
    "        min_dist=min_dist,\n",
    "        random_state=93,\n",
    "        verbose=True\n",
    "    )\n",
    "    \n",
    "    embedding_3d = umap_model.fit_transform(feature_data_scaled)\n",
    "    \n",
    "    # Prepare data for plotting\n",
    "    df_plot = df.copy()\n",
    "    df_plot['UMAP_1'] = embedding_3d[:, 0]\n",
    "    df_plot['UMAP_2'] = embedding_3d[:, 1]\n",
    "    df_plot['UMAP_3'] = embedding_3d[:, 2]\n",
    "    df_plot[metadata_cols] = df_plot[metadata_cols]\n",
    "\n",
    "    \n",
    "    \n",
    "    # Get unique colors for each category\n",
    "    unique_categories = df_plot[color_column].unique()\n",
    "    n_categories = len(unique_categories)\n",
    "    print(f\"Number of unique categories in {color_column}: {n_categories}\")\n",
    "    \n",
    "    fig = px.scatter_3d(\n",
    "        df_plot,\n",
    "        x='UMAP_1',\n",
    "        y='UMAP_2',\n",
    "        z='UMAP_3',\n",
    "        color=color_column,\n",
    "        hover_data={col: True for col in metadata_cols},\n",
    "        title=title,\n",
    "        opacity=0.7\n",
    "    )\n",
    "    \n",
    "    # Update hover template for cleaner display\n",
    "    fig.update_traces(\n",
    "        hovertemplate='<br>'.join([f'{col}: %{{customdata[{i}]}}' \n",
    "                                    for i, col in enumerate(metadata_cols)]) + '<extra></extra>'\n",
    "    )\n",
    "\n",
    "    # Update layout\n",
    "    fig.update_layout(\n",
    "        title={\n",
    "            'text': title,\n",
    "            'x': 0.5,\n",
    "            'xanchor': 'center',\n",
    "            'font': {'size': 16}\n",
    "        },\n",
    "        scene=dict(\n",
    "            xaxis_title=\"UMAP 1\",\n",
    "            yaxis_title=\"UMAP 2\",\n",
    "            zaxis_title=\"UMAP 3\",\n",
    "            camera=dict(\n",
    "                eye=dict(x=1.5, y=1.5, z=1.5)\n",
    "            )\n",
    "        ),\n",
    "        width=900,\n",
    "        height=700,\n",
    "        margin=dict(l=0, r=0, b=0, t=50)\n",
    "    )\n",
    "\n",
    "\n",
    "    file_name = os.path.join(output_dir,f'UMAP_of_class.html')   \n",
    "    fig.write_html(file_name, include_plotlyjs=True)\n",
    "    print(f\"Plot saved as: {file_name}\")\n",
    "    return fig\n",
    "\n",
    "\n"
   ]
  },
  {
   "cell_type": "code",
   "execution_count": 37,
   "id": "7105a94c",
   "metadata": {},
   "outputs": [
    {
     "name": "stdout",
     "output_type": "stream",
     "text": [
      "Original dataframe shape: (1844, 13076)\n",
      "Feature data shape: (1844, 37)\n",
      "Standardizing features...\n",
      "Applying UMAP...\n",
      "UMAP(n_components=3, n_jobs=1, n_neighbors=10, random_state=93, verbose=True)\n",
      "Tue Aug 12 14:06:52 2025 Construct fuzzy simplicial set\n",
      "Tue Aug 12 14:06:54 2025 Finding Nearest Neighbors\n",
      "Tue Aug 12 14:06:54 2025 Finished Nearest Neighbor Search\n",
      "Tue Aug 12 14:06:54 2025 Construct embedding\n"
     ]
    },
    {
     "name": "stderr",
     "output_type": "stream",
     "text": [
      "Epochs completed:   3%| ▎          14/500 [00:00]"
     ]
    },
    {
     "name": "stdout",
     "output_type": "stream",
     "text": [
      "\tcompleted  0  /  500 epochs\n"
     ]
    },
    {
     "name": "stderr",
     "output_type": "stream",
     "text": [
      "Epochs completed:  15%| █▌         77/500 [00:00]"
     ]
    },
    {
     "name": "stdout",
     "output_type": "stream",
     "text": [
      "\tcompleted  50  /  500 epochs\n"
     ]
    },
    {
     "name": "stderr",
     "output_type": "stream",
     "text": [
      "Epochs completed:  25%| ██▌        126/500 [00:00]"
     ]
    },
    {
     "name": "stdout",
     "output_type": "stream",
     "text": [
      "\tcompleted  100  /  500 epochs\n"
     ]
    },
    {
     "name": "stderr",
     "output_type": "stream",
     "text": [
      "Epochs completed:  35%| ███▍       174/500 [00:01]"
     ]
    },
    {
     "name": "stdout",
     "output_type": "stream",
     "text": [
      "\tcompleted  150  /  500 epochs\n"
     ]
    },
    {
     "name": "stderr",
     "output_type": "stream",
     "text": [
      "Epochs completed:  44%| ████▍      221/500 [00:01]"
     ]
    },
    {
     "name": "stdout",
     "output_type": "stream",
     "text": [
      "\tcompleted  200  /  500 epochs\n"
     ]
    },
    {
     "name": "stderr",
     "output_type": "stream",
     "text": [
      "Epochs completed:  54%| █████▍     269/500 [00:01]"
     ]
    },
    {
     "name": "stdout",
     "output_type": "stream",
     "text": [
      "\tcompleted  250  /  500 epochs\n"
     ]
    },
    {
     "name": "stderr",
     "output_type": "stream",
     "text": [
      "Epochs completed:  64%| ██████▍    319/500 [00:02]"
     ]
    },
    {
     "name": "stdout",
     "output_type": "stream",
     "text": [
      "\tcompleted  300  /  500 epochs\n"
     ]
    },
    {
     "name": "stderr",
     "output_type": "stream",
     "text": [
      "Epochs completed:  74%| ███████▍   370/500 [00:02]"
     ]
    },
    {
     "name": "stdout",
     "output_type": "stream",
     "text": [
      "\tcompleted  350  /  500 epochs\n"
     ]
    },
    {
     "name": "stderr",
     "output_type": "stream",
     "text": [
      "Epochs completed:  84%| ████████▍  420/500 [00:02]"
     ]
    },
    {
     "name": "stdout",
     "output_type": "stream",
     "text": [
      "\tcompleted  400  /  500 epochs\n"
     ]
    },
    {
     "name": "stderr",
     "output_type": "stream",
     "text": [
      "Epochs completed:  94%| █████████▍ 469/500 [00:03]"
     ]
    },
    {
     "name": "stdout",
     "output_type": "stream",
     "text": [
      "\tcompleted  450  /  500 epochs\n"
     ]
    },
    {
     "name": "stderr",
     "output_type": "stream",
     "text": [
      "Epochs completed: 100%| ██████████ 500/500 [00:03]\n"
     ]
    },
    {
     "name": "stdout",
     "output_type": "stream",
     "text": [
      "Tue Aug 12 14:06:58 2025 Finished embedding\n",
      "Number of unique categories in code_oncotree: 221\n",
      "Plot saved as: /home/lestrada/tumor_type_prediction/notebooks/data/data_output/BRCA_250812_1135_results/model_fit/UMAP_of_class.html\n"
     ]
    },
    {
     "data": {
      "application/vnd.plotly.v1+json": {
       "config": {
        "plotlyServerURL": "https://plot.ly"
       },
       "data": [
        {
         "customdata": [
          [
           "H021-3RLVZS-T1-Q1",
           "AASTR"
          ],
          [
           "H021-VFM3B1-T1-Q1",
           "AASTR"
          ],
          [
           "H021-3RLVZS-T1-Q1-R2",
           "AASTR"
          ],
          [
           "H021-XBLS3R-M1-Q1",
           "AASTR"
          ]
         ],
         "hovertemplate": "Sample name: %{customdata[0]}<br>code_oncotree: %{customdata[1]}<extra></extra>",
         "legendgroup": "AASTR",
         "marker": {
          "color": "#636efa",
          "opacity": 0.7,
          "symbol": "circle"
         },
         "mode": "markers",
         "name": "AASTR",
         "scene": "scene",
         "showlegend": true,
         "type": "scatter3d",
         "x": {
          "bdata": "RfkpQbIBEEGacUFBcV/5QA==",
          "dtype": "f4"
         },
         "y": {
          "bdata": "decVvm7OB78zrLc+Rz8Svw==",
          "dtype": "f4"
         },
         "z": {
          "bdata": "PwAHQfvBFEFPA8xAXq0hQQ==",
          "dtype": "f4"
         }
        },
        {
         "customdata": [
          [
           "H021-M2MSRE-M1-Q1",
           "ACBC"
          ]
         ],
         "hovertemplate": "Sample name: %{customdata[0]}<br>code_oncotree: %{customdata[1]}<extra></extra>",
         "legendgroup": "ACBC",
         "marker": {
          "color": "#EF553B",
          "opacity": 0.7,
          "symbol": "circle"
         },
         "mode": "markers",
         "name": "ACBC",
         "scene": "scene",
         "showlegend": true,
         "type": "scatter3d",
         "x": {
          "bdata": "nb8SQQ==",
          "dtype": "f4"
         },
         "y": {
          "bdata": "qq8FwA==",
          "dtype": "f4"
         },
         "z": {
          "bdata": "CL0wQQ==",
          "dtype": "f4"
         }
        },
        {
         "customdata": [
          [
           "H021-MQ3B2C-M5",
           "ACC"
          ],
          [
           "H021-XKP7ZN-M1",
           "ACC"
          ],
          [
           "H021-T1B3YD-M1-Q1",
           "ACC"
          ],
          [
           "H021-4T8HUF-M2-Q1",
           "ACC"
          ],
          [
           "H021-ZHVK6R-M3-Q1",
           "ACC"
          ],
          [
           "H021-NPY8VX-M1-Q1",
           "ACC"
          ],
          [
           "H021-CX3R53-M1-Q1",
           "ACC"
          ],
          [
           "H021-DX3UW1-M1-Q1",
           "ACC"
          ],
          [
           "H021-BKDDSP-M1",
           "ACC"
          ],
          [
           "H021-77HFDN-M1-Q1",
           "ACC"
          ],
          [
           "H021-W6JXJF-M1-Q1",
           "ACC"
          ],
          [
           "H021-3D86AH-M1-Q1",
           "ACC"
          ],
          [
           "H021-52P7GS-M1-Q1",
           "ACC"
          ],
          [
           "H021-C2AL3T-M1-Q1",
           "ACC"
          ],
          [
           "H021-FYKTQP-M1-Q1",
           "ACC"
          ],
          [
           "H021-VD45DC-M2-Q1",
           "ACC"
          ],
          [
           "H021-HX1NGL-M3-Q1",
           "ACC"
          ],
          [
           "H021-48AFU3-M1-Q1",
           "ACC"
          ],
          [
           "H021-4VYEQ4-M1-Q1",
           "ACC"
          ],
          [
           "H021-Z55HV3-M1-Q1",
           "ACC"
          ],
          [
           "H021-BM2ECG-M1-Q1",
           "ACC"
          ],
          [
           "H021-VA1FGV-M3-Q1",
           "ACC"
          ],
          [
           "H021-QBUMCB-M1-Q1",
           "ACC"
          ],
          [
           "H021-ADE19T-M1-Q1",
           "ACC"
          ],
          [
           "H021-RVZGMCY-M2-Q1",
           "ACC"
          ],
          [
           "H021-NBLW1GU-M1-Q1",
           "ACC"
          ],
          [
           "H021-U71LQL-M7-Q1",
           "ACC"
          ],
          [
           "H021-NBLW1GU-M2-Q1",
           "ACC"
          ],
          [
           "H021-GJUNWML-M1-Q1",
           "ACC"
          ],
          [
           "H021-KYRZE9P-T1-Q1",
           "ACC"
          ],
          [
           "H021-6CUKMQ-M1-Q1",
           "ACC"
          ]
         ],
         "hovertemplate": "Sample name: %{customdata[0]}<br>code_oncotree: %{customdata[1]}<extra></extra>",
         "legendgroup": "ACC",
         "marker": {
          "color": "#00cc96",
          "opacity": 0.7,
          "symbol": "circle"
         },
         "mode": "markers",
         "name": "ACC",
         "scene": "scene",
         "showlegend": true,
         "type": "scatter3d",
         "x": {
          "bdata": "WzgiQebI/0B8yQ9BpUkTQQQIAEEOYCdBShEDQSEhGkEwNANBdi8AQSoK/ECg5QRBNJ8KQVwmBkEGJSJBou0CQTUIAUGgxANBeJT7QCUT/EAnrflAqOkjQcfp8EAISBxBemEZQVBr+0CXiSFB3+P6QCLvBkFKESJBD7X8QA==",
          "dtype": "f4"
         },
         "y": {
          "bdata": "HRYKwNbxdr9zBjK/pwkqwHfpeL+3ec+/6YiJv1ipN74NxI2/NeR4v+RjhL/d7WW/r5Ssv9b2cL8dYR7AuJj4vg+Pf79npIW/lkatv+s8r7+ckoC/jusOwKeRor8wSz6/6f7kv7ixAMBhUg7ACt20v0UXab+YWAfAaQPEvw==",
          "dtype": "f4"
         },
         "z": {
          "bdata": "n1UpQV8RG0FThRVBYToYQbxzGkF0hyxBHOUcQcXwLUE+VxtBHJwbQUVvG0GJ9BxBk6keQWYpHkFq5iFBr4oiQXIrHEFKoB5B74EfQcfVIkE1mxpBzloPQRl8HkEqIDxBTZMeQaZJMkF0xyJB30QhQQdaH0HnmSpB3sInQQ==",
          "dtype": "f4"
         }
        },
        {
         "customdata": [
          [
           "H021-FT48YD-M2",
           "ACN"
          ]
         ],
         "hovertemplate": "Sample name: %{customdata[0]}<br>code_oncotree: %{customdata[1]}<extra></extra>",
         "legendgroup": "ACN",
         "marker": {
          "color": "#ab63fa",
          "opacity": 0.7,
          "symbol": "circle"
         },
         "mode": "markers",
         "name": "ACN",
         "scene": "scene",
         "showlegend": true,
         "type": "scatter3d",
         "x": {
          "bdata": "I6saQQ==",
          "dtype": "f4"
         },
         "y": {
          "bdata": "1i3EvQ==",
          "dtype": "f4"
         },
         "z": {
          "bdata": "9uMVQQ==",
          "dtype": "f4"
         }
        },
        {
         "customdata": [
          [
           "H021-VF8X6Y-M2",
           "ACYC"
          ],
          [
           "H021-ZHRCET-M2",
           "ACYC"
          ],
          [
           "H021-CN4F49-M1-Q1",
           "ACYC"
          ],
          [
           "H021-2PZZHX-M1-Q1",
           "ACYC"
          ],
          [
           "H021-VCEUSG-T1-Q1",
           "ACYC"
          ],
          [
           "H021-TV353Q-M4-Q1",
           "ACYC"
          ],
          [
           "H021-52PSUG-M1-Q1",
           "ACYC"
          ],
          [
           "H021-7LE1D1-T2-Q1",
           "ACYC"
          ],
          [
           "H021-ZVCVAA-T1-Q1",
           "ACYC"
          ],
          [
           "H021-RELK9M-M3-Q1",
           "ACYC"
          ],
          [
           "H021-NL1BWY-M1-Q1",
           "ACYC"
          ],
          [
           "H021-VMT5HA-M3-Q1",
           "ACYC"
          ],
          [
           "H021-LLUY3N-M1-Q1",
           "ACYC"
          ],
          [
           "H021-7XLNNRZ-M1-Q1",
           "ACYC"
          ],
          [
           "H021-BB23V81-T1-Q1",
           "ACYC"
          ],
          [
           "H021-YLF7WN-M2-Q1",
           "ACYC"
          ],
          [
           "H021-YLF7WN-M1-Q1",
           "ACYC"
          ]
         ],
         "hovertemplate": "Sample name: %{customdata[0]}<br>code_oncotree: %{customdata[1]}<extra></extra>",
         "legendgroup": "ACYC",
         "marker": {
          "color": "#FFA15A",
          "opacity": 0.7,
          "symbol": "circle"
         },
         "mode": "markers",
         "name": "ACYC",
         "scene": "scene",
         "showlegend": true,
         "type": "scatter3d",
         "x": {
          "bdata": "C+gqQRwLDEECLRJBDyoFQea0E0FcBvtAQOgRQdZ3FUFZ0xNBtoUZQUeZD0GQ5yRBJy8KQSNODEHc4xFBouYVQd18AEE=",
          "dtype": "f4"
         },
         "y": {
          "bdata": "qGQ6vwBVI8BjHoO/v2BUwF9MqL+iCAHALurwv15TFMDM87m+SPAjwHP6LcA/XAfAGY48wFDa47/LM2/AkU/wvzkhPcA=",
          "dtype": "f4"
         },
         "z": {
          "bdata": "dfoQQUE0G0HjtRNBH5AhQVc9HUGv1TBBoHEaQSSODEGgthNBu4kJQTUlNEFgag1B3AwrQcBDJ0HF9CdBGwMJQftSJEE=",
          "dtype": "f4"
         }
        },
        {
         "customdata": [
          [
           "H021-2VMCAU-M1",
           "ADNOS"
          ],
          [
           "H021-HSCX42-M6-E1",
           "ADNOS"
          ],
          [
           "H021-LTSKYV-M1-Q1",
           "ADNOS"
          ],
          [
           "H021-UJBX-M4-Q1",
           "ADNOS"
          ],
          [
           "H021-W77W46-M5-Q1",
           "ADNOS"
          ],
          [
           "H021-XSCYZ5-M1-Q1",
           "ADNOS"
          ],
          [
           "H021-6181DL-T5-Q1",
           "ADNOS"
          ],
          [
           "H021-BZ7J2A-M2-Q1",
           "ADNOS"
          ],
          [
           "H021-D6WTGN-M2-Q1",
           "ADNOS"
          ],
          [
           "H021-PMJNX8-M4-Q1",
           "ADNOS"
          ],
          [
           "H021-6MU9K4-M2-Q1",
           "ADNOS"
          ],
          [
           "H021-8GZX2Z-M1-Q1",
           "ADNOS"
          ],
          [
           "H021-SSD7B8-M2-Q1",
           "ADNOS"
          ],
          [
           "H021-SSD7B8-M4-Q1",
           "ADNOS"
          ],
          [
           "H021-FXCFXC-M1-E2",
           "ADNOS"
          ],
          [
           "H021-5KD35T-T1-Q1",
           "ADNOS"
          ],
          [
           "H021-16RER7-M2-Q1",
           "ADNOS"
          ],
          [
           "H021-LHR4LM-T1-Q1",
           "ADNOS"
          ],
          [
           "H021-SD8H8Q-T1-Q1",
           "ADNOS"
          ],
          [
           "H021-38PAMXP-M2-Q1",
           "ADNOS"
          ],
          [
           "H021-1T4EAR-T1-Q1",
           "ADNOS"
          ]
         ],
         "hovertemplate": "Sample name: %{customdata[0]}<br>code_oncotree: %{customdata[1]}<extra></extra>",
         "legendgroup": "ADNOS",
         "marker": {
          "color": "#19d3f3",
          "opacity": 0.7,
          "symbol": "circle"
         },
         "mode": "markers",
         "name": "ADNOS",
         "scene": "scene",
         "showlegend": true,
         "type": "scatter3d",
         "x": {
          "bdata": "fU4TQer6KEFVQAZBk0wCQRaeBUEQXgZBgTUVQUS5D0GBAAdBKdsiQbBLBEHicQVBy7IJQcxxIUFNohJBvAcPQc5zFEHHpy1BsU4tQQY8+kCrF/tA",
          "dtype": "f4"
         },
         "y": {
          "bdata": "f3MfwN02jL+Lv6m/hxxkwF2EVMDxAlvAnRYlwEBEJsAbwFTA+i93vva/J8B7VU3AWEYtwOhPsL/Ko4u/kZwjwHrLYcAq/RLALaIWwIqP57+Il+O/",
          "dtype": "f4"
         },
         "z": {
          "bdata": "JjkLQa0xH0F3OA5BZAYlQYMRJEHRYyJBk5kLQREODUEODgxB/6oOQdRyGUF+kRpBaJ4kQROFIUH3XylBHIQiQSNgJUGARy5BKBsuQSH6D0GewRBB",
          "dtype": "f4"
         }
        },
        {
         "customdata": [
          [
           "H021-H5R2S4-M2-Q1",
           "ALUCA"
          ],
          [
           "H021-XPEYA2-M1-Q1",
           "ALUCA"
          ],
          [
           "H021-H5R2S4-M3-Q1",
           "ALUCA"
          ],
          [
           "H021-SCBFK5-M3-Q1",
           "ALUCA"
          ],
          [
           "H021-HP5JHW-M2-Q1",
           "ALUCA"
          ],
          [
           "H021-FDDAKY7-M1-Q1",
           "ALUCA"
          ],
          [
           "H021-WVX6MR3-M1-Q1",
           "ALUCA"
          ],
          [
           "H021-DMENTM8-M1-Q1",
           "ALUCA"
          ]
         ],
         "hovertemplate": "Sample name: %{customdata[0]}<br>code_oncotree: %{customdata[1]}<extra></extra>",
         "legendgroup": "ALUCA",
         "marker": {
          "color": "#FF6692",
          "opacity": 0.7,
          "symbol": "circle"
         },
         "mode": "markers",
         "name": "ALUCA",
         "scene": "scene",
         "showlegend": true,
         "type": "scatter3d",
         "x": {
          "bdata": "FX4bQdZgE0HttRpBvZEMQVQ3LkErGRdBxeohQS2eBEE=",
          "dtype": "f4"
         },
         "y": {
          "bdata": "vC9FwAxAUcBunyfACCTbv/ziDcB1wPG/5nIpwKjsn78=",
          "dtype": "f4"
         },
         "z": {
          "bdata": "+wcUQQuDEUHLQxdBGoEWQRBHIEFL5xhBlNYfQXFVK0E=",
          "dtype": "f4"
         }
        },
        {
         "customdata": [
          [
           "H021-CL1T8C-T1-Q1",
           "AML"
          ],
          [
           "H021-G7GHPL-T1-Q1",
           "AML"
          ],
          [
           "H021-VBNB25-T1-Q1",
           "AML"
          ]
         ],
         "hovertemplate": "Sample name: %{customdata[0]}<br>code_oncotree: %{customdata[1]}<extra></extra>",
         "legendgroup": "AML",
         "marker": {
          "color": "#B6E880",
          "opacity": 0.7,
          "symbol": "circle"
         },
         "mode": "markers",
         "name": "AML",
         "scene": "scene",
         "showlegend": true,
         "type": "scatter3d",
         "x": {
          "bdata": "iV0nQfohGEFIMeZA",
          "dtype": "f4"
         },
         "y": {
          "bdata": "jePQvv5Fp7/2hrG/",
          "dtype": "f4"
         },
         "z": {
          "bdata": "c3svQeNENEFRgR9B",
          "dtype": "f4"
         }
        },
        {
         "customdata": [
          [
           "H021-9ZENZBK-M3-Q1",
           "AMPCA"
          ]
         ],
         "hovertemplate": "Sample name: %{customdata[0]}<br>code_oncotree: %{customdata[1]}<extra></extra>",
         "legendgroup": "AMPCA",
         "marker": {
          "color": "#FF97FF",
          "opacity": 0.7,
          "symbol": "circle"
         },
         "mode": "markers",
         "name": "AMPCA",
         "scene": "scene",
         "showlegend": true,
         "type": "scatter3d",
         "x": {
          "bdata": "s3sCQQ==",
          "dtype": "f4"
         },
         "y": {
          "bdata": "QL5hwA==",
          "dtype": "f4"
         },
         "z": {
          "bdata": "5WInQQ==",
          "dtype": "f4"
         }
        },
        {
         "customdata": [
          [
           "H021-RMX3LH-T1",
           "ANGS"
          ],
          [
           "H021-UF8YD6-T2",
           "ANGS"
          ],
          [
           "H021-HFZLJV-T1",
           "ANGS"
          ],
          [
           "H021-XCBGFF-T1",
           "ANGS"
          ],
          [
           "I063-024-2M1-P1",
           "ANGS"
          ],
          [
           "H021-RTLP41-T2",
           "ANGS"
          ],
          [
           "H021-C4ZHSL-T1-Q1",
           "ANGS"
          ],
          [
           "H021-U5PZDV-M2-Q1",
           "ANGS"
          ],
          [
           "H021-XKJDR1-M1-Q1",
           "ANGS"
          ],
          [
           "H021-XQG7LH-T1-Q1",
           "ANGS"
          ],
          [
           "H021-2821AR-T1-Q1",
           "ANGS"
          ],
          [
           "H021-EUE5HLX-T1-Q1",
           "ANGS"
          ],
          [
           "H021-SA41ZPW-T4-Q1",
           "ANGS"
          ]
         ],
         "hovertemplate": "Sample name: %{customdata[0]}<br>code_oncotree: %{customdata[1]}<extra></extra>",
         "legendgroup": "ANGS",
         "marker": {
          "color": "#FECB52",
          "opacity": 0.7,
          "symbol": "circle"
         },
         "mode": "markers",
         "name": "ANGS",
         "scene": "scene",
         "showlegend": true,
         "type": "scatter3d",
         "x": {
          "bdata": "JOojQQldBEEztBBBUk8JQfwULEEDDwhBucwDQdpaBEHVKQtBMu8dQY8EE0EPbBNBaKIYQQ==",
          "dtype": "f4"
         },
         "y": {
          "bdata": "YOUTv2cJ2r8ZZoG/DPy3P1ZZNr9RxRbAAxzsv2De4r8htsS/0C5rwJFogb8Q6Ge/VpXMPQ==",
          "dtype": "f4"
         },
         "z": {
          "bdata": "O7YzQTDvEkHTPDhBwO4iQT0nHkECaTVBCQwxQbxZMUEsbztBGSAeQfwJI0GxkDpBODwzQQ==",
          "dtype": "f4"
         }
        },
        {
         "customdata": [
          [
           "H021-EVBQQ7-M1",
           "ANSC"
          ],
          [
           "H021-FCD4M3-M1-Q1",
           "ANSC"
          ],
          [
           "H021-B8NJEB-M1-Q1",
           "ANSC"
          ],
          [
           "H021-7GBWY6-T1-Q1",
           "ANSC"
          ],
          [
           "H021-M5F4QY-M2-Q1",
           "ANSC"
          ],
          [
           "H021-XG2F9J-M1-Q1",
           "ANSC"
          ],
          [
           "H021-769193-M1-Q1",
           "ANSC"
          ],
          [
           "H021-769193-M2-Q1",
           "ANSC"
          ],
          [
           "H021-8A6W54-M3-Q1",
           "ANSC"
          ],
          [
           "H021-HP8GP8-M1-Q1",
           "ANSC"
          ],
          [
           "H021-UWVGXP-M1-Q1",
           "ANSC"
          ]
         ],
         "hovertemplate": "Sample name: %{customdata[0]}<br>code_oncotree: %{customdata[1]}<extra></extra>",
         "legendgroup": "ANSC",
         "marker": {
          "color": "#636efa",
          "opacity": 0.7,
          "symbol": "circle"
         },
         "mode": "markers",
         "name": "ANSC",
         "scene": "scene",
         "showlegend": true,
         "type": "scatter3d",
         "x": {
          "bdata": "p8MLQbYrGUEQ/hxB7rUjQbURCUHv5BFBeM4QQTu+BUGUWAxBdwMCQUi0CkE=",
          "dtype": "f4"
         },
         "y": {
          "bdata": "KEhQwIVnRMC/4jQ9tua5PY/4PsCpsCi++z6Lv/JBH8ApPVLATOgowPHvUsA=",
          "dtype": "f4"
         },
         "z": {
          "bdata": "feopQczHE0H9YxtBhJAlQQ5jEEGVARpBqwwVQbVBK0G/ryRBDYsZQY2mKEE=",
          "dtype": "f4"
         }
        },
        {
         "customdata": [
          [
           "H021-7QUJ2X-M2-Q1",
           "APAD"
          ]
         ],
         "hovertemplate": "Sample name: %{customdata[0]}<br>code_oncotree: %{customdata[1]}<extra></extra>",
         "legendgroup": "APAD",
         "marker": {
          "color": "#EF553B",
          "opacity": 0.7,
          "symbol": "circle"
         },
         "mode": "markers",
         "name": "APAD",
         "scene": "scene",
         "showlegend": true,
         "type": "scatter3d",
         "x": {
          "bdata": "VdYNQQ==",
          "dtype": "f4"
         },
         "y": {
          "bdata": "dvZcwA==",
          "dtype": "f4"
         },
         "z": {
          "bdata": "HAodQQ==",
          "dtype": "f4"
         }
        },
        {
         "customdata": [
          [
           "H021-GEYU72-T1",
           "APE"
          ],
          [
           "H021-CJ2Y9N-T2-Q1",
           "APE"
          ]
         ],
         "hovertemplate": "Sample name: %{customdata[0]}<br>code_oncotree: %{customdata[1]}<extra></extra>",
         "legendgroup": "APE",
         "marker": {
          "color": "#00cc96",
          "opacity": 0.7,
          "symbol": "circle"
         },
         "mode": "markers",
         "name": "APE",
         "scene": "scene",
         "showlegend": true,
         "type": "scatter3d",
         "x": {
          "bdata": "FdEYQU+BH0E=",
          "dtype": "f4"
         },
         "y": {
          "bdata": "MdaPv+Tiy74=",
          "dtype": "f4"
         },
         "z": {
          "bdata": "6d8UQZTKEEE=",
          "dtype": "f4"
         }
        },
        {
         "customdata": [
          [
           "I043-005-95540",
           "ARMS"
          ],
          [
           "I043-001-80842",
           "ARMS"
          ],
          [
           "I043-005-130270",
           "ARMS"
          ],
          [
           "H021-LGAPJC-M1",
           "ARMS"
          ],
          [
           "H021-GDTFYK-M2",
           "ARMS"
          ],
          [
           "I137-003-84050",
           "ARMS"
          ],
          [
           "I022-018-98376",
           "ARMS"
          ],
          [
           "I015-006-107208",
           "ARMS"
          ],
          [
           "I052-003-93894",
           "ARMS"
          ],
          [
           "I007-007-80690",
           "ARMS"
          ],
          [
           "I002-010-106444",
           "ARMS"
          ],
          [
           "I036-012-107936",
           "ARMS"
          ],
          [
           "I024-020-127332",
           "ARMS"
          ],
          [
           "I010-021-226690",
           "ARMS"
          ],
          [
           "I010-022-226744",
           "ARMS"
          ],
          [
           "H021-AR786E-M12",
           "ARMS"
          ],
          [
           "I062-070-2M1-P1",
           "ARMS"
          ],
          [
           "I023-037-0T1-P1",
           "ARMS"
          ],
          [
           "I040-009-1M1-P1",
           "ARMS"
          ],
          [
           "I070-047-0T1-P1",
           "ARMS"
          ],
          [
           "I047-026-2T2-P1",
           "ARMS"
          ],
          [
           "I002-029-1T1-P1",
           "ARMS"
          ],
          [
           "I049-012-2M1-P1",
           "ARMS"
          ],
          [
           "I005-018-1M1-P1",
           "ARMS"
          ],
          [
           "I076-027-2M1-P1",
           "ARMS"
          ],
          [
           "I018-037-1T1-P1",
           "ARMS"
          ],
          [
           "I047-021-1T1-P1",
           "ARMS"
          ],
          [
           "I026-012-1M1-P1",
           "ARMS"
          ],
          [
           "I070-029-1M1-P1",
           "ARMS"
          ],
          [
           "I041-007-1T1-P1",
           "ARMS"
          ],
          [
           "I007-048-4M1-P1",
           "ARMS"
          ],
          [
           "I014-014-1T1-P1",
           "ARMS"
          ],
          [
           "I010-028-291004",
           "ARMS"
          ],
          [
           "I023-047-9T1-P1",
           "ARMS"
          ],
          [
           "I010-013-0T1-P1",
           "ARMS"
          ],
          [
           "I042-048-1T1-P1",
           "ARMS"
          ],
          [
           "H021-BJ9BST-M2-Q1",
           "ARMS"
          ],
          [
           "I032-022-1M1-P1",
           "ARMS"
          ],
          [
           "I002-036-0T1-P1",
           "ARMS"
          ],
          [
           "I002-037-0T1-P1",
           "ARMS"
          ],
          [
           "I047-035-1M1-P1",
           "ARMS"
          ],
          [
           "H021-7Q96VB-T1-Q1",
           "ARMS"
          ],
          [
           "I046-011-2T1-P1",
           "ARMS"
          ],
          [
           "H021-7Q96VB-T2-Q1",
           "ARMS"
          ],
          [
           "I032-022-9M1-P1",
           "ARMS"
          ],
          [
           "ARMS-KFR-P1",
           "ARMS"
          ],
          [
           "ARMS-Rh4-P1",
           "ARMS"
          ],
          [
           "I007-148-1T1-P1",
           "ARMS"
          ],
          [
           "ARMS-Rh28-P1",
           "ARMS"
          ],
          [
           "ARMS-Rh30-P1",
           "ARMS"
          ],
          [
           "ARMS-Rh41-P1",
           "ARMS"
          ],
          [
           "ARMS-Rh5-P1",
           "ARMS"
          ],
          [
           "I070-070-9T1",
           "ARMS"
          ],
          [
           "I046-018-1M1",
           "ARMS"
          ],
          [
           "ARMS-RMS-P1",
           "ARMS"
          ],
          [
           "H021-66ZE8U-M1-Q1",
           "ARMS"
          ],
          [
           "I063-072-0M1-P1",
           "ARMS"
          ],
          [
           "H021-683NYUB-M1-Q1",
           "ARMS"
          ],
          [
           "H021-HZYN318-T2-Q1",
           "ARMS"
          ]
         ],
         "hovertemplate": "Sample name: %{customdata[0]}<br>code_oncotree: %{customdata[1]}<extra></extra>",
         "legendgroup": "ARMS",
         "marker": {
          "color": "#ab63fa",
          "opacity": 0.7,
          "symbol": "circle"
         },
         "mode": "markers",
         "name": "ARMS",
         "scene": "scene",
         "showlegend": true,
         "type": "scatter3d",
         "x": {
          "bdata": "45YvQXIDL0GkAy9BwwAlQfEMCkGediNBnWYkQQmSJUH/fSdBjiInQQXhIkE1gyNB9nIjQaidKEEWYipBH1MnQf19I0G6qxlBEOIlQdywE0FXehFBBrYjQUXqJEFxFihB0tMmQfVPKkHqDCtBBj0pQecSJ0GsZCRBSvglQf95JkGKZCxBMUkoQYQFKEGcFChBpXgnQQ6OJUFruCtB+JAfQcoFKEGCyRlBLdUkQVCuHkHtCShBwFcqQVPUKEEFPitByIcpQYu1KUG54SlBA/UpQWyvAkGiFilBKBsqQeXvKkHwQCtB904kQWVeDUE=",
          "dtype": "f4"
         },
         "y": {
          "bdata": "pkO6P0D3tz/JyL0/xiJ0P+HAGD8AEJo/sVyVP8ymjz9U6oU/tjp2P/pZnD8EGpo/QsyUP9KSVz9N8Eg/WNEzP0WHkD+QLWA/mzudP8cu+z4ZIaE+t/gOP9qDGz/x/LY/w1p/Pzsj9j5cNwQ/dXOBP2TMcD/UaqQ/YiycPzQpmj/+kZU/wSqyPz5LrD+ydac/15tbP+dQMj9x64o/b8dpP4HEjj9rnYu+Tja8Ps9bxb63Sk8/cWhePxrsQT+gH4I/k1g+P+e3Vz/6J0Y/XP1iP1N8Cb9oOjY/xspoP37UGj02+k4+1cODP8E00r0=",
          "dtype": "f4"
         },
         "z": {
          "bdata": "6moRQaYWEUGu8BFBXZoaQXGcEUG+YRlBDhMZQT/iFkFiZRdBDuwaQXmrA0G4ZARBD9oEQUsQGUF4GhBBxvEQQeWbBUGFeQxBaZgYQbvKNUFOcTdBWiMEQVfeA0G6kwpBBGcIQSe4H0HeCxJBuxcRQTlJEEG6DwRBK8QGQYkUB0EBRRFBQIwKQRJ3CkHBLApBzXQbQf1mDEEuYhFBjKkIQaTEF0Fp1jdB0Y4TQWSNOkG7jQ9BRdsJQR9bB0GHZxBBZ+QGQfSOCUG/tgdB01YJQfbFHkHqcxxB3AIJQcftIkGcnyBBLPkKQdaNBkE=",
          "dtype": "f4"
         }
        },
        {
         "customdata": [
          [
           "I007-031-108742",
           "ASPS"
          ],
          [
           "I007-020-1007541",
           "ASPS"
          ],
          [
           "I007-039-130734",
           "ASPS"
          ],
          [
           "H021-64DVV7-T1",
           "ASPS"
          ],
          [
           "H021-ETC3EF-M5",
           "ASPS"
          ],
          [
           "H021-PWTUGA-M3",
           "ASPS"
          ],
          [
           "I018-007-102938",
           "ASPS"
          ],
          [
           "I011-005-226590",
           "ASPS"
          ],
          [
           "I045-006-0T1-P1",
           "ASPS"
          ],
          [
           "H021-J8VNC7-M2",
           "ASPS"
          ],
          [
           "H021-6VH6W2-T1-Q1",
           "ASPS"
          ],
          [
           "H021-281WVS-M1-Q1",
           "ASPS"
          ],
          [
           "H021-J8VNC7-M7-Q1",
           "ASPS"
          ],
          [
           "H021-5YFB63-M3-Q1",
           "ASPS"
          ],
          [
           "H021-5YFB63-T1-Q1",
           "ASPS"
          ],
          [
           "H021-4SRLF8-T1-Q1",
           "ASPS"
          ],
          [
           "H021-52JBSW-T1-Q1",
           "ASPS"
          ],
          [
           "H021-56GPUX-M1-Q1",
           "ASPS"
          ],
          [
           "H021-5YFB63-T4-Q1",
           "ASPS"
          ]
         ],
         "hovertemplate": "Sample name: %{customdata[0]}<br>code_oncotree: %{customdata[1]}<extra></extra>",
         "legendgroup": "ASPS",
         "marker": {
          "color": "#FFA15A",
          "opacity": 0.7,
          "symbol": "circle"
         },
         "mode": "markers",
         "name": "ASPS",
         "scene": "scene",
         "showlegend": true,
         "type": "scatter3d",
         "x": {
          "bdata": "32IwQc7ZMEHa1TBBGMMCQcALBUGPt/xAgLMaQU5DHUHFHBVBekEfQW/sEkFHSR9B76obQUdNGkGiRBlBT1YaQfjDKkEfSCFBSPMqQQ==",
          "dtype": "f4"
         },
         "y": {
          "bdata": "Dh7EP07PxT/EwcU//fTBvLiLh7xSjgLAHEE5Py2rCj/+8kI/eUGGPn38KMDW9J0+a8QlP4AU4T4qI9o+Ls+KPke4Kr9n3/e/VRAPvw==",
          "dtype": "f4"
         },
         "z": {
          "bdata": "IwIRQaL6EEE6DBFBtvslQWRTJ0G0HDJBoGwjQdmYJUGnhRRBd8MoQZ7bEEGG7ShBDrMkQX0IJEEtTyNB6hIkQW9nHkGQRklBb/keQQ==",
          "dtype": "f4"
         }
        },
        {
         "customdata": [
          [
           "MRI-1N586AF83-T1",
           "ASTR"
          ],
          [
           "MRI-1TRA1L154-T1",
           "ASTR"
          ],
          [
           "MRI-1RD52GF20-T1",
           "ASTR"
          ],
          [
           "MRI-1LHAJF89-T1",
           "ASTR"
          ],
          [
           "MRI-1HW9QV1FO-T1",
           "ASTR"
          ],
          [
           "MRI-1HW9QV1FO-T1-R2",
           "ASTR"
          ],
          [
           "MRI-1LHAJF89-T1-R2",
           "ASTR"
          ],
          [
           "MRI-1RD52GF20-T1-R2",
           "ASTR"
          ],
          [
           "MRI-1TRA1L154-T1-R2",
           "ASTR"
          ],
          [
           "MRI-1R4V865M3-T1-R2",
           "ASTR"
          ],
          [
           "H021-KVEGE9C-T1-Q1",
           "ASTR"
          ],
          [
           "H021-PS47PJU-T2-Q1",
           "ASTR"
          ],
          [
           "H021-C7DD21S-T1-Q1",
           "ASTR"
          ],
          [
           "H021-T9LCEZZ-T1-Q1",
           "ASTR"
          ],
          [
           "H021-EAA6P2Y-T1-Q1",
           "ASTR"
          ]
         ],
         "hovertemplate": "Sample name: %{customdata[0]}<br>code_oncotree: %{customdata[1]}<extra></extra>",
         "legendgroup": "ASTR",
         "marker": {
          "color": "#19d3f3",
          "opacity": 0.7,
          "symbol": "circle"
         },
         "mode": "markers",
         "name": "ASTR",
         "scene": "scene",
         "showlegend": true,
         "type": "scatter3d",
         "x": {
          "bdata": "qxlBQRcGQ0F1CUNBPzVCQWi3QkHzqEJB1yJCQcmxQkGeBENB8plCQcisDkEYShtBWfAsQQ8i90DdmhhB",
          "dtype": "f4"
         },
         "y": {
          "bdata": "VXm5PgUM4T72K+A+NhDQPt0j2z5oKtc+ZpnHPjjO1T44VN8+2WLUPrS6yL7V174+aMMtvwY8874cEE2/",
          "dtype": "f4"
         },
         "z": {
          "bdata": "QhDNQC+cyEBCj8hAbnbKQNlWyUDnZMlATXXKQII2yUB6kchARXjJQNDRHkFZ/R9BufccQbGLJEHNYzNB",
          "dtype": "f4"
         }
        },
        {
         "customdata": [
          [
           "H021-1AZ5GH-T1",
           "BA"
          ],
          [
           "H021-T3LJ7V-T1",
           "BA"
          ],
          [
           "H021-VHY17P-M1",
           "BA"
          ],
          [
           "H021-QRX3NQ-T1-E2",
           "BA"
          ],
          [
           "H021-XHXA22-M7-Q1",
           "BA"
          ],
          [
           "H021-VHY17P-M6-Q1",
           "BA"
          ],
          [
           "H021-GUA1P8-M2-Q1",
           "BA"
          ],
          [
           "H021-7YBKAY-T2-Q1",
           "BA"
          ],
          [
           "H021-QFMYFK-M1-Q1",
           "BA"
          ],
          [
           "H021-WRE78WG-M2-Q1",
           "BA"
          ],
          [
           "H021-WRE78WG-M2-E2",
           "BA"
          ]
         ],
         "hovertemplate": "Sample name: %{customdata[0]}<br>code_oncotree: %{customdata[1]}<extra></extra>",
         "legendgroup": "BA",
         "marker": {
          "color": "#FF6692",
          "opacity": 0.7,
          "symbol": "circle"
         },
         "mode": "markers",
         "name": "BA",
         "scene": "scene",
         "showlegend": true,
         "type": "scatter3d",
         "x": {
          "bdata": "RbYfQUvCCkFDchtBlDgMQU3dEUF1yRVBh8IPQdYnA0HDYxdBSHYdQaq1HUE=",
          "dtype": "f4"
         },
         "y": {
          "bdata": "BIyiPa+IwL//M5E+998aP6P+aL+06mK/Qcp8vzJW6L+M+Ii/B1uWPnPllD4=",
          "dtype": "f4"
         },
         "z": {
          "bdata": "vIM2QSqCDkFRmDFBNnsOQQn3OkGOzTlBNjI6QWVjLkGrFz1BUE0yQS1BMkE=",
          "dtype": "f4"
         }
        },
        {
         "customdata": [
          [
           "H021-MRRBED-M2-Q1",
           "BCAC"
          ]
         ],
         "hovertemplate": "Sample name: %{customdata[0]}<br>code_oncotree: %{customdata[1]}<extra></extra>",
         "legendgroup": "BCAC",
         "marker": {
          "color": "#B6E880",
          "opacity": 0.7,
          "symbol": "circle"
         },
         "mode": "markers",
         "name": "BCAC",
         "scene": "scene",
         "showlegend": true,
         "type": "scatter3d",
         "x": {
          "bdata": "qokPQQ==",
          "dtype": "f4"
         },
         "y": {
          "bdata": "S+rHvw==",
          "dtype": "f4"
         },
         "z": {
          "bdata": "+wQZQQ==",
          "dtype": "f4"
         }
        },
        {
         "customdata": [
          [
           "H021-BQ9Y9R-T1-Q1",
           "BCC"
          ],
          [
           "H021-LKMRDM-M1-Q1",
           "BCC"
          ]
         ],
         "hovertemplate": "Sample name: %{customdata[0]}<br>code_oncotree: %{customdata[1]}<extra></extra>",
         "legendgroup": "BCC",
         "marker": {
          "color": "#FF97FF",
          "opacity": 0.7,
          "symbol": "circle"
         },
         "mode": "markers",
         "name": "BCC",
         "scene": "scene",
         "showlegend": true,
         "type": "scatter3d",
         "x": {
          "bdata": "ZkQIQX+gDUE=",
          "dtype": "f4"
         },
         "y": {
          "bdata": "+N1CwEXC0L8=",
          "dtype": "f4"
         },
         "z": {
          "bdata": "ricrQeX1JkE=",
          "dtype": "f4"
         }
        },
        {
         "customdata": [
          [
           "H021-F2A9VV-T1",
           "BENIGN"
          ],
          [
           "H021-F2A9VV-U1",
           "BENIGN"
          ],
          [
           "MRI-195VW6R77-T1",
           "BENIGN"
          ]
         ],
         "hovertemplate": "Sample name: %{customdata[0]}<br>code_oncotree: %{customdata[1]}<extra></extra>",
         "legendgroup": "BENIGN",
         "marker": {
          "color": "#FECB52",
          "opacity": 0.7,
          "symbol": "circle"
         },
         "mode": "markers",
         "name": "BENIGN",
         "scene": "scene",
         "showlegend": true,
         "type": "scatter3d",
         "x": {
          "bdata": "XZsAQefjGEEa/UJB",
          "dtype": "f4"
         },
         "y": {
          "bdata": "1GoNPog+BT8bzd4+",
          "dtype": "f4"
         },
         "z": {
          "bdata": "528vQW1vBEFvoshA",
          "dtype": "f4"
         }
        },
        {
         "customdata": [
          [
           "H021-BSDEKA-M6-Q1",
           "BLCA"
          ]
         ],
         "hovertemplate": "Sample name: %{customdata[0]}<br>code_oncotree: %{customdata[1]}<extra></extra>",
         "legendgroup": "BLCA",
         "marker": {
          "color": "#636efa",
          "opacity": 0.7,
          "symbol": "circle"
         },
         "mode": "markers",
         "name": "BLCA",
         "scene": "scene",
         "showlegend": true,
         "type": "scatter3d",
         "x": {
          "bdata": "afMDQQ==",
          "dtype": "f4"
         },
         "y": {
          "bdata": "XkI8wA==",
          "dtype": "f4"
         },
         "z": {
          "bdata": "kasjQQ==",
          "dtype": "f4"
         }
        },
        {
         "customdata": [
          [
           "I062-029-T2",
           "BRAINBG"
          ]
         ],
         "hovertemplate": "Sample name: %{customdata[0]}<br>code_oncotree: %{customdata[1]}<extra></extra>",
         "legendgroup": "BRAINBG",
         "marker": {
          "color": "#EF553B",
          "opacity": 0.7,
          "symbol": "circle"
         },
         "mode": "markers",
         "name": "BRAINBG",
         "scene": "scene",
         "showlegend": true,
         "type": "scatter3d",
         "x": {
          "bdata": "aIAUQQ==",
          "dtype": "f4"
         },
         "y": {
          "bdata": "il6sPw==",
          "dtype": "f4"
         },
         "z": {
          "bdata": "9DsUQQ==",
          "dtype": "f4"
         }
        },
        {
         "customdata": [
          [
           "H021-C16TMF-M1",
           "BRCA"
          ],
          [
           "H021-W99VB9-M1",
           "BRCA"
          ],
          [
           "H021-59N89Q-M1",
           "BRCA"
          ],
          [
           "H021-V5L84W-M1",
           "BRCA"
          ],
          [
           "K26K-464CX9-M11-P1",
           "BRCA"
          ],
          [
           "K26K-4REYWT-M12-P1",
           "BRCA"
          ],
          [
           "K26K-79DY8J-M11-P1",
           "BRCA"
          ],
          [
           "K26K-A927U9-M12-P1",
           "BRCA"
          ],
          [
           "K26K-AKQTJ4-M12-P1",
           "BRCA"
          ],
          [
           "K26K-LHHD5C-T12-P1",
           "BRCA"
          ],
          [
           "K26K-HSQBX1-M21-P1",
           "BRCA"
          ],
          [
           "K26K-XHPB2P-T12-P1",
           "BRCA"
          ],
          [
           "A26K-HS3BDB-T14-Q1",
           "BRCA"
          ],
          [
           "K26K-UFZWVB-M12-Q1",
           "BRCA"
          ],
          [
           "H021-EWZVEU-M1-Q1",
           "BRCA"
          ],
          [
           "A26K-JHRA29-T12-Q1",
           "BRCA"
          ],
          [
           "K26K-2SEUP3-M12-Q1",
           "BRCA"
          ],
          [
           "A26K-NBD9LE-T22-Q1",
           "BRCA"
          ],
          [
           "A26K-5SXQR3-T11-Q1",
           "BRCA"
          ],
          [
           "A26K-5SXQR3-T24-Q1",
           "BRCA"
          ],
          [
           "K26K-T89Y8P-T11-Q1",
           "BRCA"
          ],
          [
           "K26K-VQYWVY-M13-Q1",
           "BRCA"
          ],
          [
           "K26K-7M2CHU-M11-Q1",
           "BRCA"
          ],
          [
           "K26K-8DNE6X-T11-Q1",
           "BRCA"
          ],
          [
           "A26K-ADUQXR-T11-Q1",
           "BRCA"
          ],
          [
           "A26K-ADUQXR-T22",
           "BRCA"
          ],
          [
           "H021-LHXEM5-M2",
           "BRCA"
          ],
          [
           "H021-VMUK3T-M3",
           "BRCA"
          ],
          [
           "K26K-3STYTF-T11",
           "BRCA"
          ],
          [
           "K26K-EPRC8E-T41-Q1",
           "BRCA"
          ],
          [
           "K26K-MMXGSX-M32-Q1",
           "BRCA"
          ],
          [
           "K26K-8SNWXL-M21-Q1",
           "BRCA"
          ],
          [
           "K26K-RTLHQJ-M11-Q1",
           "BRCA"
          ],
          [
           "K26K-CU68PJ-M12-Q1",
           "BRCA"
          ],
          [
           "K26K-ADCQHA-M12-Q1",
           "BRCA"
          ],
          [
           "K26K-QHXP8F-M12-Q1",
           "BRCA"
          ],
          [
           "K26K-UYPA78-M12-Q1",
           "BRCA"
          ],
          [
           "K26K-XMAG5C-M12-Q1",
           "BRCA"
          ],
          [
           "K26K-28ZXGT-M21-Q1",
           "BRCA"
          ],
          [
           "K26K-UWLWTK-T12-Q1",
           "BRCA"
          ],
          [
           "K26K-VNZ1KD-M11-Q1",
           "BRCA"
          ],
          [
           "K26K-C6CD3Y-M11-Q1",
           "BRCA"
          ],
          [
           "K26K-E8QNET-M21-Q1",
           "BRCA"
          ],
          [
           "K26K-626NYZ-M11-Q1",
           "BRCA"
          ],
          [
           "K26K-P4CX71-M11-Q1",
           "BRCA"
          ],
          [
           "K26K-5QQNGF-M41-Q1",
           "BRCA"
          ],
          [
           "K26K-WVMDQM-M11-Q1",
           "BRCA"
          ],
          [
           "K26K-7BQYTL-M21-Q1",
           "BRCA"
          ],
          [
           "K26K-HGX6HZ-M11-Q1",
           "BRCA"
          ],
          [
           "K26K-A927U9-M22-Q1",
           "BRCA"
          ],
          [
           "K26K-CDY5WK-M12-Q1",
           "BRCA"
          ],
          [
           "K26K-L9SSK5-M12-Q1",
           "BRCA"
          ],
          [
           "K26K-XL4SBF-M22-Q1",
           "BRCA"
          ],
          [
           "K26K-YRU28Z-M22-Q1",
           "BRCA"
          ],
          [
           "A26K-NM2AUB-T23-Q1",
           "BRCA"
          ],
          [
           "K26K-5KJWGU-T13-Q1",
           "BRCA"
          ],
          [
           "K26K-2ALFPG-M21-Q1",
           "BRCA"
          ],
          [
           "K26K-AJETBY-M12-Q1",
           "BRCA"
          ],
          [
           "K26K-BZEUFF-M11-Q1",
           "BRCA"
          ],
          [
           "K26K-K6UAUG-M21-Q1",
           "BRCA"
          ],
          [
           "K26K-W61WUT-M11-Q1",
           "BRCA"
          ],
          [
           "A26K-9TET1N-T11-Q1",
           "BRCA"
          ],
          [
           "A26K-9TET1N-T21-Q1",
           "BRCA"
          ],
          [
           "K26K-SM3SDD-M12-Q1",
           "BRCA"
          ],
          [
           "K26K-CEUF36-T12-Q1",
           "BRCA"
          ],
          [
           "K26K-ML427X-M11-Q1",
           "BRCA"
          ],
          [
           "K26K-2N34MS-M12-Q1",
           "BRCA"
          ],
          [
           "K26K-48FUPJ-M11-Q1",
           "BRCA"
          ],
          [
           "K26K-AFAHUU-M14-Q1",
           "BRCA"
          ],
          [
           "K26K-DRLREE-M11-Q1",
           "BRCA"
          ],
          [
           "H021-C9TCY8-M1-Q1",
           "BRCA"
          ],
          [
           "K26K-4HZ171-M13-Q1",
           "BRCA"
          ],
          [
           "K26K-7ARCJQ-M22-Q1",
           "BRCA"
          ],
          [
           "K26K-G4JX3M-M11-Q1",
           "BRCA"
          ],
          [
           "K26K-G89MJC-M11-Q1",
           "BRCA"
          ],
          [
           "H021-1WKNGS-T1-Q1",
           "BRCA"
          ],
          [
           "K26K-98EVMC-M11-Q1",
           "BRCA"
          ],
          [
           "K26K-DUL4HS-M22-Q1",
           "BRCA"
          ],
          [
           "K26K-JJERC1-M11-Q1",
           "BRCA"
          ],
          [
           "K26K-KUNL2W-M22-Q1",
           "BRCA"
          ],
          [
           "K26K-SP2BGE-M11-Q1",
           "BRCA"
          ],
          [
           "K26K-VWASDF-T21-Q1",
           "BRCA"
          ],
          [
           "K26K-WSFER2-M11-Q1",
           "BRCA"
          ],
          [
           "K26K-18N8XX-M11-Q1",
           "BRCA"
          ],
          [
           "K26K-YN54AN-M11-Q1",
           "BRCA"
          ],
          [
           "K26K-8S9KYB-M11-Q1",
           "BRCA"
          ],
          [
           "K26K-DM3BDU-M12-Q1",
           "BRCA"
          ],
          [
           "K26K-HH2AKS-M11-Q1",
           "BRCA"
          ],
          [
           "K26K-L9VFYV-M12-Q1",
           "BRCA"
          ],
          [
           "K26K-XXKAUD-T12-Q1",
           "BRCA"
          ],
          [
           "H021-MH3PJE-M2-Q1",
           "BRCA"
          ],
          [
           "K26K-7ZLPNW-M12-Q1",
           "BRCA"
          ],
          [
           "K26K-8KYJA3-M11-Q1",
           "BRCA"
          ],
          [
           "K26K-BY3CU9-M11-Q1",
           "BRCA"
          ],
          [
           "H021-6WNNW9-M3-Q1",
           "BRCA"
          ],
          [
           "K26K-X8ZH2R-A12-Q1",
           "BRCA"
          ],
          [
           "K26K-2SYX4M-M11-Q1",
           "BRCA"
          ],
          [
           "K26K-6GEYS6-M21-Q1",
           "BRCA"
          ],
          [
           "K26K-DJ3HQD-M12-Q1",
           "BRCA"
          ],
          [
           "K26K-FEVN2M-M11-Q1",
           "BRCA"
          ],
          [
           "K26K-W13FSS-T11-Q1",
           "BRCA"
          ],
          [
           "H021-VFEAZR-T1-Q1",
           "BRCA"
          ],
          [
           "K26K-YYSRMQ-M11-Q1",
           "BRCA"
          ],
          [
           "K26K-49JAYE-M12-Q1",
           "BRCA"
          ],
          [
           "K26K-ADUQXR-M12-Q1",
           "BRCA"
          ],
          [
           "K26K-UHFDPK-M11-Q1",
           "BRCA"
          ],
          [
           "K26K-9L1Y67-M11-Q1",
           "BRCA"
          ],
          [
           "K26K-BNT5N4-M11-Q1",
           "BRCA"
          ],
          [
           "K26K-L8XPSZ-M11-Q1",
           "BRCA"
          ],
          [
           "K26K-XTJ7Y9-T11-Q1",
           "BRCA"
          ],
          [
           "K26K-KFMA1Q-M12-Q1",
           "BRCA"
          ],
          [
           "K26K-1GVZCL-M11-Q1",
           "BRCA"
          ],
          [
           "K26K-4GF7MY-T11-Q1",
           "BRCA"
          ],
          [
           "K26K-7ATS4U-M12-Q1",
           "BRCA"
          ],
          [
           "K26K-EPJFEF-T11-Q1",
           "BRCA"
          ],
          [
           "K26K-R8PSWC-M11-Q1",
           "BRCA"
          ],
          [
           "K26K-YJ9GCJ-T12-Q1",
           "BRCA"
          ],
          [
           "K26K-XBFHQ2-M21-Q1",
           "BRCA"
          ],
          [
           "K26K-B1XR5S-M11-Q1",
           "BRCA"
          ],
          [
           "K26K-BKWV8G-T11-Q1",
           "BRCA"
          ],
          [
           "K26K-XNAQJ3-M14-Q1",
           "BRCA"
          ],
          [
           "K26K-84BAN3-T11-Q1",
           "BRCA"
          ],
          [
           "K26K-FFERGY-M11-Q1",
           "BRCA"
          ],
          [
           "K26K-JTA6QT-M11-Q1",
           "BRCA"
          ],
          [
           "K26K-T1HPZ7-M11-Q1",
           "BRCA"
          ],
          [
           "K26K-UTHXYT-T12-Q1",
           "BRCA"
          ],
          [
           "K26K-VM998R-M12-Q1",
           "BRCA"
          ],
          [
           "K26K-ER3MP5-M11-Q1",
           "BRCA"
          ],
          [
           "K26K-EWZVEU-M21-Q1",
           "BRCA"
          ],
          [
           "K26K-MSWYW3-M11-Q1",
           "BRCA"
          ],
          [
           "K26K-SNFUYE-M11-Q1",
           "BRCA"
          ],
          [
           "K26K-XBSCRQ-T11-Q1",
           "BRCA"
          ],
          [
           "K26K-K6UAUG-M31-Q1",
           "BRCA"
          ],
          [
           "K26K-V115SB-M22-Q1",
           "BRCA"
          ],
          [
           "K26K-XX8LUG-T11-Q1",
           "BRCA"
          ],
          [
           "K26K-CTD3KC-M21-Q1",
           "BRCA"
          ],
          [
           "K26K-9HC2UR-M11-Q1",
           "BRCA"
          ],
          [
           "K26K-ME6J6U-M11-Q1",
           "BRCA"
          ],
          [
           "K26K-ZQ18H5-M11-Q1",
           "BRCA"
          ],
          [
           "K26K-32H7H5-M21-Q1",
           "BRCA"
          ],
          [
           "K26K-BZEUFF-T11-Q1",
           "BRCA"
          ],
          [
           "K26K-6CQ3E7-M11-Q1",
           "BRCA"
          ],
          [
           "K26K-8QKEP7-A11-Q1",
           "BRCA"
          ],
          [
           "K26K-P9MXM1-M21-Q1",
           "BRCA"
          ],
          [
           "K26K-UTKPWH-M11-Q1",
           "BRCA"
          ],
          [
           "K26K-YJ41GL-A11-Q1",
           "BRCA"
          ],
          [
           "K26K-BPSK9Z-T11-Q1",
           "BRCA"
          ],
          [
           "K26K-D7V6HC-T11-Q1",
           "BRCA"
          ],
          [
           "K26K-L45Y7Y-M11-Q1",
           "BRCA"
          ],
          [
           "K26K-4176HK-M12-Q1",
           "BRCA"
          ],
          [
           "K26K-RAFWHB-M11-Q1",
           "BRCA"
          ],
          [
           "K26K-8MY2XR-M21-Q1",
           "BRCA"
          ],
          [
           "K26K-LGFSLT-M11-Q1",
           "BRCA"
          ],
          [
           "H021-RFVHWPB-M1-Q1",
           "BRCA"
          ],
          [
           "K26K-4GNEQB-M21-Q1",
           "BRCA"
          ],
          [
           "K26K-4GNEQB-M21-E2",
           "BRCA"
          ],
          [
           "K26K-VFCNAH-T11-Q1",
           "BRCA"
          ]
         ],
         "hovertemplate": "Sample name: %{customdata[0]}<br>code_oncotree: %{customdata[1]}<extra></extra>",
         "legendgroup": "BRCA",
         "marker": {
          "color": "#00cc96",
          "opacity": 0.7,
          "symbol": "circle"
         },
         "mode": "markers",
         "name": "BRCA",
         "scene": "scene",
         "showlegend": true,
         "type": "scatter3d",
         "x": {
          "bdata": "4JwIQQMtF0GYwi1B5MkHQZnICEEHFghBJqkHQXKcBkES8R9B9jIIQSBWBkHz9whBc3MCQThnFkEZxg5B83gIQQ2xBkE5MQ9BGi0IQROABkHxHgNBCygRQUsqAUHUAwJBfnIVQV2kF0EZUgFBSRIEQSvQA0H/5SNBZH4QQfZWBUHsvQVBPUoaQc3ZDEFVegtBvUgOQYKwDUEFoBNBiHUTQVFiE0FBIg5BqrEmQaiQC0HR1AhBScEMQV6JDUFwMwpBMJgKQcHSD0G3vBRBzE0SQWg6DEFOrw5BUscIQRSoDUHUORNBijQWQQFqDEFazxhBUGkAQQgIAEF4jgBBnsIMQeM+EUEUBhVB1nATQWzNCUEXgxZBFKkZQcEwEEEffBBBW7sLQTcZFUFOBxZBhj8TQY3rE0G0ixJBfD4dQTRwGEF6qhZBtrUPQfgPEEED+BtBKwQcQd5VCEGKIwdBbSIIQfG6GUG2IABBBhcAQYGsFEH2GRVBt87oQPXHEkG+/wtBcCkdQdn4FUEF4xdBJZYfQQMdEkG0MhZBE+EUQWT9A0Hq1AFBGEgVQZ/SFEEKShZBqxsUQdCdFEHegg1B6HoFQbBrB0ERcAdBLuMLQbpACUFuyQhBIUsKQdu6CUGrzwVBTd0lQRK1I0FRgyNBE+YhQfiaI0E+hxJB/dkeQQJYDkH/iQ1BgUoIQdhHB0GivB5BM8USQT8KEkFkWgtBPdoPQXPOFEGz4RZBZTAOQZxVGEHrqhhBnXgfQSELEEEAFhxB0wEAQV68GEEZOBFBwLwQQd7IEEGJiw1Bc2ELQRMAFEHCIAtBVfQRQQmxEEE9kx1B+B8TQQ==",
          "dtype": "f4"
         },
         "y": {
          "bdata": "krM6wHWyLcBz+D2/i1hLwNB7T8AaRkvATHJRwFeEUMASXBW/+U5MwFfMUcBmC07AzcQ6wEAPUcDZw1jAEr1TwEl6F8D4/GHAyM8SwALkEMAWdiHADDdGwBM2IcCmnULABB3KvyZwz7/kuBLAutkjwAHSG8BwytK/0K8pwJpylr8OG7+/tGclwOhnZsBGNWTADMNuwMpkbMCqVIO/SU6nvx5Mmb+E3zrANNotv1IgFsCSsRTAy1U9wPt6KcBPuTPAFcvYvzBCQcD6nz3Aeu9vwMNTQ8BwIULAj3sNwJACPMDxhlTAz2JXwAwlP8AqwDrAt+gZwM6NEcAB8hDAteErwNlsE8Az2wfA/PnPv9gkbMC5o1TAj9BSwKBdacDKQ2rAWMs+wM+oQsAYwjzAQcRhwKhqa8DdUVLAVpYkwBiXFcCiXCnAiktEwBY/IMAShyPASYMhwD13EMAH1wXAZboeP0R9M8Akxc6/MOkHwN/+Y8Bd7GXAJf29v+hsVMBwJGDAStBwwOa8DMBIcAjAovlLvrqHFsC9+ve/FsgKwFaeR8ABdFHAcB1owEKYY8BqY2bAYyuBwONtg8B1mzrAaUtLwH6WKMB9YCLATOoywO4SPsAD10jA3wxkwGh+YsAe+VrAqMMBwHBp6L8NdQLAdrT/v4Qo9b8+dm+/Y9ZQwHPQXMCv/UnAj39AwA9PNcD3gJ2/Ca/5v5m+DsClx03A1kwRwL4IdMB0FnLAQX/2v3p8DMCouhvA4o0jwGIND8Ahbmu/zKV3v9YrFMDvvy/AAaEwwLGHQ8D35hvAWedNwBqsRsBP4zLABeZIwEajTL/b72s+aSdZwA==",
          "dtype": "f4"
         },
         "z": {
          "bdata": "sE8WQWPBE0E1URdBw/otQeO9DEEUFwtBOs8KQaW1CUHukAtByXwKQfyHDUHBvQxBn10mQfB3F0GbxBpB8BocQbtfNEEIyitBeP8ZQRZRE0FXIyVB3fEOQUPGJEEHGSdB9PAaQTZAGEHKJB1BFD0dQXnKG0GOICdB/cYYQYj4C0FEdA5Bbj0iQc/5HUFSZhxBGGkfQdSIIkFvDxxBOe0eQRfWHEFRpBZBg6MsQZlmGkEvrxdBT5IWQQfODEE8ng9BmYEiQSa3HkHVChhB4uUYQajTGEExRhFB5iwSQYWzIkFvWxZB7PoWQc5bFEHdnxNBdI0PQfrZD0Hliw9Bwi4iQT/ACEGgPAlByPkHQRpfHUF9wxRB/a0UQdj+KUFndypBBSkYQcuDEEHMjw9BMyQlQUX4FkFYSxFBPV0dQZfIHEEYlRxBVNwUQUlJIEHEJAlBzmsIQdDZFUGHBRRBRi4bQQccEUFOUSpBA8IqQZhiJkEX6CRBa6gfQZDzGUFq/zFBTcweQVJtGkGpoRtBD14JQdPkE0FpJihB+cEtQZL0IkHVQChBkxMvQXLGL0Et5i5BF1YbQZVtH0ER8i1BB8EeQfM1JkF7YSdB5SohQdyVLEFDGSZBPMkaQU5uGkFhyRtB2+QgQdsrHUE0Ex1BqjMaQWrEHUF64RJBWjYZQcUyF0H31hVBzLokQarwJEEIOyBBNjkrQZOALUH1aSdB0EMUQZoRJEGJ3ShBdk4HQTTaHEGVch1Bb00mQd0oEkFHvzJB4s0dQYneHEGjHxdBsdMTQTqIFkGBlQxBh8EgQTt8FUEGlCdBTD4PQWeeMEGdPTJByDcTQQ==",
          "dtype": "f4"
         }
        },
        {
         "customdata": [
          [
           "H021-B58HYJ-M2-Q1",
           "CAEXPA"
          ]
         ],
         "hovertemplate": "Sample name: %{customdata[0]}<br>code_oncotree: %{customdata[1]}<extra></extra>",
         "legendgroup": "CAEXPA",
         "marker": {
          "color": "#ab63fa",
          "opacity": 0.7,
          "symbol": "circle"
         },
         "mode": "markers",
         "name": "CAEXPA",
         "scene": "scene",
         "showlegend": true,
         "type": "scatter3d",
         "x": {
          "bdata": "7+gfQQ==",
          "dtype": "f4"
         },
         "y": {
          "bdata": "zKrlvw==",
          "dtype": "f4"
         },
         "z": {
          "bdata": "wwEnQQ==",
          "dtype": "f4"
         }
        },
        {
         "customdata": [
          [
           "I007-029-108166",
           "CCS"
          ],
          [
           "H021-5EMPLL-M1",
           "CCS"
          ],
          [
           "H021-UQYD3U-M3",
           "CCS"
          ],
          [
           "I076-036-0M1-P1",
           "CCS"
          ],
          [
           "I054-019-3M1-P1",
           "CCS"
          ],
          [
           "H021-3CAFV3-M1",
           "CCS"
          ],
          [
           "H021-Q2DU1B-M3-Q1",
           "CCS"
          ],
          [
           "H021-Q2DU1B-M5-Q1",
           "CCS"
          ],
          [
           "H021-WS3DL3-M3-Q1",
           "CCS"
          ],
          [
           "H021-DDK5N8-M1-Q1",
           "CCS"
          ],
          [
           "H021-PJTHE7-M2-Q1",
           "CCS"
          ],
          [
           "H021-F8J91GP-M1-Q1",
           "CCS"
          ]
         ],
         "hovertemplate": "Sample name: %{customdata[0]}<br>code_oncotree: %{customdata[1]}<extra></extra>",
         "legendgroup": "CCS",
         "marker": {
          "color": "#FFA15A",
          "opacity": 0.7,
          "symbol": "circle"
         },
         "mode": "markers",
         "name": "CCS",
         "scene": "scene",
         "showlegend": true,
         "type": "scatter3d",
         "x": {
          "bdata": "h1AhQTEnA0HVpwNBOw4QQZaPK0HPIQFBfAEDQV8T/kBudRFBX8cRQd1lCEG6Qw5B",
          "dtype": "f4"
         },
         "y": {
          "bdata": "U/ySP3PpfL+LQpc+aDYLPzedED+WxRfA8dHzv4bh1L8QPau+WsqlvyqXMz/deky/",
          "dtype": "f4"
         },
         "z": {
          "bdata": "jyoEQbonMUGAcC5BNhEbQRvZEUGH1SJBuJkTQZhfKUHj6yhBmDYKQRlxG0GD2SBB",
          "dtype": "f4"
         }
        },
        {
         "customdata": [
          [
           "H021-AWHZA6-M1-Q1",
           "CEAD"
          ],
          [
           "H021-9MJYRU-M2-Q1",
           "CEAD"
          ],
          [
           "H021-4X511D-M2-Q1",
           "CEAD"
          ],
          [
           "H021-AYXXK9-M1-Q2",
           "CEAD"
          ]
         ],
         "hovertemplate": "Sample name: %{customdata[0]}<br>code_oncotree: %{customdata[1]}<extra></extra>",
         "legendgroup": "CEAD",
         "marker": {
          "color": "#19d3f3",
          "opacity": 0.7,
          "symbol": "circle"
         },
         "mode": "markers",
         "name": "CEAD",
         "scene": "scene",
         "showlegend": true,
         "type": "scatter3d",
         "x": {
          "bdata": "u2z/QIOZE0FpSiFB8fcMQQ==",
          "dtype": "f4"
         },
         "y": {
          "bdata": "wN4uvXf1TsCV8PO/qQ9ZwA==",
          "dtype": "f4"
         },
         "z": {
          "bdata": "ZhYkQW8nLkFY+DJBAOwzQQ==",
          "dtype": "f4"
         }
        },
        {
         "customdata": [
          [
           "H021-1KK46T-M2",
           "CEMN"
          ],
          [
           "H021-1KK46T-M1",
           "CEMN"
          ]
         ],
         "hovertemplate": "Sample name: %{customdata[0]}<br>code_oncotree: %{customdata[1]}<extra></extra>",
         "legendgroup": "CEMN",
         "marker": {
          "color": "#FF6692",
          "opacity": 0.7,
          "symbol": "circle"
         },
         "mode": "markers",
         "name": "CEMN",
         "scene": "scene",
         "showlegend": true,
         "type": "scatter3d",
         "x": {
          "bdata": "hQoTQfyZE0E=",
          "dtype": "f4"
         },
         "y": {
          "bdata": "YaJTwFEhWcA=",
          "dtype": "f4"
         },
         "z": {
          "bdata": "o5YfQYjWG0E=",
          "dtype": "f4"
         }
        },
        {
         "customdata": [
          [
           "H021-86LW15-T2-Q1",
           "CENE"
          ]
         ],
         "hovertemplate": "Sample name: %{customdata[0]}<br>code_oncotree: %{customdata[1]}<extra></extra>",
         "legendgroup": "CENE",
         "marker": {
          "color": "#B6E880",
          "opacity": 0.7,
          "symbol": "circle"
         },
         "mode": "markers",
         "name": "CENE",
         "scene": "scene",
         "showlegend": true,
         "type": "scatter3d",
         "x": {
          "bdata": "NFEeQQ==",
          "dtype": "f4"
         },
         "y": {
          "bdata": "8FxDwA==",
          "dtype": "f4"
         },
         "z": {
          "bdata": "ofgsQQ==",
          "dtype": "f4"
         }
        },
        {
         "customdata": [
          [
           "H021-MVBNYBZ-T1-Q1",
           "CHBL"
          ]
         ],
         "hovertemplate": "Sample name: %{customdata[0]}<br>code_oncotree: %{customdata[1]}<extra></extra>",
         "legendgroup": "CHBL",
         "marker": {
          "color": "#FF97FF",
          "opacity": 0.7,
          "symbol": "circle"
         },
         "mode": "markers",
         "name": "CHBL",
         "scene": "scene",
         "showlegend": true,
         "type": "scatter3d",
         "x": {
          "bdata": "pAsNQQ==",
          "dtype": "f4"
         },
         "y": {
          "bdata": "6T0twA==",
          "dtype": "f4"
         },
         "z": {
          "bdata": "d4YoQQ==",
          "dtype": "f4"
         }
        },
        {
         "customdata": [
          [
           "H021-E381AV-T2-E2",
           "CHDM"
          ],
          [
           "H021-UQBN7H-T2",
           "CHDM"
          ],
          [
           "H021-S1WQZ5-M1",
           "CHDM"
          ],
          [
           "H021-YTWLBM-T3-E1",
           "CHDM"
          ],
          [
           "H021-9DVBZG-M1-E2",
           "CHDM"
          ],
          [
           "H021-3P7FPW-T1-E1",
           "CHDM"
          ],
          [
           "H021-BDWQVA-M3",
           "CHDM"
          ],
          [
           "H021-BDWQVA-M4",
           "CHDM"
          ],
          [
           "H021-1Z1Z9R-T3",
           "CHDM"
          ],
          [
           "H021-2GFWNK-M1",
           "CHDM"
          ],
          [
           "H021-5VNN-T1",
           "CHDM"
          ],
          [
           "H021-5WKVYW-T3",
           "CHDM"
          ],
          [
           "H021-5YEPF5-M1",
           "CHDM"
          ],
          [
           "H021-5YEPF5-M3",
           "CHDM"
          ],
          [
           "H021-7J2J7X-M1",
           "CHDM"
          ],
          [
           "H021-8A97XD-T2",
           "CHDM"
          ],
          [
           "H021-9G2S1F-T1-E2",
           "CHDM"
          ],
          [
           "H021-CJVR-T1",
           "CHDM"
          ],
          [
           "H021-FJ8QYX-T2-E1",
           "CHDM"
          ],
          [
           "H021-JA26GW-T1",
           "CHDM"
          ],
          [
           "H021-JNQHBW-T1",
           "CHDM"
          ],
          [
           "H021-LS387K-T2",
           "CHDM"
          ],
          [
           "H021-N624KQ-T1",
           "CHDM"
          ],
          [
           "H021-NQ7S9M-T1",
           "CHDM"
          ],
          [
           "H021-PN8G4P-T2",
           "CHDM"
          ],
          [
           "H021-REMV5U-T1",
           "CHDM"
          ],
          [
           "H021-SN3KBH-T1",
           "CHDM"
          ],
          [
           "H021-YUE8CH-T1",
           "CHDM"
          ],
          [
           "H021-YW2T5S-T1",
           "CHDM"
          ],
          [
           "H021-Z1LD1V-T1",
           "CHDM"
          ],
          [
           "H021-6NY94X-T3",
           "CHDM"
          ],
          [
           "H021-CM887S-M2",
           "CHDM"
          ],
          [
           "H021-4GTCCA-T1",
           "CHDM"
          ],
          [
           "H021-8P95WW-M1",
           "CHDM"
          ],
          [
           "H021-PJ5TLX-T2",
           "CHDM"
          ],
          [
           "H021-VNDBT7-M1",
           "CHDM"
          ],
          [
           "H021-SX9EQ8-T3-E2",
           "CHDM"
          ],
          [
           "H021-4QAQ6K-M3-E2",
           "CHDM"
          ],
          [
           "H021-N624KQ-T11-E2",
           "CHDM"
          ],
          [
           "H021-BMDHN2-M1",
           "CHDM"
          ],
          [
           "H021-6A9ZQ6-T2-Q1",
           "CHDM"
          ],
          [
           "H021-6CUT1H-T1-Q1",
           "CHDM"
          ],
          [
           "H021-A8GH43-T5-Q1",
           "CHDM"
          ],
          [
           "H021-W4TA9C-T4-Q1",
           "CHDM"
          ],
          [
           "H021-HTX8PM-T1-Q1",
           "CHDM"
          ],
          [
           "H021-N624KQ-T10-Q1",
           "CHDM"
          ],
          [
           "H021-REMV5U-T3-Q1",
           "CHDM"
          ],
          [
           "H021-REMV5U-T4-Q1",
           "CHDM"
          ],
          [
           "H021-UJN13U-M1-Q1",
           "CHDM"
          ],
          [
           "H021-N624KQ-T3-Q1",
           "CHDM"
          ],
          [
           "H021-V6BV2M-M1-Q1",
           "CHDM"
          ],
          [
           "S033-33+001-T1-Q1",
           "CHDM"
          ],
          [
           "S033-33+001-T3-Q1",
           "CHDM"
          ],
          [
           "S033-33+002-T1-Q1",
           "CHDM"
          ],
          [
           "S033-33+003-T1-Q1",
           "CHDM"
          ],
          [
           "S033-33+004-T1-Q1",
           "CHDM"
          ],
          [
           "S033-33+002-T2-Q1",
           "CHDM"
          ],
          [
           "S033-33+003-T2-Q1",
           "CHDM"
          ],
          [
           "S033-33+005-T1-Q1",
           "CHDM"
          ],
          [
           "S033-33+004-T2-Q1",
           "CHDM"
          ],
          [
           "H021-V6BV2M-M2-Q1",
           "CHDM"
          ],
          [
           "S033-33+001-T2-Q1",
           "CHDM"
          ],
          [
           "S033-33+005-T2-Q1",
           "CHDM"
          ],
          [
           "S033-33+006-T1-Q1",
           "CHDM"
          ],
          [
           "H021-HGZEZ3-M4",
           "CHDM"
          ],
          [
           "S033-33+006-T2-Q1",
           "CHDM"
          ],
          [
           "S033-33+007-T1-Q1",
           "CHDM"
          ],
          [
           "H021-8E44VG-T1-Q1",
           "CHDM"
          ],
          [
           "S033-33+008-T1-Q1",
           "CHDM"
          ],
          [
           "S033-33+008-T2-Q1",
           "CHDM"
          ],
          [
           "S033-33+006-T3-Q1",
           "CHDM"
          ],
          [
           "S033-33+007-T2-Q1",
           "CHDM"
          ],
          [
           "S033-33+009-T2-Q1",
           "CHDM"
          ],
          [
           "S033-33+011-T1-Q1",
           "CHDM"
          ],
          [
           "S033-33+010-T1-Q1",
           "CHDM"
          ],
          [
           "H021-V4UVPH-T1-Q1",
           "CHDM"
          ],
          [
           "H021-YQWZ88-M3-Q1",
           "CHDM"
          ],
          [
           "S033-33+014-T1-Q1",
           "CHDM"
          ],
          [
           "S033-33+016-T1-Q1",
           "CHDM"
          ],
          [
           "S033-33+018-T1-Q1",
           "CHDM"
          ],
          [
           "S033-33+020-T1-Q1",
           "CHDM"
          ],
          [
           "S033-33+022-T1-Q1",
           "CHDM"
          ],
          [
           "S033-33+023-T1-Q1",
           "CHDM"
          ],
          [
           "S033-33+021-T1-Q1",
           "CHDM"
          ],
          [
           "S033-33+024-T1-Q1",
           "CHDM"
          ],
          [
           "S033-33+025-T1-Q1",
           "CHDM"
          ],
          [
           "S033-33+026-T1-Q1",
           "CHDM"
          ],
          [
           "S033-33+029-T1-Q1",
           "CHDM"
          ],
          [
           "S033-33+030-T1-Q1",
           "CHDM"
          ],
          [
           "H021-ZLMX2F-T2-Q1",
           "CHDM"
          ],
          [
           "H021-3HMNDM-T1-Q1",
           "CHDM"
          ],
          [
           "H021-DC9SNL-M1-Q1",
           "CHDM"
          ],
          [
           "S033-33+032-T1-Q1",
           "CHDM"
          ],
          [
           "S033-33+033-T1-Q1",
           "CHDM"
          ],
          [
           "S033-33+034-T1-Q1",
           "CHDM"
          ],
          [
           "S033-33+035-T1-Q1",
           "CHDM"
          ],
          [
           "S033-33+036-T1-Q1",
           "CHDM"
          ],
          [
           "S033-33+037-T1-Q1",
           "CHDM"
          ],
          [
           "S033-33+038-T1-Q1",
           "CHDM"
          ],
          [
           "H021-2ZDXQV-M1-Q1",
           "CHDM"
          ],
          [
           "H021-Y9L8J1-M1-Q1",
           "CHDM"
          ],
          [
           "H021-7PCAFC-M1-Q1",
           "CHDM"
          ],
          [
           "H021-7PCAFC-M2-Q1",
           "CHDM"
          ],
          [
           "H021-794YRF-M1-Q1",
           "CHDM"
          ],
          [
           "H021-1E41KP-T4-Q1",
           "CHDM"
          ],
          [
           "H021-EV7BPV-M1-Q1",
           "CHDM"
          ],
          [
           "H021-CF522-T1-Q1",
           "CHDM"
          ],
          [
           "H021-CF672-T1-Q1",
           "CHDM"
          ],
          [
           "H021-2577B8-M5-Q1",
           "CHDM"
          ],
          [
           "H021-CVMKDE-M1-Q1",
           "CHDM"
          ]
         ],
         "hovertemplate": "Sample name: %{customdata[0]}<br>code_oncotree: %{customdata[1]}<extra></extra>",
         "legendgroup": "CHDM",
         "marker": {
          "color": "#FECB52",
          "opacity": 0.7,
          "symbol": "circle"
         },
         "mode": "markers",
         "name": "CHDM",
         "scene": "scene",
         "showlegend": true,
         "type": "scatter3d",
         "x": {
          "bdata": "KR4awCyOD8BUgxfAN6wiwA3DHsA8TxfAqTkUwLHPEcDTBwrA2igVwNGeBsDlaAXAKRcIwO2e/7/3nQzAASQDwG83I8B0oATAr+v+QFJaAcAaSQjACEMIwCdcCsCxfv6/2qsJwPmqC8BpUAjAuT4AwFF4+r/I4QDAr0IEwMf/JcC/jg/A6zsAwJd0CsArVATAzC8AQVCmD8Ax1AnAT1gHwGKVGMBoUQ3AmSoNwJm2JcABsSDAciAAwIbM+r8sBhTAuwEUwK/FB8ATuQlBhVQKwJWwGMB+YiLAQbMgwGgYFMDEZw3AoJYTwH11BsA3Bg3AUA0DwDtECsBeiRnAAyAawHnXGMDVSQPAXZ8EwN7oI8AosCvASgYOwEOuEcBMugvAiAodwLZdH8DNVhrAVFwbwGaqCEHBcgbAW4YCwJFH/L9i4g/AYmoXwCTEG8DwpwzAcRwdwL8bCMCI5xnAsCcewGi+EcC15BnA8rYhwKWQKcBNkhjAJkcswHhgFcAF4iTAYJkDwCUxHsAE5ATAnYAFQfNCHcAQGAvAVnIPwPpBAsDA3yZBE0AewMzTBMAa7h3AgIggwIxzHcA=",
          "dtype": "f4"
         },
         "y": {
          "bdata": "VAuRP9HRgz9CGpM/k3aHP9DZkj/NHZU//n2fP/Npsz/I4oA/p/h/P2QXnT9NtKk/ctCsP0m4nz/tvbI/v6ecP2QIaj8itaI/9p4RvxaDnT94T6g/hXekP3xRlz98cpw/M1CeP+UfjD/pL50/FlKZP1XJmz/peY0/OYmoP7Wsgj/Zho4/T1KgP3h4iT/P16Y/5FZtwDibwj9Txa4/WGmuP2E/Uz8FVoE/E5FqP5nNbT+qDnE/In6dP9VLmD+ZWr4/ir+vPwq+pz8eP4y/f1abP77TkT8KRmQ/g9Z5P9NisD99AVY/0lttP7y0Zj+W5q8/rX+sP9YdmD/aQo4/PLi5Px3Ixj+gdJY/pk6WP75YiT+1R4I/nSqFP890kT85uKk/sPRZP1O+YD+56VE/FqlVPwGa5L8Id60/jg+nP5rViz8sMnM/vDZaP3cEfT8/VKM/BUNnP/k+gT8wz4U/bfFnP7ORvT8UHbY/QTSLPyXrij8vC3E/D5WJP74Dfj9nWos/fYivP1Q9hT/Z8q8/xJ90v1QSkT98/nI/KZ55P+pKpT/i43+/v0GRPwt0qz9Q/HI/eSJjP8giaT8=",
          "dtype": "f4"
         },
         "z": {
          "bdata": "xiTkQDvv3UBCdONAHLDnQIoe5kAOIuFAdbjeQDJQ3UBcw9tA2x/hQO5P10A6hNdAzF7WQD+E00BWXN1AYxLYQIqH5EAxWdxA3fUtQbGj20CZ4tpAeLPdQGcl3ECKHtFAPfXUQBc420BsytdAYpHYQLLl1EAeGNdArArWQE8L6UBHWtxAx1/VQEGM20CgkNZAO2UrQdPa20CI3OBAlIPhQG244kCx4OJA2+XcQKE74UB24N1AjQjiQM5C3kDoRNtAZR/gQNvU4ECOuDhBmnbYQMCE1kD8QttA51zbQHPS1kBTHd1AuJjeQJlq2kBBZdVAdazZQG402EACAtlAAP/eQAJi3EDQrdNAFVXWQI7O5EAYjOpA0R3bQBFN3kCboNxABU/hQFPv4kBSuOBAOo/jQEalH0HegtZA2J/WQPQc2UBpReNAPazkQMsG50AJ5eNAbNzaQL9f3EBPKdtAr8/aQIfg2UAzUOBAB7zrQAOr6kDHL91AJJTrQOy940DxJehATADfQDoy50AQANVAV1w4QSGp1EDnnuFA8J3iQPLg4kBK6R9BwvjpQNz71kD0PeZAn+TkQO2N2kA=",
          "dtype": "f4"
         }
        },
        {
         "customdata": [
          [
           "H021-ATPT9K-M4-Q1",
           "CHOL"
          ],
          [
           "MRI-1MELKW253-T1",
           "CHOL"
          ]
         ],
         "hovertemplate": "Sample name: %{customdata[0]}<br>code_oncotree: %{customdata[1]}<extra></extra>",
         "legendgroup": "CHOL",
         "marker": {
          "color": "#636efa",
          "opacity": 0.7,
          "symbol": "circle"
         },
         "mode": "markers",
         "name": "CHOL",
         "scene": "scene",
         "showlegend": true,
         "type": "scatter3d",
         "x": {
          "bdata": "i28UQWThC0E=",
          "dtype": "f4"
         },
         "y": {
          "bdata": "RkJywLqoRcA=",
          "dtype": "f4"
         },
         "z": {
          "bdata": "yu4gQUL+LkE=",
          "dtype": "f4"
         }
        },
        {
         "customdata": [
          [
           "H021-5LKTTN-M1",
           "CHOS"
          ],
          [
           "H021-FWUR29-M3",
           "CHOS"
          ],
          [
           "H021-JTAK5Y-M2-Q1",
           "CHOS"
          ],
          [
           "H021-1X8R4M-T2-Q1",
           "CHOS"
          ],
          [
           "H021-1X8R4M-T3",
           "CHOS"
          ]
         ],
         "hovertemplate": "Sample name: %{customdata[0]}<br>code_oncotree: %{customdata[1]}<extra></extra>",
         "legendgroup": "CHOS",
         "marker": {
          "color": "#EF553B",
          "opacity": 0.7,
          "symbol": "circle"
         },
         "mode": "markers",
         "name": "CHOS",
         "scene": "scene",
         "showlegend": true,
         "type": "scatter3d",
         "x": {
          "bdata": "H0ABQWSpHEGGJS1BAyUnQX53IkE=",
          "dtype": "f4"
         },
         "y": {
          "bdata": "E+gDwPbrD7+8lqC+pAWevgfYxb4=",
          "dtype": "f4"
         },
         "z": {
          "bdata": "q2Y1QZgoCUE9jRlBbGIpQW8UD0E=",
          "dtype": "f4"
         }
        },
        {
         "customdata": [
          [
           "H021-33UKSM-M1",
           "CHS"
          ],
          [
           "H021-62T6K1-M3-E2",
           "CHS"
          ],
          [
           "I070-051-2T1-P1",
           "CHS"
          ],
          [
           "H021-VPV3MB-M5",
           "CHS"
          ],
          [
           "H021-JHUP1B-T1-Q1",
           "CHS"
          ],
          [
           "H021-MWGAUE-T2-Q1",
           "CHS"
          ],
          [
           "H021-Z3Q2QK-T2-Q1",
           "CHS"
          ],
          [
           "H021-7BG79Z-M1-Q1",
           "CHS"
          ],
          [
           "H021-PJCDQK-T1-Q1",
           "CHS"
          ],
          [
           "H021-AJDAHQ-T2-Q1",
           "CHS"
          ],
          [
           "H021-RJ1PV3-T1-Q1",
           "CHS"
          ],
          [
           "H021-TY3JNG-M3-Q1",
           "CHS"
          ],
          [
           "H021-A4HD3K-T3-Q1",
           "CHS"
          ],
          [
           "H021-REHPN7-T1-Q2",
           "CHS"
          ],
          [
           "H021-UUC7M1-T1-Q1",
           "CHS"
          ],
          [
           "H021-RJ1PV3-T6-Q1",
           "CHS"
          ],
          [
           "H021-WAPKKMA-T1-Q1",
           "CHS"
          ],
          [
           "H021-RJ1PV3-T3-Q1",
           "CHS"
          ]
         ],
         "hovertemplate": "Sample name: %{customdata[0]}<br>code_oncotree: %{customdata[1]}<extra></extra>",
         "legendgroup": "CHS",
         "marker": {
          "color": "#00cc96",
          "opacity": 0.7,
          "symbol": "circle"
         },
         "mode": "markers",
         "name": "CHS",
         "scene": "scene",
         "showlegend": true,
         "type": "scatter3d",
         "x": {
          "bdata": "v0MJQd4+DUGerR9Bk3wmQWl6HUFUryFBtOMUQbu9LEGh6RZBfXYWQZMdJkFHShZBix0VQRirFkHYLx5BC9PnQMc+EEH60SpB",
          "dtype": "f4"
         },
         "y": {
          "bdata": "tI8yv8acJT8lkXA/Qk8TwBP3i78xAM69yDFcvww7kL4vaye/WAmbv6RjxL60zMm/eeXov0i9y79OIBS+Ckerv+UtkL82Sz6/",
          "dtype": "f4"
         },
         "z": {
          "bdata": "kYAeQdnjBkEc3glBCUMxQbhFGEGXIg9BnH44QfiyGUHzXTJBjawsQZl+HEFmvCpBJqQvQaoHK0EyhSpBZWkfQfxuJkE54x1B",
          "dtype": "f4"
         }
        },
        {
         "customdata": [
          [
           "H021-7QCREA-M4",
           "COAD"
          ],
          [
           "H021-DVXCP3-M1-Q1",
           "COAD"
          ],
          [
           "H021-K614AF-M2-Q1",
           "COAD"
          ],
          [
           "H021-H42G69-M2-Q1",
           "COAD"
          ],
          [
           "H021-Z2HMHK-M1-Q1",
           "COAD"
          ],
          [
           "H021-1TL7YW-M4-Q1",
           "COAD"
          ],
          [
           "H021-GAC568-T2-Q1",
           "COAD"
          ],
          [
           "H021-C8QVFE-M1-Q1",
           "COAD"
          ],
          [
           "H021-J7RC5V-M1-Q1",
           "COAD"
          ],
          [
           "H021-W7ENJM-M4-Q1",
           "COAD"
          ],
          [
           "H021-MLZGAS-M1-Q1",
           "COAD"
          ],
          [
           "H021-JDMT53-T2-Q1",
           "COAD"
          ],
          [
           "H021-XA7KZM-M3-Q1",
           "COAD"
          ],
          [
           "H021-7JJYMV-M2-Q1",
           "COAD"
          ],
          [
           "H021-GUTUCGZ-M1-Q1",
           "COAD"
          ],
          [
           "H021-7CCGJ4-M3-Q1",
           "COAD"
          ],
          [
           "H021-U73C8J1-M1-Q1",
           "COAD"
          ],
          [
           "H021-SY1BYDF-M1-Q1",
           "COAD"
          ]
         ],
         "hovertemplate": "Sample name: %{customdata[0]}<br>code_oncotree: %{customdata[1]}<extra></extra>",
         "legendgroup": "COAD",
         "marker": {
          "color": "#ab63fa",
          "opacity": 0.7,
          "symbol": "circle"
         },
         "mode": "markers",
         "name": "COAD",
         "scene": "scene",
         "showlegend": true,
         "type": "scatter3d",
         "x": {
          "bdata": "5PQJQYvwEkHeSgxBAcQNQZHeCEFZHx9B9WcMQXoNI0EjiB5BNQkPQZ7T/EAJaupAw87mQC1dCUHzFAxBmWYIQdstD0EZPwZB",
          "dtype": "f4"
         },
         "y": {
          "bdata": "HuxywBmPYMBb+WXAbiZgwCBpa8Bw4tO/oHRpwKbkJsCT8x/ADfFcwLxx37+MFOm/ohK0v1ix3L8N72nAAhRjwMFoAMCkd37A",
          "dtype": "f4"
         },
         "z": {
          "bdata": "fMAfQToMGkHwpSBBgXAZQVzKH0HDnhpBcTMnQRwgJkEHVx5BXOUhQb+SHkG3OBFBc9YeQctsOUFGCyVB42cnQSSIB0GfMylB",
          "dtype": "f4"
         }
        },
        {
         "customdata": [
          [
           "H021-TW4PSC-M4",
           "COADREAD"
          ],
          [
           "H021-2DK8S2B-T3-Q1",
           "COADREAD"
          ]
         ],
         "hovertemplate": "Sample name: %{customdata[0]}<br>code_oncotree: %{customdata[1]}<extra></extra>",
         "legendgroup": "COADREAD",
         "marker": {
          "color": "#FFA15A",
          "opacity": 0.7,
          "symbol": "circle"
         },
         "mode": "markers",
         "name": "COADREAD",
         "scene": "scene",
         "showlegend": true,
         "type": "scatter3d",
         "x": {
          "bdata": "kyYbQWwKG0E=",
          "dtype": "f4"
         },
         "y": {
          "bdata": "QARRwPk8/L8=",
          "dtype": "f4"
         },
         "z": {
          "bdata": "IhcVQZmAIUE=",
          "dtype": "f4"
         }
        },
        {
         "customdata": [
          [
           "H021-H3B86K-T1",
           "CUPNOS"
          ],
          [
           "H021-ZEU1UK-U1",
           "CUPNOS"
          ],
          [
           "H021-SAKXMK-M2-Q1",
           "CUPNOS"
          ],
          [
           "H021-5L7GSS-T1-Q1",
           "CUPNOS"
          ],
          [
           "H021-6ZECLT-M2-Q1",
           "CUPNOS"
          ],
          [
           "H021-QZY3M4-M3-Q1",
           "CUPNOS"
          ],
          [
           "H021-ZEU1UK-M1-Q1",
           "CUPNOS"
          ],
          [
           "H021-MVGHWG-M2-Q1",
           "CUPNOS"
          ],
          [
           "H021-5L7GSS-T2-Q1",
           "CUPNOS"
          ],
          [
           "H021-6CM2ZE-T1",
           "CUPNOS"
          ],
          [
           "H021-74ED9R-M1-E2",
           "CUPNOS"
          ],
          [
           "H021-AFGC5G-M1-E1",
           "CUPNOS"
          ],
          [
           "H021-C2DLPM-T2",
           "CUPNOS"
          ],
          [
           "H021-DFFFNC-M2-E1",
           "CUPNOS"
          ],
          [
           "H021-5T33RC-T1-E2",
           "CUPNOS"
          ],
          [
           "H021-5WAN93-M2",
           "CUPNOS"
          ],
          [
           "H021-F9SFXT-M4",
           "CUPNOS"
          ],
          [
           "H021-N22K6U-M1-E2",
           "CUPNOS"
          ],
          [
           "H021-RRTP2Y-M2",
           "CUPNOS"
          ],
          [
           "H021-U3AER9-M1-E2",
           "CUPNOS"
          ],
          [
           "H021-WNTLNE-M2-E2",
           "CUPNOS"
          ],
          [
           "H021-LTDE4Z-M2-Q1",
           "CUPNOS"
          ],
          [
           "H021-KNCPCX-M8",
           "CUPNOS"
          ],
          [
           "H021-L7L8KS-M1-Q1",
           "CUPNOS"
          ],
          [
           "H021-TBBLEM-M1-Q1",
           "CUPNOS"
          ],
          [
           "H021-VYQLRB-M3",
           "CUPNOS"
          ],
          [
           "H021-LTZ8C1-M3-Q1",
           "CUPNOS"
          ],
          [
           "H021-5MRTGM-T1-Q1",
           "CUPNOS"
          ],
          [
           "H021-3WADQY-M2-Q1",
           "CUPNOS"
          ],
          [
           "H021-5U4YZ3-M3-Q1",
           "CUPNOS"
          ],
          [
           "H021-MLCJSS-M1-Q1",
           "CUPNOS"
          ],
          [
           "H021-NM3WX2-M1-Q1",
           "CUPNOS"
          ],
          [
           "H021-B58HYJ-M1-Q1",
           "CUPNOS"
          ],
          [
           "H021-5YBBAM-M2-Q1",
           "CUPNOS"
          ],
          [
           "H021-1V2961-T2-Q1",
           "CUPNOS"
          ],
          [
           "H021-Q8AG7S-M2-Q1",
           "CUPNOS"
          ],
          [
           "H021-1QHA7Y-M1-Q1",
           "CUPNOS"
          ],
          [
           "H021-FA6G48-T2-Q1",
           "CUPNOS"
          ],
          [
           "H021-1HCWLP-M1-Q1",
           "CUPNOS"
          ],
          [
           "H021-1L48V5-M2-Q1",
           "CUPNOS"
          ],
          [
           "H021-22DWTZ-T3-Q1",
           "CUPNOS"
          ],
          [
           "H021-FMHV-M6-Q1",
           "CUPNOS"
          ],
          [
           "H021-HAPD6U-M1-Q1",
           "CUPNOS"
          ],
          [
           "H021-HLZKLD-M1-Q1",
           "CUPNOS"
          ],
          [
           "H021-HTQQ-T4-Q1",
           "CUPNOS"
          ],
          [
           "H021-K6H1-T3-Q1",
           "CUPNOS"
          ],
          [
           "H021-KFPLSM-M4-Q1",
           "CUPNOS"
          ],
          [
           "H021-KKAMDZ-T2-Q1",
           "CUPNOS"
          ],
          [
           "H021-L9FKXK-M3-Q1",
           "CUPNOS"
          ],
          [
           "H021-LHR4LM-T2-Q1",
           "CUPNOS"
          ],
          [
           "H021-11X1GP-M3-Q1",
           "CUPNOS"
          ],
          [
           "H021-44P9-T1-Q1",
           "CUPNOS"
          ],
          [
           "H021-51MR4Y-M2-Q1",
           "CUPNOS"
          ],
          [
           "H021-53E58V-M1-Q1",
           "CUPNOS"
          ],
          [
           "H021-81B1R7-M1-Q1",
           "CUPNOS"
          ],
          [
           "H021-839NS8-M1-Q1",
           "CUPNOS"
          ],
          [
           "H021-A5L4DW-M3-Q1",
           "CUPNOS"
          ],
          [
           "H021-CVU24V-M1-Q1",
           "CUPNOS"
          ],
          [
           "H021-EPNK7Z-M1-Q1",
           "CUPNOS"
          ],
          [
           "H021-F33Q2Y-M6-Q1",
           "CUPNOS"
          ],
          [
           "H021-F7WRJV-M1-Q1",
           "CUPNOS"
          ],
          [
           "H021-F83ADS-T1-Q1",
           "CUPNOS"
          ],
          [
           "H021-K9ZBFG-M4-Q1",
           "CUPNOS"
          ],
          [
           "H021-LRE6DV-T1-Q1",
           "CUPNOS"
          ],
          [
           "H021-PEM7HN-M1-Q1",
           "CUPNOS"
          ],
          [
           "H021-RFFMCK-M1-Q1",
           "CUPNOS"
          ],
          [
           "H021-39CD5T-M1-Q1",
           "CUPNOS"
          ],
          [
           "P021-QLEE-T1-Q1",
           "CUPNOS"
          ],
          [
           "H021-XFKKVM-T1-Q1",
           "CUPNOS"
          ],
          [
           "H021-Y19M1T-M2-Q1",
           "CUPNOS"
          ],
          [
           "H021-Z7B8BE-M1-Q1",
           "CUPNOS"
          ],
          [
           "H021-3VKMK2-M1-Q1",
           "CUPNOS"
          ],
          [
           "H021-43W61N-M2-Q1",
           "CUPNOS"
          ],
          [
           "H021-C8HAJF-M2-Q1",
           "CUPNOS"
          ],
          [
           "H021-M1MUHA-M2-Q1",
           "CUPNOS"
          ],
          [
           "H021-MALFTE-T2-Q1",
           "CUPNOS"
          ],
          [
           "H021-Q6RYR7-M2-Q1",
           "CUPNOS"
          ],
          [
           "H021-RFKULG-M1-Q1",
           "CUPNOS"
          ],
          [
           "H021-SLJL6X-M2-Q1",
           "CUPNOS"
          ],
          [
           "H021-62BL5E-M2-Q1",
           "CUPNOS"
          ],
          [
           "H021-83ZA1A-M2-Q1",
           "CUPNOS"
          ],
          [
           "H021-8Q7DZ9-M1-Q1",
           "CUPNOS"
          ],
          [
           "H021-BYAX6U-T1-Q1",
           "CUPNOS"
          ],
          [
           "MOD-69PNH5-O1",
           "CUPNOS"
          ],
          [
           "MOD-69PNH5-SP1",
           "CUPNOS"
          ],
          [
           "MOD-69PNH5-SP2",
           "CUPNOS"
          ],
          [
           "H021-G66V2C-M2-Q1",
           "CUPNOS"
          ],
          [
           "H021-UR6DLY-M2-Q1",
           "CUPNOS"
          ],
          [
           "P021-QLEE-T1-Q1-R2",
           "CUPNOS"
          ],
          [
           "H021-FQ7G9VT-M1-Q1",
           "CUPNOS"
          ],
          [
           "H021-1T2KTK9-M1-Q1",
           "CUPNOS"
          ],
          [
           "H021-SHRT1M-M1-Q1",
           "CUPNOS"
          ],
          [
           "H021-JKKJ8Q8-M1-Q1",
           "CUPNOS"
          ],
          [
           "H021-S2F9XTP-M1-Q1",
           "CUPNOS"
          ],
          [
           "H021-S2F9XTP-M1-Q1-R2",
           "CUPNOS"
          ],
          [
           "H021-Z71CF3B-M2-Q1",
           "CUPNOS"
          ],
          [
           "H021-FR44XKM-M2-Q1",
           "CUPNOS"
          ]
         ],
         "hovertemplate": "Sample name: %{customdata[0]}<br>code_oncotree: %{customdata[1]}<extra></extra>",
         "legendgroup": "CUPNOS",
         "marker": {
          "color": "#19d3f3",
          "opacity": 0.7,
          "symbol": "circle"
         },
         "mode": "markers",
         "name": "CUPNOS",
         "scene": "scene",
         "showlegend": true,
         "type": "scatter3d",
         "x": {
          "bdata": "2AIkQRPWIkGdZB1BkRMWQRjJEEGytBJByqgXQTdWE0H3hwtBjJgQQSlhCkEhkQNBdHQkQVMkDUHmShVB8joJQREYE0HSuQVBLzUeQfA3CkFR3AFB1hsTQe4IAUG/3ghB8H0HQb4hEEGykBBBYXgjQdJFFEELZylBU58TQQXTBUGuOBpBu+wjQZ6bJkEytxBBtkEjQdUtIkHf6SVBf6DpQFLE50CJZedAA3boQCaN6UAua+1ANvfnQHFN6UAY9+dAXQHqQPsx6EA/NPpAauMTQYAR+kCAsfVAuan3QKQ3+0CCHQpB0fQXQRXgF0H1wRdBLY8YQRS2F0G4DxhBMekXQbwTF0HnpxZB2ogMQbN+HEEX+xVBA2cXQcEz/EDq1xRBCrwVQbGbFEEWvhRBavgVQfBxFUEaWBNBsLkfQePyCEFo8xhBAqsQQS5tDEEdFQVBzqUCQU0rAkEKMRBBBTkbQaaQBkH1sRdBvfklQewGGEEh/RpB3gEoQcGTJEHoHh1BMKEfQQ==",
          "dtype": "f4"
         },
         "y": {
          "bdata": "NAUsv0Hl479HI6e/NEitvyRoQcB5onTAG/qHPi3RDMDKiqi/faZnwN/4bMACo1PAqVxGvwID5r8xmi7An1FEwJyfI8BckUDAx7IWwCJHD8BvRSDAxW+ZPjOOy7/sdX7A4ciAwATFb7/kUvG/nxdsvz5Hnb8gunm/lklrwEx30b8pMY6/Zfbjv9suEr8hEWbAyJ4AwEBs/L94YZi/t3S5v4ttqr/9KeG/0oDmv9lU479nUNW/hXvhvzhh5r84Y+C/luzcv4vD4L+X1k7AUHUuwOZaTMD1sEDAlNxMwLUKTcDTyaC/2siAwD9NfcBqw3zApeh/wA0PgMA4pX/AzXJ+wINAfMDDoGjAOTckwG40bsD/sWjAndFpwCP9qD4W6YPAks6FwA7bhcCMnoTAo1GEwFLvhMCoTn/Avzb5v1mfWcBNryfAseUmwFvtPMCZGmHAqzJqwPieaMCR5yrAtOeGv+beIMDggfe/Ejrxv7Fms79nxsu/xvK/vqhmg75Rjw7AAOUtwA==",
          "dtype": "f4"
         },
         "z": {
          "bdata": "cxUjQUu8EUG+LyhBAWctQWLIIEFRVCNBUXUYQfHaMEEIlhxB0cgrQf+wIEFSyB1BBRIpQQLLHUEyyR5B+icTQQKmFkHbDypBkToiQbOnCkEgHCVBG+McQWCIIEFFIiNB8SMhQVJMEkEKjylB+NkfQUrVK0EdWClBWB8XQZGJMUE83CxB9osRQZYSLkG8ESpBbiUiQZCYBUGl8zBBUIYeQdjNHkHWBSpBUIorQcg9K0FlkSdBt/AqQVXfK0GVKCtBTLopQXryKkGIhSNB4AAxQeenI0F2qSNBJNMjQcqxIkFcKi5BbictQasALEH4AypBORYsQXS/K0GRlCxBlOkrQfn8LEHRdipBhf8dQV3mHkF8yS9BbXQsQTcsFUFuciBB/vIeQcoXH0GEUyBBZ78fQZ8IIEGAoCFBuKtHQX5VJ0FZiCtBjM0wQY2YMEGwYBJBXekdQa40HUFlOTNBCBgpQXpwKUFYFTlBhnsgQZ9uK0FoOS5BOsoxQds1NEGsFjFBD7glQQ==",
          "dtype": "f4"
         }
        },
        {
         "customdata": [
          [
           "H021-C15ZW3-M1-E3",
           "DCS"
          ]
         ],
         "hovertemplate": "Sample name: %{customdata[0]}<br>code_oncotree: %{customdata[1]}<extra></extra>",
         "legendgroup": "DCS",
         "marker": {
          "color": "#FF6692",
          "opacity": 0.7,
          "symbol": "circle"
         },
         "mode": "markers",
         "name": "DCS",
         "scene": "scene",
         "showlegend": true,
         "type": "scatter3d",
         "x": {
          "bdata": "urcJQQ==",
          "dtype": "f4"
         },
         "y": {
          "bdata": "G8C/Pw==",
          "dtype": "f4"
         },
         "z": {
          "bdata": "0OQiQQ==",
          "dtype": "f4"
         }
        },
        {
         "customdata": [
          [
           "H021-7QF8-T1-Q1",
           "DDCHDM"
          ]
         ],
         "hovertemplate": "Sample name: %{customdata[0]}<br>code_oncotree: %{customdata[1]}<extra></extra>",
         "legendgroup": "DDCHDM",
         "marker": {
          "color": "#B6E880",
          "opacity": 0.7,
          "symbol": "circle"
         },
         "mode": "markers",
         "name": "DDCHDM",
         "scene": "scene",
         "showlegend": true,
         "type": "scatter3d",
         "x": {
          "bdata": "qAoewA==",
          "dtype": "f4"
         },
         "y": {
          "bdata": "tXmOPw==",
          "dtype": "f4"
         },
         "z": {
          "bdata": "vtvnQA==",
          "dtype": "f4"
         }
        },
        {
         "customdata": [
          [
           "H021-QFC8A8-T1",
           "DDLS"
          ],
          [
           "H021-QFC8A8-T2",
           "DDLS"
          ],
          [
           "H021-KK5NCZ-M2",
           "DDLS"
          ],
          [
           "H021-GQA6VF-M1",
           "DDLS"
          ],
          [
           "H021-DFXK2X-T1",
           "DDLS"
          ],
          [
           "H021-QUCCJC-T1",
           "DDLS"
          ],
          [
           "H021-192LV1-M1",
           "DDLS"
          ],
          [
           "H021-1GLAY6-T3",
           "DDLS"
          ],
          [
           "H021-KAPWJB-T3",
           "DDLS"
          ],
          [
           "H021-1SMFSC-T2",
           "DDLS"
          ],
          [
           "H021-H7W4EN-T1",
           "DDLS"
          ],
          [
           "H021-192LV1-M2",
           "DDLS"
          ],
          [
           "H021-BCJ6SM-M2",
           "DDLS"
          ],
          [
           "H021-1CM1EC-T2-Q1",
           "DDLS"
          ],
          [
           "H021-WX6QVK-M3-Q1",
           "DDLS"
          ],
          [
           "H021-1CM1EC-T1-Q1",
           "DDLS"
          ],
          [
           "H021-DGXEFK-M3-Q1",
           "DDLS"
          ],
          [
           "H021-T17KB4-T2-Q1",
           "DDLS"
          ],
          [
           "H021-T17KB4-T3-Q1",
           "DDLS"
          ],
          [
           "H021-WNF9LY-T2-Q1",
           "DDLS"
          ],
          [
           "H021-6UHYUH-M2-Q1",
           "DDLS"
          ],
          [
           "H021-NJ78W6-U1-Q1",
           "DDLS"
          ],
          [
           "H021-FUGSYF8-T1-Q1",
           "DDLS"
          ],
          [
           "H021-FUGSYF8-T4-Q1",
           "DDLS"
          ],
          [
           "H021-FUGSYF8-T7-Q1",
           "DDLS"
          ]
         ],
         "hovertemplate": "Sample name: %{customdata[0]}<br>code_oncotree: %{customdata[1]}<extra></extra>",
         "legendgroup": "DDLS",
         "marker": {
          "color": "#FF97FF",
          "opacity": 0.7,
          "symbol": "circle"
         },
         "mode": "markers",
         "name": "DDLS",
         "scene": "scene",
         "showlegend": true,
         "type": "scatter3d",
         "x": {
          "bdata": "3bMHQZ/LB0EMawNBthkeQemuCUFOcApB9k0dQbdfJEEBtihBMYENQd/kGkHoxB1BvtobQYDkIkG9rCRBOAsjQUVMHUH2fyBBEUQGQbo6IUGtgxRB4qYbQXNwC0FdWAtBowMLQQ==",
          "dtype": "f4"
         },
         "y": {
          "bdata": "YH2LP45cjD9Nm5Y+sRvlvuIevD8KKWW/2KFevgpsQL+3bgU/tQGGP7FAkD4C1je+nUcvv1Myo75BeLk9ME+tvqcs+7/gkvO9eJ1lv4xcyr7wJTO+m289v0/Ijr4XhIm+tyyRvg==",
          "dtype": "f4"
         },
         "z": {
          "bdata": "m+QyQXwoM0FjSC1BTtcoQaD2IkHLejhBtEAqQbHdNEEx4BFBQiQoQe2LEUHxdCpBM18cQbN9OUH2QQhBrJ45QQUrEUFaXSRB11UQQfm6OEFHJhtB1WMfQWbIBUGpxgVBFJMFQQ==",
          "dtype": "f4"
         }
        },
        {
         "customdata": [
          [
           "H021-DKGLER-T2",
           "DES"
          ]
         ],
         "hovertemplate": "Sample name: %{customdata[0]}<br>code_oncotree: %{customdata[1]}<extra></extra>",
         "legendgroup": "DES",
         "marker": {
          "color": "#FECB52",
          "opacity": 0.7,
          "symbol": "circle"
         },
         "mode": "markers",
         "name": "DES",
         "scene": "scene",
         "showlegend": true,
         "type": "scatter3d",
         "x": {
          "bdata": "QpgKQQ==",
          "dtype": "f4"
         },
         "y": {
          "bdata": "YVZyPQ==",
          "dtype": "f4"
         },
         "z": {
          "bdata": "WAczQQ==",
          "dtype": "f4"
         }
        },
        {
         "customdata": [
          [
           "H021-7AAYWW-T1",
           "DFSP"
          ],
          [
           "H021-7AAYWW-T2",
           "DFSP"
          ],
          [
           "H021-5W1H1S-T1",
           "DFSP"
          ],
          [
           "H021-9LPY7S-T1-Q1",
           "DFSP"
          ],
          [
           "H021-EN4UG6-T1-Q1",
           "DFSP"
          ],
          [
           "H021-3WX86Q-T6-Q1",
           "DFSP"
          ],
          [
           "H021-ZCCGMV3-M3-Q1",
           "DFSP"
          ]
         ],
         "hovertemplate": "Sample name: %{customdata[0]}<br>code_oncotree: %{customdata[1]}<extra></extra>",
         "legendgroup": "DFSP",
         "marker": {
          "color": "#636efa",
          "opacity": 0.7,
          "symbol": "circle"
         },
         "mode": "markers",
         "name": "DFSP",
         "scene": "scene",
         "showlegend": true,
         "type": "scatter3d",
         "x": {
          "bdata": "9EEwQdNbMEETlAJB/occQa/OFEHU7yhBo7EBQQ==",
          "dtype": "f4"
         },
         "y": {
          "bdata": "AhDCP81Kwz/DobC9ob1QvpDSaL0YHzC/ckJCvg==",
          "dtype": "f4"
         },
         "z": {
          "bdata": "7AERQWMQEUHrziRBaB0TQd9IFEGtPB5BR04uQQ==",
          "dtype": "f4"
         }
        },
        {
         "customdata": [
          [
           "H021-Y6JGQE-T2-Q1",
           "DLBCL"
          ],
          [
           "H021-Y6JGQE-T6-Q1",
           "DLBCL"
          ]
         ],
         "hovertemplate": "Sample name: %{customdata[0]}<br>code_oncotree: %{customdata[1]}<extra></extra>",
         "legendgroup": "DLBCL",
         "marker": {
          "color": "#EF553B",
          "opacity": 0.7,
          "symbol": "circle"
         },
         "mode": "markers",
         "name": "DLBCL",
         "scene": "scene",
         "showlegend": true,
         "type": "scatter3d",
         "x": {
          "bdata": "DjQiQaagIkE=",
          "dtype": "f4"
         },
         "y": {
          "bdata": "BDunvhcKyb4=",
          "dtype": "f4"
         },
         "z": {
          "bdata": "1t0kQRL1J0E=",
          "dtype": "f4"
         }
        },
        {
         "customdata": [
          [
           "H021-3GHH6S-T1",
           "DSRCT"
          ],
          [
           "H021-TPPC3H-M2",
           "DSRCT"
          ],
          [
           "H021-UA4J9Y-T1",
           "DSRCT"
          ],
          [
           "H021-YHPFMB-T1",
           "DSRCT"
          ],
          [
           "H021-TPPC3H-M3",
           "DSRCT"
          ],
          [
           "H021-YHPFMB-T2",
           "DSRCT"
          ],
          [
           "H021-8Z72-T4",
           "DSRCT"
          ],
          [
           "H021-ENGUHR-T2",
           "DSRCT"
          ],
          [
           "H021-XHP589-M2",
           "DSRCT"
          ],
          [
           "H021-DTSDEX-M6",
           "DSRCT"
          ],
          [
           "H021-PHLFH6-M4",
           "DSRCT"
          ],
          [
           "H021-TPPC3H-M1",
           "DSRCT"
          ],
          [
           "H021-2A3P6Y-M3-E1",
           "DSRCT"
          ],
          [
           "H021-TPPC3H-M3-Q1",
           "DSRCT"
          ],
          [
           "H021-SMB6ZC-M1-Q1",
           "DSRCT"
          ],
          [
           "H021-1S77F3-T1-Q1",
           "DSRCT"
          ],
          [
           "I063-067-0M1-P1",
           "DSRCT"
          ],
          [
           "H021-MUPF44-M1-Q1",
           "DSRCT"
          ],
          [
           "H021-ZLTJUV-M3-Q1",
           "DSRCT"
          ],
          [
           "H021-1MYGU2-T1-Q1",
           "DSRCT"
          ],
          [
           "H021-7KHCMY-T1-Q1",
           "DSRCT"
          ],
          [
           "H021-HSBCS2-M1-Q1",
           "DSRCT"
          ],
          [
           "H021-JNMLVC-M1-Q1",
           "DSRCT"
          ],
          [
           "H021-1S77F3-T4-Q1",
           "DSRCT"
          ],
          [
           "H021-F3U464-M1-Q1",
           "DSRCT"
          ],
          [
           "H021-MBWS1AA-U1-Q1",
           "DSRCT"
          ],
          [
           "H021-2TA59U5-M3-Q1",
           "DSRCT"
          ],
          [
           "H021-EZEV9M-M3-Q1",
           "DSRCT"
          ]
         ],
         "hovertemplate": "Sample name: %{customdata[0]}<br>code_oncotree: %{customdata[1]}<extra></extra>",
         "legendgroup": "DSRCT",
         "marker": {
          "color": "#00cc96",
          "opacity": 0.7,
          "symbol": "circle"
         },
         "mode": "markers",
         "name": "DSRCT",
         "scene": "scene",
         "showlegend": true,
         "type": "scatter3d",
         "x": {
          "bdata": "b/r3QOpaD0Ewsw9BmHQIQeUnCUHwHwtBm5EDQUixA0GGZARBY/ACQaQADEFxyBVBRgYXQaBZHEEHkg5BydAWQefYE0G/aRRBrEEPQQi2FkHfwytBYocfQQDzI0F5ayBBBXMcQfGwGUEBhg9B2l8XQQ==",
          "dtype": "f4"
         },
         "y": {
          "bdata": "SRl2vwXiWL/yk8K9rQAHPy+PAT8ThxE/tWlpv3eCgL+2SI2/gnV7v9IpDcAzhV69Llgkv7ygKz9bP0+/Crw6vxpODL+LCYW/K9khwBfjmr/viQnAD+8LwA+JAMBLVP2/qtYbwMqOw7/fIBu/xJYewA==",
          "dtype": "f4"
         },
         "z": {
          "bdata": "fxkiQdliCUHzBCFBgYsnQRbrJ0FMHBFBQpIvQfWvLEH/YyxBlxorQbPaKkFMighB2qgVQV6KDkF9nghB5/cVQXfyDEG50xBB6C0dQfnCJUG4ZCtBgooQQRlEDkHmxElBZLoXQbOCI0Ferx5BTUgkQQ==",
          "dtype": "f4"
         }
        },
        {
         "customdata": [
          [
           "H021-MVHAGX-M2-Q1",
           "MFH"
          ],
          [
           "H021-RF6GGV-T1",
           "MFH"
          ],
          [
           "H021-RF6GGV-M1",
           "MFH"
          ],
          [
           "H021-AQW6-T1",
           "MFH"
          ],
          [
           "I076-014-129774",
           "MFH"
          ],
          [
           "I137-004-100626",
           "MFH"
          ],
          [
           "I049-015-223128",
           "MFH"
          ],
          [
           "H021-57TAMB-M1",
           "MFH"
          ],
          [
           "I014-034-1M1-P1",
           "MFH"
          ],
          [
           "I043-009-1M1-P1",
           "MFH"
          ],
          [
           "I014-052-2T1-P1",
           "MFH"
          ],
          [
           "I018-032-7T1-P1",
           "MFH"
          ],
          [
           "H021-N8E2BK-M1",
           "MFH"
          ],
          [
           "H021-RK5R2C-T1-E1",
           "MFH"
          ],
          [
           "H021-U5KKB2-T1",
           "MFH"
          ],
          [
           "H021-MPDGSY-M3-Q1",
           "MFH"
          ],
          [
           "H021-E3K3EE-M1-Q1",
           "MFH"
          ],
          [
           "H021-F3AWG4-M3-Q1",
           "MFH"
          ],
          [
           "H021-5WGAYL-M2-Q1",
           "MFH"
          ],
          [
           "H021-9BTB7K-T1-Q1",
           "MFH"
          ],
          [
           "H021-Z2SMN2-M1-Q1",
           "MFH"
          ],
          [
           "H021-8WAR8F-M2-Q1",
           "MFH"
          ],
          [
           "H021-TFGGL1-M1-Q1",
           "MFH"
          ],
          [
           "H021-FCA51S-M1-Q1",
           "MFH"
          ],
          [
           "H021-MRDFTG-M2-Q1",
           "MFH"
          ],
          [
           "H021-UUG8Q5U-T1-Q1",
           "MFH"
          ],
          [
           "H021-WGDJK3-T1-Q1",
           "MFH"
          ],
          [
           "H021-FA1JUKY-M3-Q1",
           "MFH"
          ],
          [
           "H021-NKFCRMC-M1-Q1",
           "MFH"
          ],
          [
           "H021-7QX261Z-T1-Q1",
           "MFH"
          ],
          [
           "H021-STLBVC-M1-Q1",
           "MFH"
          ],
          [
           "H021-3CFAQD-T1-Q1",
           "MFH"
          ]
         ],
         "hovertemplate": "Sample name: %{customdata[0]}<br>code_oncotree: %{customdata[1]}<extra></extra>",
         "legendgroup": "MFH",
         "marker": {
          "color": "#ab63fa",
          "opacity": 0.7,
          "symbol": "circle"
         },
         "mode": "markers",
         "name": "MFH",
         "scene": "scene",
         "showlegend": true,
         "type": "scatter3d",
         "x": {
          "bdata": "SFQUQSyHB0FrnAdBfa//QMsFI0G2DCVBf3whQRgZAEHjgR5BL7wjQU8BLUElXStB7IAqQWJvJ0G2QyFBOgAbQXrECEGshyVBmIwgQdsZJUFKiAlBomYjQbXj5kBuxRhBfuAZQXRjHEGaaBJBV7EfQcuPC0FWYBtBKacIQfwRC0E=",
          "dtype": "f4"
         },
         "y": {
          "bdata": "zIFWvtJCjj8sPI4//asfvxj4lj/4OBQ/YOufP1H6i76FJFE/6KOqPoOOij6G7Qw/i3LivmgBi793Ht6+hsP1vo1buL/l7km+8NEovUc+G79T9io/1vjxvy/FsL8NV8E8QUJfvwCBaL8DPF8+YorTv0DCDsBLhY6/DYOWv9YHIr8=",
          "dtype": "f4"
         },
         "z": {
          "bdata": "kEowQYnGMkGoKDNB03AcQRadGUHCuiJB0hADQbQiMUGY+wlBThEDQRVUFkFbQRJByLQQQUReIkEWFx1BfdQqQdfIHUH53TBBPOoSQbmuK0HbkBpBjzMDQflaH0E0oyJBWTwnQTzZPEHQYi5B2pYvQWEmJEGBbjhBBkMzQe9CIEE=",
          "dtype": "f4"
         }
        },
        {
         "customdata": [
          [
           "H021-L3A2R1F-M6-Q1",
           "THYM"
          ],
          [
           "H021-6M2UVB-M1",
           "THYM"
          ],
          [
           "H021-ASYQ9W-M1",
           "THYM"
          ],
          [
           "H021-PK9AGE-M1",
           "THYM"
          ],
          [
           "H021-WCSVKG-M6",
           "THYM"
          ],
          [
           "H021-Q9FFSN-M1",
           "THYM"
          ],
          [
           "H021-Q9FFSN-M3",
           "THYM"
          ],
          [
           "H021-ZPKDNH-M1-Q1",
           "THYM"
          ],
          [
           "H021-F4Z1YL-U1-Q1",
           "THYM"
          ],
          [
           "H021-AC1JA4-M1-Q1",
           "THYM"
          ],
          [
           "H021-7DPSSL-M3-Q1",
           "THYM"
          ],
          [
           "H021-E26393-M1-Q1",
           "THYM"
          ],
          [
           "H021-KYCT61-M3",
           "THYM"
          ],
          [
           "H021-DMV13G-M1-Q1",
           "THYM"
          ],
          [
           "H021-A32WDGP-M1-Q1",
           "THYM"
          ],
          [
           "H021-4YMMRY9-T2-Q1",
           "THYM"
          ],
          [
           "H021-7YQWSN8-M1-Q1",
           "THYM"
          ],
          [
           "H021-D93K3Q1-T1-Q1",
           "THYM"
          ],
          [
           "H021-EFM37HB-M2-Q1",
           "THYM"
          ],
          [
           "H021-YMGWJ2U-M1-Q1",
           "THYM"
          ]
         ],
         "hovertemplate": "Sample name: %{customdata[0]}<br>code_oncotree: %{customdata[1]}<extra></extra>",
         "legendgroup": "THYM",
         "marker": {
          "color": "#FFA15A",
          "opacity": 0.7,
          "symbol": "circle"
         },
         "mode": "markers",
         "name": "THYM",
         "scene": "scene",
         "showlegend": true,
         "type": "scatter3d",
         "x": {
          "bdata": "SDMjQWjMCEEghyVBbcICQTljAUFOIP1AB+giQe3dGkEgnyJB9wgDQbZyHUHRvBtB0VoXQXwb+kByciBBuPkBQSmpI0F1thlBGP0XQZpCD0E=",
          "dtype": "f4"
         },
         "y": {
          "bdata": "5ysDwOAXB8CP/7W+ASfJv/KWkL+TDsm/ZyIbwMOXab9Zdx/AkLTVv9TA27/6D4W+NsePv3fRwr/7co2/U9A8wPKeD8Boc9e/SuLIv7ABYcA=",
          "dtype": "f4"
         },
         "z": {
          "bdata": "4WoqQQfJH0GmWA5BqncOQRgAEkFGTBtBc7YYQZ9jGUHKfhVBf8gOQYkDCkHKHBxBgnwcQZZzHUFfciBBiPclQTj3GUFHhCZBHw4kQfs9G0E=",
          "dtype": "f4"
         }
        },
        {
         "customdata": [
          [
           "H021-7TL2GTK-M2-Q1",
           "GEJ"
          ]
         ],
         "hovertemplate": "Sample name: %{customdata[0]}<br>code_oncotree: %{customdata[1]}<extra></extra>",
         "legendgroup": "GEJ",
         "marker": {
          "color": "#19d3f3",
          "opacity": 0.7,
          "symbol": "circle"
         },
         "mode": "markers",
         "name": "GEJ",
         "scene": "scene",
         "showlegend": true,
         "type": "scatter3d",
         "x": {
          "bdata": "GMMeQQ==",
          "dtype": "f4"
         },
         "y": {
          "bdata": "bBtRwA==",
          "dtype": "f4"
         },
         "z": {
          "bdata": "kyIaQQ==",
          "dtype": "f4"
         }
        },
        {
         "customdata": [
          [
           "H021-5NNJUD-M1-Q1",
           "EGC"
          ],
          [
           "H021-Z3BB3X-M1-Q1",
           "EGC"
          ],
          [
           "H021-5NNJUD-M3-Q1",
           "EGC"
          ]
         ],
         "hovertemplate": "Sample name: %{customdata[0]}<br>code_oncotree: %{customdata[1]}<extra></extra>",
         "legendgroup": "EGC",
         "marker": {
          "color": "#FF6692",
          "opacity": 0.7,
          "symbol": "circle"
         },
         "mode": "markers",
         "name": "EGC",
         "scene": "scene",
         "showlegend": true,
         "type": "scatter3d",
         "x": {
          "bdata": "EfoTQRNIDEEHEgxB",
          "dtype": "f4"
         },
         "y": {
          "bdata": "hRjVv+4LUsBq6SzA",
          "dtype": "f4"
         },
         "z": {
          "bdata": "XzsHQVUKLkGDzy1B",
          "dtype": "f4"
         }
        },
        {
         "customdata": [
          [
           "H021-6UE8LT-T1",
           "EHAE"
          ],
          [
           "H021-RMFND4-T2",
           "EHAE"
          ],
          [
           "H021-S971AK-M1",
           "EHAE"
          ],
          [
           "H021-UPQD-M1",
           "EHAE"
          ],
          [
           "H021-QC7SDC-T2",
           "EHAE"
          ],
          [
           "H021-HR2ZN1-T1-E2",
           "EHAE"
          ],
          [
           "H021-2286RM-T4-E2",
           "EHAE"
          ],
          [
           "H021-P691WD-M4-E2",
           "EHAE"
          ],
          [
           "H021-TU8PQ4-T2-E2",
           "EHAE"
          ],
          [
           "H021-Y7JNFE-T4-E2",
           "EHAE"
          ],
          [
           "H021-N65WN4-M4",
           "EHAE"
          ],
          [
           "H021-RNLR1N-M2-Q1",
           "EHAE"
          ],
          [
           "H021-38VW4Y-M2-Q1",
           "EHAE"
          ],
          [
           "H021-PHNFEA-M2-Q1",
           "EHAE"
          ],
          [
           "H021-PHNFEA-M1-Q1",
           "EHAE"
          ],
          [
           "H021-XC64RA-M2-Q1",
           "EHAE"
          ]
         ],
         "hovertemplate": "Sample name: %{customdata[0]}<br>code_oncotree: %{customdata[1]}<extra></extra>",
         "legendgroup": "EHAE",
         "marker": {
          "color": "#B6E880",
          "opacity": 0.7,
          "symbol": "circle"
         },
         "mode": "markers",
         "name": "EHAE",
         "scene": "scene",
         "showlegend": true,
         "type": "scatter3d",
         "x": {
          "bdata": "KKcAQfZ8AUGkNxhB/wkFQSDYAUEvgA1BnOQIQSNQ/kBS5vxAolH7QMUfAkEf2wpBuCALQQknHUG3jSNBZJ0aQQ==",
          "dtype": "f4"
         },
         "y": {
          "bdata": "WYr1PbTBCb719UK+70uov1csTb4NZea9166ovkhTNsBJ+THAh3EvwK4b5L9II/E+h6Div6DXir+kqGK/yx90vw==",
          "dtype": "f4"
         },
         "z": {
          "bdata": "QSIlQe4CM0GQPjdBaKAWQaa7M0EP5jNBvkgzQdi/HEGTuxxBEkwcQYW/DkHAIyZBInY1QZ5aLEG5pCpBtE81QQ==",
          "dtype": "f4"
         }
        },
        {
         "customdata": [
          [
           "H021-AYLJPCA-M2-Q1",
           "EMCHS"
          ]
         ],
         "hovertemplate": "Sample name: %{customdata[0]}<br>code_oncotree: %{customdata[1]}<extra></extra>",
         "legendgroup": "EMCHS",
         "marker": {
          "color": "#FF97FF",
          "opacity": 0.7,
          "symbol": "circle"
         },
         "mode": "markers",
         "name": "EMCHS",
         "scene": "scene",
         "showlegend": true,
         "type": "scatter3d",
         "x": {
          "bdata": "ZJ4SQQ==",
          "dtype": "f4"
         },
         "y": {
          "bdata": "vOKkvw==",
          "dtype": "f4"
         },
         "z": {
          "bdata": "rckmQQ==",
          "dtype": "f4"
         }
        },
        {
         "customdata": [
          [
           "H021-YMU2T4-M4-Q1",
           "EOV"
          ]
         ],
         "hovertemplate": "Sample name: %{customdata[0]}<br>code_oncotree: %{customdata[1]}<extra></extra>",
         "legendgroup": "EOV",
         "marker": {
          "color": "#FECB52",
          "opacity": 0.7,
          "symbol": "circle"
         },
         "mode": "markers",
         "name": "EOV",
         "scene": "scene",
         "showlegend": true,
         "type": "scatter3d",
         "x": {
          "bdata": "YEUaQQ==",
          "dtype": "f4"
         },
         "y": {
          "bdata": "TnF2wA==",
          "dtype": "f4"
         },
         "z": {
          "bdata": "yXofQQ==",
          "dtype": "f4"
         }
        },
        {
         "customdata": [
          [
           "H021-BXQFYJ-T1",
           "EPIS"
          ],
          [
           "H021-RY13PM-M1",
           "EPIS"
          ],
          [
           "H021-ATE46U-T1",
           "EPIS"
          ],
          [
           "I011-004-9T1-P1",
           "EPIS"
          ],
          [
           "H021-EAP7LV-M1-E1",
           "EPIS"
          ],
          [
           "I002-020-0T1-P1",
           "EPIS"
          ],
          [
           "I037-009-0T1-P1",
           "EPIS"
          ],
          [
           "I018-026-1M1-P1",
           "EPIS"
          ],
          [
           "H021-DGKVVG-T1",
           "EPIS"
          ],
          [
           "H021-ATFVNK-M1",
           "EPIS"
          ],
          [
           "I070-032-0T1-P1",
           "EPIS"
          ],
          [
           "H021-HLHW2B-M1-Q1",
           "EPIS"
          ],
          [
           "I052-042-9T1-P1",
           "EPIS"
          ],
          [
           "H021-3XT28G-M1-Q1",
           "EPIS"
          ],
          [
           "H021-HLHW2B-T1-Q1",
           "EPIS"
          ]
         ],
         "hovertemplate": "Sample name: %{customdata[0]}<br>code_oncotree: %{customdata[1]}<extra></extra>",
         "legendgroup": "EPIS",
         "marker": {
          "color": "#636efa",
          "opacity": 0.7,
          "symbol": "circle"
         },
         "mode": "markers",
         "name": "EPIS",
         "scene": "scene",
         "showlegend": true,
         "type": "scatter3d",
         "x": {
          "bdata": "hpkAQd8HBUFTKwlBfvcWQdN1DUEuQiNB14EjQaK+FkEx4SJBlAAhQe7REkGw9w9BoNgLQW+JEEF2ugtB",
          "dtype": "f4"
         },
         "y": {
          "bdata": "ihwfvzpqfj/xrK4/KidVP3iAC8Atspg+NGbcPnXLqj2nPNA+vl/3v5BfHb8VyATAUZLZPqAVBMDsC9k+",
          "dtype": "f4"
         },
         "z": {
          "bdata": "GzgdQV2hFUFr1hZBPCQPQdA0LkEcTQRBTFACQfR/IEG1EgxByQARQVPjDkEVETNBoKsmQZUrM0HjnydB",
          "dtype": "f4"
         }
        },
        {
         "customdata": [
          [
           "I028-003-84352",
           "ERMS"
          ],
          [
           "I003-006-103006",
           "ERMS"
          ],
          [
           "I024-015-104566",
           "ERMS"
          ],
          [
           "I024-034-189638",
           "ERMS"
          ],
          [
           "I034-044-186620",
           "ERMS"
          ],
          [
           "I062-008-87120",
           "ERMS"
          ],
          [
           "I054-033-226658",
           "ERMS"
          ],
          [
           "I008-015-0T1-P1",
           "ERMS"
          ],
          [
           "I027-028-1T1-P1",
           "ERMS"
          ],
          [
           "I003-017-1M1-P1",
           "ERMS"
          ],
          [
           "I054-024-1T1-P1",
           "ERMS"
          ],
          [
           "I054-026-1T1-P1",
           "ERMS"
          ],
          [
           "I052-025-1T1-P1",
           "ERMS"
          ],
          [
           "I034-052-222996",
           "ERMS"
          ],
          [
           "I007-088-1T2-P1",
           "ERMS"
          ],
          [
           "I071-006-2T1-P1",
           "ERMS"
          ],
          [
           "I071-004-1T1-P1",
           "ERMS"
          ],
          [
           "I007-076-1T1-P1",
           "ERMS"
          ],
          [
           "I036-036-2T1-P1",
           "ERMS"
          ],
          [
           "I024-032-1T1-P1",
           "ERMS"
          ],
          [
           "I062-051-1T1-P1",
           "ERMS"
          ],
          [
           "I043-011-2M1-P1",
           "ERMS"
          ],
          [
           "I023-023-1T1-P1",
           "ERMS"
          ],
          [
           "I023-033-1T1-P1",
           "ERMS"
          ],
          [
           "I015-017-0M1-P1",
           "ERMS"
          ],
          [
           "I054-039-1T1-P1",
           "ERMS"
          ],
          [
           "I011-006-0T1-P1",
           "ERMS"
          ],
          [
           "I034-071-2T1-P1",
           "ERMS"
          ],
          [
           "I022-063-1M1-P1",
           "ERMS"
          ],
          [
           "I023-066-1T1-P1",
           "ERMS"
          ],
          [
           "I054-046-1M1-P1",
           "ERMS"
          ],
          [
           "I036-077-1T1-P1",
           "ERMS"
          ],
          [
           "I023-069-3T1-P1",
           "ERMS"
          ],
          [
           "I137-022-1T1-P1",
           "ERMS"
          ],
          [
           "I137-023-1T1-P1",
           "ERMS"
          ],
          [
           "I015-026-2M1",
           "ERMS"
          ]
         ],
         "hovertemplate": "Sample name: %{customdata[0]}<br>code_oncotree: %{customdata[1]}<extra></extra>",
         "legendgroup": "ERMS",
         "marker": {
          "color": "#EF553B",
          "opacity": 0.7,
          "symbol": "circle"
         },
         "mode": "markers",
         "name": "ERMS",
         "scene": "scene",
         "showlegend": true,
         "type": "scatter3d",
         "x": {
          "bdata": "+IQiQfMMI0H7bCFBSrQiQfB1JkENpiFBoo0nQU8BGUFE5B5BbEQYQZZgGkH41RdBW6UfQZZbC0FIaBBBImMSQRy9I0EyqyhB+VkhQd0gKkHV1ihBntonQXM8I0EkQBFBu+wTQeqeHUG0KC1B3dwZQVpVKUFsGB1BiG4oQU/xIUGc9iNBBxkoQQhjJkF9rgtB",
          "dtype": "f4"
         },
         "y": {
          "bdata": "oIaOP25Llz8qyIQ/WN9APzlbWz9ehIw/CWwzP783Xz9pczw/VsFwPyoZcj/8l10/4kVeP1p3D7+9rJ0+ZMLePmL1cD7xRLQ/ug8Kvt4Bsz/fcEo/WrmEPyDTnz9U8Qy+Osbhv8Dqu7/Yepo/16GePvKqbD/qdk4/rfeAPuM9iD+RBBQ/rQZtPRCfCT8+A/A+",
          "dtype": "f4"
         },
         "z": {
          "bdata": "ZycbQcH7GUEwgBtB5N4dQb9OHEHpjgVBVwkVQQolDEHRFApBvQMOQbQOC0H1IQ5BhIoIQcU+N0Gg9zdBt602Qcz7BUGnegxBXk85QbtuDUGwFw5B+g4RQUJwA0GOOzZB3iURQWAbGEHCchFBGPojQWG7EUE+wAtBSc0VQajWGkHdPxBBE6UOQScqEEHFmxJB",
          "dtype": "f4"
         }
        },
        {
         "customdata": [
          [
           "H021-CH8C8S-M3",
           "ES"
          ],
          [
           "H021-3UN257-T2-E2",
           "ES"
          ],
          [
           "I070-039-1T1-P1",
           "ES"
          ],
          [
           "I036-070-0T1-P1",
           "ES"
          ],
          [
           "H021-M4U2KM-M3",
           "ES"
          ],
          [
           "H021-9Q5CD2-M1",
           "ES"
          ],
          [
           "H021-M9ZE3G-M1-E1",
           "ES"
          ],
          [
           "H021-PL5W1B-M1-Q1",
           "ES"
          ],
          [
           "H021-AUDM8Q-M1-Q1",
           "ES"
          ],
          [
           "H021-SAE3YV-T1-Q1",
           "ES"
          ],
          [
           "H021-4J66QY-M1-Q1",
           "ES"
          ],
          [
           "I020-001-1M1-P1",
           "ES"
          ],
          [
           "I020-004-1M1-P1",
           "ES"
          ],
          [
           "H021-BUUX5Y-M1-Q1",
           "ES"
          ],
          [
           "H021-ZHQNGB-M1-Q1",
           "ES"
          ],
          [
           "I071-010-9M1-P1",
           "ES"
          ],
          [
           "I052-041-9M1-P1",
           "ES"
          ],
          [
           "I043-017-2M1-P1",
           "ES"
          ],
          [
           "I024-053-1T1-P1",
           "ES"
          ],
          [
           "I056-035-0T1-P1",
           "ES"
          ],
          [
           "I007-069-1T1-P1",
           "ES"
          ],
          [
           "I007-105-2M1-P1",
           "ES"
          ],
          [
           "I063-042-1T2-P1",
           "ES"
          ],
          [
           "I063-061-3M1-P1",
           "ES"
          ],
          [
           "I056-036-2M1-P1",
           "ES"
          ],
          [
           "I078-053-1T1-P1",
           "ES"
          ],
          [
           "H021-6XYFYE-T2-Q1",
           "ES"
          ],
          [
           "H021-ZL6K2W-M7-Q1",
           "ES"
          ],
          [
           "H021-CCNRZF-M2-Q1",
           "ES"
          ],
          [
           "H021-WP9X95-M4-Q1",
           "ES"
          ],
          [
           "H021-4SHR5Q5-M2-Q1",
           "ES"
          ],
          [
           "H021-D5EJ1B-T2-Q1",
           "ES"
          ],
          [
           "H021-CCNRZF-M8-Q1",
           "ES"
          ]
         ],
         "hovertemplate": "Sample name: %{customdata[0]}<br>code_oncotree: %{customdata[1]}<extra></extra>",
         "legendgroup": "ES",
         "marker": {
          "color": "#00cc96",
          "opacity": 0.7,
          "symbol": "circle"
         },
         "mode": "markers",
         "name": "ES",
         "scene": "scene",
         "showlegend": true,
         "type": "scatter3d",
         "x": {
          "bdata": "n0oaQa04D0E+OCRBnQoEQeC/GkGmUhhBtUUvQXjZLUHFbyJBlcoVQb17FUG/kTBByGgdQTMXHUFiGR9BaNMeQVkQMEEaQCxB7m8nQQvBJUHHChdBPeEXQWAuF0GNsRZBVm4QQVT0L0FqoC5B6RcjQaNgFkEqlC9B0NIDQUflKUHEoy1B",
          "dtype": "f4"
         },
         "y": {
          "bdata": "zLzFPsLeDj9v/bc+xqLrPUnrMb9XKCm/dWHovoHdVb4MKCu/UGQ9vk5FJcC9/AS/u1iGP4abx7z2ENe/Qz1VvUE89b6pKB4+iRQuvzQqiT3YuL++H4XgvkBtOL/wKii/t0hYvvzWGb+/RZO/+F2ov+iOw78F7AfAyPD8vx8umr4qCDm/",
          "dtype": "f4"
         },
         "z": {
          "bdata": "xpkEQQq9B0FLmwJBr6oxQWKtE0EsGRZBMbEdQZz1GUFOABJB5IYYQUIRFkGamx5BlBIGQTTOKUG5yAdBR4stQY8AHkGwNBxBhCAyQY5PJ0GE7hpB8bAbQTpjGkFm6xlBQZgtQRmEHkEMWCVB9e0vQZKZE0FRaCBBda0fQaGUJkFqah5B",
          "dtype": "f4"
         }
        },
        {
         "customdata": [
          [
           "H021-4S2DX7-M1-Q1",
           "ESCA"
          ],
          [
           "H021-B1WP5Y-M1-Q1",
           "ESCA"
          ],
          [
           "H021-FQXTR9-M1-Q1",
           "ESCA"
          ],
          [
           "H021-NU88WE-M1-Q1",
           "ESCA"
          ]
         ],
         "hovertemplate": "Sample name: %{customdata[0]}<br>code_oncotree: %{customdata[1]}<extra></extra>",
         "legendgroup": "ESCA",
         "marker": {
          "color": "#ab63fa",
          "opacity": 0.7,
          "symbol": "circle"
         },
         "mode": "markers",
         "name": "ESCA",
         "scene": "scene",
         "showlegend": true,
         "type": "scatter3d",
         "x": {
          "bdata": "iLQhQS9jEkHZyxtBgfgtQQ==",
          "dtype": "f4"
         },
         "y": {
          "bdata": "/jvwvyG4esBaxJy+Ijb/vw==",
          "dtype": "f4"
         },
         "z": {
          "bdata": "I80NQXLhIEHooS9B7yIgQQ==",
          "dtype": "f4"
         }
        },
        {
         "customdata": [
          [
           "H021-G3NVDT-T2-Q1",
           "ESCC"
          ]
         ],
         "hovertemplate": "Sample name: %{customdata[0]}<br>code_oncotree: %{customdata[1]}<extra></extra>",
         "legendgroup": "ESCC",
         "marker": {
          "color": "#FFA15A",
          "opacity": 0.7,
          "symbol": "circle"
         },
         "mode": "markers",
         "name": "ESCC",
         "scene": "scene",
         "showlegend": true,
         "type": "scatter3d",
         "x": {
          "bdata": "ye8lQQ==",
          "dtype": "f4"
         },
         "y": {
          "bdata": "emwlvw==",
          "dtype": "f4"
         },
         "z": {
          "bdata": "KwoxQQ==",
          "dtype": "f4"
         }
        },
        {
         "customdata": [
          [
           "H021-SU7U6F-M1-Q1",
           "ESS"
          ],
          [
           "H021-ZG87AF-M3-Q1",
           "ESS"
          ],
          [
           "H021-CUDQF2-T1-Q1",
           "ESS"
          ],
          [
           "H021-5CMLW9-M1-Q1",
           "ESS"
          ],
          [
           "H021-5CMLW9-M3-Q1",
           "ESS"
          ]
         ],
         "hovertemplate": "Sample name: %{customdata[0]}<br>code_oncotree: %{customdata[1]}<extra></extra>",
         "legendgroup": "ESS",
         "marker": {
          "color": "#19d3f3",
          "opacity": 0.7,
          "symbol": "circle"
         },
         "mode": "markers",
         "name": "ESS",
         "scene": "scene",
         "showlegend": true,
         "type": "scatter3d",
         "x": {
          "bdata": "cjEvQbNGHUGyLhdBqmcsQYvtLEE=",
          "dtype": "f4"
         },
         "y": {
          "bdata": "TK8EwO9Wi76Q4jK/mThzvzXDZ78=",
          "dtype": "f4"
         },
         "z": {
          "bdata": "loogQTlwEkHPDRFBvQUlQX3iJUE=",
          "dtype": "f4"
         }
        },
        {
         "customdata": [
          [
           "H021-ZRU5JL-M1",
           "ESST"
          ],
          [
           "H021-13A4TF-M1",
           "ESST"
          ],
          [
           "H021-LBKUEJ-M2-E1",
           "ESST"
          ],
          [
           "H021-HWZUPV-M1",
           "ESST"
          ],
          [
           "H021-ZX2W8U-T1",
           "ESST"
          ],
          [
           "I024-054-1M1-P1",
           "ESST"
          ],
          [
           "I054-028-5M1-P1",
           "ESST"
          ],
          [
           "I054-042-6T1-P1",
           "ESST"
          ],
          [
           "H021-9CHMG8-M1-Q1",
           "ESST"
          ]
         ],
         "hovertemplate": "Sample name: %{customdata[0]}<br>code_oncotree: %{customdata[1]}<extra></extra>",
         "legendgroup": "ESST",
         "marker": {
          "color": "#FF6692",
          "opacity": 0.7,
          "symbol": "circle"
         },
         "mode": "markers",
         "name": "ESST",
         "scene": "scene",
         "showlegend": true,
         "type": "scatter3d",
         "x": {
          "bdata": "KoAZQQBSHkH/zgZBUIIwQQ48IUEssyVB/vUUQZhrHkFTNh9B",
          "dtype": "f4"
         },
         "y": {
          "bdata": "WiTfPtWDGr8TSV++H+EAvyZrzb4VCRq+GIBDvxfX7T1WKau/",
          "dtype": "f4"
         },
         "z": {
          "bdata": "4CwEQSdbCUHvWSNBooMeQZgbD0HiWy1B6QgPQaFXFEG7Fg9B",
          "dtype": "f4"
         }
        },
        {
         "customdata": [
          [
           "T20-93173-T1",
           "EWSR1::PATZ1"
          ],
          [
           "T20-93173-T1-R2",
           "EWSR1::PATZ1"
          ]
         ],
         "hovertemplate": "Sample name: %{customdata[0]}<br>code_oncotree: %{customdata[1]}<extra></extra>",
         "legendgroup": "EWSR1::PATZ1",
         "marker": {
          "color": "#B6E880",
          "opacity": 0.7,
          "symbol": "circle"
         },
         "mode": "markers",
         "name": "EWSR1::PATZ1",
         "scene": "scene",
         "showlegend": true,
         "type": "scatter3d",
         "x": {
          "bdata": "8GwUQajaFEE=",
          "dtype": "f4"
         },
         "y": {
          "bdata": "viyvP0SiuD8=",
          "dtype": "f4"
         },
         "z": {
          "bdata": "QA8UQQBCF0E=",
          "dtype": "f4"
         }
        },
        {
         "customdata": [
          [
           "H021-JKA541B-T1-Q1",
           "FDCS"
          ]
         ],
         "hovertemplate": "Sample name: %{customdata[0]}<br>code_oncotree: %{customdata[1]}<extra></extra>",
         "legendgroup": "FDCS",
         "marker": {
          "color": "#FF97FF",
          "opacity": 0.7,
          "symbol": "circle"
         },
         "mode": "markers",
         "name": "FDCS",
         "scene": "scene",
         "showlegend": true,
         "type": "scatter3d",
         "x": {
          "bdata": "r5sKQQ==",
          "dtype": "f4"
         },
         "y": {
          "bdata": "WFr4vg==",
          "dtype": "f4"
         },
         "z": {
          "bdata": "yI0NQQ==",
          "dtype": "f4"
         }
        },
        {
         "customdata": [
          [
           "H021-314BWF-T1",
           "FIBS"
          ],
          [
           "H021-W91N9P-M1",
           "FIBS"
          ],
          [
           "H021-VTEG9B-T1",
           "FIBS"
          ],
          [
           "H021-9MQATM-M2-E1",
           "FIBS"
          ]
         ],
         "hovertemplate": "Sample name: %{customdata[0]}<br>code_oncotree: %{customdata[1]}<extra></extra>",
         "legendgroup": "FIBS",
         "marker": {
          "color": "#FECB52",
          "opacity": 0.7,
          "symbol": "circle"
         },
         "mode": "markers",
         "name": "FIBS",
         "scene": "scene",
         "showlegend": true,
         "type": "scatter3d",
         "x": {
          "bdata": "ANb8QOTwBUGF1gxBi6MUQQ==",
          "dtype": "f4"
         },
         "y": {
          "bdata": "VsGTvYcTrL8MoUs/xrqHvw==",
          "dtype": "f4"
         },
         "z": {
          "bdata": "DTYiQSguFUGgGxhB/oIGQQ==",
          "dtype": "f4"
         }
        },
        {
         "customdata": [
          [
           "H021-GDQGWR-T4-E1",
           "FIOS"
          ]
         ],
         "hovertemplate": "Sample name: %{customdata[0]}<br>code_oncotree: %{customdata[1]}<extra></extra>",
         "legendgroup": "FIOS",
         "marker": {
          "color": "#636efa",
          "opacity": 0.7,
          "symbol": "circle"
         },
         "mode": "markers",
         "name": "FIOS",
         "scene": "scene",
         "showlegend": true,
         "type": "scatter3d",
         "x": {
          "bdata": "QR0BQQ==",
          "dtype": "f4"
         },
         "y": {
          "bdata": "vSOgvg==",
          "dtype": "f4"
         },
         "z": {
          "bdata": "P04wQQ==",
          "dtype": "f4"
         }
        },
        {
         "customdata": [
          [
           "H021-W3ZFUV-T1-E1",
           "GB"
          ],
          [
           "H021-S717PM-T1",
           "GB"
          ],
          [
           "H021-NTAHUW-T2-Q1",
           "GB"
          ],
          [
           "H021-NTAHUW-T1-Q1",
           "GB"
          ],
          [
           "MRI-172NW6K10-T1",
           "GB"
          ],
          [
           "MRI-1TAJAKP94-T1",
           "GB"
          ],
          [
           "H021-82JNWB-T1-Q1",
           "GB"
          ],
          [
           "MRI-1TAJAKP94-T1-R2",
           "GB"
          ],
          [
           "MRI-172NW6K10-T1-R2",
           "GB"
          ],
          [
           "H021-MNL8UP-T1-Q1",
           "GB"
          ],
          [
           "H021-NBNJR5B-T1-Q1",
           "GB"
          ]
         ],
         "hovertemplate": "Sample name: %{customdata[0]}<br>code_oncotree: %{customdata[1]}<extra></extra>",
         "legendgroup": "GB",
         "marker": {
          "color": "#EF553B",
          "opacity": 0.7,
          "symbol": "circle"
         },
         "mode": "markers",
         "name": "GB",
         "scene": "scene",
         "showlegend": true,
         "type": "scatter3d",
         "x": {
          "bdata": "jdIDQasAHUEbuBRB9Rv9QEvrI0HVgj9BkVwDQa3+QEG56EBBEk4oQcvqF0E=",
          "dtype": "f4"
         },
         "y": {
          "bdata": "nPltv5nADb9tHpi/WDzTvkMZxr+FrII+udFtvkvQqT5mWqg+oLQWP84BPb8=",
          "dtype": "f4"
         },
         "z": {
          "bdata": "NwMMQfHpEEGFwy5BDFAgQatfKEEM4tBAp4MdQZcazUAMZM1ApAAHQcMNM0E=",
          "dtype": "f4"
         }
        },
        {
         "customdata": [
          [
           "H021-3HFVRE-M1-Q1",
           "GBASC"
          ]
         ],
         "hovertemplate": "Sample name: %{customdata[0]}<br>code_oncotree: %{customdata[1]}<extra></extra>",
         "legendgroup": "GBASC",
         "marker": {
          "color": "#00cc96",
          "opacity": 0.7,
          "symbol": "circle"
         },
         "mode": "markers",
         "name": "GBASC",
         "scene": "scene",
         "showlegend": true,
         "type": "scatter3d",
         "x": {
          "bdata": "kxQOQQ==",
          "dtype": "f4"
         },
         "y": {
          "bdata": "U8BbwA==",
          "dtype": "f4"
         },
         "z": {
          "bdata": "iMwtQQ==",
          "dtype": "f4"
         }
        },
        {
         "customdata": [
          [
           "H021-L1MA46-M1-Q1",
           "GBC"
          ]
         ],
         "hovertemplate": "Sample name: %{customdata[0]}<br>code_oncotree: %{customdata[1]}<extra></extra>",
         "legendgroup": "GBC",
         "marker": {
          "color": "#ab63fa",
          "opacity": 0.7,
          "symbol": "circle"
         },
         "mode": "markers",
         "name": "GBC",
         "scene": "scene",
         "showlegend": true,
         "type": "scatter3d",
         "x": {
          "bdata": "a+wCQQ==",
          "dtype": "f4"
         },
         "y": {
          "bdata": "oTcNwA==",
          "dtype": "f4"
         },
         "z": {
          "bdata": "Gr4eQQ==",
          "dtype": "f4"
         }
        },
        {
         "customdata": [
          [
           "H021-8TH97K-T1-Q1",
           "GBM"
          ]
         ],
         "hovertemplate": "Sample name: %{customdata[0]}<br>code_oncotree: %{customdata[1]}<extra></extra>",
         "legendgroup": "GBM",
         "marker": {
          "color": "#FFA15A",
          "opacity": 0.7,
          "symbol": "circle"
         },
         "mode": "markers",
         "name": "GBM",
         "scene": "scene",
         "showlegend": true,
         "type": "scatter3d",
         "x": {
          "bdata": "4Qv6QA==",
          "dtype": "f4"
         },
         "y": {
          "bdata": "VQPqvg==",
          "dtype": "f4"
         },
         "z": {
          "bdata": "POYgQQ==",
          "dtype": "f4"
         }
        },
        {
         "customdata": [
          [
           "H021-WGQSSP-M2-Q1",
           "GINET"
          ],
          [
           "H021-KKM5YL-T2",
           "GINET"
          ],
          [
           "H021-KA2Y38-M2-Q1",
           "GINET"
          ],
          [
           "H021-ZD413K-M1-Q1",
           "GINET"
          ],
          [
           "H021-GDE7ZW-M2-Q1",
           "GINET"
          ],
          [
           "H021-H2N9HR-T1-Q1",
           "GINET"
          ],
          [
           "H021-UXUUTN-M2-Q1",
           "GINET"
          ],
          [
           "H021-3UJK45P-M1-Q1",
           "GINET"
          ],
          [
           "H021-SW2NS5U-M1-Q1",
           "GINET"
          ],
          [
           "H021-W3ATXAC-M1-Q1",
           "GINET"
          ]
         ],
         "hovertemplate": "Sample name: %{customdata[0]}<br>code_oncotree: %{customdata[1]}<extra></extra>",
         "legendgroup": "GINET",
         "marker": {
          "color": "#19d3f3",
          "opacity": 0.7,
          "symbol": "circle"
         },
         "mode": "markers",
         "name": "GINET",
         "scene": "scene",
         "showlegend": true,
         "type": "scatter3d",
         "x": {
          "bdata": "l2QcQX7+EEHnGBhBTdMhQVAo6kBfPupAfxMNQSi/G0EONgNBAs8ZQQ==",
          "dtype": "f4"
         },
         "y": {
          "bdata": "jOi5vzLGLMAbqKK/u/y+vxyr5r8lXOa/Wx9kwKdi+b8bc5y/NhUCwA==",
          "dtype": "f4"
         },
         "z": {
          "bdata": "XZ04QWxyG0HDkyhBtPAUQeRhEUHzJhFBIXkYQaGhNUHljSlB8dA2QQ==",
          "dtype": "f4"
         }
        },
        {
         "customdata": [
          [
           "H021-SM2JWB-M1-Q1",
           "GINETES"
          ],
          [
           "H021-6CGB64-M3-Q1",
           "GINETES"
          ],
          [
           "H021-Y9QDLE-M2-Q1",
           "GINETES"
          ],
          [
           "H021-6YEK7Z-M1-Q1",
           "GINETES"
          ]
         ],
         "hovertemplate": "Sample name: %{customdata[0]}<br>code_oncotree: %{customdata[1]}<extra></extra>",
         "legendgroup": "GINETES",
         "marker": {
          "color": "#FF6692",
          "opacity": 0.7,
          "symbol": "circle"
         },
         "mode": "markers",
         "name": "GINETES",
         "scene": "scene",
         "showlegend": true,
         "type": "scatter3d",
         "x": {
          "bdata": "D88ZQQEb7kCV/B1BOgsoQQ==",
          "dtype": "f4"
         },
         "y": {
          "bdata": "MyI1wMAm9L9zN+G/pm2zvw==",
          "dtype": "f4"
         },
         "z": {
          "bdata": "Bx4XQQ09EkGsaClBPLgfQQ==",
          "dtype": "f4"
         }
        },
        {
         "customdata": [
          [
           "H021-S9STPR-M1",
           "HGNES"
          ],
          [
           "H021-E3ZW37-T2-Q1",
           "HGNES"
          ],
          [
           "H021-S9STPR-U1-Q1",
           "HGNES"
          ]
         ],
         "hovertemplate": "Sample name: %{customdata[0]}<br>code_oncotree: %{customdata[1]}<extra></extra>",
         "legendgroup": "HGNES",
         "marker": {
          "color": "#B6E880",
          "opacity": 0.7,
          "symbol": "circle"
         },
         "mode": "markers",
         "name": "HGNES",
         "scene": "scene",
         "showlegend": true,
         "type": "scatter3d",
         "x": {
          "bdata": "/44VQUjgJ0ESgAZB",
          "dtype": "f4"
         },
         "y": {
          "bdata": "bWwZwGH4Tr8eOiXA",
          "dtype": "f4"
         },
         "z": {
          "bdata": "OSwnQaDfL0FEFxFB",
          "dtype": "f4"
         }
        },
        {
         "customdata": [
          [
           "H021-2FV6UJ-T3",
           "GIST"
          ],
          [
           "H021-F7VR2D-T1",
           "GIST"
          ],
          [
           "H021-QL4GEW-T1",
           "GIST"
          ],
          [
           "H021-QY2Q95-M1",
           "GIST"
          ],
          [
           "H021-X2UVYS-T1",
           "GIST"
          ],
          [
           "H021-YTV8N8-M1",
           "GIST"
          ],
          [
           "I044-035-0T1-P1",
           "GIST"
          ],
          [
           "H021-BPR7MU-M1-Q1",
           "GIST"
          ],
          [
           "H021-BPR7MU-M2-Q1",
           "GIST"
          ],
          [
           "H021-B2ZH63-M1-Q1",
           "GIST"
          ],
          [
           "H021-CG5Q59-M1-Q1",
           "GIST"
          ],
          [
           "H021-ZK65BC-M1-Q1",
           "GIST"
          ],
          [
           "H021-MLZAFR-M2-Q1",
           "GIST"
          ],
          [
           "H021-TT6C32-M2-Q2",
           "GIST"
          ],
          [
           "H021-BNYT4K6-M2-Q1",
           "GIST"
          ],
          [
           "H021-ETMGAJB-M2-Q1",
           "GIST"
          ]
         ],
         "hovertemplate": "Sample name: %{customdata[0]}<br>code_oncotree: %{customdata[1]}<extra></extra>",
         "legendgroup": "GIST",
         "marker": {
          "color": "#FF97FF",
          "opacity": 0.7,
          "symbol": "circle"
         },
         "mode": "markers",
         "name": "GIST",
         "scene": "scene",
         "showlegend": true,
         "type": "scatter3d",
         "x": {
          "bdata": "sdz8QHhkAEHDJQpB5vUfQQnaBEHU8SBBFyMKQafJC0FOZhhBsj4XQd2hCkGMmyZBGgYLQQ6rFUHHBAtBbVoKQQ==",
          "dtype": "f4"
         },
         "y": {
          "bdata": "q0WpPE7V7T3B2ME/Ix8aP78uhT92hBS+6YizP5tiqT9Ey5a/2TPuPnC/vz/Deos+t0O4P6U2gr8KwcQ/ZZfBPw==",
          "dtype": "f4"
         },
         "z": {
          "bdata": "fMYhQWyaI0HJFxhBpdceQVhGFEGOPAlBiLQWQbybIUEauiZBKVgQQYLtGEFSFBFB5vwZQaCoM0G9mhhBaJEYQQ==",
          "dtype": "f4"
         }
        },
        {
         "customdata": [
          [
           "H021-G6KYD4-T2-Q1",
           "GNBL"
          ],
          [
           "H021-AUWFSZ-T2-Q1",
           "GNBL"
          ]
         ],
         "hovertemplate": "Sample name: %{customdata[0]}<br>code_oncotree: %{customdata[1]}<extra></extra>",
         "legendgroup": "GNBL",
         "marker": {
          "color": "#FECB52",
          "opacity": 0.7,
          "symbol": "circle"
         },
         "mode": "markers",
         "name": "GNBL",
         "scene": "scene",
         "showlegend": true,
         "type": "scatter3d",
         "x": {
          "bdata": "ViMIQdERFUE=",
          "dtype": "f4"
         },
         "y": {
          "bdata": "JuI3vwO2Ib8=",
          "dtype": "f4"
         },
         "z": {
          "bdata": "LVwPQfjaMkE=",
          "dtype": "f4"
         }
        },
        {
         "customdata": [
          [
           "H021-9SJV64-T1-Q1",
           "GNOS"
          ]
         ],
         "hovertemplate": "Sample name: %{customdata[0]}<br>code_oncotree: %{customdata[1]}<extra></extra>",
         "legendgroup": "GNOS",
         "marker": {
          "color": "#636efa",
          "opacity": 0.7,
          "symbol": "circle"
         },
         "mode": "markers",
         "name": "GNOS",
         "scene": "scene",
         "showlegend": true,
         "type": "scatter3d",
         "x": {
          "bdata": "CGERQQ==",
          "dtype": "f4"
         },
         "y": {
          "bdata": "O+OFPQ==",
          "dtype": "f4"
         },
         "z": {
          "bdata": "WcEjQQ==",
          "dtype": "f4"
         }
        },
        {
         "customdata": [
          [
           "H021-TS247S-T15-Q1",
           "HCC"
          ]
         ],
         "hovertemplate": "Sample name: %{customdata[0]}<br>code_oncotree: %{customdata[1]}<extra></extra>",
         "legendgroup": "HCC",
         "marker": {
          "color": "#EF553B",
          "opacity": 0.7,
          "symbol": "circle"
         },
         "mode": "markers",
         "name": "HCC",
         "scene": "scene",
         "showlegend": true,
         "type": "scatter3d",
         "x": {
          "bdata": "p4sfQQ==",
          "dtype": "f4"
         },
         "y": {
          "bdata": "gGKPvw==",
          "dtype": "f4"
         },
         "z": {
          "bdata": "AHA6QQ==",
          "dtype": "f4"
         }
        },
        {
         "customdata": [
          [
           "H021-ERDEX6-M1",
           "HCCIHCH"
          ]
         ],
         "hovertemplate": "Sample name: %{customdata[0]}<br>code_oncotree: %{customdata[1]}<extra></extra>",
         "legendgroup": "HCCIHCH",
         "marker": {
          "color": "#00cc96",
          "opacity": 0.7,
          "symbol": "circle"
         },
         "mode": "markers",
         "name": "HCCIHCH",
         "scene": "scene",
         "showlegend": true,
         "type": "scatter3d",
         "x": {
          "bdata": "obMVQQ==",
          "dtype": "f4"
         },
         "y": {
          "bdata": "JgIPwA==",
          "dtype": "f4"
         },
         "z": {
          "bdata": "/DUUQQ==",
          "dtype": "f4"
         }
        },
        {
         "customdata": [
          [
           "H021-GRT6JZ-M2-Q1",
           "HDCS"
          ]
         ],
         "hovertemplate": "Sample name: %{customdata[0]}<br>code_oncotree: %{customdata[1]}<extra></extra>",
         "legendgroup": "HDCS",
         "marker": {
          "color": "#ab63fa",
          "opacity": 0.7,
          "symbol": "circle"
         },
         "mode": "markers",
         "name": "HDCS",
         "scene": "scene",
         "showlegend": true,
         "type": "scatter3d",
         "x": {
          "bdata": "cBIcQQ==",
          "dtype": "f4"
         },
         "y": {
          "bdata": "xqqTvw==",
          "dtype": "f4"
         },
         "z": {
          "bdata": "V142QQ==",
          "dtype": "f4"
         }
        },
        {
         "customdata": [
          [
           "H021-YG77B33-T2-Q1",
           "HEMA"
          ]
         ],
         "hovertemplate": "Sample name: %{customdata[0]}<br>code_oncotree: %{customdata[1]}<extra></extra>",
         "legendgroup": "HEMA",
         "marker": {
          "color": "#FFA15A",
          "opacity": 0.7,
          "symbol": "circle"
         },
         "mode": "markers",
         "name": "HEMA",
         "scene": "scene",
         "showlegend": true,
         "type": "scatter3d",
         "x": {
          "bdata": "10wbQQ==",
          "dtype": "f4"
         },
         "y": {
          "bdata": "aqaPvw==",
          "dtype": "f4"
         },
         "z": {
          "bdata": "oRA8QQ==",
          "dtype": "f4"
         }
        },
        {
         "customdata": [
          [
           "H021-2P6PG8-M3-Q1",
           "HGESS"
          ],
          [
           "H021-GJ85B2-T2-Q1",
           "HGESS"
          ]
         ],
         "hovertemplate": "Sample name: %{customdata[0]}<br>code_oncotree: %{customdata[1]}<extra></extra>",
         "legendgroup": "HGESS",
         "marker": {
          "color": "#19d3f3",
          "opacity": 0.7,
          "symbol": "circle"
         },
         "mode": "markers",
         "name": "HGESS",
         "scene": "scene",
         "showlegend": true,
         "type": "scatter3d",
         "x": {
          "bdata": "46wvQYPTGkE=",
          "dtype": "f4"
         },
         "y": {
          "bdata": "eGO8vm5YV78=",
          "dtype": "f4"
         },
         "z": {
          "bdata": "8SIdQTmlHUE=",
          "dtype": "f4"
         }
        },
        {
         "customdata": [
          [
           "H021-H3MTGT-M1-Q1",
           "HGONEC"
          ],
          [
           "H021-H3MTGT-M4-Q1",
           "HGONEC"
          ]
         ],
         "hovertemplate": "Sample name: %{customdata[0]}<br>code_oncotree: %{customdata[1]}<extra></extra>",
         "legendgroup": "HGONEC",
         "marker": {
          "color": "#FF6692",
          "opacity": 0.7,
          "symbol": "circle"
         },
         "mode": "markers",
         "name": "HGONEC",
         "scene": "scene",
         "showlegend": true,
         "type": "scatter3d",
         "x": {
          "bdata": "QqUDQT/MA0E=",
          "dtype": "f4"
         },
         "y": {
          "bdata": "u2dTwOKaS8A=",
          "dtype": "f4"
         },
         "z": {
          "bdata": "6BMxQUPZL0E=",
          "dtype": "f4"
         }
        },
        {
         "customdata": [
          [
           "H021-KT4HC3-M2",
           "HGSOC"
          ],
          [
           "H021-KU88U7-M1-Q1",
           "HGSOC"
          ]
         ],
         "hovertemplate": "Sample name: %{customdata[0]}<br>code_oncotree: %{customdata[1]}<extra></extra>",
         "legendgroup": "HGSOC",
         "marker": {
          "color": "#B6E880",
          "opacity": 0.7,
          "symbol": "circle"
         },
         "mode": "markers",
         "name": "HGSOC",
         "scene": "scene",
         "showlegend": true,
         "type": "scatter3d",
         "x": {
          "bdata": "/S0BQUX3IkE=",
          "dtype": "f4"
         },
         "y": {
          "bdata": "dA48wN7DCsA=",
          "dtype": "f4"
         },
         "z": {
          "bdata": "VOAoQXQNDkE=",
          "dtype": "f4"
         }
        },
        {
         "customdata": [
          [
           "H021-H2JVJ6-M1",
           "HL"
          ],
          [
           "H021-W2KCYWM-M2-Q1",
           "HL"
          ]
         ],
         "hovertemplate": "Sample name: %{customdata[0]}<br>code_oncotree: %{customdata[1]}<extra></extra>",
         "legendgroup": "HL",
         "marker": {
          "color": "#FF97FF",
          "opacity": 0.7,
          "symbol": "circle"
         },
         "mode": "markers",
         "name": "HL",
         "scene": "scene",
         "showlegend": true,
         "type": "scatter3d",
         "x": {
          "bdata": "v+0cQZTnFEE=",
          "dtype": "f4"
         },
         "y": {
          "bdata": "aXypvmhnQL4=",
          "dtype": "f4"
         },
         "z": {
          "bdata": "pfkhQTXSM0E=",
          "dtype": "f4"
         }
        },
        {
         "customdata": [
          [
           "H021-N6JBU4-M1-Q1",
           "HNMUCM"
          ]
         ],
         "hovertemplate": "Sample name: %{customdata[0]}<br>code_oncotree: %{customdata[1]}<extra></extra>",
         "legendgroup": "HNMUCM",
         "marker": {
          "color": "#FECB52",
          "opacity": 0.7,
          "symbol": "circle"
         },
         "mode": "markers",
         "name": "HNMUCM",
         "scene": "scene",
         "showlegend": true,
         "type": "scatter3d",
         "x": {
          "bdata": "nBQlQQ==",
          "dtype": "f4"
         },
         "y": {
          "bdata": "r0zhPQ==",
          "dtype": "f4"
         },
         "z": {
          "bdata": "ugItQQ==",
          "dtype": "f4"
         }
        },
        {
         "customdata": [
          [
           "H021-FVS4WV-T2-Q1",
           "HNSC"
          ],
          [
           "H021-T1Y7HM-T1-Q1",
           "HNSC"
          ],
          [
           "H021-6G7VSLA-M1-Q1",
           "HNSC"
          ]
         ],
         "hovertemplate": "Sample name: %{customdata[0]}<br>code_oncotree: %{customdata[1]}<extra></extra>",
         "legendgroup": "HNSC",
         "marker": {
          "color": "#636efa",
          "opacity": 0.7,
          "symbol": "circle"
         },
         "mode": "markers",
         "name": "HNSC",
         "scene": "scene",
         "showlegend": true,
         "type": "scatter3d",
         "x": {
          "bdata": "ycMFQf2eDkFkKCRB",
          "dtype": "f4"
         },
         "y": {
          "bdata": "gEZCwCnoJ8AtVx/A",
          "dtype": "f4"
         },
         "z": {
          "bdata": "8OItQVjNM0FtyxpB",
          "dtype": "f4"
         }
        },
        {
         "customdata": [
          [
           "I034-018-101046",
           "IFS"
          ],
          [
           "I007-066-3T1-P1",
           "IFS"
          ]
         ],
         "hovertemplate": "Sample name: %{customdata[0]}<br>code_oncotree: %{customdata[1]}<extra></extra>",
         "legendgroup": "IFS",
         "marker": {
          "color": "#EF553B",
          "opacity": 0.7,
          "symbol": "circle"
         },
         "mode": "markers",
         "name": "IFS",
         "scene": "scene",
         "showlegend": true,
         "type": "scatter3d",
         "x": {
          "bdata": "0XQiQbdgKkE=",
          "dtype": "f4"
         },
         "y": {
          "bdata": "WYWeP3OxBT8=",
          "dtype": "f4"
         },
         "z": {
          "bdata": "/zADQcHEEUE=",
          "dtype": "f4"
         }
        },
        {
         "customdata": [
          [
           "MRI-1L6685RA3-T1",
           "IHCH"
          ],
          [
           "H021-7G4A4D-M1-Q1",
           "IHCH"
          ],
          [
           "H021-BFY7EU-T1-Q1",
           "IHCH"
          ],
          [
           "H021-6PGS9W-M2-Q1",
           "IHCH"
          ],
          [
           "H021-VN7KR5-T3",
           "IHCH"
          ],
          [
           "H021-VF63R3-U3",
           "IHCH"
          ],
          [
           "H021-CN1GRW-T1",
           "IHCH"
          ],
          [
           "H021-VF63R3-M4",
           "IHCH"
          ],
          [
           "H021-LA9G3T-M1",
           "IHCH"
          ],
          [
           "H021-53VEZY-T1",
           "IHCH"
          ],
          [
           "H021-N96R7Q-T1-E1",
           "IHCH"
          ],
          [
           "H021-KAY23D-M4-Q1",
           "IHCH"
          ],
          [
           "H021-HPSK7H-M2-Q1",
           "IHCH"
          ],
          [
           "H021-NS82CZ-M1-Q1",
           "IHCH"
          ],
          [
           "H021-B8Y6CY-M5-Q1",
           "IHCH"
          ],
          [
           "H021-K7WZ2U-T1-Q1",
           "IHCH"
          ],
          [
           "H021-LA9G3T-T1-Q1",
           "IHCH"
          ],
          [
           "H021-UYZU5H-M1-Q1",
           "IHCH"
          ],
          [
           "H021-BDGRM7-T2-Q1",
           "IHCH"
          ],
          [
           "H021-QZCNXP-T2",
           "IHCH"
          ],
          [
           "H021-SF5DJT-T2",
           "IHCH"
          ],
          [
           "H021-HEZMHC-M1-Q1",
           "IHCH"
          ],
          [
           "H021-UD8F2Y-T1-Q1",
           "IHCH"
          ],
          [
           "H021-7W3EWH-T1-Q1",
           "IHCH"
          ],
          [
           "H021-NUWP8A-M2-Q1",
           "IHCH"
          ],
          [
           "H021-VFZF56-M3-Q1",
           "IHCH"
          ],
          [
           "H021-7RXXZA-M2-Q1",
           "IHCH"
          ],
          [
           "H021-PGDHY5-M2-Q1",
           "IHCH"
          ],
          [
           "H021-5F8MA6-T1-Q1",
           "IHCH"
          ],
          [
           "H021-8K4N7X-M2",
           "IHCH"
          ],
          [
           "H021-ULZHNQ-M1-Q1",
           "IHCH"
          ],
          [
           "H021-6P5GUW-M1-Q1",
           "IHCH"
          ],
          [
           "H021-8WHK8E-M1-Q1",
           "IHCH"
          ],
          [
           "H021-ZAE1BC-M2-Q1",
           "IHCH"
          ],
          [
           "H021-NBJSS8-M3-Q1",
           "IHCH"
          ],
          [
           "H021-NUFMTE-M1-Q1",
           "IHCH"
          ],
          [
           "H021-HPSK7H-M1-Q2",
           "IHCH"
          ],
          [
           "H021-SA46FB-M2-Q1",
           "IHCH"
          ],
          [
           "H021-E4ZY7YZ-M2-Q1",
           "IHCH"
          ],
          [
           "H021-N8BCH7A-M3-Q1",
           "IHCH"
          ],
          [
           "H021-3R5SQWA-M1-Q1",
           "IHCH"
          ]
         ],
         "hovertemplate": "Sample name: %{customdata[0]}<br>code_oncotree: %{customdata[1]}<extra></extra>",
         "legendgroup": "IHCH",
         "marker": {
          "color": "#00cc96",
          "opacity": 0.7,
          "symbol": "circle"
         },
         "mode": "markers",
         "name": "IHCH",
         "scene": "scene",
         "showlegend": true,
         "type": "scatter3d",
         "x": {
          "bdata": "IjEPQaxLG0HL4xJBxSkKQeitEkHu3gFBzEUBQesAAUFhRBNBbtYOQUGfD0H/xwVBwZsOQXS+DEHcgQZB++QMQUAdGEFl1hlBfZMFQQl+DUEj/BdBIRkJQZj9CkHpqiRBh7sRQTk2FUFKKw1BKh0ZQbAUE0ESmSFBsgMWQUlsHkE6XR9BoekSQRtpI0EJlRlBBxoNQZlWHUHuqRFBnxUgQYlPDUE=",
          "dtype": "f4"
         },
         "y": {
          "bdata": "l8uBwAbiDMCn0Q3Ay1/Pv4zILMCLwlXANghjwOaRRcBW0zzAZJB1wH01esDVZ1vAK/qDwEdig8CLiTXAOEg+wC8FVcBTFk3ADSstwMZeSsDJCxzAHVuBwK5ugsDkURjAOb9fwCYDW8BiaQHA+b4dwLaJJMCvUpG/kPoowPMUGsB+9CHA3Ef1v8OSGsBPvkvAXXlgwE9ua8DRBS3AVFIgwFmgY8A=",
          "dtype": "f4"
         },
         "z": {
          "bdata": "YoYmQeS/IUFGTi5BOw46QY2xG0FuvydBB7wmQSQ8IUF3nChB4MgcQaHaG0HpWQ9BXmAnQb+OJ0HxRRNBheQuQfnPG0Fx6RtBSWgfQXIcIEEhXxpBjZogQbXyHUH/uiZBZHsvQcKiFEH86RBBa+MiQcDiJUGjFhlBszYfQdHBKUHDYSpBh5keQUYxD0G0aBhBkMsxQXrlHUEIYidBlX4jQd+qJEE=",
          "dtype": "f4"
         }
        },
        {
         "customdata": [
          [
           "H021-MKTPXJ-T1",
           "IMT"
          ],
          [
           "I002-025-226610",
           "IMT"
          ],
          [
           "H021-3VLCXU-M1",
           "IMT"
          ],
          [
           "H021-Q5RP8W-M3-Q1",
           "IMT"
          ],
          [
           "I063-065-1T1-P1",
           "IMT"
          ],
          [
           "H021-3Y2XW4-T1-Q1",
           "IMT"
          ]
         ],
         "hovertemplate": "Sample name: %{customdata[0]}<br>code_oncotree: %{customdata[1]}<extra></extra>",
         "legendgroup": "IMT",
         "marker": {
          "color": "#ab63fa",
          "opacity": 0.7,
          "symbol": "circle"
         },
         "mode": "markers",
         "name": "IMT",
         "scene": "scene",
         "showlegend": true,
         "type": "scatter3d",
         "x": {
          "bdata": "ACL4QAoeHEGfDwpB+0UTQTc5H0ElmRFB",
          "dtype": "f4"
         },
         "y": {
          "bdata": "Iixyv4Zdgz6tUfW/8S6Qv71w0bzI07K/",
          "dtype": "f4"
         },
         "z": {
          "bdata": "oK4iQaPPJUGfWR9BXUsrQVfuOEEjRStB",
          "dtype": "f4"
         }
        },
        {
         "customdata": [
          [
           "H021-UBLX5J-T4-E2",
           "INTS"
          ]
         ],
         "hovertemplate": "Sample name: %{customdata[0]}<br>code_oncotree: %{customdata[1]}<extra></extra>",
         "legendgroup": "INTS",
         "marker": {
          "color": "#FFA15A",
          "opacity": 0.7,
          "symbol": "circle"
         },
         "mode": "markers",
         "name": "INTS",
         "scene": "scene",
         "showlegend": true,
         "type": "scatter3d",
         "x": {
          "bdata": "Q8MUQQ==",
          "dtype": "f4"
         },
         "y": {
          "bdata": "tw6xvQ==",
          "dtype": "f4"
         },
         "z": {
          "bdata": "h8YpQQ==",
          "dtype": "f4"
         }
        },
        {
         "customdata": [
          [
           "H021-AV98YH-M1",
           "LCH"
          ],
          [
           "H021-C8Y1PP-M1-Q1",
           "LCH"
          ]
         ],
         "hovertemplate": "Sample name: %{customdata[0]}<br>code_oncotree: %{customdata[1]}<extra></extra>",
         "legendgroup": "LCH",
         "marker": {
          "color": "#19d3f3",
          "opacity": 0.7,
          "symbol": "circle"
         },
         "mode": "markers",
         "name": "LCH",
         "scene": "scene",
         "showlegend": true,
         "type": "scatter3d",
         "x": {
          "bdata": "hJQfQZ1GAEE=",
          "dtype": "f4"
         },
         "y": {
          "bdata": "muY4vUHNCT4=",
          "dtype": "f4"
         },
         "z": {
          "bdata": "OQ4nQWeOIkE=",
          "dtype": "f4"
         }
        },
        {
         "customdata": [
          [
           "H021-JGJRM8-T4",
           "LGFMS"
          ],
          [
           "H021-TDDW-T1",
           "LGFMS"
          ],
          [
           "H021-4RWKD3-M3",
           "LGFMS"
          ],
          [
           "H021-RCJFWM-T1",
           "LGFMS"
          ],
          [
           "H021-83CB1G-M1-E2",
           "LGFMS"
          ],
          [
           "H021-9L4BAU-M1-E2",
           "LGFMS"
          ],
          [
           "H021-SRF1J2-T2-E1",
           "LGFMS"
          ],
          [
           "H021-J7T6N7-M1-E1",
           "LGFMS"
          ],
          [
           "H021-HSPL2T-M1-Q1",
           "LGFMS"
          ],
          [
           "H021-KR1BDV-T3-Q1",
           "LGFMS"
          ],
          [
           "H021-TAFPLZ-T1-Q1",
           "LGFMS"
          ],
          [
           "H021-TAFPLZ-T5-Q1",
           "LGFMS"
          ],
          [
           "H021-TZEK4W-U1-Q1",
           "LGFMS"
          ],
          [
           "H021-SE8CGE-T2-Q1",
           "LGFMS"
          ]
         ],
         "hovertemplate": "Sample name: %{customdata[0]}<br>code_oncotree: %{customdata[1]}<extra></extra>",
         "legendgroup": "LGFMS",
         "marker": {
          "color": "#FF6692",
          "opacity": 0.7,
          "symbol": "circle"
         },
         "mode": "markers",
         "name": "LGFMS",
         "scene": "scene",
         "showlegend": true,
         "type": "scatter3d",
         "x": {
          "bdata": "uIARQXD0GEH8cwVBZcoFQbsZDEGVUABBfdMTQaaaHUGc7yRBlAMUQSQgI0FagSJBwuEeQXV1CUE=",
          "dtype": "f4"
         },
         "y": {
          "bdata": "zrfrvhRGuzq0sIY/eBzGv0B+HT/s+jnAUa/Av0A5iL6C/ly/LXXfv+/w8b88Ue6/Bn1qwFumxr8=",
          "dtype": "f4"
         },
         "z": {
          "bdata": "BDEzQadHJ0F2zxRB5QQPQRxKCUEhVyVBT3YJQS8eGEEvFShBuXMIQQYABEHXegNBEZgdQSomDUE=",
          "dtype": "f4"
         }
        },
        {
         "customdata": [
          [
           "H021-ABQZJ9-M1-Q1",
           "LGSOC"
          ],
          [
           "H021-H2LZWA-M1-Q1",
           "LGSOC"
          ],
          [
           "H021-T82USU-M4-Q1",
           "LGSOC"
          ],
          [
           "H021-AUFSB1-M7-Q1",
           "LGSOC"
          ]
         ],
         "hovertemplate": "Sample name: %{customdata[0]}<br>code_oncotree: %{customdata[1]}<extra></extra>",
         "legendgroup": "LGSOC",
         "marker": {
          "color": "#B6E880",
          "opacity": 0.7,
          "symbol": "circle"
         },
         "mode": "markers",
         "name": "LGSOC",
         "scene": "scene",
         "showlegend": true,
         "type": "scatter3d",
         "x": {
          "bdata": "jtkAQSN1AUFTShBBtfEjQQ==",
          "dtype": "f4"
         },
         "y": {
          "bdata": "uBoxwMkaPcC4zA3A7BcAwA==",
          "dtype": "f4"
         },
         "z": {
          "bdata": "mQAfQVzUJEHm7zJBTpcdQQ==",
          "dtype": "f4"
         }
        },
        {
         "customdata": [
          [
           "H021-P9G5GE-M1-Q1",
           "LIMNET"
          ]
         ],
         "hovertemplate": "Sample name: %{customdata[0]}<br>code_oncotree: %{customdata[1]}<extra></extra>",
         "legendgroup": "LIMNET",
         "marker": {
          "color": "#FF97FF",
          "opacity": 0.7,
          "symbol": "circle"
         },
         "mode": "markers",
         "name": "LIMNET",
         "scene": "scene",
         "showlegend": true,
         "type": "scatter3d",
         "x": {
          "bdata": "i3UXQQ==",
          "dtype": "f4"
         },
         "y": {
          "bdata": "LIsVwA==",
          "dtype": "f4"
         },
         "z": {
          "bdata": "JD8vQQ==",
          "dtype": "f4"
         }
        },
        {
         "customdata": [
          [
           "H021-K9SLGN-T1-Q1",
           "LIPO"
          ],
          [
           "H021-4V4XLY-T1-Q1",
           "LIPO"
          ],
          [
           "H021-M2BK2Y-M2-Q1",
           "LIPO"
          ]
         ],
         "hovertemplate": "Sample name: %{customdata[0]}<br>code_oncotree: %{customdata[1]}<extra></extra>",
         "legendgroup": "LIPO",
         "marker": {
          "color": "#FECB52",
          "opacity": 0.7,
          "symbol": "circle"
         },
         "mode": "markers",
         "name": "LIPO",
         "scene": "scene",
         "showlegend": true,
         "type": "scatter3d",
         "x": {
          "bdata": "pZYjQVb8HkGyjiBB",
          "dtype": "f4"
         },
         "y": {
          "bdata": "9eV7P6LZc78jk5q/",
          "dtype": "f4"
         },
         "z": {
          "bdata": "qp8WQRLYG0EX/g5B",
          "dtype": "f4"
         }
        },
        {
         "customdata": [
          [
           "H021-G1AK84-T2-E1",
           "LM"
          ],
          [
           "H021-SERSP4-M1-Q1",
           "LM"
          ]
         ],
         "hovertemplate": "Sample name: %{customdata[0]}<br>code_oncotree: %{customdata[1]}<extra></extra>",
         "legendgroup": "LM",
         "marker": {
          "color": "#636efa",
          "opacity": 0.7,
          "symbol": "circle"
         },
         "mode": "markers",
         "name": "LM",
         "scene": "scene",
         "showlegend": true,
         "type": "scatter3d",
         "x": {
          "bdata": "yIAbQVGcIEE=",
          "dtype": "f4"
         },
         "y": {
          "bdata": "wNRIv344kL8=",
          "dtype": "f4"
         },
         "z": {
          "bdata": "noEtQSyoI0E=",
          "dtype": "f4"
         }
        },
        {
         "customdata": [
          [
           "H021-60KM-T1",
           "LMS"
          ],
          [
           "H021-9F8Z82-M2",
           "LMS"
          ],
          [
           "H021-EUCUU1-T3",
           "LMS"
          ],
          [
           "H021-J421-T1",
           "LMS"
          ],
          [
           "H021-L47PRH-T1",
           "LMS"
          ],
          [
           "H021-U6JPKP-T1",
           "LMS"
          ],
          [
           "H021-VD9X43-M1",
           "LMS"
          ],
          [
           "H021-VSE5MP-T2",
           "LMS"
          ],
          [
           "H021-FD8YQK-M2",
           "LMS"
          ],
          [
           "H021-RYWQDW-T4",
           "LMS"
          ],
          [
           "H021-P1DAC8-M2",
           "LMS"
          ],
          [
           "H021-2TVADY-M1",
           "LMS"
          ],
          [
           "H021-TP3SA7-T2",
           "LMS"
          ],
          [
           "H021-3FZJBT-M1-E2",
           "LMS"
          ],
          [
           "H021-FKET3M-M1-E2",
           "LMS"
          ],
          [
           "H021-5HBQ4N-M2-E2",
           "LMS"
          ],
          [
           "H021-Z24MLZ-M2",
           "LMS"
          ],
          [
           "H021-2RH2K9-T1",
           "LMS"
          ],
          [
           "H021-DXJNNJ-M1-E1",
           "LMS"
          ],
          [
           "H021-DXJNNJ-M2-E1",
           "LMS"
          ],
          [
           "H021-MP1TNY-M2",
           "LMS"
          ],
          [
           "H021-7B4P26-M4-E1",
           "LMS"
          ],
          [
           "H021-V46GT6-M1-E1",
           "LMS"
          ],
          [
           "H021-ZFKUFD-M4-E1",
           "LMS"
          ],
          [
           "H021-CL2W8H-M1-E1",
           "LMS"
          ],
          [
           "I036-018-0T1-P1",
           "LMS"
          ],
          [
           "H021-UEH1HB-M8-E1",
           "LMS"
          ],
          [
           "H021-TLCRQX-T1",
           "LMS"
          ],
          [
           "H021-EWRPWA-U3-Q1",
           "LMS"
          ],
          [
           "H021-DMVRFB-M1-Q1",
           "LMS"
          ],
          [
           "H021-7HBSFK-M1-Q1",
           "LMS"
          ],
          [
           "H021-SUWWWZ-M1-Q1",
           "LMS"
          ],
          [
           "H021-8RDP1B-T1-Q1",
           "LMS"
          ],
          [
           "H021-8LS3XY-M1-Q1",
           "LMS"
          ],
          [
           "H021-2C4N95-M4-Q1",
           "LMS"
          ],
          [
           "H021-7G1DR8-M1-Q1",
           "LMS"
          ],
          [
           "H021-9V19Y4-M1-Q1",
           "LMS"
          ],
          [
           "H021-4SM457-T1-Q1",
           "LMS"
          ],
          [
           "H021-VG824X-M2-Q1",
           "LMS"
          ],
          [
           "H021-EXW7DV-M2",
           "LMS"
          ],
          [
           "H021-HFDWTJ-T1-Q1",
           "LMS"
          ],
          [
           "H021-LAE8AJ-M2-Q1",
           "LMS"
          ],
          [
           "H021-2TMXRD-M1-Q1",
           "LMS"
          ],
          [
           "H021-XQF6X4-M1-Q1",
           "LMS"
          ],
          [
           "H021-L85AJB-M6-Q1",
           "LMS"
          ],
          [
           "H021-22JTPS-M2-Q1",
           "LMS"
          ],
          [
           "H021-HDPJV4-M2-Q1",
           "LMS"
          ],
          [
           "H021-FPSFZU-M1-Q1",
           "LMS"
          ],
          [
           "H021-D1HYBA-M1-Q1",
           "LMS"
          ],
          [
           "H021-K3L9X8-M1-Q1",
           "LMS"
          ],
          [
           "H021-T8TZDQ-M1-Q1",
           "LMS"
          ],
          [
           "H021-67S8MY-T1-Q1",
           "LMS"
          ],
          [
           "H021-1CEBJN-M1-Q1",
           "LMS"
          ],
          [
           "H021-DZLVQQ-T2-Q2",
           "LMS"
          ],
          [
           "H021-W43PCV-T3-Q1",
           "LMS"
          ],
          [
           "H021-2RUDFH-M2-Q1",
           "LMS"
          ],
          [
           "H021-47SSXZ-T1-Q1",
           "LMS"
          ],
          [
           "H021-YVV1AM-M2-Q1",
           "LMS"
          ],
          [
           "H021-8MZ7W9L-M2-Q1",
           "LMS"
          ],
          [
           "H021-L6CXBDF-M1-Q1",
           "LMS"
          ],
          [
           "H021-6YTA91T-M1-Q1",
           "LMS"
          ],
          [
           "H021-T2TUSXH-T1-Q1",
           "LMS"
          ],
          [
           "H021-UGK7SR1-M1-Q1",
           "LMS"
          ]
         ],
         "hovertemplate": "Sample name: %{customdata[0]}<br>code_oncotree: %{customdata[1]}<extra></extra>",
         "legendgroup": "LMS",
         "marker": {
          "color": "#EF553B",
          "opacity": 0.7,
          "symbol": "circle"
         },
         "mode": "markers",
         "name": "LMS",
         "scene": "scene",
         "showlegend": true,
         "type": "scatter3d",
         "x": {
          "bdata": "LZYCQTQP+EBWDfxABjj5QHbZ+UATFQFBWyAGQTJhBUGLewVBhmsEQVN4BEHmqAhB7x0BQWgbD0FDrgxBn3QFQYBgC0GQ1whBwNkgQaxeEEHl/QlBCccEQYpOFEH60CFBxb8oQSPJ+EC1JgFBbfb/QCi4IkFwvARBIAz7QJwtKkHVvAZBuYoVQeyWJkHEQgpBHd4aQVk7EUFtGglBzpAkQVZED0HqgPtA6+T7QCIiIUFv0PpAe6gGQSCl+UBhMvlAMLEEQUstAEE9+hhBbav4QLibIkH7ugJB+LAVQQqiIEHEtyNBG9khQaDF+EC/MfJAmuIDQePAF0EiEx1B",
          "dtype": "f4"
         },
         "y": {
          "bdata": "ms1tvj0C1r19po8+fbaUPvZxsD55Js49WRiov55tn79wcYY/awSEP+M/WT/IngM/Gd2iPqzqHj/uSSo/1y6Iv3X/7r8MTyQ+S+XUv25+R8BKIb0/8G4OwFShfr/XnfK+giTEv39v2T7t/lk+4saOPsqXT74Fotm/fxLLPpXo3b/S3T3AlNqavnaGx74KLqW/n9VevhyYQL8J7lvAcZj8v9xQsL6ec9Y+2mu7PokJBL9q1fI+pbSkvxB0A76krMA+wPsYPgcmlT4xWUu/RpnhPpR327/Lgfq/IzXJvqUwFsCt71m/Oa7/v4W3zT5lmBe/M/CKv9sO5b8ODAC/",
          "dtype": "f4"
         },
         "z": {
          "bdata": "9qAjQVMxIUGPQiJBbH0gQRXwIUFvrhZBXLUVQVJnFUEJiRRB3FgUQbYfFUFyohFB46wpQa4YB0GysAdBv8gJQW09I0FRQBFBtPgtQccDL0Fh2CJBXAs1QaUeBkH2eApBPfoiQYi7FUH42RJBGp0TQYh1HkGJyC9BPRQVQfw6KUGUAjBB8vkrQWwkDkG4KRtBm6MRQW3pKkFSSSNBHA0hQY/pI0ElNBZB35oVQfWSF0HHeBVBTC4sQVWRH0FzyhpBKtYgQdNnFEFI6ipByR4XQdrSMEHEnCpBw/crQWbyGUF0RRRBjpkPQeGmF0FLXCFBbZcrQa1lE0EmXyxB",
          "dtype": "f4"
         }
        },
        {
         "customdata": [
          [
           "H021-NLVPFP-M2-Q1",
           "LNET"
          ]
         ],
         "hovertemplate": "Sample name: %{customdata[0]}<br>code_oncotree: %{customdata[1]}<extra></extra>",
         "legendgroup": "LNET",
         "marker": {
          "color": "#00cc96",
          "opacity": 0.7,
          "symbol": "circle"
         },
         "mode": "markers",
         "name": "LNET",
         "scene": "scene",
         "showlegend": true,
         "type": "scatter3d",
         "x": {
          "bdata": "PC4cQQ==",
          "dtype": "f4"
         },
         "y": {
          "bdata": "h1srwA==",
          "dtype": "f4"
         },
         "z": {
          "bdata": "dlIqQQ==",
          "dtype": "f4"
         }
        },
        {
         "customdata": [
          [
           "H021-51B2T8-M2",
           "LUACC"
          ],
          [
           "H021-YFVHVB-U1-Q1",
           "LUACC"
          ]
         ],
         "hovertemplate": "Sample name: %{customdata[0]}<br>code_oncotree: %{customdata[1]}<extra></extra>",
         "legendgroup": "LUACC",
         "marker": {
          "color": "#ab63fa",
          "opacity": 0.7,
          "symbol": "circle"
         },
         "mode": "markers",
         "name": "LUACC",
         "scene": "scene",
         "showlegend": true,
         "type": "scatter3d",
         "x": {
          "bdata": "hsgNQXg6LkE=",
          "dtype": "f4"
         },
         "y": {
          "bdata": "jI4qwJav/78=",
          "dtype": "f4"
         },
         "z": {
          "bdata": "d0EdQUfpHUE=",
          "dtype": "f4"
         }
        },
        {
         "customdata": [
          [
           "H021-VJJ1UX-T1",
           "LUAD"
          ],
          [
           "H021-P1UTPG-M4-Q1",
           "LUAD"
          ]
         ],
         "hovertemplate": "Sample name: %{customdata[0]}<br>code_oncotree: %{customdata[1]}<extra></extra>",
         "legendgroup": "LUAD",
         "marker": {
          "color": "#FFA15A",
          "opacity": 0.7,
          "symbol": "circle"
         },
         "mode": "markers",
         "name": "LUAD",
         "scene": "scene",
         "showlegend": true,
         "type": "scatter3d",
         "x": {
          "bdata": "yLgLQcaG/kA=",
          "dtype": "f4"
         },
         "y": {
          "bdata": "giMLwEY7MMA=",
          "dtype": "f4"
         },
         "z": {
          "bdata": "JIMXQVqoL0E=",
          "dtype": "f4"
         }
        },
        {
         "customdata": [
          [
           "H021-1LXQMD-M2-Q1",
           "LUAS"
          ]
         ],
         "hovertemplate": "Sample name: %{customdata[0]}<br>code_oncotree: %{customdata[1]}<extra></extra>",
         "legendgroup": "LUAS",
         "marker": {
          "color": "#19d3f3",
          "opacity": 0.7,
          "symbol": "circle"
         },
         "mode": "markers",
         "name": "LUAS",
         "scene": "scene",
         "showlegend": true,
         "type": "scatter3d",
         "x": {
          "bdata": "e9oZQQ==",
          "dtype": "f4"
         },
         "y": {
          "bdata": "Up6Evw==",
          "dtype": "f4"
         },
         "z": {
          "bdata": "nyQeQQ==",
          "dtype": "f4"
         }
        },
        {
         "customdata": [
          [
           "H021-J4RQGV-M1",
           "LUCA"
          ],
          [
           "H021-BG2P4P-M3-Q1",
           "LUCA"
          ],
          [
           "H021-C4RPTK-M1-Q1",
           "LUCA"
          ],
          [
           "H021-DMENTM8-M1-Q1-R2",
           "LUCA"
          ]
         ],
         "hovertemplate": "Sample name: %{customdata[0]}<br>code_oncotree: %{customdata[1]}<extra></extra>",
         "legendgroup": "LUCA",
         "marker": {
          "color": "#FF6692",
          "opacity": 0.7,
          "symbol": "circle"
         },
         "mode": "markers",
         "name": "LUCA",
         "scene": "scene",
         "showlegend": true,
         "type": "scatter3d",
         "x": {
          "bdata": "I7sKQdaRFEFqTSFByqAUQQ==",
          "dtype": "f4"
         },
         "y": {
          "bdata": "hGzzv5neAMCS4SvAgobXvw==",
          "dtype": "f4"
         },
         "z": {
          "bdata": "SfoYQdxoOEE2OBNBeJgTQQ==",
          "dtype": "f4"
         }
        },
        {
         "customdata": [
          [
           "H021-BPS42D-T3-Q1",
           "LUNE"
          ],
          [
           "H021-BPS42D-T2-Q1",
           "LUNE"
          ],
          [
           "H021-YBKLGT-M1-Q1",
           "LUNE"
          ],
          [
           "H021-SKW6N9-M2-Q1",
           "LUNE"
          ],
          [
           "H021-BZKXV4-M1-Q1",
           "LUNE"
          ],
          [
           "H021-BZKXV4-M2-Q1",
           "LUNE"
          ],
          [
           "H021-EVR4X7-M2-Q1",
           "LUNE"
          ]
         ],
         "hovertemplate": "Sample name: %{customdata[0]}<br>code_oncotree: %{customdata[1]}<extra></extra>",
         "legendgroup": "LUNE",
         "marker": {
          "color": "#B6E880",
          "opacity": 0.7,
          "symbol": "circle"
         },
         "mode": "markers",
         "name": "LUNE",
         "scene": "scene",
         "showlegend": true,
         "type": "scatter3d",
         "x": {
          "bdata": "nv8UQRkGBkGAxh9BRU4hQTJrFEEMbhJBb3QaQQ==",
          "dtype": "f4"
         },
         "y": {
          "bdata": "hUG8v8cZrL8uHzjAmeAkwCIw2L9oaeO/g3ACwA==",
          "dtype": "f4"
         },
         "z": {
          "bdata": "c98YQQBKL0G2iylBl2AoQWSdL0HxZC9BxNovQQ==",
          "dtype": "f4"
         }
        },
        {
         "customdata": [
          [
           "H021-MVGHWG-M6-Q1",
           "LUSC"
          ]
         ],
         "hovertemplate": "Sample name: %{customdata[0]}<br>code_oncotree: %{customdata[1]}<extra></extra>",
         "legendgroup": "LUSC",
         "marker": {
          "color": "#FF97FF",
          "opacity": 0.7,
          "symbol": "circle"
         },
         "mode": "markers",
         "name": "LUSC",
         "scene": "scene",
         "showlegend": true,
         "type": "scatter3d",
         "x": {
          "bdata": "xbEJQQ==",
          "dtype": "f4"
         },
         "y": {
          "bdata": "E5U+vw==",
          "dtype": "f4"
         },
         "z": {
          "bdata": "1oAWQQ==",
          "dtype": "f4"
         }
        },
        {
         "customdata": [
          [
           "H021-YBJP2NN-M1-Q1",
           "LXSC"
          ]
         ],
         "hovertemplate": "Sample name: %{customdata[0]}<br>code_oncotree: %{customdata[1]}<extra></extra>",
         "legendgroup": "LXSC",
         "marker": {
          "color": "#FECB52",
          "opacity": 0.7,
          "symbol": "circle"
         },
         "mode": "markers",
         "name": "LXSC",
         "scene": "scene",
         "showlegend": true,
         "type": "scatter3d",
         "x": {
          "bdata": "SuEFQQ==",
          "dtype": "f4"
         },
         "y": {
          "bdata": "8AiAwA==",
          "dtype": "f4"
         },
         "z": {
          "bdata": "LvwpQQ==",
          "dtype": "f4"
         }
        },
        {
         "customdata": [
          [
           "H021-XWSK4J-M1-Q1",
           "MAAP"
          ]
         ],
         "hovertemplate": "Sample name: %{customdata[0]}<br>code_oncotree: %{customdata[1]}<extra></extra>",
         "legendgroup": "MAAP",
         "marker": {
          "color": "#636efa",
          "opacity": 0.7,
          "symbol": "circle"
         },
         "mode": "markers",
         "name": "MAAP",
         "scene": "scene",
         "showlegend": true,
         "type": "scatter3d",
         "x": {
          "bdata": "uF4RQQ==",
          "dtype": "f4"
         },
         "y": {
          "bdata": "eu54wA==",
          "dtype": "f4"
         },
         "z": {
          "bdata": "lL0fQQ==",
          "dtype": "f4"
         }
        },
        {
         "customdata": [
          [
           "H021-GSHN75-M2-Q1",
           "MBLNOS"
          ]
         ],
         "hovertemplate": "Sample name: %{customdata[0]}<br>code_oncotree: %{customdata[1]}<extra></extra>",
         "legendgroup": "MBLNOS",
         "marker": {
          "color": "#EF553B",
          "opacity": 0.7,
          "symbol": "circle"
         },
         "mode": "markers",
         "name": "MBLNOS",
         "scene": "scene",
         "showlegend": true,
         "type": "scatter3d",
         "x": {
          "bdata": "xH8aQQ==",
          "dtype": "f4"
         },
         "y": {
          "bdata": "ircZvw==",
          "dtype": "f4"
         },
         "z": {
          "bdata": "yzsaQQ==",
          "dtype": "f4"
         }
        },
        {
         "customdata": [
          [
           "H021-771M6X-M1-Q1",
           "MCS"
          ],
          [
           "H021-WYJZNBF-T1-Q1",
           "MCS"
          ]
         ],
         "hovertemplate": "Sample name: %{customdata[0]}<br>code_oncotree: %{customdata[1]}<extra></extra>",
         "legendgroup": "MCS",
         "marker": {
          "color": "#00cc96",
          "opacity": 0.7,
          "symbol": "circle"
         },
         "mode": "markers",
         "name": "MCS",
         "scene": "scene",
         "showlegend": true,
         "type": "scatter3d",
         "x": {
          "bdata": "IxkdQWZlEEE=",
          "dtype": "f4"
         },
         "y": {
          "bdata": "2WKUPtTmc78=",
          "dtype": "f4"
         },
         "z": {
          "bdata": "EjAeQXi+LUE=",
          "dtype": "f4"
         }
        },
        {
         "customdata": [
          [
           "H021-BG5MDH-M1-Q1",
           "MEL"
          ],
          [
           "H021-VGKWSY-M1-Q1",
           "MEL"
          ],
          [
           "H021-GGA4MH-M1-Q1",
           "MEL"
          ],
          [
           "H021-K7S2TE-M6-Q1",
           "MEL"
          ],
          [
           "H021-K7S2TE-M5-Q1",
           "MEL"
          ],
          [
           "H021-3FTKAW-T1-Q1",
           "MEL"
          ],
          [
           "H021-S53T4J-M1-Q1",
           "MEL"
          ],
          [
           "H021-SE7VGG-M1-Q1",
           "MEL"
          ],
          [
           "H021-DUNQJ4-T1-Q1",
           "MEL"
          ],
          [
           "H021-N9LUJG-M2-Q1",
           "MEL"
          ],
          [
           "H021-JBKVPE-M1-Q1",
           "MEL"
          ],
          [
           "H021-8KZUNK-M1-Q1",
           "MEL"
          ],
          [
           "H021-JXPXG1-T1-Q1",
           "MEL"
          ],
          [
           "H021-PMCF88-M1-Q1",
           "MEL"
          ],
          [
           "H021-F13PDS-M1-Q1",
           "MEL"
          ],
          [
           "H021-JBKVPE-M3-Q1",
           "MEL"
          ],
          [
           "H021-D56H4HZ-M1-Q1",
           "MEL"
          ],
          [
           "H021-NCZY1GC-M1-Q1",
           "MEL"
          ],
          [
           "H021-TJXM166-M1-Q1",
           "MEL"
          ],
          [
           "H021-7CYQUK9-M1-Q1",
           "MEL"
          ],
          [
           "H021-BLKEG2S-M1-Q1",
           "MEL"
          ]
         ],
         "hovertemplate": "Sample name: %{customdata[0]}<br>code_oncotree: %{customdata[1]}<extra></extra>",
         "legendgroup": "MEL",
         "marker": {
          "color": "#ab63fa",
          "opacity": 0.7,
          "symbol": "circle"
         },
         "mode": "markers",
         "name": "MEL",
         "scene": "scene",
         "showlegend": true,
         "type": "scatter3d",
         "x": {
          "bdata": "Ax8hQfN0EkEtswpBFCcaQUFQF0FAjA9BMxMaQTllG0Hq/RZBUVcTQVOqHkGO0y1BiaDqQDqhBUHBBBhB6OUgQbgRHkFvi/RAYcwSQQ5rAkEBVwxB",
          "dtype": "f4"
         },
         "y": {
          "bdata": "QwErvzmANz8CLj3ApOkGvkrZez7yJDY/SLAEv20kXb5/7hnAD8I0wPK7c78WDwDA5eCgvwrRrr/1rGbAFtb5vzWL1r6h7v2/ObqivzJpmL+GkYu/",
          "dtype": "f4"
         },
         "z": {
          "bdata": "Rhg5QRZ2JUG1vhhBSDgoQRCsF0HtXhlBX8slQbttFUFgTi9Bs+onQXkANkEbqB5BBXQfQW0SIkHCOy1BBopJQbDvOkHmrhRBYk8FQZupKEFfEzNB",
          "dtype": "f4"
         }
        },
        {
         "customdata": [
          [
           "H021-ENQC15-T1",
           "MFS"
          ],
          [
           "H021-ENQC15-T3",
           "MFS"
          ],
          [
           "H021-A7DYMS-U1",
           "MFS"
          ],
          [
           "H021-HSPL2T-M3-Q1",
           "MFS"
          ],
          [
           "H021-REMYWJ-T1-Q1",
           "MFS"
          ],
          [
           "H021-5VAWTY-M1-Q1",
           "MFS"
          ]
         ],
         "hovertemplate": "Sample name: %{customdata[0]}<br>code_oncotree: %{customdata[1]}<extra></extra>",
         "legendgroup": "MFS",
         "marker": {
          "color": "#FFA15A",
          "opacity": 0.7,
          "symbol": "circle"
         },
         "mode": "markers",
         "name": "MFS",
         "scene": "scene",
         "showlegend": true,
         "type": "scatter3d",
         "x": {
          "bdata": "S+0HQUsUCEGldxVBwfkIQdavJkHOkyFB",
          "dtype": "f4"
         },
         "y": {
          "bdata": "/CyMP3S3ij+f9L++8+ZdPpahur4FUPe/",
          "dtype": "f4"
         },
         "z": {
          "bdata": "Q98yQdroMkH0xC1BpgAiQQooMkFtqUlB",
          "dtype": "f4"
         }
        },
        {
         "customdata": [
          [
           "H021-UCNCE2-M5-Q1",
           "MGCT"
          ]
         ],
         "hovertemplate": "Sample name: %{customdata[0]}<br>code_oncotree: %{customdata[1]}<extra></extra>",
         "legendgroup": "MGCT",
         "marker": {
          "color": "#19d3f3",
          "opacity": 0.7,
          "symbol": "circle"
         },
         "mode": "markers",
         "name": "MGCT",
         "scene": "scene",
         "showlegend": true,
         "type": "scatter3d",
         "x": {
          "bdata": "ipcLQQ==",
          "dtype": "f4"
         },
         "y": {
          "bdata": "pfmwvw==",
          "dtype": "f4"
         },
         "z": {
          "bdata": "rfoTQQ==",
          "dtype": "f4"
         }
        },
        {
         "customdata": [
          [
           "H0067496-T1",
           "MN1::PATZ1 "
          ],
          [
           "H0067496-T1-R2",
           "MN1::PATZ1 "
          ]
         ],
         "hovertemplate": "Sample name: %{customdata[0]}<br>code_oncotree: %{customdata[1]}<extra></extra>",
         "legendgroup": "MN1::PATZ1 ",
         "marker": {
          "color": "#FF6692",
          "opacity": 0.7,
          "symbol": "circle"
         },
         "mode": "markers",
         "name": "MN1::PATZ1 ",
         "scene": "scene",
         "showlegend": true,
         "type": "scatter3d",
         "x": {
          "bdata": "peUTQa9IFEE=",
          "dtype": "f4"
         },
         "y": {
          "bdata": "k1OvPxwauj8=",
          "dtype": "f4"
         },
         "z": {
          "bdata": "cwAVQWFnFkE=",
          "dtype": "f4"
         }
        },
        {
         "customdata": [
          [
           "H021-GCYHRH-T1-Q1",
           "MNG"
          ],
          [
           "H021-N75UNZ-T2-Q1",
           "MNG"
          ]
         ],
         "hovertemplate": "Sample name: %{customdata[0]}<br>code_oncotree: %{customdata[1]}<extra></extra>",
         "legendgroup": "MNG",
         "marker": {
          "color": "#B6E880",
          "opacity": 0.7,
          "symbol": "circle"
         },
         "mode": "markers",
         "name": "MNG",
         "scene": "scene",
         "showlegend": true,
         "type": "scatter3d",
         "x": {
          "bdata": "x8wTQQUAC0E=",
          "dtype": "f4"
         },
         "y": {
          "bdata": "xH3Pv6IkIsA=",
          "dtype": "f4"
         },
         "z": {
          "bdata": "Q6cqQWSANEE=",
          "dtype": "f4"
         }
        },
        {
         "customdata": [
          [
           "H021-VGVHN6-T3",
           "MPNST"
          ],
          [
           "H021-WJQEW5-T1",
           "MPNST"
          ],
          [
           "I012-003-1T1-P1",
           "MPNST"
          ],
          [
           "I007-126-1T1-P1",
           "MPNST"
          ],
          [
           "I002-019-1T1-P1",
           "MPNST"
          ],
          [
           "I049-022-XT1-P1",
           "MPNST"
          ],
          [
           "H021-VDA4RJ-M1",
           "MPNST"
          ],
          [
           "H021-93RXHR-T1-Q1",
           "MPNST"
          ],
          [
           "H021-93RXHR-T2-Q1",
           "MPNST"
          ],
          [
           "H021-8DSJKN-T1-Q1",
           "MPNST"
          ],
          [
           "H021-JDDYR6-T1-Q1",
           "MPNST"
          ],
          [
           "H021-3ZPN6C-M1-Q1",
           "MPNST"
          ],
          [
           "H021-QSF764-T1-Q1",
           "MPNST"
          ],
          [
           "H021-HG4SF7-M1-Q1",
           "MPNST"
          ],
          [
           "H021-CQK51F-M1-Q1",
           "MPNST"
          ],
          [
           "H021-FJW4LA-M1-Q1",
           "MPNST"
          ],
          [
           "H021-HGG6RY-M1-Q1",
           "MPNST"
          ]
         ],
         "hovertemplate": "Sample name: %{customdata[0]}<br>code_oncotree: %{customdata[1]}<extra></extra>",
         "legendgroup": "MPNST",
         "marker": {
          "color": "#FF97FF",
          "opacity": 0.7,
          "symbol": "circle"
         },
         "mode": "markers",
         "name": "MPNST",
         "scene": "scene",
         "showlegend": true,
         "type": "scatter3d",
         "x": {
          "bdata": "KB0OQf77AUHyGStBYdchQQGjI0EHwyBBf6ADQTlRLUHM2hhBlUQTQfShBUGoXvpAb8oWQaSv/EC8MhBBHYsLQbJQDEE=",
          "dtype": "f4"
         },
         "y": {
          "bdata": "ngz+PF25Nr+0Kxw/JRUZP5Z5pT8EbMo+gjdpv1h9Db7nqWu/UL8+P5HAB8DW7Ju/rB28PlG8Ob5XzAs99R0Uv7KtbL8=",
          "dtype": "f4"
         },
         "z": {
          "bdata": "jMAyQeuaMkEwpBFBg1YNQQM6A0HuiQtBw44MQYk3G0FYVy5BYToXQT23NEFfPDJBSEMWQXz3H0HGFyZBpVAgQW9+JUE=",
          "dtype": "f4"
         }
        },
        {
         "customdata": [
          [
           "H021-ZV4BPP-M1-Q1",
           "MPT"
          ]
         ],
         "hovertemplate": "Sample name: %{customdata[0]}<br>code_oncotree: %{customdata[1]}<extra></extra>",
         "legendgroup": "MPT",
         "marker": {
          "color": "#FECB52",
          "opacity": 0.7,
          "symbol": "circle"
         },
         "mode": "markers",
         "name": "MPT",
         "scene": "scene",
         "showlegend": true,
         "type": "scatter3d",
         "x": {
          "bdata": "/QEOQQ==",
          "dtype": "f4"
         },
         "y": {
          "bdata": "q95Evw==",
          "dtype": "f4"
         },
         "z": {
          "bdata": "tLEtQQ==",
          "dtype": "f4"
         }
        },
        {
         "customdata": [
          [
           "H021-TCPMY4-T4",
           "MRLS"
          ],
          [
           "H021-TCPMY4-T5",
           "MRLS"
          ],
          [
           "H021-M3FT7P-T1",
           "MRLS"
          ],
          [
           "H021-LHLAAT-M1",
           "MRLS"
          ],
          [
           "H021-53AP9F-M2",
           "MRLS"
          ],
          [
           "H021-FZS8RV-T1-Q1",
           "MRLS"
          ],
          [
           "H021-U3NFTQ-T1-Q1",
           "MRLS"
          ],
          [
           "H021-RNXJN3-T1-Q1",
           "MRLS"
          ],
          [
           "H021-U3NFTQ-M2-Q1",
           "MRLS"
          ],
          [
           "H021-W32KKN-T4-Q1",
           "MRLS"
          ],
          [
           "H021-MUKPC8-M1-Q1",
           "MRLS"
          ],
          [
           "H021-KM3QBW-T3-Q1",
           "MRLS"
          ],
          [
           "H021-5F7F7Q-T3-Q1",
           "MRLS"
          ],
          [
           "H021-8FG2T6-T1-Q1",
           "MRLS"
          ],
          [
           "H021-FGV5Y9-T1-Q1",
           "MRLS"
          ],
          [
           "H021-HX3DAY-T1-Q1",
           "MRLS"
          ],
          [
           "H021-U3NFTQ-T2-Q1",
           "MRLS"
          ],
          [
           "H021-HJ31TY-T1-Q1",
           "MRLS"
          ],
          [
           "H021-W32KKN-T3-Q1",
           "MRLS"
          ],
          [
           "H021-8579CD-M2-Q1",
           "MRLS"
          ],
          [
           "H021-5F7F7Q-T4-Q1",
           "MRLS"
          ],
          [
           "H021-HX3DAY-T6-Q1",
           "MRLS"
          ],
          [
           "H021-BTYDJX-M3-Q1",
           "MRLS"
          ],
          [
           "H021-NSABSY-M4-Q1",
           "MRLS"
          ],
          [
           "H021-U3WTZ3-M1-Q1",
           "MRLS"
          ],
          [
           "H021-HJ31TY-T5-Q1",
           "MRLS"
          ],
          [
           "H021-M3P13S-U1-Q1",
           "MRLS"
          ],
          [
           "H021-GGXAWN6-T2-Q1",
           "MRLS"
          ],
          [
           "H021-2ZCU8XU-M1-Q1",
           "MRLS"
          ],
          [
           "H021-FZS8RV-T4-Q1",
           "MRLS"
          ],
          [
           "H021-U72ATSC-T2-Q1",
           "MRLS"
          ],
          [
           "H021-U72ATSC-T2-Q1-R2",
           "MRLS"
          ],
          [
           "H021-5K3JA81-M2-Q1",
           "MRLS"
          ],
          [
           "H021-JEW97MA-M1-Q1",
           "MRLS"
          ],
          [
           "H021-W8216PB-M2-Q1",
           "MRLS"
          ],
          [
           "H021-HDK1RD-M8-Q1",
           "MRLS"
          ],
          [
           "H021-HDK1RD-M8-E2",
           "MRLS"
          ]
         ],
         "hovertemplate": "Sample name: %{customdata[0]}<br>code_oncotree: %{customdata[1]}<extra></extra>",
         "legendgroup": "MRLS",
         "marker": {
          "color": "#636efa",
          "opacity": 0.7,
          "symbol": "circle"
         },
         "mode": "markers",
         "name": "MRLS",
         "scene": "scene",
         "showlegend": true,
         "type": "scatter3d",
         "x": {
          "bdata": "iJgOQf25B0FflSZBgJQWQQiPDkH/mw9BydIGQYvEBkEtHyBBz6khQblpIkFQwihBM3oqQQMDGUFIKhxBza8aQdlYHEHLUyRBtY3/QHA4JkGW6ilBzkEhQVKLC0FNayhBMI0IQfPULEHz8CBB6fYMQbfwB0HVnQdBNhgeQX8DB0EJ+wRBiYkWQUFNEkHRWB9B0g4gQQ==",
          "dtype": "f4"
         },
         "y": {
          "bdata": "o6kSP0w3iz9Omj6/pcBgvTzPFL9b/Cm/fJBsv4Pzbb8/CgfAHwD7v0XE9b4ZQRS/ecaMv3s13b8+pVm/KX5Qv1LkN7+sl/O/vi7cv1of+r9vipG/7kvMvyv9LL9dAo2/r5KIv0XSRb8a1iK/lGdZvx4DmL/QSJa/ltqZv0GDmb6BbfG/OXmpv7t1d7/5pa+8Q9NzPg==",
          "dtype": "f4"
         },
         "z": {
          "bdata": "3X0tQZAaM0HWbjRBDvcoQZKyIUH+gxZBOtw2QaAxNkFlbQhBCCUxQQSwDUFW1ShBLaUkQewfL0G2KB9BZuEfQRLhJkEWOQZBZUkpQZP6DEEFxiRB3JAtQU5qIUEi/SBBTlU3QeiGHkE84h5BB7EjQRQpNkH9mCpBCkQsQYToMUGfoSBBniAgQXOYMUFk4ipBCiUsQQ==",
          "dtype": "f4"
         }
        },
        {
         "customdata": [
          [
           "H021-HC9ZD6-U1-E2",
           "MYCHS"
          ],
          [
           "H021-VEPZ3V-M1",
           "MYCHS"
          ],
          [
           "H021-K756JR-M1-Q1",
           "MYCHS"
          ],
          [
           "H021-BXZS35-M1-Q2",
           "MYCHS"
          ],
          [
           "H021-9QVK3SZ-T4-Q1",
           "MYCHS"
          ]
         ],
         "hovertemplate": "Sample name: %{customdata[0]}<br>code_oncotree: %{customdata[1]}<extra></extra>",
         "legendgroup": "MYCHS",
         "marker": {
          "color": "#EF553B",
          "opacity": 0.7,
          "symbol": "circle"
         },
         "mode": "markers",
         "name": "MYCHS",
         "scene": "scene",
         "showlegend": true,
         "type": "scatter3d",
         "x": {
          "bdata": "QnwNQRBNB0GOUQNB5GUhQYeVD0E=",
          "dtype": "f4"
         },
         "y": {
          "bdata": "KREpP+vRP78WC7++qC7bvyxBd78=",
          "dtype": "f4"
         },
         "z": {
          "bdata": "HKIHQSSnEEGOlylBmtYtQcP3JEE=",
          "dtype": "f4"
         }
        },
        {
         "customdata": [
          [
           "H021-KMYMSJ-M1-Q1",
           "MYEC"
          ],
          [
           "H021-G6ZY19-T1-Q1",
           "MYEC"
          ],
          [
           "H021-DBASRR-T1-Q1",
           "MYEC"
          ],
          [
           "H021-TJJY44-M1-Q1",
           "MYEC"
          ]
         ],
         "hovertemplate": "Sample name: %{customdata[0]}<br>code_oncotree: %{customdata[1]}<extra></extra>",
         "legendgroup": "MYEC",
         "marker": {
          "color": "#00cc96",
          "opacity": 0.7,
          "symbol": "circle"
         },
         "mode": "markers",
         "name": "MYEC",
         "scene": "scene",
         "showlegend": true,
         "type": "scatter3d",
         "x": {
          "bdata": "LfwFQXrSGEEJzwVBuFQLQQ==",
          "dtype": "f4"
         },
         "y": {
          "bdata": "z2gxwNkHkb8Luq+/20pfwA==",
          "dtype": "f4"
         },
         "z": {
          "bdata": "ev4SQbIdH0EJvBBBOQQuQQ==",
          "dtype": "f4"
         }
        },
        {
         "customdata": [
          [
           "H021-FQG62Y-M1-Q1",
           "NBL"
          ]
         ],
         "hovertemplate": "Sample name: %{customdata[0]}<br>code_oncotree: %{customdata[1]}<extra></extra>",
         "legendgroup": "NBL",
         "marker": {
          "color": "#ab63fa",
          "opacity": 0.7,
          "symbol": "circle"
         },
         "mode": "markers",
         "name": "NBL",
         "scene": "scene",
         "showlegend": true,
         "type": "scatter3d",
         "x": {
          "bdata": "6pUYQQ==",
          "dtype": "f4"
         },
         "y": {
          "bdata": "IVcmvw==",
          "dtype": "f4"
         },
         "z": {
          "bdata": "cSkuQQ==",
          "dtype": "f4"
         }
        },
        {
         "customdata": [
          [
           "H021-7WAHQE-M1",
           "NECNOS"
          ],
          [
           "H021-U4KEBY-M4-Q1",
           "NECNOS"
          ],
          [
           "H021-LJ2GQ7-M2-Q1",
           "NECNOS"
          ],
          [
           "H021-VECF27-M1-Q1",
           "NECNOS"
          ],
          [
           "H021-5NJ7AY-M2-Q1",
           "NECNOS"
          ],
          [
           "H021-JRJTPJ-M1-Q1",
           "NECNOS"
          ],
          [
           "H021-FRJRW6H-M1-Q1",
           "NECNOS"
          ]
         ],
         "hovertemplate": "Sample name: %{customdata[0]}<br>code_oncotree: %{customdata[1]}<extra></extra>",
         "legendgroup": "NECNOS",
         "marker": {
          "color": "#FFA15A",
          "opacity": 0.7,
          "symbol": "circle"
         },
         "mode": "markers",
         "name": "NECNOS",
         "scene": "scene",
         "showlegend": true,
         "type": "scatter3d",
         "x": {
          "bdata": "K4MdQa8WE0Hnnh1BXmwAQYhkHUFilSRBiRIYQQ==",
          "dtype": "f4"
         },
         "y": {
          "bdata": "wYs5wM3nasBTOAfA9h8DwNhcK8CFOpS/cLLDvw==",
          "dtype": "f4"
         },
         "z": {
          "bdata": "FHIsQdHAHUFMbi9BZ3oqQaQ3IEHVhS9BTBYlQQ==",
          "dtype": "f4"
         }
        },
        {
         "customdata": [
          [
           "PLAGL-18H01607-T2",
           "NET_PATZ1"
          ],
          [
           "PLAGL-15H01681-T2",
           "NET_PATZ1"
          ]
         ],
         "hovertemplate": "Sample name: %{customdata[0]}<br>code_oncotree: %{customdata[1]}<extra></extra>",
         "legendgroup": "NET_PATZ1",
         "marker": {
          "color": "#19d3f3",
          "opacity": 0.7,
          "symbol": "circle"
         },
         "mode": "markers",
         "name": "NET_PATZ1",
         "scene": "scene",
         "showlegend": true,
         "type": "scatter3d",
         "x": {
          "bdata": "ITwVQfSoQkE=",
          "dtype": "f4"
         },
         "y": {
          "bdata": "KrCsP1dJ4T4=",
          "dtype": "f4"
         },
         "z": {
          "bdata": "itATQVxjyUA=",
          "dtype": "f4"
         }
        },
        {
         "customdata": [
          [
           "H021-M6NE5H-M1-Q1",
           "NETNOS"
          ],
          [
           "H021-MDMK2U-M1-Q1",
           "NETNOS"
          ],
          [
           "H021-EWS4CN-M1-Q1",
           "NETNOS"
          ],
          [
           "H021-4EKUZ1-M1-Q1",
           "NETNOS"
          ]
         ],
         "hovertemplate": "Sample name: %{customdata[0]}<br>code_oncotree: %{customdata[1]}<extra></extra>",
         "legendgroup": "NETNOS",
         "marker": {
          "color": "#FF6692",
          "opacity": 0.7,
          "symbol": "circle"
         },
         "mode": "markers",
         "name": "NETNOS",
         "scene": "scene",
         "showlegend": true,
         "type": "scatter3d",
         "x": {
          "bdata": "UogpQaUBEEEpMBdBpnf5QA==",
          "dtype": "f4"
         },
         "y": {
          "bdata": "1BICwOunIcB1HxzAP7+4vw==",
          "dtype": "f4"
         },
         "z": {
          "bdata": "Lc4sQWnMDEGCYSpBl+ogQQ==",
          "dtype": "f4"
         }
        },
        {
         "customdata": [
          [
           "H021-E4KUFD-T1-Q1",
           "NFIB"
          ],
          [
           "H021-7V5F8B-M1-Q1",
           "NFIB"
          ]
         ],
         "hovertemplate": "Sample name: %{customdata[0]}<br>code_oncotree: %{customdata[1]}<extra></extra>",
         "legendgroup": "NFIB",
         "marker": {
          "color": "#B6E880",
          "opacity": 0.7,
          "symbol": "circle"
         },
         "mode": "markers",
         "name": "NFIB",
         "scene": "scene",
         "showlegend": true,
         "type": "scatter3d",
         "x": {
          "bdata": "d9kUQUmCCUE=",
          "dtype": "f4"
         },
         "y": {
          "bdata": "wKdfwNwr2L8=",
          "dtype": "f4"
         },
         "z": {
          "bdata": "SrIbQVv1OUE=",
          "dtype": "f4"
         }
        },
        {
         "customdata": [
          [
           "H021-5CAU2Y-M1-Q1",
           "NMCHN"
          ]
         ],
         "hovertemplate": "Sample name: %{customdata[0]}<br>code_oncotree: %{customdata[1]}<extra></extra>",
         "legendgroup": "NMCHN",
         "marker": {
          "color": "#FF97FF",
          "opacity": 0.7,
          "symbol": "circle"
         },
         "mode": "markers",
         "name": "NMCHN",
         "scene": "scene",
         "showlegend": true,
         "type": "scatter3d",
         "x": {
          "bdata": "If8KQQ==",
          "dtype": "f4"
         },
         "y": {
          "bdata": "lRRcwA==",
          "dtype": "f4"
         },
         "z": {
          "bdata": "FqwuQQ==",
          "dtype": "f4"
         }
        },
        {
         "customdata": [
          [
           "H021-XGRX3M-M3-Q1",
           "NPC"
          ],
          [
           "H021-TGM1M7-T2-Q1",
           "NPC"
          ],
          [
           "H021-3ST9QG-M2-Q1",
           "NPC"
          ]
         ],
         "hovertemplate": "Sample name: %{customdata[0]}<br>code_oncotree: %{customdata[1]}<extra></extra>",
         "legendgroup": "NPC",
         "marker": {
          "color": "#FECB52",
          "opacity": 0.7,
          "symbol": "circle"
         },
         "mode": "markers",
         "name": "NPC",
         "scene": "scene",
         "showlegend": true,
         "type": "scatter3d",
         "x": {
          "bdata": "NZkfQdHeHkFaMBBB",
          "dtype": "f4"
         },
         "y": {
          "bdata": "xuwkwIvhhb9sefu/",
          "dtype": "f4"
         },
         "z": {
          "bdata": "nE8bQVjpNUF2QTdB",
          "dtype": "f4"
         }
        },
        {
         "customdata": [
          [
           "H021-XHRT2L-M1-E1",
           "NSCLC"
          ],
          [
           "H021-CGHL1A-M1-E1",
           "NSCLC"
          ],
          [
           "H021-QPBHCM-T2",
           "NSCLC"
          ],
          [
           "H021-DBYZ8C-M3-Q1",
           "NSCLC"
          ],
          [
           "H021-5WWWE7-T2-Q1",
           "NSCLC"
          ],
          [
           "H021-YJ3RLD-M2-Q1",
           "NSCLC"
          ],
          [
           "H021-CG1ZYH-M1-Q1",
           "NSCLC"
          ],
          [
           "H021-CG1ZYH-M2-Q1",
           "NSCLC"
          ],
          [
           "H021-3WZZDU-M1-Q1",
           "NSCLC"
          ],
          [
           "H021-S7CH4J-M5-Q1",
           "NSCLC"
          ],
          [
           "H021-6YA6W3H-M1-Q1",
           "NSCLC"
          ]
         ],
         "hovertemplate": "Sample name: %{customdata[0]}<br>code_oncotree: %{customdata[1]}<extra></extra>",
         "legendgroup": "NSCLC",
         "marker": {
          "color": "#636efa",
          "opacity": 0.7,
          "symbol": "circle"
         },
         "mode": "markers",
         "name": "NSCLC",
         "scene": "scene",
         "showlegend": true,
         "type": "scatter3d",
         "x": {
          "bdata": "eKUWQcAYCEElfSFBOTAKQbxTBUHUggpBSRUkQQ9fIEGU4Q1BzBAeQSFnG0E=",
          "dtype": "f4"
         },
         "y": {
          "bdata": "SOAMwMoB5L/sU4u/yzkvwMfgDcDLo2jASt/5v+hd87/0NOK/T6xpwCAU/b8=",
          "dtype": "f4"
         },
         "z": {
          "bdata": "9eMiQQf2GUFxMCZBedYeQRmMNEH2FB1BBx0fQWV7EUFN4zdBIL0cQTzRIUE=",
          "dtype": "f4"
         }
        },
        {
         "customdata": [
          [
           "H021-8JDE58-M2-Q1",
           "NSGCRT"
          ]
         ],
         "hovertemplate": "Sample name: %{customdata[0]}<br>code_oncotree: %{customdata[1]}<extra></extra>",
         "legendgroup": "NSGCRT",
         "marker": {
          "color": "#EF553B",
          "opacity": 0.7,
          "symbol": "circle"
         },
         "mode": "markers",
         "name": "NSGCRT",
         "scene": "scene",
         "showlegend": true,
         "type": "scatter3d",
         "x": {
          "bdata": "SmoeQQ==",
          "dtype": "f4"
         },
         "y": {
          "bdata": "KGVCwA==",
          "dtype": "f4"
         },
         "z": {
          "bdata": "eS8uQQ==",
          "dtype": "f4"
         }
        },
        {
         "customdata": [
          [
           "H021-1GB4TR-M1",
           "NSGCT"
          ],
          [
           "H021-UAGXU2-M1-Q1",
           "NSGCT"
          ],
          [
           "H021-FWBZ2B-T1-Q1",
           "NSGCT"
          ],
          [
           "H021-9MAQ9R-M2-Q1",
           "NSGCT"
          ],
          [
           "H021-6ZLCLY-M1-Q1",
           "NSGCT"
          ],
          [
           "H021-D97Y7X-M1-Q1",
           "NSGCT"
          ],
          [
           "H021-E7B8Q3D-M1-Q1",
           "NSGCT"
          ]
         ],
         "hovertemplate": "Sample name: %{customdata[0]}<br>code_oncotree: %{customdata[1]}<extra></extra>",
         "legendgroup": "NSGCT",
         "marker": {
          "color": "#00cc96",
          "opacity": 0.7,
          "symbol": "circle"
         },
         "mode": "markers",
         "name": "NSGCT",
         "scene": "scene",
         "showlegend": true,
         "type": "scatter3d",
         "x": {
          "bdata": "AJEJQe2kBEFQoQdBlBAMQbERFUGUKAhBJTUHQQ==",
          "dtype": "f4"
         },
         "y": {
          "bdata": "RaDiv3aE+b/p9kzA30AmwDmOUcDtjr6/cxtRwA==",
          "dtype": "f4"
         },
         "z": {
          "bdata": "FJsWQXkHGUF6DRxB9usNQcl6JUGkKzFBXcwrQQ==",
          "dtype": "f4"
         }
        },
        {
         "customdata": [
          [
           "H021-BKDX6Z-M1-Q1",
           "NST"
          ],
          [
           "H021-BKDX6Z-M2-Q1",
           "NST"
          ]
         ],
         "hovertemplate": "Sample name: %{customdata[0]}<br>code_oncotree: %{customdata[1]}<extra></extra>",
         "legendgroup": "NST",
         "marker": {
          "color": "#ab63fa",
          "opacity": 0.7,
          "symbol": "circle"
         },
         "mode": "markers",
         "name": "NST",
         "scene": "scene",
         "showlegend": true,
         "type": "scatter3d",
         "x": {
          "bdata": "QNceQVMHH0E=",
          "dtype": "f4"
         },
         "y": {
          "bdata": "aqDyvnnm9r4=",
          "dtype": "f4"
         },
         "z": {
          "bdata": "c/E7QeERPEE=",
          "dtype": "f4"
         }
        },
        {
         "customdata": [
          [
           "H021-HC6UFK-M4-Q1",
           "NUTCL"
          ],
          [
           "H021-HC6UFK-M1-Q1",
           "NUTCL"
          ]
         ],
         "hovertemplate": "Sample name: %{customdata[0]}<br>code_oncotree: %{customdata[1]}<extra></extra>",
         "legendgroup": "NUTCL",
         "marker": {
          "color": "#FFA15A",
          "opacity": 0.7,
          "symbol": "circle"
         },
         "mode": "markers",
         "name": "NUTCL",
         "scene": "scene",
         "showlegend": true,
         "type": "scatter3d",
         "x": {
          "bdata": "QmYmQTyVJ0E=",
          "dtype": "f4"
         },
         "y": {
          "bdata": "P3KovpnQGr8=",
          "dtype": "f4"
         },
         "z": {
          "bdata": "jqstQXNbK0E=",
          "dtype": "f4"
         }
        },
        {
         "customdata": [
          [
           "H021-CAR71R-T1-Q1",
           "OCSC"
          ],
          [
           "H021-FXWHRF-T1-Q1",
           "OCSC"
          ]
         ],
         "hovertemplate": "Sample name: %{customdata[0]}<br>code_oncotree: %{customdata[1]}<extra></extra>",
         "legendgroup": "OCSC",
         "marker": {
          "color": "#19d3f3",
          "opacity": 0.7,
          "symbol": "circle"
         },
         "mode": "markers",
         "name": "OCSC",
         "scene": "scene",
         "showlegend": true,
         "type": "scatter3d",
         "x": {
          "bdata": "h+QNQQNP60A=",
          "dtype": "f4"
         },
         "y": {
          "bdata": "s7JlwOqY3r8=",
          "dtype": "f4"
         },
         "z": {
          "bdata": "mJkrQdJQEUE=",
          "dtype": "f4"
         }
        },
        {
         "customdata": [
          [
           "H021-JAYS1K-M2-Q1",
           "OGCT"
          ]
         ],
         "hovertemplate": "Sample name: %{customdata[0]}<br>code_oncotree: %{customdata[1]}<extra></extra>",
         "legendgroup": "OGCT",
         "marker": {
          "color": "#FF6692",
          "opacity": 0.7,
          "symbol": "circle"
         },
         "mode": "markers",
         "name": "OGCT",
         "scene": "scene",
         "showlegend": true,
         "type": "scatter3d",
         "x": {
          "bdata": "4HoUQQ==",
          "dtype": "f4"
         },
         "y": {
          "bdata": "QUIBwA==",
          "dtype": "f4"
         },
         "z": {
          "bdata": "rI8OQQ==",
          "dtype": "f4"
         }
        },
        {
         "customdata": [
          [
           "H021-GJ7PUN-M2-Q1",
           "OMGCT"
          ]
         ],
         "hovertemplate": "Sample name: %{customdata[0]}<br>code_oncotree: %{customdata[1]}<extra></extra>",
         "legendgroup": "OMGCT",
         "marker": {
          "color": "#B6E880",
          "opacity": 0.7,
          "symbol": "circle"
         },
         "mode": "markers",
         "name": "OMGCT",
         "scene": "scene",
         "showlegend": true,
         "type": "scatter3d",
         "x": {
          "bdata": "PukWQQ==",
          "dtype": "f4"
         },
         "y": {
          "bdata": "NYUowA==",
          "dtype": "f4"
         },
         "z": {
          "bdata": "sVYjQQ==",
          "dtype": "f4"
         }
        },
        {
         "customdata": [
          [
           "H021-QX9D21-M5-Q1",
           "ONBL"
          ]
         ],
         "hovertemplate": "Sample name: %{customdata[0]}<br>code_oncotree: %{customdata[1]}<extra></extra>",
         "legendgroup": "ONBL",
         "marker": {
          "color": "#FF97FF",
          "opacity": 0.7,
          "symbol": "circle"
         },
         "mode": "markers",
         "name": "ONBL",
         "scene": "scene",
         "showlegend": true,
         "type": "scatter3d",
         "x": {
          "bdata": "PhwPQQ==",
          "dtype": "f4"
         },
         "y": {
          "bdata": "8o74vw==",
          "dtype": "f4"
         },
         "z": {
          "bdata": "dmkGQQ==",
          "dtype": "f4"
         }
        },
        {
         "customdata": [
          [
           "K50K-2BZZJ9-M12-Q1",
           "OOVC"
          ],
          [
           "H021-EM4KY3-M1-Q1",
           "OOVC"
          ],
          [
           "H021-4JZ13LZ-M1-Q1",
           "OOVC"
          ],
          [
           "H021-4JZ13LZ-M1-Q1-R2",
           "OOVC"
          ],
          [
           "H021-EM4KY3-M1-Q1-R2",
           "OOVC"
          ]
         ],
         "hovertemplate": "Sample name: %{customdata[0]}<br>code_oncotree: %{customdata[1]}<extra></extra>",
         "legendgroup": "OOVC",
         "marker": {
          "color": "#FECB52",
          "opacity": 0.7,
          "symbol": "circle"
         },
         "mode": "markers",
         "name": "OOVC",
         "scene": "scene",
         "showlegend": true,
         "type": "scatter3d",
         "x": {
          "bdata": "NCYEQTgoA0Fc3BlBx7UTQR3pA0E=",
          "dtype": "f4"
         },
         "y": {
          "bdata": "vaoNwG04ZMDiEgHAGOTBvwC/YcA=",
          "dtype": "f4"
         },
         "z": {
          "bdata": "kW8SQYS3IEFSLR9BAogRQaiLIEE=",
          "dtype": "f4"
         }
        },
        {
         "customdata": [
          [
           "H021-HK6LKB-M2-Q1",
           "OPHSC"
          ]
         ],
         "hovertemplate": "Sample name: %{customdata[0]}<br>code_oncotree: %{customdata[1]}<extra></extra>",
         "legendgroup": "OPHSC",
         "marker": {
          "color": "#636efa",
          "opacity": 0.7,
          "symbol": "circle"
         },
         "mode": "markers",
         "name": "OPHSC",
         "scene": "scene",
         "showlegend": true,
         "type": "scatter3d",
         "x": {
          "bdata": "MQ4KQQ==",
          "dtype": "f4"
         },
         "y": {
          "bdata": "bTtUwA==",
          "dtype": "f4"
         },
         "z": {
          "bdata": "36ImQQ==",
          "dtype": "f4"
         }
        },
        {
         "customdata": [
          [
           "H021-U9DSGU-M4",
           "OS"
          ],
          [
           "I005-017-1T1-P1",
           "OS"
          ],
          [
           "H021-JNQHBW-T4",
           "OS"
          ],
          [
           "H021-276R4H-M1",
           "OS"
          ],
          [
           "H021-638DT1-M1-Q1",
           "OS"
          ],
          [
           "H021-NSM3WK-M2-Q1",
           "OS"
          ],
          [
           "H021-Z58MC6-T1-Q1",
           "OS"
          ],
          [
           "H021-2QHQ5L-T1-Q1",
           "OS"
          ],
          [
           "H021-ASGGYF-M2-Q1",
           "OS"
          ],
          [
           "H021-Q2Y3CU-M1-Q1",
           "OS"
          ],
          [
           "H021-3CTF21-M1-Q1",
           "OS"
          ],
          [
           "H021-VJLEN9-M2-Q1",
           "OS"
          ],
          [
           "H021-AA5PGM-M1-Q1",
           "OS"
          ],
          [
           "H021-E4YMD9-M2-Q1",
           "OS"
          ],
          [
           "H021-SGDGN1-T1-Q1",
           "OS"
          ],
          [
           "H021-4E6V4E-M3-Q1",
           "OS"
          ],
          [
           "H021-6T3FCU-M2-Q1",
           "OS"
          ],
          [
           "H021-LGHE1F-T2-Q1",
           "OS"
          ],
          [
           "H021-6T3FCU-M2-Q1-R2",
           "OS"
          ],
          [
           "H021-TF6K5J-U3-Q1",
           "OS"
          ],
          [
           "H021-TF6K5J-U4-Q1",
           "OS"
          ],
          [
           "H021-TE436X-M1-Q1",
           "OS"
          ],
          [
           "H021-B9RN5X-T1",
           "OS"
          ],
          [
           "H021-HQC7AD-T1",
           "OS"
          ],
          [
           "H021-W2LFQY-M3",
           "OS"
          ],
          [
           "H021-XT1SE3-T1",
           "OS"
          ],
          [
           "H021-8BZJ5J-M2-E3",
           "OS"
          ],
          [
           "H021-6PN8FL-M2-Q1",
           "OS"
          ],
          [
           "H021-RWZQJE-M1-Q1",
           "OS"
          ],
          [
           "H021-ASGGYF-M3-Q1",
           "OS"
          ],
          [
           "H021-DRDJE6-M5-Q1",
           "OS"
          ],
          [
           "H021-G1VJWJ-M1-Q1",
           "OS"
          ],
          [
           "H021-1RR46G-T2",
           "OS"
          ]
         ],
         "hovertemplate": "Sample name: %{customdata[0]}<br>code_oncotree: %{customdata[1]}<extra></extra>",
         "legendgroup": "OS",
         "marker": {
          "color": "#EF553B",
          "opacity": 0.7,
          "symbol": "circle"
         },
         "mode": "markers",
         "name": "OS",
         "scene": "scene",
         "showlegend": true,
         "type": "scatter3d",
         "x": {
          "bdata": "I9ECQdezEEEwV/5AHIz+QOx1J0HUuxNBFJMZQSu3H0E9AxZBwskgQXKHBEGl+g5BImP8QMUIE0Gj9BtBgQcVQe8lDUGqShBBZJAFQeoRDUG1IQ5BuYsPQZO0BkHCJgJBF3wPQQo9EkHjCglBkUUjQSTMFEH6zChBq9X6QAqkHkGCqxRB",
          "dtype": "f4"
         },
         "y": {
          "bdata": "UjqPv0sVmT5CVx6/3fyJvxV/sb7PimM+B3XIvoUEor7/Vku+x1NMP0WiT79QdL++GdgbwE5iSb+wMl6+imAtPnUo+b83Rz+/ZzAbwICwYL8M8FC/JVhFv/kEKL/Me4G+Hcqcvnl44D19Br8/lijOvo4J2L8vdm+/Kkdgv5GOCsCYUXU+",
          "dtype": "f4"
         },
         "z": {
          "bdata": "l3kLQfwiOEGmRy5Bl/QxQRlBKUEAeiJB4QQlQXsfFUFFfCZBlVkZQXHCLkFnLSJB5bwxQfuOH0HMoCNBk8UkQVq8HEHeXiRBI2IpQScEJUE2PSRB6+wxQWBoHEHrvSlBvIwkQSpYJEH5mSNB+8EcQYHeL0FaECpBiWIXQRpQFUE6ExlB",
          "dtype": "f4"
         }
        },
        {
         "customdata": [
          [
           "H021-6K4J7F-M1-Q1",
           "OVT"
          ],
          [
           "H021-2ATANY-M1-Q1",
           "OVT"
          ]
         ],
         "hovertemplate": "Sample name: %{customdata[0]}<br>code_oncotree: %{customdata[1]}<extra></extra>",
         "legendgroup": "OVT",
         "marker": {
          "color": "#00cc96",
          "opacity": 0.7,
          "symbol": "circle"
         },
         "mode": "markers",
         "name": "OVT",
         "scene": "scene",
         "showlegend": true,
         "type": "scatter3d",
         "x": {
          "bdata": "wugiQXz+AkE=",
          "dtype": "f4"
         },
         "y": {
          "bdata": "BgG0vugwQsA=",
          "dtype": "f4"
         },
         "z": {
          "bdata": "CtY5QQblKUE=",
          "dtype": "f4"
         }
        },
        {
         "customdata": [
          [
           "H021-72EE9L-M1-Q1",
           "OYST"
          ]
         ],
         "hovertemplate": "Sample name: %{customdata[0]}<br>code_oncotree: %{customdata[1]}<extra></extra>",
         "legendgroup": "OYST",
         "marker": {
          "color": "#ab63fa",
          "opacity": 0.7,
          "symbol": "circle"
         },
         "mode": "markers",
         "name": "OYST",
         "scene": "scene",
         "showlegend": true,
         "type": "scatter3d",
         "x": {
          "bdata": "qPMJQQ==",
          "dtype": "f4"
         },
         "y": {
          "bdata": "V2PQvw==",
          "dtype": "f4"
         },
         "z": {
          "bdata": "6IA6QQ==",
          "dtype": "f4"
         }
        },
        {
         "customdata": [
          [
           "H021-4RAFXW-M1-Q1",
           "PAAC"
          ],
          [
           "H021-ASPVRN-M1-Q1",
           "PAAC"
          ]
         ],
         "hovertemplate": "Sample name: %{customdata[0]}<br>code_oncotree: %{customdata[1]}<extra></extra>",
         "legendgroup": "PAAC",
         "marker": {
          "color": "#FFA15A",
          "opacity": 0.7,
          "symbol": "circle"
         },
         "mode": "markers",
         "name": "PAAC",
         "scene": "scene",
         "showlegend": true,
         "type": "scatter3d",
         "x": {
          "bdata": "X90NQSIEEkE=",
          "dtype": "f4"
         },
         "y": {
          "bdata": "Qio0wI1jE8A=",
          "dtype": "f4"
         },
         "z": {
          "bdata": "cUgVQb2gMUE=",
          "dtype": "f4"
         }
        },
        {
         "customdata": [
          [
           "H021-BMSJ6E-M2",
           "PAAD"
          ],
          [
           "H021-Z9GP1T-M2-Q1",
           "PAAD"
          ],
          [
           "H021-7GGVNW-T4-Q1",
           "PAAD"
          ],
          [
           "H021-C9AZ42-M2-Q1",
           "PAAD"
          ],
          [
           "H021-4LVFZ7-M13-Q1",
           "PAAD"
          ],
          [
           "H021-1HTTJF-M1-Q1",
           "PAAD"
          ],
          [
           "H021-C9AZ42-M5-Q1",
           "PAAD"
          ],
          [
           "H021-V8C818-M1-Q1",
           "PAAD"
          ],
          [
           "H021-CHLHM6-M1-Q1",
           "PAAD"
          ],
          [
           "H021-7E73SU-M1-Q1",
           "PAAD"
          ],
          [
           "H021-3SG1C4-T1-Q1",
           "PAAD"
          ],
          [
           "H021-H3L53D-M1-Q1",
           "PAAD"
          ],
          [
           "H021-N9RAUJ-T5-Q1",
           "PAAD"
          ],
          [
           "H021-2P1PDF-M1-Q1",
           "PAAD"
          ],
          [
           "H021-23NL3F-M1-Q1",
           "PAAD"
          ],
          [
           "H021-T48DPS-M2-Q1",
           "PAAD"
          ]
         ],
         "hovertemplate": "Sample name: %{customdata[0]}<br>code_oncotree: %{customdata[1]}<extra></extra>",
         "legendgroup": "PAAD",
         "marker": {
          "color": "#19d3f3",
          "opacity": 0.7,
          "symbol": "circle"
         },
         "mode": "markers",
         "name": "PAAD",
         "scene": "scene",
         "showlegend": true,
         "type": "scatter3d",
         "x": {
          "bdata": "iSwEQQGCD0F/0QRBC0kJQcdZA0GwOQ5BnFgCQZU6HkG60wxBAi8VQZcAE0GI3BNBO0oJQe1U6UB/Ox1BRa8OQQ==",
          "dtype": "f4"
         },
         "y": {
          "bdata": "6jdTwFD9LsBOECDA/G1ywKgFUsBHVjHAC9RkwDe/RsA7HHrATHkGwMbdNcDWZmHAYCBswIfHAcBlQRzAw14dwA==",
          "dtype": "f4"
         },
         "z": {
          "bdata": "nlQmQf1FL0E/jDJBcfweQdI/HkH7oC9B9k0jQYynLEH1IR9Bu3UxQbFfL0GapxpBHy0eQYCUEkExtxhB478VQQ==",
          "dtype": "f4"
         }
        },
        {
         "customdata": [
          [
           "H021-XJ7U46-M1-Q1",
           "PACT"
          ],
          [
           "H021-U6GX54-M3",
           "PACT"
          ]
         ],
         "hovertemplate": "Sample name: %{customdata[0]}<br>code_oncotree: %{customdata[1]}<extra></extra>",
         "legendgroup": "PACT",
         "marker": {
          "color": "#FF6692",
          "opacity": 0.7,
          "symbol": "circle"
         },
         "mode": "markers",
         "name": "PACT",
         "scene": "scene",
         "showlegend": true,
         "type": "scatter3d",
         "x": {
          "bdata": "TDUUQXJCCEE=",
          "dtype": "f4"
         },
         "y": {
          "bdata": "7DMtwJGrTb8=",
          "dtype": "f4"
         },
         "z": {
          "bdata": "+HUMQWWlDkE=",
          "dtype": "f4"
         }
        },
        {
         "customdata": [
          [
           "H021-Q9DTLGU-M1-Q1",
           "PANET"
          ],
          [
           "H021-PZ248J-M2",
           "PANET"
          ],
          [
           "H021-QJF2SL-M2",
           "PANET"
          ],
          [
           "H021-U7NB3J-M7",
           "PANET"
          ],
          [
           "H021-T7KGC4-M3-Q1",
           "PANET"
          ],
          [
           "H021-4VJZW2-M6-Q1",
           "PANET"
          ],
          [
           "H021-BSMKHF-M1-Q1",
           "PANET"
          ],
          [
           "H021-YJECTB-M1-Q1",
           "PANET"
          ],
          [
           "H021-W9S39T-M1",
           "PANET"
          ],
          [
           "H021-18FRJJ-M5-Q1",
           "PANET"
          ],
          [
           "H021-G1XT3E-T3-Q1",
           "PANET"
          ],
          [
           "H021-GEY8HJ-M2-Q1",
           "PANET"
          ],
          [
           "H021-3HP1HA-M1-Q1",
           "PANET"
          ],
          [
           "H021-GS351U-M1-Q1",
           "PANET"
          ],
          [
           "H021-SKBNGP-M4-Q1",
           "PANET"
          ],
          [
           "H021-7NB7BX-M3-Q1",
           "PANET"
          ],
          [
           "H021-AGUNAEQ-M2-Q1",
           "PANET"
          ],
          [
           "H021-SDFZB4X-M3-Q1",
           "PANET"
          ],
          [
           "H021-GAYFAQ3-M1-Q1",
           "PANET"
          ],
          [
           "H021-4DXUZJ6-M1-Q1",
           "PANET"
          ],
          [
           "H021-YJECTB-M4-Q1",
           "PANET"
          ]
         ],
         "hovertemplate": "Sample name: %{customdata[0]}<br>code_oncotree: %{customdata[1]}<extra></extra>",
         "legendgroup": "PANET",
         "marker": {
          "color": "#B6E880",
          "opacity": 0.7,
          "symbol": "circle"
         },
         "mode": "markers",
         "name": "PANET",
         "scene": "scene",
         "showlegend": true,
         "type": "scatter3d",
         "x": {
          "bdata": "x5EZQWIiBEEIlQVBt2srQSbgGkFNLgtBdu8TQQZlI0Hv9BhBYJwgQeO4IkHqJSBBv5XrQCxyLUHNrhtB82MfQWLdGEEVjRpBtvwxQaOsFEESUCJB",
          "dtype": "f4"
         },
         "y": {
          "bdata": "Mg5KwMg6RcAbDTjAOisrv7XxS8A1n3e/Thc3wJQlGsDW0RfAvzQlwLHoKsCidd2/oQbfv4UjFMBxGhTAw6cxwO/q6b9ObMm/NuKSv0J4FMBNXSfA",
          "dtype": "f4"
         },
         "z": {
          "bdata": "ujEWQWzMFkFMfBhBrk4RQbWGEkEENTZB1wwXQVB0JEEX5iNB1zQrQf0ELEFr2CpB5KsRQdaMIEF5byVB0ukpQWejOkGnazlB+bIcQQD1KEFP9SNB",
          "dtype": "f4"
         }
        },
        {
         "customdata": [
          [
           "MRI-12CR9MVK1-T1",
           "PANCREAS"
          ],
          [
           "MRI-18QMKAKH5-T1",
           "PANCREAS"
          ],
          [
           "MRI-17PUNKU84-T1",
           "PANCREAS"
          ],
          [
           "MRI-1AK0RPN35-T1",
           "PANCREAS"
          ]
         ],
         "hovertemplate": "Sample name: %{customdata[0]}<br>code_oncotree: %{customdata[1]}<extra></extra>",
         "legendgroup": "PANCREAS",
         "marker": {
          "color": "#FF97FF",
          "opacity": 0.7,
          "symbol": "circle"
         },
         "mode": "markers",
         "name": "PANCREAS",
         "scene": "scene",
         "showlegend": true,
         "type": "scatter3d",
         "x": {
          "bdata": "+mQHQVELCEHlxQVBuIEGQQ==",
          "dtype": "f4"
         },
         "y": {
          "bdata": "kj5qwNtta8Am9mfA+NJqwA==",
          "dtype": "f4"
         },
         "z": {
          "bdata": "ocgUQZsYFEGr2BZBWVEVQQ==",
          "dtype": "f4"
         }
        },
        {
         "customdata": [
          [
           "S30470010REA-T2",
           "PATZ1fus"
          ],
          [
           "I139-018-T2",
           "PATZ1fus"
          ],
          [
           "S30470010REA-T1-R2",
           "PATZ1fus"
          ],
          [
           "I139-018-T1-R2",
           "PATZ1fus"
          ]
         ],
         "hovertemplate": "Sample name: %{customdata[0]}<br>code_oncotree: %{customdata[1]}<extra></extra>",
         "legendgroup": "PATZ1fus",
         "marker": {
          "color": "#FECB52",
          "opacity": 0.7,
          "symbol": "circle"
         },
         "mode": "markers",
         "name": "PATZ1fus",
         "scene": "scene",
         "showlegend": true,
         "type": "scatter3d",
         "x": {
          "bdata": "biUUQfXfE0E+NBRBCjkUQQ==",
          "dtype": "f4"
         },
         "y": {
          "bdata": "4VepP2xmsT9HEro/rwK7Pw==",
          "dtype": "f4"
         },
         "z": {
          "bdata": "5CsUQfBgFEFA6RZBWvsWQQ==",
          "dtype": "f4"
         }
        },
        {
         "customdata": [
          [
           "H021-7HKMGG4-T1-Q1",
           "PCLCD"
          ]
         ],
         "hovertemplate": "Sample name: %{customdata[0]}<br>code_oncotree: %{customdata[1]}<extra></extra>",
         "legendgroup": "PCLCD",
         "marker": {
          "color": "#636efa",
          "opacity": 0.7,
          "symbol": "circle"
         },
         "mode": "markers",
         "name": "PCLCD",
         "scene": "scene",
         "showlegend": true,
         "type": "scatter3d",
         "x": {
          "bdata": "gSYkQQ==",
          "dtype": "f4"
         },
         "y": {
          "bdata": "v1AmwA==",
          "dtype": "f4"
         },
         "z": {
          "bdata": "YfcbQQ==",
          "dtype": "f4"
         }
        },
        {
         "customdata": [
          [
           "H021-ZB26BG-M1",
           "PCM"
          ],
          [
           "H021-VYM29S-T1-Q1",
           "PCM"
          ]
         ],
         "hovertemplate": "Sample name: %{customdata[0]}<br>code_oncotree: %{customdata[1]}<extra></extra>",
         "legendgroup": "PCM",
         "marker": {
          "color": "#EF553B",
          "opacity": 0.7,
          "symbol": "circle"
         },
         "mode": "markers",
         "name": "PCM",
         "scene": "scene",
         "showlegend": true,
         "type": "scatter3d",
         "x": {
          "bdata": "gkwEQZ+II0E=",
          "dtype": "f4"
         },
         "y": {
          "bdata": "trTVvbBWBcA=",
          "dtype": "f4"
         },
         "z": {
          "bdata": "bbYkQSRBDkE=",
          "dtype": "f4"
         }
        },
        {
         "customdata": [
          [
           "MRI-19NTOPH80-T1",
           "PDAC"
          ],
          [
           "H021-8ZTUHJ-M1-Q1",
           "PDAC"
          ],
          [
           "MRI-1MEFANLA0-T1",
           "PDAC"
          ]
         ],
         "hovertemplate": "Sample name: %{customdata[0]}<br>code_oncotree: %{customdata[1]}<extra></extra>",
         "legendgroup": "PDAC",
         "marker": {
          "color": "#00cc96",
          "opacity": 0.7,
          "symbol": "circle"
         },
         "mode": "markers",
         "name": "PDAC",
         "scene": "scene",
         "showlegend": true,
         "type": "scatter3d",
         "x": {
          "bdata": "q44VQVl+DUGBGgVB",
          "dtype": "f4"
         },
         "y": {
          "bdata": "TT79v53JKMBEQ2fA",
          "dtype": "f4"
         },
         "z": {
          "bdata": "y6I4QRvaNEFNcxhB",
          "dtype": "f4"
         }
        },
        {
         "customdata": [
          [
           "H021-LCQDQV-T1-Q1",
           "PECOMA"
          ],
          [
           "H021-ASLRTG-M1-Q1",
           "PECOMA"
          ],
          [
           "H021-RWXYWN-M3-Q1",
           "PECOMA"
          ],
          [
           "H021-9WCL2C-M1-Q1",
           "PECOMA"
          ],
          [
           "H021-DRPWB2-T2-Q1",
           "PECOMA"
          ]
         ],
         "hovertemplate": "Sample name: %{customdata[0]}<br>code_oncotree: %{customdata[1]}<extra></extra>",
         "legendgroup": "PECOMA",
         "marker": {
          "color": "#ab63fa",
          "opacity": 0.7,
          "symbol": "circle"
         },
         "mode": "markers",
         "name": "PECOMA",
         "scene": "scene",
         "showlegend": true,
         "type": "scatter3d",
         "x": {
          "bdata": "PHIQQUttEkFF2CFBIqgYQZxnJEE=",
          "dtype": "f4"
         },
         "y": {
          "bdata": "/mTePnxtZT4QdYW/CSyGvHUbKr8=",
          "dtype": "f4"
         },
         "z": {
          "bdata": "/LocQXv4H0HrwjdBZwYmQSU0OUE=",
          "dtype": "f4"
         }
        },
        {
         "customdata": [
          [
           "H021-K55YZ3-T2",
           "PEMESO"
          ],
          [
           "H021-4TD3JY-M2",
           "PEMESO"
          ],
          [
           "H021-M22J77-M1-Q1",
           "PEMESO"
          ],
          [
           "H021-HEEZDE-T3-Q1",
           "PEMESO"
          ],
          [
           "H021-FAEDHG-M1-Q1",
           "PEMESO"
          ]
         ],
         "hovertemplate": "Sample name: %{customdata[0]}<br>code_oncotree: %{customdata[1]}<extra></extra>",
         "legendgroup": "PEMESO",
         "marker": {
          "color": "#FFA15A",
          "opacity": 0.7,
          "symbol": "circle"
         },
         "mode": "markers",
         "name": "PEMESO",
         "scene": "scene",
         "showlegend": true,
         "type": "scatter3d",
         "x": {
          "bdata": "UmMOQdBABEHJng5B3x4LQcGELEE=",
          "dtype": "f4"
         },
         "y": {
          "bdata": "0e8WwA/fVsAZ1m/A+ybIvzQEGsA=",
          "dtype": "f4"
         },
         "z": {
          "bdata": "zBohQSTyMEHkUSRBM0oeQWRHL0E=",
          "dtype": "f4"
         }
        },
        {
         "customdata": [
          [
           "H021-M4Z12B-M1-Q1",
           "PHC"
          ],
          [
           "H021-RRY5EK-M1-Q1",
           "PHC"
          ],
          [
           "H021-5867EC-M5-Q1",
           "PHC"
          ]
         ],
         "hovertemplate": "Sample name: %{customdata[0]}<br>code_oncotree: %{customdata[1]}<extra></extra>",
         "legendgroup": "PHC",
         "marker": {
          "color": "#19d3f3",
          "opacity": 0.7,
          "symbol": "circle"
         },
         "mode": "markers",
         "name": "PHC",
         "scene": "scene",
         "showlegend": true,
         "type": "scatter3d",
         "x": {
          "bdata": "HGsuQR0J+EDXrSFB",
          "dtype": "f4"
         },
         "y": {
          "bdata": "4FvgvlwIr78zA62/",
          "dtype": "f4"
         },
         "z": {
          "bdata": "r90dQchjIEE3JRBB",
          "dtype": "f4"
         }
        },
        {
         "customdata": [
          [
           "H021-LN8VNF-M1-Q1",
           "PHCH"
          ],
          [
           "H021-7LJR41-T3-Q1",
           "PHCH"
          ],
          [
           "H021-JCB2K7-M3-Q1",
           "PHCH"
          ],
          [
           "H021-XCLLJX-T2-Q1",
           "PHCH"
          ],
          [
           "H021-UN9Q23-M1-Q1",
           "PHCH"
          ]
         ],
         "hovertemplate": "Sample name: %{customdata[0]}<br>code_oncotree: %{customdata[1]}<extra></extra>",
         "legendgroup": "PHCH",
         "marker": {
          "color": "#FF6692",
          "opacity": 0.7,
          "symbol": "circle"
         },
         "mode": "markers",
         "name": "PHCH",
         "scene": "scene",
         "showlegend": true,
         "type": "scatter3d",
         "x": {
          "bdata": "ZKkaQSiJB0EeJBRBaiYVQRqgAkE=",
          "dtype": "f4"
         },
         "y": {
          "bdata": "wCYmwD8ofsAsTFnA7yQJwCG0UsA=",
          "dtype": "f4"
         },
         "z": {
          "bdata": "RyMiQYhkKEG/vxxB5p8qQWr+HEE=",
          "dtype": "f4"
         }
        },
        {
         "customdata": [
          [
           "PLAGL-20EP00118-T2",
           "PLAG1fus"
          ],
          [
           "PLAGL-3213961-T1-R3",
           "PLAG1fus"
          ],
          [
           "PLAGL-S651.18-T2",
           "PLAG1fus"
          ]
         ],
         "hovertemplate": "Sample name: %{customdata[0]}<br>code_oncotree: %{customdata[1]}<extra></extra>",
         "legendgroup": "PLAG1fus",
         "marker": {
          "color": "#B6E880",
          "opacity": 0.7,
          "symbol": "circle"
         },
         "mode": "markers",
         "name": "PLAG1fus",
         "scene": "scene",
         "showlegend": true,
         "type": "scatter3d",
         "x": {
          "bdata": "JHApQXW5MkGe+xRB",
          "dtype": "f4"
         },
         "y": {
          "bdata": "uhrdPnC4hb8fhZA/",
          "dtype": "f4"
         },
         "z": {
          "bdata": "FlgzQezOHkFlCBRB",
          "dtype": "f4"
         }
        },
        {
         "customdata": [
          [
           "PLAGL-19EP02417-T1",
           "PLAGL1"
          ],
          [
           "PLAGL-H16_28824-T1",
           "PLAGL1"
          ],
          [
           "PLAGL-PM36-T1",
           "PLAGL1"
          ],
          [
           "PLAGL-T2490324-T1-R3",
           "PLAGL1"
          ],
          [
           "T24-90324-L1",
           "PLAGL1"
          ],
          [
           "T24-90324-L2",
           "PLAGL1"
          ]
         ],
         "hovertemplate": "Sample name: %{customdata[0]}<br>code_oncotree: %{customdata[1]}<extra></extra>",
         "legendgroup": "PLAGL1",
         "marker": {
          "color": "#FF97FF",
          "opacity": 0.7,
          "symbol": "circle"
         },
         "mode": "markers",
         "name": "PLAGL1",
         "scene": "scene",
         "showlegend": true,
         "type": "scatter3d",
         "x": {
          "bdata": "1c0nQTjWJEHmASpB3qwuQSuLKUGMOypB",
          "dtype": "f4"
         },
         "y": {
          "bdata": "TEvFPiW3eD5Kc9o+xMLZv/S8C79hJTK/",
          "dtype": "f4"
         },
         "z": {
          "bdata": "BWk0QWMkNEHM+TJBH0oiQQN3L0FdxC1B",
          "dtype": "f4"
         }
        },
        {
         "customdata": [
          [
           "PLAGL-N173623-T1",
           "PLAGL1, adult"
          ],
          [
           "PLAGL-N201437-T1",
           "PLAGL1, adult"
          ]
         ],
         "hovertemplate": "Sample name: %{customdata[0]}<br>code_oncotree: %{customdata[1]}<extra></extra>",
         "legendgroup": "PLAGL1, adult",
         "marker": {
          "color": "#FECB52",
          "opacity": 0.7,
          "symbol": "circle"
         },
         "mode": "markers",
         "name": "PLAGL1, adult",
         "scene": "scene",
         "showlegend": true,
         "type": "scatter3d",
         "x": {
          "bdata": "u1sjQQmKH0E=",
          "dtype": "f4"
         },
         "y": {
          "bdata": "1z3yvFUBhT4=",
          "dtype": "f4"
         },
         "z": {
          "bdata": "WwgwQdU0MEE=",
          "dtype": "f4"
         }
        },
        {
         "customdata": [
          [
           "PLAGL-T52PNET-T1",
           "PLAGL2"
          ],
          [
           "PLAGL-19EP01899-T1",
           "PLAGL2"
          ],
          [
           "PLAGL-AHG04-T1",
           "PLAGL2"
          ],
          [
           "PLAGL-H235149-T1",
           "PLAGL2"
          ]
         ],
         "hovertemplate": "Sample name: %{customdata[0]}<br>code_oncotree: %{customdata[1]}<extra></extra>",
         "legendgroup": "PLAGL2",
         "marker": {
          "color": "#636efa",
          "opacity": 0.7,
          "symbol": "circle"
         },
         "mode": "markers",
         "name": "PLAGL2",
         "scene": "scene",
         "showlegend": true,
         "type": "scatter3d",
         "x": {
          "bdata": "dpAnQbwBKkEGXylBNwEfQQ==",
          "dtype": "f4"
         },
         "y": {
          "bdata": "BIjAPmFb1j7VAto+/FKCPg==",
          "dtype": "f4"
         },
         "z": {
          "bdata": "w8kzQe0iM0FVrDNB37YxQQ==",
          "dtype": "f4"
         }
        },
        {
         "customdata": [
          [
           "H021-PY4GWY-M1",
           "PLEMESO"
          ],
          [
           "H021-G78962-M2",
           "PLEMESO"
          ],
          [
           "H021-X1PXC4-M2-Q1",
           "PLEMESO"
          ],
          [
           "H021-KPKEWQ-M4-Q1",
           "PLEMESO"
          ],
          [
           "H021-6UBWL9-M1-Q1",
           "PLEMESO"
          ],
          [
           "H021-G6ANCQ-M1-Q1",
           "PLEMESO"
          ],
          [
           "H021-3GKZLA-M1-Q1",
           "PLEMESO"
          ],
          [
           "H021-AGPSR6-M5-Q1",
           "PLEMESO"
          ],
          [
           "H021-VWVVNKW-M2-Q1",
           "PLEMESO"
          ],
          [
           "H021-J55SHXJ-T1-Q1",
           "PLEMESO"
          ],
          [
           "H021-MLVC1CF-M3-Q1",
           "PLEMESO"
          ]
         ],
         "hovertemplate": "Sample name: %{customdata[0]}<br>code_oncotree: %{customdata[1]}<extra></extra>",
         "legendgroup": "PLEMESO",
         "marker": {
          "color": "#EF553B",
          "opacity": 0.7,
          "symbol": "circle"
         },
         "mode": "markers",
         "name": "PLEMESO",
         "scene": "scene",
         "showlegend": true,
         "type": "scatter3d",
         "x": {
          "bdata": "iKIJQdo3I0F5kQtB9zIFQYR2IEHKSglBcgwhQQNQK0FvAw5Br5cFQezAC0E=",
          "dtype": "f4"
         },
         "y": {
          "bdata": "dl8hwFtFWr+n0G/Af7lawL+45r9sDGTAUCz7v5pTRr/zzBTAhsdYwK1/BsA=",
          "dtype": "f4"
         },
         "z": {
          "bdata": "ST4tQX6sIkGkESZB2JQxQS4VBUHYuzBBbNxJQRiwHkHR7ixBEwIvQcXGB0E=",
          "dtype": "f4"
         }
        },
        {
         "customdata": [
          [
           "H021-A9FSW4-T1-Q1",
           "PLLS"
          ],
          [
           "H021-5V29NB-M3-Q1",
           "PLLS"
          ]
         ],
         "hovertemplate": "Sample name: %{customdata[0]}<br>code_oncotree: %{customdata[1]}<extra></extra>",
         "legendgroup": "PLLS",
         "marker": {
          "color": "#00cc96",
          "opacity": 0.7,
          "symbol": "circle"
         },
         "mode": "markers",
         "name": "PLLS",
         "scene": "scene",
         "showlegend": true,
         "type": "scatter3d",
         "x": {
          "bdata": "j/sPQT8j+UA=",
          "dtype": "f4"
         },
         "y": {
          "bdata": "nPVJv6Zn5z4=",
          "dtype": "f4"
         },
         "z": {
          "bdata": "h/cqQUuqFkE=",
          "dtype": "f4"
         }
        },
        {
         "customdata": [
          [
           "H021-XT8RXW-T2",
           "PLRMS"
          ],
          [
           "H021-XP5T1N-M4",
           "PLRMS"
          ],
          [
           "H021-4CYFXD-M1",
           "PLRMS"
          ],
          [
           "H021-GAMZSE-T2",
           "PLRMS"
          ],
          [
           "H021-VAW2L1-M1-Q1",
           "PLRMS"
          ],
          [
           "H021-AT9S9S-T3-Q1",
           "PLRMS"
          ],
          [
           "H021-S83DHY-M1-Q1",
           "PLRMS"
          ]
         ],
         "hovertemplate": "Sample name: %{customdata[0]}<br>code_oncotree: %{customdata[1]}<extra></extra>",
         "legendgroup": "PLRMS",
         "marker": {
          "color": "#ab63fa",
          "opacity": 0.7,
          "symbol": "circle"
         },
         "mode": "markers",
         "name": "PLRMS",
         "scene": "scene",
         "showlegend": true,
         "type": "scatter3d",
         "x": {
          "bdata": "z+QHQSfYDUEHbRpB1NUhQY70KkGiqiVB+tglQQ==",
          "dtype": "f4"
         },
         "y": {
          "bdata": "wWFYP/hlUT8H3bS/809IvgWy17+6yZ29wHrYvg==",
          "dtype": "f4"
         },
         "z": {
          "bdata": "KZsXQQ8jGkH2tghBeYsNQZ+oLEHbrgtBEfk0QQ==",
          "dtype": "f4"
         }
        },
        {
         "customdata": [
          [
           "H021-ZNSUYN-T1",
           "PNET"
          ],
          [
           "H021-JLP1D4-T2",
           "PNET"
          ]
         ],
         "hovertemplate": "Sample name: %{customdata[0]}<br>code_oncotree: %{customdata[1]}<extra></extra>",
         "legendgroup": "PNET",
         "marker": {
          "color": "#FFA15A",
          "opacity": 0.7,
          "symbol": "circle"
         },
         "mode": "markers",
         "name": "PNET",
         "scene": "scene",
         "showlegend": true,
         "type": "scatter3d",
         "x": {
          "bdata": "ThQLQar4AkE=",
          "dtype": "f4"
         },
         "y": {
          "bdata": "kDOiPeC6470=",
          "dtype": "f4"
         },
         "z": {
          "bdata": "6C0zQf75NEE=",
          "dtype": "f4"
         }
        },
        {
         "customdata": [
          [
           "H021-S5N2XH-M1-Q2",
           "POCA"
          ]
         ],
         "hovertemplate": "Sample name: %{customdata[0]}<br>code_oncotree: %{customdata[1]}<extra></extra>",
         "legendgroup": "POCA",
         "marker": {
          "color": "#19d3f3",
          "opacity": 0.7,
          "symbol": "circle"
         },
         "mode": "markers",
         "name": "POCA",
         "scene": "scene",
         "showlegend": true,
         "type": "scatter3d",
         "x": {
          "bdata": "QloEQQ==",
          "dtype": "f4"
         },
         "y": {
          "bdata": "LL5EwA==",
          "dtype": "f4"
         },
         "z": {
          "bdata": "UGctQQ==",
          "dtype": "f4"
         }
        },
        {
         "customdata": [
          [
           "H021-WK3CNJ-M3",
           "PRAD"
          ],
          [
           "H021-68YVMK-T1-Q1",
           "PRAD"
          ],
          [
           "H021-PX3MGS-T5-Q1",
           "PRAD"
          ],
          [
           "H021-CK9VHH-M1-Q1",
           "PRAD"
          ],
          [
           "H021-ARXF4R-M1-Q1",
           "PRAD"
          ],
          [
           "H021-JHTL1RU-M1-Q1",
           "PRAD"
          ]
         ],
         "hovertemplate": "Sample name: %{customdata[0]}<br>code_oncotree: %{customdata[1]}<extra></extra>",
         "legendgroup": "PRAD",
         "marker": {
          "color": "#FF6692",
          "opacity": 0.7,
          "symbol": "circle"
         },
         "mode": "markers",
         "name": "PRAD",
         "scene": "scene",
         "showlegend": true,
         "type": "scatter3d",
         "x": {
          "bdata": "DogbQT8iDEHaaxlB7W0hQbO2C0EYCRhB",
          "dtype": "f4"
         },
         "y": {
          "bdata": "gQ4qwMOuPMCw2Ks9LJ8pwJdMyr/tMBrA",
          "dtype": "f4"
         },
         "z": {
          "bdata": "Ra8oQXRsF0HLZBpBIdYmQTZPOUFJACZB",
          "dtype": "f4"
         }
        },
        {
         "customdata": [
          [
           "H021-GEUYF9-M1-Q1",
           "PRNE"
          ],
          [
           "H021-THC97U5-M1-Q1",
           "PRNE"
          ]
         ],
         "hovertemplate": "Sample name: %{customdata[0]}<br>code_oncotree: %{customdata[1]}<extra></extra>",
         "legendgroup": "PRNE",
         "marker": {
          "color": "#B6E880",
          "opacity": 0.7,
          "symbol": "circle"
         },
         "mode": "markers",
         "name": "PRNE",
         "scene": "scene",
         "showlegend": true,
         "type": "scatter3d",
         "x": {
          "bdata": "/Z4eQUmuHUE=",
          "dtype": "f4"
         },
         "y": {
          "bdata": "Cy85wFYe2L8=",
          "dtype": "f4"
         },
         "z": {
          "bdata": "Fw4nQZBOM0E=",
          "dtype": "f4"
         }
        },
        {
         "customdata": [
          [
           "H021-KFNAL7-M1",
           "PSEC"
          ]
         ],
         "hovertemplate": "Sample name: %{customdata[0]}<br>code_oncotree: %{customdata[1]}<extra></extra>",
         "legendgroup": "PSEC",
         "marker": {
          "color": "#FF97FF",
          "opacity": 0.7,
          "symbol": "circle"
         },
         "mode": "markers",
         "name": "PSEC",
         "scene": "scene",
         "showlegend": true,
         "type": "scatter3d",
         "x": {
          "bdata": "+WoLQQ==",
          "dtype": "f4"
         },
         "y": {
          "bdata": "jLgFwA==",
          "dtype": "f4"
         },
         "z": {
          "bdata": "8M0tQQ==",
          "dtype": "f4"
         }
        },
        {
         "customdata": [
          [
           "H021-HXKRG5-M1-Q1",
           "PTAD"
          ]
         ],
         "hovertemplate": "Sample name: %{customdata[0]}<br>code_oncotree: %{customdata[1]}<extra></extra>",
         "legendgroup": "PTAD",
         "marker": {
          "color": "#FECB52",
          "opacity": 0.7,
          "symbol": "circle"
         },
         "mode": "markers",
         "name": "PTAD",
         "scene": "scene",
         "showlegend": true,
         "type": "scatter3d",
         "x": {
          "bdata": "WqPxQA==",
          "dtype": "f4"
         },
         "y": {
          "bdata": "RjBTvw==",
          "dtype": "f4"
         },
         "z": {
          "bdata": "bxQiQQ==",
          "dtype": "f4"
         }
        },
        {
         "customdata": [
          [
           "H021-8JC5R3-M1-Q1",
           "PTHC"
          ],
          [
           "H021-7M7QB7-M1-Q1",
           "PTHC"
          ],
          [
           "H021-RUDU3J-M1-Q1",
           "PTHC"
          ],
          [
           "H021-MNL1EH-T3-Q1",
           "PTHC"
          ],
          [
           "H021-Q65CUV-M2-Q1",
           "PTHC"
          ]
         ],
         "hovertemplate": "Sample name: %{customdata[0]}<br>code_oncotree: %{customdata[1]}<extra></extra>",
         "legendgroup": "PTHC",
         "marker": {
          "color": "#636efa",
          "opacity": 0.7,
          "symbol": "circle"
         },
         "mode": "markers",
         "name": "PTHC",
         "scene": "scene",
         "showlegend": true,
         "type": "scatter3d",
         "x": {
          "bdata": "6JkHQVQbF0GEvAdBDMoXQXMeJ0E=",
          "dtype": "f4"
         },
         "y": {
          "bdata": "UMcRwCQuwr7opn/A08I3v7fDsL8=",
          "dtype": "f4"
         },
         "z": {
          "bdata": "bKc0QfLNJkEtJCVBiRUoQQXVI0E=",
          "dtype": "f4"
         }
        },
        {
         "customdata": [
          [
           "H021-UK5YMH-M5-Q1",
           "RCC"
          ],
          [
           "H021-85264R-M1-Q1",
           "RCC"
          ],
          [
           "H021-UK5YMH-M6-Q1",
           "RCC"
          ],
          [
           "H021-UK5YMH-T3-Q1",
           "RCC"
          ],
          [
           "H021-8GJ9GS-M1-Q1",
           "RCC"
          ],
          [
           "H021-8RPW98-M1-Q1",
           "RCC"
          ],
          [
           "H021-XRG9QT-M2-Q1",
           "RCC"
          ],
          [
           "H021-HZ5EL8C-M1-Q1",
           "RCC"
          ],
          [
           "H021-HGQD6WL-M3-Q1",
           "RCC"
          ],
          [
           "H021-B6MR88Y-M1-Q1",
           "RCC"
          ]
         ],
         "hovertemplate": "Sample name: %{customdata[0]}<br>code_oncotree: %{customdata[1]}<extra></extra>",
         "legendgroup": "RCC",
         "marker": {
          "color": "#EF553B",
          "opacity": 0.7,
          "symbol": "circle"
         },
         "mode": "markers",
         "name": "RCC",
         "scene": "scene",
         "showlegend": true,
         "type": "scatter3d",
         "x": {
          "bdata": "Bs0OQccEGkEJ4wlB2cMUQd44JUGjrg5BpMkhQYgwGEEzVhdBGWAQQQ==",
          "dtype": "f4"
         },
         "y": {
          "bdata": "0Wk2v9yo3b/86dW/SowpwLa9Yr829U+/p53Iv+RZx7+CzLm/xAxjwA==",
          "dtype": "f4"
         },
         "z": {
          "bdata": "argSQdhhLkHi3SFB7GcvQVLYOEGbpBRBe6ozQccSL0HGByZB/QEtQQ==",
          "dtype": "f4"
         }
        },
        {
         "customdata": [
          [
           "I008-006-99146",
           "RCSNOS"
          ],
          [
           "I005-016-226696",
           "RCSNOS"
          ],
          [
           "H021-EVNRN6-T1-E1",
           "RCSNOS"
          ],
          [
           "H021-618SRQ-U4-E2",
           "RCSNOS"
          ],
          [
           "M007-EVNRN6-M1-Q1",
           "RCSNOS"
          ],
          [
           "I005-014-0M1-P1",
           "RCSNOS"
          ],
          [
           "H021-D6BHS5H-M2-Q1",
           "RCSNOS"
          ]
         ],
         "hovertemplate": "Sample name: %{customdata[0]}<br>code_oncotree: %{customdata[1]}<extra></extra>",
         "legendgroup": "RCSNOS",
         "marker": {
          "color": "#00cc96",
          "opacity": 0.7,
          "symbol": "circle"
         },
         "mode": "markers",
         "name": "RCSNOS",
         "scene": "scene",
         "showlegend": true,
         "type": "scatter3d",
         "x": {
          "bdata": "yvghQWUxKkF/5wlB/j36QLIqFkGAYShBkJUdQQ==",
          "dtype": "f4"
         },
         "y": {
          "bdata": "IfyeP70mDD+SkWe/Z6Sfv6rUHcDYCLA/q0S4vw==",
          "dtype": "f4"
         },
         "z": {
          "bdata": "JDsDQW6hHEHo0jhBSDcyQYahD0HCEw1BWDwuQQ==",
          "dtype": "f4"
         }
        },
        {
         "customdata": [
          [
           "H021-UVJ1LB-M1",
           "READ"
          ],
          [
           "H021-UVJ1LB-M3",
           "READ"
          ],
          [
           "H021-TNGG44-M1",
           "READ"
          ],
          [
           "H021-ERYN6U-M4",
           "READ"
          ],
          [
           "H021-RXLJ7X-M5-Q1",
           "READ"
          ],
          [
           "H021-C15LJ8-T1-Q1",
           "READ"
          ],
          [
           "H021-U7HXMH-M2-Q1",
           "READ"
          ],
          [
           "H021-TNGG44-M4-Q1",
           "READ"
          ],
          [
           "H021-9DU1YF-M2-Q1",
           "READ"
          ],
          [
           "H021-33DUTN-M1-Q1",
           "READ"
          ],
          [
           "H021-5Z26L6-M1-Q1",
           "READ"
          ],
          [
           "H021-Z81XY8-M1-Q1",
           "READ"
          ],
          [
           "H021-4BLCRJ-M2-Q1",
           "READ"
          ],
          [
           "H021-FNT9QNF-M2-Q1",
           "READ"
          ]
         ],
         "hovertemplate": "Sample name: %{customdata[0]}<br>code_oncotree: %{customdata[1]}<extra></extra>",
         "legendgroup": "READ",
         "marker": {
          "color": "#ab63fa",
          "opacity": 0.7,
          "symbol": "circle"
         },
         "mode": "markers",
         "name": "READ",
         "scene": "scene",
         "showlegend": true,
         "type": "scatter3d",
         "x": {
          "bdata": "cYMEQZJnAkHqWgJB1PQNQSutDEGB6Q5BiZkFQaEcCkGoDgZBiKInQSBRBkE3Qg1BWaoQQT2+DkE=",
          "dtype": "f4"
         },
         "y": {
          "bdata": "m8h0wE7Ma8AR2dW/fxl8wMrhcsAAUyHAU1O2vwkhdMB/dxbAIVr5v7v9b8DCb1LAOJUrwDm+T8A=",
          "dtype": "f4"
         },
         "z": {
          "bdata": "fSAlQYsTJ0GGgg9B01AeQZDUH0G8TghB1IkMQb7rIkFmyhFB3nYkQZfkJEF2XxNBe9cNQR63F0E=",
          "dtype": "f4"
         }
        },
        {
         "customdata": [
          [
           "I076-042-9T1",
           "RMS"
          ],
          [
           "H021-S5LP5E-M2-E2",
           "RMS"
          ],
          [
           "H021-HBR2CL-M1-Q1",
           "RMS"
          ],
          [
           "I008-019-0T1-P1",
           "RMS"
          ],
          [
           "H021-3582P3-M1-Q1",
           "RMS"
          ],
          [
           "H021-NM1SU2-M1-Q1",
           "RMS"
          ],
          [
           "H021-FWVK8T-T1-Q1",
           "RMS"
          ],
          [
           "I167-005-1T1-P1",
           "RMS"
          ],
          [
           "H021-48Z3LW-M1-Q1",
           "RMS"
          ],
          [
           "H021-H1ZKQ8-M3-Q2",
           "RMS"
          ],
          [
           "H021-VZRW-T1-Q2",
           "RMS"
          ]
         ],
         "hovertemplate": "Sample name: %{customdata[0]}<br>code_oncotree: %{customdata[1]}<extra></extra>",
         "legendgroup": "RMS",
         "marker": {
          "color": "#FFA15A",
          "opacity": 0.7,
          "symbol": "circle"
         },
         "mode": "markers",
         "name": "RMS",
         "scene": "scene",
         "showlegend": true,
         "type": "scatter3d",
         "x": {
          "bdata": "z2gaQeMMC0GuRydB21srQYHhKUGvlSRB6NQnQdVEIEFeFCRB0WIiQWaaLkE=",
          "dtype": "f4"
         },
         "y": {
          "bdata": "NY8cvQQSV749qOG9WhLsPnICAb6fLVU/OnHsPstxnT8Btei/2jsKv4OYE8A=",
          "dtype": "f4"
         },
         "z": {
          "bdata": "m+sMQVzYMUEychtBk8kTQYsVGkFJzxVBRgERQeoRF0FTTQRBaLs1QcDtLEE=",
          "dtype": "f4"
         }
        },
        {
         "customdata": [
          [
           "H021-9QJVT5-T1-E1",
           "RNET"
          ]
         ],
         "hovertemplate": "Sample name: %{customdata[0]}<br>code_oncotree: %{customdata[1]}<extra></extra>",
         "legendgroup": "RNET",
         "marker": {
          "color": "#19d3f3",
          "opacity": 0.7,
          "symbol": "circle"
         },
         "mode": "markers",
         "name": "RNET",
         "scene": "scene",
         "showlegend": true,
         "type": "scatter3d",
         "x": {
          "bdata": "xUEZQQ==",
          "dtype": "f4"
         },
         "y": {
          "bdata": "uXHNvw==",
          "dtype": "f4"
         },
         "z": {
          "bdata": "AJskQQ==",
          "dtype": "f4"
         }
        },
        {
         "customdata": [
          [
           "H021-BJC1YS-M2-Q1",
           "SACA"
          ]
         ],
         "hovertemplate": "Sample name: %{customdata[0]}<br>code_oncotree: %{customdata[1]}<extra></extra>",
         "legendgroup": "SACA",
         "marker": {
          "color": "#FF6692",
          "opacity": 0.7,
          "symbol": "circle"
         },
         "mode": "markers",
         "name": "SACA",
         "scene": "scene",
         "showlegend": true,
         "type": "scatter3d",
         "x": {
          "bdata": "uKMKQQ==",
          "dtype": "f4"
         },
         "y": {
          "bdata": "5rFkwA==",
          "dtype": "f4"
         },
         "z": {
          "bdata": "fcckQQ==",
          "dtype": "f4"
         }
        },
        {
         "customdata": [
          [
           "H021-MZRYXY-M4-Q1",
           "SARCNOS"
          ],
          [
           "H021-P1BLSR-M2-Q1",
           "SARCNOS"
          ],
          [
           "H021-82QZQD-M1-E1",
           "SARCNOS"
          ],
          [
           "H021-5MVGEK-T3",
           "SARCNOS"
          ],
          [
           "H021-4F7QS3-T1",
           "SARCNOS"
          ],
          [
           "H021-S1RRD7-T1",
           "SARCNOS"
          ],
          [
           "H028-7GAB-T1",
           "SARCNOS"
          ],
          [
           "H021-Q5UUUF-M1",
           "SARCNOS"
          ],
          [
           "I036-057-226650",
           "SARCNOS"
          ],
          [
           "H021-4RQVZT-M2-E2",
           "SARCNOS"
          ],
          [
           "H021-YYHL-T1",
           "SARCNOS"
          ],
          [
           "H021-R427FX-M1-E2",
           "SARCNOS"
          ],
          [
           "H021-W834UD-T2-E2",
           "SARCNOS"
          ],
          [
           "I022-052-1T1-P1",
           "SARCNOS"
          ],
          [
           "H021-95DSUJ-M3",
           "SARCNOS"
          ],
          [
           "H021-WZNT6Y-M1-E1",
           "SARCNOS"
          ],
          [
           "I024-040-1M1-P1",
           "SARCNOS"
          ],
          [
           "I027-023-0T1-P1",
           "SARCNOS"
          ],
          [
           "I036-039-9T1-P1",
           "SARCNOS"
          ],
          [
           "I023-031-3T1-P1",
           "SARCNOS"
          ],
          [
           "I070-030-0T2-P1",
           "SARCNOS"
          ],
          [
           "H021-9EP93K-M1",
           "SARCNOS"
          ],
          [
           "H021-CL7TCY-T1",
           "SARCNOS"
          ],
          [
           "I007-134-9T1-P1",
           "SARCNOS"
          ],
          [
           "H021-6PPGRT-M2",
           "SARCNOS"
          ],
          [
           "H021-L3ABZV-M3-E1",
           "SARCNOS"
          ],
          [
           "H021-ERFPF3-T1-Q1",
           "SARCNOS"
          ],
          [
           "H021-5YUU78-T2-Q1",
           "SARCNOS"
          ],
          [
           "H021-MPB64L-T2-Q1",
           "SARCNOS"
          ],
          [
           "H021-SRZJMY-M5-Q1",
           "SARCNOS"
          ],
          [
           "I067-018-1M1-P1",
           "SARCNOS"
          ],
          [
           "I049-023-3M1-P1-R2",
           "SARCNOS"
          ],
          [
           "H021-22BRKF-M2-Q1",
           "SARCNOS"
          ],
          [
           "H021-22BRKF-M1-Q1",
           "SARCNOS"
          ],
          [
           "H021-XVSS4M-M4-Q1",
           "SARCNOS"
          ],
          [
           "H021-47AEME-M3-Q1",
           "SARCNOS"
          ],
          [
           "H021-5X9XEF-T1-Q1",
           "SARCNOS"
          ],
          [
           "H021-65FBP6-T2-Q1",
           "SARCNOS"
          ],
          [
           "H021-5CRGAQ-M1-Q1",
           "SARCNOS"
          ],
          [
           "I167-004-1T1-P1",
           "SARCNOS"
          ],
          [
           "H021-J3HGWD-T2-Q1",
           "SARCNOS"
          ],
          [
           "H021-A6LHFV-M7-Q1",
           "SARCNOS"
          ],
          [
           "H021-J75F36-M2-Q1",
           "SARCNOS"
          ],
          [
           "H021-MS22QL-T1-Q1",
           "SARCNOS"
          ],
          [
           "H021-MNL9VQ-T2-Q1",
           "SARCNOS"
          ],
          [
           "H021-PLHLBV-M1-Q1",
           "SARCNOS"
          ],
          [
           "H021-2YLHAZ-M1-Q1",
           "SARCNOS"
          ],
          [
           "H021-PZ9DHG-M1-Q1",
           "SARCNOS"
          ],
          [
           "H021-PLHLBV-M2-Q1",
           "SARCNOS"
          ],
          [
           "H021-6QF116-T1-Q1",
           "SARCNOS"
          ],
          [
           "I047-036-1T1-P1",
           "SARCNOS"
          ],
          [
           "H021-W1H6TD-M1-Q1",
           "SARCNOS"
          ],
          [
           "I014-063-1M1-P1",
           "SARCNOS"
          ],
          [
           "H021-MU85Q1-T1-Q1",
           "SARCNOS"
          ],
          [
           "H021-PZL9F2-M1-Q1",
           "SARCNOS"
          ],
          [
           "H021-562UDR-M2-Q1",
           "SARCNOS"
          ],
          [
           "H021-Q8LBLJ-M2-Q1",
           "SARCNOS"
          ],
          [
           "H021-B5EN4T-M1-Q1",
           "SARCNOS"
          ],
          [
           "H021-ZFGEM1-T2-Q1",
           "SARCNOS"
          ],
          [
           "H021-7JFUWV-T1-Q1",
           "SARCNOS"
          ],
          [
           "H021-5RWYWC-M3-Q1",
           "SARCNOS"
          ],
          [
           "H021-9SHLAJ-M2-Q1",
           "SARCNOS"
          ],
          [
           "H021-1EWB61-M3-Q1",
           "SARCNOS"
          ],
          [
           "H021-MX9W82-M1-Q1",
           "SARCNOS"
          ],
          [
           "H021-KX7TXH-T2-Q1",
           "SARCNOS"
          ],
          [
           "H021-WUK3HBG-M1-Q1",
           "SARCNOS"
          ],
          [
           "H021-3Q1VYU-M13-Q1",
           "SARCNOS"
          ],
          [
           "H021-ARFSS6-T7-Q1",
           "SARCNOS"
          ],
          [
           "H021-PVPVAM-M1-Q1",
           "SARCNOS"
          ]
         ],
         "hovertemplate": "Sample name: %{customdata[0]}<br>code_oncotree: %{customdata[1]}<extra></extra>",
         "legendgroup": "SARCNOS",
         "marker": {
          "color": "#B6E880",
          "opacity": 0.7,
          "symbol": "circle"
         },
         "mode": "markers",
         "name": "SARCNOS",
         "scene": "scene",
         "showlegend": true,
         "type": "scatter3d",
         "x": {
          "bdata": "Z+QgQaEwF0G4+wRBqd8MQfGF+kAw3yZBPUISQfwnA0GrsSZBZxYdQeRRAkGbgANBYlALQctlEEHJuwlBkrcCQXSBEUFdBhFBqpIjQYpJIEEYQSFBsPQiQdYcIkF12A9Be0ogQTF0GkGdJhpBJNEmQdz/B0EriRlBkYUbQSigKUHeRSlBddYlQTckH0GzBxlBmyEAQQ0RCUH0GiBBZ/8dQbYdH0E9PBhByJ0gQZb1FEGAZ/xAvIcjQXmnFUH0xRxBUTcgQdwkJEGZJyRB2VkoQVmFKUH+RRpBSwEnQahYKkEqVCVBSj4LQQ7bAkGPXBdBBc8gQYxYGkHL/RVBjf0GQe8R9kC9nQVB2lgjQZvJI0HroyBB",
          "dtype": "f4"
         },
         "y": {
          "bdata": "JM4KwG30CsBM6C3A+c/ZPEYc2L1yDza/+LvrPatrqD7l1Pw+RQnhPGfiAL48unG/+ikHPeZH1T5orb4/7aoVvjFhqj6k/5w+7jWbPuOOxr040x4/J2m4v1lKGL82cqe/Ki5EPzK0tb4TIto+V3Q5vySlzL4Bge2/CdhGP1r8VT5mfcm+0kHXvuLjFT+lSYW9Wxk2wC1vBT/CiBq+lKdhPzF3S7+WHs0+N9bJvnHimL/leLE+dPEGv+rhRz/rLxHAKnnLPM6uEr8WLMu+uYqtPj04Tz8A/vS+cRTtPQIdjT3/uue/U234v+z+HMCy9ha/XSOZv7sB37+/IkS/K/0awMHA8r5KNZQ9RCcfwNcbG7/VFd2/",
          "dtype": "f4"
         },
         "z": {
          "bdata": "VK8FQRXjJEGnsS1B9H0zQVfTIEEYizdBMVgiQQ6wLUErGB1B8RQ1QfclNEFkhglBPw4zQU2pHUGZOyNB8/csQfyOOEF3QThBgBoDQaL8OUGjoAtBZDAHQVBOIEGLyh5Bo0EFQRf7IUGpzyBB1rE3QT6mMkHjDDBBNd8NQc3DFUE/SStBPzYqQREKHUHpVytBybslQXdHHkH1gyFBIsAJQVH7OkF21CVBGGA4QVlQL0GzvxRBOfI3QeJQEEHtEDNBYgkoQT0UOUFzgDZBRA0ZQY5TCUEydiVBf7YYQTslIUEHcgtB2OYdQc3GJEHu+idBEhIRQe6qHkEbxTBBJlg1QaUAJ0FVGzJBQtQZQcVgLEFtFydB",
          "dtype": "f4"
         }
        },
        {
         "customdata": [
          [
           "H021-BNRT5R-M1",
           "SBWDNET"
          ],
          [
           "H021-WXC9T2-M2-Q1",
           "SBWDNET"
          ]
         ],
         "hovertemplate": "Sample name: %{customdata[0]}<br>code_oncotree: %{customdata[1]}<extra></extra>",
         "legendgroup": "SBWDNET",
         "marker": {
          "color": "#FF97FF",
          "opacity": 0.7,
          "symbol": "circle"
         },
         "mode": "markers",
         "name": "SBWDNET",
         "scene": "scene",
         "showlegend": true,
         "type": "scatter3d",
         "x": {
          "bdata": "GxYYQbJkGUE=",
          "dtype": "f4"
         },
         "y": {
          "bdata": "7VsQwFfhTb8=",
          "dtype": "f4"
         },
         "z": {
          "bdata": "8iwrQftMKkE=",
          "dtype": "f4"
         }
        },
        {
         "customdata": [
          [
           "H021-VZLAHS-T1-Q1",
           "SCBC"
          ]
         ],
         "hovertemplate": "Sample name: %{customdata[0]}<br>code_oncotree: %{customdata[1]}<extra></extra>",
         "legendgroup": "SCBC",
         "marker": {
          "color": "#FECB52",
          "opacity": 0.7,
          "symbol": "circle"
         },
         "mode": "markers",
         "name": "SCBC",
         "scene": "scene",
         "showlegend": true,
         "type": "scatter3d",
         "x": {
          "bdata": "9WsLQQ==",
          "dtype": "f4"
         },
         "y": {
          "bdata": "AlM3wA==",
          "dtype": "f4"
         },
         "z": {
          "bdata": "SLoWQQ==",
          "dtype": "f4"
         }
        },
        {
         "customdata": [
          [
           "H021-SZA151-M1",
           "SCCNOS"
          ],
          [
           "H021-47FWKE-M1-E1",
           "SCCNOS"
          ],
          [
           "H021-BUB8S2-M1",
           "SCCNOS"
          ],
          [
           "H021-47FWKE-M4-Q1",
           "SCCNOS"
          ],
          [
           "H021-LU7XL3-M2-Q1",
           "SCCNOS"
          ],
          [
           "H021-3LSLZ1-M1-Q1",
           "SCCNOS"
          ],
          [
           "H021-HJDXWD-M2-Q1",
           "SCCNOS"
          ],
          [
           "H021-27B2S7-T1-Q1",
           "SCCNOS"
          ],
          [
           "H021-71N65B-M1-Q1",
           "SCCNOS"
          ]
         ],
         "hovertemplate": "Sample name: %{customdata[0]}<br>code_oncotree: %{customdata[1]}<extra></extra>",
         "legendgroup": "SCCNOS",
         "marker": {
          "color": "#636efa",
          "opacity": 0.7,
          "symbol": "circle"
         },
         "mode": "markers",
         "name": "SCCNOS",
         "scene": "scene",
         "showlegend": true,
         "type": "scatter3d",
         "x": {
          "bdata": "oXoEQZWMKEFvRQxB/BIQQR4iCEHzEB1BEG0KQfqCDkHooRBB",
          "dtype": "f4"
         },
         "y": {
          "bdata": "wRGovyDojr/weELAYnpMv7mMzL+dNCM/qpuAv08DUcBgW0W/",
          "dtype": "f4"
         },
         "z": {
          "bdata": "zOAOQUBFIkGiFC1BqEwwQRHwDEHWmg5BvmQWQZbVGEHvIS9B",
          "dtype": "f4"
         }
        },
        {
         "customdata": [
          [
           "H021-JYZC6N-T1-Q1",
           "SCCO"
          ],
          [
           "H021-R6E4X3-M1-Q1",
           "SCCO"
          ]
         ],
         "hovertemplate": "Sample name: %{customdata[0]}<br>code_oncotree: %{customdata[1]}<extra></extra>",
         "legendgroup": "SCCO",
         "marker": {
          "color": "#EF553B",
          "opacity": 0.7,
          "symbol": "circle"
         },
         "mode": "markers",
         "name": "SCCO",
         "scene": "scene",
         "showlegend": true,
         "type": "scatter3d",
         "x": {
          "bdata": "JJ0wQa5FJkE=",
          "dtype": "f4"
         },
         "y": {
          "bdata": "FC/ovtBlh70=",
          "dtype": "f4"
         },
         "z": {
          "bdata": "XmkdQcr6BkE=",
          "dtype": "f4"
         }
        },
        {
         "customdata": [
          [
           "H021-A8AWE9-T4",
           "SCHW"
          ],
          [
           "H021-A8AWE9-M3",
           "SCHW"
          ]
         ],
         "hovertemplate": "Sample name: %{customdata[0]}<br>code_oncotree: %{customdata[1]}<extra></extra>",
         "legendgroup": "SCHW",
         "marker": {
          "color": "#00cc96",
          "opacity": 0.7,
          "symbol": "circle"
         },
         "mode": "markers",
         "name": "SCHW",
         "scene": "scene",
         "showlegend": true,
         "type": "scatter3d",
         "x": {
          "bdata": "DvsPQTPoGEE=",
          "dtype": "f4"
         },
         "y": {
          "bdata": "nXNtv4nJnT4=",
          "dtype": "f4"
         },
         "z": {
          "bdata": "qpcPQcQrB0E=",
          "dtype": "f4"
         }
        },
        {
         "customdata": [
          [
           "H021-1KJALE-M1-E2",
           "SCRMS"
          ],
          [
           "H021-XQGYFN-T2-E2",
           "SCRMS"
          ],
          [
           "I067-007-2M1-P1",
           "SCRMS"
          ],
          [
           "I034-036-2T1-P1",
           "SCRMS"
          ],
          [
           "H021-CHWE2F-M1-Q1",
           "SCRMS"
          ],
          [
           "H021-LKCJEL-U1-Q1",
           "SCRMS"
          ],
          [
           "H021-VZL3LN-T1-Q1",
           "SCRMS"
          ]
         ],
         "hovertemplate": "Sample name: %{customdata[0]}<br>code_oncotree: %{customdata[1]}<extra></extra>",
         "legendgroup": "SCRMS",
         "marker": {
          "color": "#ab63fa",
          "opacity": 0.7,
          "symbol": "circle"
         },
         "mode": "markers",
         "name": "SCRMS",
         "scene": "scene",
         "showlegend": true,
         "type": "scatter3d",
         "x": {
          "bdata": "uk4JQZOvDkHfCSlBdk8nQQ1YKUGY3SpBYTANQQ==",
          "dtype": "f4"
         },
         "y": {
          "bdata": "kpWGv6mTMr45T64/sMJ9PxFkTz/zRiK+H5B2vw==",
          "dtype": "f4"
         },
         "z": {
          "bdata": "e+YJQW1IMEGFTAxBtFISQeDdEUF12RlBlkoKQQ==",
          "dtype": "f4"
         }
        },
        {
         "customdata": [
          [
           "H021-6B6H6F-T2",
           "SCSARC"
          ],
          [
           "H021-22TQMK-M1",
           "SCSARC"
          ],
          [
           "H021-WFP9B3-M1",
           "SCSARC"
          ],
          [
           "H021-RVV7AR-M1",
           "SCSARC"
          ],
          [
           "H021-CZD95Q-M3",
           "SCSARC"
          ],
          [
           "H021-Z1G45L-M4-E2",
           "SCSARC"
          ],
          [
           "H021-KW1NLB-M1",
           "SCSARC"
          ],
          [
           "H021-3H7X76-T1",
           "SCSARC"
          ],
          [
           "H021-YT3YPX-T1-Q1",
           "SCSARC"
          ],
          [
           "H021-1AV9F5-T1-Q1",
           "SCSARC"
          ],
          [
           "H021-5WGAYL-M1-Q1",
           "SCSARC"
          ],
          [
           "H021-98VBUP-M4-Q1",
           "SCSARC"
          ],
          [
           "H021-PA8FGJ-T1-Q1",
           "SCSARC"
          ],
          [
           "H021-Y27C6Y-M1-Q1",
           "SCSARC"
          ],
          [
           "H021-SX648MM-T1-Q1",
           "SCSARC"
          ]
         ],
         "hovertemplate": "Sample name: %{customdata[0]}<br>code_oncotree: %{customdata[1]}<extra></extra>",
         "legendgroup": "SCSARC",
         "marker": {
          "color": "#FFA15A",
          "opacity": 0.7,
          "symbol": "circle"
         },
         "mode": "markers",
         "name": "SCSARC",
         "scene": "scene",
         "showlegend": true,
         "type": "scatter3d",
         "x": {
          "bdata": "Fp8AQfWACUFUdwlB/roIQbJ4AkEg6hdBG9n4QPkBAkFTnxpBTGYcQZmyHUGxKhNBpPohQSksHEGF9SxB",
          "dtype": "f4"
         },
         "y": {
          "bdata": "JvnxO8txJj+zgyI/Ww9RP/lcSr96GFe9837PPlAwbsDy5ke9HVcqP7tIwT0HxSy/uwMyv5G8z79629C/",
          "dtype": "f4"
         },
         "z": {
          "bdata": "xRolQdUQJkHuSyZBV7IYQQXpMUFMMytBuJEVQe+YKkG9URRBXRYPQahyEUHA2BNBzQcOQfxuEEGU1yNB",
          "dtype": "f4"
         }
        },
        {
         "customdata": [
          [
           "I013-030-1T1-P1",
           "SCSRMS"
          ]
         ],
         "hovertemplate": "Sample name: %{customdata[0]}<br>code_oncotree: %{customdata[1]}<extra></extra>",
         "legendgroup": "SCSRMS",
         "marker": {
          "color": "#19d3f3",
          "opacity": 0.7,
          "symbol": "circle"
         },
         "mode": "markers",
         "name": "SCSRMS",
         "scene": "scene",
         "showlegend": true,
         "type": "scatter3d",
         "x": {
          "bdata": "LNQcQQ==",
          "dtype": "f4"
         },
         "y": {
          "bdata": "csuePw==",
          "dtype": "f4"
         },
         "z": {
          "bdata": "BfwRQQ==",
          "dtype": "f4"
         }
        },
        {
         "customdata": [
          [
           "H021-S48S3K-M1",
           "SDCA"
          ],
          [
           "H021-MYUT4M-M1-Q1",
           "SDCA"
          ],
          [
           "H021-EYMUVP-M3-E2",
           "SDCA"
          ],
          [
           "H021-MZWFNV-M4-Q1",
           "SDCA"
          ],
          [
           "H021-ECK6W3-M1-Q1",
           "SDCA"
          ],
          [
           "H021-QWLUMQ-M1-Q1",
           "SDCA"
          ],
          [
           "H021-L4C4GQC-M1-Q1",
           "SDCA"
          ]
         ],
         "hovertemplate": "Sample name: %{customdata[0]}<br>code_oncotree: %{customdata[1]}<extra></extra>",
         "legendgroup": "SDCA",
         "marker": {
          "color": "#FF6692",
          "opacity": 0.7,
          "symbol": "circle"
         },
         "mode": "markers",
         "name": "SDCA",
         "scene": "scene",
         "showlegend": true,
         "type": "scatter3d",
         "x": {
          "bdata": "RvoQQUjUCEGbXwRBAnsGQcDeAUG06A9BCkciQQ==",
          "dtype": "f4"
         },
         "y": {
          "bdata": "n5whwEqzVMB4OAHAtEjGv+RdH8B/zDvAIgU3wA==",
          "dtype": "f4"
         },
         "z": {
          "bdata": "kfMLQd2dHUH3cBFBP/4xQUZOEEGN6w5BZDYpQQ==",
          "dtype": "f4"
         }
        },
        {
         "customdata": [
          [
           "H021-PZY43V-T1-Q1",
           "SEBA"
          ]
         ],
         "hovertemplate": "Sample name: %{customdata[0]}<br>code_oncotree: %{customdata[1]}<extra></extra>",
         "legendgroup": "SEBA",
         "marker": {
          "color": "#B6E880",
          "opacity": 0.7,
          "symbol": "circle"
         },
         "mode": "markers",
         "name": "SEBA",
         "scene": "scene",
         "showlegend": true,
         "type": "scatter3d",
         "x": {
          "bdata": "5L4FQQ==",
          "dtype": "f4"
         },
         "y": {
          "bdata": "On0nwA==",
          "dtype": "f4"
         },
         "z": {
          "bdata": "v1kvQQ==",
          "dtype": "f4"
         }
        },
        {
         "customdata": [
          [
           "H021-99S7ZW-M1",
           "SEF"
          ],
          [
           "H021-5ZJP4HD-M2-Q1",
           "SEF"
          ]
         ],
         "hovertemplate": "Sample name: %{customdata[0]}<br>code_oncotree: %{customdata[1]}<extra></extra>",
         "legendgroup": "SEF",
         "marker": {
          "color": "#FF97FF",
          "opacity": 0.7,
          "symbol": "circle"
         },
         "mode": "markers",
         "name": "SEF",
         "scene": "scene",
         "showlegend": true,
         "type": "scatter3d",
         "x": {
          "bdata": "PBAKQU3lFEE=",
          "dtype": "f4"
         },
         "y": {
          "bdata": "eA67PxJXTsA=",
          "dtype": "f4"
         },
         "z": {
          "bdata": "jjAjQV8TEUE=",
          "dtype": "f4"
         }
        },
        {
         "customdata": [
          [
           "H021-WNBGXXT-M1-Q1",
           "SEM"
          ]
         ],
         "hovertemplate": "Sample name: %{customdata[0]}<br>code_oncotree: %{customdata[1]}<extra></extra>",
         "legendgroup": "SEM",
         "marker": {
          "color": "#FECB52",
          "opacity": 0.7,
          "symbol": "circle"
         },
         "mode": "markers",
         "name": "SEM",
         "scene": "scene",
         "showlegend": true,
         "type": "scatter3d",
         "x": {
          "bdata": "6CcXQQ==",
          "dtype": "f4"
         },
         "y": {
          "bdata": "MhvIvw==",
          "dtype": "f4"
         },
         "z": {
          "bdata": "5qMSQQ==",
          "dtype": "f4"
         }
        },
        {
         "customdata": [
          [
           "H021-Y3YD-M2-Q1",
           "SFT"
          ],
          [
           "H021-2159PW-T1",
           "SFT"
          ],
          [
           "H021-NRXWGD-T1",
           "SFT"
          ],
          [
           "H021-ZY7D-T3",
           "SFT"
          ],
          [
           "P021-W00D-T1",
           "SFT"
          ],
          [
           "H021-735C3K-M4",
           "SFT"
          ],
          [
           "H021-RBZZUP-M5-E2",
           "SFT"
          ],
          [
           "H021-RBYFAX-M2-E2",
           "SFT"
          ],
          [
           "H021-WFU8BQ-M5",
           "SFT"
          ],
          [
           "H021-89DRF6-M1",
           "SFT"
          ],
          [
           "H021-A8HUB1-M2",
           "SFT"
          ],
          [
           "H021-9CRH8W-M1-Q1",
           "SFT"
          ],
          [
           "H021-8M945W-M1-Q1",
           "SFT"
          ],
          [
           "H021-Y3YD-M1-Q1",
           "SFT"
          ],
          [
           "H021-WEZF97-T1-Q1",
           "SFT"
          ],
          [
           "H021-9PAP7Z-T1-Q1",
           "SFT"
          ],
          [
           "H021-NPNMKT-M2-Q1",
           "SFT"
          ],
          [
           "H021-7SPTSF-M1-Q1",
           "SFT"
          ],
          [
           "H021-H4LDLN-M3-Q1",
           "SFT"
          ],
          [
           "H021-H4LDLN-M6-Q1",
           "SFT"
          ],
          [
           "H021-Y423P1-T1-Q1",
           "SFT"
          ],
          [
           "H021-3B93VX-T1-Q1",
           "SFT"
          ],
          [
           "H021-CD5WYJ-M1-Q1",
           "SFT"
          ],
          [
           "H021-MJBJME-M1-Q1",
           "SFT"
          ],
          [
           "H021-Y3YD-M3-Q1",
           "SFT"
          ],
          [
           "H021-WHMPGR-T1-Q1",
           "SFT"
          ],
          [
           "H021-9PAP7Z-T6-Q1",
           "SFT"
          ],
          [
           "H021-KV1KAC-M1-Q1",
           "SFT"
          ],
          [
           "H021-J2CM3X-T1-E1",
           "SFT"
          ],
          [
           "H021-SCEZST-U1-E2",
           "SFT"
          ],
          [
           "H021-A8HUB1-M1-Q2",
           "SFT"
          ],
          [
           "H021-VMUDYV-M1-Q1",
           "SFT"
          ],
          [
           "H021-VMUDYV-M1-Q1-R2",
           "SFT"
          ],
          [
           "H021-SCEZST-M1-Q1",
           "SFT"
          ],
          [
           "H021-9PAP7Z-T4-Q1",
           "SFT"
          ],
          [
           "H021-7UYYL8V-M1-Q1",
           "SFT"
          ],
          [
           "H021-ATYVKC-T4-Q1",
           "SFT"
          ],
          [
           "H021-JGEJVB-M3-Q1",
           "SFT"
          ],
          [
           "H021-S2C8T4P-T1-Q1",
           "SFT"
          ]
         ],
         "hovertemplate": "Sample name: %{customdata[0]}<br>code_oncotree: %{customdata[1]}<extra></extra>",
         "legendgroup": "SFT",
         "marker": {
          "color": "#636efa",
          "opacity": 0.7,
          "symbol": "circle"
         },
         "mode": "markers",
         "name": "SFT",
         "scene": "scene",
         "showlegend": true,
         "type": "scatter3d",
         "x": {
          "bdata": "zo4JQUziAEHU5QJB4JwRQYyJE0FlQBdB4YkWQWldGkHEQSRBp8EBQe/HJUHm2BZBMSUrQTdq/kB0oRJBAwUZQdKOGEFqdQ1BaGUlQXQKJUFI3yJBGHEbQVyKHkHO3htB8XP8QGd3L0HGOyNBC+cPQT5wCkHJkQRBrkgSQVKUGkHDYhFBJvAVQVFnKUF5ug9B76QaQQheDkHK7BhB",
          "dtype": "f4"
         },
         "y": {
          "bdata": "hBcvv0cSGr2c7kS+nd99PmJ8Fz446C++b6Oku5metL85Woy/qy/kv3XCmb4ItZA+DddLv7SWhry9ply/rr5Lv/snhL92PEO/RAlUvurRaL4Veua/kKgyvhWuur81/42/XUPdvyYxBMBUBY2/IYidvqkcs7+jtM+/1FOPv0cKKb+2vMo9/+2CPHGeNb8KKwK/0rBKv9qjjr45nyi/",
          "dtype": "f4"
         },
         "z": {
          "bdata": "7zMPQaXJI0Hq1yhBc9UgQa7OIUFtbSxBvoMjQbD5CEHFCylBjqMrQdMaDUFCMBlBoLQXQbEeFkH0qhxB3+ovQR5fGUFUwRFB8SEoQXZrJkEyaDJBVuAjQTVeJUFVLSNBPDQsQUZPIEFAvzJBDEMdQbq2JUGLRCxBWlkyQZj/MEEUTCBBGLMhQUNjH0FnIx9B3bIzQZ4lC0F+7jJB",
          "dtype": "f4"
         }
        },
        {
         "customdata": [
          [
           "H021-3WWFLS-T2",
           "SFTCNS"
          ],
          [
           "H021-3WWFLS-T3",
           "SFTCNS"
          ],
          [
           "H021-8717LP-M1-Q1",
           "SFTCNS"
          ]
         ],
         "hovertemplate": "Sample name: %{customdata[0]}<br>code_oncotree: %{customdata[1]}<extra></extra>",
         "legendgroup": "SFTCNS",
         "marker": {
          "color": "#EF553B",
          "opacity": 0.7,
          "symbol": "circle"
         },
         "mode": "markers",
         "name": "SFTCNS",
         "scene": "scene",
         "showlegend": true,
         "type": "scatter3d",
         "x": {
          "bdata": "3DwMQZeSCkHgT/5A",
          "dtype": "f4"
         },
         "y": {
          "bdata": "/2QCPVCy/z5+btK/",
          "dtype": "f4"
         },
         "z": {
          "bdata": "mKQzQSYjJ0Fs8ypB",
          "dtype": "f4"
         }
        },
        {
         "customdata": [
          [
           "H021-188HA2-T2",
           "SGCS"
          ]
         ],
         "hovertemplate": "Sample name: %{customdata[0]}<br>code_oncotree: %{customdata[1]}<extra></extra>",
         "legendgroup": "SGCS",
         "marker": {
          "color": "#00cc96",
          "opacity": 0.7,
          "symbol": "circle"
         },
         "mode": "markers",
         "name": "SGCS",
         "scene": "scene",
         "showlegend": true,
         "type": "scatter3d",
         "x": {
          "bdata": "oXT/QA==",
          "dtype": "f4"
         },
         "y": {
          "bdata": "86ymvQ==",
          "dtype": "f4"
         },
         "z": {
          "bdata": "EOkiQQ==",
          "dtype": "f4"
         }
        },
        {
         "customdata": [
          [
           "H021-25ABKZ-M1-Q1",
           "SNA"
          ],
          [
           "H021-HXWUFC-M1-Q1",
           "SNA"
          ],
          [
           "H021-S5NH1G-M1-Q1",
           "SNA"
          ]
         ],
         "hovertemplate": "Sample name: %{customdata[0]}<br>code_oncotree: %{customdata[1]}<extra></extra>",
         "legendgroup": "SNA",
         "marker": {
          "color": "#ab63fa",
          "opacity": 0.7,
          "symbol": "circle"
         },
         "mode": "markers",
         "name": "SNA",
         "scene": "scene",
         "showlegend": true,
         "type": "scatter3d",
         "x": {
          "bdata": "vZQIQQq9GUGVgCZB",
          "dtype": "f4"
         },
         "y": {
          "bdata": "lkKAwI0y478AcgC+",
          "dtype": "f4"
         },
         "z": {
          "bdata": "vXImQR3nCUGsxzFB",
          "dtype": "f4"
         }
        },
        {
         "customdata": [
          [
           "H021-UC84HLV-T2-Q1",
           "SNSC"
          ]
         ],
         "hovertemplate": "Sample name: %{customdata[0]}<br>code_oncotree: %{customdata[1]}<extra></extra>",
         "legendgroup": "SNSC",
         "marker": {
          "color": "#FFA15A",
          "opacity": 0.7,
          "symbol": "circle"
         },
         "mode": "markers",
         "name": "SNSC",
         "scene": "scene",
         "showlegend": true,
         "type": "scatter3d",
         "x": {
          "bdata": "FK3uQA==",
          "dtype": "f4"
         },
         "y": {
          "bdata": "+cZYvw==",
          "dtype": "f4"
         },
         "z": {
          "bdata": "weQhQQ==",
          "dtype": "f4"
         }
        },
        {
         "customdata": [
          [
           "H021-6MT8KGA-M2-Q1",
           "SNUC"
          ]
         ],
         "hovertemplate": "Sample name: %{customdata[0]}<br>code_oncotree: %{customdata[1]}<extra></extra>",
         "legendgroup": "SNUC",
         "marker": {
          "color": "#19d3f3",
          "opacity": 0.7,
          "symbol": "circle"
         },
         "mode": "markers",
         "name": "SNUC",
         "scene": "scene",
         "showlegend": true,
         "type": "scatter3d",
         "x": {
          "bdata": "BWEcQQ==",
          "dtype": "f4"
         },
         "y": {
          "bdata": "FIglwA==",
          "dtype": "f4"
         },
         "z": {
          "bdata": "86gkQQ==",
          "dtype": "f4"
         }
        },
        {
         "customdata": [
          [
           "H021-N5DBP9-T1-Q1",
           "SPDAC"
          ]
         ],
         "hovertemplate": "Sample name: %{customdata[0]}<br>code_oncotree: %{customdata[1]}<extra></extra>",
         "legendgroup": "SPDAC",
         "marker": {
          "color": "#FF6692",
          "opacity": 0.7,
          "symbol": "circle"
         },
         "mode": "markers",
         "name": "SPDAC",
         "scene": "scene",
         "showlegend": true,
         "type": "scatter3d",
         "x": {
          "bdata": "QeQWQQ==",
          "dtype": "f4"
         },
         "y": {
          "bdata": "enDPvw==",
          "dtype": "f4"
         },
         "z": {
          "bdata": "Mb8GQQ==",
          "dtype": "f4"
         }
        },
        {
         "customdata": [
          [
           "H021-QDYNKT-M3-Q1",
           "SRCCR"
          ]
         ],
         "hovertemplate": "Sample name: %{customdata[0]}<br>code_oncotree: %{customdata[1]}<extra></extra>",
         "legendgroup": "SRCCR",
         "marker": {
          "color": "#B6E880",
          "opacity": 0.7,
          "symbol": "circle"
         },
         "mode": "markers",
         "name": "SRCCR",
         "scene": "scene",
         "showlegend": true,
         "type": "scatter3d",
         "x": {
          "bdata": "O60IQQ==",
          "dtype": "f4"
         },
         "y": {
          "bdata": "6j9awA==",
          "dtype": "f4"
         },
         "z": {
          "bdata": "S3QuQQ==",
          "dtype": "f4"
         }
        },
        {
         "customdata": [
          [
           "H021-HC65CS-M3-Q1",
           "SSRCC"
          ],
          [
           "H021-AGHTLK-M1-Q1",
           "SSRCC"
          ],
          [
           "H021-51T9XG-M8-Q1",
           "SSRCC"
          ],
          [
           "H021-QDYNKT-M1-Q1",
           "SSRCC"
          ]
         ],
         "hovertemplate": "Sample name: %{customdata[0]}<br>code_oncotree: %{customdata[1]}<extra></extra>",
         "legendgroup": "SSRCC",
         "marker": {
          "color": "#FF97FF",
          "opacity": 0.7,
          "symbol": "circle"
         },
         "mode": "markers",
         "name": "SSRCC",
         "scene": "scene",
         "showlegend": true,
         "type": "scatter3d",
         "x": {
          "bdata": "++MeQXEfE0FLegpBhXgGQQ==",
          "dtype": "f4"
         },
         "y": {
          "bdata": "SHusv/F6m792aH/AGNVGwA==",
          "dtype": "f4"
         },
         "z": {
          "bdata": "P9MsQSELFUHM+yFB8bouQQ==",
          "dtype": "f4"
         }
        },
        {
         "customdata": [
          [
           "H021-SEPUGX-M1",
           "STAD"
          ],
          [
           "H021-JLFYAT-T2-Q1",
           "STAD"
          ],
          [
           "H021-BFYBGG-M2-Q1",
           "STAD"
          ],
          [
           "H021-DEG2RU-M1-Q1",
           "STAD"
          ],
          [
           "H021-1BCX1F-M1-Q1",
           "STAD"
          ],
          [
           "H021-9GE5AQ-M1-Q1",
           "STAD"
          ],
          [
           "H021-TEVZ11-T1-Q2",
           "STAD"
          ]
         ],
         "hovertemplate": "Sample name: %{customdata[0]}<br>code_oncotree: %{customdata[1]}<extra></extra>",
         "legendgroup": "STAD",
         "marker": {
          "color": "#FECB52",
          "opacity": 0.7,
          "symbol": "circle"
         },
         "mode": "markers",
         "name": "STAD",
         "scene": "scene",
         "showlegend": true,
         "type": "scatter3d",
         "x": {
          "bdata": "VREDQX1JAEH9yAdB9QMFQS3WLUHCIRhB4rACQQ==",
          "dtype": "f4"
         },
         "y": {
          "bdata": "lvf3v1yOg77S/2+/dxrev8dyFsAtpPy/2KZTwA==",
          "dtype": "f4"
         },
         "z": {
          "bdata": "5ZoNQf1HKkG9KA1BYQwwQd5pLUGyPx5Bc/IkQQ==",
          "dtype": "f4"
         }
        },
        {
         "customdata": [
          [
           "H021-5PS3DS-M1",
           "SYNS"
          ],
          [
           "H021-DNB4KV-T2",
           "SYNS"
          ],
          [
           "H021-DNMH-T2",
           "SYNS"
          ],
          [
           "H021-SEET2F-T1",
           "SYNS"
          ],
          [
           "H021-VMCXJC-M1",
           "SYNS"
          ],
          [
           "H021-MXRQ8Q-M1",
           "SYNS"
          ],
          [
           "H021-3CX96H-T1",
           "SYNS"
          ],
          [
           "H021-LGESLH-T2",
           "SYNS"
          ],
          [
           "I070-014-103148",
           "SYNS"
          ],
          [
           "H021-ALTZ5K-M1",
           "SYNS"
          ],
          [
           "H021-X16BXN-M1",
           "SYNS"
          ],
          [
           "I054-034-226668",
           "SYNS"
          ],
          [
           "H021-UP3EF1-U4-E2",
           "SYNS"
          ],
          [
           "H021-81SMLL-M4",
           "SYNS"
          ],
          [
           "H021-G6YVGM-T2-E2",
           "SYNS"
          ],
          [
           "H021-G6YVGM-T14-E2",
           "SYNS"
          ],
          [
           "I037-010-9T1-P1",
           "SYNS"
          ],
          [
           "I062-062-1T1-P1",
           "SYNS"
          ],
          [
           "H021-FZXNJ1-M1-E1",
           "SYNS"
          ],
          [
           "H021-KXNR54-M2",
           "SYNS"
          ],
          [
           "I019-005-1M1-P1",
           "SYNS"
          ],
          [
           "H021-6G8DSB-M1",
           "SYNS"
          ],
          [
           "H021-4ZKKR5-M2",
           "SYNS"
          ],
          [
           "H021-4KDJS6-T1",
           "SYNS"
          ],
          [
           "H021-QTMDK2-M1",
           "SYNS"
          ],
          [
           "H021-JQ6WER-T1",
           "SYNS"
          ],
          [
           "H021-PMVK1Y-T1",
           "SYNS"
          ],
          [
           "I023-065-9T1-P1",
           "SYNS"
          ],
          [
           "H021-7KW87B-T1-Q1",
           "SYNS"
          ],
          [
           "H021-Q4XWWQ-T1-Q1",
           "SYNS"
          ],
          [
           "H021-M9TTMF-M2-Q1",
           "SYNS"
          ],
          [
           "H021-M9TTMF-M1-Q1",
           "SYNS"
          ],
          [
           "H021-MN5PTN-T1-Q1",
           "SYNS"
          ],
          [
           "H021-E7U1N6-M1-Q1",
           "SYNS"
          ],
          [
           "H021-972NZ9-M1-Q1",
           "SYNS"
          ],
          [
           "H021-AZGSLR-T1-Q1",
           "SYNS"
          ],
          [
           "I058-007-M1",
           "SYNS"
          ],
          [
           "H021-3WMWU8-M1-Q1",
           "SYNS"
          ],
          [
           "I015-025-3T1-P1",
           "SYNS"
          ],
          [
           "H021-Z1ALP4-M1-Q1",
           "SYNS"
          ],
          [
           "H021-RBZMVF-T3-Q1",
           "SYNS"
          ],
          [
           "H021-24SMQ7-M3-Q1",
           "SYNS"
          ],
          [
           "H021-VHAT8U-T3-Q1",
           "SYNS"
          ],
          [
           "H021-24FHXA-M1-Q1",
           "SYNS"
          ],
          [
           "H021-TWC1FN-T31-Q1",
           "SYNS"
          ],
          [
           "H021-TWC1FN-T61-Q1",
           "SYNS"
          ],
          [
           "H021-PJ6GF8-T1-Q1",
           "SYNS"
          ],
          [
           "H021-ASEGT9-M1-Q1",
           "SYNS"
          ],
          [
           "H021-ASEGT9-M2-Q1",
           "SYNS"
          ],
          [
           "I063-069-0T1-P1",
           "SYNS"
          ],
          [
           "H021-KLE6JW-T4-Q1",
           "SYNS"
          ],
          [
           "H021-STG51K-M3-Q1",
           "SYNS"
          ],
          [
           "H021-3MG4UY-T1-Q1",
           "SYNS"
          ],
          [
           "H021-8EFMUF-T2-Q1",
           "SYNS"
          ],
          [
           "H021-L2R2M9-T1-Q1",
           "SYNS"
          ],
          [
           "H021-L2R2M9-T2-Q1",
           "SYNS"
          ],
          [
           "H021-SW756U-M2-Q1",
           "SYNS"
          ],
          [
           "H021-G797AT-M1-Q1",
           "SYNS"
          ],
          [
           "H021-FHFA7V-M1-Q1",
           "SYNS"
          ],
          [
           "H021-4WPR7B-M5-Q1",
           "SYNS"
          ],
          [
           "H021-H7537S-M1-Q1",
           "SYNS"
          ],
          [
           "H021-A8M4KJ-M1-Q1",
           "SYNS"
          ],
          [
           "H021-W8WP7AU-T2-Q1",
           "SYNS"
          ],
          [
           "H021-FHFA7V-M3-Q1",
           "SYNS"
          ],
          [
           "H021-RBZMVF-M1-Q1",
           "SYNS"
          ],
          [
           "H021-81PZGRS-M4-Q1",
           "SYNS"
          ],
          [
           "H021-LFQU91A-M2-Q1",
           "SYNS"
          ],
          [
           "H021-RMUM9JY-T1-Q1",
           "SYNS"
          ],
          [
           "H021-LFQU91A-M2-Q1-R2",
           "SYNS"
          ],
          [
           "H021-RMUM9JY-T1-Q1-R2",
           "SYNS"
          ],
          [
           "H021-GRJDJG3-M1-Q1",
           "SYNS"
          ]
         ],
         "hovertemplate": "Sample name: %{customdata[0]}<br>code_oncotree: %{customdata[1]}<extra></extra>",
         "legendgroup": "SYNS",
         "marker": {
          "color": "#636efa",
          "opacity": 0.7,
          "symbol": "circle"
         },
         "mode": "markers",
         "name": "SYNS",
         "scene": "scene",
         "showlegend": true,
         "type": "scatter3d",
         "x": {
          "bdata": "l5YKQfWXE0EvohNBswkWQaYi+0DOSQlB5wAJQayUC0EuaSdBsKQaQSvfGUHMLSlBzTYPQQnmHEHqMhNBtxQTQT5qGUGM5xtB3tAUQfJNFkHafRNBtR0qQfNXHEEXOyFBF+AfQVnrD0GwxidBXC8TQSSsHEHPlCtBSMcWQQUHJEFd/R1BkvsbQePRLUG+2htBrnQbQbVdH0Fd0x1Bg34qQcsNHEF0ehlBttgRQbyAGEGisSNBczQhQVp4FEFX4SFBZN0fQboxDUGwxhxBlWUaQRi7F0Gofh5Bq4IjQfK9JkEEYBRB6pzqQASZIkECmC5BMuwWQURQHEHGywZBPbEUQefXF0Eg4yRBRdQQQamrFEH83BFB2RkVQefRDEE=",
          "dtype": "f4"
         },
         "y": {
          "bdata": "JX0RwHVugb/+foG/Dgxjv1x5AcBH5RU/QcJXP2ZeBT/ctgE/EfgHP1ul8T7fVB4/y8oYPwJZBb8/37S/50+ov9RJYD95mkQ/oIlsv0zFhL+GRt2/c7VEv3Na1D7vb2G/3FNIv/eQOMB+/dG/maaXv0Gvd79+a9y/CV4cv6pfqb4BvW2/Zbgov89Egb7XsRm+b7qpPhv7sr/ojiS/NlGAvlGvbb8MLiw+onqDv5XCzr/fez8+6gqVPhtf5r8GluG9IHkNPnP2BsBBgY6/x6i3vxLwmb/G9za/rcmqPhmIoj5O2B6/5+Lgv68y0r9+7hLASIT7v7kIwb8uIx3Ai5lWv9fS2r9xS7i/sgbSv2YilL/jTby/feyPv0vZTr4=",
          "dtype": "f4"
         },
         "z": {
          "bdata": "HRwmQcI0DEEcVQtByr8RQW8jM0GRUidBQqIXQSGoD0GL5CNBYqAEQRTvA0FneB5BaUwHQfIaCUFkYhNBC7oUQWsXDEGAMwpBUkIGQetuH0E7VRBBNJoRQeQ1FkEGjRFBgIkPQXoINkGrJSVBJgoRQbuBPUFsXi1BYMwtQeHiHEGOMQxB/d4KQYayGUGmZgpBIQIKQY0ZGUGuswlBBeUhQQ/0EUFd5w5BJEEOQSOpEEGaAhNBfLMWQfWvLEEsGBBBeBUJQdUOCkGozBxB1K4RQWQvIEHbQx1BspYaQcY/IEFTQxNBL60QQXkHKkEAEi5BtFMRQarAEEGnpilB8mgzQbu2EkEiHRhB+cMGQSLABkGbqQhBWR4JQSaqBkE=",
          "dtype": "f4"
         }
        },
        {
         "customdata": [
          [
           "H021-799E2B-M1",
           "TCCA"
          ]
         ],
         "hovertemplate": "Sample name: %{customdata[0]}<br>code_oncotree: %{customdata[1]}<extra></extra>",
         "legendgroup": "TCCA",
         "marker": {
          "color": "#EF553B",
          "opacity": 0.7,
          "symbol": "circle"
         },
         "mode": "markers",
         "name": "TCCA",
         "scene": "scene",
         "showlegend": true,
         "type": "scatter3d",
         "x": {
          "bdata": "BtgjQQ==",
          "dtype": "f4"
         },
         "y": {
          "bdata": "cP/Yvw==",
          "dtype": "f4"
         },
         "z": {
          "bdata": "wCYRQQ==",
          "dtype": "f4"
         }
        },
        {
         "customdata": [
          [
           "H021-KLAV6A-M6-Q1",
           "THAP"
          ],
          [
           "H021-8HZGNY-T1-Q1",
           "THAP"
          ],
          [
           "H021-CV2H9C-M2-Q1",
           "THAP"
          ],
          [
           "H021-919B7L-M2-Q1",
           "THAP"
          ],
          [
           "H021-8XMJ4MY-T1-Q1",
           "THAP"
          ]
         ],
         "hovertemplate": "Sample name: %{customdata[0]}<br>code_oncotree: %{customdata[1]}<extra></extra>",
         "legendgroup": "THAP",
         "marker": {
          "color": "#00cc96",
          "opacity": 0.7,
          "symbol": "circle"
         },
         "mode": "markers",
         "name": "THAP",
         "scene": "scene",
         "showlegend": true,
         "type": "scatter3d",
         "x": {
          "bdata": "2qQeQR8DFUE4qy1BdnIdQRd6KUE=",
          "dtype": "f4"
         },
         "y": {
          "bdata": "mTYAv5phJsCXXBXAg8EVwMv/vL8=",
          "dtype": "f4"
         },
         "z": {
          "bdata": "bk4fQQVpDEEydiBBWTcaQQ1UG0E=",
          "dtype": "f4"
         }
        },
        {
         "customdata": [
          [
           "H021-GHDU6W-M1",
           "THFO"
          ]
         ],
         "hovertemplate": "Sample name: %{customdata[0]}<br>code_oncotree: %{customdata[1]}<extra></extra>",
         "legendgroup": "THFO",
         "marker": {
          "color": "#ab63fa",
          "opacity": 0.7,
          "symbol": "circle"
         },
         "mode": "markers",
         "name": "THFO",
         "scene": "scene",
         "showlegend": true,
         "type": "scatter3d",
         "x": {
          "bdata": "0UwYQQ==",
          "dtype": "f4"
         },
         "y": {
          "bdata": "hJMawA==",
          "dtype": "f4"
         },
         "z": {
          "bdata": "q0kRQQ==",
          "dtype": "f4"
         }
        },
        {
         "customdata": [
          [
           "H021-T5KDDN-M2-Q1",
           "THHC"
          ],
          [
           "H021-RE7R1S-M1-Q1",
           "THHC"
          ]
         ],
         "hovertemplate": "Sample name: %{customdata[0]}<br>code_oncotree: %{customdata[1]}<extra></extra>",
         "legendgroup": "THHC",
         "marker": {
          "color": "#FFA15A",
          "opacity": 0.7,
          "symbol": "circle"
         },
         "mode": "markers",
         "name": "THHC",
         "scene": "scene",
         "showlegend": true,
         "type": "scatter3d",
         "x": {
          "bdata": "h6AAQbpIGUE=",
          "dtype": "f4"
         },
         "y": {
          "bdata": "BhEXwHntob8=",
          "dtype": "f4"
         },
         "z": {
          "bdata": "N4UcQSZLPEE=",
          "dtype": "f4"
         }
        },
        {
         "customdata": [
          [
           "H021-1M19YX-M5-Q1",
           "THME"
          ],
          [
           "H021-YUSQ3A-M1-Q1",
           "THME"
          ],
          [
           "H021-F69LAU-M1-Q1",
           "THME"
          ]
         ],
         "hovertemplate": "Sample name: %{customdata[0]}<br>code_oncotree: %{customdata[1]}<extra></extra>",
         "legendgroup": "THME",
         "marker": {
          "color": "#19d3f3",
          "opacity": 0.7,
          "symbol": "circle"
         },
         "mode": "markers",
         "name": "THME",
         "scene": "scene",
         "showlegend": true,
         "type": "scatter3d",
         "x": {
          "bdata": "/bYdQaZaIkHRAwBB",
          "dtype": "f4"
         },
         "y": {
          "bdata": "ZoIuv5JcIsANOxrA",
          "dtype": "f4"
         },
         "z": {
          "bdata": "zq8ZQR+kLEHGcA9B",
          "dtype": "f4"
         }
        },
        {
         "customdata": [
          [
           "H021-CEXBTN-M1-Q1",
           "THPA"
          ]
         ],
         "hovertemplate": "Sample name: %{customdata[0]}<br>code_oncotree: %{customdata[1]}<extra></extra>",
         "legendgroup": "THPA",
         "marker": {
          "color": "#FF6692",
          "opacity": 0.7,
          "symbol": "circle"
         },
         "mode": "markers",
         "name": "THPA",
         "scene": "scene",
         "showlegend": true,
         "type": "scatter3d",
         "x": {
          "bdata": "NYj7QA==",
          "dtype": "f4"
         },
         "y": {
          "bdata": "28E5wA==",
          "dtype": "f4"
         },
         "z": {
          "bdata": "L4wvQQ==",
          "dtype": "f4"
         }
        },
        {
         "customdata": [
          [
           "H021-F3N5LJ-T1-Q1",
           "THPD"
          ],
          [
           "H021-MNL1EH-T4-Q1",
           "THPD"
          ],
          [
           "H021-DGTL6K-M2-Q1",
           "THPD"
          ],
          [
           "H021-LXTSW2M-M1-Q1",
           "THPD"
          ],
          [
           "H021-LXTSW2M-M1-Q1-R2",
           "THPD"
          ],
          [
           "H021-DGTL6K-M2-Q1-R2",
           "THPD"
          ]
         ],
         "hovertemplate": "Sample name: %{customdata[0]}<br>code_oncotree: %{customdata[1]}<extra></extra>",
         "legendgroup": "THPD",
         "marker": {
          "color": "#B6E880",
          "opacity": 0.7,
          "symbol": "circle"
         },
         "mode": "markers",
         "name": "THPD",
         "scene": "scene",
         "showlegend": true,
         "type": "scatter3d",
         "x": {
          "bdata": "SBgaQc+vGUEyIPxA+vIKQXRTCkHrmPtA",
          "dtype": "f4"
         },
         "y": {
          "bdata": "r/kewHOvor/PwFPAkD0GwDX9DcAKnVHA",
          "dtype": "f4"
         },
         "z": {
          "bdata": "eqUUQTloO0GIaitBStEIQeszCkHosypB",
          "dtype": "f4"
         }
        },
        {
         "customdata": [
          [
           "H021-ECKDKR-M3",
           "THYC"
          ],
          [
           "H021-C444S1-M2-Q1",
           "THYC"
          ],
          [
           "H021-5Y7TN1-T1",
           "THYC"
          ],
          [
           "H021-AR6LUZ-T4-E2",
           "THYC"
          ],
          [
           "H021-DS39PP-M2-E2",
           "THYC"
          ],
          [
           "H021-FKPP-T1",
           "THYC"
          ],
          [
           "H021-VVEHNT-M2",
           "THYC"
          ],
          [
           "H021-WDZGV8-M1-E1",
           "THYC"
          ],
          [
           "H021-AW4DMR-M1-Q1",
           "THYC"
          ],
          [
           "H021-WWWN11-M1-Q1",
           "THYC"
          ],
          [
           "H021-43SYEG-M1-Q1",
           "THYC"
          ],
          [
           "H021-LL58RY-M1-Q1",
           "THYC"
          ],
          [
           "H021-3VP39G-M1-Q1",
           "THYC"
          ],
          [
           "H021-NMBHY8L-M1-Q1",
           "THYC"
          ]
         ],
         "hovertemplate": "Sample name: %{customdata[0]}<br>code_oncotree: %{customdata[1]}<extra></extra>",
         "legendgroup": "THYC",
         "marker": {
          "color": "#FF97FF",
          "opacity": 0.7,
          "symbol": "circle"
         },
         "mode": "markers",
         "name": "THYC",
         "scene": "scene",
         "showlegend": true,
         "type": "scatter3d",
         "x": {
          "bdata": "3hgjQfQ1IEFRmx1BJToBQaaPCEFrhQVBMlkWQVLwBUG5OwFB2mgNQRKpGUGMOSFBHR8fQZyYIEE=",
          "dtype": "f4"
         },
         "y": {
          "bdata": "cx6Dv4Te9b+DrtO/lrQLwCRHWL9bm6q//g6svyGQQcDK6B3AiqmWvyDLEsB9vSHAx9Puv39NLcA=",
          "dtype": "f4"
         },
         "z": {
          "bdata": "8OIjQZHOEEGj0hZBNMItQYMSD0GYQw5B8+QgQZT9LUFcARBBJP8PQY51DEFgXBdB71IHQd8xFkE=",
          "dtype": "f4"
         }
        },
        {
         "customdata": [
          [
           "H021-752RWG-M1-Q1",
           "TNET"
          ]
         ],
         "hovertemplate": "Sample name: %{customdata[0]}<br>code_oncotree: %{customdata[1]}<extra></extra>",
         "legendgroup": "TNET",
         "marker": {
          "color": "#FECB52",
          "opacity": 0.7,
          "symbol": "circle"
         },
         "mode": "markers",
         "name": "TNET",
         "scene": "scene",
         "showlegend": true,
         "type": "scatter3d",
         "x": {
          "bdata": "lpcGQQ==",
          "dtype": "f4"
         },
         "y": {
          "bdata": "aW8+wA==",
          "dtype": "f4"
         },
         "z": {
          "bdata": "q9osQQ==",
          "dtype": "f4"
         }
        },
        {
         "customdata": [
          [
           "H021-XX16CP-M2",
           "TSCC"
          ],
          [
           "H021-HAEC1Y-M3-Q1",
           "TSCC"
          ]
         ],
         "hovertemplate": "Sample name: %{customdata[0]}<br>code_oncotree: %{customdata[1]}<extra></extra>",
         "legendgroup": "TSCC",
         "marker": {
          "color": "#636efa",
          "opacity": 0.7,
          "symbol": "circle"
         },
         "mode": "markers",
         "name": "TSCC",
         "scene": "scene",
         "showlegend": true,
         "type": "scatter3d",
         "x": {
          "bdata": "AEAPQVT2GUE=",
          "dtype": "f4"
         },
         "y": {
          "bdata": "vkARwEqJGcA=",
          "dtype": "f4"
         },
         "z": {
          "bdata": "Xp40QeNDLkE=",
          "dtype": "f4"
         }
        },
        {
         "customdata": [
          [
           "H021-XXRVJ5-M2-Q1",
           "TSTAD"
          ]
         ],
         "hovertemplate": "Sample name: %{customdata[0]}<br>code_oncotree: %{customdata[1]}<extra></extra>",
         "legendgroup": "TSTAD",
         "marker": {
          "color": "#EF553B",
          "opacity": 0.7,
          "symbol": "circle"
         },
         "mode": "markers",
         "name": "TSTAD",
         "scene": "scene",
         "showlegend": true,
         "type": "scatter3d",
         "x": {
          "bdata": "JfkYQQ==",
          "dtype": "f4"
         },
         "y": {
          "bdata": "Ey1YwA==",
          "dtype": "f4"
         },
         "z": {
          "bdata": "iMcUQQ==",
          "dtype": "f4"
         }
        },
        {
         "customdata": [
          [
           "H021-CTSFUY-M3-Q1",
           "TT"
          ],
          [
           "H021-M3Z7W7-M1-Q1",
           "TT"
          ]
         ],
         "hovertemplate": "Sample name: %{customdata[0]}<br>code_oncotree: %{customdata[1]}<extra></extra>",
         "legendgroup": "TT",
         "marker": {
          "color": "#00cc96",
          "opacity": 0.7,
          "symbol": "circle"
         },
         "mode": "markers",
         "name": "TT",
         "scene": "scene",
         "showlegend": true,
         "type": "scatter3d",
         "x": {
          "bdata": "5NsPQYpfG0E=",
          "dtype": "f4"
         },
         "y": {
          "bdata": "w+d5wHciQMA=",
          "dtype": "f4"
         },
         "z": {
          "bdata": "0EEcQQLPFEE=",
          "dtype": "f4"
         }
        },
        {
         "customdata": [
          [
           "H021-H8WUDQ-M3",
           "UAD"
          ],
          [
           "H021-P2KAZ5-M2-Q1",
           "UAD"
          ]
         ],
         "hovertemplate": "Sample name: %{customdata[0]}<br>code_oncotree: %{customdata[1]}<extra></extra>",
         "legendgroup": "UAD",
         "marker": {
          "color": "#ab63fa",
          "opacity": 0.7,
          "symbol": "circle"
         },
         "mode": "markers",
         "name": "UAD",
         "scene": "scene",
         "showlegend": true,
         "type": "scatter3d",
         "x": {
          "bdata": "pZ8FQYmvBUE=",
          "dtype": "f4"
         },
         "y": {
          "bdata": "FMNgwLYYfsA=",
          "dtype": "f4"
         },
         "z": {
          "bdata": "seogQUHcKEE=",
          "dtype": "f4"
         }
        },
        {
         "customdata": [
          [
           "H021-54XZK4-T1",
           "UAS"
          ]
         ],
         "hovertemplate": "Sample name: %{customdata[0]}<br>code_oncotree: %{customdata[1]}<extra></extra>",
         "legendgroup": "UAS",
         "marker": {
          "color": "#FFA15A",
          "opacity": 0.7,
          "symbol": "circle"
         },
         "mode": "markers",
         "name": "UAS",
         "scene": "scene",
         "showlegend": true,
         "type": "scatter3d",
         "x": {
          "bdata": "l+4HQQ==",
          "dtype": "f4"
         },
         "y": {
          "bdata": "edpCPw==",
          "dtype": "f4"
         },
         "z": {
          "bdata": "vqcZQQ==",
          "dtype": "f4"
         }
        },
        {
         "customdata": [
          [
           "H021-28FPJC-T1-Q1",
           "UCCC"
          ]
         ],
         "hovertemplate": "Sample name: %{customdata[0]}<br>code_oncotree: %{customdata[1]}<extra></extra>",
         "legendgroup": "UCCC",
         "marker": {
          "color": "#19d3f3",
          "opacity": 0.7,
          "symbol": "circle"
         },
         "mode": "markers",
         "name": "UCCC",
         "scene": "scene",
         "showlegend": true,
         "type": "scatter3d",
         "x": {
          "bdata": "IFQGQQ==",
          "dtype": "f4"
         },
         "y": {
          "bdata": "/os8wA==",
          "dtype": "f4"
         },
         "z": {
          "bdata": "zyciQQ==",
          "dtype": "f4"
         }
        },
        {
         "customdata": [
          [
           "K26K-ZG97EH-M11-Q1",
           "UCEC"
          ]
         ],
         "hovertemplate": "Sample name: %{customdata[0]}<br>code_oncotree: %{customdata[1]}<extra></extra>",
         "legendgroup": "UCEC",
         "marker": {
          "color": "#FF6692",
          "opacity": 0.7,
          "symbol": "circle"
         },
         "mode": "markers",
         "name": "UCEC",
         "scene": "scene",
         "showlegend": true,
         "type": "scatter3d",
         "x": {
          "bdata": "wokLQQ==",
          "dtype": "f4"
         },
         "y": {
          "bdata": "EYRwwA==",
          "dtype": "f4"
         },
         "z": {
          "bdata": "vhQrQQ==",
          "dtype": "f4"
         }
        },
        {
         "customdata": [
          [
           "H021-DZ7YXK-M1-Q1",
           "UCU"
          ]
         ],
         "hovertemplate": "Sample name: %{customdata[0]}<br>code_oncotree: %{customdata[1]}<extra></extra>",
         "legendgroup": "UCU",
         "marker": {
          "color": "#B6E880",
          "opacity": 0.7,
          "symbol": "circle"
         },
         "mode": "markers",
         "name": "UCU",
         "scene": "scene",
         "showlegend": true,
         "type": "scatter3d",
         "x": {
          "bdata": "8uIFQQ==",
          "dtype": "f4"
         },
         "y": {
          "bdata": "faJmwA==",
          "dtype": "f4"
         },
         "z": {
          "bdata": "wQEiQQ==",
          "dtype": "f4"
         }
        },
        {
         "customdata": [
          [
           "H021-8SF2SV-M1-E2",
           "UELMS"
          ]
         ],
         "hovertemplate": "Sample name: %{customdata[0]}<br>code_oncotree: %{customdata[1]}<extra></extra>",
         "legendgroup": "UELMS",
         "marker": {
          "color": "#FF97FF",
          "opacity": 0.7,
          "symbol": "circle"
         },
         "mode": "markers",
         "name": "UELMS",
         "scene": "scene",
         "showlegend": true,
         "type": "scatter3d",
         "x": {
          "bdata": "PUX7QA==",
          "dtype": "f4"
         },
         "y": {
          "bdata": "/C2dvw==",
          "dtype": "f4"
         },
         "z": {
          "bdata": "+HQyQQ==",
          "dtype": "f4"
         }
        },
        {
         "customdata": [
          [
           "H021-UG7GHE-M7-Q1",
           "ULMS"
          ],
          [
           "H021-2XJ78U-M1-Q1",
           "ULMS"
          ],
          [
           "H021-MWX143-M1-Q1",
           "ULMS"
          ],
          [
           "H021-C9L8VT-T1-Q1",
           "ULMS"
          ],
          [
           "H021-DWG1JA-T1",
           "ULMS"
          ],
          [
           "H021-RYWQDW-T1",
           "ULMS"
          ],
          [
           "H021-8P81QA-T2",
           "ULMS"
          ],
          [
           "H021-H9XVGZ-M1",
           "ULMS"
          ],
          [
           "H021-JSS475-T1",
           "ULMS"
          ],
          [
           "H021-T2J7Z8-M1",
           "ULMS"
          ],
          [
           "H021-CEFU8J-T1",
           "ULMS"
          ],
          [
           "H021-BRW4ZQ-T1",
           "ULMS"
          ],
          [
           "H021-N8SFAC-M1",
           "ULMS"
          ],
          [
           "H021-T2QF9H-M1",
           "ULMS"
          ],
          [
           "H021-GW3H2S-M1",
           "ULMS"
          ],
          [
           "H021-UG7GHE-M1",
           "ULMS"
          ],
          [
           "H021-SBTRPD-M1-Q1",
           "ULMS"
          ],
          [
           "H021-H5XH4D-T1-Q1",
           "ULMS"
          ],
          [
           "H021-9Q12BY-M1-Q1",
           "ULMS"
          ],
          [
           "H021-9Q12BY-M2-Q1",
           "ULMS"
          ],
          [
           "H021-GUS5RX-M1-Q1",
           "ULMS"
          ],
          [
           "H021-ZNGJU6-T3-Q1",
           "ULMS"
          ],
          [
           "H021-V62A8V-T1-Q1",
           "ULMS"
          ]
         ],
         "hovertemplate": "Sample name: %{customdata[0]}<br>code_oncotree: %{customdata[1]}<extra></extra>",
         "legendgroup": "ULMS",
         "marker": {
          "color": "#FECB52",
          "opacity": 0.7,
          "symbol": "circle"
         },
         "mode": "markers",
         "name": "ULMS",
         "scene": "scene",
         "showlegend": true,
         "type": "scatter3d",
         "x": {
          "bdata": "wssjQcJyJEFP1iVBmfsgQQaPEkGYAw1BmHkDQRqn/EALOPpAyoYWQQuXBEEpMApBDc8AQU+rGEEhZCxBHJwlQQ5GK0FndSBBFe4fQZ6LGUGkiRRB/5IoQT4UMkE=",
          "dtype": "f4"
         },
         "y": {
          "bdata": "0MJFvpvk6r9QXya/Krb5v2Xyjb4gUTE+f4gnvjCWzT7k3gg+T7BivtbehD/Elg0/HvDMPn4XBT+Jn/e+fIhkvlA1SL/I8sg6j9ujvJjnlj4adP6+r+/Bvt5Ia78=",
          "dtype": "f4"
         },
         "z": {
          "bdata": "+T4OQZLTA0HLeThB/7pJQehXNEHn+zJB4IUjQRuTIkHuaSFB8D82QUzyE0FJ/BBB/dUpQc0TCUE5kBRBuMQMQQRWKkGo3ilByYATQbYDEEHWIRtBOcgwQVfIHkE=",
          "dtype": "f4"
         }
        },
        {
         "customdata": [
          [
           "H021-AAF75G-M2",
           "UM"
          ],
          [
           "H021-LNJLBC-M1",
           "UM"
          ],
          [
           "H021-4G8WUT-M1",
           "UM"
          ],
          [
           "H021-UB9MFS-M1-Q1",
           "UM"
          ],
          [
           "H021-UB9MFS-M3-Q1",
           "UM"
          ],
          [
           "H021-KBL991-M3-Q1",
           "UM"
          ],
          [
           "H021-338SAZ-M1",
           "UM"
          ],
          [
           "H021-QL9PAA-M1-Q1",
           "UM"
          ],
          [
           "H021-98DXXQ-M3-Q1",
           "UM"
          ],
          [
           "H021-VMUZN8-M3-Q1",
           "UM"
          ],
          [
           "H021-KV54HF-T1-Q1",
           "UM"
          ],
          [
           "H021-17Q5ZW-M1-Q1",
           "UM"
          ],
          [
           "H021-V2RUTS-M1-Q1",
           "UM"
          ],
          [
           "H021-PAQVNC-M1-Q1",
           "UM"
          ],
          [
           "H021-S3XV5V-M1-Q1",
           "UM"
          ],
          [
           "H021-E6D33M-M3-Q1",
           "UM"
          ]
         ],
         "hovertemplate": "Sample name: %{customdata[0]}<br>code_oncotree: %{customdata[1]}<extra></extra>",
         "legendgroup": "UM",
         "marker": {
          "color": "#636efa",
          "opacity": 0.7,
          "symbol": "circle"
         },
         "mode": "markers",
         "name": "UM",
         "scene": "scene",
         "showlegend": true,
         "type": "scatter3d",
         "x": {
          "bdata": "sV4EQeq9FEG3MRdBWNsRQdcWF0GVWApBW5saQboI+kCAaidBKagUQTmmF0GKUhNBBrUiQVbA/UBd5SdBkVocQQ==",
          "dtype": "f4"
         },
         "y": {
          "bdata": "dEf+vAjU378hJkW/IvUdv8nYsb+NE56/lE3wvZqEBL/B+yC/dAvpv64NlL5Lfgo9K8ZHv0dL779Xa96/1+uWvw==",
          "dtype": "f4"
         },
         "z": {
          "bdata": "dgY1QSOvIUGjYQZBUqITQWngF0HLYDhB6+QfQa2DH0Eo9ixB6cMgQeyuE0G8txpBzbwnQdMxKEHFrBtBpVMxQQ==",
          "dtype": "f4"
         }
        },
        {
         "customdata": [
          [
           "H021-978GLK-T1-Q1",
           "UNCMAL"
          ],
          [
           "H021-HPVSB4-M1-Q1",
           "UNCMAL"
          ],
          [
           "H021-MXAJXV-M1-Q1",
           "UNCMAL"
          ]
         ],
         "hovertemplate": "Sample name: %{customdata[0]}<br>code_oncotree: %{customdata[1]}<extra></extra>",
         "legendgroup": "UNCMAL",
         "marker": {
          "color": "#EF553B",
          "opacity": 0.7,
          "symbol": "circle"
         },
         "mode": "markers",
         "name": "UNCMAL",
         "scene": "scene",
         "showlegend": true,
         "type": "scatter3d",
         "x": {
          "bdata": "iV0SQcBBDEF7pihB",
          "dtype": "f4"
         },
         "y": {
          "bdata": "HgZJwHQ/gMAjLRDA",
          "dtype": "f4"
         },
         "z": {
          "bdata": "RDQvQXeYJ0F0/i9B",
          "dtype": "f4"
         }
        },
        {
         "customdata": [
          [
           "H021-AY48DS-M1-Q1",
           "UPDC"
          ]
         ],
         "hovertemplate": "Sample name: %{customdata[0]}<br>code_oncotree: %{customdata[1]}<extra></extra>",
         "legendgroup": "UPDC",
         "marker": {
          "color": "#00cc96",
          "opacity": 0.7,
          "symbol": "circle"
         },
         "mode": "markers",
         "name": "UPDC",
         "scene": "scene",
         "showlegend": true,
         "type": "scatter3d",
         "x": {
          "bdata": "QDoHQQ==",
          "dtype": "f4"
         },
         "y": {
          "bdata": "r7KBwA==",
          "dtype": "f4"
         },
         "z": {
          "bdata": "7AsqQQ==",
          "dtype": "f4"
         }
        },
        {
         "customdata": [
          [
           "H021-1G46Z9-M2-Q1",
           "URCA"
          ],
          [
           "H021-N63CHW-T7-Q1",
           "URCA"
          ]
         ],
         "hovertemplate": "Sample name: %{customdata[0]}<br>code_oncotree: %{customdata[1]}<extra></extra>",
         "legendgroup": "URCA",
         "marker": {
          "color": "#ab63fa",
          "opacity": 0.7,
          "symbol": "circle"
         },
         "mode": "markers",
         "name": "URCA",
         "scene": "scene",
         "showlegend": true,
         "type": "scatter3d",
         "x": {
          "bdata": "bKIFQUI1C0E=",
          "dtype": "f4"
         },
         "y": {
          "bdata": "5LGav0X5aMA=",
          "dtype": "f4"
         },
         "z": {
          "bdata": "SSgtQdY/GkE=",
          "dtype": "f4"
         }
        },
        {
         "customdata": [
          [
           "H021-PZCLR3-M5-Q1",
           "URMM"
          ]
         ],
         "hovertemplate": "Sample name: %{customdata[0]}<br>code_oncotree: %{customdata[1]}<extra></extra>",
         "legendgroup": "URMM",
         "marker": {
          "color": "#FFA15A",
          "opacity": 0.7,
          "symbol": "circle"
         },
         "mode": "markers",
         "name": "URMM",
         "scene": "scene",
         "showlegend": true,
         "type": "scatter3d",
         "x": {
          "bdata": "yeATQQ==",
          "dtype": "f4"
         },
         "y": {
          "bdata": "RT1Uvg==",
          "dtype": "f4"
         },
         "z": {
          "bdata": "UsEzQQ==",
          "dtype": "f4"
         }
        },
        {
         "customdata": [
          [
           "H021-F1XEE3-M3-Q1",
           "USARC"
          ]
         ],
         "hovertemplate": "Sample name: %{customdata[0]}<br>code_oncotree: %{customdata[1]}<extra></extra>",
         "legendgroup": "USARC",
         "marker": {
          "color": "#19d3f3",
          "opacity": 0.7,
          "symbol": "circle"
         },
         "mode": "markers",
         "name": "USARC",
         "scene": "scene",
         "showlegend": true,
         "type": "scatter3d",
         "x": {
          "bdata": "2YodQQ==",
          "dtype": "f4"
         },
         "y": {
          "bdata": "p/8aPg==",
          "dtype": "f4"
         },
         "z": {
          "bdata": "8SMeQQ==",
          "dtype": "f4"
         }
        },
        {
         "customdata": [
          [
           "H021-9X7HCM-M1-Q1",
           "USCC"
          ]
         ],
         "hovertemplate": "Sample name: %{customdata[0]}<br>code_oncotree: %{customdata[1]}<extra></extra>",
         "legendgroup": "USCC",
         "marker": {
          "color": "#FF6692",
          "opacity": 0.7,
          "symbol": "circle"
         },
         "mode": "markers",
         "name": "USCC",
         "scene": "scene",
         "showlegend": true,
         "type": "scatter3d",
         "x": {
          "bdata": "PM0BQQ==",
          "dtype": "f4"
         },
         "y": {
          "bdata": "WKRowA==",
          "dtype": "f4"
         },
         "z": {
          "bdata": "fjcnQQ==",
          "dtype": "f4"
         }
        },
        {
         "customdata": [
          [
           "H021-LNH5GS-M1",
           "USTAD"
          ]
         ],
         "hovertemplate": "Sample name: %{customdata[0]}<br>code_oncotree: %{customdata[1]}<extra></extra>",
         "legendgroup": "USTAD",
         "marker": {
          "color": "#B6E880",
          "opacity": 0.7,
          "symbol": "circle"
         },
         "mode": "markers",
         "name": "USTAD",
         "scene": "scene",
         "showlegend": true,
         "type": "scatter3d",
         "x": {
          "bdata": "XoMtQQ==",
          "dtype": "f4"
         },
         "y": {
          "bdata": "7VQvvw==",
          "dtype": "f4"
         },
         "z": {
          "bdata": "nXwVQQ==",
          "dtype": "f4"
         }
        },
        {
         "customdata": [
          [
           "H021-QRVGND-M2-Q1",
           "VA"
          ],
          [
           "H021-9L41LB9-M3-Q1",
           "VA"
          ]
         ],
         "hovertemplate": "Sample name: %{customdata[0]}<br>code_oncotree: %{customdata[1]}<extra></extra>",
         "legendgroup": "VA",
         "marker": {
          "color": "#FF97FF",
          "opacity": 0.7,
          "symbol": "circle"
         },
         "mode": "markers",
         "name": "VA",
         "scene": "scene",
         "showlegend": true,
         "type": "scatter3d",
         "x": {
          "bdata": "R8wCQSHyBEE=",
          "dtype": "f4"
         },
         "y": {
          "bdata": "vc5XwBJuF8A=",
          "dtype": "f4"
         },
         "z": {
          "bdata": "I1goQYSBM0E=",
          "dtype": "f4"
         }
        },
        {
         "customdata": [
          [
           "H021-25HCGP-M2-Q1",
           "VMM"
          ],
          [
           "H021-BYHFHEU-M2-Q1",
           "VMM"
          ]
         ],
         "hovertemplate": "Sample name: %{customdata[0]}<br>code_oncotree: %{customdata[1]}<extra></extra>",
         "legendgroup": "VMM",
         "marker": {
          "color": "#FECB52",
          "opacity": 0.7,
          "symbol": "circle"
         },
         "mode": "markers",
         "name": "VMM",
         "scene": "scene",
         "showlegend": true,
         "type": "scatter3d",
         "x": {
          "bdata": "ZbMhQf8MFkE=",
          "dtype": "f4"
         },
         "y": {
          "bdata": "DnIvvhYwRr4=",
          "dtype": "f4"
         },
         "z": {
          "bdata": "LvQWQeBAFUE=",
          "dtype": "f4"
         }
        },
        {
         "customdata": [
          [
           "H021-VYS51F-M1-Q1",
           "VSC"
          ],
          [
           "H021-1B7R18-M1-Q1",
           "VSC"
          ],
          [
           "H021-FUFZFT-T1-Q1",
           "VSC"
          ],
          [
           "H021-1B7R18-M7-Q1",
           "VSC"
          ]
         ],
         "hovertemplate": "Sample name: %{customdata[0]}<br>code_oncotree: %{customdata[1]}<extra></extra>",
         "legendgroup": "VSC",
         "marker": {
          "color": "#636efa",
          "opacity": 0.7,
          "symbol": "circle"
         },
         "mode": "markers",
         "name": "VSC",
         "scene": "scene",
         "showlegend": true,
         "type": "scatter3d",
         "x": {
          "bdata": "A+gAQYQIH0F9oAdBZVssQQ==",
          "dtype": "f4"
         },
         "y": {
          "bdata": "+09fwLuQCMD4FmPA3FccwA==",
          "dtype": "f4"
         },
         "z": {
          "bdata": "Np0nQYpSMkE4Bi5BSSYuQQ==",
          "dtype": "f4"
         }
        }
       ],
       "layout": {
        "height": 700,
        "legend": {
         "title": {
          "text": "code_oncotree"
         },
         "tracegroupgap": 0
        },
        "margin": {
         "b": 0,
         "l": 0,
         "r": 0,
         "t": 50
        },
        "scene": {
         "camera": {
          "eye": {
           "x": 1.5,
           "y": 1.5,
           "z": 1.5
          }
         },
         "domain": {
          "x": [
           0,
           1
          ],
          "y": [
           0,
           1
          ]
         },
         "xaxis": {
          "title": {
           "text": "UMAP 1"
          }
         },
         "yaxis": {
          "title": {
           "text": "UMAP 2"
          }
         },
         "zaxis": {
          "title": {
           "text": "UMAP 3"
          }
         }
        },
        "template": {
         "data": {
          "bar": [
           {
            "error_x": {
             "color": "#2a3f5f"
            },
            "error_y": {
             "color": "#2a3f5f"
            },
            "marker": {
             "line": {
              "color": "#E5ECF6",
              "width": 0.5
             },
             "pattern": {
              "fillmode": "overlay",
              "size": 10,
              "solidity": 0.2
             }
            },
            "type": "bar"
           }
          ],
          "barpolar": [
           {
            "marker": {
             "line": {
              "color": "#E5ECF6",
              "width": 0.5
             },
             "pattern": {
              "fillmode": "overlay",
              "size": 10,
              "solidity": 0.2
             }
            },
            "type": "barpolar"
           }
          ],
          "carpet": [
           {
            "aaxis": {
             "endlinecolor": "#2a3f5f",
             "gridcolor": "white",
             "linecolor": "white",
             "minorgridcolor": "white",
             "startlinecolor": "#2a3f5f"
            },
            "baxis": {
             "endlinecolor": "#2a3f5f",
             "gridcolor": "white",
             "linecolor": "white",
             "minorgridcolor": "white",
             "startlinecolor": "#2a3f5f"
            },
            "type": "carpet"
           }
          ],
          "choropleth": [
           {
            "colorbar": {
             "outlinewidth": 0,
             "ticks": ""
            },
            "type": "choropleth"
           }
          ],
          "contour": [
           {
            "colorbar": {
             "outlinewidth": 0,
             "ticks": ""
            },
            "colorscale": [
             [
              0,
              "#0d0887"
             ],
             [
              0.1111111111111111,
              "#46039f"
             ],
             [
              0.2222222222222222,
              "#7201a8"
             ],
             [
              0.3333333333333333,
              "#9c179e"
             ],
             [
              0.4444444444444444,
              "#bd3786"
             ],
             [
              0.5555555555555556,
              "#d8576b"
             ],
             [
              0.6666666666666666,
              "#ed7953"
             ],
             [
              0.7777777777777778,
              "#fb9f3a"
             ],
             [
              0.8888888888888888,
              "#fdca26"
             ],
             [
              1,
              "#f0f921"
             ]
            ],
            "type": "contour"
           }
          ],
          "contourcarpet": [
           {
            "colorbar": {
             "outlinewidth": 0,
             "ticks": ""
            },
            "type": "contourcarpet"
           }
          ],
          "heatmap": [
           {
            "colorbar": {
             "outlinewidth": 0,
             "ticks": ""
            },
            "colorscale": [
             [
              0,
              "#0d0887"
             ],
             [
              0.1111111111111111,
              "#46039f"
             ],
             [
              0.2222222222222222,
              "#7201a8"
             ],
             [
              0.3333333333333333,
              "#9c179e"
             ],
             [
              0.4444444444444444,
              "#bd3786"
             ],
             [
              0.5555555555555556,
              "#d8576b"
             ],
             [
              0.6666666666666666,
              "#ed7953"
             ],
             [
              0.7777777777777778,
              "#fb9f3a"
             ],
             [
              0.8888888888888888,
              "#fdca26"
             ],
             [
              1,
              "#f0f921"
             ]
            ],
            "type": "heatmap"
           }
          ],
          "histogram": [
           {
            "marker": {
             "pattern": {
              "fillmode": "overlay",
              "size": 10,
              "solidity": 0.2
             }
            },
            "type": "histogram"
           }
          ],
          "histogram2d": [
           {
            "colorbar": {
             "outlinewidth": 0,
             "ticks": ""
            },
            "colorscale": [
             [
              0,
              "#0d0887"
             ],
             [
              0.1111111111111111,
              "#46039f"
             ],
             [
              0.2222222222222222,
              "#7201a8"
             ],
             [
              0.3333333333333333,
              "#9c179e"
             ],
             [
              0.4444444444444444,
              "#bd3786"
             ],
             [
              0.5555555555555556,
              "#d8576b"
             ],
             [
              0.6666666666666666,
              "#ed7953"
             ],
             [
              0.7777777777777778,
              "#fb9f3a"
             ],
             [
              0.8888888888888888,
              "#fdca26"
             ],
             [
              1,
              "#f0f921"
             ]
            ],
            "type": "histogram2d"
           }
          ],
          "histogram2dcontour": [
           {
            "colorbar": {
             "outlinewidth": 0,
             "ticks": ""
            },
            "colorscale": [
             [
              0,
              "#0d0887"
             ],
             [
              0.1111111111111111,
              "#46039f"
             ],
             [
              0.2222222222222222,
              "#7201a8"
             ],
             [
              0.3333333333333333,
              "#9c179e"
             ],
             [
              0.4444444444444444,
              "#bd3786"
             ],
             [
              0.5555555555555556,
              "#d8576b"
             ],
             [
              0.6666666666666666,
              "#ed7953"
             ],
             [
              0.7777777777777778,
              "#fb9f3a"
             ],
             [
              0.8888888888888888,
              "#fdca26"
             ],
             [
              1,
              "#f0f921"
             ]
            ],
            "type": "histogram2dcontour"
           }
          ],
          "mesh3d": [
           {
            "colorbar": {
             "outlinewidth": 0,
             "ticks": ""
            },
            "type": "mesh3d"
           }
          ],
          "parcoords": [
           {
            "line": {
             "colorbar": {
              "outlinewidth": 0,
              "ticks": ""
             }
            },
            "type": "parcoords"
           }
          ],
          "pie": [
           {
            "automargin": true,
            "type": "pie"
           }
          ],
          "scatter": [
           {
            "fillpattern": {
             "fillmode": "overlay",
             "size": 10,
             "solidity": 0.2
            },
            "type": "scatter"
           }
          ],
          "scatter3d": [
           {
            "line": {
             "colorbar": {
              "outlinewidth": 0,
              "ticks": ""
             }
            },
            "marker": {
             "colorbar": {
              "outlinewidth": 0,
              "ticks": ""
             }
            },
            "type": "scatter3d"
           }
          ],
          "scattercarpet": [
           {
            "marker": {
             "colorbar": {
              "outlinewidth": 0,
              "ticks": ""
             }
            },
            "type": "scattercarpet"
           }
          ],
          "scattergeo": [
           {
            "marker": {
             "colorbar": {
              "outlinewidth": 0,
              "ticks": ""
             }
            },
            "type": "scattergeo"
           }
          ],
          "scattergl": [
           {
            "marker": {
             "colorbar": {
              "outlinewidth": 0,
              "ticks": ""
             }
            },
            "type": "scattergl"
           }
          ],
          "scattermap": [
           {
            "marker": {
             "colorbar": {
              "outlinewidth": 0,
              "ticks": ""
             }
            },
            "type": "scattermap"
           }
          ],
          "scattermapbox": [
           {
            "marker": {
             "colorbar": {
              "outlinewidth": 0,
              "ticks": ""
             }
            },
            "type": "scattermapbox"
           }
          ],
          "scatterpolar": [
           {
            "marker": {
             "colorbar": {
              "outlinewidth": 0,
              "ticks": ""
             }
            },
            "type": "scatterpolar"
           }
          ],
          "scatterpolargl": [
           {
            "marker": {
             "colorbar": {
              "outlinewidth": 0,
              "ticks": ""
             }
            },
            "type": "scatterpolargl"
           }
          ],
          "scatterternary": [
           {
            "marker": {
             "colorbar": {
              "outlinewidth": 0,
              "ticks": ""
             }
            },
            "type": "scatterternary"
           }
          ],
          "surface": [
           {
            "colorbar": {
             "outlinewidth": 0,
             "ticks": ""
            },
            "colorscale": [
             [
              0,
              "#0d0887"
             ],
             [
              0.1111111111111111,
              "#46039f"
             ],
             [
              0.2222222222222222,
              "#7201a8"
             ],
             [
              0.3333333333333333,
              "#9c179e"
             ],
             [
              0.4444444444444444,
              "#bd3786"
             ],
             [
              0.5555555555555556,
              "#d8576b"
             ],
             [
              0.6666666666666666,
              "#ed7953"
             ],
             [
              0.7777777777777778,
              "#fb9f3a"
             ],
             [
              0.8888888888888888,
              "#fdca26"
             ],
             [
              1,
              "#f0f921"
             ]
            ],
            "type": "surface"
           }
          ],
          "table": [
           {
            "cells": {
             "fill": {
              "color": "#EBF0F8"
             },
             "line": {
              "color": "white"
             }
            },
            "header": {
             "fill": {
              "color": "#C8D4E3"
             },
             "line": {
              "color": "white"
             }
            },
            "type": "table"
           }
          ]
         },
         "layout": {
          "annotationdefaults": {
           "arrowcolor": "#2a3f5f",
           "arrowhead": 0,
           "arrowwidth": 1
          },
          "autotypenumbers": "strict",
          "coloraxis": {
           "colorbar": {
            "outlinewidth": 0,
            "ticks": ""
           }
          },
          "colorscale": {
           "diverging": [
            [
             0,
             "#8e0152"
            ],
            [
             0.1,
             "#c51b7d"
            ],
            [
             0.2,
             "#de77ae"
            ],
            [
             0.3,
             "#f1b6da"
            ],
            [
             0.4,
             "#fde0ef"
            ],
            [
             0.5,
             "#f7f7f7"
            ],
            [
             0.6,
             "#e6f5d0"
            ],
            [
             0.7,
             "#b8e186"
            ],
            [
             0.8,
             "#7fbc41"
            ],
            [
             0.9,
             "#4d9221"
            ],
            [
             1,
             "#276419"
            ]
           ],
           "sequential": [
            [
             0,
             "#0d0887"
            ],
            [
             0.1111111111111111,
             "#46039f"
            ],
            [
             0.2222222222222222,
             "#7201a8"
            ],
            [
             0.3333333333333333,
             "#9c179e"
            ],
            [
             0.4444444444444444,
             "#bd3786"
            ],
            [
             0.5555555555555556,
             "#d8576b"
            ],
            [
             0.6666666666666666,
             "#ed7953"
            ],
            [
             0.7777777777777778,
             "#fb9f3a"
            ],
            [
             0.8888888888888888,
             "#fdca26"
            ],
            [
             1,
             "#f0f921"
            ]
           ],
           "sequentialminus": [
            [
             0,
             "#0d0887"
            ],
            [
             0.1111111111111111,
             "#46039f"
            ],
            [
             0.2222222222222222,
             "#7201a8"
            ],
            [
             0.3333333333333333,
             "#9c179e"
            ],
            [
             0.4444444444444444,
             "#bd3786"
            ],
            [
             0.5555555555555556,
             "#d8576b"
            ],
            [
             0.6666666666666666,
             "#ed7953"
            ],
            [
             0.7777777777777778,
             "#fb9f3a"
            ],
            [
             0.8888888888888888,
             "#fdca26"
            ],
            [
             1,
             "#f0f921"
            ]
           ]
          },
          "colorway": [
           "#636efa",
           "#EF553B",
           "#00cc96",
           "#ab63fa",
           "#FFA15A",
           "#19d3f3",
           "#FF6692",
           "#B6E880",
           "#FF97FF",
           "#FECB52"
          ],
          "font": {
           "color": "#2a3f5f"
          },
          "geo": {
           "bgcolor": "white",
           "lakecolor": "white",
           "landcolor": "#E5ECF6",
           "showlakes": true,
           "showland": true,
           "subunitcolor": "white"
          },
          "hoverlabel": {
           "align": "left"
          },
          "hovermode": "closest",
          "mapbox": {
           "style": "light"
          },
          "paper_bgcolor": "white",
          "plot_bgcolor": "#E5ECF6",
          "polar": {
           "angularaxis": {
            "gridcolor": "white",
            "linecolor": "white",
            "ticks": ""
           },
           "bgcolor": "#E5ECF6",
           "radialaxis": {
            "gridcolor": "white",
            "linecolor": "white",
            "ticks": ""
           }
          },
          "scene": {
           "xaxis": {
            "backgroundcolor": "#E5ECF6",
            "gridcolor": "white",
            "gridwidth": 2,
            "linecolor": "white",
            "showbackground": true,
            "ticks": "",
            "zerolinecolor": "white"
           },
           "yaxis": {
            "backgroundcolor": "#E5ECF6",
            "gridcolor": "white",
            "gridwidth": 2,
            "linecolor": "white",
            "showbackground": true,
            "ticks": "",
            "zerolinecolor": "white"
           },
           "zaxis": {
            "backgroundcolor": "#E5ECF6",
            "gridcolor": "white",
            "gridwidth": 2,
            "linecolor": "white",
            "showbackground": true,
            "ticks": "",
            "zerolinecolor": "white"
           }
          },
          "shapedefaults": {
           "line": {
            "color": "#2a3f5f"
           }
          },
          "ternary": {
           "aaxis": {
            "gridcolor": "white",
            "linecolor": "white",
            "ticks": ""
           },
           "baxis": {
            "gridcolor": "white",
            "linecolor": "white",
            "ticks": ""
           },
           "bgcolor": "#E5ECF6",
           "caxis": {
            "gridcolor": "white",
            "linecolor": "white",
            "ticks": ""
           }
          },
          "title": {
           "x": 0.05
          },
          "xaxis": {
           "automargin": true,
           "gridcolor": "white",
           "linecolor": "white",
           "ticks": "",
           "title": {
            "standoff": 15
           },
           "zerolinecolor": "white",
           "zerolinewidth": 2
          },
          "yaxis": {
           "automargin": true,
           "gridcolor": "white",
           "linecolor": "white",
           "ticks": "",
           "title": {
            "standoff": 15
           },
           "zerolinecolor": "white",
           "zerolinewidth": 2
          }
         }
        },
        "title": {
         "font": {
          "size": 14
         },
         "text": "BRCA",
         "x": 0.5,
         "xanchor": "center"
        },
        "width": 900
       }
      }
     },
     "metadata": {},
     "output_type": "display_data"
    }
   ],
   "source": [
    "grph.create_umap_plot(df=initial_df, \n",
    "                       feature_columns=CHDM_proteins, \n",
    "                       color_column='code_oncotree', \n",
    "                       metadata_cols=['Sample name', 'code_oncotree'],\n",
    "                       n_neighbors=10)"
   ]
  },
  {
   "cell_type": "code",
   "execution_count": null,
   "id": "f7a74ece",
   "metadata": {},
   "outputs": [],
   "source": []
  }
 ],
 "metadata": {
  "kernelspec": {
   "display_name": "tumor_type_clasifier",
   "language": "python",
   "name": "python3"
  },
  "language_info": {
   "codemirror_mode": {
    "name": "ipython",
    "version": 3
   },
   "file_extension": ".py",
   "mimetype": "text/x-python",
   "name": "python",
   "nbconvert_exporter": "python",
   "pygments_lexer": "ipython3",
   "version": "3.13.5"
  }
 },
 "nbformat": 4,
 "nbformat_minor": 5
}
