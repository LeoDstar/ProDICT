{
 "cells": [
  {
   "cell_type": "markdown",
   "id": "d921dd65",
   "metadata": {},
   "source": [
    "## Imports"
   ]
  },
  {
   "cell_type": "code",
   "execution_count": 1,
   "id": "d22b7644",
   "metadata": {},
   "outputs": [],
   "source": [
    "import sys\n",
    "import os\n",
    "import pandas as pd\n",
    "import numpy as np\n",
    "from pathlib import Path\n",
    "\n",
    "module_path = str(Path(\"../src/data\").resolve())\n",
    "if module_path not in sys.path:\n",
    "    sys.path.append(module_path)\n",
    "\n",
    "import preprocessing as prep\n",
    "import feature_selection as fs\n",
    "import model_fit as mf\n",
    "\n",
    "project_root = os.path.abspath(os.path.join(os.getcwd(), '..'))"
   ]
  },
  {
   "cell_type": "code",
   "execution_count": 2,
   "id": "a7c8692c",
   "metadata": {},
   "outputs": [
    {
     "data": {
      "text/plain": [
       "<module 'preprocessing' from '/home/lestrada/tumor_type_prediction/src/data/preprocessing.py'>"
      ]
     },
     "execution_count": 2,
     "metadata": {},
     "output_type": "execute_result"
    }
   ],
   "source": [
    "import importlib\n",
    "importlib.reload(prep)\n"
   ]
  },
  {
   "cell_type": "markdown",
   "id": "b95e6332",
   "metadata": {},
   "source": [
    "## Data Import"
   ]
  },
  {
   "cell_type": "code",
   "execution_count": 12,
   "id": "84e9b090",
   "metadata": {},
   "outputs": [],
   "source": [
    "#Proteins quantification intensities file\n",
    "processed_data = '2025.01.29_CJ_pancancer_273/'\n",
    "folder_path = '/media/kusterlab/internal_projects/active/TOPAS/WP31/Playground/Retrospective_study/'\n",
    "PREPROCESSED_FP_INTENSITY = 'preprocessed_fp_with_ref.csv'\n",
    "intensity_path_file = folder_path + processed_data + PREPROCESSED_FP_INTENSITY\n",
    "input_quantifications = pd.read_csv(intensity_path_file)\n",
    "\n",
    "#--------------------------------------------------------------------------------\n",
    "\n",
    "# Proteins quantification z-scores file\n",
    "preprocessed_fp_z_scores = 'full_proteome_measures_z.tsv'\n",
    "z_scores_path_file = folder_path + processed_data + preprocessed_fp_z_scores\n",
    "df_z_scores = pd.read_csv(z_scores_path_file, sep='\\t')\n",
    "\n",
    "\n",
    "#--------------------------------------------------------------------------------\n",
    "\n",
    "#Samples metadata (oncotree classification) file.\n",
    "metadata_path = '/media/kusterlab/internal_projects/active/TOPAS/WP31/Playground/Retrospective_MTBs_Evaluation/'\n",
    "metadata_file = 'METADATA_PAN_CANCER_Batch300.xlsx'\n",
    "the_metadata_file = metadata_path + metadata_file\n",
    "input_metadata = pd.read_excel(the_metadata_file)\n",
    "\n"
   ]
  },
  {
   "cell_type": "code",
   "execution_count": 4,
   "id": "934c8f6a",
   "metadata": {},
   "outputs": [
    {
     "data": {
      "text/plain": [
       "'/home/lestrada/tumor_type_prediction/notebooks/data/data_output/Notebook_output'"
      ]
     },
     "execution_count": 4,
     "metadata": {},
     "output_type": "execute_result"
    }
   ],
   "source": [
    "project_root = os.path.abspath(os.getcwd())\n",
    "output_dir = os.path.join(project_root, 'data', 'data_output', 'Notebook_output')\n",
    "output_dir"
   ]
  },
  {
   "cell_type": "markdown",
   "id": "0d31b59b",
   "metadata": {},
   "source": [
    "## Data Preprocessing"
   ]
  },
  {
   "cell_type": "code",
   "execution_count": 13,
   "id": "e6163b23",
   "metadata": {},
   "outputs": [
    {
     "name": "stdout",
     "output_type": "stream",
     "text": [
      "(2360, 13074)\n",
      "Proteins with  empty values: ['PTGER4', 'CD19', 'IAPP', 'FOXO4', 'CRYGA', 'HNRNPCL3;HNRNPCL4', 'MYBPHL']\n"
     ]
    },
    {
     "data": {
      "text/html": [
       "<div>\n",
       "<style scoped>\n",
       "    .dataframe tbody tr th:only-of-type {\n",
       "        vertical-align: middle;\n",
       "    }\n",
       "\n",
       "    .dataframe tbody tr th {\n",
       "        vertical-align: top;\n",
       "    }\n",
       "\n",
       "    .dataframe thead th {\n",
       "        text-align: right;\n",
       "    }\n",
       "</style>\n",
       "<table border=\"1\" class=\"dataframe\">\n",
       "  <thead>\n",
       "    <tr style=\"text-align: right;\">\n",
       "      <th></th>\n",
       "      <th>Sample name</th>\n",
       "      <th>code_oncotree</th>\n",
       "      <th>PHB</th>\n",
       "      <th>TBL2</th>\n",
       "      <th>SAA1</th>\n",
       "      <th>CDKN1B</th>\n",
       "      <th>SNRNP70</th>\n",
       "      <th>TARDBP</th>\n",
       "      <th>GALNT6</th>\n",
       "      <th>ADGRL2</th>\n",
       "      <th>...</th>\n",
       "      <th>B4GALNT4</th>\n",
       "      <th>VGLL1</th>\n",
       "      <th>CCDC18</th>\n",
       "      <th>ZDHHC12</th>\n",
       "      <th>EGLN2</th>\n",
       "      <th>GABARAP</th>\n",
       "      <th>GUCY1B2</th>\n",
       "      <th>ATOH1</th>\n",
       "      <th>IL37</th>\n",
       "      <th>MYEOV</th>\n",
       "    </tr>\n",
       "  </thead>\n",
       "  <tbody>\n",
       "    <tr>\n",
       "      <th>0</th>\n",
       "      <td>H021-3RLVZS-T1-Q1</td>\n",
       "      <td>AASTR</td>\n",
       "      <td>1</td>\n",
       "      <td>1</td>\n",
       "      <td>0</td>\n",
       "      <td>1</td>\n",
       "      <td>1</td>\n",
       "      <td>1</td>\n",
       "      <td>1</td>\n",
       "      <td>1</td>\n",
       "      <td>...</td>\n",
       "      <td>0</td>\n",
       "      <td>0</td>\n",
       "      <td>1</td>\n",
       "      <td>0</td>\n",
       "      <td>0</td>\n",
       "      <td>0</td>\n",
       "      <td>0</td>\n",
       "      <td>0</td>\n",
       "      <td>0</td>\n",
       "      <td>0</td>\n",
       "    </tr>\n",
       "    <tr>\n",
       "      <th>1</th>\n",
       "      <td>H021-VFM3B1-T1-Q1</td>\n",
       "      <td>AASTR</td>\n",
       "      <td>1</td>\n",
       "      <td>1</td>\n",
       "      <td>0</td>\n",
       "      <td>1</td>\n",
       "      <td>1</td>\n",
       "      <td>1</td>\n",
       "      <td>1</td>\n",
       "      <td>1</td>\n",
       "      <td>...</td>\n",
       "      <td>0</td>\n",
       "      <td>0</td>\n",
       "      <td>0</td>\n",
       "      <td>0</td>\n",
       "      <td>0</td>\n",
       "      <td>0</td>\n",
       "      <td>0</td>\n",
       "      <td>0</td>\n",
       "      <td>0</td>\n",
       "      <td>0</td>\n",
       "    </tr>\n",
       "    <tr>\n",
       "      <th>2</th>\n",
       "      <td>H021-3RLVZS-T1-Q1-R2</td>\n",
       "      <td>AASTR</td>\n",
       "      <td>1</td>\n",
       "      <td>1</td>\n",
       "      <td>0</td>\n",
       "      <td>1</td>\n",
       "      <td>1</td>\n",
       "      <td>1</td>\n",
       "      <td>0</td>\n",
       "      <td>1</td>\n",
       "      <td>...</td>\n",
       "      <td>0</td>\n",
       "      <td>0</td>\n",
       "      <td>1</td>\n",
       "      <td>0</td>\n",
       "      <td>1</td>\n",
       "      <td>1</td>\n",
       "      <td>0</td>\n",
       "      <td>0</td>\n",
       "      <td>0</td>\n",
       "      <td>0</td>\n",
       "    </tr>\n",
       "    <tr>\n",
       "      <th>3</th>\n",
       "      <td>H021-XBLS3R-M1-Q1</td>\n",
       "      <td>AASTR</td>\n",
       "      <td>1</td>\n",
       "      <td>1</td>\n",
       "      <td>1</td>\n",
       "      <td>1</td>\n",
       "      <td>1</td>\n",
       "      <td>1</td>\n",
       "      <td>0</td>\n",
       "      <td>1</td>\n",
       "      <td>...</td>\n",
       "      <td>0</td>\n",
       "      <td>0</td>\n",
       "      <td>0</td>\n",
       "      <td>0</td>\n",
       "      <td>0</td>\n",
       "      <td>0</td>\n",
       "      <td>0</td>\n",
       "      <td>0</td>\n",
       "      <td>0</td>\n",
       "      <td>0</td>\n",
       "    </tr>\n",
       "    <tr>\n",
       "      <th>4</th>\n",
       "      <td>H021-M2MSRE-M1-Q1</td>\n",
       "      <td>ACBC</td>\n",
       "      <td>1</td>\n",
       "      <td>1</td>\n",
       "      <td>0</td>\n",
       "      <td>1</td>\n",
       "      <td>1</td>\n",
       "      <td>1</td>\n",
       "      <td>0</td>\n",
       "      <td>1</td>\n",
       "      <td>...</td>\n",
       "      <td>0</td>\n",
       "      <td>0</td>\n",
       "      <td>0</td>\n",
       "      <td>0</td>\n",
       "      <td>0</td>\n",
       "      <td>0</td>\n",
       "      <td>0</td>\n",
       "      <td>0</td>\n",
       "      <td>0</td>\n",
       "      <td>0</td>\n",
       "    </tr>\n",
       "    <tr>\n",
       "      <th>...</th>\n",
       "      <td>...</td>\n",
       "      <td>...</td>\n",
       "      <td>...</td>\n",
       "      <td>...</td>\n",
       "      <td>...</td>\n",
       "      <td>...</td>\n",
       "      <td>...</td>\n",
       "      <td>...</td>\n",
       "      <td>...</td>\n",
       "      <td>...</td>\n",
       "      <td>...</td>\n",
       "      <td>...</td>\n",
       "      <td>...</td>\n",
       "      <td>...</td>\n",
       "      <td>...</td>\n",
       "      <td>...</td>\n",
       "      <td>...</td>\n",
       "      <td>...</td>\n",
       "      <td>...</td>\n",
       "      <td>...</td>\n",
       "      <td>...</td>\n",
       "    </tr>\n",
       "    <tr>\n",
       "      <th>1839</th>\n",
       "      <td>H021-BYHFHEU-M2-Q1</td>\n",
       "      <td>VMM</td>\n",
       "      <td>1</td>\n",
       "      <td>1</td>\n",
       "      <td>0</td>\n",
       "      <td>1</td>\n",
       "      <td>1</td>\n",
       "      <td>1</td>\n",
       "      <td>0</td>\n",
       "      <td>1</td>\n",
       "      <td>...</td>\n",
       "      <td>0</td>\n",
       "      <td>0</td>\n",
       "      <td>0</td>\n",
       "      <td>0</td>\n",
       "      <td>0</td>\n",
       "      <td>0</td>\n",
       "      <td>0</td>\n",
       "      <td>0</td>\n",
       "      <td>0</td>\n",
       "      <td>0</td>\n",
       "    </tr>\n",
       "    <tr>\n",
       "      <th>1840</th>\n",
       "      <td>H021-VYS51F-M1-Q1</td>\n",
       "      <td>VSC</td>\n",
       "      <td>1</td>\n",
       "      <td>1</td>\n",
       "      <td>1</td>\n",
       "      <td>1</td>\n",
       "      <td>1</td>\n",
       "      <td>1</td>\n",
       "      <td>0</td>\n",
       "      <td>1</td>\n",
       "      <td>...</td>\n",
       "      <td>0</td>\n",
       "      <td>0</td>\n",
       "      <td>0</td>\n",
       "      <td>0</td>\n",
       "      <td>0</td>\n",
       "      <td>1</td>\n",
       "      <td>0</td>\n",
       "      <td>0</td>\n",
       "      <td>0</td>\n",
       "      <td>0</td>\n",
       "    </tr>\n",
       "    <tr>\n",
       "      <th>1841</th>\n",
       "      <td>H021-1B7R18-M1-Q1</td>\n",
       "      <td>VSC</td>\n",
       "      <td>1</td>\n",
       "      <td>1</td>\n",
       "      <td>1</td>\n",
       "      <td>1</td>\n",
       "      <td>1</td>\n",
       "      <td>1</td>\n",
       "      <td>0</td>\n",
       "      <td>1</td>\n",
       "      <td>...</td>\n",
       "      <td>0</td>\n",
       "      <td>0</td>\n",
       "      <td>0</td>\n",
       "      <td>0</td>\n",
       "      <td>0</td>\n",
       "      <td>1</td>\n",
       "      <td>0</td>\n",
       "      <td>0</td>\n",
       "      <td>0</td>\n",
       "      <td>0</td>\n",
       "    </tr>\n",
       "    <tr>\n",
       "      <th>1842</th>\n",
       "      <td>H021-FUFZFT-T1-Q1</td>\n",
       "      <td>VSC</td>\n",
       "      <td>1</td>\n",
       "      <td>1</td>\n",
       "      <td>1</td>\n",
       "      <td>1</td>\n",
       "      <td>1</td>\n",
       "      <td>1</td>\n",
       "      <td>0</td>\n",
       "      <td>1</td>\n",
       "      <td>...</td>\n",
       "      <td>0</td>\n",
       "      <td>0</td>\n",
       "      <td>0</td>\n",
       "      <td>0</td>\n",
       "      <td>0</td>\n",
       "      <td>0</td>\n",
       "      <td>0</td>\n",
       "      <td>0</td>\n",
       "      <td>0</td>\n",
       "      <td>0</td>\n",
       "    </tr>\n",
       "    <tr>\n",
       "      <th>1843</th>\n",
       "      <td>H021-1B7R18-M7-Q1</td>\n",
       "      <td>VSC</td>\n",
       "      <td>1</td>\n",
       "      <td>1</td>\n",
       "      <td>1</td>\n",
       "      <td>1</td>\n",
       "      <td>1</td>\n",
       "      <td>1</td>\n",
       "      <td>0</td>\n",
       "      <td>1</td>\n",
       "      <td>...</td>\n",
       "      <td>0</td>\n",
       "      <td>0</td>\n",
       "      <td>0</td>\n",
       "      <td>0</td>\n",
       "      <td>0</td>\n",
       "      <td>0</td>\n",
       "      <td>0</td>\n",
       "      <td>0</td>\n",
       "      <td>0</td>\n",
       "      <td>0</td>\n",
       "    </tr>\n",
       "  </tbody>\n",
       "</table>\n",
       "<p>1844 rows × 13076 columns</p>\n",
       "</div>"
      ],
      "text/plain": [
       "               Sample name code_oncotree  PHB  TBL2  SAA1  CDKN1B  SNRNP70  \\\n",
       "0        H021-3RLVZS-T1-Q1         AASTR    1     1     0       1        1   \n",
       "1        H021-VFM3B1-T1-Q1         AASTR    1     1     0       1        1   \n",
       "2     H021-3RLVZS-T1-Q1-R2         AASTR    1     1     0       1        1   \n",
       "3        H021-XBLS3R-M1-Q1         AASTR    1     1     1       1        1   \n",
       "4        H021-M2MSRE-M1-Q1          ACBC    1     1     0       1        1   \n",
       "...                    ...           ...  ...   ...   ...     ...      ...   \n",
       "1839    H021-BYHFHEU-M2-Q1           VMM    1     1     0       1        1   \n",
       "1840     H021-VYS51F-M1-Q1           VSC    1     1     1       1        1   \n",
       "1841     H021-1B7R18-M1-Q1           VSC    1     1     1       1        1   \n",
       "1842     H021-FUFZFT-T1-Q1           VSC    1     1     1       1        1   \n",
       "1843     H021-1B7R18-M7-Q1           VSC    1     1     1       1        1   \n",
       "\n",
       "      TARDBP  GALNT6  ADGRL2  ...  B4GALNT4  VGLL1  CCDC18  ZDHHC12  EGLN2  \\\n",
       "0          1       1       1  ...         0      0       1        0      0   \n",
       "1          1       1       1  ...         0      0       0        0      0   \n",
       "2          1       0       1  ...         0      0       1        0      1   \n",
       "3          1       0       1  ...         0      0       0        0      0   \n",
       "4          1       0       1  ...         0      0       0        0      0   \n",
       "...      ...     ...     ...  ...       ...    ...     ...      ...    ...   \n",
       "1839       1       0       1  ...         0      0       0        0      0   \n",
       "1840       1       0       1  ...         0      0       0        0      0   \n",
       "1841       1       0       1  ...         0      0       0        0      0   \n",
       "1842       1       0       1  ...         0      0       0        0      0   \n",
       "1843       1       0       1  ...         0      0       0        0      0   \n",
       "\n",
       "      GABARAP  GUCY1B2  ATOH1  IL37  MYEOV  \n",
       "0           0        0      0     0      0  \n",
       "1           0        0      0     0      0  \n",
       "2           1        0      0     0      0  \n",
       "3           0        0      0     0      0  \n",
       "4           0        0      0     0      0  \n",
       "...       ...      ...    ...   ...    ...  \n",
       "1839        0        0      0     0      0  \n",
       "1840        1        0      0     0      0  \n",
       "1841        1        0      0     0      0  \n",
       "1842        0        0      0     0      0  \n",
       "1843        0        0      0     0      0  \n",
       "\n",
       "[1844 rows x 13076 columns]"
      ]
     },
     "execution_count": 13,
     "metadata": {},
     "output_type": "execute_result"
    }
   ],
   "source": [
    "# Protein and peptides quantification intensities post-processing\n",
    "input_quantifications = input_quantifications.set_index(input_quantifications.columns[0])\n",
    "\n",
    "peptides_quant_info = prep.post_process_meta_intensities(input_quantifications.iloc[:,int(input_quantifications.shape[1]/2):].T ) #clean dataframe from regex characers\n",
    "proteins_quant = input_quantifications.iloc[:,:int(input_quantifications.shape[1]/2)].T #subset protein measurements from dataset\n",
    "\n",
    "#Imputation\n",
    "prot_quant_imputed = prep.impute_normal_down_shift_distribution(proteins_quant) #Imputation of missing values in protein intensities using normal distribution down-shift method\n",
    "na_columns = prot_quant_imputed.isna().any()\n",
    "na_columns_true = na_columns[na_columns].index.tolist()\n",
    "print(\"Proteins with  empty values:\", na_columns_true)\n",
    "\n",
    "#Cleaning sample names\n",
    "prot_quant_imputed.reset_index(inplace=True)\n",
    "prot_quant_imputed.rename(columns={'index': 'Sample name'}, inplace=True)\n",
    "prot_quant_imputed['Sample name'] = prot_quant_imputed['Sample name'].str.replace('pat_', '')\n",
    "\n",
    "#Dataset with protein intensities and metadata\n",
    "samples_metadata = input_metadata[[\"Sample name\", \"code_oncotree\",]] #sample metadata e.g. class, TCC, tissue of origin, etc.\n",
    "initial_df = samples_metadata.merge(prot_quant_imputed, left_on='Sample name', right_on='Sample name')\n",
    "\n",
    "#Peptides quantification to binary dataset\n",
    "peptides_df_binary = pd.DataFrame(\n",
    "    np.where(peptides_quant_info > 1, 1, 0), #if the # of peptides > 1, then turns to 1, otherwise 0. \n",
    "    index=peptides_quant_info.index,\n",
    "    columns=peptides_quant_info.columns  \n",
    ")\n",
    "peptides_df_binary.reset_index(inplace=True) #Moves the index to a column. Allows to obtain patient id\n",
    "peptides_df_binary.replace('Identification metadata ','',regex=True, inplace=True) #Removes text from id's\n",
    "peptides_df_binary = samples_metadata.merge(peptides_df_binary, left_on='Sample name', right_on='index') #merging both data sets by Sample Name, ontaining a dataset with sample, classification and peptide binary count\n",
    "peptides_df_binary.drop('index', axis=1, inplace=True)\n",
    "\n",
    "peptides_df_binary"
   ]
  },
  {
   "cell_type": "code",
   "execution_count": 14,
   "id": "ea85d65c",
   "metadata": {},
   "outputs": [
    {
     "name": "stdout",
     "output_type": "stream",
     "text": [
      "(1846, 13074)\n"
     ]
    },
    {
     "data": {
      "text/html": [
       "<div>\n",
       "<style scoped>\n",
       "    .dataframe tbody tr th:only-of-type {\n",
       "        vertical-align: middle;\n",
       "    }\n",
       "\n",
       "    .dataframe tbody tr th {\n",
       "        vertical-align: top;\n",
       "    }\n",
       "\n",
       "    .dataframe thead th {\n",
       "        text-align: right;\n",
       "    }\n",
       "</style>\n",
       "<table border=\"1\" class=\"dataframe\">\n",
       "  <thead>\n",
       "    <tr style=\"text-align: right;\">\n",
       "      <th></th>\n",
       "      <th>Sample name</th>\n",
       "      <th>code_oncotree</th>\n",
       "      <th>PHB</th>\n",
       "      <th>TBL2</th>\n",
       "      <th>SAA1</th>\n",
       "      <th>CDKN1B</th>\n",
       "      <th>SNRNP70</th>\n",
       "      <th>TARDBP</th>\n",
       "      <th>GALNT6</th>\n",
       "      <th>ADGRL2</th>\n",
       "      <th>...</th>\n",
       "      <th>B4GALNT4</th>\n",
       "      <th>VGLL1</th>\n",
       "      <th>CCDC18</th>\n",
       "      <th>ZDHHC12</th>\n",
       "      <th>EGLN2</th>\n",
       "      <th>GABARAP</th>\n",
       "      <th>GUCY1B2</th>\n",
       "      <th>ATOH1</th>\n",
       "      <th>IL37</th>\n",
       "      <th>MYEOV</th>\n",
       "    </tr>\n",
       "  </thead>\n",
       "  <tbody>\n",
       "    <tr>\n",
       "      <th>0</th>\n",
       "      <td>H021-3RLVZS-T1-Q1</td>\n",
       "      <td>AASTR</td>\n",
       "      <td>0.570269</td>\n",
       "      <td>-1.954848</td>\n",
       "      <td>-0.108304</td>\n",
       "      <td>0.528920</td>\n",
       "      <td>-0.552978</td>\n",
       "      <td>-1.547589</td>\n",
       "      <td>-0.674703</td>\n",
       "      <td>-1.431098</td>\n",
       "      <td>...</td>\n",
       "      <td>-2.259616</td>\n",
       "      <td>-2.229895</td>\n",
       "      <td>1.711366</td>\n",
       "      <td>-1.893114</td>\n",
       "      <td>-0.914195</td>\n",
       "      <td>3.933296</td>\n",
       "      <td>-1.717553</td>\n",
       "      <td>-1.747781</td>\n",
       "      <td>-2.026128</td>\n",
       "      <td>-1.951108</td>\n",
       "    </tr>\n",
       "    <tr>\n",
       "      <th>1</th>\n",
       "      <td>H021-VFM3B1-T1-Q1</td>\n",
       "      <td>AASTR</td>\n",
       "      <td>-0.119897</td>\n",
       "      <td>-0.913546</td>\n",
       "      <td>-2.356393</td>\n",
       "      <td>-0.412755</td>\n",
       "      <td>-0.101366</td>\n",
       "      <td>-0.493058</td>\n",
       "      <td>-0.704860</td>\n",
       "      <td>-1.872432</td>\n",
       "      <td>...</td>\n",
       "      <td>-2.321418</td>\n",
       "      <td>-2.418372</td>\n",
       "      <td>1.284506</td>\n",
       "      <td>-1.944684</td>\n",
       "      <td>-2.061922</td>\n",
       "      <td>1.575512</td>\n",
       "      <td>-1.533850</td>\n",
       "      <td>-2.016380</td>\n",
       "      <td>-1.735505</td>\n",
       "      <td>-2.259470</td>\n",
       "    </tr>\n",
       "    <tr>\n",
       "      <th>2</th>\n",
       "      <td>H021-3RLVZS-T1-Q1-R2</td>\n",
       "      <td>AASTR</td>\n",
       "      <td>0.182432</td>\n",
       "      <td>-2.414916</td>\n",
       "      <td>-1.678159</td>\n",
       "      <td>0.802436</td>\n",
       "      <td>-1.726570</td>\n",
       "      <td>-1.213458</td>\n",
       "      <td>-1.876987</td>\n",
       "      <td>-1.315078</td>\n",
       "      <td>...</td>\n",
       "      <td>-1.811154</td>\n",
       "      <td>-2.516052</td>\n",
       "      <td>1.024149</td>\n",
       "      <td>-1.739299</td>\n",
       "      <td>0.406768</td>\n",
       "      <td>1.253458</td>\n",
       "      <td>-2.380925</td>\n",
       "      <td>-2.355762</td>\n",
       "      <td>-1.814242</td>\n",
       "      <td>-1.670028</td>\n",
       "    </tr>\n",
       "    <tr>\n",
       "      <th>3</th>\n",
       "      <td>H021-XBLS3R-M1-Q1</td>\n",
       "      <td>AASTR</td>\n",
       "      <td>-0.481549</td>\n",
       "      <td>-1.759738</td>\n",
       "      <td>-0.296455</td>\n",
       "      <td>0.976292</td>\n",
       "      <td>-0.733072</td>\n",
       "      <td>-0.810804</td>\n",
       "      <td>-1.327052</td>\n",
       "      <td>-0.500066</td>\n",
       "      <td>...</td>\n",
       "      <td>-1.982625</td>\n",
       "      <td>-1.891657</td>\n",
       "      <td>-0.934652</td>\n",
       "      <td>-2.052825</td>\n",
       "      <td>-1.745946</td>\n",
       "      <td>0.607305</td>\n",
       "      <td>-1.605360</td>\n",
       "      <td>-1.540036</td>\n",
       "      <td>-2.340112</td>\n",
       "      <td>-2.377034</td>\n",
       "    </tr>\n",
       "    <tr>\n",
       "      <th>4</th>\n",
       "      <td>H021-M2MSRE-M1-Q1</td>\n",
       "      <td>ACBC</td>\n",
       "      <td>-0.795462</td>\n",
       "      <td>-0.784477</td>\n",
       "      <td>0.288746</td>\n",
       "      <td>0.830664</td>\n",
       "      <td>1.627005</td>\n",
       "      <td>1.117730</td>\n",
       "      <td>-0.512298</td>\n",
       "      <td>0.071553</td>\n",
       "      <td>...</td>\n",
       "      <td>-2.597361</td>\n",
       "      <td>-2.609782</td>\n",
       "      <td>-1.005164</td>\n",
       "      <td>-1.348821</td>\n",
       "      <td>-0.205083</td>\n",
       "      <td>-1.273310</td>\n",
       "      <td>-1.476473</td>\n",
       "      <td>-1.751050</td>\n",
       "      <td>-2.302141</td>\n",
       "      <td>-1.765846</td>\n",
       "    </tr>\n",
       "    <tr>\n",
       "      <th>...</th>\n",
       "      <td>...</td>\n",
       "      <td>...</td>\n",
       "      <td>...</td>\n",
       "      <td>...</td>\n",
       "      <td>...</td>\n",
       "      <td>...</td>\n",
       "      <td>...</td>\n",
       "      <td>...</td>\n",
       "      <td>...</td>\n",
       "      <td>...</td>\n",
       "      <td>...</td>\n",
       "      <td>...</td>\n",
       "      <td>...</td>\n",
       "      <td>...</td>\n",
       "      <td>...</td>\n",
       "      <td>...</td>\n",
       "      <td>...</td>\n",
       "      <td>...</td>\n",
       "      <td>...</td>\n",
       "      <td>...</td>\n",
       "      <td>...</td>\n",
       "    </tr>\n",
       "    <tr>\n",
       "      <th>1839</th>\n",
       "      <td>H021-BYHFHEU-M2-Q1</td>\n",
       "      <td>VMM</td>\n",
       "      <td>0.393200</td>\n",
       "      <td>0.235131</td>\n",
       "      <td>-0.877088</td>\n",
       "      <td>0.801262</td>\n",
       "      <td>0.599496</td>\n",
       "      <td>-0.052041</td>\n",
       "      <td>-1.489120</td>\n",
       "      <td>-1.133797</td>\n",
       "      <td>...</td>\n",
       "      <td>-2.729675</td>\n",
       "      <td>-2.223789</td>\n",
       "      <td>1.170956</td>\n",
       "      <td>-1.411426</td>\n",
       "      <td>-0.330144</td>\n",
       "      <td>0.235525</td>\n",
       "      <td>-1.478528</td>\n",
       "      <td>-1.426303</td>\n",
       "      <td>-1.969946</td>\n",
       "      <td>-1.601865</td>\n",
       "    </tr>\n",
       "    <tr>\n",
       "      <th>1840</th>\n",
       "      <td>H021-VYS51F-M1-Q1</td>\n",
       "      <td>VSC</td>\n",
       "      <td>-0.109858</td>\n",
       "      <td>0.177969</td>\n",
       "      <td>0.999149</td>\n",
       "      <td>-0.416473</td>\n",
       "      <td>-0.454592</td>\n",
       "      <td>-0.972266</td>\n",
       "      <td>-1.999528</td>\n",
       "      <td>-2.062077</td>\n",
       "      <td>...</td>\n",
       "      <td>-2.012480</td>\n",
       "      <td>-3.238598</td>\n",
       "      <td>-0.047412</td>\n",
       "      <td>-1.186199</td>\n",
       "      <td>-2.171985</td>\n",
       "      <td>0.395960</td>\n",
       "      <td>-1.350378</td>\n",
       "      <td>-2.050263</td>\n",
       "      <td>-2.349782</td>\n",
       "      <td>-1.399920</td>\n",
       "    </tr>\n",
       "    <tr>\n",
       "      <th>1841</th>\n",
       "      <td>H021-1B7R18-M1-Q1</td>\n",
       "      <td>VSC</td>\n",
       "      <td>0.053191</td>\n",
       "      <td>-2.516390</td>\n",
       "      <td>0.668423</td>\n",
       "      <td>-1.445997</td>\n",
       "      <td>-1.593026</td>\n",
       "      <td>0.353921</td>\n",
       "      <td>-1.313306</td>\n",
       "      <td>-1.000417</td>\n",
       "      <td>...</td>\n",
       "      <td>-1.656409</td>\n",
       "      <td>-2.937084</td>\n",
       "      <td>-1.760477</td>\n",
       "      <td>-1.459320</td>\n",
       "      <td>-2.525625</td>\n",
       "      <td>-0.513694</td>\n",
       "      <td>-1.784874</td>\n",
       "      <td>-1.749608</td>\n",
       "      <td>-2.344643</td>\n",
       "      <td>-1.184619</td>\n",
       "    </tr>\n",
       "    <tr>\n",
       "      <th>1842</th>\n",
       "      <td>H021-FUFZFT-T1-Q1</td>\n",
       "      <td>VSC</td>\n",
       "      <td>-0.931686</td>\n",
       "      <td>0.048827</td>\n",
       "      <td>1.045210</td>\n",
       "      <td>0.620125</td>\n",
       "      <td>0.288494</td>\n",
       "      <td>-0.249849</td>\n",
       "      <td>1.396934</td>\n",
       "      <td>-0.084231</td>\n",
       "      <td>...</td>\n",
       "      <td>-2.060663</td>\n",
       "      <td>-1.817443</td>\n",
       "      <td>-1.373557</td>\n",
       "      <td>-1.131807</td>\n",
       "      <td>-1.800865</td>\n",
       "      <td>-0.534801</td>\n",
       "      <td>-2.060059</td>\n",
       "      <td>-1.987010</td>\n",
       "      <td>-1.375791</td>\n",
       "      <td>-1.685683</td>\n",
       "    </tr>\n",
       "    <tr>\n",
       "      <th>1843</th>\n",
       "      <td>H021-1B7R18-M7-Q1</td>\n",
       "      <td>VSC</td>\n",
       "      <td>-0.422122</td>\n",
       "      <td>-1.479985</td>\n",
       "      <td>1.374325</td>\n",
       "      <td>0.174604</td>\n",
       "      <td>-0.738775</td>\n",
       "      <td>-1.287418</td>\n",
       "      <td>-1.462430</td>\n",
       "      <td>-0.375774</td>\n",
       "      <td>...</td>\n",
       "      <td>-2.119067</td>\n",
       "      <td>-2.329814</td>\n",
       "      <td>-1.626911</td>\n",
       "      <td>-1.830169</td>\n",
       "      <td>1.347842</td>\n",
       "      <td>-1.852569</td>\n",
       "      <td>-1.163184</td>\n",
       "      <td>-1.988876</td>\n",
       "      <td>-2.072155</td>\n",
       "      <td>-2.126897</td>\n",
       "    </tr>\n",
       "  </tbody>\n",
       "</table>\n",
       "<p>1844 rows × 13076 columns</p>\n",
       "</div>"
      ],
      "text/plain": [
       "               Sample name code_oncotree       PHB      TBL2      SAA1  \\\n",
       "0        H021-3RLVZS-T1-Q1         AASTR  0.570269 -1.954848 -0.108304   \n",
       "1        H021-VFM3B1-T1-Q1         AASTR -0.119897 -0.913546 -2.356393   \n",
       "2     H021-3RLVZS-T1-Q1-R2         AASTR  0.182432 -2.414916 -1.678159   \n",
       "3        H021-XBLS3R-M1-Q1         AASTR -0.481549 -1.759738 -0.296455   \n",
       "4        H021-M2MSRE-M1-Q1          ACBC -0.795462 -0.784477  0.288746   \n",
       "...                    ...           ...       ...       ...       ...   \n",
       "1839    H021-BYHFHEU-M2-Q1           VMM  0.393200  0.235131 -0.877088   \n",
       "1840     H021-VYS51F-M1-Q1           VSC -0.109858  0.177969  0.999149   \n",
       "1841     H021-1B7R18-M1-Q1           VSC  0.053191 -2.516390  0.668423   \n",
       "1842     H021-FUFZFT-T1-Q1           VSC -0.931686  0.048827  1.045210   \n",
       "1843     H021-1B7R18-M7-Q1           VSC -0.422122 -1.479985  1.374325   \n",
       "\n",
       "        CDKN1B   SNRNP70    TARDBP    GALNT6    ADGRL2  ...  B4GALNT4  \\\n",
       "0     0.528920 -0.552978 -1.547589 -0.674703 -1.431098  ... -2.259616   \n",
       "1    -0.412755 -0.101366 -0.493058 -0.704860 -1.872432  ... -2.321418   \n",
       "2     0.802436 -1.726570 -1.213458 -1.876987 -1.315078  ... -1.811154   \n",
       "3     0.976292 -0.733072 -0.810804 -1.327052 -0.500066  ... -1.982625   \n",
       "4     0.830664  1.627005  1.117730 -0.512298  0.071553  ... -2.597361   \n",
       "...        ...       ...       ...       ...       ...  ...       ...   \n",
       "1839  0.801262  0.599496 -0.052041 -1.489120 -1.133797  ... -2.729675   \n",
       "1840 -0.416473 -0.454592 -0.972266 -1.999528 -2.062077  ... -2.012480   \n",
       "1841 -1.445997 -1.593026  0.353921 -1.313306 -1.000417  ... -1.656409   \n",
       "1842  0.620125  0.288494 -0.249849  1.396934 -0.084231  ... -2.060663   \n",
       "1843  0.174604 -0.738775 -1.287418 -1.462430 -0.375774  ... -2.119067   \n",
       "\n",
       "         VGLL1    CCDC18   ZDHHC12     EGLN2   GABARAP   GUCY1B2     ATOH1  \\\n",
       "0    -2.229895  1.711366 -1.893114 -0.914195  3.933296 -1.717553 -1.747781   \n",
       "1    -2.418372  1.284506 -1.944684 -2.061922  1.575512 -1.533850 -2.016380   \n",
       "2    -2.516052  1.024149 -1.739299  0.406768  1.253458 -2.380925 -2.355762   \n",
       "3    -1.891657 -0.934652 -2.052825 -1.745946  0.607305 -1.605360 -1.540036   \n",
       "4    -2.609782 -1.005164 -1.348821 -0.205083 -1.273310 -1.476473 -1.751050   \n",
       "...        ...       ...       ...       ...       ...       ...       ...   \n",
       "1839 -2.223789  1.170956 -1.411426 -0.330144  0.235525 -1.478528 -1.426303   \n",
       "1840 -3.238598 -0.047412 -1.186199 -2.171985  0.395960 -1.350378 -2.050263   \n",
       "1841 -2.937084 -1.760477 -1.459320 -2.525625 -0.513694 -1.784874 -1.749608   \n",
       "1842 -1.817443 -1.373557 -1.131807 -1.800865 -0.534801 -2.060059 -1.987010   \n",
       "1843 -2.329814 -1.626911 -1.830169  1.347842 -1.852569 -1.163184 -1.988876   \n",
       "\n",
       "          IL37     MYEOV  \n",
       "0    -2.026128 -1.951108  \n",
       "1    -1.735505 -2.259470  \n",
       "2    -1.814242 -1.670028  \n",
       "3    -2.340112 -2.377034  \n",
       "4    -2.302141 -1.765846  \n",
       "...        ...       ...  \n",
       "1839 -1.969946 -1.601865  \n",
       "1840 -2.349782 -1.399920  \n",
       "1841 -2.344643 -1.184619  \n",
       "1842 -1.375791 -1.685683  \n",
       "1843 -2.072155 -2.126897  \n",
       "\n",
       "[1844 rows x 13076 columns]"
      ]
     },
     "execution_count": 14,
     "metadata": {},
     "output_type": "execute_result"
    }
   ],
   "source": [
    "# Transforming Z-scores file to obtain values and info\n",
    "z_scores_df = df_z_scores.transpose(copy=True) \n",
    "z_scores_df = z_scores_df.reset_index()\n",
    "z_scores_df = z_scores_df.replace('zscore_','', regex=True) \n",
    "z_scores_df.rename(columns = z_scores_df.iloc[0], inplace=True)\n",
    "z_scores_df.drop(axis=0, index=0, inplace=True)\n",
    "z_scores_df['Gene names'] = z_scores_df['Gene names'].str.replace('pat_', '')\n",
    "z_scores_df = z_scores_df.set_index('Gene names') \n",
    "\n",
    "z_scores_imputed = prep.impute_normal_down_shift_distribution(z_scores_df)\n",
    "z_scores_imputed.reset_index(inplace=True)\n",
    "z_scores_imputed.rename(columns={'Gene names': 'Sample name'}, inplace=True)\n",
    "\n",
    "z_scores_initial_df = samples_metadata.merge(z_scores_imputed, left_on='Sample name', right_on='Sample name')\n",
    "z_scores_initial_df"
   ]
  },
  {
   "cell_type": "markdown",
   "id": "06bfbece",
   "metadata": {},
   "source": [
    "## Data Set Split"
   ]
  },
  {
   "cell_type": "code",
   "execution_count": 8,
   "id": "25a553a7",
   "metadata": {},
   "outputs": [
    {
     "name": "stdout",
     "output_type": "stream",
     "text": [
      "Removed samples: 203\n",
      "Remaining samples: 1457\n",
      "Classes with only one sample: 68\n",
      "Training set samples: 1109\n",
      "Held-out set samples: 348\n"
     ]
    }
   ],
   "source": [
    "#Removing samples not part of the Oncotree classification\n",
    "NOS_cases = initial_df[initial_df['code_oncotree'].str.endswith('NOS', na=False)]['code_oncotree'].unique().tolist()\n",
    "other_cases = ['missing']\n",
    "cases_to_remove = NOS_cases + other_cases\n",
    "ml_initial_df = prep.remove_class(initial_df, cases_to_remove, 'code_oncotree')\n",
    "\n",
    "# Splitting dataset into training and held-out sets1\n",
    "training_df, held_out_df = prep.data_split(ml_initial_df, split_size=0.25, classified_by='code_oncotree', export=False)\n",
    "\n",
    "#Z_scores dataset\n",
    "z_scores_training_df = z_scores_initial_df.iloc[training_df.index]"
   ]
  },
  {
   "cell_type": "markdown",
   "id": "37b6f928",
   "metadata": {},
   "source": [
    "# Class Specific Worflow"
   ]
  },
  {
   "cell_type": "code",
   "execution_count": 9,
   "id": "52604b5e",
   "metadata": {},
   "outputs": [],
   "source": [
    "#Set Classification Parameters\n",
    "target_class = ['CHDM'] \n",
    "classified_by = 'code_oncotree'\n",
    "samples_column = 'Sample name'\n"
   ]
  },
  {
   "cell_type": "code",
   "execution_count": 10,
   "id": "0b2520a4",
   "metadata": {},
   "outputs": [
    {
     "name": "stdout",
     "output_type": "stream",
     "text": [
      " 28 proteins identified in 70.0% of ['CHDM'] samples\n",
      "\n",
      "Number of samples per class:\n",
      "Classifier\n",
      "0    1030\n",
      "1      79\n",
      "Name: count, dtype: int64\n",
      "\n",
      "\n",
      "Number of samples per class:\n",
      "Classifier\n",
      "0    321\n",
      "1     27\n",
      "Name: count, dtype: int64\n",
      "\n",
      "\n",
      "Number of samples per class:\n",
      "Classifier\n",
      "0    1030\n",
      "1      79\n",
      "Name: count, dtype: int64\n",
      "\n"
     ]
    }
   ],
   "source": [
    "\n",
    "#Obtaining high confidence proteins by peptides\n",
    "entity_proteins_by_peptides = fs.get_high_confidence_proteins(peptides_df_binary, target_class, classified_by, threshold=0.7)\n",
    "\n",
    "# Binary labeling for specific class classification \n",
    "entity_training_df = fs.binary_labeling(training_df, classified_by=classified_by, true_class=target_class)\n",
    "entity_ho_df = fs.binary_labeling(held_out_df, classified_by=classified_by, true_class=target_class)\n",
    "\n",
    "entity_z_scores_train_df = fs.binary_labeling(z_scores_training_df, classified_by=classified_by, true_class=target_class)\n",
    "\n",
    "\n",
    "# 1st Filter - Filtering entity training and held-out dataframes by proteins with peptides\n",
    "entity_training_df = entity_training_df.filter(items=[samples_column, classified_by, 'Classifier'] + entity_proteins_by_peptides)\n",
    "entity_ho_df = entity_ho_df.filter(items=[samples_column, classified_by, 'Classifier'] + entity_proteins_by_peptides)\n",
    "\n",
    "entity_z_scores_train_df = entity_z_scores_train_df.filter(items=[samples_column, classified_by, 'Classifier'] + entity_proteins_by_peptides)"
   ]
  },
  {
   "cell_type": "markdown",
   "id": "89bd5127",
   "metadata": {},
   "source": [
    "## Feature Selection"
   ]
  },
  {
   "cell_type": "markdown",
   "id": "999c958e",
   "metadata": {},
   "source": [
    "### Hyperparametes for ElasticNet\n",
    "Calculated in Z-scores"
   ]
  },
  {
   "cell_type": "code",
   "execution_count": 11,
   "id": "fad0b1f5",
   "metadata": {},
   "outputs": [
    {
     "name": "stdout",
     "output_type": "stream",
     "text": [
      "Grid search completed in 1.78 seconds\n",
      "Best parameters: {'C': 1, 'l1_ratio': 0.5, 'max_iter': 10000, 'penalty': 'elasticnet', 'solver': 'saga'}\n",
      "Best score: 0.6773657341657652\n"
     ]
    }
   ],
   "source": [
    "entity_cv_results, entity_best_params, entity_best_score, entity_grid_search_obj = fs.hparameter_grid_search(entity_z_scores_train_df, 4, l1_ratio_list=[0.7,0.5], C_list=[0.1,1], classified_by='code_oncotree')"
   ]
  },
  {
   "cell_type": "markdown",
   "id": "9a1fddbc",
   "metadata": {},
   "source": [
    "### Feature Selection by ElasticNet Cross-Validation"
   ]
  },
  {
   "cell_type": "code",
   "execution_count": 12,
   "id": "e7785ee3",
   "metadata": {},
   "outputs": [
    {
     "name": "stderr",
     "output_type": "stream",
     "text": [
      "Running Logistic Regression:   0%|          | 0/25 [00:00<?, ?iteration/s]Exception ignored in: <function ResourceTracker.__del__ at 0x7cf6e258dee0>\n",
      "Traceback (most recent call last):\n",
      "  File \"/home/lestrada/miniconda3/envs/tumor_type_clasifier/lib/python3.13/multiprocessing/resource_tracker.py\", line 82, in __del__\n",
      "  File \"/home/lestrada/miniconda3/envs/tumor_type_clasifier/lib/python3.13/multiprocessing/resource_tracker.py\", line 91, in _stop\n",
      "  File \"/home/lestrada/miniconda3/envs/tumor_type_clasifier/lib/python3.13/multiprocessing/resource_tracker.py\", line 116, in _stop_locked\n",
      "ChildProcessError: [Errno 10] No child processes\n",
      "Exception ignored in: <function ResourceTracker.__del__ at 0x7a0066f8dee0>\n",
      "Traceback (most recent call last):\n",
      "  File \"/home/lestrada/miniconda3/envs/tumor_type_clasifier/lib/python3.13/multiprocessing/resource_tracker.py\", line 82, in __del__\n",
      "  File \"/home/lestrada/miniconda3/envs/tumor_type_clasifier/lib/python3.13/multiprocessing/resource_tracker.py\", line 91, in _stop\n",
      "  File \"/home/lestrada/miniconda3/envs/tumor_type_clasifier/lib/python3.13/multiprocessing/resource_tracker.py\", line 116, in _stop_locked\n",
      "ChildProcessError: [Errno 10] No child processes\n",
      "Exception ignored in: <function ResourceTracker.__del__ at 0x7c1ba1189ee0>\n",
      "Traceback (most recent call last):\n",
      "  File \"/home/lestrada/miniconda3/envs/tumor_type_clasifier/lib/python3.13/multiprocessing/resource_tracker.py\", line 82, in __del__\n",
      "  File \"/home/lestrada/miniconda3/envs/tumor_type_clasifier/lib/python3.13/multiprocessing/resource_tracker.py\", line 91, in _stop\n",
      "  File \"/home/lestrada/miniconda3/envs/tumor_type_clasifier/lib/python3.13/multiprocessing/resource_tracker.py\", line 116, in _stop_locked\n",
      "ChildProcessError: [Errno 10] No child processes\n",
      "Exception ignored in: <function ResourceTracker.__del__ at 0x7b7f6d191ee0>\n",
      "Traceback (most recent call last):\n",
      "  File \"/home/lestrada/miniconda3/envs/tumor_type_clasifier/lib/python3.13/multiprocessing/resource_tracker.py\", line 82, in __del__\n",
      "  File \"/home/lestrada/miniconda3/envs/tumor_type_clasifier/lib/python3.13/multiprocessing/resource_tracker.py\", line 91, in _stop\n",
      "  File \"/home/lestrada/miniconda3/envs/tumor_type_clasifier/lib/python3.13/multiprocessing/resource_tracker.py\", line 116, in _stop_locked\n",
      "ChildProcessError: [Errno 10] No child processes\n",
      "Exception ignored in: <function ResourceTracker.__del__ at 0x72537378dee0>\n",
      "Traceback (most recent call last):\n",
      "  File \"/home/lestrada/miniconda3/envs/tumor_type_clasifier/lib/python3.13/multiprocessing/resource_tracker.py\", line 82, in __del__\n",
      "  File \"/home/lestrada/miniconda3/envs/tumor_type_clasifier/lib/python3.13/multiprocessing/resource_tracker.py\", line 91, in _stop\n",
      "  File \"/home/lestrada/miniconda3/envs/tumor_type_clasifier/lib/python3.13/multiprocessing/resource_tracker.py\", line 116, in _stop_locked\n",
      "ChildProcessError: [Errno 10] No child processes\n",
      "Exception ignored in: <function ResourceTracker.__del__ at 0x7f0ba798dee0>\n",
      "Traceback (most recent call last):\n",
      "  File \"/home/lestrada/miniconda3/envs/tumor_type_clasifier/lib/python3.13/multiprocessing/resource_tracker.py\", line 82, in __del__\n",
      "  File \"/home/lestrada/miniconda3/envs/tumor_type_clasifier/lib/python3.13/multiprocessing/resource_tracker.py\", line 91, in _stop\n",
      "  File \"/home/lestrada/miniconda3/envs/tumor_type_clasifier/lib/python3.13/multiprocessing/resource_tracker.py\", line 116, in _stop_locked\n",
      "ChildProcessError: [Errno 10] No child processes\n",
      "Exception ignored in: <function ResourceTracker.__del__ at 0x77f130795ee0>\n",
      "Traceback (most recent call last):\n",
      "  File \"/home/lestrada/miniconda3/envs/tumor_type_clasifier/lib/python3.13/multiprocessing/resource_tracker.py\", line 82, in __del__\n",
      "  File \"/home/lestrada/miniconda3/envs/tumor_type_clasifier/lib/python3.13/multiprocessing/resource_tracker.py\", line 91, in _stop\n",
      "  File \"/home/lestrada/miniconda3/envs/tumor_type_clasifier/lib/python3.13/multiprocessing/resource_tracker.py\", line 116, in _stop_locked\n",
      "ChildProcessError: [Errno 10] No child processes\n",
      "Exception ignored in: <function ResourceTracker.__del__ at 0x7ca70c199ee0>\n",
      "Traceback (most recent call last):\n",
      "  File \"/home/lestrada/miniconda3/envs/tumor_type_clasifier/lib/python3.13/multiprocessing/resource_tracker.py\", line 82, in __del__\n",
      "  File \"/home/lestrada/miniconda3/envs/tumor_type_clasifier/lib/python3.13/multiprocessing/resource_tracker.py\", line 91, in _stop\n",
      "  File \"/home/lestrada/miniconda3/envs/tumor_type_clasifier/lib/python3.13/multiprocessing/resource_tracker.py\", line 116, in _stop_locked\n",
      "ChildProcessError: [Errno 10] No child processes\n",
      "Running Logistic Regression: 100%|██████████| 25/25 [00:00<00:00, 35.55iteration/s]\n"
     ]
    },
    {
     "name": "stdout",
     "output_type": "stream",
     "text": [
      "DataFrame exported to: /home/lestrada/tumor_type_prediction/notebooks/data/data_output/BRCA_250812_1030_results/feature_selection/CHDM_coefficients.xlsx\n"
     ]
    }
   ],
   "source": [
    "entity_cross_val_coeffs = fs.elnet_wrapper(entity_z_scores_train_df,classified_by=classified_by, tumor_type_name='CHDM', l1_ratio=entity_best_params['l1_ratio'], C=entity_best_params['C'], n_splits=4, n_repeats=25,n_jobs=16, export=True)"
   ]
  },
  {
   "cell_type": "code",
   "execution_count": 13,
   "id": "22c53150",
   "metadata": {},
   "outputs": [
    {
     "name": "stdout",
     "output_type": "stream",
     "text": [
      "With  28  folds, the following statistics were obtained, from feature selection:\n",
      "• Mean MCC score: 0.5628 ± 0.0529\n",
      "\n",
      "----------------------------------------\n",
      "• Top 3 proteins with highest coefficients:\n",
      "           mean       std  Freq  Wald Chi-Square   p-value_corrected  \\\n",
      "TCAF2  1.370146  0.154238   1.0        78.913606            0.000000   \n",
      "PFAS   0.910248  0.185453   1.0        24.090807            0.000003   \n",
      "AMPD2  0.661815  0.199735   1.0        10.979075            0.002172   \n",
      "\n",
      "       Significant  \n",
      "TCAF2          1.0  \n",
      "PFAS           1.0  \n",
      "AMPD2          1.0  \n",
      "\n",
      "----------------------------------------\n",
      "• List of significant proteins: ['TCAF2', 'PFAS', 'AMPD2', 'KRT5', 'CCT2', 'MSH6', 'BIN1', 'PPA1', 'INTS3']\n",
      "• Number of significant proteins: 9\n",
      "\n",
      "----------------------------------------\n",
      " ✖ Warning! ✖: The mean MCC score is below 0.7, indicating poor model performance.\n"
     ]
    }
   ],
   "source": [
    "entity_stats_try, entity_proteins = fs.statistic_from_coefficients(entity_cross_val_coeffs, target_class)"
   ]
  },
  {
   "cell_type": "markdown",
   "id": "a6c19ce5",
   "metadata": {},
   "source": [
    "## Model Fitting\n",
    "Calculated on intensities"
   ]
  },
  {
   "cell_type": "markdown",
   "id": "72a324a7",
   "metadata": {},
   "source": [
    "### Reshaping dataset for training and test"
   ]
  },
  {
   "cell_type": "code",
   "execution_count": 14,
   "id": "b07d03c8",
   "metadata": {},
   "outputs": [],
   "source": [
    "entity_training_fs = fs.reshape_df_for_fitting(entity_training_df, entity_proteins)\n",
    "entity_test_fs = fs.reshape_df_for_fitting(entity_ho_df, entity_proteins)\n"
   ]
  },
  {
   "cell_type": "markdown",
   "id": "57dde188",
   "metadata": {},
   "source": [
    "### Hyperparameter Selection for Logistic Regression"
   ]
  },
  {
   "cell_type": "code",
   "execution_count": 15,
   "id": "68635a44",
   "metadata": {},
   "outputs": [
    {
     "name": "stdout",
     "output_type": "stream",
     "text": [
      "• Running for random_state=0\n",
      "Inner fold model did not converged.\n",
      "Inner fold model did not converged.\n",
      "Inner fold model did not converged.\n",
      "Inner fold model did not converged.\n",
      "Inner fold model did not converged.\n",
      "Inner fold model did not converged.\n",
      "Inner fold model did not converged.\n",
      "Inner fold model did not converged.\n",
      "1 Inner fold best parameter={'C': 10}, Score=0.5092, Outer Validation MCC Score: 0.4426\n",
      "\n",
      "Inner fold model did not converged.\n",
      "Inner fold model did not converged.\n",
      "Inner fold model did not converged.\n",
      "Inner fold model did not converged.\n",
      "Inner fold model did not converged.\n",
      "Inner fold model did not converged.\n",
      "Inner fold model did not converged.\n",
      "Inner fold model did not converged.\n",
      "2 Inner fold best parameter={'C': 1}, Score=0.4786, Outer Validation MCC Score: 0.4793\n",
      "\n",
      "Inner fold model did not converged.\n",
      "Inner fold model did not converged.\n",
      "Inner fold model did not converged.\n",
      "Inner fold model did not converged.\n",
      "Inner fold model did not converged.\n",
      "Inner fold model did not converged.\n",
      "3 Inner fold best parameter={'C': 10}, Score=0.5619, Outer Validation MCC Score: 0.4790\n",
      "\n",
      "Average MCC across all outer folds: 0.4670\n",
      "\n",
      "--------------------------------------------------\n",
      "• Running for random_state=1\n",
      "Inner fold model did not converged.\n",
      "Inner fold model did not converged.\n",
      "Inner fold model did not converged.\n",
      "Inner fold model did not converged.\n",
      "Inner fold model did not converged.\n",
      "Inner fold model did not converged.\n",
      "Inner fold model did not converged.\n",
      "1 Inner fold best parameter={'C': 10}, Score=0.5111, Outer Validation MCC Score: 0.4970\n",
      "\n",
      "Inner fold model did not converged.\n",
      "Inner fold model did not converged.\n",
      "Inner fold model did not converged.\n",
      "Inner fold model did not converged.\n",
      "Inner fold model did not converged.\n",
      "Inner fold model did not converged.\n",
      "Inner fold model did not converged.\n",
      "Inner fold model did not converged.\n",
      "Inner fold model did not converged.\n",
      "2 Inner fold best parameter={'C': 1}, Score=0.5743, Outer Validation MCC Score: 0.4046\n",
      "\n",
      "Inner fold model did not converged.\n",
      "Inner fold model did not converged.\n",
      "Inner fold model did not converged.\n",
      "Inner fold model did not converged.\n",
      "Inner fold model did not converged.\n",
      "Inner fold model did not converged.\n",
      "Inner fold model did not converged.\n",
      "3 Inner fold best parameter={'C': 1}, Score=0.4426, Outer Validation MCC Score: 0.4171\n",
      "\n",
      "Average MCC across all outer folds: 0.4396\n",
      "\n",
      "--------------------------------------------------\n",
      "• Running for random_state=2\n",
      "Inner fold model did not converged.\n",
      "Inner fold model did not converged.\n",
      "Inner fold model did not converged.\n",
      "Inner fold model did not converged.\n",
      "Inner fold model did not converged.\n",
      "Inner fold model did not converged.\n",
      "Inner fold model did not converged.\n",
      "1 Inner fold best parameter={'C': 10}, Score=0.4955, Outer Validation MCC Score: 0.5407\n",
      "\n",
      "Inner fold model did not converged.\n",
      "Inner fold model did not converged.\n",
      "Inner fold model did not converged.\n",
      "Inner fold model did not converged.\n",
      "Inner fold model did not converged.\n",
      "Inner fold model did not converged.\n",
      "Inner fold model did not converged.\n",
      "2 Inner fold best parameter={'C': 10}, Score=0.5382, Outer Validation MCC Score: 0.5510\n",
      "\n",
      "Inner fold model did not converged.\n",
      "Inner fold model did not converged.\n",
      "Inner fold model did not converged.\n",
      "Inner fold model did not converged.\n",
      "3 Inner fold best parameter={'C': 10}, Score=0.5150, Outer Validation MCC Score: 0.4973\n",
      "\n",
      "Average MCC across all outer folds: 0.5297\n",
      "\n",
      "--------------------------------------------------\n",
      "• Running for random_state=3\n",
      "Inner fold model did not converged.\n",
      "Inner fold model did not converged.\n",
      "Inner fold model did not converged.\n",
      "Inner fold model did not converged.\n",
      "Inner fold model did not converged.\n",
      "Inner fold model did not converged.\n",
      "Inner fold model did not converged.\n",
      "Inner fold model did not converged.\n",
      "Inner fold model did not converged.\n",
      "1 Inner fold best parameter={'C': 10}, Score=0.5198, Outer Validation MCC Score: 0.5151\n",
      "\n",
      "Inner fold model did not converged.\n",
      "Inner fold model did not converged.\n",
      "Inner fold model did not converged.\n",
      "Inner fold model did not converged.\n",
      "Inner fold model did not converged.\n",
      "2 Inner fold best parameter={'C': 10}, Score=0.5011, Outer Validation MCC Score: 0.5427\n",
      "\n",
      "Inner fold model did not converged.\n",
      "Inner fold model did not converged.\n",
      "Inner fold model did not converged.\n",
      "Inner fold model did not converged.\n",
      "Inner fold model did not converged.\n",
      "Inner fold model did not converged.\n",
      "Inner fold model did not converged.\n",
      "Inner fold model did not converged.\n",
      "3 Inner fold best parameter={'C': 10}, Score=0.4822, Outer Validation MCC Score: 0.4880\n",
      "\n",
      "Average MCC across all outer folds: 0.5153\n",
      "\n",
      "--------------------------------------------------\n",
      "• Running for random_state=4\n",
      "Inner fold model did not converged.\n",
      "Inner fold model did not converged.\n",
      "Inner fold model did not converged.\n",
      "Inner fold model did not converged.\n",
      "Inner fold model did not converged.\n",
      "Inner fold model did not converged.\n",
      "Inner fold model did not converged.\n",
      "Inner fold model did not converged.\n",
      "Inner fold model did not converged.\n",
      "1 Inner fold best parameter={'C': 10}, Score=0.5697, Outer Validation MCC Score: 0.4663\n",
      "\n",
      "Inner fold model did not converged.\n",
      "Inner fold model did not converged.\n",
      "Inner fold model did not converged.\n",
      "Inner fold model did not converged.\n",
      "Inner fold model did not converged.\n",
      "Inner fold model did not converged.\n",
      "Inner fold model did not converged.\n",
      "2 Inner fold best parameter={'C': 1}, Score=0.4490, Outer Validation MCC Score: 0.4719\n",
      "\n",
      "Inner fold model did not converged.\n",
      "Inner fold model did not converged.\n",
      "Inner fold model did not converged.\n",
      "Inner fold model did not converged.\n",
      "Inner fold model did not converged.\n",
      "3 Inner fold best parameter={'C': 10}, Score=0.4961, Outer Validation MCC Score: 0.5389\n",
      "\n",
      "Average MCC across all outer folds: 0.4924\n",
      "\n",
      "--------------------------------------------------\n",
      "                                                       10  \\\n",
      "scores  [0.44263369499293914, 0.47901778876993906, 0.4...   \n",
      "count                                                  11   \n",
      "avg                                              0.505336   \n",
      "\n",
      "                                                       1   \n",
      "scores  [0.4792795993172215, 0.40462148468046216, 0.41...  \n",
      "count                                                   4  \n",
      "avg                                              0.443214  \n"
     ]
    }
   ],
   "source": [
    "entity_to_nest_cv_results = mf.wrapper_nested_cv(entity_training_fs, random_state_tries=5, n_splits=3, classified_by=classified_by)\n",
    "entity_to_nest_hp = mf.nested_cv_hparameters_selection(entity_to_nest_cv_results)"
   ]
  },
  {
   "cell_type": "code",
   "execution_count": 16,
   "id": "c630f68f",
   "metadata": {},
   "outputs": [],
   "source": [
    "hyperparameter_C = pd.DataFrame(entity_to_nest_hp).T.sort_values(by='avg', ascending=False).index.tolist()[0]"
   ]
  },
  {
   "cell_type": "code",
   "execution_count": 17,
   "id": "1b69a286",
   "metadata": {},
   "outputs": [
    {
     "data": {
      "text/plain": [
       "10"
      ]
     },
     "execution_count": 17,
     "metadata": {},
     "output_type": "execute_result"
    }
   ],
   "source": [
    "hyperparameter_C"
   ]
  },
  {
   "cell_type": "markdown",
   "id": "b1b535ce",
   "metadata": {},
   "source": [
    "### Model Fit"
   ]
  },
  {
   "cell_type": "code",
   "execution_count": 18,
   "id": "737c7a0a",
   "metadata": {},
   "outputs": [
    {
     "name": "stdout",
     "output_type": "stream",
     "text": [
      "Model saved as CHDM_log_reg_ridge_model.pkl\n"
     ]
    },
    {
     "name": "stderr",
     "output_type": "stream",
     "text": [
      "/home/lestrada/miniconda3/envs/tumor_type_clasifier/lib/python3.13/site-packages/sklearn/linear_model/_sag.py:348: ConvergenceWarning: The max_iter was reached which means the coef_ did not converge\n",
      "  warnings.warn(\n"
     ]
    }
   ],
   "source": [
    "entity_log_reg_model = mf.logistic_regression_ridge( entity_training_fs, hyperparameter_C, target_class, classified_by=classified_by) "
   ]
  },
  {
   "cell_type": "code",
   "execution_count": 19,
   "id": "05fd7658",
   "metadata": {},
   "outputs": [
    {
     "name": "stdout",
     "output_type": "stream",
     "text": [
      "# of Iterations: [10000]\n",
      "MCC train: 0.47319156771586096\n",
      "MCC test: 0.4749539249389099\n",
      "F1 Positive: 0.47058823529411764\n"
     ]
    }
   ],
   "source": [
    "entity_coefficients, entity_train_probabilities, entity_test_probabilities = mf.logistic_regression_results(entity_log_reg_model, entity_training_fs, entity_ho_df, target_class, classified_by=classified_by)"
   ]
  },
  {
   "cell_type": "code",
   "execution_count": 20,
   "id": "aaef3c09",
   "metadata": {},
   "outputs": [
    {
     "name": "stdout",
     "output_type": "stream",
     "text": [
      "------------------------------------\n",
      "•General Scores:\n",
      "MCC Score: 0.4749539249389099\n",
      "F1 Macro: 0.6898395721925134\n",
      "F1 Micro: 0.8448275862068966\n",
      "F1 Entity Score: 0.47058823529411764\n",
      "\n",
      "------------------------------------\n",
      "•Confusion Matrix:\n",
      "  TN | FP\n",
      "[[270  51]\n",
      " [  3  24]]\n",
      "  FN | TP\n",
      "\n",
      "------------------------------------\n",
      "•False Positives:\n",
      "              Sample name code_oncotree  Classifier  Probability  Predicted\n",
      "0       H021-3RLVZS-T1-Q1         AASTR           0     0.873161        1.0\n",
      "2       H021-T1B3YD-M1-Q1           ACC           0     0.986838        1.0\n",
      "7       H021-ADE19T-M1-Q1           ACC           0     0.561760        1.0\n",
      "16      H021-XQG7LH-T1-Q1          ANGS           0     0.695787        1.0\n",
      "42         H021-1AZ5GH-T1            BA           0     0.907111        1.0\n",
      "46     K26K-AKQTJ4-M12-P1          BRCA           0     0.999924        1.0\n",
      "56     K26K-RTLHQJ-M11-Q1          BRCA           0     0.787424        1.0\n",
      "68     K26K-YN54AN-M11-Q1          BRCA           0     0.586034        1.0\n",
      "73     K26K-L8XPSZ-M11-Q1          BRCA           0     0.908107        1.0\n",
      "75     K26K-7ATS4U-M12-Q1          BRCA           0     0.704316        1.0\n",
      "81      H021-4X511D-M2-Q1          CEAD           0     0.962066        1.0\n",
      "112     H021-PJCDQK-T1-Q1           CHS           0     0.965034        1.0\n",
      "113     H021-REHPN7-T1-Q2           CHS           0     0.959965        1.0\n",
      "114    H021-WAPKKMA-T1-Q1           CHS           0     0.578228        1.0\n",
      "121        H021-1GLAY6-T3          DDLS           0     0.981823        1.0\n",
      "124     H021-WNF9LY-T2-Q1          DDLS           0     0.990266        1.0\n",
      "133     H021-7KHCMY-T1-Q1         DSRCT           0     0.788264        1.0\n",
      "134     H021-P691WD-M4-E2          EHAE           0     0.638597        1.0\n",
      "135     H021-TU8PQ4-T2-E2          EHAE           0     0.790091        1.0\n",
      "145       I024-032-1T1-P1          ERMS           0     0.759687        1.0\n",
      "163        H021-W91N9P-M1          FIBS           0     0.611405        1.0\n",
      "177        H021-VN7KR5-T3          IHCH           0     0.759945        1.0\n",
      "209     H021-BPS42D-T2-Q1          LUNE           0     0.956962        1.0\n",
      "211     H021-DUNQJ4-T1-Q1           MEL           0     0.909150        1.0\n",
      "213     H021-PMCF88-M1-Q1           MEL           0     0.652381        1.0\n",
      "215        H021-RF6GGV-T1           MFH           0     0.592811        1.0\n",
      "218     H021-F3AWG4-M3-Q1           MFH           0     0.950551        1.0\n",
      "222        H021-ENQC15-T3           MFS           0     0.743309        1.0\n",
      "223     H021-REMYWJ-T1-Q1           MFS           0     0.606264        1.0\n",
      "227     H021-CQK51F-M1-Q1         MPNST           0     0.869403        1.0\n",
      "235     H021-BXZS35-M1-Q2         MYCHS           0     0.859747        1.0\n",
      "244     H021-638DT1-M1-Q1            OS           0     0.524059        1.0\n",
      "245     H021-NSM3WK-M2-Q1            OS           0     0.918641        1.0\n",
      "246     H021-Z58MC6-T1-Q1            OS           0     0.507817        1.0\n",
      "254     H021-3SG1C4-T1-Q1          PAAD           0     0.886699        1.0\n",
      "260     H021-G1XT3E-T3-Q1         PANET           0     0.576626        1.0\n",
      "265     H021-FAEDHG-M1-Q1        PEMESO           0     0.990611        1.0\n",
      "268  PLAGL-T2490324-T1-R3        PLAGL1           0     0.720904        1.0\n",
      "272        H021-XP5T1N-M4         PLRMS           0     0.735318        1.0\n",
      "275     H021-5867EC-M5-Q1           PHC           0     0.980512        1.0\n",
      "276     H021-85264R-M1-Q1           RCC           0     0.554387        1.0\n",
      "277     H021-UK5YMH-M6-Q1           RCC           0     0.574085        1.0\n",
      "287     H021-LKCJEL-U1-Q1         SCRMS           0     0.927731        1.0\n",
      "304     H021-S5NH1G-M1-Q1           SNA           0     0.843508        1.0\n",
      "306     H021-JLFYAT-T2-Q1          STAD           0     0.621069        1.0\n",
      "307     H021-9GE5AQ-M1-Q1          STAD           0     0.872075        1.0\n",
      "320     H021-8EFMUF-T2-Q1          SYNS           0     0.508075        1.0\n",
      "321     H021-L2R2M9-T2-Q1          SYNS           0     0.856829        1.0\n",
      "324     H021-8HZGNY-T1-Q1          THAP           0     0.552593        1.0\n",
      "338     H021-9Q12BY-M1-Q1          ULMS           0     0.897338        1.0\n",
      "343     H021-98DXXQ-M3-Q1            UM           0     0.758321        1.0\n",
      "\n",
      "------------------------------------\n",
      "•False Negatives:\n",
      "           Sample name code_oncotree  Classifier  Probability  Predicted\n",
      "85   H021-9G2S1F-T1-E2          CHDM           1     0.182742        0.0\n",
      "87      H021-YUE8CH-T1          CHDM           1     0.394440        0.0\n",
      "105  S033-33+035-T1-Q1          CHDM           1     0.223405        0.0\n"
     ]
    },
    {
     "name": "stderr",
     "output_type": "stream",
     "text": [
      "Exception ignored in: <function ResourceTracker.__del__ at 0x76871d785ee0>\n",
      "Traceback (most recent call last):\n",
      "  File \"/home/lestrada/miniconda3/envs/tumor_type_clasifier/lib/python3.13/multiprocessing/resource_tracker.py\", line 82, in __del__\n",
      "  File \"/home/lestrada/miniconda3/envs/tumor_type_clasifier/lib/python3.13/multiprocessing/resource_tracker.py\", line 91, in _stop\n",
      "  File \"/home/lestrada/miniconda3/envs/tumor_type_clasifier/lib/python3.13/multiprocessing/resource_tracker.py\", line 116, in _stop_locked\n",
      "ChildProcessError: [Errno 10] No child processes\n",
      "Exception ignored in: <function ResourceTracker.__del__ at 0x768675391ee0>\n",
      "Traceback (most recent call last):\n",
      "  File \"/home/lestrada/miniconda3/envs/tumor_type_clasifier/lib/python3.13/multiprocessing/resource_tracker.py\", line 82, in __del__\n",
      "  File \"/home/lestrada/miniconda3/envs/tumor_type_clasifier/lib/python3.13/multiprocessing/resource_tracker.py\", line 91, in _stop\n",
      "  File \"/home/lestrada/miniconda3/envs/tumor_type_clasifier/lib/python3.13/multiprocessing/resource_tracker.py\", line 116, in _stop_locked\n",
      "ChildProcessError: [Errno 10] No child processes\n",
      "Exception ignored in: <function ResourceTracker.__del__ at 0x70b7e3795ee0>\n",
      "Traceback (most recent call last):\n",
      "  File \"/home/lestrada/miniconda3/envs/tumor_type_clasifier/lib/python3.13/multiprocessing/resource_tracker.py\", line 82, in __del__\n",
      "  File \"/home/lestrada/miniconda3/envs/tumor_type_clasifier/lib/python3.13/multiprocessing/resource_tracker.py\", line 91, in _stop\n",
      "  File \"/home/lestrada/miniconda3/envs/tumor_type_clasifier/lib/python3.13/multiprocessing/resource_tracker.py\", line 116, in _stop_locked\n",
      "ChildProcessError: [Errno 10] No child processes\n",
      "Exception ignored in: <function ResourceTracker.__del__ at 0x72d330789ee0>\n",
      "Traceback (most recent call last):\n",
      "  File \"/home/lestrada/miniconda3/envs/tumor_type_clasifier/lib/python3.13/multiprocessing/resource_tracker.py\", line 82, in __del__\n",
      "  File \"/home/lestrada/miniconda3/envs/tumor_type_clasifier/lib/python3.13/multiprocessing/resource_tracker.py\", line 91, in _stop\n",
      "  File \"/home/lestrada/miniconda3/envs/tumor_type_clasifier/lib/python3.13/multiprocessing/resource_tracker.py\", line 116, in _stop_locked\n",
      "ChildProcessError: [Errno 10] No child processes\n",
      "Exception ignored in: <function ResourceTracker.__del__ at 0x727901f81ee0>\n",
      "Traceback (most recent call last):\n",
      "  File \"/home/lestrada/miniconda3/envs/tumor_type_clasifier/lib/python3.13/multiprocessing/resource_tracker.py\", line 82, in __del__\n",
      "  File \"/home/lestrada/miniconda3/envs/tumor_type_clasifier/lib/python3.13/multiprocessing/resource_tracker.py\", line 91, in _stop\n",
      "  File \"/home/lestrada/miniconda3/envs/tumor_type_clasifier/lib/python3.13/multiprocessing/resource_tracker.py\", line 116, in _stop_locked\n",
      "ChildProcessError: [Errno 10] No child processes\n",
      "Exception ignored in: <function ResourceTracker.__del__ at 0x766a8f185ee0>\n",
      "Traceback (most recent call last):\n",
      "  File \"/home/lestrada/miniconda3/envs/tumor_type_clasifier/lib/python3.13/multiprocessing/resource_tracker.py\", line 82, in __del__\n",
      "  File \"/home/lestrada/miniconda3/envs/tumor_type_clasifier/lib/python3.13/multiprocessing/resource_tracker.py\", line 91, in _stop\n",
      "  File \"/home/lestrada/miniconda3/envs/tumor_type_clasifier/lib/python3.13/multiprocessing/resource_tracker.py\", line 116, in _stop_locked\n",
      "ChildProcessError: [Errno 10] No child processes\n",
      "Exception ignored in: <function ResourceTracker.__del__ at 0x7449be97dee0>\n",
      "Traceback (most recent call last):\n",
      "  File \"/home/lestrada/miniconda3/envs/tumor_type_clasifier/lib/python3.13/multiprocessing/resource_tracker.py\", line 82, in __del__\n",
      "  File \"/home/lestrada/miniconda3/envs/tumor_type_clasifier/lib/python3.13/multiprocessing/resource_tracker.py\", line 91, in _stop\n",
      "  File \"/home/lestrada/miniconda3/envs/tumor_type_clasifier/lib/python3.13/multiprocessing/resource_tracker.py\", line 116, in _stop_locked\n",
      "ChildProcessError: [Errno 10] No child processes\n",
      "Exception ignored in: <function ResourceTracker.__del__ at 0x78b8c2189ee0>\n",
      "Traceback (most recent call last):\n",
      "  File \"/home/lestrada/miniconda3/envs/tumor_type_clasifier/lib/python3.13/multiprocessing/resource_tracker.py\", line 82, in __del__\n",
      "  File \"/home/lestrada/miniconda3/envs/tumor_type_clasifier/lib/python3.13/multiprocessing/resource_tracker.py\", line 91, in _stop\n",
      "  File \"/home/lestrada/miniconda3/envs/tumor_type_clasifier/lib/python3.13/multiprocessing/resource_tracker.py\", line 116, in _stop_locked\n",
      "ChildProcessError: [Errno 10] No child processes\n",
      "Exception ignored in: <function ResourceTracker.__del__ at 0x7ce7adf85ee0>\n",
      "Traceback (most recent call last):\n",
      "  File \"/home/lestrada/miniconda3/envs/tumor_type_clasifier/lib/python3.13/multiprocessing/resource_tracker.py\", line 82, in __del__\n",
      "  File \"/home/lestrada/miniconda3/envs/tumor_type_clasifier/lib/python3.13/multiprocessing/resource_tracker.py\", line 91, in _stop\n",
      "  File \"/home/lestrada/miniconda3/envs/tumor_type_clasifier/lib/python3.13/multiprocessing/resource_tracker.py\", line 116, in _stop_locked\n",
      "ChildProcessError: [Errno 10] No child processes\n",
      "Exception ignored in: <function ResourceTracker.__del__ at 0x700ccdb8dee0>\n",
      "Traceback (most recent call last):\n",
      "  File \"/home/lestrada/miniconda3/envs/tumor_type_clasifier/lib/python3.13/multiprocessing/resource_tracker.py\", line 82, in __del__\n",
      "  File \"/home/lestrada/miniconda3/envs/tumor_type_clasifier/lib/python3.13/multiprocessing/resource_tracker.py\", line 91, in _stop\n",
      "  File \"/home/lestrada/miniconda3/envs/tumor_type_clasifier/lib/python3.13/multiprocessing/resource_tracker.py\", line 116, in _stop_locked\n",
      "ChildProcessError: [Errno 10] No child processes\n",
      "Exception ignored in: <function ResourceTracker.__del__ at 0x7613be995ee0>\n",
      "Traceback (most recent call last):\n",
      "  File \"/home/lestrada/miniconda3/envs/tumor_type_clasifier/lib/python3.13/multiprocessing/resource_tracker.py\", line 82, in __del__\n",
      "  File \"/home/lestrada/miniconda3/envs/tumor_type_clasifier/lib/python3.13/multiprocessing/resource_tracker.py\", line 91, in _stop\n",
      "  File \"/home/lestrada/miniconda3/envs/tumor_type_clasifier/lib/python3.13/multiprocessing/resource_tracker.py\", line 116, in _stop_locked\n",
      "ChildProcessError: [Errno 10] No child processes\n",
      "Exception ignored in: <function ResourceTracker.__del__ at 0x7541ed189ee0>\n",
      "Traceback (most recent call last):\n",
      "  File \"/home/lestrada/miniconda3/envs/tumor_type_clasifier/lib/python3.13/multiprocessing/resource_tracker.py\", line 82, in __del__\n",
      "  File \"/home/lestrada/miniconda3/envs/tumor_type_clasifier/lib/python3.13/multiprocessing/resource_tracker.py\", line 91, in _stop\n",
      "  File \"/home/lestrada/miniconda3/envs/tumor_type_clasifier/lib/python3.13/multiprocessing/resource_tracker.py\", line 116, in _stop_locked\n",
      "ChildProcessError: [Errno 10] No child processes\n",
      "Exception ignored in: <function ResourceTracker.__del__ at 0x7811c6f95ee0>\n",
      "Traceback (most recent call last):\n",
      "  File \"/home/lestrada/miniconda3/envs/tumor_type_clasifier/lib/python3.13/multiprocessing/resource_tracker.py\", line 82, in __del__\n",
      "  File \"/home/lestrada/miniconda3/envs/tumor_type_clasifier/lib/python3.13/multiprocessing/resource_tracker.py\", line 91, in _stop\n",
      "  File \"/home/lestrada/miniconda3/envs/tumor_type_clasifier/lib/python3.13/multiprocessing/resource_tracker.py\", line 116, in _stop_locked\n",
      "ChildProcessError: [Errno 10] No child processes\n",
      "Exception ignored in: <function ResourceTracker.__del__ at 0x767412589ee0>\n",
      "Traceback (most recent call last):\n",
      "  File \"/home/lestrada/miniconda3/envs/tumor_type_clasifier/lib/python3.13/multiprocessing/resource_tracker.py\", line 82, in __del__\n",
      "  File \"/home/lestrada/miniconda3/envs/tumor_type_clasifier/lib/python3.13/multiprocessing/resource_tracker.py\", line 91, in _stop\n",
      "  File \"/home/lestrada/miniconda3/envs/tumor_type_clasifier/lib/python3.13/multiprocessing/resource_tracker.py\", line 116, in _stop_locked\n",
      "ChildProcessError: [Errno 10] No child processes\n",
      "Exception ignored in: <function ResourceTracker.__del__ at 0x71b457575ee0>\n",
      "Traceback (most recent call last):\n",
      "  File \"/home/lestrada/miniconda3/envs/tumor_type_clasifier/lib/python3.13/multiprocessing/resource_tracker.py\", line 82, in __del__\n",
      "  File \"/home/lestrada/miniconda3/envs/tumor_type_clasifier/lib/python3.13/multiprocessing/resource_tracker.py\", line 91, in _stop\n",
      "  File \"/home/lestrada/miniconda3/envs/tumor_type_clasifier/lib/python3.13/multiprocessing/resource_tracker.py\", line 116, in _stop_locked\n",
      "ChildProcessError: [Errno 10] No child processes\n",
      "Exception ignored in: <function ResourceTracker.__del__ at 0x7ca7c5b95ee0>\n",
      "Traceback (most recent call last):\n",
      "  File \"/home/lestrada/miniconda3/envs/tumor_type_clasifier/lib/python3.13/multiprocessing/resource_tracker.py\", line 82, in __del__\n",
      "  File \"/home/lestrada/miniconda3/envs/tumor_type_clasifier/lib/python3.13/multiprocessing/resource_tracker.py\", line 91, in _stop\n",
      "  File \"/home/lestrada/miniconda3/envs/tumor_type_clasifier/lib/python3.13/multiprocessing/resource_tracker.py\", line 116, in _stop_locked\n",
      "ChildProcessError: [Errno 10] No child processes\n"
     ]
    }
   ],
   "source": [
    "test_entity_scores = mf.classification_scores(entity_test_probabilities)"
   ]
  },
  {
   "cell_type": "markdown",
   "id": "3049e4d5",
   "metadata": {},
   "source": [
    "# Graphs"
   ]
  },
  {
   "cell_type": "markdown",
   "id": "ce519f26",
   "metadata": {},
   "source": [
    "### 3D UMAP with selected features"
   ]
  },
  {
   "cell_type": "code",
   "execution_count": 16,
   "id": "5e399f6f",
   "metadata": {},
   "outputs": [
    {
     "data": {
      "text/html": [
       "<div>\n",
       "<style scoped>\n",
       "    .dataframe tbody tr th:only-of-type {\n",
       "        vertical-align: middle;\n",
       "    }\n",
       "\n",
       "    .dataframe tbody tr th {\n",
       "        vertical-align: top;\n",
       "    }\n",
       "\n",
       "    .dataframe thead th {\n",
       "        text-align: right;\n",
       "    }\n",
       "</style>\n",
       "<table border=\"1\" class=\"dataframe\">\n",
       "  <thead>\n",
       "    <tr style=\"text-align: right;\">\n",
       "      <th></th>\n",
       "      <th>Sample name</th>\n",
       "      <th>code_oncotree</th>\n",
       "      <th>PHB</th>\n",
       "      <th>TBL2</th>\n",
       "      <th>SAA1</th>\n",
       "      <th>CDKN1B</th>\n",
       "      <th>SNRNP70</th>\n",
       "      <th>TARDBP</th>\n",
       "      <th>GALNT6</th>\n",
       "      <th>ADGRL2</th>\n",
       "      <th>...</th>\n",
       "      <th>B4GALNT4</th>\n",
       "      <th>VGLL1</th>\n",
       "      <th>CCDC18</th>\n",
       "      <th>ZDHHC12</th>\n",
       "      <th>EGLN2</th>\n",
       "      <th>GABARAP</th>\n",
       "      <th>GUCY1B2</th>\n",
       "      <th>ATOH1</th>\n",
       "      <th>IL37</th>\n",
       "      <th>MYEOV</th>\n",
       "    </tr>\n",
       "  </thead>\n",
       "  <tbody>\n",
       "    <tr>\n",
       "      <th>0</th>\n",
       "      <td>H021-3RLVZS-T1-Q1</td>\n",
       "      <td>AASTR</td>\n",
       "      <td>8.984560</td>\n",
       "      <td>8.023966</td>\n",
       "      <td>6.753402</td>\n",
       "      <td>7.454177</td>\n",
       "      <td>8.925887</td>\n",
       "      <td>8.619639</td>\n",
       "      <td>6.503819</td>\n",
       "      <td>6.634201</td>\n",
       "      <td>...</td>\n",
       "      <td>3.908711</td>\n",
       "      <td>4.893061</td>\n",
       "      <td>8.384738</td>\n",
       "      <td>5.540645</td>\n",
       "      <td>5.610053</td>\n",
       "      <td>8.589079</td>\n",
       "      <td>4.280819</td>\n",
       "      <td>4.804935</td>\n",
       "      <td>5.081195</td>\n",
       "      <td>6.330591</td>\n",
       "    </tr>\n",
       "    <tr>\n",
       "      <th>1</th>\n",
       "      <td>H021-VFM3B1-T1-Q1</td>\n",
       "      <td>AASTR</td>\n",
       "      <td>8.718650</td>\n",
       "      <td>8.251288</td>\n",
       "      <td>4.339679</td>\n",
       "      <td>7.100625</td>\n",
       "      <td>9.011852</td>\n",
       "      <td>8.804410</td>\n",
       "      <td>6.485060</td>\n",
       "      <td>6.455182</td>\n",
       "      <td>...</td>\n",
       "      <td>3.716039</td>\n",
       "      <td>5.097237</td>\n",
       "      <td>8.154195</td>\n",
       "      <td>5.523128</td>\n",
       "      <td>4.333116</td>\n",
       "      <td>7.669777</td>\n",
       "      <td>4.017277</td>\n",
       "      <td>4.735047</td>\n",
       "      <td>5.042454</td>\n",
       "      <td>6.344058</td>\n",
       "    </tr>\n",
       "    <tr>\n",
       "      <th>2</th>\n",
       "      <td>H021-3RLVZS-T1-Q1-R2</td>\n",
       "      <td>AASTR</td>\n",
       "      <td>8.835052</td>\n",
       "      <td>7.923742</td>\n",
       "      <td>4.993241</td>\n",
       "      <td>7.556858</td>\n",
       "      <td>8.702717</td>\n",
       "      <td>8.678147</td>\n",
       "      <td>5.679800</td>\n",
       "      <td>6.681296</td>\n",
       "      <td>...</td>\n",
       "      <td>3.523717</td>\n",
       "      <td>4.570259</td>\n",
       "      <td>8.013464</td>\n",
       "      <td>5.413037</td>\n",
       "      <td>6.559988</td>\n",
       "      <td>7.543514</td>\n",
       "      <td>3.253285</td>\n",
       "      <td>4.820705</td>\n",
       "      <td>5.485397</td>\n",
       "      <td>6.428895</td>\n",
       "    </tr>\n",
       "    <tr>\n",
       "      <th>3</th>\n",
       "      <td>H021-XBLS3R-M1-Q1</td>\n",
       "      <td>AASTR</td>\n",
       "      <td>8.579244</td>\n",
       "      <td>8.066515</td>\n",
       "      <td>6.595761</td>\n",
       "      <td>7.622104</td>\n",
       "      <td>8.891614</td>\n",
       "      <td>8.748704</td>\n",
       "      <td>5.830286</td>\n",
       "      <td>7.012399</td>\n",
       "      <td>...</td>\n",
       "      <td>3.741589</td>\n",
       "      <td>5.271207</td>\n",
       "      <td>6.954656</td>\n",
       "      <td>5.456343</td>\n",
       "      <td>5.011769</td>\n",
       "      <td>7.289927</td>\n",
       "      <td>3.622817</td>\n",
       "      <td>4.718377</td>\n",
       "      <td>4.756875</td>\n",
       "      <td>6.355915</td>\n",
       "    </tr>\n",
       "    <tr>\n",
       "      <th>4</th>\n",
       "      <td>H021-M2MSRE-M1-Q1</td>\n",
       "      <td>ACBC</td>\n",
       "      <td>8.458278</td>\n",
       "      <td>8.279497</td>\n",
       "      <td>7.085902</td>\n",
       "      <td>7.567453</td>\n",
       "      <td>9.340441</td>\n",
       "      <td>9.086740</td>\n",
       "      <td>6.604867</td>\n",
       "      <td>7.244211</td>\n",
       "      <td>...</td>\n",
       "      <td>3.617362</td>\n",
       "      <td>5.161070</td>\n",
       "      <td>6.916521</td>\n",
       "      <td>5.458319</td>\n",
       "      <td>6.121038</td>\n",
       "      <td>5.577484</td>\n",
       "      <td>4.061102</td>\n",
       "      <td>4.686711</td>\n",
       "      <td>5.029859</td>\n",
       "      <td>6.337855</td>\n",
       "    </tr>\n",
       "    <tr>\n",
       "      <th>...</th>\n",
       "      <td>...</td>\n",
       "      <td>...</td>\n",
       "      <td>...</td>\n",
       "      <td>...</td>\n",
       "      <td>...</td>\n",
       "      <td>...</td>\n",
       "      <td>...</td>\n",
       "      <td>...</td>\n",
       "      <td>...</td>\n",
       "      <td>...</td>\n",
       "      <td>...</td>\n",
       "      <td>...</td>\n",
       "      <td>...</td>\n",
       "      <td>...</td>\n",
       "      <td>...</td>\n",
       "      <td>...</td>\n",
       "      <td>...</td>\n",
       "      <td>...</td>\n",
       "      <td>...</td>\n",
       "      <td>...</td>\n",
       "      <td>...</td>\n",
       "    </tr>\n",
       "    <tr>\n",
       "      <th>1839</th>\n",
       "      <td>H021-BYHFHEU-M2-Q1</td>\n",
       "      <td>VMM</td>\n",
       "      <td>8.916305</td>\n",
       "      <td>8.502172</td>\n",
       "      <td>6.109480</td>\n",
       "      <td>7.556417</td>\n",
       "      <td>9.145065</td>\n",
       "      <td>8.881749</td>\n",
       "      <td>5.766890</td>\n",
       "      <td>6.754905</td>\n",
       "      <td>...</td>\n",
       "      <td>3.986428</td>\n",
       "      <td>5.139966</td>\n",
       "      <td>8.092827</td>\n",
       "      <td>5.487697</td>\n",
       "      <td>6.030887</td>\n",
       "      <td>7.143923</td>\n",
       "      <td>4.014328</td>\n",
       "      <td>4.771435</td>\n",
       "      <td>5.033161</td>\n",
       "      <td>6.388024</td>\n",
       "    </tr>\n",
       "    <tr>\n",
       "      <th>1840</th>\n",
       "      <td>H021-VYS51F-M1-Q1</td>\n",
       "      <td>VSC</td>\n",
       "      <td>8.722520</td>\n",
       "      <td>8.489673</td>\n",
       "      <td>7.680883</td>\n",
       "      <td>7.099229</td>\n",
       "      <td>8.944614</td>\n",
       "      <td>8.720405</td>\n",
       "      <td>5.669458</td>\n",
       "      <td>6.378328</td>\n",
       "      <td>...</td>\n",
       "      <td>3.864893</td>\n",
       "      <td>4.952716</td>\n",
       "      <td>7.434742</td>\n",
       "      <td>5.426502</td>\n",
       "      <td>4.768099</td>\n",
       "      <td>7.206934</td>\n",
       "      <td>4.049730</td>\n",
       "      <td>4.749698</td>\n",
       "      <td>5.009383</td>\n",
       "      <td>6.308210</td>\n",
       "    </tr>\n",
       "    <tr>\n",
       "      <th>1841</th>\n",
       "      <td>H021-1B7R18-M1-Q1</td>\n",
       "      <td>VSC</td>\n",
       "      <td>8.785227</td>\n",
       "      <td>7.901660</td>\n",
       "      <td>7.403964</td>\n",
       "      <td>6.712853</td>\n",
       "      <td>8.728085</td>\n",
       "      <td>8.952848</td>\n",
       "      <td>6.006462</td>\n",
       "      <td>6.809079</td>\n",
       "      <td>...</td>\n",
       "      <td>3.886330</td>\n",
       "      <td>5.299532</td>\n",
       "      <td>6.508352</td>\n",
       "      <td>5.459801</td>\n",
       "      <td>4.192192</td>\n",
       "      <td>6.851469</td>\n",
       "      <td>3.747775</td>\n",
       "      <td>4.817958</td>\n",
       "      <td>5.058267</td>\n",
       "      <td>6.315013</td>\n",
       "    </tr>\n",
       "    <tr>\n",
       "      <th>1842</th>\n",
       "      <td>H021-FUFZFT-T1-Q1</td>\n",
       "      <td>VSC</td>\n",
       "      <td>8.405800</td>\n",
       "      <td>8.461433</td>\n",
       "      <td>7.719436</td>\n",
       "      <td>7.488420</td>\n",
       "      <td>9.085873</td>\n",
       "      <td>8.847058</td>\n",
       "      <td>7.791974</td>\n",
       "      <td>7.181439</td>\n",
       "      <td>...</td>\n",
       "      <td>3.604483</td>\n",
       "      <td>5.250035</td>\n",
       "      <td>6.717356</td>\n",
       "      <td>5.476761</td>\n",
       "      <td>4.972328</td>\n",
       "      <td>6.843180</td>\n",
       "      <td>4.012043</td>\n",
       "      <td>4.593288</td>\n",
       "      <td>5.307830</td>\n",
       "      <td>6.394320</td>\n",
       "    </tr>\n",
       "    <tr>\n",
       "      <th>1843</th>\n",
       "      <td>H021-1B7R18-M7-Q1</td>\n",
       "      <td>VSC</td>\n",
       "      <td>8.602149</td>\n",
       "      <td>8.127563</td>\n",
       "      <td>7.994777</td>\n",
       "      <td>7.321124</td>\n",
       "      <td>8.890529</td>\n",
       "      <td>8.665192</td>\n",
       "      <td>5.724092</td>\n",
       "      <td>7.062921</td>\n",
       "      <td>...</td>\n",
       "      <td>3.817470</td>\n",
       "      <td>5.127022</td>\n",
       "      <td>6.580477</td>\n",
       "      <td>5.524469</td>\n",
       "      <td>7.237829</td>\n",
       "      <td>6.326291</td>\n",
       "      <td>3.677063</td>\n",
       "      <td>4.997501</td>\n",
       "      <td>5.340947</td>\n",
       "      <td>6.331129</td>\n",
       "    </tr>\n",
       "  </tbody>\n",
       "</table>\n",
       "<p>1844 rows × 13076 columns</p>\n",
       "</div>"
      ],
      "text/plain": [
       "               Sample name code_oncotree       PHB      TBL2      SAA1  \\\n",
       "0        H021-3RLVZS-T1-Q1         AASTR  8.984560  8.023966  6.753402   \n",
       "1        H021-VFM3B1-T1-Q1         AASTR  8.718650  8.251288  4.339679   \n",
       "2     H021-3RLVZS-T1-Q1-R2         AASTR  8.835052  7.923742  4.993241   \n",
       "3        H021-XBLS3R-M1-Q1         AASTR  8.579244  8.066515  6.595761   \n",
       "4        H021-M2MSRE-M1-Q1          ACBC  8.458278  8.279497  7.085902   \n",
       "...                    ...           ...       ...       ...       ...   \n",
       "1839    H021-BYHFHEU-M2-Q1           VMM  8.916305  8.502172  6.109480   \n",
       "1840     H021-VYS51F-M1-Q1           VSC  8.722520  8.489673  7.680883   \n",
       "1841     H021-1B7R18-M1-Q1           VSC  8.785227  7.901660  7.403964   \n",
       "1842     H021-FUFZFT-T1-Q1           VSC  8.405800  8.461433  7.719436   \n",
       "1843     H021-1B7R18-M7-Q1           VSC  8.602149  8.127563  7.994777   \n",
       "\n",
       "        CDKN1B   SNRNP70    TARDBP    GALNT6    ADGRL2  ...  B4GALNT4  \\\n",
       "0     7.454177  8.925887  8.619639  6.503819  6.634201  ...  3.908711   \n",
       "1     7.100625  9.011852  8.804410  6.485060  6.455182  ...  3.716039   \n",
       "2     7.556858  8.702717  8.678147  5.679800  6.681296  ...  3.523717   \n",
       "3     7.622104  8.891614  8.748704  5.830286  7.012399  ...  3.741589   \n",
       "4     7.567453  9.340441  9.086740  6.604867  7.244211  ...  3.617362   \n",
       "...        ...       ...       ...       ...       ...  ...       ...   \n",
       "1839  7.556417  9.145065  8.881749  5.766890  6.754905  ...  3.986428   \n",
       "1840  7.099229  8.944614  8.720405  5.669458  6.378328  ...  3.864893   \n",
       "1841  6.712853  8.728085  8.952848  6.006462  6.809079  ...  3.886330   \n",
       "1842  7.488420  9.085873  8.847058  7.791974  7.181439  ...  3.604483   \n",
       "1843  7.321124  8.890529  8.665192  5.724092  7.062921  ...  3.817470   \n",
       "\n",
       "         VGLL1    CCDC18   ZDHHC12     EGLN2   GABARAP   GUCY1B2     ATOH1  \\\n",
       "0     4.893061  8.384738  5.540645  5.610053  8.589079  4.280819  4.804935   \n",
       "1     5.097237  8.154195  5.523128  4.333116  7.669777  4.017277  4.735047   \n",
       "2     4.570259  8.013464  5.413037  6.559988  7.543514  3.253285  4.820705   \n",
       "3     5.271207  6.954656  5.456343  5.011769  7.289927  3.622817  4.718377   \n",
       "4     5.161070  6.916521  5.458319  6.121038  5.577484  4.061102  4.686711   \n",
       "...        ...       ...       ...       ...       ...       ...       ...   \n",
       "1839  5.139966  8.092827  5.487697  6.030887  7.143923  4.014328  4.771435   \n",
       "1840  4.952716  7.434742  5.426502  4.768099  7.206934  4.049730  4.749698   \n",
       "1841  5.299532  6.508352  5.459801  4.192192  6.851469  3.747775  4.817958   \n",
       "1842  5.250035  6.717356  5.476761  4.972328  6.843180  4.012043  4.593288   \n",
       "1843  5.127022  6.580477  5.524469  7.237829  6.326291  3.677063  4.997501   \n",
       "\n",
       "          IL37     MYEOV  \n",
       "0     5.081195  6.330591  \n",
       "1     5.042454  6.344058  \n",
       "2     5.485397  6.428895  \n",
       "3     4.756875  6.355915  \n",
       "4     5.029859  6.337855  \n",
       "...        ...       ...  \n",
       "1839  5.033161  6.388024  \n",
       "1840  5.009383  6.308210  \n",
       "1841  5.058267  6.315013  \n",
       "1842  5.307830  6.394320  \n",
       "1843  5.340947  6.331129  \n",
       "\n",
       "[1844 rows x 13076 columns]"
      ]
     },
     "execution_count": 16,
     "metadata": {},
     "output_type": "execute_result"
    }
   ],
   "source": [
    "initial_df"
   ]
  },
  {
   "cell_type": "code",
   "execution_count": 18,
   "id": "fb59c1fd",
   "metadata": {},
   "outputs": [],
   "source": [
    "CHDM_proteins = ['SCARA5',\n",
    "'TRIL',\n",
    "'OLFML2A',\n",
    "'SUSD5',\n",
    "'PDE1A',\n",
    "'KRT80',\n",
    "'XYLT1',\n",
    "'AKR1B10',\n",
    "'GALNT3',\n",
    "'ITGBL1',\n",
    "'COL2A1',\n",
    "'SPP2',\n",
    "'MGARP',\n",
    "'LYST',\n",
    "'TLR3',\n",
    "'CHST3',\n",
    "'ABLIM3',\n",
    "'CDK18',\n",
    "'LGALSL',\n",
    "'CD109',\n",
    "'LPA',\n",
    "'TUBA8',\n",
    "'CRISP3',\n",
    "'PADI4',\n",
    "'GPAT3',\n",
    "'HVCN1',\n",
    "'RAB3B',\n",
    "'CA12',\n",
    "'TUBB1',\n",
    "'DOCK8',\n",
    "'CLMN',\n",
    "'DOCK9',\n",
    "'EPPK1',\n",
    "'PODXL',\n",
    "'NES',\n",
    "'GLA',\n",
    "'GPRC5A']"
   ]
  },
  {
   "cell_type": "code",
   "execution_count": null,
   "id": "c18d7659",
   "metadata": {},
   "outputs": [
    {
     "name": "stderr",
     "output_type": "stream",
     "text": [
      "/home/lestrada/miniconda3/envs/tumor_type_clasifier/lib/python3.13/site-packages/tqdm/auto.py:21: TqdmWarning:\n",
      "\n",
      "IProgress not found. Please update jupyter and ipywidgets. See https://ipywidgets.readthedocs.io/en/stable/user_install.html\n",
      "\n"
     ]
    },
    {
     "name": "stdout",
     "output_type": "stream",
     "text": [
      "Sample dataframe created\n",
      "Shape: (1000, 53)\n",
      "Columns: ['feature_0', 'feature_1', 'feature_2', 'feature_3', 'feature_4']... (showing first 5 feature columns)\n",
      "Original dataframe shape: (1000, 53)\n",
      "Feature data shape: (1000, 50)\n",
      "Standardizing features...\n",
      "Applying UMAP...\n",
      "UMAP(n_components=3, n_jobs=1, random_state=42, verbose=True)\n",
      "Tue Aug 12 11:35:31 2025 Construct fuzzy simplicial set\n",
      "Tue Aug 12 11:35:31 2025 Finding Nearest Neighbors\n",
      "Tue Aug 12 11:35:36 2025 Finished Nearest Neighbor Search\n",
      "Tue Aug 12 11:35:38 2025 Construct embedding\n"
     ]
    },
    {
     "name": "stderr",
     "output_type": "stream",
     "text": [
      "Epochs completed:   5%| ▌          26/500 [00:00]"
     ]
    },
    {
     "name": "stdout",
     "output_type": "stream",
     "text": [
      "\tcompleted  0  /  500 epochs\n"
     ]
    },
    {
     "name": "stderr",
     "output_type": "stream",
     "text": [
      "Epochs completed:  24%| ██▍        120/500 [00:01]"
     ]
    },
    {
     "name": "stdout",
     "output_type": "stream",
     "text": [
      "\tcompleted  50  /  500 epochs\n",
      "\tcompleted  100  /  500 epochs\n"
     ]
    },
    {
     "name": "stderr",
     "output_type": "stream",
     "text": [
      "Epochs completed:  38%| ███▊       191/500 [00:01]"
     ]
    },
    {
     "name": "stdout",
     "output_type": "stream",
     "text": [
      "\tcompleted  150  /  500 epochs\n",
      "\tcompleted  200  /  500 epochs\n"
     ]
    },
    {
     "name": "stderr",
     "output_type": "stream",
     "text": [
      "Epochs completed:  57%| █████▋     286/500 [00:01]"
     ]
    },
    {
     "name": "stdout",
     "output_type": "stream",
     "text": [
      "\tcompleted  250  /  500 epochs\n",
      "\tcompleted  300  /  500 epochs\n"
     ]
    },
    {
     "name": "stderr",
     "output_type": "stream",
     "text": [
      "Epochs completed:  75%| ███████▌   376/500 [00:02]"
     ]
    },
    {
     "name": "stdout",
     "output_type": "stream",
     "text": [
      "\tcompleted  350  /  500 epochs\n"
     ]
    },
    {
     "name": "stderr",
     "output_type": "stream",
     "text": [
      "Epochs completed:  89%| ████████▉  445/500 [00:02]"
     ]
    },
    {
     "name": "stdout",
     "output_type": "stream",
     "text": [
      "\tcompleted  400  /  500 epochs\n",
      "\tcompleted  450  /  500 epochs\n"
     ]
    },
    {
     "name": "stderr",
     "output_type": "stream",
     "text": [
      "Epochs completed: 100%| ██████████ 500/500 [00:02]\n"
     ]
    },
    {
     "name": "stdout",
     "output_type": "stream",
     "text": [
      "Tue Aug 12 11:35:41 2025 Finished embedding\n",
      "Number of unique categories in code_oncotree: 20\n"
     ]
    },
    {
     "data": {
      "application/vnd.plotly.v1+json": {
       "config": {
        "plotlyServerURL": "https://plot.ly"
       },
       "data": [
        {
         "customdata": [
          [
           "Sample_0",
           "OncoCode_10",
           "TCC_B"
          ],
          [
           "Sample_2",
           "OncoCode_10",
           "TCC_C"
          ],
          [
           "Sample_19",
           "OncoCode_10",
           "TCC_C"
          ],
          [
           "Sample_91",
           "OncoCode_10",
           "TCC_D"
          ],
          [
           "Sample_115",
           "OncoCode_10",
           "TCC_C"
          ],
          [
           "Sample_117",
           "OncoCode_10",
           "TCC_C"
          ],
          [
           "Sample_122",
           "OncoCode_10",
           "TCC_D"
          ],
          [
           "Sample_127",
           "OncoCode_10",
           "TCC_A"
          ],
          [
           "Sample_198",
           "OncoCode_10",
           "TCC_A"
          ],
          [
           "Sample_210",
           "OncoCode_10",
           "TCC_B"
          ],
          [
           "Sample_217",
           "OncoCode_10",
           "TCC_A"
          ],
          [
           "Sample_266",
           "OncoCode_10",
           "TCC_B"
          ],
          [
           "Sample_275",
           "OncoCode_10",
           "TCC_A"
          ],
          [
           "Sample_331",
           "OncoCode_10",
           "TCC_D"
          ],
          [
           "Sample_338",
           "OncoCode_10",
           "TCC_A"
          ],
          [
           "Sample_348",
           "OncoCode_10",
           "TCC_C"
          ],
          [
           "Sample_368",
           "OncoCode_10",
           "TCC_B"
          ],
          [
           "Sample_376",
           "OncoCode_10",
           "TCC_B"
          ],
          [
           "Sample_404",
           "OncoCode_10",
           "TCC_A"
          ],
          [
           "Sample_427",
           "OncoCode_10",
           "TCC_D"
          ],
          [
           "Sample_484",
           "OncoCode_10",
           "TCC_C"
          ],
          [
           "Sample_496",
           "OncoCode_10",
           "TCC_B"
          ],
          [
           "Sample_531",
           "OncoCode_10",
           "TCC_C"
          ],
          [
           "Sample_545",
           "OncoCode_10",
           "TCC_A"
          ],
          [
           "Sample_557",
           "OncoCode_10",
           "TCC_B"
          ],
          [
           "Sample_597",
           "OncoCode_10",
           "TCC_C"
          ],
          [
           "Sample_621",
           "OncoCode_10",
           "TCC_D"
          ],
          [
           "Sample_635",
           "OncoCode_10",
           "TCC_A"
          ],
          [
           "Sample_656",
           "OncoCode_10",
           "TCC_D"
          ],
          [
           "Sample_683",
           "OncoCode_10",
           "TCC_D"
          ],
          [
           "Sample_695",
           "OncoCode_10",
           "TCC_C"
          ],
          [
           "Sample_763",
           "OncoCode_10",
           "TCC_C"
          ],
          [
           "Sample_773",
           "OncoCode_10",
           "TCC_C"
          ],
          [
           "Sample_785",
           "OncoCode_10",
           "TCC_B"
          ],
          [
           "Sample_802",
           "OncoCode_10",
           "TCC_A"
          ],
          [
           "Sample_805",
           "OncoCode_10",
           "TCC_A"
          ],
          [
           "Sample_822",
           "OncoCode_10",
           "TCC_C"
          ],
          [
           "Sample_873",
           "OncoCode_10",
           "TCC_B"
          ],
          [
           "Sample_876",
           "OncoCode_10",
           "TCC_A"
          ],
          [
           "Sample_958",
           "OncoCode_10",
           "TCC_D"
          ],
          [
           "Sample_959",
           "OncoCode_10",
           "TCC_A"
          ],
          [
           "Sample_977",
           "OncoCode_10",
           "TCC_D"
          ],
          [
           "Sample_981",
           "OncoCode_10",
           "TCC_A"
          ]
         ],
         "hovertemplate": "Sample name: %{customdata[0]}<br>code_oncotree: %{customdata[1]}<br>TCC: %{customdata[2]}<extra></extra>",
         "legendgroup": "OncoCode_10",
         "marker": {
          "color": "#636efa",
          "opacity": 0.8,
          "symbol": "circle"
         },
         "mode": "markers",
         "name": "OncoCode_10",
         "scene": "scene",
         "showlegend": true,
         "type": "scatter3d",
         "x": {
          "bdata": "E5Y8QE6LVT/XwglA34mHP1WSEUCm4wc/rv6iP0PZmz8oxT8/NjfzP7cm1z+TygtACkykPO41Pz8FHdo/UN8zP1l6TD/JCC1AKc75P7fbhD/cOsQ/bhoNQFV9DT9vTCdAPPk7QBrtEECl3yJAPKfRP/ef4z+SZAFAcXTFPwJUqj+IZeQ/1mqTP6aQHkBWOVVAwMEeQJh31z/gJilA6jUlQJWQ6T+wRGpAjzpUQA==",
          "dtype": "f4"
         },
         "y": {
          "bdata": "9eqRQGztb0A9totAQ6ugQHnDcUBkdl1A8N+XQL/id0BF7YBAnJSMQEw2skAtXIVAhuh8QA1Um0CzBmVAMsxMQPRQhUDhnpRAT5+EQGCKY0BfW4pAMJCCQEayYkC0EKlAVSiOQN37nEAVZz5AHA28QLNcSkDC9Y9AZUkqQC6erUCJt09AQpK4QLJtt0CyjJFAdPe2QMdXSECjKWxA7sp3QBeohUCjP3dAmEZUQA==",
          "dtype": "f4"
         },
         "z": {
          "bdata": "O072QM4JDkFhXxFBmJD8QPOB6EBrogZBIOQGQa68FkEGGuFAJY3NQB/OAkEKQhVBErn+QNNC8kAZj/BA8hT1QKG10UAthxBBZ08WQWJTD0Ev5MdA2bjXQLPKDUEdGwZBitYMQV8tF0GNvQZBQmL3QFYbDkGoARlB7U8HQaVT4UBncttAWbUDQaAZDEGtzt9AK3YCQXH3E0HTTAJBclDeQPjUxUBsFfhABqUGQQ==",
          "dtype": "f4"
         }
        },
        {
         "customdata": [
          [
           "Sample_1",
           "OncoCode_19",
           "TCC_A"
          ],
          [
           "Sample_3",
           "OncoCode_19",
           "TCC_A"
          ],
          [
           "Sample_26",
           "OncoCode_19",
           "TCC_D"
          ],
          [
           "Sample_34",
           "OncoCode_19",
           "TCC_C"
          ],
          [
           "Sample_47",
           "OncoCode_19",
           "TCC_B"
          ],
          [
           "Sample_72",
           "OncoCode_19",
           "TCC_B"
          ],
          [
           "Sample_81",
           "OncoCode_19",
           "TCC_B"
          ],
          [
           "Sample_87",
           "OncoCode_19",
           "TCC_D"
          ],
          [
           "Sample_89",
           "OncoCode_19",
           "TCC_B"
          ],
          [
           "Sample_92",
           "OncoCode_19",
           "TCC_B"
          ],
          [
           "Sample_94",
           "OncoCode_19",
           "TCC_B"
          ],
          [
           "Sample_109",
           "OncoCode_19",
           "TCC_B"
          ],
          [
           "Sample_110",
           "OncoCode_19",
           "TCC_D"
          ],
          [
           "Sample_119",
           "OncoCode_19",
           "TCC_A"
          ],
          [
           "Sample_130",
           "OncoCode_19",
           "TCC_D"
          ],
          [
           "Sample_152",
           "OncoCode_19",
           "TCC_A"
          ],
          [
           "Sample_161",
           "OncoCode_19",
           "TCC_C"
          ],
          [
           "Sample_172",
           "OncoCode_19",
           "TCC_C"
          ],
          [
           "Sample_175",
           "OncoCode_19",
           "TCC_B"
          ],
          [
           "Sample_185",
           "OncoCode_19",
           "TCC_A"
          ],
          [
           "Sample_227",
           "OncoCode_19",
           "TCC_B"
          ],
          [
           "Sample_258",
           "OncoCode_19",
           "TCC_A"
          ],
          [
           "Sample_318",
           "OncoCode_19",
           "TCC_A"
          ],
          [
           "Sample_371",
           "OncoCode_19",
           "TCC_C"
          ],
          [
           "Sample_409",
           "OncoCode_19",
           "TCC_D"
          ],
          [
           "Sample_415",
           "OncoCode_19",
           "TCC_D"
          ],
          [
           "Sample_418",
           "OncoCode_19",
           "TCC_A"
          ],
          [
           "Sample_434",
           "OncoCode_19",
           "TCC_A"
          ],
          [
           "Sample_436",
           "OncoCode_19",
           "TCC_C"
          ],
          [
           "Sample_461",
           "OncoCode_19",
           "TCC_B"
          ],
          [
           "Sample_482",
           "OncoCode_19",
           "TCC_B"
          ],
          [
           "Sample_505",
           "OncoCode_19",
           "TCC_B"
          ],
          [
           "Sample_533",
           "OncoCode_19",
           "TCC_A"
          ],
          [
           "Sample_537",
           "OncoCode_19",
           "TCC_C"
          ],
          [
           "Sample_539",
           "OncoCode_19",
           "TCC_D"
          ],
          [
           "Sample_540",
           "OncoCode_19",
           "TCC_B"
          ],
          [
           "Sample_544",
           "OncoCode_19",
           "TCC_A"
          ],
          [
           "Sample_575",
           "OncoCode_19",
           "TCC_C"
          ],
          [
           "Sample_588",
           "OncoCode_19",
           "TCC_C"
          ],
          [
           "Sample_598",
           "OncoCode_19",
           "TCC_A"
          ],
          [
           "Sample_612",
           "OncoCode_19",
           "TCC_A"
          ],
          [
           "Sample_626",
           "OncoCode_19",
           "TCC_A"
          ],
          [
           "Sample_632",
           "OncoCode_19",
           "TCC_B"
          ],
          [
           "Sample_639",
           "OncoCode_19",
           "TCC_A"
          ],
          [
           "Sample_657",
           "OncoCode_19",
           "TCC_D"
          ],
          [
           "Sample_703",
           "OncoCode_19",
           "TCC_D"
          ],
          [
           "Sample_711",
           "OncoCode_19",
           "TCC_C"
          ],
          [
           "Sample_745",
           "OncoCode_19",
           "TCC_A"
          ],
          [
           "Sample_761",
           "OncoCode_19",
           "TCC_C"
          ],
          [
           "Sample_768",
           "OncoCode_19",
           "TCC_B"
          ],
          [
           "Sample_778",
           "OncoCode_19",
           "TCC_A"
          ],
          [
           "Sample_810",
           "OncoCode_19",
           "TCC_A"
          ],
          [
           "Sample_817",
           "OncoCode_19",
           "TCC_D"
          ],
          [
           "Sample_851",
           "OncoCode_19",
           "TCC_B"
          ],
          [
           "Sample_870",
           "OncoCode_19",
           "TCC_B"
          ],
          [
           "Sample_884",
           "OncoCode_19",
           "TCC_D"
          ],
          [
           "Sample_886",
           "OncoCode_19",
           "TCC_C"
          ],
          [
           "Sample_924",
           "OncoCode_19",
           "TCC_D"
          ],
          [
           "Sample_974",
           "OncoCode_19",
           "TCC_A"
          ],
          [
           "Sample_984",
           "OncoCode_19",
           "TCC_B"
          ],
          [
           "Sample_993",
           "OncoCode_19",
           "TCC_A"
          ]
         ],
         "hovertemplate": "Sample name: %{customdata[0]}<br>code_oncotree: %{customdata[1]}<br>TCC: %{customdata[2]}<extra></extra>",
         "legendgroup": "OncoCode_19",
         "marker": {
          "color": "#EF553B",
          "opacity": 0.8,
          "symbol": "circle"
         },
         "mode": "markers",
         "name": "OncoCode_19",
         "scene": "scene",
         "showlegend": true,
         "type": "scatter3d",
         "x": {
          "bdata": "h4H0P7cmF0ASmOc/zhMrQMVAR0BctwZAJnekPyVP9T9zAO0/xd+1Px5l4j8JETs/D7UJQM8qBUC+Ggo/dlvvP2d4uT/onAlATboBQCWcEUD2qxRAmHcLQMqeHEDDnypAUngOQF8Gvz/Dmsw/PYggP2TuEUAND3Y/y6OyP7y6BUBNV+k/qoZfQICFeD//GSQ/1/lxPzbkrj8h/ydAccVTQFzIKED97/w/Gk1iQMNGF0Aqaz1AxPCiPvKnmj8amYY/ID6GP/oVXUAOntw/nXgeQE7A1D92IaQ/5NpaQCxtmT/voMM/yVMHQAfhMT5qXxtAoZgNQA==",
          "dtype": "f4"
         },
         "y": {
          "bdata": "4LmQQD1co0DeybFAHQKGQErNlkAKwohA8AxwQBd/p0B7X4RA4yWVQIv/ZkCBWoBAGhI1QHfER0Bhs0RAQy2JQFJbREDjm5FAFZeoQBQ4tkC4kERAdVJKQJheiUBFCJNABbVbQG1foUC2gIRAerOfQB/imUC0M5hAT4qPQG29OEBRGLFAawiHQAXuOUCvYJJAzpugQHmCqUC5BXFAmqCJQOTwWkAXYH5Aj2eMQNvIZUBRNqRAmf56QGy+bEBXFppA9XNVQIAogEDsdjRAP1+vQPD7m0DLda9ArAuQQNGWnECC0ppAfOeIQIyinED7u3RAkNQ1QA==",
          "dtype": "f4"
         },
         "z": {
          "bdata": "JXroQAD0A0HDFfNA4B/3QKkk6EBxmvFAKyQDQUX2AEFD5wtBgjAKQb70CkGFaPBAPogDQXCECUGbbQhBzojSQOPl/0BD4exASy7QQGLK/0AjQ/VAIk3pQNxpBkGIagNBBIYBQUBc1UDOgdxAaVkKQYnIDUFfCetAENERQaaIEEGB6AtBeP0EQbBO8UBfh+tAgs3bQOHF0kBHG9lATYD3QOU41EAebARBMgrqQHTEzkCabNZARHrnQA2wFEEBx9FASqYKQf6oC0GklAVBiM3yQG57AUGUtORANZISQQ9c7ECra9VAo44AQXyL+EA+hwdBMfIOQQ==",
          "dtype": "f4"
         }
        },
        {
         "customdata": [
          [
           "Sample_4",
           "OncoCode_11",
           "TCC_C"
          ],
          [
           "Sample_30",
           "OncoCode_11",
           "TCC_D"
          ],
          [
           "Sample_40",
           "OncoCode_11",
           "TCC_C"
          ],
          [
           "Sample_68",
           "OncoCode_11",
           "TCC_C"
          ],
          [
           "Sample_83",
           "OncoCode_11",
           "TCC_C"
          ],
          [
           "Sample_95",
           "OncoCode_11",
           "TCC_B"
          ],
          [
           "Sample_99",
           "OncoCode_11",
           "TCC_D"
          ],
          [
           "Sample_105",
           "OncoCode_11",
           "TCC_C"
          ],
          [
           "Sample_114",
           "OncoCode_11",
           "TCC_C"
          ],
          [
           "Sample_128",
           "OncoCode_11",
           "TCC_A"
          ],
          [
           "Sample_181",
           "OncoCode_11",
           "TCC_A"
          ],
          [
           "Sample_182",
           "OncoCode_11",
           "TCC_C"
          ],
          [
           "Sample_184",
           "OncoCode_11",
           "TCC_B"
          ],
          [
           "Sample_192",
           "OncoCode_11",
           "TCC_B"
          ],
          [
           "Sample_197",
           "OncoCode_11",
           "TCC_D"
          ],
          [
           "Sample_209",
           "OncoCode_11",
           "TCC_A"
          ],
          [
           "Sample_282",
           "OncoCode_11",
           "TCC_D"
          ],
          [
           "Sample_284",
           "OncoCode_11",
           "TCC_D"
          ],
          [
           "Sample_290",
           "OncoCode_11",
           "TCC_B"
          ],
          [
           "Sample_307",
           "OncoCode_11",
           "TCC_B"
          ],
          [
           "Sample_319",
           "OncoCode_11",
           "TCC_C"
          ],
          [
           "Sample_333",
           "OncoCode_11",
           "TCC_C"
          ],
          [
           "Sample_359",
           "OncoCode_11",
           "TCC_B"
          ],
          [
           "Sample_360",
           "OncoCode_11",
           "TCC_B"
          ],
          [
           "Sample_372",
           "OncoCode_11",
           "TCC_A"
          ],
          [
           "Sample_394",
           "OncoCode_11",
           "TCC_D"
          ],
          [
           "Sample_407",
           "OncoCode_11",
           "TCC_C"
          ],
          [
           "Sample_417",
           "OncoCode_11",
           "TCC_C"
          ],
          [
           "Sample_424",
           "OncoCode_11",
           "TCC_C"
          ],
          [
           "Sample_429",
           "OncoCode_11",
           "TCC_D"
          ],
          [
           "Sample_441",
           "OncoCode_11",
           "TCC_A"
          ],
          [
           "Sample_450",
           "OncoCode_11",
           "TCC_B"
          ],
          [
           "Sample_460",
           "OncoCode_11",
           "TCC_D"
          ],
          [
           "Sample_469",
           "OncoCode_11",
           "TCC_A"
          ],
          [
           "Sample_478",
           "OncoCode_11",
           "TCC_A"
          ],
          [
           "Sample_516",
           "OncoCode_11",
           "TCC_C"
          ],
          [
           "Sample_524",
           "OncoCode_11",
           "TCC_A"
          ],
          [
           "Sample_546",
           "OncoCode_11",
           "TCC_C"
          ],
          [
           "Sample_552",
           "OncoCode_11",
           "TCC_C"
          ],
          [
           "Sample_602",
           "OncoCode_11",
           "TCC_C"
          ],
          [
           "Sample_647",
           "OncoCode_11",
           "TCC_D"
          ],
          [
           "Sample_672",
           "OncoCode_11",
           "TCC_C"
          ],
          [
           "Sample_686",
           "OncoCode_11",
           "TCC_A"
          ],
          [
           "Sample_709",
           "OncoCode_11",
           "TCC_D"
          ],
          [
           "Sample_721",
           "OncoCode_11",
           "TCC_D"
          ],
          [
           "Sample_730",
           "OncoCode_11",
           "TCC_A"
          ],
          [
           "Sample_740",
           "OncoCode_11",
           "TCC_B"
          ],
          [
           "Sample_762",
           "OncoCode_11",
           "TCC_C"
          ],
          [
           "Sample_793",
           "OncoCode_11",
           "TCC_C"
          ],
          [
           "Sample_834",
           "OncoCode_11",
           "TCC_B"
          ],
          [
           "Sample_854",
           "OncoCode_11",
           "TCC_C"
          ],
          [
           "Sample_883",
           "OncoCode_11",
           "TCC_B"
          ],
          [
           "Sample_889",
           "OncoCode_11",
           "TCC_B"
          ],
          [
           "Sample_952",
           "OncoCode_11",
           "TCC_A"
          ],
          [
           "Sample_956",
           "OncoCode_11",
           "TCC_C"
          ],
          [
           "Sample_980",
           "OncoCode_11",
           "TCC_D"
          ]
         ],
         "hovertemplate": "Sample name: %{customdata[0]}<br>code_oncotree: %{customdata[1]}<br>TCC: %{customdata[2]}<extra></extra>",
         "legendgroup": "OncoCode_11",
         "marker": {
          "color": "#00cc96",
          "opacity": 0.8,
          "symbol": "circle"
         },
         "mode": "markers",
         "name": "OncoCode_11",
         "scene": "scene",
         "showlegend": true,
         "type": "scatter3d",
         "x": {
          "bdata": "7SpGQGhMPj8xehJANWZGQCuNuz/SFixAXevvP+PJoT+m/LA/SqTWP4sqzT/92g4/HgQfQPdFsD8GZkhAbo/5P9QRvj+YlkZAAwfaP7gX3T9VjjlAHuw6QHq8BEBc7A9A1FmOP7BTNkD1Cj9AZsPCP7K5jj9Jul9ATgQaQEAKgj9iALc/SjpcP8CE+T8lHeQ/xYvmP40Oqz9+I/U/ZJgJQIsbiD/YWgBAYGUXQId4SkDmwhNAAzVoQK8xuT8Q5ypAWEf6P6jxAUCKzFhAiiHoPwYmCz9SuiNAOgfFP7cm+z8=",
          "dtype": "f4"
         },
         "y": {
          "bdata": "mR+UQO0cbEB1aYRArTqVQBJ0p0C+tqBA2FNzQFnHg0CPBYNAaPx4QLN2jkDfN45Ar0eUQGgIqkAFY4JAO7CGQPvViEA3JkdAp5iVQHvFbUBL0KpAdayUQAoApEB2YYJAjtuFQAW+rkD96F5Ay0OJQObLlEDFEJNAFWmOQBMkU0Av3rNAzsmuQKfFIEAZHHRAhCyhQDMHfUD49o9A0qRmQAldm0BmRXVARYVwQAStlkDcxbBAg7l/QJacskDzIptA3bh0QCjeZkDf/IVA5WtZQGPWl0CNXlFABcguQPmgWkA=",
          "dtype": "f4"
         },
         "z": {
          "bdata": "HjUAQRMI30BCHclAoNfjQAwj8EDpMeJAcY7jQPtT40DLXOJAQVcXQQmSAEFzc/dAtnHzQJ/w1UCFhfBAn8b1QJp7x0CURQVBfuEIQd4F2UB+JBFBqzjZQJ2nFkEn+fZABKTsQNYoBEFKE+dAg+bUQFYZ3UCZpQBBb/QRQTJnEkGVMe9Aoz/uQChSAkGHLOBAD9gVQaYoCEGXiANBat8SQbUr40AzeetAmR3WQDVZCkGVlhNBzGryQKSo7ECA79VAZ8QNQXoPzkClsApBlUMWQaac6UCnXBJBFwYLQRUAC0E=",
          "dtype": "f4"
         }
        },
        {
         "customdata": [
          [
           "Sample_5",
           "OncoCode_17",
           "TCC_A"
          ],
          [
           "Sample_16",
           "OncoCode_17",
           "TCC_D"
          ],
          [
           "Sample_53",
           "OncoCode_17",
           "TCC_D"
          ],
          [
           "Sample_62",
           "OncoCode_17",
           "TCC_D"
          ],
          [
           "Sample_65",
           "OncoCode_17",
           "TCC_D"
          ],
          [
           "Sample_78",
           "OncoCode_17",
           "TCC_C"
          ],
          [
           "Sample_129",
           "OncoCode_17",
           "TCC_D"
          ],
          [
           "Sample_138",
           "OncoCode_17",
           "TCC_D"
          ],
          [
           "Sample_144",
           "OncoCode_17",
           "TCC_D"
          ],
          [
           "Sample_168",
           "OncoCode_17",
           "TCC_A"
          ],
          [
           "Sample_194",
           "OncoCode_17",
           "TCC_C"
          ],
          [
           "Sample_213",
           "OncoCode_17",
           "TCC_D"
          ],
          [
           "Sample_221",
           "OncoCode_17",
           "TCC_B"
          ],
          [
           "Sample_237",
           "OncoCode_17",
           "TCC_C"
          ],
          [
           "Sample_253",
           "OncoCode_17",
           "TCC_B"
          ],
          [
           "Sample_269",
           "OncoCode_17",
           "TCC_D"
          ],
          [
           "Sample_281",
           "OncoCode_17",
           "TCC_C"
          ],
          [
           "Sample_298",
           "OncoCode_17",
           "TCC_A"
          ],
          [
           "Sample_316",
           "OncoCode_17",
           "TCC_B"
          ],
          [
           "Sample_336",
           "OncoCode_17",
           "TCC_C"
          ],
          [
           "Sample_381",
           "OncoCode_17",
           "TCC_D"
          ],
          [
           "Sample_399",
           "OncoCode_17",
           "TCC_C"
          ],
          [
           "Sample_428",
           "OncoCode_17",
           "TCC_A"
          ],
          [
           "Sample_448",
           "OncoCode_17",
           "TCC_C"
          ],
          [
           "Sample_506",
           "OncoCode_17",
           "TCC_A"
          ],
          [
           "Sample_525",
           "OncoCode_17",
           "TCC_C"
          ],
          [
           "Sample_526",
           "OncoCode_17",
           "TCC_A"
          ],
          [
           "Sample_565",
           "OncoCode_17",
           "TCC_B"
          ],
          [
           "Sample_591",
           "OncoCode_17",
           "TCC_A"
          ],
          [
           "Sample_592",
           "OncoCode_17",
           "TCC_A"
          ],
          [
           "Sample_593",
           "OncoCode_17",
           "TCC_A"
          ],
          [
           "Sample_605",
           "OncoCode_17",
           "TCC_B"
          ],
          [
           "Sample_615",
           "OncoCode_17",
           "TCC_D"
          ],
          [
           "Sample_620",
           "OncoCode_17",
           "TCC_C"
          ],
          [
           "Sample_636",
           "OncoCode_17",
           "TCC_B"
          ],
          [
           "Sample_641",
           "OncoCode_17",
           "TCC_D"
          ],
          [
           "Sample_666",
           "OncoCode_17",
           "TCC_B"
          ],
          [
           "Sample_673",
           "OncoCode_17",
           "TCC_C"
          ],
          [
           "Sample_675",
           "OncoCode_17",
           "TCC_D"
          ],
          [
           "Sample_731",
           "OncoCode_17",
           "TCC_C"
          ],
          [
           "Sample_743",
           "OncoCode_17",
           "TCC_D"
          ],
          [
           "Sample_782",
           "OncoCode_17",
           "TCC_D"
          ],
          [
           "Sample_791",
           "OncoCode_17",
           "TCC_B"
          ],
          [
           "Sample_792",
           "OncoCode_17",
           "TCC_C"
          ],
          [
           "Sample_885",
           "OncoCode_17",
           "TCC_B"
          ],
          [
           "Sample_916",
           "OncoCode_17",
           "TCC_A"
          ],
          [
           "Sample_925",
           "OncoCode_17",
           "TCC_A"
          ],
          [
           "Sample_967",
           "OncoCode_17",
           "TCC_A"
          ]
         ],
         "hovertemplate": "Sample name: %{customdata[0]}<br>code_oncotree: %{customdata[1]}<br>TCC: %{customdata[2]}<extra></extra>",
         "legendgroup": "OncoCode_17",
         "marker": {
          "color": "#ab63fa",
          "opacity": 0.8,
          "symbol": "circle"
         },
         "mode": "markers",
         "name": "OncoCode_17",
         "scene": "scene",
         "showlegend": true,
         "type": "scatter3d",
         "x": {
          "bdata": "xbnNP+jENUAzox1AJmDGP+nhQkADM8c/9/khQALpC0DQZU1AOxmvP3LvH0AFmp4/UUNIQP+Q5D9k8Ns/Dp+GPlYfnj+wQRtAk9A9PwJwAj+cvwlACXzMP4MKH0BfeUQ/5UzFPwmXnj+9WGBAKr9YQD/wtT+Kgik/tbxHP+a+PkBKum8/x9mVP5zxKEAzdzRASUhWQHxWyz7FcMg/oTIVQFSIB0CXfx9AdSa4Pwl6nj8HmiFAoIAwQFRAWkA92iJA",
          "dtype": "f4"
         },
         "y": {
          "bdata": "PIFiQCkNUkAOIERARBlhQDlGN0Df2GBAh4qHQA94nEBg8JdAaOlkQKIImUAbETJA/UyeQArJkEAw+k1Ay9+TQObok0C802NAfjaUQKNmYUBbNi9A8iB9QOmsOECGWKBAMNarQMrAYkBb7oxAYuGTQIIDU0BogqNA77KoQLBreUCakZBATpSjQDNWekA8CYZAs6aUQIwLn0Ak815AWsmWQAfIu0DkgT1AldugQAGXmkCfVWBApPyVQP/gWkDFo4FA",
          "dtype": "f4"
         },
         "z": {
          "bdata": "Q0wDQbk35UCTw+FAY2kCQXrxAkGeGg5BspfMQAx+4kDbxPxA6UQOQefOBUGsjQNBcKD/QLPm/EDCPgdBWy35QFXHA0F4rA1BAmgPQSor80CC7PZA0CoWQaUs/0DeTQhBJKQNQdVxBkFJBApBFYjkQHCGC0GiAAtB5VwCQfZ+EEGjGAVBwJsMQXWY1UBS5QlBaZr+QKCV9EDcnOZAjKXiQErPB0Fxv+JAK2oVQQ+pDUF5vABB2owSQXfcA0HKautA",
          "dtype": "f4"
         }
        },
        {
         "customdata": [
          [
           "Sample_6",
           "OncoCode_1",
           "TCC_D"
          ],
          [
           "Sample_48",
           "OncoCode_1",
           "TCC_D"
          ],
          [
           "Sample_49",
           "OncoCode_1",
           "TCC_D"
          ],
          [
           "Sample_50",
           "OncoCode_1",
           "TCC_B"
          ],
          [
           "Sample_51",
           "OncoCode_1",
           "TCC_B"
          ],
          [
           "Sample_85",
           "OncoCode_1",
           "TCC_C"
          ],
          [
           "Sample_136",
           "OncoCode_1",
           "TCC_D"
          ],
          [
           "Sample_140",
           "OncoCode_1",
           "TCC_A"
          ],
          [
           "Sample_149",
           "OncoCode_1",
           "TCC_C"
          ],
          [
           "Sample_173",
           "OncoCode_1",
           "TCC_D"
          ],
          [
           "Sample_231",
           "OncoCode_1",
           "TCC_B"
          ],
          [
           "Sample_233",
           "OncoCode_1",
           "TCC_C"
          ],
          [
           "Sample_243",
           "OncoCode_1",
           "TCC_D"
          ],
          [
           "Sample_254",
           "OncoCode_1",
           "TCC_C"
          ],
          [
           "Sample_277",
           "OncoCode_1",
           "TCC_C"
          ],
          [
           "Sample_285",
           "OncoCode_1",
           "TCC_A"
          ],
          [
           "Sample_289",
           "OncoCode_1",
           "TCC_B"
          ],
          [
           "Sample_295",
           "OncoCode_1",
           "TCC_D"
          ],
          [
           "Sample_346",
           "OncoCode_1",
           "TCC_B"
          ],
          [
           "Sample_357",
           "OncoCode_1",
           "TCC_A"
          ],
          [
           "Sample_377",
           "OncoCode_1",
           "TCC_A"
          ],
          [
           "Sample_384",
           "OncoCode_1",
           "TCC_B"
          ],
          [
           "Sample_423",
           "OncoCode_1",
           "TCC_A"
          ],
          [
           "Sample_503",
           "OncoCode_1",
           "TCC_A"
          ],
          [
           "Sample_522",
           "OncoCode_1",
           "TCC_D"
          ],
          [
           "Sample_528",
           "OncoCode_1",
           "TCC_D"
          ],
          [
           "Sample_555",
           "OncoCode_1",
           "TCC_C"
          ],
          [
           "Sample_563",
           "OncoCode_1",
           "TCC_C"
          ],
          [
           "Sample_589",
           "OncoCode_1",
           "TCC_B"
          ],
          [
           "Sample_596",
           "OncoCode_1",
           "TCC_C"
          ],
          [
           "Sample_601",
           "OncoCode_1",
           "TCC_D"
          ],
          [
           "Sample_624",
           "OncoCode_1",
           "TCC_C"
          ],
          [
           "Sample_680",
           "OncoCode_1",
           "TCC_A"
          ],
          [
           "Sample_681",
           "OncoCode_1",
           "TCC_C"
          ],
          [
           "Sample_682",
           "OncoCode_1",
           "TCC_C"
          ],
          [
           "Sample_700",
           "OncoCode_1",
           "TCC_B"
          ],
          [
           "Sample_705",
           "OncoCode_1",
           "TCC_C"
          ],
          [
           "Sample_726",
           "OncoCode_1",
           "TCC_A"
          ],
          [
           "Sample_747",
           "OncoCode_1",
           "TCC_A"
          ],
          [
           "Sample_755",
           "OncoCode_1",
           "TCC_B"
          ],
          [
           "Sample_769",
           "OncoCode_1",
           "TCC_A"
          ],
          [
           "Sample_797",
           "OncoCode_1",
           "TCC_A"
          ],
          [
           "Sample_799",
           "OncoCode_1",
           "TCC_C"
          ],
          [
           "Sample_815",
           "OncoCode_1",
           "TCC_D"
          ],
          [
           "Sample_827",
           "OncoCode_1",
           "TCC_A"
          ],
          [
           "Sample_843",
           "OncoCode_1",
           "TCC_A"
          ],
          [
           "Sample_887",
           "OncoCode_1",
           "TCC_C"
          ],
          [
           "Sample_905",
           "OncoCode_1",
           "TCC_C"
          ],
          [
           "Sample_912",
           "OncoCode_1",
           "TCC_B"
          ],
          [
           "Sample_918",
           "OncoCode_1",
           "TCC_B"
          ],
          [
           "Sample_934",
           "OncoCode_1",
           "TCC_D"
          ],
          [
           "Sample_942",
           "OncoCode_1",
           "TCC_B"
          ],
          [
           "Sample_961",
           "OncoCode_1",
           "TCC_A"
          ],
          [
           "Sample_997",
           "OncoCode_1",
           "TCC_B"
          ]
         ],
         "hovertemplate": "Sample name: %{customdata[0]}<br>code_oncotree: %{customdata[1]}<br>TCC: %{customdata[2]}<extra></extra>",
         "legendgroup": "OncoCode_1",
         "marker": {
          "color": "#FFA15A",
          "opacity": 0.8,
          "symbol": "circle"
         },
         "mode": "markers",
         "name": "OncoCode_1",
         "scene": "scene",
         "showlegend": true,
         "type": "scatter3d",
         "x": {
          "bdata": "PI3UP5+03j82KWc/OGu+P3slN0BEJe0+C4uWP02CLUDE2Hc/iQ/QP1UCMD8bwOg/tJYwQCrzrD+eDBhAd50zQPKI2j4jcs0/9O8PQH4UC0BvGl9AQZaHP7H9UT8eC5k/BAb8P1rtaEAaeUFAP2k5QHL1FkA8BB1Afq7cP/P/Ej8PFMM+hSkQQPNFzD+qTpc/QWT+P06wPEAlrRJAsI7UPwSrIz+HeDo/+YeJP0M9BkCTfkRAKdztP/MYS0Ba3gw/w3BFQPVnBkDPYwxAbBdEQGS44T+IExBA",
          "dtype": "f4"
         },
         "y": {
          "bdata": "4cJxQB9pUEAu0EFAjOClQB6SeEDhcptAxBedQHFOdkA+05FAbI5iQACMlkAIi5VAGhKWQHzAPkDRQnBA8XhkQCGHdEC1kmdASledQBtrhUC16IBAljmGQK+epUANkZFAabZLQHNFikBdLY9ABzyvQM2ShkCIgplAUSauQOHLW0A1LFNASImmQIusk0BPVahAYh6vQLjFmUBPSntASiGoQP//m0ATCptAhwyCQHEJe0BTpWhArvajQO2ZOEBPmENAvY9ZQPu9sUAf0HRA/MGnQKEeoUCqEyNA",
          "dtype": "f4"
         },
         "z": {
          "bdata": "DKQKQSJSB0GhMAlBudkFQbjk+UAoUPlAaqMDQQdkA0E3Iu5AkdjqQLmUAkHRZuhAuUf3QKm5C0FxUhhB2+gGQZbP40B7ABVBGWQGQSsN2EBtQQ9BWAMSQQiu30Dt89tAtQ7eQHFOCEH6aw9BjSUDQdJeCEG2Rc1ASFoDQc5H80ACUu5AbaASQZfT4ED9l/xAQ53sQJb+1EBeOQFBcbfmQD0wDEF6wP5AY7D2QLPKC0GBwxJB/svhQA2iAEEpZQdBB4gMQe8730AMhAtBsy8IQSah+UC8aQBB",
          "dtype": "f4"
         }
        },
        {
         "customdata": [
          [
           "Sample_7",
           "OncoCode_3",
           "TCC_C"
          ],
          [
           "Sample_8",
           "OncoCode_3",
           "TCC_B"
          ],
          [
           "Sample_15",
           "OncoCode_3",
           "TCC_C"
          ],
          [
           "Sample_17",
           "OncoCode_3",
           "TCC_D"
          ],
          [
           "Sample_24",
           "OncoCode_3",
           "TCC_C"
          ],
          [
           "Sample_88",
           "OncoCode_3",
           "TCC_D"
          ],
          [
           "Sample_120",
           "OncoCode_3",
           "TCC_A"
          ],
          [
           "Sample_121",
           "OncoCode_3",
           "TCC_B"
          ],
          [
           "Sample_124",
           "OncoCode_3",
           "TCC_A"
          ],
          [
           "Sample_145",
           "OncoCode_3",
           "TCC_C"
          ],
          [
           "Sample_159",
           "OncoCode_3",
           "TCC_A"
          ],
          [
           "Sample_191",
           "OncoCode_3",
           "TCC_C"
          ],
          [
           "Sample_224",
           "OncoCode_3",
           "TCC_B"
          ],
          [
           "Sample_262",
           "OncoCode_3",
           "TCC_C"
          ],
          [
           "Sample_291",
           "OncoCode_3",
           "TCC_D"
          ],
          [
           "Sample_299",
           "OncoCode_3",
           "TCC_C"
          ],
          [
           "Sample_303",
           "OncoCode_3",
           "TCC_A"
          ],
          [
           "Sample_304",
           "OncoCode_3",
           "TCC_C"
          ],
          [
           "Sample_342",
           "OncoCode_3",
           "TCC_C"
          ],
          [
           "Sample_347",
           "OncoCode_3",
           "TCC_B"
          ],
          [
           "Sample_486",
           "OncoCode_3",
           "TCC_C"
          ],
          [
           "Sample_497",
           "OncoCode_3",
           "TCC_B"
          ],
          [
           "Sample_501",
           "OncoCode_3",
           "TCC_C"
          ],
          [
           "Sample_527",
           "OncoCode_3",
           "TCC_D"
          ],
          [
           "Sample_574",
           "OncoCode_3",
           "TCC_D"
          ],
          [
           "Sample_608",
           "OncoCode_3",
           "TCC_A"
          ],
          [
           "Sample_609",
           "OncoCode_3",
           "TCC_C"
          ],
          [
           "Sample_610",
           "OncoCode_3",
           "TCC_A"
          ],
          [
           "Sample_619",
           "OncoCode_3",
           "TCC_D"
          ],
          [
           "Sample_652",
           "OncoCode_3",
           "TCC_A"
          ],
          [
           "Sample_660",
           "OncoCode_3",
           "TCC_B"
          ],
          [
           "Sample_664",
           "OncoCode_3",
           "TCC_C"
          ],
          [
           "Sample_670",
           "OncoCode_3",
           "TCC_C"
          ],
          [
           "Sample_671",
           "OncoCode_3",
           "TCC_C"
          ],
          [
           "Sample_677",
           "OncoCode_3",
           "TCC_C"
          ],
          [
           "Sample_687",
           "OncoCode_3",
           "TCC_C"
          ],
          [
           "Sample_706",
           "OncoCode_3",
           "TCC_D"
          ],
          [
           "Sample_719",
           "OncoCode_3",
           "TCC_A"
          ],
          [
           "Sample_741",
           "OncoCode_3",
           "TCC_A"
          ],
          [
           "Sample_764",
           "OncoCode_3",
           "TCC_B"
          ],
          [
           "Sample_765",
           "OncoCode_3",
           "TCC_B"
          ],
          [
           "Sample_808",
           "OncoCode_3",
           "TCC_A"
          ],
          [
           "Sample_825",
           "OncoCode_3",
           "TCC_C"
          ],
          [
           "Sample_865",
           "OncoCode_3",
           "TCC_D"
          ],
          [
           "Sample_872",
           "OncoCode_3",
           "TCC_C"
          ],
          [
           "Sample_880",
           "OncoCode_3",
           "TCC_A"
          ],
          [
           "Sample_890",
           "OncoCode_3",
           "TCC_B"
          ],
          [
           "Sample_891",
           "OncoCode_3",
           "TCC_D"
          ],
          [
           "Sample_919",
           "OncoCode_3",
           "TCC_A"
          ],
          [
           "Sample_926",
           "OncoCode_3",
           "TCC_B"
          ],
          [
           "Sample_928",
           "OncoCode_3",
           "TCC_A"
          ],
          [
           "Sample_965",
           "OncoCode_3",
           "TCC_A"
          ],
          [
           "Sample_990",
           "OncoCode_3",
           "TCC_A"
          ]
         ],
         "hovertemplate": "Sample name: %{customdata[0]}<br>code_oncotree: %{customdata[1]}<br>TCC: %{customdata[2]}<extra></extra>",
         "legendgroup": "OncoCode_3",
         "marker": {
          "color": "#19d3f3",
          "opacity": 0.8,
          "symbol": "circle"
         },
         "mode": "markers",
         "name": "OncoCode_3",
         "scene": "scene",
         "showlegend": true,
         "type": "scatter3d",
         "x": {
          "bdata": "Pq4/P8inE0B2phFAVQS/P6TOQECprhBAUMg/QCw5CUCoyt0/wQD5P8pnB0BdQx9Au6kGQMOquT81wy5A+1bQP71I1D8TxDBAqFv1PwtcGkBGm+w+Cb6VP6NGtD89zWNAbY1YQGJwNEDbvnU/lIlCQFJJDEAKcx9A5ro4QCVBUkA+4EJAKmRWP47bLECWbfw/ifzaPwaYBkBCvP4/zq4kQBX+oj84QBRAH22xP9oSmT87BUpAAdUZP5I3K0AybSVA9VkrQG+G3z9H+3Y/v7tjQLjKcT8=",
          "dtype": "f4"
         },
         "y": {
          "bdata": "Sz6eQOmydkBmgmRAXnmRQBdEh0BwV6RA+E9RQFRKdUBxHVpAUJKuQLr8V0DENaBA/KZIQIfWPED99opA3XOKQOrUmEAUCJxAs9yWQNUssUCSXohAT/NyQNowaEAELYZAo8uZQDl6P0DFmJpAzZ2IQOa6RkBNxKVACzeuQMtLXkAkrF5Ao2GUQNJxekD3GJ1ADBgrQAjGY0CG6LJA1MZfQGkXhkC0QE9AqtilQPiZL0AZZ6ZAigOiQHlTlEAO17RADBqyQBi7mUA+IV9AitKAQOenmEA=",
          "dtype": "f4"
         },
         "z": {
          "bdata": "lsgMQdDXFkGNxQlB2e4SQewzBEF3sxNBUlv2QCeEEEGGngJBVNnSQHr5DUExM+pAstsIQRol9UAMPdVAxYQEQa/TzUCEkAtBnxDtQKS880BBmANBbEwDQXzX2EB/k/FAymABQUMkC0FqVgxB55oEQYiN7UB7AOpAU6wEQZJO2kCQ8glBsk3WQHApC0F0b85Ao1X4QOhvBkFCvNZAkiDaQH2nB0FMRQdBWnf3QMOjBkG6GuhAul7xQJMa00CHLQ9BSHLlQN6o0ED7EgZBEwMMQZvW+EA=",
          "dtype": "f4"
         }
        },
        {
         "customdata": [
          [
           "Sample_9",
           "OncoCode_13",
           "TCC_C"
          ],
          [
           "Sample_39",
           "OncoCode_13",
           "TCC_C"
          ],
          [
           "Sample_44",
           "OncoCode_13",
           "TCC_A"
          ],
          [
           "Sample_58",
           "OncoCode_13",
           "TCC_C"
          ],
          [
           "Sample_111",
           "OncoCode_13",
           "TCC_B"
          ],
          [
           "Sample_143",
           "OncoCode_13",
           "TCC_A"
          ],
          [
           "Sample_146",
           "OncoCode_13",
           "TCC_D"
          ],
          [
           "Sample_283",
           "OncoCode_13",
           "TCC_A"
          ],
          [
           "Sample_306",
           "OncoCode_13",
           "TCC_C"
          ],
          [
           "Sample_327",
           "OncoCode_13",
           "TCC_B"
          ],
          [
           "Sample_344",
           "OncoCode_13",
           "TCC_B"
          ],
          [
           "Sample_438",
           "OncoCode_13",
           "TCC_B"
          ],
          [
           "Sample_475",
           "OncoCode_13",
           "TCC_C"
          ],
          [
           "Sample_489",
           "OncoCode_13",
           "TCC_C"
          ],
          [
           "Sample_507",
           "OncoCode_13",
           "TCC_D"
          ],
          [
           "Sample_590",
           "OncoCode_13",
           "TCC_A"
          ],
          [
           "Sample_648",
           "OncoCode_13",
           "TCC_A"
          ],
          [
           "Sample_663",
           "OncoCode_13",
           "TCC_D"
          ],
          [
           "Sample_714",
           "OncoCode_13",
           "TCC_D"
          ],
          [
           "Sample_722",
           "OncoCode_13",
           "TCC_B"
          ],
          [
           "Sample_723",
           "OncoCode_13",
           "TCC_D"
          ],
          [
           "Sample_841",
           "OncoCode_13",
           "TCC_C"
          ],
          [
           "Sample_856",
           "OncoCode_13",
           "TCC_D"
          ],
          [
           "Sample_862",
           "OncoCode_13",
           "TCC_D"
          ],
          [
           "Sample_898",
           "OncoCode_13",
           "TCC_C"
          ],
          [
           "Sample_904",
           "OncoCode_13",
           "TCC_A"
          ],
          [
           "Sample_917",
           "OncoCode_13",
           "TCC_D"
          ],
          [
           "Sample_947",
           "OncoCode_13",
           "TCC_B"
          ],
          [
           "Sample_979",
           "OncoCode_13",
           "TCC_B"
          ]
         ],
         "hovertemplate": "Sample name: %{customdata[0]}<br>code_oncotree: %{customdata[1]}<br>TCC: %{customdata[2]}<extra></extra>",
         "legendgroup": "OncoCode_13",
         "marker": {
          "color": "#FF6692",
          "opacity": 0.8,
          "symbol": "circle"
         },
         "mode": "markers",
         "name": "OncoCode_13",
         "scene": "scene",
         "showlegend": true,
         "type": "scatter3d",
         "x": {
          "bdata": "jzkGQNDNGkB49oI/HzpBQFIQE0D8WOs94YwOQL2iPUAchFBAEQ85QMMJEkBV6hpA56UOQCf0E0An9Io/n1hLP8MRAkAkCJI/Bs1JQINBJUBntDNAahniP8g0IUAsZik/Q4zRPw4mpT8BZWFAdMiBP9cbIkA=",
          "dtype": "f4"
         },
         "y": {
          "bdata": "pjG6QNrqrkBqt7NA2wuHQEWHmUCZRHlA/TebQO5Dl0BusXpAj+CAQO3Ml0DDv21ApcxtQOnzmUDHvqpAdcR7QNpVjUACkEJAkiqEQD1UWEC3GpNAs2NaQF0NjkB7W2RAeuqyQGqtcEC1NnNAYNGhQOfin0A=",
          "dtype": "f4"
         },
         "z": {
          "bdata": "GPgHQTcgFEGwQANBDssDQXtL+0CZK/lApez4QKxZBEGKvg5BYPboQCa1C0HQewNBb5HjQAE81kD0gwZBr/reQGo9CkFysfVA/UvnQL38EUF7iQ5B+ToLQZLTFEFnV95AgxwOQX+UFkG2DwBBhKMCQX8jCkE=",
          "dtype": "f4"
         }
        },
        {
         "customdata": [
          [
           "Sample_10",
           "OncoCode_12",
           "TCC_C"
          ],
          [
           "Sample_32",
           "OncoCode_12",
           "TCC_D"
          ],
          [
           "Sample_54",
           "OncoCode_12",
           "TCC_B"
          ],
          [
           "Sample_135",
           "OncoCode_12",
           "TCC_B"
          ],
          [
           "Sample_160",
           "OncoCode_12",
           "TCC_D"
          ],
          [
           "Sample_163",
           "OncoCode_12",
           "TCC_D"
          ],
          [
           "Sample_165",
           "OncoCode_12",
           "TCC_B"
          ],
          [
           "Sample_205",
           "OncoCode_12",
           "TCC_C"
          ],
          [
           "Sample_218",
           "OncoCode_12",
           "TCC_D"
          ],
          [
           "Sample_232",
           "OncoCode_12",
           "TCC_C"
          ],
          [
           "Sample_250",
           "OncoCode_12",
           "TCC_D"
          ],
          [
           "Sample_252",
           "OncoCode_12",
           "TCC_C"
          ],
          [
           "Sample_257",
           "OncoCode_12",
           "TCC_D"
          ],
          [
           "Sample_265",
           "OncoCode_12",
           "TCC_D"
          ],
          [
           "Sample_296",
           "OncoCode_12",
           "TCC_B"
          ],
          [
           "Sample_310",
           "OncoCode_12",
           "TCC_D"
          ],
          [
           "Sample_312",
           "OncoCode_12",
           "TCC_A"
          ],
          [
           "Sample_314",
           "OncoCode_12",
           "TCC_B"
          ],
          [
           "Sample_322",
           "OncoCode_12",
           "TCC_B"
          ],
          [
           "Sample_324",
           "OncoCode_12",
           "TCC_D"
          ],
          [
           "Sample_340",
           "OncoCode_12",
           "TCC_B"
          ],
          [
           "Sample_341",
           "OncoCode_12",
           "TCC_B"
          ],
          [
           "Sample_354",
           "OncoCode_12",
           "TCC_C"
          ],
          [
           "Sample_364",
           "OncoCode_12",
           "TCC_B"
          ],
          [
           "Sample_366",
           "OncoCode_12",
           "TCC_B"
          ],
          [
           "Sample_433",
           "OncoCode_12",
           "TCC_B"
          ],
          [
           "Sample_435",
           "OncoCode_12",
           "TCC_A"
          ],
          [
           "Sample_440",
           "OncoCode_12",
           "TCC_D"
          ],
          [
           "Sample_457",
           "OncoCode_12",
           "TCC_B"
          ],
          [
           "Sample_465",
           "OncoCode_12",
           "TCC_C"
          ],
          [
           "Sample_493",
           "OncoCode_12",
           "TCC_A"
          ],
          [
           "Sample_499",
           "OncoCode_12",
           "TCC_C"
          ],
          [
           "Sample_511",
           "OncoCode_12",
           "TCC_A"
          ],
          [
           "Sample_532",
           "OncoCode_12",
           "TCC_D"
          ],
          [
           "Sample_543",
           "OncoCode_12",
           "TCC_A"
          ],
          [
           "Sample_556",
           "OncoCode_12",
           "TCC_D"
          ],
          [
           "Sample_566",
           "OncoCode_12",
           "TCC_D"
          ],
          [
           "Sample_586",
           "OncoCode_12",
           "TCC_C"
          ],
          [
           "Sample_646",
           "OncoCode_12",
           "TCC_B"
          ],
          [
           "Sample_651",
           "OncoCode_12",
           "TCC_A"
          ],
          [
           "Sample_696",
           "OncoCode_12",
           "TCC_B"
          ],
          [
           "Sample_697",
           "OncoCode_12",
           "TCC_B"
          ],
          [
           "Sample_732",
           "OncoCode_12",
           "TCC_D"
          ],
          [
           "Sample_783",
           "OncoCode_12",
           "TCC_B"
          ],
          [
           "Sample_790",
           "OncoCode_12",
           "TCC_D"
          ],
          [
           "Sample_794",
           "OncoCode_12",
           "TCC_B"
          ],
          [
           "Sample_801",
           "OncoCode_12",
           "TCC_A"
          ],
          [
           "Sample_832",
           "OncoCode_12",
           "TCC_B"
          ],
          [
           "Sample_842",
           "OncoCode_12",
           "TCC_B"
          ],
          [
           "Sample_888",
           "OncoCode_12",
           "TCC_A"
          ],
          [
           "Sample_892",
           "OncoCode_12",
           "TCC_B"
          ],
          [
           "Sample_896",
           "OncoCode_12",
           "TCC_B"
          ],
          [
           "Sample_930",
           "OncoCode_12",
           "TCC_B"
          ],
          [
           "Sample_972",
           "OncoCode_12",
           "TCC_D"
          ],
          [
           "Sample_982",
           "OncoCode_12",
           "TCC_A"
          ]
         ],
         "hovertemplate": "Sample name: %{customdata[0]}<br>code_oncotree: %{customdata[1]}<br>TCC: %{customdata[2]}<extra></extra>",
         "legendgroup": "OncoCode_12",
         "marker": {
          "color": "#B6E880",
          "opacity": 0.8,
          "symbol": "circle"
         },
         "mode": "markers",
         "name": "OncoCode_12",
         "scene": "scene",
         "showlegend": true,
         "type": "scatter3d",
         "x": {
          "bdata": "GpNiP22tlD+P7uA/vetGQBkUF0BJ6U5AlO58P/pTEECHLLA/ZbYVQF+k2z8H6DRAkaSrP17DNkA8nnU/j+04QEfpNUB7uEJACr0yQA/TR0BldUxAT7iuP3heJUAPXRdAQ0eSP+btY0BOZfQ/iD6xP4MR2z9ruB0/sE8QQGDMkz9UHjE/s+quP8M+RUDVZDhAkxGvP79mxD+93dw/FnIrQIftYUCcFUJAiqD2P54z7T4l0g9AHUTNPeJhnj95Ips/U/klPg1CnT+tOvc/vKT6P1CaWEBnPZ0/cu0PQA==",
          "dtype": "f4"
         },
         "y": {
          "bdata": "taSZQC5cn0A/DGNAnfevQPIOlUCTEmVAJS5fQJvVpkDzJpRAGWCEQATSo0CUyHVA/9WrQKJ2lEA+GpZAVKmkQJ7znEA67EVAtPlAQMT2bEBB+JZAbvI5QF9VWEA9MWtA3p58QAUPi0DGcplAHEI+QJRogUDngoFAM2qCQFI7iECBtKBADKKcQFPZo0DLbaRAoA6TQJ83aEC2qZpAc/w/QP6HeECsi5pAI0ZAQO8Bg0DR+odA9nN6QFhxnkBW34BAI/eWQLw2iUDubodAhCklQApjmUAm8WhAsjG7QA==",
          "dtype": "f4"
         },
         "z": {
          "bdata": "UEznQPm28EB8JQhBpQwAQX6q/UD4m+dAs9boQO7IAkGY9AlBEogaQY8H10BPZstAZVH0QFkUEkE5SQZBwgX+QJGv9kB7ofFA8AIIQebUBUG8PP1AjUQCQfZqCEExpuVATS7RQCs27UA1Sv1Ac6/yQMZh9EAyPQlBa1bRQA7y0kDIqwBB5TUUQecx5UBOKAhB9LX3QHkTF0Ft4gNBfxD5QNsw/EBx3ABBw1n/QFthB0GKzPhAm2T/QAwT9EBRTBNBrZgAQZl4AEEpIwlBQ/EGQeQuB0EYXvpAIxIJQQ==",
          "dtype": "f4"
         }
        },
        {
         "customdata": [
          [
           "Sample_11",
           "OncoCode_8",
           "TCC_A"
          ],
          [
           "Sample_42",
           "OncoCode_8",
           "TCC_C"
          ],
          [
           "Sample_66",
           "OncoCode_8",
           "TCC_C"
          ],
          [
           "Sample_112",
           "OncoCode_8",
           "TCC_D"
          ],
          [
           "Sample_126",
           "OncoCode_8",
           "TCC_D"
          ],
          [
           "Sample_131",
           "OncoCode_8",
           "TCC_B"
          ],
          [
           "Sample_134",
           "OncoCode_8",
           "TCC_C"
          ],
          [
           "Sample_189",
           "OncoCode_8",
           "TCC_B"
          ],
          [
           "Sample_240",
           "OncoCode_8",
           "TCC_D"
          ],
          [
           "Sample_244",
           "OncoCode_8",
           "TCC_A"
          ],
          [
           "Sample_259",
           "OncoCode_8",
           "TCC_D"
          ],
          [
           "Sample_272",
           "OncoCode_8",
           "TCC_C"
          ],
          [
           "Sample_301",
           "OncoCode_8",
           "TCC_B"
          ],
          [
           "Sample_315",
           "OncoCode_8",
           "TCC_C"
          ],
          [
           "Sample_337",
           "OncoCode_8",
           "TCC_B"
          ],
          [
           "Sample_345",
           "OncoCode_8",
           "TCC_B"
          ],
          [
           "Sample_355",
           "OncoCode_8",
           "TCC_D"
          ],
          [
           "Sample_387",
           "OncoCode_8",
           "TCC_A"
          ],
          [
           "Sample_395",
           "OncoCode_8",
           "TCC_C"
          ],
          [
           "Sample_402",
           "OncoCode_8",
           "TCC_D"
          ],
          [
           "Sample_405",
           "OncoCode_8",
           "TCC_A"
          ],
          [
           "Sample_430",
           "OncoCode_8",
           "TCC_B"
          ],
          [
           "Sample_456",
           "OncoCode_8",
           "TCC_B"
          ],
          [
           "Sample_462",
           "OncoCode_8",
           "TCC_B"
          ],
          [
           "Sample_471",
           "OncoCode_8",
           "TCC_C"
          ],
          [
           "Sample_473",
           "OncoCode_8",
           "TCC_A"
          ],
          [
           "Sample_477",
           "OncoCode_8",
           "TCC_C"
          ],
          [
           "Sample_490",
           "OncoCode_8",
           "TCC_C"
          ],
          [
           "Sample_494",
           "OncoCode_8",
           "TCC_D"
          ],
          [
           "Sample_520",
           "OncoCode_8",
           "TCC_B"
          ],
          [
           "Sample_550",
           "OncoCode_8",
           "TCC_B"
          ],
          [
           "Sample_553",
           "OncoCode_8",
           "TCC_A"
          ],
          [
           "Sample_558",
           "OncoCode_8",
           "TCC_C"
          ],
          [
           "Sample_630",
           "OncoCode_8",
           "TCC_C"
          ],
          [
           "Sample_634",
           "OncoCode_8",
           "TCC_C"
          ],
          [
           "Sample_654",
           "OncoCode_8",
           "TCC_C"
          ],
          [
           "Sample_698",
           "OncoCode_8",
           "TCC_B"
          ],
          [
           "Sample_717",
           "OncoCode_8",
           "TCC_A"
          ],
          [
           "Sample_728",
           "OncoCode_8",
           "TCC_C"
          ],
          [
           "Sample_737",
           "OncoCode_8",
           "TCC_C"
          ],
          [
           "Sample_752",
           "OncoCode_8",
           "TCC_C"
          ],
          [
           "Sample_781",
           "OncoCode_8",
           "TCC_C"
          ],
          [
           "Sample_829",
           "OncoCode_8",
           "TCC_B"
          ],
          [
           "Sample_835",
           "OncoCode_8",
           "TCC_D"
          ],
          [
           "Sample_906",
           "OncoCode_8",
           "TCC_D"
          ],
          [
           "Sample_923",
           "OncoCode_8",
           "TCC_C"
          ],
          [
           "Sample_941",
           "OncoCode_8",
           "TCC_D"
          ],
          [
           "Sample_946",
           "OncoCode_8",
           "TCC_A"
          ],
          [
           "Sample_989",
           "OncoCode_8",
           "TCC_A"
          ],
          [
           "Sample_998",
           "OncoCode_8",
           "TCC_B"
          ]
         ],
         "hovertemplate": "Sample name: %{customdata[0]}<br>code_oncotree: %{customdata[1]}<br>TCC: %{customdata[2]}<extra></extra>",
         "legendgroup": "OncoCode_8",
         "marker": {
          "color": "#FF97FF",
          "opacity": 0.8,
          "symbol": "circle"
         },
         "mode": "markers",
         "name": "OncoCode_8",
         "scene": "scene",
         "showlegend": true,
         "type": "scatter3d",
         "x": {
          "bdata": "UajpPz3S2D/OmgpA0/MnP4Eluj/ZkyhAg4WHP3qjnj/SVQZATOoAQI9UsT85UOQ/TA/APZeKD0C0ZYc/WpYOQFXkGj/NuhBAsFRCQHOhDkAU3EJAA8xUQMXfH0CJnfw/Gv4ZQBZ0sD909+A/7VOsP6KrDkCGd5k/pg5HQDIF8z/VLFA/fjP4PxFpVkAbdTtAXxUkQCXVBEDQ84s+IRasP02bJD+b8i5A8pooQMp7wT8WMFNAsRkZQOWApD8nmTlAsrMVQCiWhz8=",
          "dtype": "f4"
         },
         "y": {
          "bdata": "lLaDQL4rXEBUBFRAx0unQD3LV0Alr6lAhDOiQN3qdECJXnhAm5ydQF9mMkDHKVlAITKAQDzrfUBIDktAZ65RQLmtb0CJEKtAe5+xQAbJN0AmHKlAqBloQFvxsEDXtmRAIlFiQLXqs0AkpFFADGGfQAVlcUBJg2NAghKkQGWpp0Dvw4NAZ9WcQEzaj0DfmEZAY0OpQDNHikCEJZtAFYqrQBfLq0BD0Y1Ao55gQHZrpED2YpRAt3tmQLoOlkC8m6tABPNGQN5ko0A=",
          "dtype": "f4"
         },
         "z": {
          "bdata": "tN8KQWwu+UCyDPdA0+YBQWyWBUGqq+RA3kbXQD+X3UDPjAdBWTUQQSVdC0G6cBZBKYX9QNA29EAZrO1AMWYSQW9m5EDm9/hAPvL+QPsc9ECVaAJBp9TlQO0mBkEhPP1A3G/SQDoU7EB1nvBA12MCQdrA2kCnW9ZAoNDrQNbQCUG6uetAMhnnQByW4UDRcAdBfErgQLguCkE0V/ZA3/fgQHVoBkG2l+FAwCj+QPb+FUE5tAhBBgoWQU2HyEDOk+lAzEjfQNBe4kA=",
          "dtype": "f4"
         }
        },
        {
         "customdata": [
          [
           "Sample_12",
           "OncoCode_14",
           "TCC_D"
          ],
          [
           "Sample_38",
           "OncoCode_14",
           "TCC_B"
          ],
          [
           "Sample_43",
           "OncoCode_14",
           "TCC_D"
          ],
          [
           "Sample_70",
           "OncoCode_14",
           "TCC_C"
          ],
          [
           "Sample_86",
           "OncoCode_14",
           "TCC_C"
          ],
          [
           "Sample_132",
           "OncoCode_14",
           "TCC_D"
          ],
          [
           "Sample_147",
           "OncoCode_14",
           "TCC_C"
          ],
          [
           "Sample_214",
           "OncoCode_14",
           "TCC_A"
          ],
          [
           "Sample_261",
           "OncoCode_14",
           "TCC_A"
          ],
          [
           "Sample_278",
           "OncoCode_14",
           "TCC_A"
          ],
          [
           "Sample_280",
           "OncoCode_14",
           "TCC_B"
          ],
          [
           "Sample_308",
           "OncoCode_14",
           "TCC_C"
          ],
          [
           "Sample_358",
           "OncoCode_14",
           "TCC_C"
          ],
          [
           "Sample_362",
           "OncoCode_14",
           "TCC_C"
          ],
          [
           "Sample_380",
           "OncoCode_14",
           "TCC_D"
          ],
          [
           "Sample_383",
           "OncoCode_14",
           "TCC_D"
          ],
          [
           "Sample_445",
           "OncoCode_14",
           "TCC_A"
          ],
          [
           "Sample_451",
           "OncoCode_14",
           "TCC_C"
          ],
          [
           "Sample_458",
           "OncoCode_14",
           "TCC_C"
          ],
          [
           "Sample_463",
           "OncoCode_14",
           "TCC_D"
          ],
          [
           "Sample_464",
           "OncoCode_14",
           "TCC_B"
          ],
          [
           "Sample_466",
           "OncoCode_14",
           "TCC_C"
          ],
          [
           "Sample_495",
           "OncoCode_14",
           "TCC_D"
          ],
          [
           "Sample_504",
           "OncoCode_14",
           "TCC_D"
          ],
          [
           "Sample_519",
           "OncoCode_14",
           "TCC_C"
          ],
          [
           "Sample_548",
           "OncoCode_14",
           "TCC_C"
          ],
          [
           "Sample_560",
           "OncoCode_14",
           "TCC_D"
          ],
          [
           "Sample_564",
           "OncoCode_14",
           "TCC_A"
          ],
          [
           "Sample_572",
           "OncoCode_14",
           "TCC_C"
          ],
          [
           "Sample_581",
           "OncoCode_14",
           "TCC_C"
          ],
          [
           "Sample_594",
           "OncoCode_14",
           "TCC_A"
          ],
          [
           "Sample_616",
           "OncoCode_14",
           "TCC_D"
          ],
          [
           "Sample_653",
           "OncoCode_14",
           "TCC_B"
          ],
          [
           "Sample_667",
           "OncoCode_14",
           "TCC_A"
          ],
          [
           "Sample_669",
           "OncoCode_14",
           "TCC_B"
          ],
          [
           "Sample_678",
           "OncoCode_14",
           "TCC_C"
          ],
          [
           "Sample_739",
           "OncoCode_14",
           "TCC_B"
          ],
          [
           "Sample_751",
           "OncoCode_14",
           "TCC_D"
          ],
          [
           "Sample_811",
           "OncoCode_14",
           "TCC_C"
          ],
          [
           "Sample_812",
           "OncoCode_14",
           "TCC_B"
          ],
          [
           "Sample_836",
           "OncoCode_14",
           "TCC_A"
          ],
          [
           "Sample_859",
           "OncoCode_14",
           "TCC_D"
          ],
          [
           "Sample_863",
           "OncoCode_14",
           "TCC_A"
          ],
          [
           "Sample_875",
           "OncoCode_14",
           "TCC_A"
          ],
          [
           "Sample_897",
           "OncoCode_14",
           "TCC_D"
          ],
          [
           "Sample_920",
           "OncoCode_14",
           "TCC_D"
          ],
          [
           "Sample_931",
           "OncoCode_14",
           "TCC_B"
          ],
          [
           "Sample_960",
           "OncoCode_14",
           "TCC_D"
          ]
         ],
         "hovertemplate": "Sample name: %{customdata[0]}<br>code_oncotree: %{customdata[1]}<br>TCC: %{customdata[2]}<extra></extra>",
         "legendgroup": "OncoCode_14",
         "marker": {
          "color": "#FECB52",
          "opacity": 0.8,
          "symbol": "circle"
         },
         "mode": "markers",
         "name": "OncoCode_14",
         "scene": "scene",
         "showlegend": true,
         "type": "scatter3d",
         "x": {
          "bdata": "fgpcP/8UO0CSl2Q/8rusP5o3LkACGkRAANchQJf/LEBkguA/LgBZQNs0NkBbIvE/P79LQNIcPUB0+RtAkeyUPwpd9j9fIQJASYetPsX4MUDRsSdAHOzEP/+IA0BTsGw/KcIyQC3NOEDxCQhAvZwWQLe3QEAhhhVAOCKvP3NxRED66PY/bVZ5P6oTfT/lvhVADvQuP1y/DEDpc1Y/EcO4P9ZOUUAOCLA+tuMAQBdO3D/5N/s/p5g8QMWCsT/Gixc/",
          "dtype": "f4"
         },
         "y": {
          "bdata": "DDCdQDvCpkCGtphA7MC0QOUVjkC/OV5A5l1QQABuiECamkVAy1JbQLmHmUC+bYhARyNvQFwurUAt+4BAWydNQAVHhEAa4JtAs7KXQKRfmkAK8ZxAFbRSQHM7X0CamI9AZp2aQAlVS0CSdItAhnSlQDXCoEDRb5RAH7yEQMnCeUBfloVA/ZZvQDhwsEALWYRAAm2ZQBHDkEDlPzxAnAtoQBtIlEBA7WVAjQE9QOm2bkB7lKxAqHySQCx8kUD0AYRA",
          "dtype": "f4"
         },
         "z": {
          "bdata": "U08JQYfO1UBLIO5ApWPsQP13/UC8cQBBeOIGQdafE0FCvPlAv+b+QHyb+0AbTAdBaoTjQLWE9ECbpcxAZG/qQA414EDTlQlBemMFQenxC0H0SvVA8m4BQaPvBkG1EtlAQzwRQZ+P4kDTZs1AzPoNQXxP+EDCbd9A4hPYQGhHBEEOQQRB1ijiQH9dCEEJshpBT43oQOXj2EC3GvRAWUURQXSdAkFKw/dANGoLQV/E/UC+awhBzhPcQPZn8UArlAhB",
          "dtype": "f4"
         }
        },
        {
         "customdata": [
          [
           "Sample_13",
           "OncoCode_9",
           "TCC_B"
          ],
          [
           "Sample_29",
           "OncoCode_9",
           "TCC_C"
          ],
          [
           "Sample_35",
           "OncoCode_9",
           "TCC_C"
          ],
          [
           "Sample_41",
           "OncoCode_9",
           "TCC_C"
          ],
          [
           "Sample_45",
           "OncoCode_9",
           "TCC_D"
          ],
          [
           "Sample_57",
           "OncoCode_9",
           "TCC_D"
          ],
          [
           "Sample_63",
           "OncoCode_9",
           "TCC_C"
          ],
          [
           "Sample_67",
           "OncoCode_9",
           "TCC_B"
          ],
          [
           "Sample_97",
           "OncoCode_9",
           "TCC_C"
          ],
          [
           "Sample_101",
           "OncoCode_9",
           "TCC_D"
          ],
          [
           "Sample_167",
           "OncoCode_9",
           "TCC_B"
          ],
          [
           "Sample_171",
           "OncoCode_9",
           "TCC_D"
          ],
          [
           "Sample_174",
           "OncoCode_9",
           "TCC_A"
          ],
          [
           "Sample_178",
           "OncoCode_9",
           "TCC_A"
          ],
          [
           "Sample_196",
           "OncoCode_9",
           "TCC_C"
          ],
          [
           "Sample_302",
           "OncoCode_9",
           "TCC_C"
          ],
          [
           "Sample_335",
           "OncoCode_9",
           "TCC_B"
          ],
          [
           "Sample_349",
           "OncoCode_9",
           "TCC_D"
          ],
          [
           "Sample_356",
           "OncoCode_9",
           "TCC_D"
          ],
          [
           "Sample_390",
           "OncoCode_9",
           "TCC_A"
          ],
          [
           "Sample_398",
           "OncoCode_9",
           "TCC_D"
          ],
          [
           "Sample_425",
           "OncoCode_9",
           "TCC_D"
          ],
          [
           "Sample_468",
           "OncoCode_9",
           "TCC_B"
          ],
          [
           "Sample_502",
           "OncoCode_9",
           "TCC_D"
          ],
          [
           "Sample_523",
           "OncoCode_9",
           "TCC_B"
          ],
          [
           "Sample_535",
           "OncoCode_9",
           "TCC_A"
          ],
          [
           "Sample_551",
           "OncoCode_9",
           "TCC_D"
          ],
          [
           "Sample_562",
           "OncoCode_9",
           "TCC_D"
          ],
          [
           "Sample_571",
           "OncoCode_9",
           "TCC_D"
          ],
          [
           "Sample_599",
           "OncoCode_9",
           "TCC_D"
          ],
          [
           "Sample_613",
           "OncoCode_9",
           "TCC_A"
          ],
          [
           "Sample_617",
           "OncoCode_9",
           "TCC_A"
          ],
          [
           "Sample_628",
           "OncoCode_9",
           "TCC_B"
          ],
          [
           "Sample_631",
           "OncoCode_9",
           "TCC_B"
          ],
          [
           "Sample_640",
           "OncoCode_9",
           "TCC_B"
          ],
          [
           "Sample_689",
           "OncoCode_9",
           "TCC_C"
          ],
          [
           "Sample_704",
           "OncoCode_9",
           "TCC_C"
          ],
          [
           "Sample_742",
           "OncoCode_9",
           "TCC_D"
          ],
          [
           "Sample_754",
           "OncoCode_9",
           "TCC_D"
          ],
          [
           "Sample_779",
           "OncoCode_9",
           "TCC_A"
          ],
          [
           "Sample_780",
           "OncoCode_9",
           "TCC_C"
          ],
          [
           "Sample_809",
           "OncoCode_9",
           "TCC_C"
          ],
          [
           "Sample_814",
           "OncoCode_9",
           "TCC_A"
          ],
          [
           "Sample_831",
           "OncoCode_9",
           "TCC_B"
          ],
          [
           "Sample_837",
           "OncoCode_9",
           "TCC_C"
          ],
          [
           "Sample_850",
           "OncoCode_9",
           "TCC_C"
          ],
          [
           "Sample_869",
           "OncoCode_9",
           "TCC_B"
          ],
          [
           "Sample_909",
           "OncoCode_9",
           "TCC_B"
          ],
          [
           "Sample_915",
           "OncoCode_9",
           "TCC_A"
          ],
          [
           "Sample_971",
           "OncoCode_9",
           "TCC_C"
          ],
          [
           "Sample_983",
           "OncoCode_9",
           "TCC_C"
          ],
          [
           "Sample_986",
           "OncoCode_9",
           "TCC_B"
          ],
          [
           "Sample_992",
           "OncoCode_9",
           "TCC_C"
          ]
         ],
         "hovertemplate": "Sample name: %{customdata[0]}<br>code_oncotree: %{customdata[1]}<br>TCC: %{customdata[2]}<extra></extra>",
         "legendgroup": "OncoCode_9",
         "marker": {
          "color": "#636efa",
          "opacity": 0.8,
          "symbol": "circle"
         },
         "mode": "markers",
         "name": "OncoCode_9",
         "scene": "scene",
         "showlegend": true,
         "type": "scatter3d",
         "x": {
          "bdata": "Yh6qP6YCAEBVNSpA5rojQJVySUBTtx4/lu7BP0xB5z/QkLs/tpEZQNfo2D//YC5AQ6QQQElMkz9mOxJAodMKQMh3wD7Prv0/ZdxRQPld6T/qrrk/AcTsP01kbT/7i6c/vUMqQLcWjT/03co/TLIxQGrt6z/OC+I/PIQnQJO0wD8HqlxAE7hNP6ZjHEB/d11A8FFiQHu+JED79TJA78lHQPGEWUC5Fvo+Y9fkPyu2W0AUspQ/4aEoQJ0DeD+A7q4/YC8uQACHmT+JNBJAJ7CBP68cO0A=",
          "dtype": "f4"
         },
         "y": {
          "bdata": "cQCfQAeugUC9QX9AB6SkQMO3ikBeP4RAXC2jQBMVt0DSyKRAOICTQPRQiUDymKRA75s1QIfyg0DyXYxAP8hqQMBcZUAFNopAWxWRQEBVmUD//4FA+dKEQFaMhkCF7IVAxAR2QBUmkEB4ODRAV3CAQF/Lg0CXL5lA9c1LQKI9L0BV1ZVAvLd0QDO+nUBIPYFAdEKAQM71okCbqGxAEN2TQFNCi0BbgpRARsSdQAAwgUBfjZVAynSJQCizpEAIR3dAIT6KQNmmiEBtc3dAw+x3QLj9sEA=",
          "dtype": "f4"
         },
         "z": {
          "bdata": "AsfuQA3p90BL+OpAk1rtQB6BDUFdRwtBt5X8QNjU/UDtfu5Ajs4DQbCqGEG52utAcTwJQeY+5UCOA/JADHvWQNBC8UBMLc5AbgwTQUTFDEGVUdJA++fzQG5w7EDSQwFB2Z39QGDB4EDjkP1AfrcQQYTpEEH2yexATMDqQAE1CUFjTvxAENQNQYu4y0BsTt9AmXD9QLXd40ByQ9tAt20FQcnBD0H6pAxBGkvnQG4s4EAxXMpA4gHwQLI+EUFTkNJAaFIAQSVFEUH8xhVB4XcJQVmo8kA=",
          "dtype": "f4"
         }
        },
        {
         "customdata": [
          [
           "Sample_14",
           "OncoCode_4",
           "TCC_D"
          ],
          [
           "Sample_61",
           "OncoCode_4",
           "TCC_A"
          ],
          [
           "Sample_69",
           "OncoCode_4",
           "TCC_A"
          ],
          [
           "Sample_93",
           "OncoCode_4",
           "TCC_D"
          ],
          [
           "Sample_107",
           "OncoCode_4",
           "TCC_A"
          ],
          [
           "Sample_142",
           "OncoCode_4",
           "TCC_A"
          ],
          [
           "Sample_158",
           "OncoCode_4",
           "TCC_C"
          ],
          [
           "Sample_193",
           "OncoCode_4",
           "TCC_D"
          ],
          [
           "Sample_200",
           "OncoCode_4",
           "TCC_C"
          ],
          [
           "Sample_234",
           "OncoCode_4",
           "TCC_C"
          ],
          [
           "Sample_235",
           "OncoCode_4",
           "TCC_C"
          ],
          [
           "Sample_294",
           "OncoCode_4",
           "TCC_D"
          ],
          [
           "Sample_329",
           "OncoCode_4",
           "TCC_B"
          ],
          [
           "Sample_330",
           "OncoCode_4",
           "TCC_B"
          ],
          [
           "Sample_339",
           "OncoCode_4",
           "TCC_A"
          ],
          [
           "Sample_350",
           "OncoCode_4",
           "TCC_C"
          ],
          [
           "Sample_353",
           "OncoCode_4",
           "TCC_D"
          ],
          [
           "Sample_367",
           "OncoCode_4",
           "TCC_A"
          ],
          [
           "Sample_373",
           "OncoCode_4",
           "TCC_B"
          ],
          [
           "Sample_385",
           "OncoCode_4",
           "TCC_C"
          ],
          [
           "Sample_386",
           "OncoCode_4",
           "TCC_C"
          ],
          [
           "Sample_413",
           "OncoCode_4",
           "TCC_B"
          ],
          [
           "Sample_414",
           "OncoCode_4",
           "TCC_A"
          ],
          [
           "Sample_416",
           "OncoCode_4",
           "TCC_B"
          ],
          [
           "Sample_419",
           "OncoCode_4",
           "TCC_B"
          ],
          [
           "Sample_437",
           "OncoCode_4",
           "TCC_A"
          ],
          [
           "Sample_454",
           "OncoCode_4",
           "TCC_B"
          ],
          [
           "Sample_455",
           "OncoCode_4",
           "TCC_D"
          ],
          [
           "Sample_467",
           "OncoCode_4",
           "TCC_C"
          ],
          [
           "Sample_472",
           "OncoCode_4",
           "TCC_A"
          ],
          [
           "Sample_474",
           "OncoCode_4",
           "TCC_C"
          ],
          [
           "Sample_479",
           "OncoCode_4",
           "TCC_A"
          ],
          [
           "Sample_481",
           "OncoCode_4",
           "TCC_A"
          ],
          [
           "Sample_485",
           "OncoCode_4",
           "TCC_D"
          ],
          [
           "Sample_554",
           "OncoCode_4",
           "TCC_A"
          ],
          [
           "Sample_567",
           "OncoCode_4",
           "TCC_C"
          ],
          [
           "Sample_577",
           "OncoCode_4",
           "TCC_B"
          ],
          [
           "Sample_587",
           "OncoCode_4",
           "TCC_C"
          ],
          [
           "Sample_595",
           "OncoCode_4",
           "TCC_D"
          ],
          [
           "Sample_600",
           "OncoCode_4",
           "TCC_B"
          ],
          [
           "Sample_604",
           "OncoCode_4",
           "TCC_D"
          ],
          [
           "Sample_633",
           "OncoCode_4",
           "TCC_D"
          ],
          [
           "Sample_668",
           "OncoCode_4",
           "TCC_A"
          ],
          [
           "Sample_710",
           "OncoCode_4",
           "TCC_C"
          ],
          [
           "Sample_718",
           "OncoCode_4",
           "TCC_B"
          ],
          [
           "Sample_725",
           "OncoCode_4",
           "TCC_A"
          ],
          [
           "Sample_746",
           "OncoCode_4",
           "TCC_D"
          ],
          [
           "Sample_760",
           "OncoCode_4",
           "TCC_B"
          ],
          [
           "Sample_774",
           "OncoCode_4",
           "TCC_D"
          ],
          [
           "Sample_803",
           "OncoCode_4",
           "TCC_B"
          ],
          [
           "Sample_818",
           "OncoCode_4",
           "TCC_C"
          ],
          [
           "Sample_823",
           "OncoCode_4",
           "TCC_D"
          ],
          [
           "Sample_860",
           "OncoCode_4",
           "TCC_D"
          ],
          [
           "Sample_868",
           "OncoCode_4",
           "TCC_C"
          ],
          [
           "Sample_871",
           "OncoCode_4",
           "TCC_C"
          ],
          [
           "Sample_879",
           "OncoCode_4",
           "TCC_B"
          ],
          [
           "Sample_908",
           "OncoCode_4",
           "TCC_B"
          ],
          [
           "Sample_943",
           "OncoCode_4",
           "TCC_C"
          ],
          [
           "Sample_949",
           "OncoCode_4",
           "TCC_B"
          ],
          [
           "Sample_976",
           "OncoCode_4",
           "TCC_C"
          ],
          [
           "Sample_996",
           "OncoCode_4",
           "TCC_D"
          ]
         ],
         "hovertemplate": "Sample name: %{customdata[0]}<br>code_oncotree: %{customdata[1]}<br>TCC: %{customdata[2]}<extra></extra>",
         "legendgroup": "OncoCode_4",
         "marker": {
          "color": "#EF553B",
          "opacity": 0.8,
          "symbol": "circle"
         },
         "mode": "markers",
         "name": "OncoCode_4",
         "scene": "scene",
         "showlegend": true,
         "type": "scatter3d",
         "x": {
          "bdata": "Djo0QDsF5T8PrVFAGqAPQL/3NUA+vVY/xZTPP5L9/j/44AtA9cGxPv4GTD92M2NAc3wXQBeqzT99aypAIHkWQHUqF0BioAhASV7BPwz7fz9BdABAphFHQF2xCkC2YQpAUgEqQP1XWz9TsO0/w1Q/QAAVFUC1J7I/DdUJQEKkEUBVCr8/7FZjQOOnqT+7iwFAxOk8QBpBsD8CbfU/RqXGP+/Jtz/4nRNA6IIaQCYtP0AF9kFAQ3OZP9VMKUC084I/z9oIQMttHkDy8DVAG2VrP7MjaT/hASlA1CVKQJTK6z/N27g/dLTBP+bmMUBxmL4/RpslQA==",
          "dtype": "f4"
         },
         "y": {
          "bdata": "xZmJQD7sakCAI1lAugkzQKJePUBChklAsXhmQHI4JkA0BqBA8d5aQC4QWUCpeY9A1GGvQOcUPUDH0lZAtrl9QMuFs0DlkoBAJSB9QDMLkkANBDpA6KCjQAcIpUCbMVhAEm6OQEJ3PEBhfDBANFWAQA0HVUDAu3BAoYB9QPFKpUCehmBAF9mOQDz6pECFM0JAg8qLQKPrL0BM1qBAw3BHQEtshUDJk0hATKB8QH1LlECN12dAZn9lQL/RfUCbi6pAZcGhQMzclECnO6NAszSJQH1oc0DYEadA3j05QMeAf0CquJdANRSiQHATkUDQFTdAbimQQA==",
          "dtype": "f4"
         },
         "z": {
          "bdata": "dazrQJ/F1UAUbvdAWg4EQciR7UDwqfZAmxnkQMEzBkG9WgpBhmznQEmg+ECOiepAewABQfQZ5kD9rP5AZ//gQPSS60DQ8QlBmQTWQGxd3EChX/JAWHX8QKm2zUCinxVBtsvVQMgY+UBBvuhA2/7vQGy+/0B+pd1AaQLoQDqnCUF93OBARjYGQUt61kAQRupABT0GQTXaB0Hhz9pAEeYRQUnu30Dsg+lA5J8YQb1SFUHRF89AjfjSQDds4kAZDv9AWyYWQfUlD0HKeBNBDyzZQONgCEHpUgxBGvT6QLgyzUCvqxRBmADNQJgXE0EDUfRAP3X8QA==",
          "dtype": "f4"
         }
        },
        {
         "customdata": [
          [
           "Sample_18",
           "OncoCode_15",
           "TCC_D"
          ],
          [
           "Sample_23",
           "OncoCode_15",
           "TCC_B"
          ],
          [
           "Sample_64",
           "OncoCode_15",
           "TCC_B"
          ],
          [
           "Sample_96",
           "OncoCode_15",
           "TCC_D"
          ],
          [
           "Sample_102",
           "OncoCode_15",
           "TCC_D"
          ],
          [
           "Sample_104",
           "OncoCode_15",
           "TCC_B"
          ],
          [
           "Sample_164",
           "OncoCode_15",
           "TCC_D"
          ],
          [
           "Sample_195",
           "OncoCode_15",
           "TCC_A"
          ],
          [
           "Sample_222",
           "OncoCode_15",
           "TCC_A"
          ],
          [
           "Sample_223",
           "OncoCode_15",
           "TCC_D"
          ],
          [
           "Sample_238",
           "OncoCode_15",
           "TCC_C"
          ],
          [
           "Sample_286",
           "OncoCode_15",
           "TCC_C"
          ],
          [
           "Sample_313",
           "OncoCode_15",
           "TCC_B"
          ],
          [
           "Sample_317",
           "OncoCode_15",
           "TCC_B"
          ],
          [
           "Sample_351",
           "OncoCode_15",
           "TCC_A"
          ],
          [
           "Sample_393",
           "OncoCode_15",
           "TCC_D"
          ],
          [
           "Sample_403",
           "OncoCode_15",
           "TCC_B"
          ],
          [
           "Sample_426",
           "OncoCode_15",
           "TCC_B"
          ],
          [
           "Sample_439",
           "OncoCode_15",
           "TCC_C"
          ],
          [
           "Sample_453",
           "OncoCode_15",
           "TCC_A"
          ],
          [
           "Sample_514",
           "OncoCode_15",
           "TCC_B"
          ],
          [
           "Sample_515",
           "OncoCode_15",
           "TCC_D"
          ],
          [
           "Sample_518",
           "OncoCode_15",
           "TCC_B"
          ],
          [
           "Sample_521",
           "OncoCode_15",
           "TCC_B"
          ],
          [
           "Sample_536",
           "OncoCode_15",
           "TCC_B"
          ],
          [
           "Sample_538",
           "OncoCode_15",
           "TCC_C"
          ],
          [
           "Sample_541",
           "OncoCode_15",
           "TCC_B"
          ],
          [
           "Sample_561",
           "OncoCode_15",
           "TCC_B"
          ],
          [
           "Sample_573",
           "OncoCode_15",
           "TCC_C"
          ],
          [
           "Sample_585",
           "OncoCode_15",
           "TCC_B"
          ],
          [
           "Sample_606",
           "OncoCode_15",
           "TCC_A"
          ],
          [
           "Sample_618",
           "OncoCode_15",
           "TCC_B"
          ],
          [
           "Sample_638",
           "OncoCode_15",
           "TCC_B"
          ],
          [
           "Sample_650",
           "OncoCode_15",
           "TCC_D"
          ],
          [
           "Sample_691",
           "OncoCode_15",
           "TCC_A"
          ],
          [
           "Sample_707",
           "OncoCode_15",
           "TCC_A"
          ],
          [
           "Sample_716",
           "OncoCode_15",
           "TCC_C"
          ],
          [
           "Sample_750",
           "OncoCode_15",
           "TCC_A"
          ],
          [
           "Sample_789",
           "OncoCode_15",
           "TCC_B"
          ],
          [
           "Sample_816",
           "OncoCode_15",
           "TCC_D"
          ],
          [
           "Sample_828",
           "OncoCode_15",
           "TCC_D"
          ],
          [
           "Sample_844",
           "OncoCode_15",
           "TCC_C"
          ],
          [
           "Sample_853",
           "OncoCode_15",
           "TCC_A"
          ],
          [
           "Sample_882",
           "OncoCode_15",
           "TCC_C"
          ],
          [
           "Sample_899",
           "OncoCode_15",
           "TCC_A"
          ],
          [
           "Sample_901",
           "OncoCode_15",
           "TCC_B"
          ],
          [
           "Sample_902",
           "OncoCode_15",
           "TCC_A"
          ],
          [
           "Sample_933",
           "OncoCode_15",
           "TCC_D"
          ],
          [
           "Sample_940",
           "OncoCode_15",
           "TCC_D"
          ]
         ],
         "hovertemplate": "Sample name: %{customdata[0]}<br>code_oncotree: %{customdata[1]}<br>TCC: %{customdata[2]}<extra></extra>",
         "legendgroup": "OncoCode_15",
         "marker": {
          "color": "#00cc96",
          "opacity": 0.8,
          "symbol": "circle"
         },
         "mode": "markers",
         "name": "OncoCode_15",
         "scene": "scene",
         "showlegend": true,
         "type": "scatter3d",
         "x": {
          "bdata": "w2bWP9x0dT/apjxAf5nnPrZ+IT8lV6c/RmviP84XDD9IqdE/Qc72P0/I6j/Beps/XbKAP5vgwz9jauc/J4B7PwGohz8KO6E/ZjumP6R/TUDS/fw/q5W0P7ITvz8PK9w/tusHQGlsyT8cPQtAVtxCQPQy1j8Zkvc+lwLwPy3t/D/Jjao/AF9LQDTQvz8s8co/5KwJQB6tUkAEADdAQFZQQGt+K0Aon2g/wgqqP8FwSED460NAlH8YP6zWFUCtzoc/thw8QA==",
          "dtype": "f4"
         },
         "y": {
          "bdata": "ERBMQHJOQUA1VYpASGaiQOlzVEBDBXtAaaJUQMPZd0AdVJVAepCfQGMGgEBeMGVA9XtRQOk2j0CuyGhAZGKmQKGWh0CDQodAH5GoQA+LrUDKn0VAAsuQQHh5tECvkbBAbfOWQMA9kECkdmVAEJWoQArWh0BNaalAHdhuQLOmh0CfEjZAMlJaQJlFk0Dr6oVANNezQFY6pUC/+5hAt8xLQApwtkClAZBAWQucQFYLjUBCto5AJI1QQMgkPUC061ZAkX+rQA==",
          "dtype": "f4"
         },
         "z": {
          "bdata": "iyoJQRmOCkHL8wxBIuL3QHpJ+UDjdwhBQhgEQZJK/ECC7wlBVWfSQEKU/UALqPtAd9AFQY6YDUGgeBFBdtb1QH8AFUGHDdxAvMcMQUmu/0BMjtZADigSQXObA0GyovRA5f7MQF3EF0Eks+VAEZfWQKdzyUDHjvdAF8PlQI8JFkEuEAhBXgwOQfKz4UA39hdB4c/ZQMyfAUEXHd1Acb4JQUBzD0GwzgFBex8KQcr+CkF35QNBB1QCQVSZ+UCp7RFBFI4RQQ==",
          "dtype": "f4"
         }
        },
        {
         "customdata": [
          [
           "Sample_20",
           "OncoCode_6",
           "TCC_D"
          ],
          [
           "Sample_71",
           "OncoCode_6",
           "TCC_D"
          ],
          [
           "Sample_73",
           "OncoCode_6",
           "TCC_D"
          ],
          [
           "Sample_76",
           "OncoCode_6",
           "TCC_C"
          ],
          [
           "Sample_82",
           "OncoCode_6",
           "TCC_D"
          ],
          [
           "Sample_100",
           "OncoCode_6",
           "TCC_C"
          ],
          [
           "Sample_206",
           "OncoCode_6",
           "TCC_B"
          ],
          [
           "Sample_228",
           "OncoCode_6",
           "TCC_A"
          ],
          [
           "Sample_251",
           "OncoCode_6",
           "TCC_A"
          ],
          [
           "Sample_292",
           "OncoCode_6",
           "TCC_B"
          ],
          [
           "Sample_305",
           "OncoCode_6",
           "TCC_D"
          ],
          [
           "Sample_400",
           "OncoCode_6",
           "TCC_D"
          ],
          [
           "Sample_401",
           "OncoCode_6",
           "TCC_D"
          ],
          [
           "Sample_412",
           "OncoCode_6",
           "TCC_B"
          ],
          [
           "Sample_420",
           "OncoCode_6",
           "TCC_B"
          ],
          [
           "Sample_431",
           "OncoCode_6",
           "TCC_B"
          ],
          [
           "Sample_432",
           "OncoCode_6",
           "TCC_B"
          ],
          [
           "Sample_449",
           "OncoCode_6",
           "TCC_C"
          ],
          [
           "Sample_476",
           "OncoCode_6",
           "TCC_A"
          ],
          [
           "Sample_480",
           "OncoCode_6",
           "TCC_B"
          ],
          [
           "Sample_529",
           "OncoCode_6",
           "TCC_D"
          ],
          [
           "Sample_583",
           "OncoCode_6",
           "TCC_C"
          ],
          [
           "Sample_658",
           "OncoCode_6",
           "TCC_A"
          ],
          [
           "Sample_659",
           "OncoCode_6",
           "TCC_C"
          ],
          [
           "Sample_690",
           "OncoCode_6",
           "TCC_A"
          ],
          [
           "Sample_702",
           "OncoCode_6",
           "TCC_B"
          ],
          [
           "Sample_729",
           "OncoCode_6",
           "TCC_B"
          ],
          [
           "Sample_736",
           "OncoCode_6",
           "TCC_B"
          ],
          [
           "Sample_748",
           "OncoCode_6",
           "TCC_A"
          ],
          [
           "Sample_753",
           "OncoCode_6",
           "TCC_C"
          ],
          [
           "Sample_767",
           "OncoCode_6",
           "TCC_A"
          ],
          [
           "Sample_786",
           "OncoCode_6",
           "TCC_B"
          ],
          [
           "Sample_787",
           "OncoCode_6",
           "TCC_B"
          ],
          [
           "Sample_798",
           "OncoCode_6",
           "TCC_D"
          ],
          [
           "Sample_804",
           "OncoCode_6",
           "TCC_A"
          ],
          [
           "Sample_806",
           "OncoCode_6",
           "TCC_C"
          ],
          [
           "Sample_840",
           "OncoCode_6",
           "TCC_B"
          ],
          [
           "Sample_866",
           "OncoCode_6",
           "TCC_B"
          ],
          [
           "Sample_867",
           "OncoCode_6",
           "TCC_A"
          ],
          [
           "Sample_877",
           "OncoCode_6",
           "TCC_C"
          ],
          [
           "Sample_895",
           "OncoCode_6",
           "TCC_A"
          ],
          [
           "Sample_994",
           "OncoCode_6",
           "TCC_C"
          ],
          [
           "Sample_995",
           "OncoCode_6",
           "TCC_A"
          ]
         ],
         "hovertemplate": "Sample name: %{customdata[0]}<br>code_oncotree: %{customdata[1]}<br>TCC: %{customdata[2]}<extra></extra>",
         "legendgroup": "OncoCode_6",
         "marker": {
          "color": "#ab63fa",
          "opacity": 0.8,
          "symbol": "circle"
         },
         "mode": "markers",
         "name": "OncoCode_6",
         "scene": "scene",
         "showlegend": true,
         "type": "scatter3d",
         "x": {
          "bdata": "zJ+XPsKUoj94ouw/+ZIDQKNBF0DIo48/KhIVQJv3wz8U5+8/+OMgQD37mT+zr0FAbyIUQKnHyT/UIENAcOUgP2UUDUD0MVk/wGfYPynZTkBMDwBAohxnQBzTwj+Xc0tAOOOuP2F/8z6P/R0/J6fcP3W9NT9KJBRAnvo2QCaLEECeND0/08TRP1qI1j7Dz80/NBssQHIA4T8olghAUOsyQHxj0j94Ld4/tNwIQA==",
          "dtype": "f4"
         },
         "y": {
          "bdata": "rjKUQMOJbEC8YpVA9z6VQPMWe0ACHo9AWBdnQBUBekD3lFhAcwV1QKW2oUCY70ZAZAdQQMY/aUBDSZdAjwhFQCOaV0BxA5dArJ+hQPT5jkAxQzdAf/VwQHC+iUCcHmNApuuFQBwCgUAcJp5A6OB3QCF2VEARbpFAszmGQAG5bEC6KKJAu8lyQLTNWUB392NAHwhbQHWHn0Ce2nhAghWlQFGkO0BC4ElAnvdoQA==",
          "dtype": "f4"
         },
         "z": {
          "bdata": "XcIIQcEiCEFNBdZAgtkFQSM4A0Hc1hNBHm7mQLKl5UBZx+tAsgIQQaGB3EBXzANBL5XsQA993EA6PRRBYk8KQaspCkHvwNlAtFjbQKh6BEGoNfZAFzb1QNx680Cq5AVBYc8PQUwZ/kCxsfRAFgIGQSw4AUHQzflASOTdQIbxD0H8vu1ABZMXQTBj5ECxkuVA+RAMQbgmF0FpjNhAoUUOQYwWB0GxBRZBL7r5QA==",
          "dtype": "f4"
         }
        },
        {
         "customdata": [
          [
           "Sample_21",
           "OncoCode_0",
           "TCC_D"
          ],
          [
           "Sample_27",
           "OncoCode_0",
           "TCC_A"
          ],
          [
           "Sample_28",
           "OncoCode_0",
           "TCC_B"
          ],
          [
           "Sample_37",
           "OncoCode_0",
           "TCC_C"
          ],
          [
           "Sample_46",
           "OncoCode_0",
           "TCC_D"
          ],
          [
           "Sample_77",
           "OncoCode_0",
           "TCC_A"
          ],
          [
           "Sample_79",
           "OncoCode_0",
           "TCC_A"
          ],
          [
           "Sample_116",
           "OncoCode_0",
           "TCC_B"
          ],
          [
           "Sample_141",
           "OncoCode_0",
           "TCC_B"
          ],
          [
           "Sample_156",
           "OncoCode_0",
           "TCC_A"
          ],
          [
           "Sample_166",
           "OncoCode_0",
           "TCC_D"
          ],
          [
           "Sample_190",
           "OncoCode_0",
           "TCC_B"
          ],
          [
           "Sample_230",
           "OncoCode_0",
           "TCC_D"
          ],
          [
           "Sample_247",
           "OncoCode_0",
           "TCC_D"
          ],
          [
           "Sample_249",
           "OncoCode_0",
           "TCC_B"
          ],
          [
           "Sample_270",
           "OncoCode_0",
           "TCC_B"
          ],
          [
           "Sample_276",
           "OncoCode_0",
           "TCC_B"
          ],
          [
           "Sample_288",
           "OncoCode_0",
           "TCC_A"
          ],
          [
           "Sample_311",
           "OncoCode_0",
           "TCC_B"
          ],
          [
           "Sample_321",
           "OncoCode_0",
           "TCC_A"
          ],
          [
           "Sample_326",
           "OncoCode_0",
           "TCC_B"
          ],
          [
           "Sample_328",
           "OncoCode_0",
           "TCC_C"
          ],
          [
           "Sample_406",
           "OncoCode_0",
           "TCC_D"
          ],
          [
           "Sample_421",
           "OncoCode_0",
           "TCC_A"
          ],
          [
           "Sample_442",
           "OncoCode_0",
           "TCC_A"
          ],
          [
           "Sample_487",
           "OncoCode_0",
           "TCC_D"
          ],
          [
           "Sample_488",
           "OncoCode_0",
           "TCC_A"
          ],
          [
           "Sample_491",
           "OncoCode_0",
           "TCC_C"
          ],
          [
           "Sample_509",
           "OncoCode_0",
           "TCC_A"
          ],
          [
           "Sample_569",
           "OncoCode_0",
           "TCC_A"
          ],
          [
           "Sample_614",
           "OncoCode_0",
           "TCC_D"
          ],
          [
           "Sample_623",
           "OncoCode_0",
           "TCC_C"
          ],
          [
           "Sample_637",
           "OncoCode_0",
           "TCC_D"
          ],
          [
           "Sample_642",
           "OncoCode_0",
           "TCC_A"
          ],
          [
           "Sample_644",
           "OncoCode_0",
           "TCC_D"
          ],
          [
           "Sample_676",
           "OncoCode_0",
           "TCC_C"
          ],
          [
           "Sample_688",
           "OncoCode_0",
           "TCC_A"
          ],
          [
           "Sample_694",
           "OncoCode_0",
           "TCC_B"
          ],
          [
           "Sample_701",
           "OncoCode_0",
           "TCC_D"
          ],
          [
           "Sample_713",
           "OncoCode_0",
           "TCC_C"
          ],
          [
           "Sample_733",
           "OncoCode_0",
           "TCC_B"
          ],
          [
           "Sample_734",
           "OncoCode_0",
           "TCC_D"
          ],
          [
           "Sample_735",
           "OncoCode_0",
           "TCC_A"
          ],
          [
           "Sample_738",
           "OncoCode_0",
           "TCC_B"
          ],
          [
           "Sample_766",
           "OncoCode_0",
           "TCC_D"
          ],
          [
           "Sample_770",
           "OncoCode_0",
           "TCC_C"
          ],
          [
           "Sample_847",
           "OncoCode_0",
           "TCC_D"
          ],
          [
           "Sample_849",
           "OncoCode_0",
           "TCC_D"
          ],
          [
           "Sample_881",
           "OncoCode_0",
           "TCC_D"
          ],
          [
           "Sample_903",
           "OncoCode_0",
           "TCC_A"
          ],
          [
           "Sample_927",
           "OncoCode_0",
           "TCC_A"
          ],
          [
           "Sample_932",
           "OncoCode_0",
           "TCC_A"
          ],
          [
           "Sample_936",
           "OncoCode_0",
           "TCC_A"
          ],
          [
           "Sample_939",
           "OncoCode_0",
           "TCC_B"
          ],
          [
           "Sample_945",
           "OncoCode_0",
           "TCC_B"
          ],
          [
           "Sample_963",
           "OncoCode_0",
           "TCC_C"
          ],
          [
           "Sample_964",
           "OncoCode_0",
           "TCC_B"
          ],
          [
           "Sample_968",
           "OncoCode_0",
           "TCC_D"
          ],
          [
           "Sample_970",
           "OncoCode_0",
           "TCC_A"
          ],
          [
           "Sample_988",
           "OncoCode_0",
           "TCC_C"
          ],
          [
           "Sample_991",
           "OncoCode_0",
           "TCC_C"
          ]
         ],
         "hovertemplate": "Sample name: %{customdata[0]}<br>code_oncotree: %{customdata[1]}<br>TCC: %{customdata[2]}<extra></extra>",
         "legendgroup": "OncoCode_0",
         "marker": {
          "color": "#FFA15A",
          "opacity": 0.8,
          "symbol": "circle"
         },
         "mode": "markers",
         "name": "OncoCode_0",
         "scene": "scene",
         "showlegend": true,
         "type": "scatter3d",
         "x": {
          "bdata": "4X+5P9fktj9VhOQ/fl6bPsyMBkA6RCBAI6APQPH7MEDSslxAUymZP6LhFECITnA/tfdXQFXtgj+eVIc/RvHpP4bhhD8gflVAF2J/P452mD6T9Yg/dI0NQHQp5j/nWoA/IZgwQKIGR0BuoNA/sgwFQK11REDVnBBAZWkCQF+h3j/CgeQ/P99VPzEc+T/MAMM/VFRmQFlwSECl0QY/mgJnQH6LOkCDH10/W1UXQHtdF0Bg5hxAl+4LQE7+ij8iRfw/lk4nQGMa3T8cwgs/8IB2P5kd/j/QwipAOQkRQMRkHEACT7I/vaprPknZLkAmukRAOzMbPw==",
          "dtype": "f4"
         },
         "y": {
          "bdata": "s+CXQMs5eEABBXxAejhzQDLtRUAIT35A0xONQLRJe0Cx8ZtAMUCXQIJPRUBO9J5AigKVQKGDoEDi7VdAlfSiQILhiUCPRpZA48uUQK74ckB6O5BAoMCFQAl8k0A/UYxApjyLQC+hpkAMJ6RAgVlWQIVeq0D46qpAqjJfQFDslUB2zLxAh/SqQC70k0Ai8YhA8oh6QFgVd0CMr4xAjiGLQEaSaUAaKqBAWV9BQMy4kUA/YzpA4D60QIj4pkAQo1pA0OJ0QBlznEBAKntAywxgQOs8rUDL/3pAZYSaQLFAUEB2YbNAA9yTQEAan0BqcHZAJuCfQA==",
          "dtype": "f4"
         },
         "z": {
          "bdata": "iwLxQFHB8UDSVfZA+hLyQCKEDkFFvddALAcPQcEYAEFKb/dAz2sJQePKD0GhTt9Ar78QQdCWEUFUPBJB2tUDQZSTEkGKGwZBU9cBQQ9d6EALMfdAz3zqQCI30kCe1hFB2Q3yQI2R2EDkf/tA7g31QP2B3kAMbwBBeRAYQTpfDEHb1vdAwULtQEbn+kA6oQtBYWoCQcVzE0HrJQJBrWj3QOkj3UAM3ulA89fWQNvS0kDf2Q5BvD3dQGTA3UABFf1A/qUCQZc0zkBUGAFB1HcRQVVTDEEWqRNBosnxQP549UAg/AVBdiHsQL41+0AhVthAuagKQQ==",
          "dtype": "f4"
         }
        },
        {
         "customdata": [
          [
           "Sample_22",
           "OncoCode_2",
           "TCC_A"
          ],
          [
           "Sample_25",
           "OncoCode_2",
           "TCC_D"
          ],
          [
           "Sample_31",
           "OncoCode_2",
           "TCC_C"
          ],
          [
           "Sample_74",
           "OncoCode_2",
           "TCC_D"
          ],
          [
           "Sample_75",
           "OncoCode_2",
           "TCC_A"
          ],
          [
           "Sample_84",
           "OncoCode_2",
           "TCC_B"
          ],
          [
           "Sample_103",
           "OncoCode_2",
           "TCC_C"
          ],
          [
           "Sample_177",
           "OncoCode_2",
           "TCC_D"
          ],
          [
           "Sample_187",
           "OncoCode_2",
           "TCC_B"
          ],
          [
           "Sample_188",
           "OncoCode_2",
           "TCC_C"
          ],
          [
           "Sample_201",
           "OncoCode_2",
           "TCC_B"
          ],
          [
           "Sample_255",
           "OncoCode_2",
           "TCC_C"
          ],
          [
           "Sample_260",
           "OncoCode_2",
           "TCC_A"
          ],
          [
           "Sample_268",
           "OncoCode_2",
           "TCC_D"
          ],
          [
           "Sample_325",
           "OncoCode_2",
           "TCC_A"
          ],
          [
           "Sample_361",
           "OncoCode_2",
           "TCC_D"
          ],
          [
           "Sample_365",
           "OncoCode_2",
           "TCC_C"
          ],
          [
           "Sample_379",
           "OncoCode_2",
           "TCC_A"
          ],
          [
           "Sample_396",
           "OncoCode_2",
           "TCC_D"
          ],
          [
           "Sample_408",
           "OncoCode_2",
           "TCC_A"
          ],
          [
           "Sample_446",
           "OncoCode_2",
           "TCC_A"
          ],
          [
           "Sample_508",
           "OncoCode_2",
           "TCC_B"
          ],
          [
           "Sample_510",
           "OncoCode_2",
           "TCC_A"
          ],
          [
           "Sample_549",
           "OncoCode_2",
           "TCC_B"
          ],
          [
           "Sample_570",
           "OncoCode_2",
           "TCC_C"
          ],
          [
           "Sample_576",
           "OncoCode_2",
           "TCC_A"
          ],
          [
           "Sample_578",
           "OncoCode_2",
           "TCC_B"
          ],
          [
           "Sample_645",
           "OncoCode_2",
           "TCC_A"
          ],
          [
           "Sample_699",
           "OncoCode_2",
           "TCC_B"
          ],
          [
           "Sample_712",
           "OncoCode_2",
           "TCC_C"
          ],
          [
           "Sample_727",
           "OncoCode_2",
           "TCC_A"
          ],
          [
           "Sample_756",
           "OncoCode_2",
           "TCC_B"
          ],
          [
           "Sample_758",
           "OncoCode_2",
           "TCC_D"
          ],
          [
           "Sample_788",
           "OncoCode_2",
           "TCC_C"
          ],
          [
           "Sample_795",
           "OncoCode_2",
           "TCC_D"
          ],
          [
           "Sample_796",
           "OncoCode_2",
           "TCC_A"
          ],
          [
           "Sample_820",
           "OncoCode_2",
           "TCC_A"
          ],
          [
           "Sample_893",
           "OncoCode_2",
           "TCC_B"
          ],
          [
           "Sample_911",
           "OncoCode_2",
           "TCC_A"
          ],
          [
           "Sample_929",
           "OncoCode_2",
           "TCC_C"
          ],
          [
           "Sample_962",
           "OncoCode_2",
           "TCC_C"
          ]
         ],
         "hovertemplate": "Sample name: %{customdata[0]}<br>code_oncotree: %{customdata[1]}<br>TCC: %{customdata[2]}<extra></extra>",
         "legendgroup": "OncoCode_2",
         "marker": {
          "color": "#19d3f3",
          "opacity": 0.8,
          "symbol": "circle"
         },
         "mode": "markers",
         "name": "OncoCode_2",
         "scene": "scene",
         "showlegend": true,
         "type": "scatter3d",
         "x": {
          "bdata": "enPyP/xf4z5UDKs/U4hxPxn6MkClmmc/YCIeQJC0HUDfX8E/Tuy6P0omDUDCthRA69ccQEokMj/b5SRAMfMIQGxNH0DZGH0/UMCnPqJSOT/hiTFAPfkyQOnLAUAj2og/7Qf5P+YdP0BicUhAiNn4PmHjiD8o5hRADqeoP//uQz+hUpw/Pmw2PwnsS0BOrQxATk9DP+/CjD/h2JI/4HYqQNF1JkA=",
          "dtype": "f4"
         },
         "y": {
          "bdata": "aP5kQIpTb0CoQ4pAL/N8QEAynEC3AI9AK0SMQCEqlUAoNalA6xGmQPkGcUDz3bVAzGilQJaqR0BNHn5AiKZuQN+0nUCwKo1AtmOEQKkVhUDHNDhAn52KQO9ETkAXCYxAq3S4QOvmfECjk2NAYAJOQPAqgECjqYFAS+pKQDMmi0ANN59ADllSQDm8dUBLy65AQdeLQEk+ckBnZYxAOz2gQBRqmEA=",
          "dtype": "f4"
         },
         "z": {
          "bdata": "Hv4HQbEh7EAeKAFB6sPZQNmF80BBrM9AebfbQOIWA0HdJANBtpzQQP1GFUHmHwVBpnnVQJjjCkFNyxZBp5EUQblj6UBWhvNAp+76QGTVAUEI1+1APpITQV/f1kCQzgdBSn/9QApNBkGiGAdB7Z/4QM1HAEH1pg1BRAoKQUJ300DuyQlBLLn0QA7u/0C/gxVBBgHrQJz04UDrFMxAh5zUQK0SFkE=",
          "dtype": "f4"
         }
        },
        {
         "customdata": [
          [
           "Sample_33",
           "OncoCode_5",
           "TCC_D"
          ],
          [
           "Sample_36",
           "OncoCode_5",
           "TCC_D"
          ],
          [
           "Sample_80",
           "OncoCode_5",
           "TCC_C"
          ],
          [
           "Sample_98",
           "OncoCode_5",
           "TCC_D"
          ],
          [
           "Sample_125",
           "OncoCode_5",
           "TCC_C"
          ],
          [
           "Sample_139",
           "OncoCode_5",
           "TCC_A"
          ],
          [
           "Sample_153",
           "OncoCode_5",
           "TCC_A"
          ],
          [
           "Sample_154",
           "OncoCode_5",
           "TCC_B"
          ],
          [
           "Sample_157",
           "OncoCode_5",
           "TCC_B"
          ],
          [
           "Sample_176",
           "OncoCode_5",
           "TCC_B"
          ],
          [
           "Sample_183",
           "OncoCode_5",
           "TCC_C"
          ],
          [
           "Sample_186",
           "OncoCode_5",
           "TCC_D"
          ],
          [
           "Sample_203",
           "OncoCode_5",
           "TCC_D"
          ],
          [
           "Sample_215",
           "OncoCode_5",
           "TCC_D"
          ],
          [
           "Sample_236",
           "OncoCode_5",
           "TCC_B"
          ],
          [
           "Sample_245",
           "OncoCode_5",
           "TCC_A"
          ],
          [
           "Sample_256",
           "OncoCode_5",
           "TCC_C"
          ],
          [
           "Sample_300",
           "OncoCode_5",
           "TCC_C"
          ],
          [
           "Sample_352",
           "OncoCode_5",
           "TCC_A"
          ],
          [
           "Sample_378",
           "OncoCode_5",
           "TCC_B"
          ],
          [
           "Sample_388",
           "OncoCode_5",
           "TCC_D"
          ],
          [
           "Sample_580",
           "OncoCode_5",
           "TCC_A"
          ],
          [
           "Sample_582",
           "OncoCode_5",
           "TCC_C"
          ],
          [
           "Sample_643",
           "OncoCode_5",
           "TCC_C"
          ],
          [
           "Sample_679",
           "OncoCode_5",
           "TCC_A"
          ],
          [
           "Sample_693",
           "OncoCode_5",
           "TCC_C"
          ],
          [
           "Sample_720",
           "OncoCode_5",
           "TCC_C"
          ],
          [
           "Sample_724",
           "OncoCode_5",
           "TCC_D"
          ],
          [
           "Sample_749",
           "OncoCode_5",
           "TCC_A"
          ],
          [
           "Sample_775",
           "OncoCode_5",
           "TCC_A"
          ],
          [
           "Sample_776",
           "OncoCode_5",
           "TCC_C"
          ],
          [
           "Sample_800",
           "OncoCode_5",
           "TCC_B"
          ],
          [
           "Sample_846",
           "OncoCode_5",
           "TCC_B"
          ],
          [
           "Sample_848",
           "OncoCode_5",
           "TCC_D"
          ],
          [
           "Sample_874",
           "OncoCode_5",
           "TCC_A"
          ],
          [
           "Sample_910",
           "OncoCode_5",
           "TCC_B"
          ],
          [
           "Sample_914",
           "OncoCode_5",
           "TCC_D"
          ],
          [
           "Sample_921",
           "OncoCode_5",
           "TCC_C"
          ],
          [
           "Sample_922",
           "OncoCode_5",
           "TCC_D"
          ],
          [
           "Sample_935",
           "OncoCode_5",
           "TCC_B"
          ],
          [
           "Sample_987",
           "OncoCode_5",
           "TCC_B"
          ],
          [
           "Sample_999",
           "OncoCode_5",
           "TCC_C"
          ]
         ],
         "hovertemplate": "Sample name: %{customdata[0]}<br>code_oncotree: %{customdata[1]}<br>TCC: %{customdata[2]}<extra></extra>",
         "legendgroup": "OncoCode_5",
         "marker": {
          "color": "#FF6692",
          "opacity": 0.8,
          "symbol": "circle"
         },
         "mode": "markers",
         "name": "OncoCode_5",
         "scene": "scene",
         "showlegend": true,
         "type": "scatter3d",
         "x": {
          "bdata": "6utSP/8MLUCOILA/sd1kP4G7pj8qCVw/qNrVP9E6BUDnnO4/WOv/P+fk5j9eoKE/BzelP81V0D8WmCxAggY6QPoorD931ytAIQ5OP5CMnD92Wp0/ppMBQKjd8z/lGlRAuRmaP8fJgz9uOQtAhmEBP9+4yD/+gzhATn3gPxrSHkBPn0tAVfVLQOOnD0BrFQtA2as3QNeV5D7tABc/f+IzQHKUcD9JdQlA",
          "dtype": "f4"
         },
         "y": {
          "bdata": "3b+EQLfhjUD9b1tAS0txQN2le0DfBphAHJOLQPHOi0DwU4ZAhiWCQNjvdUCIYK1A3RNNQBJYkEDlDTlAX4uTQAL/gEC2x4JAH0ayQHXWh0By+qZAxxVBQFLFL0DreWFAo8+hQEAOikBbJYlARE1iQG4Bb0CDqVBAR82gQI/Js0BQW6BAL8poQKgXokBxqIdAiESFQBgUckC9hKBAUsmPQL8DjEB7sG9A",
          "dtype": "f4"
         },
         "z": {
          "bdata": "9eQMQX+X4kCmxO5AxUgNQRG0B0HPaQBBcjoZQYlTE0Gx5gVBjpoHQXKS5UBaP+hAboPmQDRIFUEkOwtBn/PxQLH6CEHlDxRBMgb9QLDy5EDVhgdBfL/pQEg34kDulfFAEffsQP/d4kBbKwJBGQUNQZXW8kDKugdBgTUUQeQT90AYrAdB/kMPQeVy30BYzQpBRfcSQboD8kALSghBnhgTQUJH0UBj1wdB",
          "dtype": "f4"
         }
        },
        {
         "customdata": [
          [
           "Sample_52",
           "OncoCode_7",
           "TCC_C"
          ],
          [
           "Sample_56",
           "OncoCode_7",
           "TCC_D"
          ],
          [
           "Sample_106",
           "OncoCode_7",
           "TCC_C"
          ],
          [
           "Sample_118",
           "OncoCode_7",
           "TCC_C"
          ],
          [
           "Sample_148",
           "OncoCode_7",
           "TCC_B"
          ],
          [
           "Sample_216",
           "OncoCode_7",
           "TCC_A"
          ],
          [
           "Sample_226",
           "OncoCode_7",
           "TCC_B"
          ],
          [
           "Sample_229",
           "OncoCode_7",
           "TCC_D"
          ],
          [
           "Sample_241",
           "OncoCode_7",
           "TCC_D"
          ],
          [
           "Sample_242",
           "OncoCode_7",
           "TCC_A"
          ],
          [
           "Sample_267",
           "OncoCode_7",
           "TCC_A"
          ],
          [
           "Sample_271",
           "OncoCode_7",
           "TCC_D"
          ],
          [
           "Sample_274",
           "OncoCode_7",
           "TCC_C"
          ],
          [
           "Sample_297",
           "OncoCode_7",
           "TCC_C"
          ],
          [
           "Sample_320",
           "OncoCode_7",
           "TCC_A"
          ],
          [
           "Sample_334",
           "OncoCode_7",
           "TCC_A"
          ],
          [
           "Sample_411",
           "OncoCode_7",
           "TCC_A"
          ],
          [
           "Sample_443",
           "OncoCode_7",
           "TCC_C"
          ],
          [
           "Sample_444",
           "OncoCode_7",
           "TCC_A"
          ],
          [
           "Sample_447",
           "OncoCode_7",
           "TCC_B"
          ],
          [
           "Sample_452",
           "OncoCode_7",
           "TCC_D"
          ],
          [
           "Sample_459",
           "OncoCode_7",
           "TCC_D"
          ],
          [
           "Sample_492",
           "OncoCode_7",
           "TCC_C"
          ],
          [
           "Sample_498",
           "OncoCode_7",
           "TCC_B"
          ],
          [
           "Sample_512",
           "OncoCode_7",
           "TCC_B"
          ],
          [
           "Sample_559",
           "OncoCode_7",
           "TCC_A"
          ],
          [
           "Sample_579",
           "OncoCode_7",
           "TCC_C"
          ],
          [
           "Sample_584",
           "OncoCode_7",
           "TCC_C"
          ],
          [
           "Sample_607",
           "OncoCode_7",
           "TCC_B"
          ],
          [
           "Sample_622",
           "OncoCode_7",
           "TCC_D"
          ],
          [
           "Sample_629",
           "OncoCode_7",
           "TCC_A"
          ],
          [
           "Sample_661",
           "OncoCode_7",
           "TCC_B"
          ],
          [
           "Sample_684",
           "OncoCode_7",
           "TCC_A"
          ],
          [
           "Sample_708",
           "OncoCode_7",
           "TCC_B"
          ],
          [
           "Sample_759",
           "OncoCode_7",
           "TCC_C"
          ],
          [
           "Sample_784",
           "OncoCode_7",
           "TCC_A"
          ],
          [
           "Sample_807",
           "OncoCode_7",
           "TCC_A"
          ],
          [
           "Sample_821",
           "OncoCode_7",
           "TCC_D"
          ],
          [
           "Sample_826",
           "OncoCode_7",
           "TCC_D"
          ],
          [
           "Sample_852",
           "OncoCode_7",
           "TCC_D"
          ],
          [
           "Sample_857",
           "OncoCode_7",
           "TCC_B"
          ],
          [
           "Sample_864",
           "OncoCode_7",
           "TCC_C"
          ],
          [
           "Sample_944",
           "OncoCode_7",
           "TCC_D"
          ],
          [
           "Sample_950",
           "OncoCode_7",
           "TCC_A"
          ],
          [
           "Sample_954",
           "OncoCode_7",
           "TCC_C"
          ],
          [
           "Sample_957",
           "OncoCode_7",
           "TCC_C"
          ],
          [
           "Sample_975",
           "OncoCode_7",
           "TCC_B"
          ],
          [
           "Sample_978",
           "OncoCode_7",
           "TCC_A"
          ],
          [
           "Sample_985",
           "OncoCode_7",
           "TCC_A"
          ]
         ],
         "hovertemplate": "Sample name: %{customdata[0]}<br>code_oncotree: %{customdata[1]}<br>TCC: %{customdata[2]}<extra></extra>",
         "legendgroup": "OncoCode_7",
         "marker": {
          "color": "#B6E880",
          "opacity": 0.8,
          "symbol": "circle"
         },
         "mode": "markers",
         "name": "OncoCode_7",
         "scene": "scene",
         "showlegend": true,
         "type": "scatter3d",
         "x": {
          "bdata": "JC0AQLBlXT/i5uA/dm7YPy9EoT9TOxNATCp6PyHxAEAVLQJATja6P3FcWT89rAZACp5XP67vwD+9mvo/mykpQGGTtD9u4h5AVlBNQIy/TEBoHpY/HU+GP3/EZEDaYM4/1SAnQIKLaz/Mz8s/67xGQA99AEAQOjFAsqrNPwDjoj8zzEpAn9clP7QsIkDGGTdA+7sMQN+VtD9a/eI/knzhP39qDz/1t2pA7IyWP2quJ0DsTTBAFTtWQGgA2z+AyRZAleJZPw==",
          "dtype": "f4"
         },
         "y": {
          "bdata": "O+qyQAOEo0ByrWpAnH92QGizYkB76INAsYKUQJeNoUBVcj9AXNFtQFkYfEBjbFxAolSjQFWRUUDBNGBAWh1eQEGAWUBTIoBA3s5gQEnggUBFrZNAyn+QQP4VkEADX6VAewlVQKJ6i0C1HFFA4TGpQCE4pEBdfKBAFTClQNYuoUBT6n9AvEWWQOXkaEAlZZpAxS2kQJ78aEABLINAV4meQONfpkBTyYlAx1ORQGuErECcmqJAnBdmQBU2i0CvppBAytmyQA==",
          "dtype": "f4"
         },
         "z": {
          "bdata": "+GP/QD/U8kDb4BZBPwwQQYEO/EBNZtZAWnHNQILzCEGB2dtApZgAQfjRBkELNuhAJC/XQGa5DkG0qxFB8+7yQDH55EAa0fNANHDsQOWiDUFAo+ZAj8YSQcSB7kALZxNBsCoAQQ5fE0FbgwZBTqPhQAa7BkHNAQRBj2/wQMw3FEFKWvZAC8P1QP2O6UDvWw9BZGHgQIDLFUFSFt1AwLz6QADP90DcsAlBBaIDQR1w4kBIJQRBT0veQKliD0HtmhRB4K8IQQ==",
          "dtype": "f4"
         }
        },
        {
         "customdata": [
          [
           "Sample_55",
           "OncoCode_16",
           "TCC_D"
          ],
          [
           "Sample_108",
           "OncoCode_16",
           "TCC_A"
          ],
          [
           "Sample_133",
           "OncoCode_16",
           "TCC_D"
          ],
          [
           "Sample_137",
           "OncoCode_16",
           "TCC_B"
          ],
          [
           "Sample_150",
           "OncoCode_16",
           "TCC_B"
          ],
          [
           "Sample_151",
           "OncoCode_16",
           "TCC_C"
          ],
          [
           "Sample_162",
           "OncoCode_16",
           "TCC_B"
          ],
          [
           "Sample_169",
           "OncoCode_16",
           "TCC_B"
          ],
          [
           "Sample_170",
           "OncoCode_16",
           "TCC_D"
          ],
          [
           "Sample_180",
           "OncoCode_16",
           "TCC_C"
          ],
          [
           "Sample_204",
           "OncoCode_16",
           "TCC_D"
          ],
          [
           "Sample_211",
           "OncoCode_16",
           "TCC_B"
          ],
          [
           "Sample_212",
           "OncoCode_16",
           "TCC_C"
          ],
          [
           "Sample_219",
           "OncoCode_16",
           "TCC_A"
          ],
          [
           "Sample_220",
           "OncoCode_16",
           "TCC_D"
          ],
          [
           "Sample_225",
           "OncoCode_16",
           "TCC_B"
          ],
          [
           "Sample_239",
           "OncoCode_16",
           "TCC_B"
          ],
          [
           "Sample_263",
           "OncoCode_16",
           "TCC_C"
          ],
          [
           "Sample_264",
           "OncoCode_16",
           "TCC_B"
          ],
          [
           "Sample_273",
           "OncoCode_16",
           "TCC_C"
          ],
          [
           "Sample_279",
           "OncoCode_16",
           "TCC_A"
          ],
          [
           "Sample_293",
           "OncoCode_16",
           "TCC_B"
          ],
          [
           "Sample_309",
           "OncoCode_16",
           "TCC_C"
          ],
          [
           "Sample_343",
           "OncoCode_16",
           "TCC_A"
          ],
          [
           "Sample_369",
           "OncoCode_16",
           "TCC_A"
          ],
          [
           "Sample_374",
           "OncoCode_16",
           "TCC_A"
          ],
          [
           "Sample_382",
           "OncoCode_16",
           "TCC_D"
          ],
          [
           "Sample_397",
           "OncoCode_16",
           "TCC_D"
          ],
          [
           "Sample_470",
           "OncoCode_16",
           "TCC_D"
          ],
          [
           "Sample_483",
           "OncoCode_16",
           "TCC_B"
          ],
          [
           "Sample_500",
           "OncoCode_16",
           "TCC_D"
          ],
          [
           "Sample_513",
           "OncoCode_16",
           "TCC_C"
          ],
          [
           "Sample_534",
           "OncoCode_16",
           "TCC_B"
          ],
          [
           "Sample_547",
           "OncoCode_16",
           "TCC_B"
          ],
          [
           "Sample_603",
           "OncoCode_16",
           "TCC_A"
          ],
          [
           "Sample_611",
           "OncoCode_16",
           "TCC_A"
          ],
          [
           "Sample_625",
           "OncoCode_16",
           "TCC_B"
          ],
          [
           "Sample_649",
           "OncoCode_16",
           "TCC_A"
          ],
          [
           "Sample_655",
           "OncoCode_16",
           "TCC_C"
          ],
          [
           "Sample_665",
           "OncoCode_16",
           "TCC_D"
          ],
          [
           "Sample_685",
           "OncoCode_16",
           "TCC_B"
          ],
          [
           "Sample_692",
           "OncoCode_16",
           "TCC_A"
          ],
          [
           "Sample_772",
           "OncoCode_16",
           "TCC_D"
          ],
          [
           "Sample_777",
           "OncoCode_16",
           "TCC_B"
          ],
          [
           "Sample_819",
           "OncoCode_16",
           "TCC_A"
          ],
          [
           "Sample_824",
           "OncoCode_16",
           "TCC_A"
          ],
          [
           "Sample_830",
           "OncoCode_16",
           "TCC_C"
          ],
          [
           "Sample_833",
           "OncoCode_16",
           "TCC_C"
          ],
          [
           "Sample_839",
           "OncoCode_16",
           "TCC_A"
          ],
          [
           "Sample_845",
           "OncoCode_16",
           "TCC_D"
          ],
          [
           "Sample_861",
           "OncoCode_16",
           "TCC_B"
          ],
          [
           "Sample_894",
           "OncoCode_16",
           "TCC_D"
          ],
          [
           "Sample_900",
           "OncoCode_16",
           "TCC_D"
          ],
          [
           "Sample_937",
           "OncoCode_16",
           "TCC_A"
          ],
          [
           "Sample_938",
           "OncoCode_16",
           "TCC_C"
          ],
          [
           "Sample_948",
           "OncoCode_16",
           "TCC_B"
          ],
          [
           "Sample_951",
           "OncoCode_16",
           "TCC_B"
          ]
         ],
         "hovertemplate": "Sample name: %{customdata[0]}<br>code_oncotree: %{customdata[1]}<br>TCC: %{customdata[2]}<extra></extra>",
         "legendgroup": "OncoCode_16",
         "marker": {
          "color": "#FF97FF",
          "opacity": 0.8,
          "symbol": "circle"
         },
         "mode": "markers",
         "name": "OncoCode_16",
         "scene": "scene",
         "showlegend": true,
         "type": "scatter3d",
         "x": {
          "bdata": "wl32P0f+MkB4iShAb6u5P0dFSj9DqPM/H2o1QDQf8z9FqgdA888QQCCIWj/E9oU/UZBVQNX+R0DFvz9AZk4BQBhMsT8iXQ1A9JGHPlTZbT8fFwlAoNihPyNcPkDpZz9AXghbPhE2SkDFGh9AnlnHPpmVpz+Qux1A9/hGQCHN8D/69q8+DGydP0qBHz9N/NY/sPDuP/axvz9+Pzo/J9TSPyTyC0A/rhxA5Iz/P7rHSkCKF1RAx1obP2urnz8QGw5AbAgxQMV/hz94A19AL0ysP7DNPUBVPTNAxyULQMObWEDaUKM/",
          "dtype": "f4"
         },
         "y": {
          "bdata": "5tShQAiBekDt6XpAROVPQMzoWEADKqtAzDl5QLP5SECSXItA6r2hQHABqUA2onxAHM2fQBOCXEALojtAtx27QGLul0AUH55ABwdnQGJqn0AE4TJAZ0QrQBHfiUAX/2tAEz5sQMS3V0C3XLFA6G1vQE7ERUB1J3JAbghuQG8kVEBEWX1AzDyAQJF6r0DQNI9AC9yFQChykkBly5dA+OlVQIwAmED/XJpAjxOIQKb+qkD/M1tAn4tQQNd7RUC35lVAjyCyQPO4sEA2DKBAThGBQFp9OEA74KVAPkShQOJPkkCm5JlA",
          "dtype": "f4"
         },
         "z": {
          "bdata": "6CzvQNIO8EAWzfxAxHICQdUi+kAEXfNA/tHrQP7CEUHA4vpAf/rOQHqTBEGuy/NAZhPzQK9C4kB/MAFB5j0GQRf8z0DSvctANhL+QBOH70BU8vdAM2EGQbrh2UCABhFBT539QMt9DkHJHg5By8AIQXsNDUEK5wNBm5oNQfRq3EBiiftAnA8HQXCK+kDwPBBB/vIGQVvwC0GUvgxB4R7vQB5m90CQgeZASQMLQWmj10DZfAVBUe7+QKZp6kBgKgpBPcYGQTudAEE9yvxAfB7OQKbeAUHVTepA1ZQVQWnBCkFVC9JA",
          "dtype": "f4"
         }
        },
        {
         "customdata": [
          [
           "Sample_59",
           "OncoCode_18",
           "TCC_C"
          ],
          [
           "Sample_60",
           "OncoCode_18",
           "TCC_D"
          ],
          [
           "Sample_90",
           "OncoCode_18",
           "TCC_D"
          ],
          [
           "Sample_113",
           "OncoCode_18",
           "TCC_A"
          ],
          [
           "Sample_123",
           "OncoCode_18",
           "TCC_B"
          ],
          [
           "Sample_155",
           "OncoCode_18",
           "TCC_C"
          ],
          [
           "Sample_179",
           "OncoCode_18",
           "TCC_B"
          ],
          [
           "Sample_199",
           "OncoCode_18",
           "TCC_C"
          ],
          [
           "Sample_202",
           "OncoCode_18",
           "TCC_A"
          ],
          [
           "Sample_207",
           "OncoCode_18",
           "TCC_D"
          ],
          [
           "Sample_208",
           "OncoCode_18",
           "TCC_B"
          ],
          [
           "Sample_246",
           "OncoCode_18",
           "TCC_A"
          ],
          [
           "Sample_248",
           "OncoCode_18",
           "TCC_B"
          ],
          [
           "Sample_287",
           "OncoCode_18",
           "TCC_A"
          ],
          [
           "Sample_323",
           "OncoCode_18",
           "TCC_A"
          ],
          [
           "Sample_332",
           "OncoCode_18",
           "TCC_B"
          ],
          [
           "Sample_363",
           "OncoCode_18",
           "TCC_B"
          ],
          [
           "Sample_370",
           "OncoCode_18",
           "TCC_D"
          ],
          [
           "Sample_375",
           "OncoCode_18",
           "TCC_B"
          ],
          [
           "Sample_389",
           "OncoCode_18",
           "TCC_D"
          ],
          [
           "Sample_391",
           "OncoCode_18",
           "TCC_C"
          ],
          [
           "Sample_392",
           "OncoCode_18",
           "TCC_C"
          ],
          [
           "Sample_410",
           "OncoCode_18",
           "TCC_D"
          ],
          [
           "Sample_422",
           "OncoCode_18",
           "TCC_D"
          ],
          [
           "Sample_517",
           "OncoCode_18",
           "TCC_A"
          ],
          [
           "Sample_530",
           "OncoCode_18",
           "TCC_D"
          ],
          [
           "Sample_542",
           "OncoCode_18",
           "TCC_D"
          ],
          [
           "Sample_568",
           "OncoCode_18",
           "TCC_C"
          ],
          [
           "Sample_627",
           "OncoCode_18",
           "TCC_C"
          ],
          [
           "Sample_662",
           "OncoCode_18",
           "TCC_C"
          ],
          [
           "Sample_674",
           "OncoCode_18",
           "TCC_C"
          ],
          [
           "Sample_715",
           "OncoCode_18",
           "TCC_A"
          ],
          [
           "Sample_744",
           "OncoCode_18",
           "TCC_A"
          ],
          [
           "Sample_757",
           "OncoCode_18",
           "TCC_C"
          ],
          [
           "Sample_771",
           "OncoCode_18",
           "TCC_A"
          ],
          [
           "Sample_813",
           "OncoCode_18",
           "TCC_A"
          ],
          [
           "Sample_838",
           "OncoCode_18",
           "TCC_D"
          ],
          [
           "Sample_855",
           "OncoCode_18",
           "TCC_D"
          ],
          [
           "Sample_858",
           "OncoCode_18",
           "TCC_D"
          ],
          [
           "Sample_878",
           "OncoCode_18",
           "TCC_D"
          ],
          [
           "Sample_907",
           "OncoCode_18",
           "TCC_A"
          ],
          [
           "Sample_913",
           "OncoCode_18",
           "TCC_A"
          ],
          [
           "Sample_953",
           "OncoCode_18",
           "TCC_D"
          ],
          [
           "Sample_955",
           "OncoCode_18",
           "TCC_A"
          ],
          [
           "Sample_966",
           "OncoCode_18",
           "TCC_C"
          ],
          [
           "Sample_969",
           "OncoCode_18",
           "TCC_D"
          ],
          [
           "Sample_973",
           "OncoCode_18",
           "TCC_C"
          ]
         ],
         "hovertemplate": "Sample name: %{customdata[0]}<br>code_oncotree: %{customdata[1]}<br>TCC: %{customdata[2]}<extra></extra>",
         "legendgroup": "OncoCode_18",
         "marker": {
          "color": "#FECB52",
          "opacity": 0.8,
          "symbol": "circle"
         },
         "mode": "markers",
         "name": "OncoCode_18",
         "scene": "scene",
         "showlegend": true,
         "type": "scatter3d",
         "x": {
          "bdata": "O/cWP5y/RUClj9s/Ab6jP8LXbT8+knE/zY+eP5CtwT6kqeQ/VaKzPrc3zz/UKGo/tlbGP0FtFUC5nQRAdrXtPxd1WUCfg/A+QyB9P40JTUDi1BtAYWgUP7bqqD/Q4eg/j7WdP9ScLUDDhQxASQ0uQIw0C0ClrH8/EuENQEUm7j9D1BpAvaVAQB4/HkDqsMo/4wn/P9knoD4lDTlA+WbKP6lBRkDnOANAGAYUQK/MI0AhslRANtQoP28TwD8=",
          "dtype": "f4"
         },
         "y": {
          "bdata": "w4aDQFj6mkBt95JA82idQCRDm0DC+kNAZ7GEQNYGmUA9h2RAAguSQMzXSUANMXdA8VWxQLkXhUAcG6BAWImJQImwnUAmr4RA4bKIQLxygUCz7ptA+INJQEyHiUB6xCdAxMqkQFuKkEANtLBAwgiBQGxNJkBk5JdAuS9VQAPtcED/aXFAeq2bQCp6W0AacZZAOWg3QN33kUB9A2JANxeMQEZNPkAbAatAect+QFd/tEBBRp9AOz+iQLA5p0A=",
          "dtype": "f4"
         },
         "z": {
          "bdata": "+5/7QG16AUH8LgZBx4cHQRd+7ECa5QVBHKISQXQxB0HKqg5BzyLrQOZoC0FeOf1A0MIMQb3aCEENlABBGsQYQZfy90CSRgZB5t7pQNjb6ECh6cpAj8kKQVqjBUHCUP5AnJwSQZATFUFw4txAbR8WQURRAUGCTRBBiEMOQYY2FEGJXxhBxQbUQGHh6UANkhBBpkIEQQ4oC0EUWf5A8+r5QFZP90B1FepAq0ncQPuk60BMI/JAXA4CQVHKAUE=",
          "dtype": "f4"
         }
        }
       ],
       "layout": {
        "height": 700,
        "legend": {
         "title": {
          "text": "code_oncotree"
         },
         "tracegroupgap": 0
        },
        "margin": {
         "b": 0,
         "l": 0,
         "r": 0,
         "t": 50
        },
        "scene": {
         "camera": {
          "eye": {
           "x": 1.5,
           "y": 1.5,
           "z": 1.5
          }
         },
         "domain": {
          "x": [
           0,
           1
          ],
          "y": [
           0,
           1
          ]
         },
         "xaxis": {
          "title": {
           "text": "UMAP 1"
          }
         },
         "yaxis": {
          "title": {
           "text": "UMAP 2"
          }
         },
         "zaxis": {
          "title": {
           "text": "UMAP 3"
          }
         }
        },
        "template": {
         "data": {
          "bar": [
           {
            "error_x": {
             "color": "#2a3f5f"
            },
            "error_y": {
             "color": "#2a3f5f"
            },
            "marker": {
             "line": {
              "color": "#E5ECF6",
              "width": 0.5
             },
             "pattern": {
              "fillmode": "overlay",
              "size": 10,
              "solidity": 0.2
             }
            },
            "type": "bar"
           }
          ],
          "barpolar": [
           {
            "marker": {
             "line": {
              "color": "#E5ECF6",
              "width": 0.5
             },
             "pattern": {
              "fillmode": "overlay",
              "size": 10,
              "solidity": 0.2
             }
            },
            "type": "barpolar"
           }
          ],
          "carpet": [
           {
            "aaxis": {
             "endlinecolor": "#2a3f5f",
             "gridcolor": "white",
             "linecolor": "white",
             "minorgridcolor": "white",
             "startlinecolor": "#2a3f5f"
            },
            "baxis": {
             "endlinecolor": "#2a3f5f",
             "gridcolor": "white",
             "linecolor": "white",
             "minorgridcolor": "white",
             "startlinecolor": "#2a3f5f"
            },
            "type": "carpet"
           }
          ],
          "choropleth": [
           {
            "colorbar": {
             "outlinewidth": 0,
             "ticks": ""
            },
            "type": "choropleth"
           }
          ],
          "contour": [
           {
            "colorbar": {
             "outlinewidth": 0,
             "ticks": ""
            },
            "colorscale": [
             [
              0,
              "#0d0887"
             ],
             [
              0.1111111111111111,
              "#46039f"
             ],
             [
              0.2222222222222222,
              "#7201a8"
             ],
             [
              0.3333333333333333,
              "#9c179e"
             ],
             [
              0.4444444444444444,
              "#bd3786"
             ],
             [
              0.5555555555555556,
              "#d8576b"
             ],
             [
              0.6666666666666666,
              "#ed7953"
             ],
             [
              0.7777777777777778,
              "#fb9f3a"
             ],
             [
              0.8888888888888888,
              "#fdca26"
             ],
             [
              1,
              "#f0f921"
             ]
            ],
            "type": "contour"
           }
          ],
          "contourcarpet": [
           {
            "colorbar": {
             "outlinewidth": 0,
             "ticks": ""
            },
            "type": "contourcarpet"
           }
          ],
          "heatmap": [
           {
            "colorbar": {
             "outlinewidth": 0,
             "ticks": ""
            },
            "colorscale": [
             [
              0,
              "#0d0887"
             ],
             [
              0.1111111111111111,
              "#46039f"
             ],
             [
              0.2222222222222222,
              "#7201a8"
             ],
             [
              0.3333333333333333,
              "#9c179e"
             ],
             [
              0.4444444444444444,
              "#bd3786"
             ],
             [
              0.5555555555555556,
              "#d8576b"
             ],
             [
              0.6666666666666666,
              "#ed7953"
             ],
             [
              0.7777777777777778,
              "#fb9f3a"
             ],
             [
              0.8888888888888888,
              "#fdca26"
             ],
             [
              1,
              "#f0f921"
             ]
            ],
            "type": "heatmap"
           }
          ],
          "histogram": [
           {
            "marker": {
             "pattern": {
              "fillmode": "overlay",
              "size": 10,
              "solidity": 0.2
             }
            },
            "type": "histogram"
           }
          ],
          "histogram2d": [
           {
            "colorbar": {
             "outlinewidth": 0,
             "ticks": ""
            },
            "colorscale": [
             [
              0,
              "#0d0887"
             ],
             [
              0.1111111111111111,
              "#46039f"
             ],
             [
              0.2222222222222222,
              "#7201a8"
             ],
             [
              0.3333333333333333,
              "#9c179e"
             ],
             [
              0.4444444444444444,
              "#bd3786"
             ],
             [
              0.5555555555555556,
              "#d8576b"
             ],
             [
              0.6666666666666666,
              "#ed7953"
             ],
             [
              0.7777777777777778,
              "#fb9f3a"
             ],
             [
              0.8888888888888888,
              "#fdca26"
             ],
             [
              1,
              "#f0f921"
             ]
            ],
            "type": "histogram2d"
           }
          ],
          "histogram2dcontour": [
           {
            "colorbar": {
             "outlinewidth": 0,
             "ticks": ""
            },
            "colorscale": [
             [
              0,
              "#0d0887"
             ],
             [
              0.1111111111111111,
              "#46039f"
             ],
             [
              0.2222222222222222,
              "#7201a8"
             ],
             [
              0.3333333333333333,
              "#9c179e"
             ],
             [
              0.4444444444444444,
              "#bd3786"
             ],
             [
              0.5555555555555556,
              "#d8576b"
             ],
             [
              0.6666666666666666,
              "#ed7953"
             ],
             [
              0.7777777777777778,
              "#fb9f3a"
             ],
             [
              0.8888888888888888,
              "#fdca26"
             ],
             [
              1,
              "#f0f921"
             ]
            ],
            "type": "histogram2dcontour"
           }
          ],
          "mesh3d": [
           {
            "colorbar": {
             "outlinewidth": 0,
             "ticks": ""
            },
            "type": "mesh3d"
           }
          ],
          "parcoords": [
           {
            "line": {
             "colorbar": {
              "outlinewidth": 0,
              "ticks": ""
             }
            },
            "type": "parcoords"
           }
          ],
          "pie": [
           {
            "automargin": true,
            "type": "pie"
           }
          ],
          "scatter": [
           {
            "fillpattern": {
             "fillmode": "overlay",
             "size": 10,
             "solidity": 0.2
            },
            "type": "scatter"
           }
          ],
          "scatter3d": [
           {
            "line": {
             "colorbar": {
              "outlinewidth": 0,
              "ticks": ""
             }
            },
            "marker": {
             "colorbar": {
              "outlinewidth": 0,
              "ticks": ""
             }
            },
            "type": "scatter3d"
           }
          ],
          "scattercarpet": [
           {
            "marker": {
             "colorbar": {
              "outlinewidth": 0,
              "ticks": ""
             }
            },
            "type": "scattercarpet"
           }
          ],
          "scattergeo": [
           {
            "marker": {
             "colorbar": {
              "outlinewidth": 0,
              "ticks": ""
             }
            },
            "type": "scattergeo"
           }
          ],
          "scattergl": [
           {
            "marker": {
             "colorbar": {
              "outlinewidth": 0,
              "ticks": ""
             }
            },
            "type": "scattergl"
           }
          ],
          "scattermap": [
           {
            "marker": {
             "colorbar": {
              "outlinewidth": 0,
              "ticks": ""
             }
            },
            "type": "scattermap"
           }
          ],
          "scattermapbox": [
           {
            "marker": {
             "colorbar": {
              "outlinewidth": 0,
              "ticks": ""
             }
            },
            "type": "scattermapbox"
           }
          ],
          "scatterpolar": [
           {
            "marker": {
             "colorbar": {
              "outlinewidth": 0,
              "ticks": ""
             }
            },
            "type": "scatterpolar"
           }
          ],
          "scatterpolargl": [
           {
            "marker": {
             "colorbar": {
              "outlinewidth": 0,
              "ticks": ""
             }
            },
            "type": "scatterpolargl"
           }
          ],
          "scatterternary": [
           {
            "marker": {
             "colorbar": {
              "outlinewidth": 0,
              "ticks": ""
             }
            },
            "type": "scatterternary"
           }
          ],
          "surface": [
           {
            "colorbar": {
             "outlinewidth": 0,
             "ticks": ""
            },
            "colorscale": [
             [
              0,
              "#0d0887"
             ],
             [
              0.1111111111111111,
              "#46039f"
             ],
             [
              0.2222222222222222,
              "#7201a8"
             ],
             [
              0.3333333333333333,
              "#9c179e"
             ],
             [
              0.4444444444444444,
              "#bd3786"
             ],
             [
              0.5555555555555556,
              "#d8576b"
             ],
             [
              0.6666666666666666,
              "#ed7953"
             ],
             [
              0.7777777777777778,
              "#fb9f3a"
             ],
             [
              0.8888888888888888,
              "#fdca26"
             ],
             [
              1,
              "#f0f921"
             ]
            ],
            "type": "surface"
           }
          ],
          "table": [
           {
            "cells": {
             "fill": {
              "color": "#EBF0F8"
             },
             "line": {
              "color": "white"
             }
            },
            "header": {
             "fill": {
              "color": "#C8D4E3"
             },
             "line": {
              "color": "white"
             }
            },
            "type": "table"
           }
          ]
         },
         "layout": {
          "annotationdefaults": {
           "arrowcolor": "#2a3f5f",
           "arrowhead": 0,
           "arrowwidth": 1
          },
          "autotypenumbers": "strict",
          "coloraxis": {
           "colorbar": {
            "outlinewidth": 0,
            "ticks": ""
           }
          },
          "colorscale": {
           "diverging": [
            [
             0,
             "#8e0152"
            ],
            [
             0.1,
             "#c51b7d"
            ],
            [
             0.2,
             "#de77ae"
            ],
            [
             0.3,
             "#f1b6da"
            ],
            [
             0.4,
             "#fde0ef"
            ],
            [
             0.5,
             "#f7f7f7"
            ],
            [
             0.6,
             "#e6f5d0"
            ],
            [
             0.7,
             "#b8e186"
            ],
            [
             0.8,
             "#7fbc41"
            ],
            [
             0.9,
             "#4d9221"
            ],
            [
             1,
             "#276419"
            ]
           ],
           "sequential": [
            [
             0,
             "#0d0887"
            ],
            [
             0.1111111111111111,
             "#46039f"
            ],
            [
             0.2222222222222222,
             "#7201a8"
            ],
            [
             0.3333333333333333,
             "#9c179e"
            ],
            [
             0.4444444444444444,
             "#bd3786"
            ],
            [
             0.5555555555555556,
             "#d8576b"
            ],
            [
             0.6666666666666666,
             "#ed7953"
            ],
            [
             0.7777777777777778,
             "#fb9f3a"
            ],
            [
             0.8888888888888888,
             "#fdca26"
            ],
            [
             1,
             "#f0f921"
            ]
           ],
           "sequentialminus": [
            [
             0,
             "#0d0887"
            ],
            [
             0.1111111111111111,
             "#46039f"
            ],
            [
             0.2222222222222222,
             "#7201a8"
            ],
            [
             0.3333333333333333,
             "#9c179e"
            ],
            [
             0.4444444444444444,
             "#bd3786"
            ],
            [
             0.5555555555555556,
             "#d8576b"
            ],
            [
             0.6666666666666666,
             "#ed7953"
            ],
            [
             0.7777777777777778,
             "#fb9f3a"
            ],
            [
             0.8888888888888888,
             "#fdca26"
            ],
            [
             1,
             "#f0f921"
            ]
           ]
          },
          "colorway": [
           "#636efa",
           "#EF553B",
           "#00cc96",
           "#ab63fa",
           "#FFA15A",
           "#19d3f3",
           "#FF6692",
           "#B6E880",
           "#FF97FF",
           "#FECB52"
          ],
          "font": {
           "color": "#2a3f5f"
          },
          "geo": {
           "bgcolor": "white",
           "lakecolor": "white",
           "landcolor": "#E5ECF6",
           "showlakes": true,
           "showland": true,
           "subunitcolor": "white"
          },
          "hoverlabel": {
           "align": "left"
          },
          "hovermode": "closest",
          "mapbox": {
           "style": "light"
          },
          "paper_bgcolor": "white",
          "plot_bgcolor": "#E5ECF6",
          "polar": {
           "angularaxis": {
            "gridcolor": "white",
            "linecolor": "white",
            "ticks": ""
           },
           "bgcolor": "#E5ECF6",
           "radialaxis": {
            "gridcolor": "white",
            "linecolor": "white",
            "ticks": ""
           }
          },
          "scene": {
           "xaxis": {
            "backgroundcolor": "#E5ECF6",
            "gridcolor": "white",
            "gridwidth": 2,
            "linecolor": "white",
            "showbackground": true,
            "ticks": "",
            "zerolinecolor": "white"
           },
           "yaxis": {
            "backgroundcolor": "#E5ECF6",
            "gridcolor": "white",
            "gridwidth": 2,
            "linecolor": "white",
            "showbackground": true,
            "ticks": "",
            "zerolinecolor": "white"
           },
           "zaxis": {
            "backgroundcolor": "#E5ECF6",
            "gridcolor": "white",
            "gridwidth": 2,
            "linecolor": "white",
            "showbackground": true,
            "ticks": "",
            "zerolinecolor": "white"
           }
          },
          "shapedefaults": {
           "line": {
            "color": "#2a3f5f"
           }
          },
          "ternary": {
           "aaxis": {
            "gridcolor": "white",
            "linecolor": "white",
            "ticks": ""
           },
           "baxis": {
            "gridcolor": "white",
            "linecolor": "white",
            "ticks": ""
           },
           "bgcolor": "#E5ECF6",
           "caxis": {
            "gridcolor": "white",
            "linecolor": "white",
            "ticks": ""
           }
          },
          "title": {
           "x": 0.05
          },
          "xaxis": {
           "automargin": true,
           "gridcolor": "white",
           "linecolor": "white",
           "ticks": "",
           "title": {
            "standoff": 15
           },
           "zerolinecolor": "white",
           "zerolinewidth": 2
          },
          "yaxis": {
           "automargin": true,
           "gridcolor": "white",
           "linecolor": "white",
           "ticks": "",
           "title": {
            "standoff": 15
           },
           "zerolinecolor": "white",
           "zerolinewidth": 2
          }
         }
        },
        "title": {
         "font": {
          "size": 16
         },
         "text": "3D UMAP - Oncology Data Visualization",
         "x": 0.5,
         "xanchor": "center"
        },
        "width": 900
       }
      }
     },
     "metadata": {},
     "output_type": "display_data"
    },
    {
     "name": "stdout",
     "output_type": "stream",
     "text": [
      "Plot saved as: oncology_umap_3d.html\n"
     ]
    },
    {
     "data": {
      "text/plain": [
       "'\\n# Load your dataframe\\ndf = pd.read_csv(\"your_data.csv\")  # or however you load your data\\n\\n# Define your feature columns (the ones to filter by)\\nyour_feature_columns = [\"gene1\", \"gene2\", \"gene3\", ...]  # your actual feature column names\\n\\n# Create the plot\\nfig = create_3d_umap_plot(\\n    df=df,\\n    feature_columns=your_feature_columns,\\n    color_column=\\'code_oncotree\\',\\n    hover_columns=[\\'Sample name\\', \\'code_oncotree\\', \\'TCC\\'],\\n    title=\"Your Custom Title\"\\n)\\n\\n# Show in notebook\\nfig.show()\\n\\n# Save as HTML\\nsave_plot_as_html(fig, \"your_plot_name.html\")\\n'"
      ]
     },
     "execution_count": 8,
     "metadata": {},
     "output_type": "execute_result"
    }
   ],
   "source": [
    "import pandas as pd\n",
    "import numpy as np\n",
    "import plotly.express as px\n",
    "import plotly.graph_objects as go\n",
    "from plotly.offline import plot\n",
    "import umap\n",
    "from sklearn.preprocessing import StandardScaler\n",
    "import warnings\n",
    "warnings.filterwarnings('ignore')\n",
    "\n",
    "def create_3d_umap_plot(df, feature_columns, color_column='code_oncotree', \n",
    "                       metadata_cols=['Sample name', 'code_oncotree', 'TCC'],\n",
    "                       n_neighbors=15, min_dist=0.1, random_state=42,\n",
    "                       title=\"3D UMAP Visualization\"):\n",
    "    \"\"\"\n",
    "    Create a 3D UMAP visualization with Plotly\n",
    "    \n",
    "    Parameters:\n",
    "        df : pandas.DataFrame\n",
    "            Input dataframe\n",
    "        feature_columns : list\n",
    "            List of column names to use as features for UMAP\n",
    "        color_column : str\n",
    "            Column name to use for coloring points (default: 'code_oncotree')\n",
    "        hover_columns : list\n",
    "            Column names to show on hover (default: ['Sample name', 'code_oncotree', 'TCC'])\n",
    "        n_neighbors : int\n",
    "            UMAP parameter for number of neighbors (default: 15)\n",
    "        min_dist : float\n",
    "            UMAP parameter for minimum distance (default: 0.1)\n",
    "        random_state : int\n",
    "            Random state for reproducibility (default: 42)\n",
    "        title : str\n",
    "            Plot title (default: \"3D UMAP Visualization\")\n",
    "        \n",
    "    Returns:\n",
    "\n",
    "    plotly.graph_objects.Figure\n",
    "        The 3D UMAP plot figure\n",
    "    \"\"\"\n",
    "    \n",
    "     \n",
    "    # Filter and prepare data\n",
    "    print(f\"Original dataframe shape: {df.shape}\")\n",
    "    \n",
    "    # Select feature columns\n",
    "    feature_data = df[feature_columns].copy()\n",
    "    print(f\"Feature data shape: {feature_data.shape}\")\n",
    "    \n",
    "    \n",
    "    # Standardize features\n",
    "    print(\"Standardizing features...\")\n",
    "    scaler = StandardScaler()\n",
    "    feature_data_scaled = scaler.fit_transform(feature_data)\n",
    "    \n",
    "    # Apply UMAP\n",
    "    print(\"Applying UMAP...\")\n",
    "    umap_model = umap.UMAP(\n",
    "        n_components=3,\n",
    "        n_neighbors=n_neighbors,\n",
    "        min_dist=min_dist,\n",
    "        random_state=random_state,\n",
    "        verbose=True\n",
    "    )\n",
    "    \n",
    "    embedding_3d = umap_model.fit_transform(feature_data_scaled)\n",
    "    \n",
    "    # Prepare data for plotting\n",
    "    df_plot = df.copy()\n",
    "    df_plot['UMAP_1'] = embedding_3d[:, 0]\n",
    "    df_plot['UMAP_2'] = embedding_3d[:, 1]\n",
    "    df_plot['UMAP_3'] = embedding_3d[:, 2]\n",
    "    df_plot[metadata_cols] = df_plot[metadata_cols]\n",
    "\n",
    "    \n",
    "    \n",
    "    # Get unique colors for each category\n",
    "    unique_categories = df_plot[color_column].unique()\n",
    "    n_categories = len(unique_categories)\n",
    "    print(f\"Number of unique categories in {color_column}: {n_categories}\")\n",
    "    \n",
    "    fig = px.scatter_3d(\n",
    "        df_plot,\n",
    "        x='UMAP_1',\n",
    "        y='UMAP_2',\n",
    "        z='UMAP_3',\n",
    "        color=color_column,\n",
    "        hover_data={col: True for col in metadata_cols},\n",
    "        title=title,\n",
    "        opacity=0.8\n",
    "    )\n",
    "    \n",
    "    # Update hover template for cleaner display\n",
    "    fig.update_traces(\n",
    "        hovertemplate='<br>'.join([f'{col}: %{{customdata[{i}]}}' \n",
    "                                    for i, col in enumerate(metadata_cols)]) + '<extra></extra>'\n",
    "    )\n",
    "\n",
    "    # Update layout\n",
    "    fig.update_layout(\n",
    "        title={\n",
    "            'text': title,\n",
    "            'x': 0.5,\n",
    "            'xanchor': 'center',\n",
    "            'font': {'size': 16}\n",
    "        },\n",
    "        scene=dict(\n",
    "            xaxis_title=\"UMAP 1\",\n",
    "            yaxis_title=\"UMAP 2\",\n",
    "            zaxis_title=\"UMAP 3\",\n",
    "            camera=dict(\n",
    "                eye=dict(x=1.5, y=1.5, z=1.5)\n",
    "            )\n",
    "        ),\n",
    "        width=900,\n",
    "        height=700,\n",
    "        margin=dict(l=0, r=0, b=0, t=50)\n",
    "    )\n",
    "\n",
    "    fig.write_html(filename, include_plotlyjs=True)\n",
    "    print(f\"Plot saved as: {filename}\")\n",
    "    return fig\n",
    "\n",
    "def save_plot_as_html(fig, filename=\"umap_3d_plot.html\"):\n",
    "    \"\"\"\n",
    "    Save the plotly figure as an HTML file\n",
    "    \n",
    "    Parameters:\n",
    "    -----------\n",
    "    fig : plotly.graph_objects.Figure\n",
    "        The plotly figure to save\n",
    "    filename : str\n",
    "        Output filename (default: \"umap_3d_plot.html\")\n",
    "    \"\"\"\n",
    "\n",
    "\n"
   ]
  },
  {
   "cell_type": "code",
   "execution_count": 19,
   "id": "7105a94c",
   "metadata": {},
   "outputs": [
    {
     "name": "stdout",
     "output_type": "stream",
     "text": [
      "Original dataframe shape: (1844, 13076)\n",
      "Feature data shape: (1844, 37)\n",
      "Standardizing features...\n",
      "Applying UMAP...\n",
      "UMAP(n_components=3, n_jobs=1, random_state=42, verbose=True)\n",
      "Tue Aug 12 11:46:15 2025 Construct fuzzy simplicial set\n",
      "Tue Aug 12 11:46:17 2025 Finding Nearest Neighbors\n",
      "Tue Aug 12 11:46:17 2025 Finished Nearest Neighbor Search\n",
      "Tue Aug 12 11:46:17 2025 Construct embedding\n"
     ]
    },
    {
     "name": "stderr",
     "output_type": "stream",
     "text": [
      "Epochs completed:   3%| ▎          15/500 [00:00]"
     ]
    },
    {
     "name": "stdout",
     "output_type": "stream",
     "text": [
      "\tcompleted  0  /  500 epochs\n"
     ]
    },
    {
     "name": "stderr",
     "output_type": "stream",
     "text": [
      "Epochs completed:  14%| █▍         72/500 [00:00]"
     ]
    },
    {
     "name": "stdout",
     "output_type": "stream",
     "text": [
      "\tcompleted  50  /  500 epochs\n"
     ]
    },
    {
     "name": "stderr",
     "output_type": "stream",
     "text": [
      "Epochs completed:  25%| ██▌        127/500 [00:00]"
     ]
    },
    {
     "name": "stdout",
     "output_type": "stream",
     "text": [
      "\tcompleted  100  /  500 epochs\n"
     ]
    },
    {
     "name": "stderr",
     "output_type": "stream",
     "text": [
      "Epochs completed:  34%| ███▎       168/500 [00:01]"
     ]
    },
    {
     "name": "stdout",
     "output_type": "stream",
     "text": [
      "\tcompleted  150  /  500 epochs\n"
     ]
    },
    {
     "name": "stderr",
     "output_type": "stream",
     "text": [
      "Epochs completed:  45%| ████▍      223/500 [00:01]"
     ]
    },
    {
     "name": "stdout",
     "output_type": "stream",
     "text": [
      "\tcompleted  200  /  500 epochs\n"
     ]
    },
    {
     "name": "stderr",
     "output_type": "stream",
     "text": [
      "Epochs completed:  53%| █████▎     265/500 [00:02]"
     ]
    },
    {
     "name": "stdout",
     "output_type": "stream",
     "text": [
      "\tcompleted  250  /  500 epochs\n"
     ]
    },
    {
     "name": "stderr",
     "output_type": "stream",
     "text": [
      "Epochs completed:  64%| ██████▍    321/500 [00:02]"
     ]
    },
    {
     "name": "stdout",
     "output_type": "stream",
     "text": [
      "\tcompleted  300  /  500 epochs\n"
     ]
    },
    {
     "name": "stderr",
     "output_type": "stream",
     "text": [
      "Epochs completed:  75%| ███████▌   376/500 [00:02]"
     ]
    },
    {
     "name": "stdout",
     "output_type": "stream",
     "text": [
      "\tcompleted  350  /  500 epochs\n"
     ]
    },
    {
     "name": "stderr",
     "output_type": "stream",
     "text": [
      "Epochs completed:  84%| ████████▎  418/500 [00:03]"
     ]
    },
    {
     "name": "stdout",
     "output_type": "stream",
     "text": [
      "\tcompleted  400  /  500 epochs\n"
     ]
    },
    {
     "name": "stderr",
     "output_type": "stream",
     "text": [
      "Epochs completed:  95%| █████████▍ 473/500 [00:03]"
     ]
    },
    {
     "name": "stdout",
     "output_type": "stream",
     "text": [
      "\tcompleted  450  /  500 epochs\n"
     ]
    },
    {
     "name": "stderr",
     "output_type": "stream",
     "text": [
      "Epochs completed: 100%| ██████████ 500/500 [00:03]\n"
     ]
    },
    {
     "name": "stdout",
     "output_type": "stream",
     "text": [
      "Tue Aug 12 11:46:21 2025 Finished embedding\n",
      "Number of unique categories in code_oncotree: 221\n"
     ]
    },
    {
     "data": {
      "application/vnd.plotly.v1+json": {
       "config": {
        "plotlyServerURL": "https://plot.ly"
       },
       "data": [
        {
         "customdata": [
          [
           "H021-3RLVZS-T1-Q1",
           "AASTR"
          ],
          [
           "H021-VFM3B1-T1-Q1",
           "AASTR"
          ],
          [
           "H021-3RLVZS-T1-Q1-R2",
           "AASTR"
          ],
          [
           "H021-XBLS3R-M1-Q1",
           "AASTR"
          ]
         ],
         "hovertemplate": "Sample name: %{customdata[0]}<br>code_oncotree: %{customdata[1]}<extra></extra>",
         "legendgroup": "AASTR",
         "marker": {
          "color": "#636efa",
          "opacity": 0.8,
          "symbol": "circle"
         },
         "mode": "markers",
         "name": "AASTR",
         "scene": "scene",
         "showlegend": true,
         "type": "scatter3d",
         "x": {
          "bdata": "mOArQSJ9EUFMI0FBM63+QA==",
          "dtype": "f4"
         },
         "y": {
          "bdata": "cPPjP4NnAUAjJWs/4N4QQA==",
          "dtype": "f4"
         },
         "z": {
          "bdata": "23gtPkk4PD+reqc9bNvGPg==",
          "dtype": "f4"
         }
        },
        {
         "customdata": [
          [
           "H021-M2MSRE-M1-Q1",
           "ACBC"
          ]
         ],
         "hovertemplate": "Sample name: %{customdata[0]}<br>code_oncotree: %{customdata[1]}<extra></extra>",
         "legendgroup": "ACBC",
         "marker": {
          "color": "#EF553B",
          "opacity": 0.8,
          "symbol": "circle"
         },
         "mode": "markers",
         "name": "ACBC",
         "scene": "scene",
         "showlegend": true,
         "type": "scatter3d",
         "x": {
          "bdata": "iEIEQQ==",
          "dtype": "f4"
         },
         "y": {
          "bdata": "YzWEQA==",
          "dtype": "f4"
         },
         "z": {
          "bdata": "iQ25Pw==",
          "dtype": "f4"
         }
        },
        {
         "customdata": [
          [
           "H021-MQ3B2C-M5",
           "ACC"
          ],
          [
           "H021-XKP7ZN-M1",
           "ACC"
          ],
          [
           "H021-T1B3YD-M1-Q1",
           "ACC"
          ],
          [
           "H021-4T8HUF-M2-Q1",
           "ACC"
          ],
          [
           "H021-ZHVK6R-M3-Q1",
           "ACC"
          ],
          [
           "H021-NPY8VX-M1-Q1",
           "ACC"
          ],
          [
           "H021-CX3R53-M1-Q1",
           "ACC"
          ],
          [
           "H021-DX3UW1-M1-Q1",
           "ACC"
          ],
          [
           "H021-BKDDSP-M1",
           "ACC"
          ],
          [
           "H021-77HFDN-M1-Q1",
           "ACC"
          ],
          [
           "H021-W6JXJF-M1-Q1",
           "ACC"
          ],
          [
           "H021-3D86AH-M1-Q1",
           "ACC"
          ],
          [
           "H021-52P7GS-M1-Q1",
           "ACC"
          ],
          [
           "H021-C2AL3T-M1-Q1",
           "ACC"
          ],
          [
           "H021-FYKTQP-M1-Q1",
           "ACC"
          ],
          [
           "H021-VD45DC-M2-Q1",
           "ACC"
          ],
          [
           "H021-HX1NGL-M3-Q1",
           "ACC"
          ],
          [
           "H021-48AFU3-M1-Q1",
           "ACC"
          ],
          [
           "H021-4VYEQ4-M1-Q1",
           "ACC"
          ],
          [
           "H021-Z55HV3-M1-Q1",
           "ACC"
          ],
          [
           "H021-BM2ECG-M1-Q1",
           "ACC"
          ],
          [
           "H021-VA1FGV-M3-Q1",
           "ACC"
          ],
          [
           "H021-QBUMCB-M1-Q1",
           "ACC"
          ],
          [
           "H021-ADE19T-M1-Q1",
           "ACC"
          ],
          [
           "H021-RVZGMCY-M2-Q1",
           "ACC"
          ],
          [
           "H021-NBLW1GU-M1-Q1",
           "ACC"
          ],
          [
           "H021-U71LQL-M7-Q1",
           "ACC"
          ],
          [
           "H021-NBLW1GU-M2-Q1",
           "ACC"
          ],
          [
           "H021-GJUNWML-M1-Q1",
           "ACC"
          ],
          [
           "H021-KYRZE9P-T1-Q1",
           "ACC"
          ],
          [
           "H021-6CUKMQ-M1-Q1",
           "ACC"
          ]
         ],
         "hovertemplate": "Sample name: %{customdata[0]}<br>code_oncotree: %{customdata[1]}<extra></extra>",
         "legendgroup": "ACC",
         "marker": {
          "color": "#00cc96",
          "opacity": 0.8,
          "symbol": "circle"
         },
         "mode": "markers",
         "name": "ACC",
         "scene": "scene",
         "showlegend": true,
         "type": "scatter3d",
         "x": {
          "bdata": "sdMFQQjLCUEmkxBBOzEXQW13CUGKyw9BSEIIQdiUCEEcZApBKx8JQRSLCEE6FgxBEokLQd3DCkHKPxZBVpIEQc9GCUFXjQZBcHIBQRb1/kDGAwhBOO0bQZsh9EBljAJBjVkRQe++5EDT9RFBxXb8QFJ/CUH+EAZBQyn3QA==",
          "dtype": "f4"
         },
         "y": {
          "bdata": "FoplQA1JEUDLtAlAs0laQGpMEEDosj5AQDciQKHdT0B9bB1AVqAUQMKkDkCc5BxA/c04QOMpKkD9G4dAaVYMQJ0wGkAyujBABb08QG82Q0C76QtA9lBGQLXjKkDiCINAljlWQLSCSkC1FW5A3Xw6QJ6KM0D67mhAT6VUQA==",
          "dtype": "f4"
         },
         "z": {
          "bdata": "OHZjP4PrTj//F1E/NxsRQCZZWT9e+gE/65ZuPy9Wib6mu1w/GR9bP6KwVD/tQSk/cJ+AP0cczz5AYLo/7QrmPvYqaz+maSY/rJODP2nXeD8v00s/83K4P5JVrD/C6GW+oZWbPxiInD+f58E/eqKPP1nIJD/kE00/GDt9Pw==",
          "dtype": "f4"
         }
        },
        {
         "customdata": [
          [
           "H021-FT48YD-M2",
           "ACN"
          ]
         ],
         "hovertemplate": "Sample name: %{customdata[0]}<br>code_oncotree: %{customdata[1]}<extra></extra>",
         "legendgroup": "ACN",
         "marker": {
          "color": "#ab63fa",
          "opacity": 0.8,
          "symbol": "circle"
         },
         "mode": "markers",
         "name": "ACN",
         "scene": "scene",
         "showlegend": true,
         "type": "scatter3d",
         "x": {
          "bdata": "OyIcQQ==",
          "dtype": "f4"
         },
         "y": {
          "bdata": "QEjjPw==",
          "dtype": "f4"
         },
         "z": {
          "bdata": "+rAZvg==",
          "dtype": "f4"
         }
        },
        {
         "customdata": [
          [
           "H021-VF8X6Y-M2",
           "ACYC"
          ],
          [
           "H021-ZHRCET-M2",
           "ACYC"
          ],
          [
           "H021-CN4F49-M1-Q1",
           "ACYC"
          ],
          [
           "H021-2PZZHX-M1-Q1",
           "ACYC"
          ],
          [
           "H021-VCEUSG-T1-Q1",
           "ACYC"
          ],
          [
           "H021-TV353Q-M4-Q1",
           "ACYC"
          ],
          [
           "H021-52PSUG-M1-Q1",
           "ACYC"
          ],
          [
           "H021-7LE1D1-T2-Q1",
           "ACYC"
          ],
          [
           "H021-ZVCVAA-T1-Q1",
           "ACYC"
          ],
          [
           "H021-RELK9M-M3-Q1",
           "ACYC"
          ],
          [
           "H021-NL1BWY-M1-Q1",
           "ACYC"
          ],
          [
           "H021-VMT5HA-M3-Q1",
           "ACYC"
          ],
          [
           "H021-LLUY3N-M1-Q1",
           "ACYC"
          ],
          [
           "H021-7XLNNRZ-M1-Q1",
           "ACYC"
          ],
          [
           "H021-BB23V81-T1-Q1",
           "ACYC"
          ],
          [
           "H021-YLF7WN-M2-Q1",
           "ACYC"
          ],
          [
           "H021-YLF7WN-M1-Q1",
           "ACYC"
          ]
         ],
         "hovertemplate": "Sample name: %{customdata[0]}<br>code_oncotree: %{customdata[1]}<extra></extra>",
         "legendgroup": "ACYC",
         "marker": {
          "color": "#FFA15A",
          "opacity": 0.8,
          "symbol": "circle"
         },
         "mode": "markers",
         "name": "ACYC",
         "scene": "scene",
         "showlegend": true,
         "type": "scatter3d",
         "x": {
          "bdata": "kWomQbcCDUGOThJBTr8CQRxVD0Gz6OdAln8PQQAJGEG1rhJBzDQXQSBu+0AYMh5BZtoAQYa4AkHajQVBB2YcQY1x+kA=",
          "dtype": "f4"
         },
         "y": {
          "bdata": "+pssQLzPTkD2+B9AvKVkQOEaOUBeVVBARv1CQHSlNEBzMwxAXhgzQBXyjEBAMzhAeIt0QAKhW0AFI49A4rwaQFAnSEA=",
          "dtype": "f4"
         },
         "z": {
          "bdata": "wZuLPmtEFUAhI60/OTxIQDmcnz9Nh6E/dTbCP7LFGkAK7IY/xvQhQDfj8z+wr7o/EuAcQFCClz+ReTxAXNr6PzfBM0A=",
          "dtype": "f4"
         }
        },
        {
         "customdata": [
          [
           "H021-2VMCAU-M1",
           "ADNOS"
          ],
          [
           "H021-HSCX42-M6-E1",
           "ADNOS"
          ],
          [
           "H021-LTSKYV-M1-Q1",
           "ADNOS"
          ],
          [
           "H021-UJBX-M4-Q1",
           "ADNOS"
          ],
          [
           "H021-W77W46-M5-Q1",
           "ADNOS"
          ],
          [
           "H021-XSCYZ5-M1-Q1",
           "ADNOS"
          ],
          [
           "H021-6181DL-T5-Q1",
           "ADNOS"
          ],
          [
           "H021-BZ7J2A-M2-Q1",
           "ADNOS"
          ],
          [
           "H021-D6WTGN-M2-Q1",
           "ADNOS"
          ],
          [
           "H021-PMJNX8-M4-Q1",
           "ADNOS"
          ],
          [
           "H021-6MU9K4-M2-Q1",
           "ADNOS"
          ],
          [
           "H021-8GZX2Z-M1-Q1",
           "ADNOS"
          ],
          [
           "H021-SSD7B8-M2-Q1",
           "ADNOS"
          ],
          [
           "H021-SSD7B8-M4-Q1",
           "ADNOS"
          ],
          [
           "H021-FXCFXC-M1-E2",
           "ADNOS"
          ],
          [
           "H021-5KD35T-T1-Q1",
           "ADNOS"
          ],
          [
           "H021-16RER7-M2-Q1",
           "ADNOS"
          ],
          [
           "H021-LHR4LM-T1-Q1",
           "ADNOS"
          ],
          [
           "H021-SD8H8Q-T1-Q1",
           "ADNOS"
          ],
          [
           "H021-38PAMXP-M2-Q1",
           "ADNOS"
          ],
          [
           "H021-1T4EAR-T1-Q1",
           "ADNOS"
          ]
         ],
         "hovertemplate": "Sample name: %{customdata[0]}<br>code_oncotree: %{customdata[1]}<extra></extra>",
         "legendgroup": "ADNOS",
         "marker": {
          "color": "#19d3f3",
          "opacity": 0.8,
          "symbol": "circle"
         },
         "mode": "markers",
         "name": "ADNOS",
         "scene": "scene",
         "showlegend": true,
         "type": "scatter3d",
         "x": {
          "bdata": "odgaQXHBG0EsDA1Bi4n/QAS9AkH/VwJBGlAcQXIuFEE/thBBEZAiQW0PBEGFTAdBV90BQTf8F0EspgdBP2QHQYcNCkFYbAFBqxAEQQoED0HtVQ5B",
          "dtype": "f4"
         },
         "y": {
          "bdata": "XpU+QPYHRkDYP/c/uil0QF8JcUDajW1Av7oxQOP7NkBvbzZArkvzPxfWQkCzX01AIcN8QOUzT0CccVpAzmFrQGE7jUAIVZ1AjcCdQBqMC0CHGQlA",
          "dtype": "f4"
         },
         "z": {
          "bdata": "/FUZQBy5uD7+zO8/qtJKQNY5QUCSOkhAOWcMQLWEKECKiFpA+wSrPlWnMUATck9A7cQPQJ4JeD8/LbM+3AUJQGdYLkAojJo/TMWrP1gpI0CDtxdA",
          "dtype": "f4"
         }
        },
        {
         "customdata": [
          [
           "H021-H5R2S4-M2-Q1",
           "ALUCA"
          ],
          [
           "H021-XPEYA2-M1-Q1",
           "ALUCA"
          ],
          [
           "H021-H5R2S4-M3-Q1",
           "ALUCA"
          ],
          [
           "H021-SCBFK5-M3-Q1",
           "ALUCA"
          ],
          [
           "H021-HP5JHW-M2-Q1",
           "ALUCA"
          ],
          [
           "H021-FDDAKY7-M1-Q1",
           "ALUCA"
          ],
          [
           "H021-WVX6MR3-M1-Q1",
           "ALUCA"
          ],
          [
           "H021-DMENTM8-M1-Q1",
           "ALUCA"
          ]
         ],
         "hovertemplate": "Sample name: %{customdata[0]}<br>code_oncotree: %{customdata[1]}<extra></extra>",
         "legendgroup": "ALUCA",
         "marker": {
          "color": "#FF6692",
          "opacity": 0.8,
          "symbol": "circle"
         },
         "mode": "markers",
         "name": "ALUCA",
         "scene": "scene",
         "showlegend": true,
         "type": "scatter3d",
         "x": {
          "bdata": "hU0cQRv4FUHgCRdB8isTQZkZHkENWhJBimMZQb7I+kA=",
          "dtype": "f4"
         },
         "y": {
          "bdata": "aFdzQA2YU0AVO2FAYBxiQCk/jEBO/U5AfwSFQHZeK0A=",
          "dtype": "f4"
         },
         "z": {
          "bdata": "PUAJQF0WM0CnXwlAdRX7P4WSnD+J9ME/MCDOP8cRtz8=",
          "dtype": "f4"
         }
        },
        {
         "customdata": [
          [
           "H021-CL1T8C-T1-Q1",
           "AML"
          ],
          [
           "H021-G7GHPL-T1-Q1",
           "AML"
          ],
          [
           "H021-VBNB25-T1-Q1",
           "AML"
          ]
         ],
         "hovertemplate": "Sample name: %{customdata[0]}<br>code_oncotree: %{customdata[1]}<extra></extra>",
         "legendgroup": "AML",
         "marker": {
          "color": "#B6E880",
          "opacity": 0.8,
          "symbol": "circle"
         },
         "mode": "markers",
         "name": "AML",
         "scene": "scene",
         "showlegend": true,
         "type": "scatter3d",
         "x": {
          "bdata": "r7YMQdeqCUH6fOZA",
          "dtype": "f4"
         },
         "y": {
          "bdata": "WyNvQMaDfEDiuCxA",
          "dtype": "f4"
         },
         "z": {
          "bdata": "IrMdvyfHhT5oetE/",
          "dtype": "f4"
         }
        },
        {
         "customdata": [
          [
           "H021-9ZENZBK-M3-Q1",
           "AMPCA"
          ]
         ],
         "hovertemplate": "Sample name: %{customdata[0]}<br>code_oncotree: %{customdata[1]}<extra></extra>",
         "legendgroup": "AMPCA",
         "marker": {
          "color": "#FF97FF",
          "opacity": 0.8,
          "symbol": "circle"
         },
         "mode": "markers",
         "name": "AMPCA",
         "scene": "scene",
         "showlegend": true,
         "type": "scatter3d",
         "x": {
          "bdata": "OYkAQQ==",
          "dtype": "f4"
         },
         "y": {
          "bdata": "ir+DQA==",
          "dtype": "f4"
         },
         "z": {
          "bdata": "4JZBQA==",
          "dtype": "f4"
         }
        },
        {
         "customdata": [
          [
           "H021-RMX3LH-T1",
           "ANGS"
          ],
          [
           "H021-UF8YD6-T2",
           "ANGS"
          ],
          [
           "H021-HFZLJV-T1",
           "ANGS"
          ],
          [
           "H021-XCBGFF-T1",
           "ANGS"
          ],
          [
           "I063-024-2M1-P1",
           "ANGS"
          ],
          [
           "H021-RTLP41-T2",
           "ANGS"
          ],
          [
           "H021-C4ZHSL-T1-Q1",
           "ANGS"
          ],
          [
           "H021-U5PZDV-M2-Q1",
           "ANGS"
          ],
          [
           "H021-XKJDR1-M1-Q1",
           "ANGS"
          ],
          [
           "H021-XQG7LH-T1-Q1",
           "ANGS"
          ],
          [
           "H021-2821AR-T1-Q1",
           "ANGS"
          ],
          [
           "H021-EUE5HLX-T1-Q1",
           "ANGS"
          ],
          [
           "H021-SA41ZPW-T4-Q1",
           "ANGS"
          ]
         ],
         "hovertemplate": "Sample name: %{customdata[0]}<br>code_oncotree: %{customdata[1]}<extra></extra>",
         "legendgroup": "ANGS",
         "marker": {
          "color": "#FECB52",
          "opacity": 0.8,
          "symbol": "circle"
         },
         "mode": "markers",
         "name": "ANGS",
         "scene": "scene",
         "showlegend": true,
         "type": "scatter3d",
         "x": {
          "bdata": "JxkLQcBqA0EV+/NAPlwMQSf8HEEkjO9A4ajxQJe08kBn9PBAyaMYQX4pDEGRY/ZA6SIAQQ==",
          "dtype": "f4"
         },
         "y": {
          "bdata": "YVJrQAv/GEBKs25AWvUaP+wnSUD2V31AjZR3QL2AdkD2EYJAjGmOQBn1PkAnNHJA/hpCQA==",
          "dtype": "f4"
         },
         "z": {
          "bdata": "2ZPWvkdkA0A6H5E+ecN9Plln0r6aL98/392MP5aJZz+iMkQ/3rwsQDk+Mz/NdhU+9CQBvw==",
          "dtype": "f4"
         }
        },
        {
         "customdata": [
          [
           "H021-EVBQQ7-M1",
           "ANSC"
          ],
          [
           "H021-FCD4M3-M1-Q1",
           "ANSC"
          ],
          [
           "H021-B8NJEB-M1-Q1",
           "ANSC"
          ],
          [
           "H021-7GBWY6-T1-Q1",
           "ANSC"
          ],
          [
           "H021-M5F4QY-M2-Q1",
           "ANSC"
          ],
          [
           "H021-XG2F9J-M1-Q1",
           "ANSC"
          ],
          [
           "H021-769193-M1-Q1",
           "ANSC"
          ],
          [
           "H021-769193-M2-Q1",
           "ANSC"
          ],
          [
           "H021-8A6W54-M3-Q1",
           "ANSC"
          ],
          [
           "H021-HP8GP8-M1-Q1",
           "ANSC"
          ],
          [
           "H021-UWVGXP-M1-Q1",
           "ANSC"
          ]
         ],
         "hovertemplate": "Sample name: %{customdata[0]}<br>code_oncotree: %{customdata[1]}<extra></extra>",
         "legendgroup": "ANSC",
         "marker": {
          "color": "#636efa",
          "opacity": 0.8,
          "symbol": "circle"
         },
         "mode": "markers",
         "name": "ANSC",
         "scene": "scene",
         "showlegend": true,
         "type": "scatter3d",
         "x": {
          "bdata": "b/8GQZ1lGkGipRNB8mEPQUvxDEEJGQtBBZQQQW3++EAJBgRBAQAGQXVhAkE=",
          "dtype": "f4"
         },
         "y": {
          "bdata": "BQpWQEZZbEDOsRhAjUhKQE0MQkAi2wVA2WcOQF28bUCLwYdAavZBQPdkd0A=",
          "dtype": "f4"
         },
         "z": {
          "bdata": "IcIRQMyoGkC/JPS8FOcOvuAeQ0CC70E/jCOtP0lqCUBU1SRAjyMlQAXEMEA=",
          "dtype": "f4"
         }
        },
        {
         "customdata": [
          [
           "H021-7QUJ2X-M2-Q1",
           "APAD"
          ]
         ],
         "hovertemplate": "Sample name: %{customdata[0]}<br>code_oncotree: %{customdata[1]}<extra></extra>",
         "legendgroup": "APAD",
         "marker": {
          "color": "#EF553B",
          "opacity": 0.8,
          "symbol": "circle"
         },
         "mode": "markers",
         "name": "APAD",
         "scene": "scene",
         "showlegend": true,
         "type": "scatter3d",
         "x": {
          "bdata": "AX8JQQ==",
          "dtype": "f4"
         },
         "y": {
          "bdata": "/YR4QA==",
          "dtype": "f4"
         },
         "z": {
          "bdata": "UfxEQA==",
          "dtype": "f4"
         }
        },
        {
         "customdata": [
          [
           "H021-GEYU72-T1",
           "APE"
          ],
          [
           "H021-CJ2Y9N-T2-Q1",
           "APE"
          ]
         ],
         "hovertemplate": "Sample name: %{customdata[0]}<br>code_oncotree: %{customdata[1]}<extra></extra>",
         "legendgroup": "APE",
         "marker": {
          "color": "#00cc96",
          "opacity": 0.8,
          "symbol": "circle"
         },
         "mode": "markers",
         "name": "APE",
         "scene": "scene",
         "showlegend": true,
         "type": "scatter3d",
         "x": {
          "bdata": "bSASQUEJHUE=",
          "dtype": "f4"
         },
         "y": {
          "bdata": "d7AuQLjMCkA=",
          "dtype": "f4"
         },
         "z": {
          "bdata": "3FOfPzIflj4=",
          "dtype": "f4"
         }
        },
        {
         "customdata": [
          [
           "I043-005-95540",
           "ARMS"
          ],
          [
           "I043-001-80842",
           "ARMS"
          ],
          [
           "I043-005-130270",
           "ARMS"
          ],
          [
           "H021-LGAPJC-M1",
           "ARMS"
          ],
          [
           "H021-GDTFYK-M2",
           "ARMS"
          ],
          [
           "I137-003-84050",
           "ARMS"
          ],
          [
           "I022-018-98376",
           "ARMS"
          ],
          [
           "I015-006-107208",
           "ARMS"
          ],
          [
           "I052-003-93894",
           "ARMS"
          ],
          [
           "I007-007-80690",
           "ARMS"
          ],
          [
           "I002-010-106444",
           "ARMS"
          ],
          [
           "I036-012-107936",
           "ARMS"
          ],
          [
           "I024-020-127332",
           "ARMS"
          ],
          [
           "I010-021-226690",
           "ARMS"
          ],
          [
           "I010-022-226744",
           "ARMS"
          ],
          [
           "H021-AR786E-M12",
           "ARMS"
          ],
          [
           "I062-070-2M1-P1",
           "ARMS"
          ],
          [
           "I023-037-0T1-P1",
           "ARMS"
          ],
          [
           "I040-009-1M1-P1",
           "ARMS"
          ],
          [
           "I070-047-0T1-P1",
           "ARMS"
          ],
          [
           "I047-026-2T2-P1",
           "ARMS"
          ],
          [
           "I002-029-1T1-P1",
           "ARMS"
          ],
          [
           "I049-012-2M1-P1",
           "ARMS"
          ],
          [
           "I005-018-1M1-P1",
           "ARMS"
          ],
          [
           "I076-027-2M1-P1",
           "ARMS"
          ],
          [
           "I018-037-1T1-P1",
           "ARMS"
          ],
          [
           "I047-021-1T1-P1",
           "ARMS"
          ],
          [
           "I026-012-1M1-P1",
           "ARMS"
          ],
          [
           "I070-029-1M1-P1",
           "ARMS"
          ],
          [
           "I041-007-1T1-P1",
           "ARMS"
          ],
          [
           "I007-048-4M1-P1",
           "ARMS"
          ],
          [
           "I014-014-1T1-P1",
           "ARMS"
          ],
          [
           "I010-028-291004",
           "ARMS"
          ],
          [
           "I023-047-9T1-P1",
           "ARMS"
          ],
          [
           "I010-013-0T1-P1",
           "ARMS"
          ],
          [
           "I042-048-1T1-P1",
           "ARMS"
          ],
          [
           "H021-BJ9BST-M2-Q1",
           "ARMS"
          ],
          [
           "I032-022-1M1-P1",
           "ARMS"
          ],
          [
           "I002-036-0T1-P1",
           "ARMS"
          ],
          [
           "I002-037-0T1-P1",
           "ARMS"
          ],
          [
           "I047-035-1M1-P1",
           "ARMS"
          ],
          [
           "H021-7Q96VB-T1-Q1",
           "ARMS"
          ],
          [
           "I046-011-2T1-P1",
           "ARMS"
          ],
          [
           "H021-7Q96VB-T2-Q1",
           "ARMS"
          ],
          [
           "I032-022-9M1-P1",
           "ARMS"
          ],
          [
           "ARMS-KFR-P1",
           "ARMS"
          ],
          [
           "ARMS-Rh4-P1",
           "ARMS"
          ],
          [
           "I007-148-1T1-P1",
           "ARMS"
          ],
          [
           "ARMS-Rh28-P1",
           "ARMS"
          ],
          [
           "ARMS-Rh30-P1",
           "ARMS"
          ],
          [
           "ARMS-Rh41-P1",
           "ARMS"
          ],
          [
           "ARMS-Rh5-P1",
           "ARMS"
          ],
          [
           "I070-070-9T1",
           "ARMS"
          ],
          [
           "I046-018-1M1",
           "ARMS"
          ],
          [
           "ARMS-RMS-P1",
           "ARMS"
          ],
          [
           "H021-66ZE8U-M1-Q1",
           "ARMS"
          ],
          [
           "I063-072-0M1-P1",
           "ARMS"
          ],
          [
           "H021-683NYUB-M1-Q1",
           "ARMS"
          ],
          [
           "H021-HZYN318-T2-Q1",
           "ARMS"
          ]
         ],
         "hovertemplate": "Sample name: %{customdata[0]}<br>code_oncotree: %{customdata[1]}<extra></extra>",
         "legendgroup": "ARMS",
         "marker": {
          "color": "#ab63fa",
          "opacity": 0.8,
          "symbol": "circle"
         },
         "mode": "markers",
         "name": "ARMS",
         "scene": "scene",
         "showlegend": true,
         "type": "scatter3d",
         "x": {
          "bdata": "iKohQXA4IUFiFyFB5g8WQYeqBkG1chVBz3wWQf89GUGexhhBCaMVQSBOH0Essx9BSYsfQeyBGkEfRiFBvUohQe2+HkHwABdBK1YaQXnv7kCA4O1ATtchQcXUIkHTNx5BUbAgQdj9GkHlfSFBO6MeQeenHUGYHB9B9eUfQfupH0FhoyBB58YeQdfzHkFaWR9BNqEYQQE6HkH6GSBBFQ8dQe1ZGEHyRf9AcbsfQWM0A0EN2CBB7OEjQcEyJUG/sSBBjPgkQYjdJEFtpCRBGAYkQeNvCUFmZBlBc0MkQQlyGkFHkhxB3H4cQWR7E0E=",
          "dtype": "f4"
         },
         "y": {
          "bdata": "MQiyP6cysz8KYrM/pd/eP2gnjj8hScU/ObbFP2SUwj8xwtQ/thDjP0kNGT9KliA/7W0hP4L05T8gIsQ/abLLP3UnOj9l8H0/t1fDP/b9MUBE5jVAsO2AP36Ifj8ppn4/WdCCP3SzEkAgHM8/ktCwPyDfrT+GniY/4MJSPyVNXD9d+70/wUh6P7IocD9IqXw/HD7pPwqdnD+e7b4/1bptP/apwz/TrFpALp/hPwx0b0AqB7o/wVOXP/POlT8cebw/XHiQPxwvnz+Ud5A/N22XP68eC0CCWv8/UCiNP05TOkDgkihAbVKGPzfGiD8=",
          "dtype": "f4"
         },
         "z": {
          "bdata": "QH+nv0ronr+QX6a//dRYv1jCOD+mEIK/QfmHv+G8cb98o3u/nG+Gv+QP2r6RXgm/Eqbnvsu4Y79UP0W/8CRTv1932L43MQe+tOaOv7RkNr+7axW/IJIGvpz1NL6Zb3W/d/ELv+gZaL8g4xK/qIl0v0JCUL/Uy9W+qYYvv3zqHr9eJZC/LTdvvwNgar9ZL16/00l2v1vyB78cVou/JiSGvh7ehL+0dti+MN0Lv/avGL8AuTq/uEk7v0L1Fb8eunu/vdAev6IDL79lhCO/EiA3vzQkCj+i4W+/MwEvv/CVM79p2UK/uokPv8nB5T4=",
          "dtype": "f4"
         }
        },
        {
         "customdata": [
          [
           "I007-031-108742",
           "ASPS"
          ],
          [
           "I007-020-1007541",
           "ASPS"
          ],
          [
           "I007-039-130734",
           "ASPS"
          ],
          [
           "H021-64DVV7-T1",
           "ASPS"
          ],
          [
           "H021-ETC3EF-M5",
           "ASPS"
          ],
          [
           "H021-PWTUGA-M3",
           "ASPS"
          ],
          [
           "I018-007-102938",
           "ASPS"
          ],
          [
           "I011-005-226590",
           "ASPS"
          ],
          [
           "I045-006-0T1-P1",
           "ASPS"
          ],
          [
           "H021-J8VNC7-M2",
           "ASPS"
          ],
          [
           "H021-6VH6W2-T1-Q1",
           "ASPS"
          ],
          [
           "H021-281WVS-M1-Q1",
           "ASPS"
          ],
          [
           "H021-J8VNC7-M7-Q1",
           "ASPS"
          ],
          [
           "H021-5YFB63-M3-Q1",
           "ASPS"
          ],
          [
           "H021-5YFB63-T1-Q1",
           "ASPS"
          ],
          [
           "H021-4SRLF8-T1-Q1",
           "ASPS"
          ],
          [
           "H021-52JBSW-T1-Q1",
           "ASPS"
          ],
          [
           "H021-56GPUX-M1-Q1",
           "ASPS"
          ],
          [
           "H021-5YFB63-T4-Q1",
           "ASPS"
          ]
         ],
         "hovertemplate": "Sample name: %{customdata[0]}<br>code_oncotree: %{customdata[1]}<extra></extra>",
         "legendgroup": "ASPS",
         "marker": {
          "color": "#FFA15A",
          "opacity": 0.8,
          "symbol": "circle"
         },
         "mode": "markers",
         "name": "ASPS",
         "scene": "scene",
         "showlegend": true,
         "type": "scatter3d",
         "x": {
          "bdata": "cWwhQf1mIUEOkCFBxW36QBak/UC2RORAKn8LQQeRDEHMLQ9BzxQNQd5oHEGKyApBQtcKQR94C0FEDAtBixQMQfSvF0EywhRBNSYUQQ==",
          "dtype": "f4"
         },
         "y": {
          "bdata": "mRayPya9sz9/Ya8/jioEQC2tCEAeAkpAUIoCQM+JHEAW3Kg/1I5PQAlRJUD+ClRALBYPQIghGkCUPBRAF+sfQCtHNEDIEp5AygYsQA==",
          "dtype": "f4"
         },
         "z": {
          "bdata": "GnGwv2zMs78pA7a/wyXRPVRX4j19jpk/2FtKv9zUSL+V97e9DcYRv6gwAEAIHTW/P4g+vyyRG7/6CBG/ahkav446KL88GS8/7Ek3vw==",
          "dtype": "f4"
         }
        },
        {
         "customdata": [
          [
           "MRI-1N586AF83-T1",
           "ASTR"
          ],
          [
           "MRI-1TRA1L154-T1",
           "ASTR"
          ],
          [
           "MRI-1RD52GF20-T1",
           "ASTR"
          ],
          [
           "MRI-1LHAJF89-T1",
           "ASTR"
          ],
          [
           "MRI-1HW9QV1FO-T1",
           "ASTR"
          ],
          [
           "MRI-1HW9QV1FO-T1-R2",
           "ASTR"
          ],
          [
           "MRI-1LHAJF89-T1-R2",
           "ASTR"
          ],
          [
           "MRI-1RD52GF20-T1-R2",
           "ASTR"
          ],
          [
           "MRI-1TRA1L154-T1-R2",
           "ASTR"
          ],
          [
           "MRI-1R4V865M3-T1-R2",
           "ASTR"
          ],
          [
           "H021-KVEGE9C-T1-Q1",
           "ASTR"
          ],
          [
           "H021-PS47PJU-T2-Q1",
           "ASTR"
          ],
          [
           "H021-C7DD21S-T1-Q1",
           "ASTR"
          ],
          [
           "H021-T9LCEZZ-T1-Q1",
           "ASTR"
          ],
          [
           "H021-EAA6P2Y-T1-Q1",
           "ASTR"
          ]
         ],
         "hovertemplate": "Sample name: %{customdata[0]}<br>code_oncotree: %{customdata[1]}<extra></extra>",
         "legendgroup": "ASTR",
         "marker": {
          "color": "#19d3f3",
          "opacity": 0.8,
          "symbol": "circle"
         },
         "mode": "markers",
         "name": "ASTR",
         "scene": "scene",
         "showlegend": true,
         "type": "scatter3d",
         "x": {
          "bdata": "7IU/QQYYQ0HnM0NBuVZBQSOLQkFudUJBGWZCQeA6Q0G1IkNBUzdCQWRfCEFtgwtBai0eQQgn8UDNlwRB",
          "dtype": "f4"
         },
         "y": {
          "bdata": "3FR4PwnnUz9urVE/hdlpP7/iWT8a+Fs/j8JdP84yUT+2mVM/875fP++bFEAVYhRAzA1KQCm3FkA3+mdA",
          "dtype": "f4"
         },
         "z": {
          "bdata": "AfkyPTq6ujzGEjg8yrlyPcWayTzB0Ts9+3hVPfYxYTyz4dk81WByPZTTpz3N7qK+v83Tvq9yVT5dDhm9",
          "dtype": "f4"
         }
        },
        {
         "customdata": [
          [
           "H021-1AZ5GH-T1",
           "BA"
          ],
          [
           "H021-T3LJ7V-T1",
           "BA"
          ],
          [
           "H021-VHY17P-M1",
           "BA"
          ],
          [
           "H021-QRX3NQ-T1-E2",
           "BA"
          ],
          [
           "H021-XHXA22-M7-Q1",
           "BA"
          ],
          [
           "H021-VHY17P-M6-Q1",
           "BA"
          ],
          [
           "H021-GUA1P8-M2-Q1",
           "BA"
          ],
          [
           "H021-7YBKAY-T2-Q1",
           "BA"
          ],
          [
           "H021-QFMYFK-M1-Q1",
           "BA"
          ],
          [
           "H021-WRE78WG-M2-Q1",
           "BA"
          ],
          [
           "H021-WRE78WG-M2-E2",
           "BA"
          ]
         ],
         "hovertemplate": "Sample name: %{customdata[0]}<br>code_oncotree: %{customdata[1]}<extra></extra>",
         "legendgroup": "BA",
         "marker": {
          "color": "#FF6692",
          "opacity": 0.8,
          "symbol": "circle"
         },
         "mode": "markers",
         "name": "BA",
         "scene": "scene",
         "showlegend": true,
         "type": "scatter3d",
         "x": {
          "bdata": "IEUEQXV8BUEjLANBmMEGQWKX80AvFPtAPOzwQGrG8UDbZPpAGTEFQQE3BUE=",
          "dtype": "f4"
         },
         "y": {
          "bdata": "sZ1SQLLMHEBdCDZALEqKP5qibUChl3BATEpvQAWvbUDLZoRAORY5QOjNN0A=",
          "dtype": "f4"
         },
         "z": {
          "bdata": "tGdSvxXRAEDjeUu/PEI0P4/CPz6fZFI9ngGoPnXckD+55sE9VeNivxTwZr8=",
          "dtype": "f4"
         }
        },
        {
         "customdata": [
          [
           "H021-MRRBED-M2-Q1",
           "BCAC"
          ]
         ],
         "hovertemplate": "Sample name: %{customdata[0]}<br>code_oncotree: %{customdata[1]}<extra></extra>",
         "legendgroup": "BCAC",
         "marker": {
          "color": "#B6E880",
          "opacity": 0.8,
          "symbol": "circle"
         },
         "mode": "markers",
         "name": "BCAC",
         "scene": "scene",
         "showlegend": true,
         "type": "scatter3d",
         "x": {
          "bdata": "z6kPQQ==",
          "dtype": "f4"
         },
         "y": {
          "bdata": "sg4pQA==",
          "dtype": "f4"
         },
         "z": {
          "bdata": "MJijPw==",
          "dtype": "f4"
         }
        },
        {
         "customdata": [
          [
           "H021-BQ9Y9R-T1-Q1",
           "BCC"
          ],
          [
           "H021-LKMRDM-M1-Q1",
           "BCC"
          ]
         ],
         "hovertemplate": "Sample name: %{customdata[0]}<br>code_oncotree: %{customdata[1]}<extra></extra>",
         "legendgroup": "BCC",
         "marker": {
          "color": "#FF97FF",
          "opacity": 0.8,
          "symbol": "circle"
         },
         "mode": "markers",
         "name": "BCC",
         "scene": "scene",
         "showlegend": true,
         "type": "scatter3d",
         "x": {
          "bdata": "XXP4QMiiA0E=",
          "dtype": "f4"
         },
         "y": {
          "bdata": "XhpuQAvwYkA=",
          "dtype": "f4"
         },
         "z": {
          "bdata": "tFYpQEO8hj8=",
          "dtype": "f4"
         }
        },
        {
         "customdata": [
          [
           "H021-F2A9VV-T1",
           "BENIGN"
          ],
          [
           "H021-F2A9VV-U1",
           "BENIGN"
          ],
          [
           "MRI-195VW6R77-T1",
           "BENIGN"
          ]
         ],
         "hovertemplate": "Sample name: %{customdata[0]}<br>code_oncotree: %{customdata[1]}<extra></extra>",
         "legendgroup": "BENIGN",
         "marker": {
          "color": "#FECB52",
          "opacity": 0.8,
          "symbol": "circle"
         },
         "mode": "markers",
         "name": "BENIGN",
         "scene": "scene",
         "showlegend": true,
         "type": "scatter3d",
         "x": {
          "bdata": "afbfQPOJG0HLlEJB",
          "dtype": "f4"
         },
         "y": {
          "bdata": "+2ogQOPCdT/Tk1s/",
          "dtype": "f4"
         },
         "z": {
          "bdata": "X04wP6TG7z5OKVc9",
          "dtype": "f4"
         }
        },
        {
         "customdata": [
          [
           "H021-BSDEKA-M6-Q1",
           "BLCA"
          ]
         ],
         "hovertemplate": "Sample name: %{customdata[0]}<br>code_oncotree: %{customdata[1]}<extra></extra>",
         "legendgroup": "BLCA",
         "marker": {
          "color": "#636efa",
          "opacity": 0.8,
          "symbol": "circle"
         },
         "mode": "markers",
         "name": "BLCA",
         "scene": "scene",
         "showlegend": true,
         "type": "scatter3d",
         "x": {
          "bdata": "4C4BQQ==",
          "dtype": "f4"
         },
         "y": {
          "bdata": "cKNkQA==",
          "dtype": "f4"
         },
         "z": {
          "bdata": "NtUfQA==",
          "dtype": "f4"
         }
        },
        {
         "customdata": [
          [
           "I062-029-T2",
           "BRAINBG"
          ]
         ],
         "hovertemplate": "Sample name: %{customdata[0]}<br>code_oncotree: %{customdata[1]}<extra></extra>",
         "legendgroup": "BRAINBG",
         "marker": {
          "color": "#EF553B",
          "opacity": 0.8,
          "symbol": "circle"
         },
         "mode": "markers",
         "name": "BRAINBG",
         "scene": "scene",
         "showlegend": true,
         "type": "scatter3d",
         "x": {
          "bdata": "YnEOQQ==",
          "dtype": "f4"
         },
         "y": {
          "bdata": "PfCYPw==",
          "dtype": "f4"
         },
         "z": {
          "bdata": "UUkEvw==",
          "dtype": "f4"
         }
        },
        {
         "customdata": [
          [
           "H021-C16TMF-M1",
           "BRCA"
          ],
          [
           "H021-W99VB9-M1",
           "BRCA"
          ],
          [
           "H021-59N89Q-M1",
           "BRCA"
          ],
          [
           "H021-V5L84W-M1",
           "BRCA"
          ],
          [
           "K26K-464CX9-M11-P1",
           "BRCA"
          ],
          [
           "K26K-4REYWT-M12-P1",
           "BRCA"
          ],
          [
           "K26K-79DY8J-M11-P1",
           "BRCA"
          ],
          [
           "K26K-A927U9-M12-P1",
           "BRCA"
          ],
          [
           "K26K-AKQTJ4-M12-P1",
           "BRCA"
          ],
          [
           "K26K-LHHD5C-T12-P1",
           "BRCA"
          ],
          [
           "K26K-HSQBX1-M21-P1",
           "BRCA"
          ],
          [
           "K26K-XHPB2P-T12-P1",
           "BRCA"
          ],
          [
           "A26K-HS3BDB-T14-Q1",
           "BRCA"
          ],
          [
           "K26K-UFZWVB-M12-Q1",
           "BRCA"
          ],
          [
           "H021-EWZVEU-M1-Q1",
           "BRCA"
          ],
          [
           "A26K-JHRA29-T12-Q1",
           "BRCA"
          ],
          [
           "K26K-2SEUP3-M12-Q1",
           "BRCA"
          ],
          [
           "A26K-NBD9LE-T22-Q1",
           "BRCA"
          ],
          [
           "A26K-5SXQR3-T11-Q1",
           "BRCA"
          ],
          [
           "A26K-5SXQR3-T24-Q1",
           "BRCA"
          ],
          [
           "K26K-T89Y8P-T11-Q1",
           "BRCA"
          ],
          [
           "K26K-VQYWVY-M13-Q1",
           "BRCA"
          ],
          [
           "K26K-7M2CHU-M11-Q1",
           "BRCA"
          ],
          [
           "K26K-8DNE6X-T11-Q1",
           "BRCA"
          ],
          [
           "A26K-ADUQXR-T11-Q1",
           "BRCA"
          ],
          [
           "A26K-ADUQXR-T22",
           "BRCA"
          ],
          [
           "H021-LHXEM5-M2",
           "BRCA"
          ],
          [
           "H021-VMUK3T-M3",
           "BRCA"
          ],
          [
           "K26K-3STYTF-T11",
           "BRCA"
          ],
          [
           "K26K-EPRC8E-T41-Q1",
           "BRCA"
          ],
          [
           "K26K-MMXGSX-M32-Q1",
           "BRCA"
          ],
          [
           "K26K-8SNWXL-M21-Q1",
           "BRCA"
          ],
          [
           "K26K-RTLHQJ-M11-Q1",
           "BRCA"
          ],
          [
           "K26K-CU68PJ-M12-Q1",
           "BRCA"
          ],
          [
           "K26K-ADCQHA-M12-Q1",
           "BRCA"
          ],
          [
           "K26K-QHXP8F-M12-Q1",
           "BRCA"
          ],
          [
           "K26K-UYPA78-M12-Q1",
           "BRCA"
          ],
          [
           "K26K-XMAG5C-M12-Q1",
           "BRCA"
          ],
          [
           "K26K-28ZXGT-M21-Q1",
           "BRCA"
          ],
          [
           "K26K-UWLWTK-T12-Q1",
           "BRCA"
          ],
          [
           "K26K-VNZ1KD-M11-Q1",
           "BRCA"
          ],
          [
           "K26K-C6CD3Y-M11-Q1",
           "BRCA"
          ],
          [
           "K26K-E8QNET-M21-Q1",
           "BRCA"
          ],
          [
           "K26K-626NYZ-M11-Q1",
           "BRCA"
          ],
          [
           "K26K-P4CX71-M11-Q1",
           "BRCA"
          ],
          [
           "K26K-5QQNGF-M41-Q1",
           "BRCA"
          ],
          [
           "K26K-WVMDQM-M11-Q1",
           "BRCA"
          ],
          [
           "K26K-7BQYTL-M21-Q1",
           "BRCA"
          ],
          [
           "K26K-HGX6HZ-M11-Q1",
           "BRCA"
          ],
          [
           "K26K-A927U9-M22-Q1",
           "BRCA"
          ],
          [
           "K26K-CDY5WK-M12-Q1",
           "BRCA"
          ],
          [
           "K26K-L9SSK5-M12-Q1",
           "BRCA"
          ],
          [
           "K26K-XL4SBF-M22-Q1",
           "BRCA"
          ],
          [
           "K26K-YRU28Z-M22-Q1",
           "BRCA"
          ],
          [
           "A26K-NM2AUB-T23-Q1",
           "BRCA"
          ],
          [
           "K26K-5KJWGU-T13-Q1",
           "BRCA"
          ],
          [
           "K26K-2ALFPG-M21-Q1",
           "BRCA"
          ],
          [
           "K26K-AJETBY-M12-Q1",
           "BRCA"
          ],
          [
           "K26K-BZEUFF-M11-Q1",
           "BRCA"
          ],
          [
           "K26K-K6UAUG-M21-Q1",
           "BRCA"
          ],
          [
           "K26K-W61WUT-M11-Q1",
           "BRCA"
          ],
          [
           "A26K-9TET1N-T11-Q1",
           "BRCA"
          ],
          [
           "A26K-9TET1N-T21-Q1",
           "BRCA"
          ],
          [
           "K26K-SM3SDD-M12-Q1",
           "BRCA"
          ],
          [
           "K26K-CEUF36-T12-Q1",
           "BRCA"
          ],
          [
           "K26K-ML427X-M11-Q1",
           "BRCA"
          ],
          [
           "K26K-2N34MS-M12-Q1",
           "BRCA"
          ],
          [
           "K26K-48FUPJ-M11-Q1",
           "BRCA"
          ],
          [
           "K26K-AFAHUU-M14-Q1",
           "BRCA"
          ],
          [
           "K26K-DRLREE-M11-Q1",
           "BRCA"
          ],
          [
           "H021-C9TCY8-M1-Q1",
           "BRCA"
          ],
          [
           "K26K-4HZ171-M13-Q1",
           "BRCA"
          ],
          [
           "K26K-7ARCJQ-M22-Q1",
           "BRCA"
          ],
          [
           "K26K-G4JX3M-M11-Q1",
           "BRCA"
          ],
          [
           "K26K-G89MJC-M11-Q1",
           "BRCA"
          ],
          [
           "H021-1WKNGS-T1-Q1",
           "BRCA"
          ],
          [
           "K26K-98EVMC-M11-Q1",
           "BRCA"
          ],
          [
           "K26K-DUL4HS-M22-Q1",
           "BRCA"
          ],
          [
           "K26K-JJERC1-M11-Q1",
           "BRCA"
          ],
          [
           "K26K-KUNL2W-M22-Q1",
           "BRCA"
          ],
          [
           "K26K-SP2BGE-M11-Q1",
           "BRCA"
          ],
          [
           "K26K-VWASDF-T21-Q1",
           "BRCA"
          ],
          [
           "K26K-WSFER2-M11-Q1",
           "BRCA"
          ],
          [
           "K26K-18N8XX-M11-Q1",
           "BRCA"
          ],
          [
           "K26K-YN54AN-M11-Q1",
           "BRCA"
          ],
          [
           "K26K-8S9KYB-M11-Q1",
           "BRCA"
          ],
          [
           "K26K-DM3BDU-M12-Q1",
           "BRCA"
          ],
          [
           "K26K-HH2AKS-M11-Q1",
           "BRCA"
          ],
          [
           "K26K-L9VFYV-M12-Q1",
           "BRCA"
          ],
          [
           "K26K-XXKAUD-T12-Q1",
           "BRCA"
          ],
          [
           "H021-MH3PJE-M2-Q1",
           "BRCA"
          ],
          [
           "K26K-7ZLPNW-M12-Q1",
           "BRCA"
          ],
          [
           "K26K-8KYJA3-M11-Q1",
           "BRCA"
          ],
          [
           "K26K-BY3CU9-M11-Q1",
           "BRCA"
          ],
          [
           "H021-6WNNW9-M3-Q1",
           "BRCA"
          ],
          [
           "K26K-X8ZH2R-A12-Q1",
           "BRCA"
          ],
          [
           "K26K-2SYX4M-M11-Q1",
           "BRCA"
          ],
          [
           "K26K-6GEYS6-M21-Q1",
           "BRCA"
          ],
          [
           "K26K-DJ3HQD-M12-Q1",
           "BRCA"
          ],
          [
           "K26K-FEVN2M-M11-Q1",
           "BRCA"
          ],
          [
           "K26K-W13FSS-T11-Q1",
           "BRCA"
          ],
          [
           "H021-VFEAZR-T1-Q1",
           "BRCA"
          ],
          [
           "K26K-YYSRMQ-M11-Q1",
           "BRCA"
          ],
          [
           "K26K-49JAYE-M12-Q1",
           "BRCA"
          ],
          [
           "K26K-ADUQXR-M12-Q1",
           "BRCA"
          ],
          [
           "K26K-UHFDPK-M11-Q1",
           "BRCA"
          ],
          [
           "K26K-9L1Y67-M11-Q1",
           "BRCA"
          ],
          [
           "K26K-BNT5N4-M11-Q1",
           "BRCA"
          ],
          [
           "K26K-L8XPSZ-M11-Q1",
           "BRCA"
          ],
          [
           "K26K-XTJ7Y9-T11-Q1",
           "BRCA"
          ],
          [
           "K26K-KFMA1Q-M12-Q1",
           "BRCA"
          ],
          [
           "K26K-1GVZCL-M11-Q1",
           "BRCA"
          ],
          [
           "K26K-4GF7MY-T11-Q1",
           "BRCA"
          ],
          [
           "K26K-7ATS4U-M12-Q1",
           "BRCA"
          ],
          [
           "K26K-EPJFEF-T11-Q1",
           "BRCA"
          ],
          [
           "K26K-R8PSWC-M11-Q1",
           "BRCA"
          ],
          [
           "K26K-YJ9GCJ-T12-Q1",
           "BRCA"
          ],
          [
           "K26K-XBFHQ2-M21-Q1",
           "BRCA"
          ],
          [
           "K26K-B1XR5S-M11-Q1",
           "BRCA"
          ],
          [
           "K26K-BKWV8G-T11-Q1",
           "BRCA"
          ],
          [
           "K26K-XNAQJ3-M14-Q1",
           "BRCA"
          ],
          [
           "K26K-84BAN3-T11-Q1",
           "BRCA"
          ],
          [
           "K26K-FFERGY-M11-Q1",
           "BRCA"
          ],
          [
           "K26K-JTA6QT-M11-Q1",
           "BRCA"
          ],
          [
           "K26K-T1HPZ7-M11-Q1",
           "BRCA"
          ],
          [
           "K26K-UTHXYT-T12-Q1",
           "BRCA"
          ],
          [
           "K26K-VM998R-M12-Q1",
           "BRCA"
          ],
          [
           "K26K-ER3MP5-M11-Q1",
           "BRCA"
          ],
          [
           "K26K-EWZVEU-M21-Q1",
           "BRCA"
          ],
          [
           "K26K-MSWYW3-M11-Q1",
           "BRCA"
          ],
          [
           "K26K-SNFUYE-M11-Q1",
           "BRCA"
          ],
          [
           "K26K-XBSCRQ-T11-Q1",
           "BRCA"
          ],
          [
           "K26K-K6UAUG-M31-Q1",
           "BRCA"
          ],
          [
           "K26K-V115SB-M22-Q1",
           "BRCA"
          ],
          [
           "K26K-XX8LUG-T11-Q1",
           "BRCA"
          ],
          [
           "K26K-CTD3KC-M21-Q1",
           "BRCA"
          ],
          [
           "K26K-9HC2UR-M11-Q1",
           "BRCA"
          ],
          [
           "K26K-ME6J6U-M11-Q1",
           "BRCA"
          ],
          [
           "K26K-ZQ18H5-M11-Q1",
           "BRCA"
          ],
          [
           "K26K-32H7H5-M21-Q1",
           "BRCA"
          ],
          [
           "K26K-BZEUFF-T11-Q1",
           "BRCA"
          ],
          [
           "K26K-6CQ3E7-M11-Q1",
           "BRCA"
          ],
          [
           "K26K-8QKEP7-A11-Q1",
           "BRCA"
          ],
          [
           "K26K-P9MXM1-M21-Q1",
           "BRCA"
          ],
          [
           "K26K-UTKPWH-M11-Q1",
           "BRCA"
          ],
          [
           "K26K-YJ41GL-A11-Q1",
           "BRCA"
          ],
          [
           "K26K-BPSK9Z-T11-Q1",
           "BRCA"
          ],
          [
           "K26K-D7V6HC-T11-Q1",
           "BRCA"
          ],
          [
           "K26K-L45Y7Y-M11-Q1",
           "BRCA"
          ],
          [
           "K26K-4176HK-M12-Q1",
           "BRCA"
          ],
          [
           "K26K-RAFWHB-M11-Q1",
           "BRCA"
          ],
          [
           "K26K-8MY2XR-M21-Q1",
           "BRCA"
          ],
          [
           "K26K-LGFSLT-M11-Q1",
           "BRCA"
          ],
          [
           "H021-RFVHWPB-M1-Q1",
           "BRCA"
          ],
          [
           "K26K-4GNEQB-M21-Q1",
           "BRCA"
          ],
          [
           "K26K-4GNEQB-M21-E2",
           "BRCA"
          ],
          [
           "K26K-VFCNAH-T11-Q1",
           "BRCA"
          ]
         ],
         "hovertemplate": "Sample name: %{customdata[0]}<br>code_oncotree: %{customdata[1]}<extra></extra>",
         "legendgroup": "BRCA",
         "marker": {
          "color": "#00cc96",
          "opacity": 0.8,
          "symbol": "circle"
         },
         "mode": "markers",
         "name": "BRCA",
         "scene": "scene",
         "showlegend": true,
         "type": "scatter3d",
         "x": {
          "bdata": "a6EJQcJWGUHO7CRBTaH1QJmxDkEZ3xBBxN8PQY/WEEETNSBB4z4RQfFXDkEO/A9B62L5QKucFUFxzg1Bs1wFQcIs8UA6/f9AUGQHQf62CkF98/pA+OcVQWrP90BTPfdACv0PQU2rEkEHpgNBVg4KQbOpCkFBnxBBeAwRQUwbCkFlrghBGFwSQfm/BUF6TgZBRLUHQSVXAkGfWBFB2LYOQY9CD0Fbmg5B3pQRQeA5DEEktAhBjC4OQRNqFEEiUA5B73MGQQUyDUHfoRJBDz4SQYTJC0GzERBBc8gNQe3uBkHFsRNB5yoVQfIxD0FHxxdBxHMCQfYPAUGTqQBByo0GQSp9GEGhTh1BCZMQQRpLB0EPcRdBLs8ZQeV5/ECdPwBBy4cKQQSUFUGziRhBHB8LQdbpEkGSahVBy9IWQfYTEUGUExJBZ6EQQcPNCUHzaRlBNVIYQccvCUEkRQhBF3YFQQsRFUFD2fdAexj1QCtJCkFR7gtBILvpQHd5EEESI+5A/q0WQfzUFkFqdhVBINQZQUpTEkHHSA5BlRAIQU5WCEGqsQNBwpgCQX+iAUHkaQRBPkwNQUD8CkHmQANBRuMIQd9zAUEGsgFBsGgKQeMh+UDEkwFBcpUIQabbBkENWAFB2BseQfD0HkGiox9BooogQVeLH0FEQhNByBgcQRF6D0F7hQ9BeFAEQX2rAEEyjhZBH6oDQZW6BUFkKgBBjKcSQXRzCUHWpAtBEIwSQZZSEkGjbhFBu6gNQWbfFUH/twdBYTr/QJY0EkHJjQtBju4RQToNEUFeAhFB4hoGQff1E0Gx/v5AzWoWQaKpAkEHWAZBkUMVQQ==",
          "dtype": "f4"
         },
         "y": {
          "bdata": "EbtNQEtvWUB0iTxAwjxxQPJWPEDeWzNAy+UxQAIsMECMlfE/9JUzQOGTMUBqCTxAlK9YQCwmdkCQhG1AoRRgQHv0c0DngYtA8bs/QOFSNUCLiTxAIWhPQNbBQEAXoFZA+BpIQObJREA70UZAnjBaQApAUED2yGtAMRNfQIRc1z+0feU/BG2JQGmgcECuoGZAtp2BQES2gEAePyhAegxCQDujOECulFNAnylwQIUIV0Cl0ERAn89WQL6SNUAxDzlAIl5LQFEmdEDkUV9ArAl3QJzqVUCP9EJA5fFBQFquWED7gm5AKX55QDDXUkBOkWlAGdUaQMfJE0Bi9hVAwAJjQJU5KUDzvCRAHfAMQHRHVkB6UnhA+9x5QDD3gkD9vItA6FxbQKhXWEBZB0ZAAFaCQMaDcEAkz1tAhZWBQG6KY0BwPWJAKNJWQJUNYUDLqjlAGSE1QB9BKEA/BPs/ukacP69FWUDfdWJAzrptQMyqj0BW4o1AkukyQPm0e0At83VADKaOQAB3cEAlK2tAhrzQP32ARkBvdHRAynqAQIvCgEC3U4lALGiXQLUllECyn5lAL9mJQLYoi0AQP4RA8StsQGXIfkDrN39AzAFVQE0AaEDueGhAo2lvQFYqbECmDG5Awpl9QEijbkAhOHJAKEViQI8Tb0DaV+k/GleGQDmOYUB1NVtAKU1fQK0bWUAU2UxASaNyQN3xfkA3Y35ARh1HQGznjUDSBJNA4ucSQG44W0ADkmJAPrZ0QFxTTECbenRAVSMYQGOEY0AtdkZAcIVTQIqqX0CsykNA2XhjQAF2a0Bd+WRAPjVLQP4ZYUAIxD5AtqxiQA==",
          "dtype": "f4"
         },
         "z": {
          "bdata": "z/Y9QJMQEkDlU6c9W8skQCmiVUAheFFAQANWQLfWV0Awnm4/QphTQJ+7WkBFj1JALbgtQLpcJ0CC/jxAZ4FDQN+N/z+2UjJAfxoQQNH5FUDANBhAfk85QIuiFUD2aTNAsgLVP60/5D845w5AtWwdQKc5GkDA8PY+2uscQDuw2T9akfI/9KH7Py9yOUBatz1AeWtJQAagP0DlaYM/kCmPP5Tglj9tSjFAj+JCvnxYAEAjMRRASuw1QHkiLEA19jdAu9umPzuiIkD1PChAF6pHQN5FMED9ATdACVMYQORgLkAoQDBAJqkzQHELO0BwQiNABa0iQGYJGEDbTxVAtKcGQMaBH0CLeA1AH3MMQKDYTEAixy5AZ4IqQMR6NUDfrjJA2DUxQNMcMkBqqSRAx7cvQKwGS0CUa0FA3K/HPwoWqz9eHARAXPk1QB4RCkC89B9A9egdQKOEGUAIDAVAa46HPoTEGEB7l3A/F9DGP/eKMkDu2S9Ab7bnP9x0MUBDYy1Atz43QOq5sz+4dbg/8S27PaIdBUB5ypw/vEqmPxDBLUDR7S9AWxQqQDp6HEDdzytAvSRXQE2TT0BhuwdAKos1QISxEUAWfA9AAQAYQPjjIEBbNDBA71FFQNrYN0A/0CNAaEWsP4MIqz8JicU/dWHOPyzgwT+NJEE/9b8XQDXTQkBxjkBA6uApQHVyIECMl5a8CKS/P4SyyD+eXi5AC7UEQNgqQUBPbjZA4BsHQLOn7D/OD/w//SfgP/RkBUCg/dY8buW6P3pW5T8WKARAwPgcQE8uMEC9kShAZHo6QKw7K0AqMhlA68MzQEW6mz4bfkq/Vag5QA==",
          "dtype": "f4"
         }
        },
        {
         "customdata": [
          [
           "H021-B58HYJ-M2-Q1",
           "CAEXPA"
          ]
         ],
         "hovertemplate": "Sample name: %{customdata[0]}<br>code_oncotree: %{customdata[1]}<extra></extra>",
         "legendgroup": "CAEXPA",
         "marker": {
          "color": "#ab63fa",
          "opacity": 0.8,
          "symbol": "circle"
         },
         "mode": "markers",
         "name": "CAEXPA",
         "scene": "scene",
         "showlegend": true,
         "type": "scatter3d",
         "x": {
          "bdata": "39saQQ==",
          "dtype": "f4"
         },
         "y": {
          "bdata": "p7lrQA==",
          "dtype": "f4"
         },
         "z": {
          "bdata": "p0FfPw==",
          "dtype": "f4"
         }
        },
        {
         "customdata": [
          [
           "I007-029-108166",
           "CCS"
          ],
          [
           "H021-5EMPLL-M1",
           "CCS"
          ],
          [
           "H021-UQYD3U-M3",
           "CCS"
          ],
          [
           "I076-036-0M1-P1",
           "CCS"
          ],
          [
           "I054-019-3M1-P1",
           "CCS"
          ],
          [
           "H021-3CAFV3-M1",
           "CCS"
          ],
          [
           "H021-Q2DU1B-M3-Q1",
           "CCS"
          ],
          [
           "H021-Q2DU1B-M5-Q1",
           "CCS"
          ],
          [
           "H021-WS3DL3-M3-Q1",
           "CCS"
          ],
          [
           "H021-DDK5N8-M1-Q1",
           "CCS"
          ],
          [
           "H021-PJTHE7-M2-Q1",
           "CCS"
          ],
          [
           "H021-F8J91GP-M1-Q1",
           "CCS"
          ]
         ],
         "hovertemplate": "Sample name: %{customdata[0]}<br>code_oncotree: %{customdata[1]}<extra></extra>",
         "legendgroup": "CCS",
         "marker": {
          "color": "#FFA15A",
          "opacity": 0.8,
          "symbol": "circle"
         },
         "mode": "markers",
         "name": "CCS",
         "scene": "scene",
         "showlegend": true,
         "type": "scatter3d",
         "x": {
          "bdata": "CN8dQYqW50AqzeRAjD4JQQZxIUEuDvtA3M8DQUWG80DxLAJBZ7MOQZMCBEGNowlB",
          "dtype": "f4"
         },
         "y": {
          "bdata": "CoEcP60qNUBYFRBAuWvWP9XLtj8jVTRAfNQZQCMHR0AimzFAW5QPQGWAnD8zHi1A",
          "dtype": "f4"
         },
         "z": {
          "bdata": "raShvgQ8UT9IR70+8s8Lviyqtr4NJRJAhfMQQGTUlz/Ol0M+olm1P1T9MD6tVBE/",
          "dtype": "f4"
         }
        },
        {
         "customdata": [
          [
           "H021-AWHZA6-M1-Q1",
           "CEAD"
          ],
          [
           "H021-9MJYRU-M2-Q1",
           "CEAD"
          ],
          [
           "H021-4X511D-M2-Q1",
           "CEAD"
          ],
          [
           "H021-AYXXK9-M1-Q2",
           "CEAD"
          ]
         ],
         "hovertemplate": "Sample name: %{customdata[0]}<br>code_oncotree: %{customdata[1]}<extra></extra>",
         "legendgroup": "CEAD",
         "marker": {
          "color": "#19d3f3",
          "opacity": 0.8,
          "symbol": "circle"
         },
         "mode": "markers",
         "name": "CEAD",
         "scene": "scene",
         "showlegend": true,
         "type": "scatter3d",
         "x": {
          "bdata": "aLz5QHme/kDm7AxBMI7tQA==",
          "dtype": "f4"
         },
         "y": {
          "bdata": "z47lPxr+jEBH1YtA0qVzQA==",
          "dtype": "f4"
         },
         "z": {
          "bdata": "s5REP/vlJEAZqdM+F4QhQA==",
          "dtype": "f4"
         }
        },
        {
         "customdata": [
          [
           "H021-1KK46T-M2",
           "CEMN"
          ],
          [
           "H021-1KK46T-M1",
           "CEMN"
          ]
         ],
         "hovertemplate": "Sample name: %{customdata[0]}<br>code_oncotree: %{customdata[1]}<extra></extra>",
         "legendgroup": "CEMN",
         "marker": {
          "color": "#FF6692",
          "opacity": 0.8,
          "symbol": "circle"
         },
         "mode": "markers",
         "name": "CEMN",
         "scene": "scene",
         "showlegend": true,
         "type": "scatter3d",
         "x": {
          "bdata": "fJ8PQXRcEUE=",
          "dtype": "f4"
         },
         "y": {
          "bdata": "BL+HQPu5g0A=",
          "dtype": "f4"
         },
         "z": {
          "bdata": "xjwzQEORNUA=",
          "dtype": "f4"
         }
        },
        {
         "customdata": [
          [
           "H021-86LW15-T2-Q1",
           "CENE"
          ]
         ],
         "hovertemplate": "Sample name: %{customdata[0]}<br>code_oncotree: %{customdata[1]}<extra></extra>",
         "legendgroup": "CENE",
         "marker": {
          "color": "#B6E880",
          "opacity": 0.8,
          "symbol": "circle"
         },
         "mode": "markers",
         "name": "CENE",
         "scene": "scene",
         "showlegend": true,
         "type": "scatter3d",
         "x": {
          "bdata": "AoIPQQ==",
          "dtype": "f4"
         },
         "y": {
          "bdata": "fIeXQA==",
          "dtype": "f4"
         },
         "z": {
          "bdata": "AhACQA==",
          "dtype": "f4"
         }
        },
        {
         "customdata": [
          [
           "H021-MVBNYBZ-T1-Q1",
           "CHBL"
          ]
         ],
         "hovertemplate": "Sample name: %{customdata[0]}<br>code_oncotree: %{customdata[1]}<extra></extra>",
         "legendgroup": "CHBL",
         "marker": {
          "color": "#FF97FF",
          "opacity": 0.8,
          "symbol": "circle"
         },
         "mode": "markers",
         "name": "CHBL",
         "scene": "scene",
         "showlegend": true,
         "type": "scatter3d",
         "x": {
          "bdata": "s/kVQQ==",
          "dtype": "f4"
         },
         "y": {
          "bdata": "rt9VQA==",
          "dtype": "f4"
         },
         "z": {
          "bdata": "bHnlPg==",
          "dtype": "f4"
         }
        },
        {
         "customdata": [
          [
           "H021-E381AV-T2-E2",
           "CHDM"
          ],
          [
           "H021-UQBN7H-T2",
           "CHDM"
          ],
          [
           "H021-S1WQZ5-M1",
           "CHDM"
          ],
          [
           "H021-YTWLBM-T3-E1",
           "CHDM"
          ],
          [
           "H021-9DVBZG-M1-E2",
           "CHDM"
          ],
          [
           "H021-3P7FPW-T1-E1",
           "CHDM"
          ],
          [
           "H021-BDWQVA-M3",
           "CHDM"
          ],
          [
           "H021-BDWQVA-M4",
           "CHDM"
          ],
          [
           "H021-1Z1Z9R-T3",
           "CHDM"
          ],
          [
           "H021-2GFWNK-M1",
           "CHDM"
          ],
          [
           "H021-5VNN-T1",
           "CHDM"
          ],
          [
           "H021-5WKVYW-T3",
           "CHDM"
          ],
          [
           "H021-5YEPF5-M1",
           "CHDM"
          ],
          [
           "H021-5YEPF5-M3",
           "CHDM"
          ],
          [
           "H021-7J2J7X-M1",
           "CHDM"
          ],
          [
           "H021-8A97XD-T2",
           "CHDM"
          ],
          [
           "H021-9G2S1F-T1-E2",
           "CHDM"
          ],
          [
           "H021-CJVR-T1",
           "CHDM"
          ],
          [
           "H021-FJ8QYX-T2-E1",
           "CHDM"
          ],
          [
           "H021-JA26GW-T1",
           "CHDM"
          ],
          [
           "H021-JNQHBW-T1",
           "CHDM"
          ],
          [
           "H021-LS387K-T2",
           "CHDM"
          ],
          [
           "H021-N624KQ-T1",
           "CHDM"
          ],
          [
           "H021-NQ7S9M-T1",
           "CHDM"
          ],
          [
           "H021-PN8G4P-T2",
           "CHDM"
          ],
          [
           "H021-REMV5U-T1",
           "CHDM"
          ],
          [
           "H021-SN3KBH-T1",
           "CHDM"
          ],
          [
           "H021-YUE8CH-T1",
           "CHDM"
          ],
          [
           "H021-YW2T5S-T1",
           "CHDM"
          ],
          [
           "H021-Z1LD1V-T1",
           "CHDM"
          ],
          [
           "H021-6NY94X-T3",
           "CHDM"
          ],
          [
           "H021-CM887S-M2",
           "CHDM"
          ],
          [
           "H021-4GTCCA-T1",
           "CHDM"
          ],
          [
           "H021-8P95WW-M1",
           "CHDM"
          ],
          [
           "H021-PJ5TLX-T2",
           "CHDM"
          ],
          [
           "H021-VNDBT7-M1",
           "CHDM"
          ],
          [
           "H021-SX9EQ8-T3-E2",
           "CHDM"
          ],
          [
           "H021-4QAQ6K-M3-E2",
           "CHDM"
          ],
          [
           "H021-N624KQ-T11-E2",
           "CHDM"
          ],
          [
           "H021-BMDHN2-M1",
           "CHDM"
          ],
          [
           "H021-6A9ZQ6-T2-Q1",
           "CHDM"
          ],
          [
           "H021-6CUT1H-T1-Q1",
           "CHDM"
          ],
          [
           "H021-A8GH43-T5-Q1",
           "CHDM"
          ],
          [
           "H021-W4TA9C-T4-Q1",
           "CHDM"
          ],
          [
           "H021-HTX8PM-T1-Q1",
           "CHDM"
          ],
          [
           "H021-N624KQ-T10-Q1",
           "CHDM"
          ],
          [
           "H021-REMV5U-T3-Q1",
           "CHDM"
          ],
          [
           "H021-REMV5U-T4-Q1",
           "CHDM"
          ],
          [
           "H021-UJN13U-M1-Q1",
           "CHDM"
          ],
          [
           "H021-N624KQ-T3-Q1",
           "CHDM"
          ],
          [
           "H021-V6BV2M-M1-Q1",
           "CHDM"
          ],
          [
           "S033-33+001-T1-Q1",
           "CHDM"
          ],
          [
           "S033-33+001-T3-Q1",
           "CHDM"
          ],
          [
           "S033-33+002-T1-Q1",
           "CHDM"
          ],
          [
           "S033-33+003-T1-Q1",
           "CHDM"
          ],
          [
           "S033-33+004-T1-Q1",
           "CHDM"
          ],
          [
           "S033-33+002-T2-Q1",
           "CHDM"
          ],
          [
           "S033-33+003-T2-Q1",
           "CHDM"
          ],
          [
           "S033-33+005-T1-Q1",
           "CHDM"
          ],
          [
           "S033-33+004-T2-Q1",
           "CHDM"
          ],
          [
           "H021-V6BV2M-M2-Q1",
           "CHDM"
          ],
          [
           "S033-33+001-T2-Q1",
           "CHDM"
          ],
          [
           "S033-33+005-T2-Q1",
           "CHDM"
          ],
          [
           "S033-33+006-T1-Q1",
           "CHDM"
          ],
          [
           "H021-HGZEZ3-M4",
           "CHDM"
          ],
          [
           "S033-33+006-T2-Q1",
           "CHDM"
          ],
          [
           "S033-33+007-T1-Q1",
           "CHDM"
          ],
          [
           "H021-8E44VG-T1-Q1",
           "CHDM"
          ],
          [
           "S033-33+008-T1-Q1",
           "CHDM"
          ],
          [
           "S033-33+008-T2-Q1",
           "CHDM"
          ],
          [
           "S033-33+006-T3-Q1",
           "CHDM"
          ],
          [
           "S033-33+007-T2-Q1",
           "CHDM"
          ],
          [
           "S033-33+009-T2-Q1",
           "CHDM"
          ],
          [
           "S033-33+011-T1-Q1",
           "CHDM"
          ],
          [
           "S033-33+010-T1-Q1",
           "CHDM"
          ],
          [
           "H021-V4UVPH-T1-Q1",
           "CHDM"
          ],
          [
           "H021-YQWZ88-M3-Q1",
           "CHDM"
          ],
          [
           "S033-33+014-T1-Q1",
           "CHDM"
          ],
          [
           "S033-33+016-T1-Q1",
           "CHDM"
          ],
          [
           "S033-33+018-T1-Q1",
           "CHDM"
          ],
          [
           "S033-33+020-T1-Q1",
           "CHDM"
          ],
          [
           "S033-33+022-T1-Q1",
           "CHDM"
          ],
          [
           "S033-33+023-T1-Q1",
           "CHDM"
          ],
          [
           "S033-33+021-T1-Q1",
           "CHDM"
          ],
          [
           "S033-33+024-T1-Q1",
           "CHDM"
          ],
          [
           "S033-33+025-T1-Q1",
           "CHDM"
          ],
          [
           "S033-33+026-T1-Q1",
           "CHDM"
          ],
          [
           "S033-33+029-T1-Q1",
           "CHDM"
          ],
          [
           "S033-33+030-T1-Q1",
           "CHDM"
          ],
          [
           "H021-ZLMX2F-T2-Q1",
           "CHDM"
          ],
          [
           "H021-3HMNDM-T1-Q1",
           "CHDM"
          ],
          [
           "H021-DC9SNL-M1-Q1",
           "CHDM"
          ],
          [
           "S033-33+032-T1-Q1",
           "CHDM"
          ],
          [
           "S033-33+033-T1-Q1",
           "CHDM"
          ],
          [
           "S033-33+034-T1-Q1",
           "CHDM"
          ],
          [
           "S033-33+035-T1-Q1",
           "CHDM"
          ],
          [
           "S033-33+036-T1-Q1",
           "CHDM"
          ],
          [
           "S033-33+037-T1-Q1",
           "CHDM"
          ],
          [
           "S033-33+038-T1-Q1",
           "CHDM"
          ],
          [
           "H021-2ZDXQV-M1-Q1",
           "CHDM"
          ],
          [
           "H021-Y9L8J1-M1-Q1",
           "CHDM"
          ],
          [
           "H021-7PCAFC-M1-Q1",
           "CHDM"
          ],
          [
           "H021-7PCAFC-M2-Q1",
           "CHDM"
          ],
          [
           "H021-794YRF-M1-Q1",
           "CHDM"
          ],
          [
           "H021-1E41KP-T4-Q1",
           "CHDM"
          ],
          [
           "H021-EV7BPV-M1-Q1",
           "CHDM"
          ],
          [
           "H021-CF522-T1-Q1",
           "CHDM"
          ],
          [
           "H021-CF672-T1-Q1",
           "CHDM"
          ],
          [
           "H021-2577B8-M5-Q1",
           "CHDM"
          ],
          [
           "H021-CVMKDE-M1-Q1",
           "CHDM"
          ]
         ],
         "hovertemplate": "Sample name: %{customdata[0]}<br>code_oncotree: %{customdata[1]}<extra></extra>",
         "legendgroup": "CHDM",
         "marker": {
          "color": "#FECB52",
          "opacity": 0.8,
          "symbol": "circle"
         },
         "mode": "markers",
         "name": "CHDM",
         "scene": "scene",
         "showlegend": true,
         "type": "scatter3d",
         "x": {
          "bdata": "AMoMwC0M+r88CQPAazkFwOLhBsDptQ/AsPgMwIjuEMA7kQXA63cGwM7AB8BnrQrAj80NwLw4C8DC/RLA/74GwKftAMDWXgjAXV/2QIM+AcDbbwnAwhwLwNTEBsAPzADAN60HwMJuBsAF2wXA2cAMwKSLB8BB8QHABtoJwLZfAsAf0AXA6xsIwGDOAsA/YgfAoJDvQEX1D8AX3QfAk2oDwBCY/L+hYhPAoyP4vxenBcCa4AnAqbH9vy8XAsCNfhXAykwUwGO5AcDJ4uxA9ucMwP0jEcDAMgvANwwQwMj/FcAYafa/IqoCwIyJ/r+l5RHA840IwOZMAsDPXQ7AkrEWwO/vGMBqMwrAH6z/v/sWBsBlQgPA7T8EwCDgCsDVNwDAJ1/9v+SM+L/DQQLAwEb9v6wiBkGdeA7Ap/ULwPk6AcCsBBHAPVEAwLhVDsBztwbA1RYGwGdX/78QkBHAXxQMwF2oE8C6VxLAsOMCwJy+AMC/Ow7ARZn7v2y7BMCZUgfAFi0LwKmXBMBZWhLAAqrhQL+kFcA24xLAPM8WwA2JBcB/cxhBkE4SwJLgDMCBuADA5xcAwGQ8CMA=",
          "dtype": "f4"
         },
         "y": {
          "bdata": "tE0sP2LtHT907Rc/rtc4P/meRD97ZvU+K3sRP4Ae9j4UKSk/vScaP8qKRD9VT0A/bQc/P0LBLj/3M0Y/++I0P9wEGz+iOSQ/Zq0FQJZOGT/ZJDQ/jTYrP5OAJz+hbzE/EuY5PzfBNz/QVEM/dUJDP41cSj/dezc/cDg6P2+bMD8jFSQ/fPo/P5iGDD/8DkM/00mGQDJJ5T7i7tg+uaS/Pg7m9j5vd/k+FQ4gP1W2xT4URag+NUKnPljLCj+bLt8+aZc5PyMiwz6gD11A0mozP/CMlz5qzZw+AihaPkRK1T7xIh0/KfUMP+q0Hz9PB/s+MPQ/P24QLz/scK8+jSARP20kCz+vsEQ/1Ik+P/X57j7TSxQ/HKMYPwTn7T7zwgc/qonUPkbPCz/m2fc+k9UGPxccLkBBgCI/COUhPz02HD9bEAM/7WD8PmL8FD/rCa4+UBuAPmm12z59HPM+JMKIPpZ8wD4GUiI/uusKP3ZkKz9GkuY+hAImP6BqGj9QHEU/huQcP3g2ND91aUw/3dBHQJ1IpT6frQc/iPIDP5sqlT794VRAjD0JP1FtRz9sixM/ot0JP6qArj4=",
          "dtype": "f4"
         },
         "z": {
          "bdata": "PP+KQBW6j0BgI5BA95iVQFbwlEAp7olA2liHQG9LgkAWcYhA86mPQHfcgkBzmoBA6YCEQNrkgkBPFodAZ4ODQJZVkkCfYIFAfUwKP9l3hED0eoJATUWFQJGqh0A/zYFAr7yBQB2QhkAMKoJAx6OBQOgegUBpS4VAN7+CQEZfl0CcqItAewGCQH3BiUCByHxAY5RBQHhvf0BkRIBAtNGCQFs7k0Djk4tACc2OQMOClEDsTI9ABUmAQN86fkABRoNA1JaIQE3GgUCEuQ0/S8aIQJNai0DcmY9A/eeOQFhOhEDtLItAt1qPQCU9ikCraYBArLV4QAFVg0DmW4pA+oCKQDOyh0CoYIJALc+DQE9llEDjWplAAsqIQDWXh0D94IVAAy6UQJuslUCF15RAKKqTQIN/yD/1aYFAUzKBQLI+iEArEY9ACBiTQBmvj0DjsYVAQgaNQOooi0AsqZBALxuQQIq9fUDldYhAR0uUQJ7BmkC3yI5AQrucQPBGk0Ado5ZAUUmEQF1Jl0CcIn5A98sBPzdaikDFVI9Ad8qPQMpYgkAy/w299fePQPxefEB4nJRAEuyWQDTVjUA=",
          "dtype": "f4"
         }
        },
        {
         "customdata": [
          [
           "H021-ATPT9K-M4-Q1",
           "CHOL"
          ],
          [
           "MRI-1MELKW253-T1",
           "CHOL"
          ]
         ],
         "hovertemplate": "Sample name: %{customdata[0]}<br>code_oncotree: %{customdata[1]}<extra></extra>",
         "legendgroup": "CHOL",
         "marker": {
          "color": "#636efa",
          "opacity": 0.8,
          "symbol": "circle"
         },
         "mode": "markers",
         "name": "CHOL",
         "scene": "scene",
         "showlegend": true,
         "type": "scatter3d",
         "x": {
          "bdata": "AdgMQcWa+kA=",
          "dtype": "f4"
         },
         "y": {
          "bdata": "jDaLQOZIikA=",
          "dtype": "f4"
         },
         "z": {
          "bdata": "bIBEQPF4C0A=",
          "dtype": "f4"
         }
        },
        {
         "customdata": [
          [
           "H021-5LKTTN-M1",
           "CHOS"
          ],
          [
           "H021-FWUR29-M3",
           "CHOS"
          ],
          [
           "H021-JTAK5Y-M2-Q1",
           "CHOS"
          ],
          [
           "H021-1X8R4M-T2-Q1",
           "CHOS"
          ],
          [
           "H021-1X8R4M-T3",
           "CHOS"
          ]
         ],
         "hovertemplate": "Sample name: %{customdata[0]}<br>code_oncotree: %{customdata[1]}<extra></extra>",
         "legendgroup": "CHOS",
         "marker": {
          "color": "#EF553B",
          "opacity": 0.8,
          "symbol": "circle"
         },
         "mode": "markers",
         "name": "CHOS",
         "scene": "scene",
         "showlegend": true,
         "type": "scatter3d",
         "x": {
          "bdata": "J6ngQCf4G0EsCyNBpwMSQcSVIUE=",
          "dtype": "f4"
         },
         "y": {
          "bdata": "f2hDQFlEyz9O6zVAzxpYQPxfAkA=",
          "dtype": "f4"
         },
         "z": {
          "bdata": "V+GNP4Rtfz9CJOo9DJfCvpKXyT4=",
          "dtype": "f4"
         }
        },
        {
         "customdata": [
          [
           "H021-33UKSM-M1",
           "CHS"
          ],
          [
           "H021-62T6K1-M3-E2",
           "CHS"
          ],
          [
           "I070-051-2T1-P1",
           "CHS"
          ],
          [
           "H021-VPV3MB-M5",
           "CHS"
          ],
          [
           "H021-JHUP1B-T1-Q1",
           "CHS"
          ],
          [
           "H021-MWGAUE-T2-Q1",
           "CHS"
          ],
          [
           "H021-Z3Q2QK-T2-Q1",
           "CHS"
          ],
          [
           "H021-7BG79Z-M1-Q1",
           "CHS"
          ],
          [
           "H021-PJCDQK-T1-Q1",
           "CHS"
          ],
          [
           "H021-AJDAHQ-T2-Q1",
           "CHS"
          ],
          [
           "H021-RJ1PV3-T1-Q1",
           "CHS"
          ],
          [
           "H021-TY3JNG-M3-Q1",
           "CHS"
          ],
          [
           "H021-A4HD3K-T3-Q1",
           "CHS"
          ],
          [
           "H021-REHPN7-T1-Q2",
           "CHS"
          ],
          [
           "H021-UUC7M1-T1-Q1",
           "CHS"
          ],
          [
           "H021-RJ1PV3-T6-Q1",
           "CHS"
          ],
          [
           "H021-WAPKKMA-T1-Q1",
           "CHS"
          ],
          [
           "H021-RJ1PV3-T3-Q1",
           "CHS"
          ]
         ],
         "hovertemplate": "Sample name: %{customdata[0]}<br>code_oncotree: %{customdata[1]}<extra></extra>",
         "legendgroup": "CHS",
         "marker": {
          "color": "#00cc96",
          "opacity": 0.8,
          "symbol": "circle"
         },
         "mode": "markers",
         "name": "CHS",
         "scene": "scene",
         "showlegend": true,
         "type": "scatter3d",
         "x": {
          "bdata": "0LkBQblBBkFlghxBy3gBQaMzHEHceiFBpL/9QDTDH0GSyQJBWpcJQTRVGUEuqglBQj0GQRhXCEG6vAdBIRrmQBl3BkERhB1B",
          "dtype": "f4"
         },
         "y": {
          "bdata": "hC8bQIBYSj89dnQ/vlGVQEPPKEBKwN0/g8VrQPJcIECCfVtAVr5kQK9CMkABWF1ANtR7QCELbEAit0hA2uMqQHEiS0Cn40pA",
          "dtype": "f4"
         },
         "z": {
          "bdata": "7LQwP8NNYD9m14++IyitP+cfRT9tnpg+zyyKPc3SkL4MnVu+fWhfP+RF/b2wCmQ/q8uRP6/agD9x92e+iZ7KPyqRLT//A6i+",
          "dtype": "f4"
         }
        },
        {
         "customdata": [
          [
           "H021-7QCREA-M4",
           "COAD"
          ],
          [
           "H021-DVXCP3-M1-Q1",
           "COAD"
          ],
          [
           "H021-K614AF-M2-Q1",
           "COAD"
          ],
          [
           "H021-H42G69-M2-Q1",
           "COAD"
          ],
          [
           "H021-Z2HMHK-M1-Q1",
           "COAD"
          ],
          [
           "H021-1TL7YW-M4-Q1",
           "COAD"
          ],
          [
           "H021-GAC568-T2-Q1",
           "COAD"
          ],
          [
           "H021-C8QVFE-M1-Q1",
           "COAD"
          ],
          [
           "H021-J7RC5V-M1-Q1",
           "COAD"
          ],
          [
           "H021-W7ENJM-M4-Q1",
           "COAD"
          ],
          [
           "H021-MLZGAS-M1-Q1",
           "COAD"
          ],
          [
           "H021-JDMT53-T2-Q1",
           "COAD"
          ],
          [
           "H021-XA7KZM-M3-Q1",
           "COAD"
          ],
          [
           "H021-7JJYMV-M2-Q1",
           "COAD"
          ],
          [
           "H021-GUTUCGZ-M1-Q1",
           "COAD"
          ],
          [
           "H021-7CCGJ4-M3-Q1",
           "COAD"
          ],
          [
           "H021-U73C8J1-M1-Q1",
           "COAD"
          ],
          [
           "H021-SY1BYDF-M1-Q1",
           "COAD"
          ]
         ],
         "hovertemplate": "Sample name: %{customdata[0]}<br>code_oncotree: %{customdata[1]}<extra></extra>",
         "legendgroup": "COAD",
         "marker": {
          "color": "#ab63fa",
          "opacity": 0.8,
          "symbol": "circle"
         },
         "mode": "markers",
         "name": "COAD",
         "scene": "scene",
         "showlegend": true,
         "type": "scatter3d",
         "x": {
          "bdata": "MysIQSBsEUG1vQZB31MNQSvQBEHXIR9BifoAQbGUFEGaXxdBzW0IQSC4AUFSrw5B59boQMYh8EDaqwNB68IAQScuFUF6zvtA",
          "dtype": "f4"
         },
         "y": {
          "bdata": "ord4QJtHgEBoUnhAbe9uQGBuckDCOFdAtvmCQEQVjkDHKIRA66WAQIm5SECBZgJAAiwpQDqdgEC6u4VA4e6FQMeSGUB3M4tA",
          "dtype": "f4"
         },
         "z": {
          "bdata": "5fNMQD9RPkCR1UlAdTBDQB7QTkDoDm0/sJ43QOrhzT+jAcA/O8Y0QDoIsz8XEDhAvvvhP58emT+pwUBA2mI3QNVvDkAWPEtA",
          "dtype": "f4"
         }
        },
        {
         "customdata": [
          [
           "H021-TW4PSC-M4",
           "COADREAD"
          ],
          [
           "H021-2DK8S2B-T3-Q1",
           "COADREAD"
          ]
         ],
         "hovertemplate": "Sample name: %{customdata[0]}<br>code_oncotree: %{customdata[1]}<extra></extra>",
         "legendgroup": "COADREAD",
         "marker": {
          "color": "#FFA15A",
          "opacity": 0.8,
          "symbol": "circle"
         },
         "mode": "markers",
         "name": "COADREAD",
         "scene": "scene",
         "showlegend": true,
         "type": "scatter3d",
         "x": {
          "bdata": "NU4bQUpuEkE=",
          "dtype": "f4"
         },
         "y": {
          "bdata": "HPd4QL2QckA=",
          "dtype": "f4"
         },
         "z": {
          "bdata": "LqElQMK4wD8=",
          "dtype": "f4"
         }
        },
        {
         "customdata": [
          [
           "H021-H3B86K-T1",
           "CUPNOS"
          ],
          [
           "H021-ZEU1UK-U1",
           "CUPNOS"
          ],
          [
           "H021-SAKXMK-M2-Q1",
           "CUPNOS"
          ],
          [
           "H021-5L7GSS-T1-Q1",
           "CUPNOS"
          ],
          [
           "H021-6ZECLT-M2-Q1",
           "CUPNOS"
          ],
          [
           "H021-QZY3M4-M3-Q1",
           "CUPNOS"
          ],
          [
           "H021-ZEU1UK-M1-Q1",
           "CUPNOS"
          ],
          [
           "H021-MVGHWG-M2-Q1",
           "CUPNOS"
          ],
          [
           "H021-5L7GSS-T2-Q1",
           "CUPNOS"
          ],
          [
           "H021-6CM2ZE-T1",
           "CUPNOS"
          ],
          [
           "H021-74ED9R-M1-E2",
           "CUPNOS"
          ],
          [
           "H021-AFGC5G-M1-E1",
           "CUPNOS"
          ],
          [
           "H021-C2DLPM-T2",
           "CUPNOS"
          ],
          [
           "H021-DFFFNC-M2-E1",
           "CUPNOS"
          ],
          [
           "H021-5T33RC-T1-E2",
           "CUPNOS"
          ],
          [
           "H021-5WAN93-M2",
           "CUPNOS"
          ],
          [
           "H021-F9SFXT-M4",
           "CUPNOS"
          ],
          [
           "H021-N22K6U-M1-E2",
           "CUPNOS"
          ],
          [
           "H021-RRTP2Y-M2",
           "CUPNOS"
          ],
          [
           "H021-U3AER9-M1-E2",
           "CUPNOS"
          ],
          [
           "H021-WNTLNE-M2-E2",
           "CUPNOS"
          ],
          [
           "H021-LTDE4Z-M2-Q1",
           "CUPNOS"
          ],
          [
           "H021-KNCPCX-M8",
           "CUPNOS"
          ],
          [
           "H021-L7L8KS-M1-Q1",
           "CUPNOS"
          ],
          [
           "H021-TBBLEM-M1-Q1",
           "CUPNOS"
          ],
          [
           "H021-VYQLRB-M3",
           "CUPNOS"
          ],
          [
           "H021-LTZ8C1-M3-Q1",
           "CUPNOS"
          ],
          [
           "H021-5MRTGM-T1-Q1",
           "CUPNOS"
          ],
          [
           "H021-3WADQY-M2-Q1",
           "CUPNOS"
          ],
          [
           "H021-5U4YZ3-M3-Q1",
           "CUPNOS"
          ],
          [
           "H021-MLCJSS-M1-Q1",
           "CUPNOS"
          ],
          [
           "H021-NM3WX2-M1-Q1",
           "CUPNOS"
          ],
          [
           "H021-B58HYJ-M1-Q1",
           "CUPNOS"
          ],
          [
           "H021-5YBBAM-M2-Q1",
           "CUPNOS"
          ],
          [
           "H021-1V2961-T2-Q1",
           "CUPNOS"
          ],
          [
           "H021-Q8AG7S-M2-Q1",
           "CUPNOS"
          ],
          [
           "H021-1QHA7Y-M1-Q1",
           "CUPNOS"
          ],
          [
           "H021-FA6G48-T2-Q1",
           "CUPNOS"
          ],
          [
           "H021-1HCWLP-M1-Q1",
           "CUPNOS"
          ],
          [
           "H021-1L48V5-M2-Q1",
           "CUPNOS"
          ],
          [
           "H021-22DWTZ-T3-Q1",
           "CUPNOS"
          ],
          [
           "H021-FMHV-M6-Q1",
           "CUPNOS"
          ],
          [
           "H021-HAPD6U-M1-Q1",
           "CUPNOS"
          ],
          [
           "H021-HLZKLD-M1-Q1",
           "CUPNOS"
          ],
          [
           "H021-HTQQ-T4-Q1",
           "CUPNOS"
          ],
          [
           "H021-K6H1-T3-Q1",
           "CUPNOS"
          ],
          [
           "H021-KFPLSM-M4-Q1",
           "CUPNOS"
          ],
          [
           "H021-KKAMDZ-T2-Q1",
           "CUPNOS"
          ],
          [
           "H021-L9FKXK-M3-Q1",
           "CUPNOS"
          ],
          [
           "H021-LHR4LM-T2-Q1",
           "CUPNOS"
          ],
          [
           "H021-11X1GP-M3-Q1",
           "CUPNOS"
          ],
          [
           "H021-44P9-T1-Q1",
           "CUPNOS"
          ],
          [
           "H021-51MR4Y-M2-Q1",
           "CUPNOS"
          ],
          [
           "H021-53E58V-M1-Q1",
           "CUPNOS"
          ],
          [
           "H021-81B1R7-M1-Q1",
           "CUPNOS"
          ],
          [
           "H021-839NS8-M1-Q1",
           "CUPNOS"
          ],
          [
           "H021-A5L4DW-M3-Q1",
           "CUPNOS"
          ],
          [
           "H021-CVU24V-M1-Q1",
           "CUPNOS"
          ],
          [
           "H021-EPNK7Z-M1-Q1",
           "CUPNOS"
          ],
          [
           "H021-F33Q2Y-M6-Q1",
           "CUPNOS"
          ],
          [
           "H021-F7WRJV-M1-Q1",
           "CUPNOS"
          ],
          [
           "H021-F83ADS-T1-Q1",
           "CUPNOS"
          ],
          [
           "H021-K9ZBFG-M4-Q1",
           "CUPNOS"
          ],
          [
           "H021-LRE6DV-T1-Q1",
           "CUPNOS"
          ],
          [
           "H021-PEM7HN-M1-Q1",
           "CUPNOS"
          ],
          [
           "H021-RFFMCK-M1-Q1",
           "CUPNOS"
          ],
          [
           "H021-39CD5T-M1-Q1",
           "CUPNOS"
          ],
          [
           "P021-QLEE-T1-Q1",
           "CUPNOS"
          ],
          [
           "H021-XFKKVM-T1-Q1",
           "CUPNOS"
          ],
          [
           "H021-Y19M1T-M2-Q1",
           "CUPNOS"
          ],
          [
           "H021-Z7B8BE-M1-Q1",
           "CUPNOS"
          ],
          [
           "H021-3VKMK2-M1-Q1",
           "CUPNOS"
          ],
          [
           "H021-43W61N-M2-Q1",
           "CUPNOS"
          ],
          [
           "H021-C8HAJF-M2-Q1",
           "CUPNOS"
          ],
          [
           "H021-M1MUHA-M2-Q1",
           "CUPNOS"
          ],
          [
           "H021-MALFTE-T2-Q1",
           "CUPNOS"
          ],
          [
           "H021-Q6RYR7-M2-Q1",
           "CUPNOS"
          ],
          [
           "H021-RFKULG-M1-Q1",
           "CUPNOS"
          ],
          [
           "H021-SLJL6X-M2-Q1",
           "CUPNOS"
          ],
          [
           "H021-62BL5E-M2-Q1",
           "CUPNOS"
          ],
          [
           "H021-83ZA1A-M2-Q1",
           "CUPNOS"
          ],
          [
           "H021-8Q7DZ9-M1-Q1",
           "CUPNOS"
          ],
          [
           "H021-BYAX6U-T1-Q1",
           "CUPNOS"
          ],
          [
           "MOD-69PNH5-O1",
           "CUPNOS"
          ],
          [
           "MOD-69PNH5-SP1",
           "CUPNOS"
          ],
          [
           "MOD-69PNH5-SP2",
           "CUPNOS"
          ],
          [
           "H021-G66V2C-M2-Q1",
           "CUPNOS"
          ],
          [
           "H021-UR6DLY-M2-Q1",
           "CUPNOS"
          ],
          [
           "P021-QLEE-T1-Q1-R2",
           "CUPNOS"
          ],
          [
           "H021-FQ7G9VT-M1-Q1",
           "CUPNOS"
          ],
          [
           "H021-1T2KTK9-M1-Q1",
           "CUPNOS"
          ],
          [
           "H021-SHRT1M-M1-Q1",
           "CUPNOS"
          ],
          [
           "H021-JKKJ8Q8-M1-Q1",
           "CUPNOS"
          ],
          [
           "H021-S2F9XTP-M1-Q1",
           "CUPNOS"
          ],
          [
           "H021-S2F9XTP-M1-Q1-R2",
           "CUPNOS"
          ],
          [
           "H021-Z71CF3B-M2-Q1",
           "CUPNOS"
          ],
          [
           "H021-FR44XKM-M2-Q1",
           "CUPNOS"
          ]
         ],
         "hovertemplate": "Sample name: %{customdata[0]}<br>code_oncotree: %{customdata[1]}<extra></extra>",
         "legendgroup": "CUPNOS",
         "marker": {
          "color": "#19d3f3",
          "opacity": 0.8,
          "symbol": "circle"
         },
         "mode": "markers",
         "name": "CUPNOS",
         "scene": "scene",
         "showlegend": true,
         "type": "scatter3d",
         "x": {
          "bdata": "eGwaQdUYIkEXOBBBXAUOQTmnDkE/+ANBh94UQd5oAkHaUAZBuhUBQb1YBUGwrQNBzNoSQawhB0HkuhJBx2wMQYvFEEE61ftAcJsQQXzDDEHtzPpAUJ8MQWpeAUGKCQRBeuQEQdtgEUE+2gVBNT8WQR8EBUHm9xZBC+4TQeUf80DWPQtBtvQjQTH3CkHXHwBBqUoYQTRWH0GkNxFBfQfwQN726UB1PeFADWvhQD934UCUdOZAmXnhQOrJ4UDGYOFAvLPkQLXX4EAFDghBQtAFQZqGCEG20QZBZjIHQbfvB0FZOf1AjN8IQR29CEE4pwtBTcAJQdm0CUGMEAlB1kIKQTFKCEEUHwhBxM0KQYaQFkFPKQJBmcAHQVFw9kCgCAtBAi8NQT2sC0GEMwxBoRQNQauXDEF8TQpBTm0TQVi0AkGQ2A1B1p0BQRlM+EA9JAxBXu4CQU9XA0EvxP1AtPUPQYjz/kCbaQ9Bz2UfQRUbCEHFrQpBuAcQQU20DEE+lApBZRwSQQ==",
          "dtype": "f4"
         },
         "y": {
          "bdata": "7bM8QPBRR0Co9VxAiw5pQNNfgUCXzYJA0cQEQE8dg0DpyhlAK2+RQEs7d0AdclhAHQldQHbEP0DAAHRAyHRLQL0vUUC4nGdAjGJoQHiWKECptk1A2Tv7P1YvR0DBoYBAk2Z2QPfd/j/nY1lA6EVIQEmUWkBAwnFAGIVxQONEZkCRG2FAedpHQDruZkAvSoxAcZl/QK+gFUApRodABB4qQIDbI0DJhnJA2Gd0QBXzdEBbOmdA7Ul1QMIUeECwF3ZAjkZsQL9Md0CF55FAKSKRQI18kkDJg5FAQOaUQGsUkkCn02xAaveeQE2CnUBVNZlAgPedQCIJnECDU59AYIqdQDLUnEAglZRAsLheQLSLjUCwXZpAXKiaQO+TtD+zI41AqzeNQAKYjEDt0Y1AsvGMQIYYj0AFLYpAVVabQHPxdEC8votAbVWJQI0uiUBkBUhAzlpdQFBTW0BaeY1AIQZSQIdEdUC5eYlABuByQAM8aUCdWn1A8IJwQGIjckDIwI5AZ+SOQA==",
          "dtype": "f4"
         },
         "z": {
          "bdata": "ebTWPVSO4z850xE/IRRFP8BRFkBFLCdAHoZTvgkLtj/ZV68/KSc4QDn4VEANDFBAhygyviTd2j8aMARASjBIQN0eC0DpgClAeXnZP5fHH0DtFBtA9PyfvvF0iT82tVBAXBNWQKsTmz/UdLs/3B44vge+pT+c9wK9MrhHQIsqkD9Sa8M+MvHQPz4Lnr6XeDBANW2CPxtozz9+7xY+pi/3PzHO1j+jGLQ/KySwPyW9sD8C36U/BXKwP1bQrD8J1K0/3/mnP1ELrT+s8SVAxg/8P+7VJED2TRRAkJMbQOp3JkBJwz4/JDJBQHKUPEBD5EFAQb5BQF5oQEAj4EBAtYo+QPnDPkA0pCpA0DMPQO1ONUCVFCpA4vAuQMFBaD/ojVJAYeVTQByVVkAZqFVA7PtUQL1QVkBCZ1JAcoA9PwdBN0AmxANAc3jvP7y8BkA5JmBAbrFWQPfSV0AzFvE/6WLFPmiNDkCTQJk/eK2zP1egYz91ZEQ/qEIGvw/m/L69aow/zVXiPw==",
          "dtype": "f4"
         }
        },
        {
         "customdata": [
          [
           "H021-C15ZW3-M1-E3",
           "DCS"
          ]
         ],
         "hovertemplate": "Sample name: %{customdata[0]}<br>code_oncotree: %{customdata[1]}<extra></extra>",
         "legendgroup": "DCS",
         "marker": {
          "color": "#FF6692",
          "opacity": 0.8,
          "symbol": "circle"
         },
         "mode": "markers",
         "name": "DCS",
         "scene": "scene",
         "showlegend": true,
         "type": "scatter3d",
         "x": {
          "bdata": "XH4NQQ==",
          "dtype": "f4"
         },
         "y": {
          "bdata": "HeYPPw==",
          "dtype": "f4"
         },
         "z": {
          "bdata": "xzI6Pg==",
          "dtype": "f4"
         }
        },
        {
         "customdata": [
          [
           "H021-7QF8-T1-Q1",
           "DDCHDM"
          ]
         ],
         "hovertemplate": "Sample name: %{customdata[0]}<br>code_oncotree: %{customdata[1]}<extra></extra>",
         "legendgroup": "DDCHDM",
         "marker": {
          "color": "#B6E880",
          "opacity": 0.8,
          "symbol": "circle"
         },
         "mode": "markers",
         "name": "DDCHDM",
         "scene": "scene",
         "showlegend": true,
         "type": "scatter3d",
         "x": {
          "bdata": "NaQTwA==",
          "dtype": "f4"
         },
         "y": {
          "bdata": "rPEePw==",
          "dtype": "f4"
         },
         "z": {
          "bdata": "GU+OQA==",
          "dtype": "f4"
         }
        },
        {
         "customdata": [
          [
           "H021-QFC8A8-T1",
           "DDLS"
          ],
          [
           "H021-QFC8A8-T2",
           "DDLS"
          ],
          [
           "H021-KK5NCZ-M2",
           "DDLS"
          ],
          [
           "H021-GQA6VF-M1",
           "DDLS"
          ],
          [
           "H021-DFXK2X-T1",
           "DDLS"
          ],
          [
           "H021-QUCCJC-T1",
           "DDLS"
          ],
          [
           "H021-192LV1-M1",
           "DDLS"
          ],
          [
           "H021-1GLAY6-T3",
           "DDLS"
          ],
          [
           "H021-KAPWJB-T3",
           "DDLS"
          ],
          [
           "H021-1SMFSC-T2",
           "DDLS"
          ],
          [
           "H021-H7W4EN-T1",
           "DDLS"
          ],
          [
           "H021-192LV1-M2",
           "DDLS"
          ],
          [
           "H021-BCJ6SM-M2",
           "DDLS"
          ],
          [
           "H021-1CM1EC-T2-Q1",
           "DDLS"
          ],
          [
           "H021-WX6QVK-M3-Q1",
           "DDLS"
          ],
          [
           "H021-1CM1EC-T1-Q1",
           "DDLS"
          ],
          [
           "H021-DGXEFK-M3-Q1",
           "DDLS"
          ],
          [
           "H021-T17KB4-T2-Q1",
           "DDLS"
          ],
          [
           "H021-T17KB4-T3-Q1",
           "DDLS"
          ],
          [
           "H021-WNF9LY-T2-Q1",
           "DDLS"
          ],
          [
           "H021-6UHYUH-M2-Q1",
           "DDLS"
          ],
          [
           "H021-NJ78W6-U1-Q1",
           "DDLS"
          ],
          [
           "H021-FUGSYF8-T1-Q1",
           "DDLS"
          ],
          [
           "H021-FUGSYF8-T4-Q1",
           "DDLS"
          ],
          [
           "H021-FUGSYF8-T7-Q1",
           "DDLS"
          ]
         ],
         "hovertemplate": "Sample name: %{customdata[0]}<br>code_oncotree: %{customdata[1]}<extra></extra>",
         "legendgroup": "DDLS",
         "marker": {
          "color": "#FF97FF",
          "opacity": 0.8,
          "symbol": "circle"
         },
         "mode": "markers",
         "name": "DDLS",
         "scene": "scene",
         "showlegend": true,
         "type": "scatter3d",
         "x": {
          "bdata": "q7/wQIHn70AUheZASJYHQb4dDUEYvO5AAbEJQdQECkE/Kh5B/yMPQQswF0FMxwxBkEcVQeuACkEhxB5B8NMHQT5XHUHEQBJBcoMJQUTcBUFQlhFBjVAZQeZYEEHP5Q9B9rgQQQ==",
          "dtype": "f4"
         },
         "y": {
          "bdata": "kpLwP81p8z/ZFQ5AKx5IQJahET9RVVVAPVROQKhpgUAi8eo/LkSYPyXVxT+Wy0hAtNkmQEgGfkC6O+U/ZJ6AQOKrQEAWazNAdxzNP/llekA85BpAbNZIQGjvjz/Si5E/SYSMPw==",
          "dtype": "f4"
         },
         "z": {
          "bdata": "7C44vwYjPb+ERtY+U9WrvVmzQD7F27A+R485vpshgb6guwG/wvisPbetfL3zcY6++hWKPiiNIL8FbAs9Q1QXv4i3BEAm/Ju+aG+oP4q6Cr+gCdA86QO1PmjoST/TzUM/M5g4Pw==",
          "dtype": "f4"
         }
        },
        {
         "customdata": [
          [
           "H021-DKGLER-T2",
           "DES"
          ]
         ],
         "hovertemplate": "Sample name: %{customdata[0]}<br>code_oncotree: %{customdata[1]}<extra></extra>",
         "legendgroup": "DES",
         "marker": {
          "color": "#FECB52",
          "opacity": 0.8,
          "symbol": "circle"
         },
         "mode": "markers",
         "name": "DES",
         "scene": "scene",
         "showlegend": true,
         "type": "scatter3d",
         "x": {
          "bdata": "bw/sQA==",
          "dtype": "f4"
         },
         "y": {
          "bdata": "uSorQA==",
          "dtype": "f4"
         },
         "z": {
          "bdata": "+mYVvg==",
          "dtype": "f4"
         }
        },
        {
         "customdata": [
          [
           "H021-7AAYWW-T1",
           "DFSP"
          ],
          [
           "H021-7AAYWW-T2",
           "DFSP"
          ],
          [
           "H021-5W1H1S-T1",
           "DFSP"
          ],
          [
           "H021-9LPY7S-T1-Q1",
           "DFSP"
          ],
          [
           "H021-EN4UG6-T1-Q1",
           "DFSP"
          ],
          [
           "H021-3WX86Q-T6-Q1",
           "DFSP"
          ],
          [
           "H021-ZCCGMV3-M3-Q1",
           "DFSP"
          ]
         ],
         "hovertemplate": "Sample name: %{customdata[0]}<br>code_oncotree: %{customdata[1]}<extra></extra>",
         "legendgroup": "DFSP",
         "marker": {
          "color": "#636efa",
          "opacity": 0.8,
          "symbol": "circle"
         },
         "mode": "markers",
         "name": "DFSP",
         "scene": "scene",
         "showlegend": true,
         "type": "scatter3d",
         "x": {
          "bdata": "tl8hQQYjIUH90f5AWmEbQf8SEUHQehhBoPLpQA==",
          "dtype": "f4"
         },
         "y": {
          "bdata": "XKKxP7cMtD+Uyfw/S+cLQPGV9z8pJjVAjpUeQA==",
          "dtype": "f4"
         },
         "z": {
          "bdata": "INCwv1Qarr8ilWA+N/A5PttXoD7DUxu/rj20PQ==",
          "dtype": "f4"
         }
        },
        {
         "customdata": [
          [
           "H021-Y6JGQE-T2-Q1",
           "DLBCL"
          ],
          [
           "H021-Y6JGQE-T6-Q1",
           "DLBCL"
          ]
         ],
         "hovertemplate": "Sample name: %{customdata[0]}<br>code_oncotree: %{customdata[1]}<extra></extra>",
         "legendgroup": "DLBCL",
         "marker": {
          "color": "#EF553B",
          "opacity": 0.8,
          "symbol": "circle"
         },
         "mode": "markers",
         "name": "DLBCL",
         "scene": "scene",
         "showlegend": true,
         "type": "scatter3d",
         "x": {
          "bdata": "W4sSQZ8ZDkE=",
          "dtype": "f4"
         },
         "y": {
          "bdata": "9sZAQFdSXUA=",
          "dtype": "f4"
         },
         "z": {
          "bdata": "sgG7vvklqr4=",
          "dtype": "f4"
         }
        },
        {
         "customdata": [
          [
           "H021-3GHH6S-T1",
           "DSRCT"
          ],
          [
           "H021-TPPC3H-M2",
           "DSRCT"
          ],
          [
           "H021-UA4J9Y-T1",
           "DSRCT"
          ],
          [
           "H021-YHPFMB-T1",
           "DSRCT"
          ],
          [
           "H021-TPPC3H-M3",
           "DSRCT"
          ],
          [
           "H021-YHPFMB-T2",
           "DSRCT"
          ],
          [
           "H021-8Z72-T4",
           "DSRCT"
          ],
          [
           "H021-ENGUHR-T2",
           "DSRCT"
          ],
          [
           "H021-XHP589-M2",
           "DSRCT"
          ],
          [
           "H021-DTSDEX-M6",
           "DSRCT"
          ],
          [
           "H021-PHLFH6-M4",
           "DSRCT"
          ],
          [
           "H021-TPPC3H-M1",
           "DSRCT"
          ],
          [
           "H021-2A3P6Y-M3-E1",
           "DSRCT"
          ],
          [
           "H021-TPPC3H-M3-Q1",
           "DSRCT"
          ],
          [
           "H021-SMB6ZC-M1-Q1",
           "DSRCT"
          ],
          [
           "H021-1S77F3-T1-Q1",
           "DSRCT"
          ],
          [
           "I063-067-0M1-P1",
           "DSRCT"
          ],
          [
           "H021-MUPF44-M1-Q1",
           "DSRCT"
          ],
          [
           "H021-ZLTJUV-M3-Q1",
           "DSRCT"
          ],
          [
           "H021-1MYGU2-T1-Q1",
           "DSRCT"
          ],
          [
           "H021-7KHCMY-T1-Q1",
           "DSRCT"
          ],
          [
           "H021-HSBCS2-M1-Q1",
           "DSRCT"
          ],
          [
           "H021-JNMLVC-M1-Q1",
           "DSRCT"
          ],
          [
           "H021-1S77F3-T4-Q1",
           "DSRCT"
          ],
          [
           "H021-F3U464-M1-Q1",
           "DSRCT"
          ],
          [
           "H021-MBWS1AA-U1-Q1",
           "DSRCT"
          ],
          [
           "H021-2TA59U5-M3-Q1",
           "DSRCT"
          ],
          [
           "H021-EZEV9M-M3-Q1",
           "DSRCT"
          ]
         ],
         "hovertemplate": "Sample name: %{customdata[0]}<br>code_oncotree: %{customdata[1]}<extra></extra>",
         "legendgroup": "DSRCT",
         "marker": {
          "color": "#00cc96",
          "opacity": 0.8,
          "symbol": "circle"
         },
         "mode": "markers",
         "name": "DSRCT",
         "scene": "scene",
         "showlegend": true,
         "type": "scatter3d",
         "x": {
          "bdata": "r777QDAMFkFRKAhB20rzQMlI9UBjRwdBlZ3sQARR80DNxPZA51f2QDHh+UB+thdBSmoXQesWGEHWhhVB0yoWQWO1FkHYlhlBkWgSQUHeDEHo7QdB9w8gQVSEIkH3IxRB2msWQZMWF0HZEApB7boQQQ==",
          "dtype": "f4"
         },
         "y": {
          "bdata": "ZQwNQAPswD/gsQVAvJnjP8lg4D/KVYc/62IrQJ3wJED8MilAsSUmQPLgV0CL36g/kjQoQPucmz+rSLs/zpckQAxw2j/BxAxAnVM+QFYsSUCDVJdAyEk0QM+ZK0CR055AKleEQJM5UECelihAf6mBQA==",
          "dtype": "f4"
         },
         "z": {
          "bdata": "W191PyRtpD9B3CA+8B1Lvgndt72EBCM/NYlSPzJqkT+6WZw/ZcOZP1N9AUCpPWk/7OyBP7xx1r0EAKE/NHVrP59njz/9QJU/doUKQINKSz/tVYw/BG6hPweBiT/ThTg/l/4KQEWOMj+tSTw/jePqPw==",
          "dtype": "f4"
         }
        },
        {
         "customdata": [
          [
           "H021-MVHAGX-M2-Q1",
           "MFH"
          ],
          [
           "H021-RF6GGV-T1",
           "MFH"
          ],
          [
           "H021-RF6GGV-M1",
           "MFH"
          ],
          [
           "H021-AQW6-T1",
           "MFH"
          ],
          [
           "I076-014-129774",
           "MFH"
          ],
          [
           "I137-004-100626",
           "MFH"
          ],
          [
           "I049-015-223128",
           "MFH"
          ],
          [
           "H021-57TAMB-M1",
           "MFH"
          ],
          [
           "I014-034-1M1-P1",
           "MFH"
          ],
          [
           "I043-009-1M1-P1",
           "MFH"
          ],
          [
           "I014-052-2T1-P1",
           "MFH"
          ],
          [
           "I018-032-7T1-P1",
           "MFH"
          ],
          [
           "H021-N8E2BK-M1",
           "MFH"
          ],
          [
           "H021-RK5R2C-T1-E1",
           "MFH"
          ],
          [
           "H021-U5KKB2-T1",
           "MFH"
          ],
          [
           "H021-MPDGSY-M3-Q1",
           "MFH"
          ],
          [
           "H021-E3K3EE-M1-Q1",
           "MFH"
          ],
          [
           "H021-F3AWG4-M3-Q1",
           "MFH"
          ],
          [
           "H021-5WGAYL-M2-Q1",
           "MFH"
          ],
          [
           "H021-9BTB7K-T1-Q1",
           "MFH"
          ],
          [
           "H021-Z2SMN2-M1-Q1",
           "MFH"
          ],
          [
           "H021-8WAR8F-M2-Q1",
           "MFH"
          ],
          [
           "H021-TFGGL1-M1-Q1",
           "MFH"
          ],
          [
           "H021-FCA51S-M1-Q1",
           "MFH"
          ],
          [
           "H021-MRDFTG-M2-Q1",
           "MFH"
          ],
          [
           "H021-UUG8Q5U-T1-Q1",
           "MFH"
          ],
          [
           "H021-WGDJK3-T1-Q1",
           "MFH"
          ],
          [
           "H021-FA1JUKY-M3-Q1",
           "MFH"
          ],
          [
           "H021-NKFCRMC-M1-Q1",
           "MFH"
          ],
          [
           "H021-7QX261Z-T1-Q1",
           "MFH"
          ],
          [
           "H021-STLBVC-M1-Q1",
           "MFH"
          ],
          [
           "H021-3CFAQD-T1-Q1",
           "MFH"
          ]
         ],
         "hovertemplate": "Sample name: %{customdata[0]}<br>code_oncotree: %{customdata[1]}<extra></extra>",
         "legendgroup": "MFH",
         "marker": {
          "color": "#ab63fa",
          "opacity": 0.8,
          "symbol": "circle"
         },
         "mode": "markers",
         "name": "MFH",
         "scene": "scene",
         "showlegend": true,
         "type": "scatter3d",
         "x": {
          "bdata": "neD7QBPB70ATqO9AKhgBQbs+FkFIsxFBnNYeQeSY40AxQxtBO2EiQc7VIkFX1iBBPGElQTk9FkFAQRtBhaQGQbjWBkFiMQ1BI6IeQZMxDUFHuQdBS1UgQRmV50BJNg9BNTEQQao6AUHKqfZAJ28IQdtfAkE9bAJBQlH5QLSFBUE=",
          "dtype": "f4"
         },
         "y": {
          "bdata": "bKlCQB2v7z/QTPI/kdgJQKQBvD8UWxlAwYsTP/bRIUAoX3Q/IJeTP4/gA0DEN8Y/1DoYQI3OVkAIiTdArx5BQKlFMEDkDF5ARFIIQALrX0DfXZc/uZAMQO4GKkCMeBpAo6hIQMmkhUDDS0xAmQt0QNWUTkCS9YJAfvltQBH6HkA=",
          "dtype": "f4"
         },
         "z": {
          "bdata": "qFPGvFBLPb+T7D+/GbNDP4Znhr+XLna/6ofGvk/gUz6P0Lq9PccAPezT476qNAC/Ejz4vIoHyT3kuQA+MetLvQE6pT+alzO/1LEBvdAieL6Uu1U+WvTAP0zY2D/lmZS+2BKEPtBJGb5WMok+IwAZP/WE0D/MT5I9A//OPiZxFD8=",
          "dtype": "f4"
         }
        },
        {
         "customdata": [
          [
           "H021-L3A2R1F-M6-Q1",
           "THYM"
          ],
          [
           "H021-6M2UVB-M1",
           "THYM"
          ],
          [
           "H021-ASYQ9W-M1",
           "THYM"
          ],
          [
           "H021-PK9AGE-M1",
           "THYM"
          ],
          [
           "H021-WCSVKG-M6",
           "THYM"
          ],
          [
           "H021-Q9FFSN-M1",
           "THYM"
          ],
          [
           "H021-Q9FFSN-M3",
           "THYM"
          ],
          [
           "H021-ZPKDNH-M1-Q1",
           "THYM"
          ],
          [
           "H021-F4Z1YL-U1-Q1",
           "THYM"
          ],
          [
           "H021-AC1JA4-M1-Q1",
           "THYM"
          ],
          [
           "H021-7DPSSL-M3-Q1",
           "THYM"
          ],
          [
           "H021-E26393-M1-Q1",
           "THYM"
          ],
          [
           "H021-KYCT61-M3",
           "THYM"
          ],
          [
           "H021-DMV13G-M1-Q1",
           "THYM"
          ],
          [
           "H021-A32WDGP-M1-Q1",
           "THYM"
          ],
          [
           "H021-4YMMRY9-T2-Q1",
           "THYM"
          ],
          [
           "H021-7YQWSN8-M1-Q1",
           "THYM"
          ],
          [
           "H021-D93K3Q1-T1-Q1",
           "THYM"
          ],
          [
           "H021-EFM37HB-M2-Q1",
           "THYM"
          ],
          [
           "H021-YMGWJ2U-M1-Q1",
           "THYM"
          ]
         ],
         "hovertemplate": "Sample name: %{customdata[0]}<br>code_oncotree: %{customdata[1]}<extra></extra>",
         "legendgroup": "THYM",
         "marker": {
          "color": "#FFA15A",
          "opacity": 0.8,
          "symbol": "circle"
         },
         "mode": "markers",
         "name": "THYM",
         "scene": "scene",
         "showlegend": true,
         "type": "scatter3d",
         "x": {
          "bdata": "6KcGQRUYAkEZRSJBLFAQQSp2DUFE5AFBMmsTQZbiF0E4hBZBBu8OQQQoG0HMehRBk3MRQZgrAUEfjRZBll74QOBKF0EBtRBBnC8QQbw1D0E=",
          "dtype": "f4"
         },
         "y": {
          "bdata": "xk5tQEwTN0AmehRAMjAEQK3K7z8ewUlAQtd/QNF1JUC9GHRAvNEHQFytHEDqRh5Aozc2QB/MQECa3kpAe41VQCJxgkBj32FACA5bQHAPgUA=",
          "dtype": "f4"
         },
         "z": {
          "bdata": "lm1HP46V+j+h6Kg+yFgDQIjoxj8njpg/kAqNPzuFJj+Vub8/5JEDQLR/yT/02wU950p8PzGinD9owji+Uq8zQNryAkBPoH8/nZCHP5vYQ0A=",
          "dtype": "f4"
         }
        },
        {
         "customdata": [
          [
           "H021-7TL2GTK-M2-Q1",
           "GEJ"
          ]
         ],
         "hovertemplate": "Sample name: %{customdata[0]}<br>code_oncotree: %{customdata[1]}<extra></extra>",
         "legendgroup": "GEJ",
         "marker": {
          "color": "#19d3f3",
          "opacity": 0.8,
          "symbol": "circle"
         },
         "mode": "markers",
         "name": "GEJ",
         "scene": "scene",
         "showlegend": true,
         "type": "scatter3d",
         "x": {
          "bdata": "O28aQQ==",
          "dtype": "f4"
         },
         "y": {
          "bdata": "yPuGQA==",
          "dtype": "f4"
         },
         "z": {
          "bdata": "zw4YQA==",
          "dtype": "f4"
         }
        },
        {
         "customdata": [
          [
           "H021-5NNJUD-M1-Q1",
           "EGC"
          ],
          [
           "H021-Z3BB3X-M1-Q1",
           "EGC"
          ],
          [
           "H021-5NNJUD-M3-Q1",
           "EGC"
          ]
         ],
         "hovertemplate": "Sample name: %{customdata[0]}<br>code_oncotree: %{customdata[1]}<extra></extra>",
         "legendgroup": "EGC",
         "marker": {
          "color": "#FF6692",
          "opacity": 0.8,
          "symbol": "circle"
         },
         "mode": "markers",
         "name": "EGC",
         "scene": "scene",
         "showlegend": true,
         "type": "scatter3d",
         "x": {
          "bdata": "iQ0SQR7R+kDhc/tA",
          "dtype": "f4"
         },
         "y": {
          "bdata": "/qYKQJreikB03nhA",
          "dtype": "f4"
         },
         "z": {
          "bdata": "qFkOQDHTFEDowA1A",
          "dtype": "f4"
         }
        },
        {
         "customdata": [
          [
           "H021-6UE8LT-T1",
           "EHAE"
          ],
          [
           "H021-RMFND4-T2",
           "EHAE"
          ],
          [
           "H021-S971AK-M1",
           "EHAE"
          ],
          [
           "H021-UPQD-M1",
           "EHAE"
          ],
          [
           "H021-QC7SDC-T2",
           "EHAE"
          ],
          [
           "H021-HR2ZN1-T1-E2",
           "EHAE"
          ],
          [
           "H021-2286RM-T4-E2",
           "EHAE"
          ],
          [
           "H021-P691WD-M4-E2",
           "EHAE"
          ],
          [
           "H021-TU8PQ4-T2-E2",
           "EHAE"
          ],
          [
           "H021-Y7JNFE-T4-E2",
           "EHAE"
          ],
          [
           "H021-N65WN4-M4",
           "EHAE"
          ],
          [
           "H021-RNLR1N-M2-Q1",
           "EHAE"
          ],
          [
           "H021-38VW4Y-M2-Q1",
           "EHAE"
          ],
          [
           "H021-PHNFEA-M2-Q1",
           "EHAE"
          ],
          [
           "H021-PHNFEA-M1-Q1",
           "EHAE"
          ],
          [
           "H021-XC64RA-M2-Q1",
           "EHAE"
          ]
         ],
         "hovertemplate": "Sample name: %{customdata[0]}<br>code_oncotree: %{customdata[1]}<extra></extra>",
         "legendgroup": "EHAE",
         "marker": {
          "color": "#B6E880",
          "opacity": 0.8,
          "symbol": "circle"
         },
         "mode": "markers",
         "name": "EHAE",
         "scene": "scene",
         "showlegend": true,
         "type": "scatter3d",
         "x": {
          "bdata": "ch72QB084kBcz/xA/WQAQYiY4UCfT/FAqUztQN1i+kBKqvhA63v4QGFYEEHEk/VAE5nvQGtQE0H2VBRBsSIFQQ==",
          "dtype": "f4"
         },
         "y": {
          "bdata": "ybTtP1IpJUAo7FBA6X0LQDIXJ0AXtzhAv5I1QKstP0D8hDlAt5Q9QKbeDEDRR+s/ln5tQGeNakAiGGtAunaBQA==",
          "dtype": "f4"
         },
         "z": {
          "bdata": "Ao6KPiyDbD7Gxu2+FRTpP/H9ST4UeUi+HGfbPbuQOEBlmjFAlq80QDVvHEBYUfy9/cIgP4KCiT5n48i6G2YyPg==",
          "dtype": "f4"
         }
        },
        {
         "customdata": [
          [
           "H021-AYLJPCA-M2-Q1",
           "EMCHS"
          ]
         ],
         "hovertemplate": "Sample name: %{customdata[0]}<br>code_oncotree: %{customdata[1]}<extra></extra>",
         "legendgroup": "EMCHS",
         "marker": {
          "color": "#FF97FF",
          "opacity": 0.8,
          "symbol": "circle"
         },
         "mode": "markers",
         "name": "EMCHS",
         "scene": "scene",
         "showlegend": true,
         "type": "scatter3d",
         "x": {
          "bdata": "BvIJQQ==",
          "dtype": "f4"
         },
         "y": {
          "bdata": "nTdbQA==",
          "dtype": "f4"
         },
         "z": {
          "bdata": "DBRcPw==",
          "dtype": "f4"
         }
        },
        {
         "customdata": [
          [
           "H021-YMU2T4-M4-Q1",
           "EOV"
          ]
         ],
         "hovertemplate": "Sample name: %{customdata[0]}<br>code_oncotree: %{customdata[1]}<extra></extra>",
         "legendgroup": "EOV",
         "marker": {
          "color": "#FECB52",
          "opacity": 0.8,
          "symbol": "circle"
         },
         "mode": "markers",
         "name": "EOV",
         "scene": "scene",
         "showlegend": true,
         "type": "scatter3d",
         "x": {
          "bdata": "3uYSQQ==",
          "dtype": "f4"
         },
         "y": {
          "bdata": "xNWLQA==",
          "dtype": "f4"
         },
         "z": {
          "bdata": "3ZdDQA==",
          "dtype": "f4"
         }
        },
        {
         "customdata": [
          [
           "H021-BXQFYJ-T1",
           "EPIS"
          ],
          [
           "H021-RY13PM-M1",
           "EPIS"
          ],
          [
           "H021-ATE46U-T1",
           "EPIS"
          ],
          [
           "I011-004-9T1-P1",
           "EPIS"
          ],
          [
           "H021-EAP7LV-M1-E1",
           "EPIS"
          ],
          [
           "I002-020-0T1-P1",
           "EPIS"
          ],
          [
           "I037-009-0T1-P1",
           "EPIS"
          ],
          [
           "I018-026-1M1-P1",
           "EPIS"
          ],
          [
           "H021-DGKVVG-T1",
           "EPIS"
          ],
          [
           "H021-ATFVNK-M1",
           "EPIS"
          ],
          [
           "I070-032-0T1-P1",
           "EPIS"
          ],
          [
           "H021-HLHW2B-M1-Q1",
           "EPIS"
          ],
          [
           "I052-042-9T1-P1",
           "EPIS"
          ],
          [
           "H021-3XT28G-M1-Q1",
           "EPIS"
          ],
          [
           "H021-HLHW2B-T1-Q1",
           "EPIS"
          ]
         ],
         "hovertemplate": "Sample name: %{customdata[0]}<br>code_oncotree: %{customdata[1]}<extra></extra>",
         "legendgroup": "EPIS",
         "marker": {
          "color": "#636efa",
          "opacity": 0.8,
          "symbol": "circle"
         },
         "mode": "markers",
         "name": "EPIS",
         "scene": "scene",
         "showlegend": true,
         "type": "scatter3d",
         "x": {
          "bdata": "G339QJPFAEHR9ARB/W4SQcu2AEFZEyJBBXEjQSOeC0H6MB9BK2ggQUMnFUEoPgBBlsv6QLulAUEp3/lA",
          "dtype": "f4"
         },
         "y": {
          "bdata": "e/YOQNEnUT/hiks/rs2JP0geakD+SJ0/JkaBP7BPCED8Q7s/kjREQKCy5T8OWnlAwuEHQCx4g0A2vAVA",
          "dtype": "f4"
         },
         "z": {
          "bdata": "GDhYPzSIoT78ue+9qClBvcVl6T8c5Wk9wt/nvN/br76D7528l2/+PwwscD98/rM/1u4wvY0MpT964He9",
          "dtype": "f4"
         }
        },
        {
         "customdata": [
          [
           "I028-003-84352",
           "ERMS"
          ],
          [
           "I003-006-103006",
           "ERMS"
          ],
          [
           "I024-015-104566",
           "ERMS"
          ],
          [
           "I024-034-189638",
           "ERMS"
          ],
          [
           "I034-044-186620",
           "ERMS"
          ],
          [
           "I062-008-87120",
           "ERMS"
          ],
          [
           "I054-033-226658",
           "ERMS"
          ],
          [
           "I008-015-0T1-P1",
           "ERMS"
          ],
          [
           "I027-028-1T1-P1",
           "ERMS"
          ],
          [
           "I003-017-1M1-P1",
           "ERMS"
          ],
          [
           "I054-024-1T1-P1",
           "ERMS"
          ],
          [
           "I054-026-1T1-P1",
           "ERMS"
          ],
          [
           "I052-025-1T1-P1",
           "ERMS"
          ],
          [
           "I034-052-222996",
           "ERMS"
          ],
          [
           "I007-088-1T2-P1",
           "ERMS"
          ],
          [
           "I071-006-2T1-P1",
           "ERMS"
          ],
          [
           "I071-004-1T1-P1",
           "ERMS"
          ],
          [
           "I007-076-1T1-P1",
           "ERMS"
          ],
          [
           "I036-036-2T1-P1",
           "ERMS"
          ],
          [
           "I024-032-1T1-P1",
           "ERMS"
          ],
          [
           "I062-051-1T1-P1",
           "ERMS"
          ],
          [
           "I043-011-2M1-P1",
           "ERMS"
          ],
          [
           "I023-023-1T1-P1",
           "ERMS"
          ],
          [
           "I023-033-1T1-P1",
           "ERMS"
          ],
          [
           "I015-017-0M1-P1",
           "ERMS"
          ],
          [
           "I054-039-1T1-P1",
           "ERMS"
          ],
          [
           "I011-006-0T1-P1",
           "ERMS"
          ],
          [
           "I034-071-2T1-P1",
           "ERMS"
          ],
          [
           "I022-063-1M1-P1",
           "ERMS"
          ],
          [
           "I023-066-1T1-P1",
           "ERMS"
          ],
          [
           "I054-046-1M1-P1",
           "ERMS"
          ],
          [
           "I036-077-1T1-P1",
           "ERMS"
          ],
          [
           "I023-069-3T1-P1",
           "ERMS"
          ],
          [
           "I137-022-1T1-P1",
           "ERMS"
          ],
          [
           "I137-023-1T1-P1",
           "ERMS"
          ],
          [
           "I015-026-2M1",
           "ERMS"
          ]
         ],
         "hovertemplate": "Sample name: %{customdata[0]}<br>code_oncotree: %{customdata[1]}<extra></extra>",
         "legendgroup": "ERMS",
         "marker": {
          "color": "#EF553B",
          "opacity": 0.8,
          "symbol": "circle"
         },
         "mode": "markers",
         "name": "ERMS",
         "scene": "scene",
         "showlegend": true,
         "type": "scatter3d",
         "x": {
          "bdata": "RLMTQYG5FEF6RxJBITgTQRfHFUHEwx5Be/sZQVzVF0GMRhtBrC4UQV4PGEFseBNB4RkfQcX08UBPGOtAe+jtQGXuIUFXaRxBh6wEQbFeHUEQfx9By5AcQdTBH0GnVfVAP6cWQUiTH0E2zyFB1TILQXdpH0HQRBtBRvEeQT4dFEGwEx9Bzn0kQdizHkFFBwVB",
          "dtype": "f4"
         },
         "y": {
          "bdata": "dKDLP3a9xz95iM8/7l/7PzuP8T/vxDo/McXgPzcBgT+ACJM/8c11P8U8bz+7Q4U/G4lvP23bSECG4TZAZ5sxQFvHnj9YN4w/mn1sQJ41kj8eYqs/1ke2P+lUBj8LUTJALncOQPv0OEDNv8A/wEwdQOh2wj+4VIc/tGgEQIJyvj82w80/rQL1PxTVyT+mYa4/",
          "dtype": "f4"
         },
         "z": {
          "bdata": "9BN0vxqrhb/t+G6/0MdUv2vGfb/KQ72+6q40v3ke471/3FK+D5T9vdNFRL4DBs69LBWXvrZ1Ez4YZxG/F0YuvwVlazyd6oe/d6xAv7RxjL8zuRS/t8Vvv4dJ977Tbzq+zbXVP0T5UD8yZZW/mtPNvkVwbL+8nVq+d6LSvu8MYb/1myW/ZBHEvZtL5L6pXCU/",
          "dtype": "f4"
         }
        },
        {
         "customdata": [
          [
           "H021-CH8C8S-M3",
           "ES"
          ],
          [
           "H021-3UN257-T2-E2",
           "ES"
          ],
          [
           "I070-039-1T1-P1",
           "ES"
          ],
          [
           "I036-070-0T1-P1",
           "ES"
          ],
          [
           "H021-M4U2KM-M3",
           "ES"
          ],
          [
           "H021-9Q5CD2-M1",
           "ES"
          ],
          [
           "H021-M9ZE3G-M1-E1",
           "ES"
          ],
          [
           "H021-PL5W1B-M1-Q1",
           "ES"
          ],
          [
           "H021-AUDM8Q-M1-Q1",
           "ES"
          ],
          [
           "H021-SAE3YV-T1-Q1",
           "ES"
          ],
          [
           "H021-4J66QY-M1-Q1",
           "ES"
          ],
          [
           "I020-001-1M1-P1",
           "ES"
          ],
          [
           "I020-004-1M1-P1",
           "ES"
          ],
          [
           "H021-BUUX5Y-M1-Q1",
           "ES"
          ],
          [
           "H021-ZHQNGB-M1-Q1",
           "ES"
          ],
          [
           "I071-010-9M1-P1",
           "ES"
          ],
          [
           "I052-041-9M1-P1",
           "ES"
          ],
          [
           "I043-017-2M1-P1",
           "ES"
          ],
          [
           "I024-053-1T1-P1",
           "ES"
          ],
          [
           "I056-035-0T1-P1",
           "ES"
          ],
          [
           "I007-069-1T1-P1",
           "ES"
          ],
          [
           "I007-105-2M1-P1",
           "ES"
          ],
          [
           "I063-042-1T2-P1",
           "ES"
          ],
          [
           "I063-061-3M1-P1",
           "ES"
          ],
          [
           "I056-036-2M1-P1",
           "ES"
          ],
          [
           "I078-053-1T1-P1",
           "ES"
          ],
          [
           "H021-6XYFYE-T2-Q1",
           "ES"
          ],
          [
           "H021-ZL6K2W-M7-Q1",
           "ES"
          ],
          [
           "H021-CCNRZF-M2-Q1",
           "ES"
          ],
          [
           "H021-WP9X95-M4-Q1",
           "ES"
          ],
          [
           "H021-4SHR5Q5-M2-Q1",
           "ES"
          ],
          [
           "H021-D5EJ1B-T2-Q1",
           "ES"
          ],
          [
           "H021-CCNRZF-M8-Q1",
           "ES"
          ]
         ],
         "hovertemplate": "Sample name: %{customdata[0]}<br>code_oncotree: %{customdata[1]}<extra></extra>",
         "legendgroup": "ES",
         "marker": {
          "color": "#00cc96",
          "opacity": 0.8,
          "symbol": "circle"
         },
         "mode": "markers",
         "name": "ES",
         "scene": "scene",
         "showlegend": true,
         "type": "scatter3d",
         "x": {
          "bdata": "IFEeQQRnB0GClSNBE73nQGUIGUEiNRhBs4YgQaOxI0GYIhxBBWARQUuvGUH8nSBBnIMcQdMeDEGPjRxBcIsIQTZ6IEHgCR5Bg70NQRgWEUEn6RNBtj0UQbRYFUGvRBRBRen+QDifIEELkhZBtSwMQVWvFUHtvx9BNhoDQcwGG0H38x5B",
          "dtype": "f4"
         },
         "y": {
          "bdata": "q/aPP5/gUz/2zIs/6IIcQFbWGEDm6xZAVf01QHZoKkBoZx9AB2kHQJEPREDELTVA6+cxP/6wPUDNVRhAgAA8QEx6OEAJVxtAY4CAQK1GQkCDBhNABW4WQGemLkDPWCFAnJI1QDvWP0AKyXdAlFVvQBELLEB5jIpA/SE3QF8sREBNBE5A",
          "dtype": "f4"
         },
         "z": {
          "bdata": "ChHcPnoIVj+U6LQ8GjRIvawiGz8W7SI/n7ejvpHcEL7hgKg+zBDxu4SmAUDzKKO+5CuKvmJunr5KMb8/xrcyv+Cqtr4bNiO/LA28vgQ1Lb+HMvU+Fuf/PoVJJz/Hits+8m5EPiW2tL6VWwu+9MLgPlm6yD8cr3g/jC/1P+FoM77f3su+",
          "dtype": "f4"
         }
        },
        {
         "customdata": [
          [
           "H021-4S2DX7-M1-Q1",
           "ESCA"
          ],
          [
           "H021-B1WP5Y-M1-Q1",
           "ESCA"
          ],
          [
           "H021-FQXTR9-M1-Q1",
           "ESCA"
          ],
          [
           "H021-NU88WE-M1-Q1",
           "ESCA"
          ]
         ],
         "hovertemplate": "Sample name: %{customdata[0]}<br>code_oncotree: %{customdata[1]}<extra></extra>",
         "legendgroup": "ESCA",
         "marker": {
          "color": "#ab63fa",
          "opacity": 0.8,
          "symbol": "circle"
         },
         "mode": "markers",
         "name": "ESCA",
         "scene": "scene",
         "showlegend": true,
         "type": "scatter3d",
         "x": {
          "bdata": "JhUZQS1kDEH/DQhBHWQeQQ==",
          "dtype": "f4"
         },
         "y": {
          "bdata": "STNBQPFrg0ATYl9Aa6+HQA==",
          "dtype": "f4"
         },
         "z": {
          "bdata": "Mn2xP1HLUkAFb969kBV1Pw==",
          "dtype": "f4"
         }
        },
        {
         "customdata": [
          [
           "H021-G3NVDT-T2-Q1",
           "ESCC"
          ]
         ],
         "hovertemplate": "Sample name: %{customdata[0]}<br>code_oncotree: %{customdata[1]}<extra></extra>",
         "legendgroup": "ESCC",
         "marker": {
          "color": "#FFA15A",
          "opacity": 0.8,
          "symbol": "circle"
         },
         "mode": "markers",
         "name": "ESCC",
         "scene": "scene",
         "showlegend": true,
         "type": "scatter3d",
         "x": {
          "bdata": "XUsOQQ==",
          "dtype": "f4"
         },
         "y": {
          "bdata": "/250QA==",
          "dtype": "f4"
         },
         "z": {
          "bdata": "mdusvg==",
          "dtype": "f4"
         }
        },
        {
         "customdata": [
          [
           "H021-SU7U6F-M1-Q1",
           "ESS"
          ],
          [
           "H021-ZG87AF-M3-Q1",
           "ESS"
          ],
          [
           "H021-CUDQF2-T1-Q1",
           "ESS"
          ],
          [
           "H021-5CMLW9-M1-Q1",
           "ESS"
          ],
          [
           "H021-5CMLW9-M3-Q1",
           "ESS"
          ]
         ],
         "hovertemplate": "Sample name: %{customdata[0]}<br>code_oncotree: %{customdata[1]}<extra></extra>",
         "legendgroup": "ESS",
         "marker": {
          "color": "#19d3f3",
          "opacity": 0.8,
          "symbol": "circle"
         },
         "mode": "markers",
         "name": "ESS",
         "scene": "scene",
         "showlegend": true,
         "type": "scatter3d",
         "x": {
          "bdata": "KEYfQbPEHEEb7BlBWHIcQUb5GkE=",
          "dtype": "f4"
         },
         "y": {
          "bdata": "44eKQPfbCEDABAtAjS9hQMCHaUA=",
          "dtype": "f4"
         },
         "z": {
          "bdata": "RNx4P/8grT5SOVI/K2cUvq+SPr4=",
          "dtype": "f4"
         }
        },
        {
         "customdata": [
          [
           "H021-ZRU5JL-M1",
           "ESST"
          ],
          [
           "H021-13A4TF-M1",
           "ESST"
          ],
          [
           "H021-LBKUEJ-M2-E1",
           "ESST"
          ],
          [
           "H021-HWZUPV-M1",
           "ESST"
          ],
          [
           "H021-ZX2W8U-T1",
           "ESST"
          ],
          [
           "I024-054-1M1-P1",
           "ESST"
          ],
          [
           "I054-028-5M1-P1",
           "ESST"
          ],
          [
           "I054-042-6T1-P1",
           "ESST"
          ],
          [
           "H021-9CHMG8-M1-Q1",
           "ESST"
          ]
         ],
         "hovertemplate": "Sample name: %{customdata[0]}<br>code_oncotree: %{customdata[1]}<extra></extra>",
         "legendgroup": "ESST",
         "marker": {
          "color": "#FF6692",
          "opacity": 0.8,
          "symbol": "circle"
         },
         "mode": "markers",
         "name": "ESST",
         "scene": "scene",
         "showlegend": true,
         "type": "scatter3d",
         "x": {
          "bdata": "zP0cQd87HUHztRFByE0gQdcyIkF/FhFBLO4VQamWFUGmDx5B",
          "dtype": "f4"
         },
         "y": {
          "bdata": "IhWHP7KA1T8gsRlAzjI0QDbE/z9Ja0lAY4PjPzPECEBjFSdA",
          "dtype": "f4"
         },
         "z": {
          "bdata": "7IsJP7Yxgj9X3BU//3+gvtGIpz4TY0e/kjNzP4hKND8p4JU/",
          "dtype": "f4"
         }
        },
        {
         "customdata": [
          [
           "T20-93173-T1",
           "EWSR1::PATZ1"
          ],
          [
           "T20-93173-T1-R2",
           "EWSR1::PATZ1"
          ]
         ],
         "hovertemplate": "Sample name: %{customdata[0]}<br>code_oncotree: %{customdata[1]}<extra></extra>",
         "legendgroup": "EWSR1::PATZ1",
         "marker": {
          "color": "#B6E880",
          "opacity": 0.8,
          "symbol": "circle"
         },
         "mode": "markers",
         "name": "EWSR1::PATZ1",
         "scene": "scene",
         "showlegend": true,
         "type": "scatter3d",
         "x": {
          "bdata": "kf0NQTsMDEE=",
          "dtype": "f4"
         },
         "y": {
          "bdata": "szWTP9p/oT8=",
          "dtype": "f4"
         },
         "z": {
          "bdata": "V/Edv60cPr8=",
          "dtype": "f4"
         }
        },
        {
         "customdata": [
          [
           "H021-JKA541B-T1-Q1",
           "FDCS"
          ]
         ],
         "hovertemplate": "Sample name: %{customdata[0]}<br>code_oncotree: %{customdata[1]}<extra></extra>",
         "legendgroup": "FDCS",
         "marker": {
          "color": "#FF97FF",
          "opacity": 0.8,
          "symbol": "circle"
         },
         "mode": "markers",
         "name": "FDCS",
         "scene": "scene",
         "showlegend": true,
         "type": "scatter3d",
         "x": {
          "bdata": "i4MNQQ==",
          "dtype": "f4"
         },
         "y": {
          "bdata": "3Z+2Pw==",
          "dtype": "f4"
         },
         "z": {
          "bdata": "eWpgPw==",
          "dtype": "f4"
         }
        },
        {
         "customdata": [
          [
           "H021-314BWF-T1",
           "FIBS"
          ],
          [
           "H021-W91N9P-M1",
           "FIBS"
          ],
          [
           "H021-VTEG9B-T1",
           "FIBS"
          ],
          [
           "H021-9MQATM-M2-E1",
           "FIBS"
          ]
         ],
         "hovertemplate": "Sample name: %{customdata[0]}<br>code_oncotree: %{customdata[1]}<extra></extra>",
         "legendgroup": "FIBS",
         "marker": {
          "color": "#FECB52",
          "opacity": 0.8,
          "symbol": "circle"
         },
         "mode": "markers",
         "name": "FIBS",
         "scene": "scene",
         "showlegend": true,
         "type": "scatter3d",
         "x": {
          "bdata": "dCT7QG2W/0DrHQtBi68ZQQ==",
          "dtype": "f4"
         },
         "y": {
          "bdata": "XEPeP/VsCkD0RpU/TxjSPw==",
          "dtype": "f4"
         },
         "z": {
          "bdata": "BumGPrdh6T8G1oA8cqeePw==",
          "dtype": "f4"
         }
        },
        {
         "customdata": [
          [
           "H021-GDQGWR-T4-E1",
           "FIOS"
          ]
         ],
         "hovertemplate": "Sample name: %{customdata[0]}<br>code_oncotree: %{customdata[1]}<extra></extra>",
         "legendgroup": "FIOS",
         "marker": {
          "color": "#636efa",
          "opacity": 0.8,
          "symbol": "circle"
         },
         "mode": "markers",
         "name": "FIOS",
         "scene": "scene",
         "showlegend": true,
         "type": "scatter3d",
         "x": {
          "bdata": "pEHoQA==",
          "dtype": "f4"
         },
         "y": {
          "bdata": "EGohQA==",
          "dtype": "f4"
         },
         "z": {
          "bdata": "KabIPg==",
          "dtype": "f4"
         }
        },
        {
         "customdata": [
          [
           "H021-W3ZFUV-T1-E1",
           "GB"
          ],
          [
           "H021-S717PM-T1",
           "GB"
          ],
          [
           "H021-NTAHUW-T2-Q1",
           "GB"
          ],
          [
           "H021-NTAHUW-T1-Q1",
           "GB"
          ],
          [
           "MRI-172NW6K10-T1",
           "GB"
          ],
          [
           "MRI-1TAJAKP94-T1",
           "GB"
          ],
          [
           "H021-82JNWB-T1-Q1",
           "GB"
          ],
          [
           "MRI-1TAJAKP94-T1-R2",
           "GB"
          ],
          [
           "MRI-172NW6K10-T1-R2",
           "GB"
          ],
          [
           "H021-MNL8UP-T1-Q1",
           "GB"
          ],
          [
           "H021-NBNJR5B-T1-Q1",
           "GB"
          ]
         ],
         "hovertemplate": "Sample name: %{customdata[0]}<br>code_oncotree: %{customdata[1]}<extra></extra>",
         "legendgroup": "GB",
         "marker": {
          "color": "#EF553B",
          "opacity": 0.8,
          "symbol": "circle"
         },
         "mode": "markers",
         "name": "GB",
         "scene": "scene",
         "showlegend": true,
         "type": "scatter3d",
         "x": {
          "bdata": "1J0JQWKDHkHT/gpBX40CQeHgDkG9aD5Bj2cFQQIZQUFk7j9B27wfQdt4AkE=",
          "dtype": "f4"
         },
         "y": {
          "bdata": "eMG/P3V4CUCm6WFA4lX/Pxn0ckBm24M/NDHyPxZebD/YcHw/HtSaPwb9Y0A=",
          "dtype": "f4"
         },
         "z": {
          "bdata": "Jv6pP9vGAD8/mxI/ld0RPgHUaT4ophk+Kq5Jvp0hsD3pihQ+WULZvp/WiL0=",
          "dtype": "f4"
         }
        },
        {
         "customdata": [
          [
           "H021-3HFVRE-M1-Q1",
           "GBASC"
          ]
         ],
         "hovertemplate": "Sample name: %{customdata[0]}<br>code_oncotree: %{customdata[1]}<extra></extra>",
         "legendgroup": "GBASC",
         "marker": {
          "color": "#00cc96",
          "opacity": 0.8,
          "symbol": "circle"
         },
         "mode": "markers",
         "name": "GBASC",
         "scene": "scene",
         "showlegend": true,
         "type": "scatter3d",
         "x": {
          "bdata": "PKf7QA==",
          "dtype": "f4"
         },
         "y": {
          "bdata": "uweLQA==",
          "dtype": "f4"
         },
         "z": {
          "bdata": "Ad4uQA==",
          "dtype": "f4"
         }
        },
        {
         "customdata": [
          [
           "H021-L1MA46-M1-Q1",
           "GBC"
          ]
         ],
         "hovertemplate": "Sample name: %{customdata[0]}<br>code_oncotree: %{customdata[1]}<extra></extra>",
         "legendgroup": "GBC",
         "marker": {
          "color": "#ab63fa",
          "opacity": 0.8,
          "symbol": "circle"
         },
         "mode": "markers",
         "name": "GBC",
         "scene": "scene",
         "showlegend": true,
         "type": "scatter3d",
         "x": {
          "bdata": "7BgEQQ==",
          "dtype": "f4"
         },
         "y": {
          "bdata": "J/xAQA==",
          "dtype": "f4"
         },
         "z": {
          "bdata": "JY4IQA==",
          "dtype": "f4"
         }
        },
        {
         "customdata": [
          [
           "H021-8TH97K-T1-Q1",
           "GBM"
          ]
         ],
         "hovertemplate": "Sample name: %{customdata[0]}<br>code_oncotree: %{customdata[1]}<extra></extra>",
         "legendgroup": "GBM",
         "marker": {
          "color": "#FFA15A",
          "opacity": 0.8,
          "symbol": "circle"
         },
         "mode": "markers",
         "name": "GBM",
         "scene": "scene",
         "showlegend": true,
         "type": "scatter3d",
         "x": {
          "bdata": "O6oBQQ==",
          "dtype": "f4"
         },
         "y": {
          "bdata": "F5gGQA==",
          "dtype": "f4"
         },
         "z": {
          "bdata": "f15ePg==",
          "dtype": "f4"
         }
        },
        {
         "customdata": [
          [
           "H021-WGQSSP-M2-Q1",
           "GINET"
          ],
          [
           "H021-KKM5YL-T2",
           "GINET"
          ],
          [
           "H021-KA2Y38-M2-Q1",
           "GINET"
          ],
          [
           "H021-ZD413K-M1-Q1",
           "GINET"
          ],
          [
           "H021-GDE7ZW-M2-Q1",
           "GINET"
          ],
          [
           "H021-H2N9HR-T1-Q1",
           "GINET"
          ],
          [
           "H021-UXUUTN-M2-Q1",
           "GINET"
          ],
          [
           "H021-3UJK45P-M1-Q1",
           "GINET"
          ],
          [
           "H021-SW2NS5U-M1-Q1",
           "GINET"
          ],
          [
           "H021-W3ATXAC-M1-Q1",
           "GINET"
          ]
         ],
         "hovertemplate": "Sample name: %{customdata[0]}<br>code_oncotree: %{customdata[1]}<extra></extra>",
         "legendgroup": "GINET",
         "marker": {
          "color": "#19d3f3",
          "opacity": 0.8,
          "symbol": "circle"
         },
         "mode": "markers",
         "name": "GINET",
         "scene": "scene",
         "showlegend": true,
         "type": "scatter3d",
         "x": {
          "bdata": "CuAPQQkaDEGrdRBBWtwdQWmiDkGgyQ5BuOIMQf8XD0Hku/lA1+sQQQ==",
          "dtype": "f4"
         },
         "y": {
          "bdata": "Z7aIQP8oX0CSXVlA3DFPQBRGAkCc2P4/S2xsQMggikBoBzBAPdWIQA==",
          "dtype": "f4"
         },
         "z": {
          "bdata": "JEcbP2kJEEAZ/SY/OWi6P3K8NUBgpzVAYkhNQLnmhj9DrrI/aXqmPw==",
          "dtype": "f4"
         }
        },
        {
         "customdata": [
          [
           "H021-SM2JWB-M1-Q1",
           "GINETES"
          ],
          [
           "H021-6CGB64-M3-Q1",
           "GINETES"
          ],
          [
           "H021-Y9QDLE-M2-Q1",
           "GINETES"
          ],
          [
           "H021-6YEK7Z-M1-Q1",
           "GINETES"
          ]
         ],
         "hovertemplate": "Sample name: %{customdata[0]}<br>code_oncotree: %{customdata[1]}<extra></extra>",
         "legendgroup": "GINETES",
         "marker": {
          "color": "#FF6692",
          "opacity": 0.8,
          "symbol": "circle"
         },
         "mode": "markers",
         "name": "GINETES",
         "scene": "scene",
         "showlegend": true,
         "type": "scatter3d",
         "x": {
          "bdata": "bToYQUVhD0E8pBNB0gQaQQ==",
          "dtype": "f4"
         },
         "y": {
          "bdata": "tLlwQBoFC0Dcq3hAQFV6QA==",
          "dtype": "f4"
         },
         "z": {
          "bdata": "Z9cSQGXbM0BLfzs/4RUkPw==",
          "dtype": "f4"
         }
        },
        {
         "customdata": [
          [
           "H021-S9STPR-M1",
           "HGNES"
          ],
          [
           "H021-E3ZW37-T2-Q1",
           "HGNES"
          ],
          [
           "H021-S9STPR-U1-Q1",
           "HGNES"
          ]
         ],
         "hovertemplate": "Sample name: %{customdata[0]}<br>code_oncotree: %{customdata[1]}<extra></extra>",
         "legendgroup": "HGNES",
         "marker": {
          "color": "#B6E880",
          "opacity": 0.8,
          "symbol": "circle"
         },
         "mode": "markers",
         "name": "HGNES",
         "scene": "scene",
         "showlegend": true,
         "type": "scatter3d",
         "x": {
          "bdata": "4KgLQbm+EUFN1wtB",
          "dtype": "f4"
         },
         "y": {
          "bdata": "hpCEQItyfECzrTVA",
          "dtype": "f4"
         },
         "z": {
          "bdata": "0r7eP37GOb4qVixA",
          "dtype": "f4"
         }
        },
        {
         "customdata": [
          [
           "H021-2FV6UJ-T3",
           "GIST"
          ],
          [
           "H021-F7VR2D-T1",
           "GIST"
          ],
          [
           "H021-QL4GEW-T1",
           "GIST"
          ],
          [
           "H021-QY2Q95-M1",
           "GIST"
          ],
          [
           "H021-X2UVYS-T1",
           "GIST"
          ],
          [
           "H021-YTV8N8-M1",
           "GIST"
          ],
          [
           "I044-035-0T1-P1",
           "GIST"
          ],
          [
           "H021-BPR7MU-M1-Q1",
           "GIST"
          ],
          [
           "H021-BPR7MU-M2-Q1",
           "GIST"
          ],
          [
           "H021-B2ZH63-M1-Q1",
           "GIST"
          ],
          [
           "H021-CG5Q59-M1-Q1",
           "GIST"
          ],
          [
           "H021-ZK65BC-M1-Q1",
           "GIST"
          ],
          [
           "H021-MLZAFR-M2-Q1",
           "GIST"
          ],
          [
           "H021-TT6C32-M2-Q2",
           "GIST"
          ],
          [
           "H021-BNYT4K6-M2-Q1",
           "GIST"
          ],
          [
           "H021-ETMGAJB-M2-Q1",
           "GIST"
          ]
         ],
         "hovertemplate": "Sample name: %{customdata[0]}<br>code_oncotree: %{customdata[1]}<extra></extra>",
         "legendgroup": "GIST",
         "marker": {
          "color": "#FF97FF",
          "opacity": 0.8,
          "symbol": "circle"
         },
         "mode": "markers",
         "name": "GIST",
         "scene": "scene",
         "showlegend": true,
         "type": "scatter3d",
         "x": {
          "bdata": "BKf7QAth+EAI/AVBj8MQQYZKAUG/rBdBU44HQbhgC0Fd/BZBpjkaQVJ5BkF6EiFBFAIIQe0oBUGe1AZBbuEFQQ==",
          "dtype": "f4"
         },
         "y": {
          "bdata": "LTvaPyCR4j/RUGM/4NzlPy9vRz851tI/l95MP+PnPz/ZZ0pAVPKaP83mSz8vu90/JytcPw3ze0Bhykg/Zz5LPw==",
          "dtype": "f4"
         },
         "z": {
          "bdata": "QjQHPq2L0T40Uoa+bAkYvxm3rz5lUYa9UrNbvojiWD3pUgw/I+m3PsSHkb6hES6+ndghvgLq1T0Lg5a+6GuXvg==",
          "dtype": "f4"
         }
        },
        {
         "customdata": [
          [
           "H021-G6KYD4-T2-Q1",
           "GNBL"
          ],
          [
           "H021-AUWFSZ-T2-Q1",
           "GNBL"
          ]
         ],
         "hovertemplate": "Sample name: %{customdata[0]}<br>code_oncotree: %{customdata[1]}<extra></extra>",
         "legendgroup": "GNBL",
         "marker": {
          "color": "#FECB52",
          "opacity": 0.8,
          "symbol": "circle"
         },
         "mode": "markers",
         "name": "GNBL",
         "scene": "scene",
         "showlegend": true,
         "type": "scatter3d",
         "x": {
          "bdata": "GwEPQawpAUE=",
          "dtype": "f4"
         },
         "y": {
          "bdata": "4n7VP1htV0A=",
          "dtype": "f4"
         },
         "z": {
          "bdata": "WiuZP7Vn3Lw=",
          "dtype": "f4"
         }
        },
        {
         "customdata": [
          [
           "H021-9SJV64-T1-Q1",
           "GNOS"
          ]
         ],
         "hovertemplate": "Sample name: %{customdata[0]}<br>code_oncotree: %{customdata[1]}<extra></extra>",
         "legendgroup": "GNOS",
         "marker": {
          "color": "#636efa",
          "opacity": 0.8,
          "symbol": "circle"
         },
         "mode": "markers",
         "name": "GNOS",
         "scene": "scene",
         "showlegend": true,
         "type": "scatter3d",
         "x": {
          "bdata": "UCcDQQ==",
          "dtype": "f4"
         },
         "y": {
          "bdata": "yvEWQA==",
          "dtype": "f4"
         },
         "z": {
          "bdata": "WoGSvA==",
          "dtype": "f4"
         }
        },
        {
         "customdata": [
          [
           "H021-TS247S-T15-Q1",
           "HCC"
          ]
         ],
         "hovertemplate": "Sample name: %{customdata[0]}<br>code_oncotree: %{customdata[1]}<extra></extra>",
         "legendgroup": "HCC",
         "marker": {
          "color": "#EF553B",
          "opacity": 0.8,
          "symbol": "circle"
         },
         "mode": "markers",
         "name": "HCC",
         "scene": "scene",
         "showlegend": true,
         "type": "scatter3d",
         "x": {
          "bdata": "IA8FQQ==",
          "dtype": "f4"
         },
         "y": {
          "bdata": "1IOJQA==",
          "dtype": "f4"
         },
         "z": {
          "bdata": "5i4Wvg==",
          "dtype": "f4"
         }
        },
        {
         "customdata": [
          [
           "H021-ERDEX6-M1",
           "HCCIHCH"
          ]
         ],
         "hovertemplate": "Sample name: %{customdata[0]}<br>code_oncotree: %{customdata[1]}<extra></extra>",
         "legendgroup": "HCCIHCH",
         "marker": {
          "color": "#00cc96",
          "opacity": 0.8,
          "symbol": "circle"
         },
         "mode": "markers",
         "name": "HCCIHCH",
         "scene": "scene",
         "showlegend": true,
         "type": "scatter3d",
         "x": {
          "bdata": "WKEXQQ==",
          "dtype": "f4"
         },
         "y": {
          "bdata": "HUM5QA==",
          "dtype": "f4"
         },
         "z": {
          "bdata": "P6DyPw==",
          "dtype": "f4"
         }
        },
        {
         "customdata": [
          [
           "H021-GRT6JZ-M2-Q1",
           "HDCS"
          ]
         ],
         "hovertemplate": "Sample name: %{customdata[0]}<br>code_oncotree: %{customdata[1]}<extra></extra>",
         "legendgroup": "HDCS",
         "marker": {
          "color": "#ab63fa",
          "opacity": 0.8,
          "symbol": "circle"
         },
         "mode": "markers",
         "name": "HDCS",
         "scene": "scene",
         "showlegend": true,
         "type": "scatter3d",
         "x": {
          "bdata": "cVkHQQ==",
          "dtype": "f4"
         },
         "y": {
          "bdata": "3lCFQA==",
          "dtype": "f4"
         },
         "z": {
          "bdata": "/uw0Pg==",
          "dtype": "f4"
         }
        },
        {
         "customdata": [
          [
           "H021-YG77B33-T2-Q1",
           "HEMA"
          ]
         ],
         "hovertemplate": "Sample name: %{customdata[0]}<br>code_oncotree: %{customdata[1]}<extra></extra>",
         "legendgroup": "HEMA",
         "marker": {
          "color": "#FFA15A",
          "opacity": 0.8,
          "symbol": "circle"
         },
         "mode": "markers",
         "name": "HEMA",
         "scene": "scene",
         "showlegend": true,
         "type": "scatter3d",
         "x": {
          "bdata": "fW0AQQ==",
          "dtype": "f4"
         },
         "y": {
          "bdata": "1cyHQA==",
          "dtype": "f4"
         },
         "z": {
          "bdata": "B90DOw==",
          "dtype": "f4"
         }
        },
        {
         "customdata": [
          [
           "H021-2P6PG8-M3-Q1",
           "HGESS"
          ],
          [
           "H021-GJ85B2-T2-Q1",
           "HGESS"
          ]
         ],
         "hovertemplate": "Sample name: %{customdata[0]}<br>code_oncotree: %{customdata[1]}<extra></extra>",
         "legendgroup": "HGESS",
         "marker": {
          "color": "#19d3f3",
          "opacity": 0.8,
          "symbol": "circle"
         },
         "mode": "markers",
         "name": "HGESS",
         "scene": "scene",
         "showlegend": true,
         "type": "scatter3d",
         "x": {
          "bdata": "tv4gQY//GEE=",
          "dtype": "f4"
         },
         "y": {
          "bdata": "R7sxQI3+MEA=",
          "dtype": "f4"
         },
         "z": {
          "bdata": "ngKcvsAjDD8=",
          "dtype": "f4"
         }
        },
        {
         "customdata": [
          [
           "H021-H3MTGT-M1-Q1",
           "HGONEC"
          ],
          [
           "H021-H3MTGT-M4-Q1",
           "HGONEC"
          ]
         ],
         "hovertemplate": "Sample name: %{customdata[0]}<br>code_oncotree: %{customdata[1]}<extra></extra>",
         "legendgroup": "HGONEC",
         "marker": {
          "color": "#FF6692",
          "opacity": 0.8,
          "symbol": "circle"
         },
         "mode": "markers",
         "name": "HGONEC",
         "scene": "scene",
         "showlegend": true,
         "type": "scatter3d",
         "x": {
          "bdata": "AUPyQPhN8kA=",
          "dtype": "f4"
         },
         "y": {
          "bdata": "EBJiQLYeZEA=",
          "dtype": "f4"
         },
         "z": {
          "bdata": "zq8+QKMWNEA=",
          "dtype": "f4"
         }
        },
        {
         "customdata": [
          [
           "H021-KT4HC3-M2",
           "HGSOC"
          ],
          [
           "H021-KU88U7-M1-Q1",
           "HGSOC"
          ]
         ],
         "hovertemplate": "Sample name: %{customdata[0]}<br>code_oncotree: %{customdata[1]}<extra></extra>",
         "legendgroup": "HGSOC",
         "marker": {
          "color": "#B6E880",
          "opacity": 0.8,
          "symbol": "circle"
         },
         "mode": "markers",
         "name": "HGSOC",
         "scene": "scene",
         "showlegend": true,
         "type": "scatter3d",
         "x": {
          "bdata": "667yQPv5GUE=",
          "dtype": "f4"
         },
         "y": {
          "bdata": "fe5XQNv7SkA=",
          "dtype": "f4"
         },
         "z": {
          "bdata": "BKUqQPF11z8=",
          "dtype": "f4"
         }
        },
        {
         "customdata": [
          [
           "H021-H2JVJ6-M1",
           "HL"
          ],
          [
           "H021-W2KCYWM-M2-Q1",
           "HL"
          ]
         ],
         "hovertemplate": "Sample name: %{customdata[0]}<br>code_oncotree: %{customdata[1]}<extra></extra>",
         "legendgroup": "HL",
         "marker": {
          "color": "#FF97FF",
          "opacity": 0.8,
          "symbol": "circle"
         },
         "mode": "markers",
         "name": "HL",
         "scene": "scene",
         "showlegend": true,
         "type": "scatter3d",
         "x": {
          "bdata": "pqUQQdAS+kA=",
          "dtype": "f4"
         },
         "y": {
          "bdata": "jcIqQLj0SkA=",
          "dtype": "f4"
         },
         "z": {
          "bdata": "Acpnvn2gF74=",
          "dtype": "f4"
         }
        },
        {
         "customdata": [
          [
           "H021-N6JBU4-M1-Q1",
           "HNMUCM"
          ]
         ],
         "hovertemplate": "Sample name: %{customdata[0]}<br>code_oncotree: %{customdata[1]}<extra></extra>",
         "legendgroup": "HNMUCM",
         "marker": {
          "color": "#FECB52",
          "opacity": 0.8,
          "symbol": "circle"
         },
         "mode": "markers",
         "name": "HNMUCM",
         "scene": "scene",
         "showlegend": true,
         "type": "scatter3d",
         "x": {
          "bdata": "xAYKQQ==",
          "dtype": "f4"
         },
         "y": {
          "bdata": "t/jdPw==",
          "dtype": "f4"
         },
         "z": {
          "bdata": "WONZvg==",
          "dtype": "f4"
         }
        },
        {
         "customdata": [
          [
           "H021-FVS4WV-T2-Q1",
           "HNSC"
          ],
          [
           "H021-T1Y7HM-T1-Q1",
           "HNSC"
          ],
          [
           "H021-6G7VSLA-M1-Q1",
           "HNSC"
          ]
         ],
         "hovertemplate": "Sample name: %{customdata[0]}<br>code_oncotree: %{customdata[1]}<extra></extra>",
         "legendgroup": "HNSC",
         "marker": {
          "color": "#636efa",
          "opacity": 0.8,
          "symbol": "circle"
         },
         "mode": "markers",
         "name": "HNSC",
         "scene": "scene",
         "showlegend": true,
         "type": "scatter3d",
         "x": {
          "bdata": "Fcb0QCQr/UDZ0hZB",
          "dtype": "f4"
         },
         "y": {
          "bdata": "yMVvQF7oi0AhY45A",
          "dtype": "f4"
         },
         "z": {
          "bdata": "auIhQMzO5D+rm/Q/",
          "dtype": "f4"
         }
        },
        {
         "customdata": [
          [
           "I034-018-101046",
           "IFS"
          ],
          [
           "I007-066-3T1-P1",
           "IFS"
          ]
         ],
         "hovertemplate": "Sample name: %{customdata[0]}<br>code_oncotree: %{customdata[1]}<extra></extra>",
         "legendgroup": "IFS",
         "marker": {
          "color": "#EF553B",
          "opacity": 0.8,
          "symbol": "circle"
         },
         "mode": "markers",
         "name": "IFS",
         "scene": "scene",
         "showlegend": true,
         "type": "scatter3d",
         "x": {
          "bdata": "d78fQbqmIEE=",
          "dtype": "f4"
         },
         "y": {
          "bdata": "Nt8BP0oUvT8=",
          "dtype": "f4"
         },
         "z": {
          "bdata": "3gHtvgsZ2r4=",
          "dtype": "f4"
         }
        },
        {
         "customdata": [
          [
           "MRI-1L6685RA3-T1",
           "IHCH"
          ],
          [
           "H021-7G4A4D-M1-Q1",
           "IHCH"
          ],
          [
           "H021-BFY7EU-T1-Q1",
           "IHCH"
          ],
          [
           "H021-6PGS9W-M2-Q1",
           "IHCH"
          ],
          [
           "H021-VN7KR5-T3",
           "IHCH"
          ],
          [
           "H021-VF63R3-U3",
           "IHCH"
          ],
          [
           "H021-CN1GRW-T1",
           "IHCH"
          ],
          [
           "H021-VF63R3-M4",
           "IHCH"
          ],
          [
           "H021-LA9G3T-M1",
           "IHCH"
          ],
          [
           "H021-53VEZY-T1",
           "IHCH"
          ],
          [
           "H021-N96R7Q-T1-E1",
           "IHCH"
          ],
          [
           "H021-KAY23D-M4-Q1",
           "IHCH"
          ],
          [
           "H021-HPSK7H-M2-Q1",
           "IHCH"
          ],
          [
           "H021-NS82CZ-M1-Q1",
           "IHCH"
          ],
          [
           "H021-B8Y6CY-M5-Q1",
           "IHCH"
          ],
          [
           "H021-K7WZ2U-T1-Q1",
           "IHCH"
          ],
          [
           "H021-LA9G3T-T1-Q1",
           "IHCH"
          ],
          [
           "H021-UYZU5H-M1-Q1",
           "IHCH"
          ],
          [
           "H021-BDGRM7-T2-Q1",
           "IHCH"
          ],
          [
           "H021-QZCNXP-T2",
           "IHCH"
          ],
          [
           "H021-SF5DJT-T2",
           "IHCH"
          ],
          [
           "H021-HEZMHC-M1-Q1",
           "IHCH"
          ],
          [
           "H021-UD8F2Y-T1-Q1",
           "IHCH"
          ],
          [
           "H021-7W3EWH-T1-Q1",
           "IHCH"
          ],
          [
           "H021-NUWP8A-M2-Q1",
           "IHCH"
          ],
          [
           "H021-VFZF56-M3-Q1",
           "IHCH"
          ],
          [
           "H021-7RXXZA-M2-Q1",
           "IHCH"
          ],
          [
           "H021-PGDHY5-M2-Q1",
           "IHCH"
          ],
          [
           "H021-5F8MA6-T1-Q1",
           "IHCH"
          ],
          [
           "H021-8K4N7X-M2",
           "IHCH"
          ],
          [
           "H021-ULZHNQ-M1-Q1",
           "IHCH"
          ],
          [
           "H021-6P5GUW-M1-Q1",
           "IHCH"
          ],
          [
           "H021-8WHK8E-M1-Q1",
           "IHCH"
          ],
          [
           "H021-ZAE1BC-M2-Q1",
           "IHCH"
          ],
          [
           "H021-NBJSS8-M3-Q1",
           "IHCH"
          ],
          [
           "H021-NUFMTE-M1-Q1",
           "IHCH"
          ],
          [
           "H021-HPSK7H-M1-Q2",
           "IHCH"
          ],
          [
           "H021-SA46FB-M2-Q1",
           "IHCH"
          ],
          [
           "H021-E4ZY7YZ-M2-Q1",
           "IHCH"
          ],
          [
           "H021-N8BCH7A-M3-Q1",
           "IHCH"
          ],
          [
           "H021-3R5SQWA-M1-Q1",
           "IHCH"
          ]
         ],
         "hovertemplate": "Sample name: %{customdata[0]}<br>code_oncotree: %{customdata[1]}<extra></extra>",
         "legendgroup": "IHCH",
         "marker": {
          "color": "#00cc96",
          "opacity": 0.8,
          "symbol": "circle"
         },
         "mode": "markers",
         "name": "IHCH",
         "scene": "scene",
         "showlegend": true,
         "type": "scatter3d",
         "x": {
          "bdata": "tEcEQevpDEESuQtBQTHwQLCCFEHDrfRA/K34QO1lCUETvQhBwMENQbFbD0En5g9Bx1gCQZxzAUHb3gZBhnH5QNYrE0Gt7RRBbV0JQTgpDkEVxhJB2jUFQfHpCkE1+RFBU4f9QCEJFUEDKg1Bh18RQcBbC0EyMR1BCqQTQekQD0E7XA5BJb8OQX3PHUGuAhdBYtnwQDLiF0H6PAdBH+sWQdqIBUE=",
          "dtype": "f4"
         },
         "y": {
          "bdata": "d8yIQE/0iUCbL4NAc7uBQBagbEBDsGBAyRt3QDAAgEDUwo5A0F+BQHcbgUBXpjdAsQWGQLdShUBymj5AWVCGQCnFiUBdVYhAV+1lQIyIdkDDZW1Akil7QFtfdkCG+o5ACkCQQE/ZcUBC1zNAhH+DQMXYfEBniUtAehF6QGbSi0AzUIxAHn1dQDOsW0DQ8YFAW5qBQHf1jkBFuYJAVnCJQLEwhkA=",
          "dtype": "f4"
         },
         "z": {
          "bdata": "eCVcQH2p3D8kxtI/0b1zP6+jEUCeJTJAfUtLQPolKkAx2xFAATFNQJBBTkAnHl5AMg5cQNHiXUCIaztADo4XQJEhH0AsSRZA+1YaQOarMkB0iOg/Kb1aQN8kW0AoMcU/YN8qQLuKO0DZZwhADSneP7nM9T+C/5Q//VbuP3Xt0D+CJME/XL+pP3LS7T/KzxpARAswQJLiL0AFWAdAdnbiP8TMP0A=",
          "dtype": "f4"
         }
        },
        {
         "customdata": [
          [
           "H021-MKTPXJ-T1",
           "IMT"
          ],
          [
           "I002-025-226610",
           "IMT"
          ],
          [
           "H021-3VLCXU-M1",
           "IMT"
          ],
          [
           "H021-Q5RP8W-M3-Q1",
           "IMT"
          ],
          [
           "I063-065-1T1-P1",
           "IMT"
          ],
          [
           "H021-3Y2XW4-T1-Q1",
           "IMT"
          ]
         ],
         "hovertemplate": "Sample name: %{customdata[0]}<br>code_oncotree: %{customdata[1]}<extra></extra>",
         "legendgroup": "IMT",
         "marker": {
          "color": "#ab63fa",
          "opacity": 0.8,
          "symbol": "circle"
         },
         "mode": "markers",
         "name": "IMT",
         "scene": "scene",
         "showlegend": true,
         "type": "scatter3d",
         "x": {
          "bdata": "nvD4QHekCkFgeQNBD6wGQaIKAkGu8ghB",
          "dtype": "f4"
         },
         "y": {
          "bdata": "nioKQKMCMEA/JChAFRNnQLNbYUD0HVhA",
          "dtype": "f4"
         },
         "z": {
          "bdata": "+PKDP0RyDL/TQdc/jrK3PqwVQr8p8T0/",
          "dtype": "f4"
         }
        },
        {
         "customdata": [
          [
           "H021-UBLX5J-T4-E2",
           "INTS"
          ]
         ],
         "hovertemplate": "Sample name: %{customdata[0]}<br>code_oncotree: %{customdata[1]}<extra></extra>",
         "legendgroup": "INTS",
         "marker": {
          "color": "#FFA15A",
          "opacity": 0.8,
          "symbol": "circle"
         },
         "mode": "markers",
         "name": "INTS",
         "scene": "scene",
         "showlegend": true,
         "type": "scatter3d",
         "x": {
          "bdata": "SN4BQQ==",
          "dtype": "f4"
         },
         "y": {
          "bdata": "7eYvQA==",
          "dtype": "f4"
         },
         "z": {
          "bdata": "5WINvg==",
          "dtype": "f4"
         }
        },
        {
         "customdata": [
          [
           "H021-AV98YH-M1",
           "LCH"
          ],
          [
           "H021-C8Y1PP-M1-Q1",
           "LCH"
          ]
         ],
         "hovertemplate": "Sample name: %{customdata[0]}<br>code_oncotree: %{customdata[1]}<extra></extra>",
         "legendgroup": "LCH",
         "marker": {
          "color": "#19d3f3",
          "opacity": 0.8,
          "symbol": "circle"
         },
         "mode": "markers",
         "name": "LCH",
         "scene": "scene",
         "showlegend": true,
         "type": "scatter3d",
         "x": {
          "bdata": "8QUOQXowBUE=",
          "dtype": "f4"
         },
         "y": {
          "bdata": "qko+QJVU5D8=",
          "dtype": "f4"
         },
         "z": {
          "bdata": "xRvmvgV6oj8=",
          "dtype": "f4"
         }
        },
        {
         "customdata": [
          [
           "H021-JGJRM8-T4",
           "LGFMS"
          ],
          [
           "H021-TDDW-T1",
           "LGFMS"
          ],
          [
           "H021-4RWKD3-M3",
           "LGFMS"
          ],
          [
           "H021-RCJFWM-T1",
           "LGFMS"
          ],
          [
           "H021-83CB1G-M1-E2",
           "LGFMS"
          ],
          [
           "H021-9L4BAU-M1-E2",
           "LGFMS"
          ],
          [
           "H021-SRF1J2-T2-E1",
           "LGFMS"
          ],
          [
           "H021-J7T6N7-M1-E1",
           "LGFMS"
          ],
          [
           "H021-HSPL2T-M1-Q1",
           "LGFMS"
          ],
          [
           "H021-KR1BDV-T3-Q1",
           "LGFMS"
          ],
          [
           "H021-TAFPLZ-T1-Q1",
           "LGFMS"
          ],
          [
           "H021-TAFPLZ-T5-Q1",
           "LGFMS"
          ],
          [
           "H021-TZEK4W-U1-Q1",
           "LGFMS"
          ],
          [
           "H021-SE8CGE-T2-Q1",
           "LGFMS"
          ]
         ],
         "hovertemplate": "Sample name: %{customdata[0]}<br>code_oncotree: %{customdata[1]}<extra></extra>",
         "legendgroup": "LGFMS",
         "marker": {
          "color": "#FF6692",
          "opacity": 0.8,
          "symbol": "circle"
         },
         "mode": "markers",
         "name": "LGFMS",
         "scene": "scene",
         "showlegend": true,
         "type": "scatter3d",
         "x": {
          "bdata": "QC3+QA3tC0GAGQJBs0UJQQ1HBUGBGfZAxC0UQR4AGUG3WRRB9JoVQVka60DHQOtAXu4ZQRRVC0E=",
          "dtype": "f4"
         },
         "y": {
          "bdata": "6G1cQM7wMUCZB0s/Iv3iP7j2bz8POkhA86MOQBSGFUCmKF1A+44PQIGPDEDInBBAzjOPQMu8AkA=",
          "dtype": "f4"
         },
         "z": {
          "bdata": "dF8ivSI9Ub67M50+wkz4P8MZdD+FkCZA0u7pPxmgMT4LEe69uqkFQJL2JD8HmSM/tjIqQKbJBEA=",
          "dtype": "f4"
         }
        },
        {
         "customdata": [
          [
           "H021-ABQZJ9-M1-Q1",
           "LGSOC"
          ],
          [
           "H021-H2LZWA-M1-Q1",
           "LGSOC"
          ],
          [
           "H021-T82USU-M4-Q1",
           "LGSOC"
          ],
          [
           "H021-AUFSB1-M7-Q1",
           "LGSOC"
          ]
         ],
         "hovertemplate": "Sample name: %{customdata[0]}<br>code_oncotree: %{customdata[1]}<extra></extra>",
         "legendgroup": "LGSOC",
         "marker": {
          "color": "#B6E880",
          "opacity": 0.8,
          "symbol": "circle"
         },
         "mode": "markers",
         "name": "LGSOC",
         "scene": "scene",
         "showlegend": true,
         "type": "scatter3d",
         "x": {
          "bdata": "CSQAQTCO90DiRQJBkx0gQQ==",
          "dtype": "f4"
         },
         "y": {
          "bdata": "kz9CQLVGUUCug4NAB0VvQA==",
          "dtype": "f4"
         },
         "z": {
          "bdata": "r2Q1QDDCMkCsHb0/he7GPw==",
          "dtype": "f4"
         }
        },
        {
         "customdata": [
          [
           "H021-P9G5GE-M1-Q1",
           "LIMNET"
          ]
         ],
         "hovertemplate": "Sample name: %{customdata[0]}<br>code_oncotree: %{customdata[1]}<extra></extra>",
         "legendgroup": "LIMNET",
         "marker": {
          "color": "#FF97FF",
          "opacity": 0.8,
          "symbol": "circle"
         },
         "mode": "markers",
         "name": "LIMNET",
         "scene": "scene",
         "showlegend": true,
         "type": "scatter3d",
         "x": {
          "bdata": "kpIGQQ==",
          "dtype": "f4"
         },
         "y": {
          "bdata": "VvWKQA==",
          "dtype": "f4"
         },
         "z": {
          "bdata": "KD/CPw==",
          "dtype": "f4"
         }
        },
        {
         "customdata": [
          [
           "H021-K9SLGN-T1-Q1",
           "LIPO"
          ],
          [
           "H021-4V4XLY-T1-Q1",
           "LIPO"
          ],
          [
           "H021-M2BK2Y-M2-Q1",
           "LIPO"
          ]
         ],
         "hovertemplate": "Sample name: %{customdata[0]}<br>code_oncotree: %{customdata[1]}<extra></extra>",
         "legendgroup": "LIPO",
         "marker": {
          "color": "#FECB52",
          "opacity": 0.8,
          "symbol": "circle"
         },
         "mode": "markers",
         "name": "LIPO",
         "scene": "scene",
         "showlegend": true,
         "type": "scatter3d",
         "x": {
          "bdata": "+rIaQcSgHUFkZSBB",
          "dtype": "f4"
         },
         "y": {
          "bdata": "k/bUP7zZPEB26yVA",
          "dtype": "f4"
         },
         "z": {
          "bdata": "55BZvxTeDj/IfoI/",
          "dtype": "f4"
         }
        },
        {
         "customdata": [
          [
           "H021-G1AK84-T2-E1",
           "LM"
          ],
          [
           "H021-SERSP4-M1-Q1",
           "LM"
          ]
         ],
         "hovertemplate": "Sample name: %{customdata[0]}<br>code_oncotree: %{customdata[1]}<extra></extra>",
         "legendgroup": "LM",
         "marker": {
          "color": "#636efa",
          "opacity": 0.8,
          "symbol": "circle"
         },
         "mode": "markers",
         "name": "LM",
         "scene": "scene",
         "showlegend": true,
         "type": "scatter3d",
         "x": {
          "bdata": "lKQCQf5PFkE=",
          "dtype": "f4"
         },
         "y": {
          "bdata": "7gJpQLkSTkA=",
          "dtype": "f4"
         },
         "z": {
          "bdata": "p248Pu3EzD4=",
          "dtype": "f4"
         }
        },
        {
         "customdata": [
          [
           "H021-60KM-T1",
           "LMS"
          ],
          [
           "H021-9F8Z82-M2",
           "LMS"
          ],
          [
           "H021-EUCUU1-T3",
           "LMS"
          ],
          [
           "H021-J421-T1",
           "LMS"
          ],
          [
           "H021-L47PRH-T1",
           "LMS"
          ],
          [
           "H021-U6JPKP-T1",
           "LMS"
          ],
          [
           "H021-VD9X43-M1",
           "LMS"
          ],
          [
           "H021-VSE5MP-T2",
           "LMS"
          ],
          [
           "H021-FD8YQK-M2",
           "LMS"
          ],
          [
           "H021-RYWQDW-T4",
           "LMS"
          ],
          [
           "H021-P1DAC8-M2",
           "LMS"
          ],
          [
           "H021-2TVADY-M1",
           "LMS"
          ],
          [
           "H021-TP3SA7-T2",
           "LMS"
          ],
          [
           "H021-3FZJBT-M1-E2",
           "LMS"
          ],
          [
           "H021-FKET3M-M1-E2",
           "LMS"
          ],
          [
           "H021-5HBQ4N-M2-E2",
           "LMS"
          ],
          [
           "H021-Z24MLZ-M2",
           "LMS"
          ],
          [
           "H021-2RH2K9-T1",
           "LMS"
          ],
          [
           "H021-DXJNNJ-M1-E1",
           "LMS"
          ],
          [
           "H021-DXJNNJ-M2-E1",
           "LMS"
          ],
          [
           "H021-MP1TNY-M2",
           "LMS"
          ],
          [
           "H021-7B4P26-M4-E1",
           "LMS"
          ],
          [
           "H021-V46GT6-M1-E1",
           "LMS"
          ],
          [
           "H021-ZFKUFD-M4-E1",
           "LMS"
          ],
          [
           "H021-CL2W8H-M1-E1",
           "LMS"
          ],
          [
           "I036-018-0T1-P1",
           "LMS"
          ],
          [
           "H021-UEH1HB-M8-E1",
           "LMS"
          ],
          [
           "H021-TLCRQX-T1",
           "LMS"
          ],
          [
           "H021-EWRPWA-U3-Q1",
           "LMS"
          ],
          [
           "H021-DMVRFB-M1-Q1",
           "LMS"
          ],
          [
           "H021-7HBSFK-M1-Q1",
           "LMS"
          ],
          [
           "H021-SUWWWZ-M1-Q1",
           "LMS"
          ],
          [
           "H021-8RDP1B-T1-Q1",
           "LMS"
          ],
          [
           "H021-8LS3XY-M1-Q1",
           "LMS"
          ],
          [
           "H021-2C4N95-M4-Q1",
           "LMS"
          ],
          [
           "H021-7G1DR8-M1-Q1",
           "LMS"
          ],
          [
           "H021-9V19Y4-M1-Q1",
           "LMS"
          ],
          [
           "H021-4SM457-T1-Q1",
           "LMS"
          ],
          [
           "H021-VG824X-M2-Q1",
           "LMS"
          ],
          [
           "H021-EXW7DV-M2",
           "LMS"
          ],
          [
           "H021-HFDWTJ-T1-Q1",
           "LMS"
          ],
          [
           "H021-LAE8AJ-M2-Q1",
           "LMS"
          ],
          [
           "H021-2TMXRD-M1-Q1",
           "LMS"
          ],
          [
           "H021-XQF6X4-M1-Q1",
           "LMS"
          ],
          [
           "H021-L85AJB-M6-Q1",
           "LMS"
          ],
          [
           "H021-22JTPS-M2-Q1",
           "LMS"
          ],
          [
           "H021-HDPJV4-M2-Q1",
           "LMS"
          ],
          [
           "H021-FPSFZU-M1-Q1",
           "LMS"
          ],
          [
           "H021-D1HYBA-M1-Q1",
           "LMS"
          ],
          [
           "H021-K3L9X8-M1-Q1",
           "LMS"
          ],
          [
           "H021-T8TZDQ-M1-Q1",
           "LMS"
          ],
          [
           "H021-67S8MY-T1-Q1",
           "LMS"
          ],
          [
           "H021-1CEBJN-M1-Q1",
           "LMS"
          ],
          [
           "H021-DZLVQQ-T2-Q2",
           "LMS"
          ],
          [
           "H021-W43PCV-T3-Q1",
           "LMS"
          ],
          [
           "H021-2RUDFH-M2-Q1",
           "LMS"
          ],
          [
           "H021-47SSXZ-T1-Q1",
           "LMS"
          ],
          [
           "H021-YVV1AM-M2-Q1",
           "LMS"
          ],
          [
           "H021-8MZ7W9L-M2-Q1",
           "LMS"
          ],
          [
           "H021-L6CXBDF-M1-Q1",
           "LMS"
          ],
          [
           "H021-6YTA91T-M1-Q1",
           "LMS"
          ],
          [
           "H021-T2TUSXH-T1-Q1",
           "LMS"
          ],
          [
           "H021-UGK7SR1-M1-Q1",
           "LMS"
          ]
         ],
         "hovertemplate": "Sample name: %{customdata[0]}<br>code_oncotree: %{customdata[1]}<extra></extra>",
         "legendgroup": "LMS",
         "marker": {
          "color": "#EF553B",
          "opacity": 0.8,
          "symbol": "circle"
         },
         "mode": "markers",
         "name": "LMS",
         "scene": "scene",
         "showlegend": true,
         "type": "scatter3d",
         "x": {
          "bdata": "+YP9QGIq9EB2RPNAvE3wQNEN8EDnpPtAY6D+QBLS+0Dd5AFB2v4AQSXYAEHrnwRBogvqQDtSBkHd7QRBWakIQXHbA0HOpQhBY7TqQNNX/kCQMA1B+fDlQFSkGUHktSFBYywXQaXc8kBFOgNB/Hf7QIc2GEEh5/NAtXLzQIfcFkF5zvNAABUGQQQnIkFODgtBv0UcQTS9AkFQCQRBb9EfQZTXCkERwvhAgMz0QIWyHEHOYfRAc1QBQTwh/UBy7fBAWVcEQVvp/EAJKwRBv6/vQFZYEEFm3vBADd4CQUFOFUE+DB1BIgQBQTER8kDMm/BARTD2QHDjFkEvIAVB",
          "dtype": "f4"
         },
         "y": {
          "bdata": "+xgGQJWj0T/tYeM/8RPHPyAS0D9aKNI/m00JQERjAUCFVUk/F3hFP4rYbj9fFZc/FWbzP/PkTT8cqFM/RtW/P0gbSkC1gLs//FWGQH6hjUDqdgg/Hfw7QCXfzj+xNP0/nScgQGluoz/7iKg/QfimP2ijLUAw2XNAyKijP7aBLkDoM1hAoRQuQJS2F0BKxhdA51EAQIxrQUBvGIhAy+9oQAx/JkAb+Jw/+iOiPzBiF0CjBJw/4AcyQK/dzj87uq8/geUeQLQPsz9Dn01AZVarPyzKiUD6lWRAPeBEQHWDgkARvUlA9bIQQDCIrj/pfghAKI0bQBSjLEDsgT9A",
          "dtype": "f4"
         },
         "z": {
          "bdata": "O2wRP7/nBz8ctxE/jHMmPzNbCD9yLls/vGPjPzTPyz8r+54+hjyxPpesAD9bQkc/WjoPPyomUz8wsFc/Pam7P49Aiz/86EU/xUK2P97OGkD9Th0+eVp/P2WRnD8UMBE/I3cKP2DOYj/Bx2g/dOdnPwECYr6UbHM/f8pgPxgLCD+2mwpAsP6WvkU7zz6aWJ8/Xr+cPg3jtD67iTpA0LaoP2HJAT4QKTQ/5R1RP1+OcD5hWlw/TPi7P8UliT7gREg/6CUsPigSVj/HNe493gJhP/4u0j5GzrI/r9N6vQPx6T+MSkA/PqSoP9U1Wj85gog/xxqhPyzRyz8nFPm9",
          "dtype": "f4"
         }
        },
        {
         "customdata": [
          [
           "H021-NLVPFP-M2-Q1",
           "LNET"
          ]
         ],
         "hovertemplate": "Sample name: %{customdata[0]}<br>code_oncotree: %{customdata[1]}<extra></extra>",
         "legendgroup": "LNET",
         "marker": {
          "color": "#00cc96",
          "opacity": 0.8,
          "symbol": "circle"
         },
         "mode": "markers",
         "name": "LNET",
         "scene": "scene",
         "showlegend": true,
         "type": "scatter3d",
         "x": {
          "bdata": "BsoOQQ==",
          "dtype": "f4"
         },
         "y": {
          "bdata": "qLqPQA==",
          "dtype": "f4"
         },
         "z": {
          "bdata": "TDfrPw==",
          "dtype": "f4"
         }
        },
        {
         "customdata": [
          [
           "H021-51B2T8-M2",
           "LUACC"
          ],
          [
           "H021-YFVHVB-U1-Q1",
           "LUACC"
          ]
         ],
         "hovertemplate": "Sample name: %{customdata[0]}<br>code_oncotree: %{customdata[1]}<extra></extra>",
         "legendgroup": "LUACC",
         "marker": {
          "color": "#ab63fa",
          "opacity": 0.8,
          "symbol": "circle"
         },
         "mode": "markers",
         "name": "LUACC",
         "scene": "scene",
         "showlegend": true,
         "type": "scatter3d",
         "x": {
          "bdata": "5n4MQT2VH0E=",
          "dtype": "f4"
         },
         "y": {
          "bdata": "/YJkQK7ng0A=",
          "dtype": "f4"
         },
         "z": {
          "bdata": "rmMTQD2whD8=",
          "dtype": "f4"
         }
        },
        {
         "customdata": [
          [
           "H021-VJJ1UX-T1",
           "LUAD"
          ],
          [
           "H021-P1UTPG-M4-Q1",
           "LUAD"
          ]
         ],
         "hovertemplate": "Sample name: %{customdata[0]}<br>code_oncotree: %{customdata[1]}<extra></extra>",
         "legendgroup": "LUAD",
         "marker": {
          "color": "#FFA15A",
          "opacity": 0.8,
          "symbol": "circle"
         },
         "mode": "markers",
         "name": "LUAD",
         "scene": "scene",
         "showlegend": true,
         "type": "scatter3d",
         "x": {
          "bdata": "FlsLQbKf7UA=",
          "dtype": "f4"
         },
         "y": {
          "bdata": "bTcyQNDQekA=",
          "dtype": "f4"
         },
         "z": {
          "bdata": "7zHzP2laEEA=",
          "dtype": "f4"
         }
        },
        {
         "customdata": [
          [
           "H021-1LXQMD-M2-Q1",
           "LUAS"
          ]
         ],
         "hovertemplate": "Sample name: %{customdata[0]}<br>code_oncotree: %{customdata[1]}<extra></extra>",
         "legendgroup": "LUAS",
         "marker": {
          "color": "#19d3f3",
          "opacity": 0.8,
          "symbol": "circle"
         },
         "mode": "markers",
         "name": "LUAS",
         "scene": "scene",
         "showlegend": true,
         "type": "scatter3d",
         "x": {
          "bdata": "ICQTQQ==",
          "dtype": "f4"
         },
         "y": {
          "bdata": "YBpBQA==",
          "dtype": "f4"
         },
         "z": {
          "bdata": "bHd4Pw==",
          "dtype": "f4"
         }
        },
        {
         "customdata": [
          [
           "H021-J4RQGV-M1",
           "LUCA"
          ],
          [
           "H021-BG2P4P-M3-Q1",
           "LUCA"
          ],
          [
           "H021-C4RPTK-M1-Q1",
           "LUCA"
          ],
          [
           "H021-DMENTM8-M1-Q1-R2",
           "LUCA"
          ]
         ],
         "hovertemplate": "Sample name: %{customdata[0]}<br>code_oncotree: %{customdata[1]}<extra></extra>",
         "legendgroup": "LUCA",
         "marker": {
          "color": "#FF6692",
          "opacity": 0.8,
          "symbol": "circle"
         },
         "mode": "markers",
         "name": "LUCA",
         "scene": "scene",
         "showlegend": true,
         "type": "scatter3d",
         "x": {
          "bdata": "2lgOQTCXCUEiJhxBk3kVQQ==",
          "dtype": "f4"
         },
         "y": {
          "bdata": "ZuJwQMqnhUAonmlAf2MuQA==",
          "dtype": "f4"
         },
         "z": {
          "bdata": "a+QIQHSGrj/smPQ/om3XPw==",
          "dtype": "f4"
         }
        },
        {
         "customdata": [
          [
           "H021-BPS42D-T3-Q1",
           "LUNE"
          ],
          [
           "H021-BPS42D-T2-Q1",
           "LUNE"
          ],
          [
           "H021-YBKLGT-M1-Q1",
           "LUNE"
          ],
          [
           "H021-SKW6N9-M2-Q1",
           "LUNE"
          ],
          [
           "H021-BZKXV4-M1-Q1",
           "LUNE"
          ],
          [
           "H021-BZKXV4-M2-Q1",
           "LUNE"
          ],
          [
           "H021-EVR4X7-M2-Q1",
           "LUNE"
          ]
         ],
         "hovertemplate": "Sample name: %{customdata[0]}<br>code_oncotree: %{customdata[1]}<extra></extra>",
         "legendgroup": "LUNE",
         "marker": {
          "color": "#B6E880",
          "opacity": 0.8,
          "symbol": "circle"
         },
         "mode": "markers",
         "name": "LUNE",
         "scene": "scene",
         "showlegend": true,
         "type": "scatter3d",
         "x": {
          "bdata": "69EKQYKD80B16xFBE1kLQS2BBEEYZgRB5D0IQQ==",
          "dtype": "f4"
         },
         "y": {
          "bdata": "WLtBQMNIQUBonZVA8zWOQMhze0CmdHtAM46IQA==",
          "dtype": "f4"
         },
         "z": {
          "bdata": "cubdPyAt0D8NBQRA6ZMAQMlufj+XtpA/xZOPPw==",
          "dtype": "f4"
         }
        },
        {
         "customdata": [
          [
           "H021-MVGHWG-M6-Q1",
           "LUSC"
          ]
         ],
         "hovertemplate": "Sample name: %{customdata[0]}<br>code_oncotree: %{customdata[1]}<extra></extra>",
         "legendgroup": "LUSC",
         "marker": {
          "color": "#FF97FF",
          "opacity": 0.8,
          "symbol": "circle"
         },
         "mode": "markers",
         "name": "LUSC",
         "scene": "scene",
         "showlegend": true,
         "type": "scatter3d",
         "x": {
          "bdata": "77UIQQ==",
          "dtype": "f4"
         },
         "y": {
          "bdata": "/IQEQA==",
          "dtype": "f4"
         },
         "z": {
          "bdata": "c0qSPw==",
          "dtype": "f4"
         }
        },
        {
         "customdata": [
          [
           "H021-YBJP2NN-M1-Q1",
           "LXSC"
          ]
         ],
         "hovertemplate": "Sample name: %{customdata[0]}<br>code_oncotree: %{customdata[1]}<extra></extra>",
         "legendgroup": "LXSC",
         "marker": {
          "color": "#FECB52",
          "opacity": 0.8,
          "symbol": "circle"
         },
         "mode": "markers",
         "name": "LXSC",
         "scene": "scene",
         "showlegend": true,
         "type": "scatter3d",
         "x": {
          "bdata": "dvT3QA==",
          "dtype": "f4"
         },
         "y": {
          "bdata": "2LyMQA==",
          "dtype": "f4"
         },
         "z": {
          "bdata": "LLxGQA==",
          "dtype": "f4"
         }
        },
        {
         "customdata": [
          [
           "H021-XWSK4J-M1-Q1",
           "MAAP"
          ]
         ],
         "hovertemplate": "Sample name: %{customdata[0]}<br>code_oncotree: %{customdata[1]}<extra></extra>",
         "legendgroup": "MAAP",
         "marker": {
          "color": "#636efa",
          "opacity": 0.8,
          "symbol": "circle"
         },
         "mode": "markers",
         "name": "MAAP",
         "scene": "scene",
         "showlegend": true,
         "type": "scatter3d",
         "x": {
          "bdata": "R/kMQQ==",
          "dtype": "f4"
         },
         "y": {
          "bdata": "yKl9QA==",
          "dtype": "f4"
         },
         "z": {
          "bdata": "icRRQA==",
          "dtype": "f4"
         }
        },
        {
         "customdata": [
          [
           "H021-GSHN75-M2-Q1",
           "MBLNOS"
          ]
         ],
         "hovertemplate": "Sample name: %{customdata[0]}<br>code_oncotree: %{customdata[1]}<extra></extra>",
         "legendgroup": "MBLNOS",
         "marker": {
          "color": "#EF553B",
          "opacity": 0.8,
          "symbol": "circle"
         },
         "mode": "markers",
         "name": "MBLNOS",
         "scene": "scene",
         "showlegend": true,
         "type": "scatter3d",
         "x": {
          "bdata": "mLgXQQ==",
          "dtype": "f4"
         },
         "y": {
          "bdata": "9/QkQA==",
          "dtype": "f4"
         },
         "z": {
          "bdata": "tkunPg==",
          "dtype": "f4"
         }
        },
        {
         "customdata": [
          [
           "H021-771M6X-M1-Q1",
           "MCS"
          ],
          [
           "H021-WYJZNBF-T1-Q1",
           "MCS"
          ]
         ],
         "hovertemplate": "Sample name: %{customdata[0]}<br>code_oncotree: %{customdata[1]}<extra></extra>",
         "legendgroup": "MCS",
         "marker": {
          "color": "#00cc96",
          "opacity": 0.8,
          "symbol": "circle"
         },
         "mode": "markers",
         "name": "MCS",
         "scene": "scene",
         "showlegend": true,
         "type": "scatter3d",
         "x": {
          "bdata": "FBoMQWPdA0E=",
          "dtype": "f4"
         },
         "y": {
          "bdata": "ztEZQJkqY0A=",
          "dtype": "f4"
         },
         "z": {
          "bdata": "6TiwvZgO2T4=",
          "dtype": "f4"
         }
        },
        {
         "customdata": [
          [
           "H021-BG5MDH-M1-Q1",
           "MEL"
          ],
          [
           "H021-VGKWSY-M1-Q1",
           "MEL"
          ],
          [
           "H021-GGA4MH-M1-Q1",
           "MEL"
          ],
          [
           "H021-K7S2TE-M6-Q1",
           "MEL"
          ],
          [
           "H021-K7S2TE-M5-Q1",
           "MEL"
          ],
          [
           "H021-3FTKAW-T1-Q1",
           "MEL"
          ],
          [
           "H021-S53T4J-M1-Q1",
           "MEL"
          ],
          [
           "H021-SE7VGG-M1-Q1",
           "MEL"
          ],
          [
           "H021-DUNQJ4-T1-Q1",
           "MEL"
          ],
          [
           "H021-N9LUJG-M2-Q1",
           "MEL"
          ],
          [
           "H021-JBKVPE-M1-Q1",
           "MEL"
          ],
          [
           "H021-8KZUNK-M1-Q1",
           "MEL"
          ],
          [
           "H021-JXPXG1-T1-Q1",
           "MEL"
          ],
          [
           "H021-PMCF88-M1-Q1",
           "MEL"
          ],
          [
           "H021-F13PDS-M1-Q1",
           "MEL"
          ],
          [
           "H021-JBKVPE-M3-Q1",
           "MEL"
          ],
          [
           "H021-D56H4HZ-M1-Q1",
           "MEL"
          ],
          [
           "H021-NCZY1GC-M1-Q1",
           "MEL"
          ],
          [
           "H021-TJXM166-M1-Q1",
           "MEL"
          ],
          [
           "H021-7CYQUK9-M1-Q1",
           "MEL"
          ],
          [
           "H021-BLKEG2S-M1-Q1",
           "MEL"
          ]
         ],
         "hovertemplate": "Sample name: %{customdata[0]}<br>code_oncotree: %{customdata[1]}<extra></extra>",
         "legendgroup": "MEL",
         "marker": {
          "color": "#ab63fa",
          "opacity": 0.8,
          "symbol": "circle"
         },
         "mode": "markers",
         "name": "MEL",
         "scene": "scene",
         "showlegend": true,
         "type": "scatter3d",
         "x": {
          "bdata": "pSgEQeoUDkHHzwtBKaILQTRzFUGegQlBWOEMQXOpGUFd6QFBWXcAQY2JB0E3lR5BxyDqQFUhAUF7DAhBGWQUQUi/AUHySBFB534ZQQgg90C22vxA",
          "dtype": "f4"
         },
         "y": {
          "bdata": "7AKCQDw9I0BEnlBACpk3QPCSBECqsMU/3uE1QNl1DEBV6YFA6L2GQP0jhUBXaYRAREQkQK+GNEAGsJtAfHqdQHrdcUAMGSFAWM7eP8fzKkBYxGZA",
          "dtype": "f4"
         },
         "z": {
          "bdata": "/kWWvm4agL1hZTBAjTNyvnp0IL6x2VW9PTI3PvEtYD6SLN0/DdMbQKI0lrx36YI/GKXFPwGHvj+DCS5AsuA6P6zEAL+ftjFA19GMPxOMpT/W4b0+",
          "dtype": "f4"
         }
        },
        {
         "customdata": [
          [
           "H021-ENQC15-T1",
           "MFS"
          ],
          [
           "H021-ENQC15-T3",
           "MFS"
          ],
          [
           "H021-A7DYMS-U1",
           "MFS"
          ],
          [
           "H021-HSPL2T-M3-Q1",
           "MFS"
          ],
          [
           "H021-REMYWJ-T1-Q1",
           "MFS"
          ],
          [
           "H021-5VAWTY-M1-Q1",
           "MFS"
          ]
         ],
         "hovertemplate": "Sample name: %{customdata[0]}<br>code_oncotree: %{customdata[1]}<extra></extra>",
         "legendgroup": "MFS",
         "marker": {
          "color": "#FFA15A",
          "opacity": 0.8,
          "symbol": "circle"
         },
         "mode": "markers",
         "name": "MFS",
         "scene": "scene",
         "showlegend": true,
         "type": "scatter3d",
         "x": {
          "bdata": "gfjxQJlt8UCx6v9Ai9AEQbQ0D0EcvhRB",
          "dtype": "f4"
         },
         "y": {
          "bdata": "sVP2P8Sm8j9GaS9A36P4PxUYc0BXSJ5A",
          "dtype": "f4"
         },
         "z": {
          "bdata": "abxDv643Pb/c4uK+QY3OvLOkEr9+UzQ/",
          "dtype": "f4"
         }
        },
        {
         "customdata": [
          [
           "H021-UCNCE2-M5-Q1",
           "MGCT"
          ]
         ],
         "hovertemplate": "Sample name: %{customdata[0]}<br>code_oncotree: %{customdata[1]}<extra></extra>",
         "legendgroup": "MGCT",
         "marker": {
          "color": "#19d3f3",
          "opacity": 0.8,
          "symbol": "circle"
         },
         "mode": "markers",
         "name": "MGCT",
         "scene": "scene",
         "showlegend": true,
         "type": "scatter3d",
         "x": {
          "bdata": "GJgKQQ==",
          "dtype": "f4"
         },
         "y": {
          "bdata": "YXwGQA==",
          "dtype": "f4"
         },
         "z": {
          "bdata": "3PzMPw==",
          "dtype": "f4"
         }
        },
        {
         "customdata": [
          [
           "H0067496-T1",
           "MN1::PATZ1 "
          ],
          [
           "H0067496-T1-R2",
           "MN1::PATZ1 "
          ]
         ],
         "hovertemplate": "Sample name: %{customdata[0]}<br>code_oncotree: %{customdata[1]}<extra></extra>",
         "legendgroup": "MN1::PATZ1 ",
         "marker": {
          "color": "#FF6692",
          "opacity": 0.8,
          "symbol": "circle"
         },
         "mode": "markers",
         "name": "MN1::PATZ1 ",
         "scene": "scene",
         "showlegend": true,
         "type": "scatter3d",
         "x": {
          "bdata": "NJ8NQaH7DEE=",
          "dtype": "f4"
         },
         "y": {
          "bdata": "0QmSP0NVmT8=",
          "dtype": "f4"
         },
         "z": {
          "bdata": "F14Kv2KbMb8=",
          "dtype": "f4"
         }
        },
        {
         "customdata": [
          [
           "H021-GCYHRH-T1-Q1",
           "MNG"
          ],
          [
           "H021-N75UNZ-T2-Q1",
           "MNG"
          ]
         ],
         "hovertemplate": "Sample name: %{customdata[0]}<br>code_oncotree: %{customdata[1]}<extra></extra>",
         "legendgroup": "MNG",
         "marker": {
          "color": "#B6E880",
          "opacity": 0.8,
          "symbol": "circle"
         },
         "mode": "markers",
         "name": "MNG",
         "scene": "scene",
         "showlegend": true,
         "type": "scatter3d",
         "x": {
          "bdata": "MJsWQZsB9UA=",
          "dtype": "f4"
         },
         "y": {
          "bdata": "p4xcQCoWiEA=",
          "dtype": "f4"
         },
         "z": {
          "bdata": "sTXFPwp0+j8=",
          "dtype": "f4"
         }
        },
        {
         "customdata": [
          [
           "H021-VGVHN6-T3",
           "MPNST"
          ],
          [
           "H021-WJQEW5-T1",
           "MPNST"
          ],
          [
           "I012-003-1T1-P1",
           "MPNST"
          ],
          [
           "I007-126-1T1-P1",
           "MPNST"
          ],
          [
           "I002-019-1T1-P1",
           "MPNST"
          ],
          [
           "I049-022-XT1-P1",
           "MPNST"
          ],
          [
           "H021-VDA4RJ-M1",
           "MPNST"
          ],
          [
           "H021-93RXHR-T1-Q1",
           "MPNST"
          ],
          [
           "H021-93RXHR-T2-Q1",
           "MPNST"
          ],
          [
           "H021-8DSJKN-T1-Q1",
           "MPNST"
          ],
          [
           "H021-JDDYR6-T1-Q1",
           "MPNST"
          ],
          [
           "H021-3ZPN6C-M1-Q1",
           "MPNST"
          ],
          [
           "H021-QSF764-T1-Q1",
           "MPNST"
          ],
          [
           "H021-HG4SF7-M1-Q1",
           "MPNST"
          ],
          [
           "H021-CQK51F-M1-Q1",
           "MPNST"
          ],
          [
           "H021-FJW4LA-M1-Q1",
           "MPNST"
          ],
          [
           "H021-HGG6RY-M1-Q1",
           "MPNST"
          ]
         ],
         "hovertemplate": "Sample name: %{customdata[0]}<br>code_oncotree: %{customdata[1]}<extra></extra>",
         "legendgroup": "MPNST",
         "marker": {
          "color": "#FF97FF",
          "opacity": 0.8,
          "symbol": "circle"
         },
         "mode": "markers",
         "name": "MPNST",
         "scene": "scene",
         "showlegend": true,
         "type": "scatter3d",
         "x": {
          "bdata": "kffxQA9C5EAnUiBBdlYeQRrWHkFhrB5BQQ8MQb2WIkEjZAtBTiQRQRTs8UCf9/dAlpMVQQezAEE7kAFBAdYFQa3/BEE=",
          "dtype": "f4"
         },
         "y": {
          "bdata": "usIzQC5BKUBi6LA/FeuqP2ikEz/qlLc/xZuwP+3qI0Cc2VdAyluyP+s0WEAdXQZAwFLwP7YT3j8c/R9AJwEeQPQKN0A=",
          "dtype": "f4"
         },
         "z": {
          "bdata": "QlA5vqKZCD99XPm+KU8cvvmS474SSYg+YNmIP95XjL4ivTM+CX8VvjC2AEAh/m0/nG27vd0uxjyC5+u99FwIP0rsxT4=",
          "dtype": "f4"
         }
        },
        {
         "customdata": [
          [
           "H021-ZV4BPP-M1-Q1",
           "MPT"
          ]
         ],
         "hovertemplate": "Sample name: %{customdata[0]}<br>code_oncotree: %{customdata[1]}<extra></extra>",
         "legendgroup": "MPT",
         "marker": {
          "color": "#FECB52",
          "opacity": 0.8,
          "symbol": "circle"
         },
         "mode": "markers",
         "name": "MPT",
         "scene": "scene",
         "showlegend": true,
         "type": "scatter3d",
         "x": {
          "bdata": "DjoAQQ==",
          "dtype": "f4"
         },
         "y": {
          "bdata": "FLJDQA==",
          "dtype": "f4"
         },
         "z": {
          "bdata": "YhVLPg==",
          "dtype": "f4"
         }
        },
        {
         "customdata": [
          [
           "H021-TCPMY4-T4",
           "MRLS"
          ],
          [
           "H021-TCPMY4-T5",
           "MRLS"
          ],
          [
           "H021-M3FT7P-T1",
           "MRLS"
          ],
          [
           "H021-LHLAAT-M1",
           "MRLS"
          ],
          [
           "H021-53AP9F-M2",
           "MRLS"
          ],
          [
           "H021-FZS8RV-T1-Q1",
           "MRLS"
          ],
          [
           "H021-U3NFTQ-T1-Q1",
           "MRLS"
          ],
          [
           "H021-RNXJN3-T1-Q1",
           "MRLS"
          ],
          [
           "H021-U3NFTQ-M2-Q1",
           "MRLS"
          ],
          [
           "H021-W32KKN-T4-Q1",
           "MRLS"
          ],
          [
           "H021-MUKPC8-M1-Q1",
           "MRLS"
          ],
          [
           "H021-KM3QBW-T3-Q1",
           "MRLS"
          ],
          [
           "H021-5F7F7Q-T3-Q1",
           "MRLS"
          ],
          [
           "H021-8FG2T6-T1-Q1",
           "MRLS"
          ],
          [
           "H021-FGV5Y9-T1-Q1",
           "MRLS"
          ],
          [
           "H021-HX3DAY-T1-Q1",
           "MRLS"
          ],
          [
           "H021-U3NFTQ-T2-Q1",
           "MRLS"
          ],
          [
           "H021-HJ31TY-T1-Q1",
           "MRLS"
          ],
          [
           "H021-W32KKN-T3-Q1",
           "MRLS"
          ],
          [
           "H021-8579CD-M2-Q1",
           "MRLS"
          ],
          [
           "H021-5F7F7Q-T4-Q1",
           "MRLS"
          ],
          [
           "H021-HX3DAY-T6-Q1",
           "MRLS"
          ],
          [
           "H021-BTYDJX-M3-Q1",
           "MRLS"
          ],
          [
           "H021-NSABSY-M4-Q1",
           "MRLS"
          ],
          [
           "H021-U3WTZ3-M1-Q1",
           "MRLS"
          ],
          [
           "H021-HJ31TY-T5-Q1",
           "MRLS"
          ],
          [
           "H021-M3P13S-U1-Q1",
           "MRLS"
          ],
          [
           "H021-GGXAWN6-T2-Q1",
           "MRLS"
          ],
          [
           "H021-2ZCU8XU-M1-Q1",
           "MRLS"
          ],
          [
           "H021-FZS8RV-T4-Q1",
           "MRLS"
          ],
          [
           "H021-U72ATSC-T2-Q1",
           "MRLS"
          ],
          [
           "H021-U72ATSC-T2-Q1-R2",
           "MRLS"
          ],
          [
           "H021-5K3JA81-M2-Q1",
           "MRLS"
          ],
          [
           "H021-JEW97MA-M1-Q1",
           "MRLS"
          ],
          [
           "H021-W8216PB-M2-Q1",
           "MRLS"
          ],
          [
           "H021-HDK1RD-M8-Q1",
           "MRLS"
          ],
          [
           "H021-HDK1RD-M8-E2",
           "MRLS"
          ]
         ],
         "hovertemplate": "Sample name: %{customdata[0]}<br>code_oncotree: %{customdata[1]}<extra></extra>",
         "legendgroup": "MRLS",
         "marker": {
          "color": "#636efa",
          "opacity": 0.8,
          "symbol": "circle"
         },
         "mode": "markers",
         "name": "MRLS",
         "scene": "scene",
         "showlegend": true,
         "type": "scatter3d",
         "x": {
          "bdata": "yjH4QIKX70CIvQ5BvSUFQelPBkG4YQ5BHa3pQKQQ7EByVBpBjcIOQdO4IEE2ZBRBlgwbQS99B0ERKxtBtmoaQeK8DEGZzCBBypr2QINrIkE3ohlBmsEQQYsNBUGXoRtBcuvqQNBBHkGcgRtBBW8EQUg58EBycARB+mQEQeiz60BZBwFBea8RQVn5AUHH9QlBWiUKQQ==",
          "dtype": "f4"
         },
         "y": {
          "bdata": "mOIbQIok8j8TR4JA+L83QDunJUDilxdA8GZGQOhdSkDFwllAgRGNQE14DUAVHGJAjR1tQC2Dg0A1mEtAeZZHQMhcTUAN9hhAg0xkQOHBMEBsjnJAA+uDQB4jIkCgUWRAdX9VQBS8UkC7cUNAjCs3QA1iTkAuMTBA8Cp1QAtmL0BCjDlARDNNQKBJcEBxd0NAdzQ0QA==",
          "dtype": "f4"
         },
         "z": {
          "bdata": "lp00vp5gPb/xc6O+SX5MviFQsT6nWS0/TS8FP2c7CD/DtR9AyTUfPw3LAD+DOGy+/DxUPFu3Zj8/KOI+Afa1PmjnYz5cgbI/bQODP1ivhj9D6+k8O67nPm9ZFT+KB8A8BN8WP1/v1L6o4BM+FFUAP475Kj9Ycac/pOm9PgTqrj5UZdc/fKuSP7VvkT641wO/8H9avw==",
          "dtype": "f4"
         }
        },
        {
         "customdata": [
          [
           "H021-HC9ZD6-U1-E2",
           "MYCHS"
          ],
          [
           "H021-VEPZ3V-M1",
           "MYCHS"
          ],
          [
           "H021-K756JR-M1-Q1",
           "MYCHS"
          ],
          [
           "H021-BXZS35-M1-Q2",
           "MYCHS"
          ],
          [
           "H021-9QVK3SZ-T4-Q1",
           "MYCHS"
          ]
         ],
         "hovertemplate": "Sample name: %{customdata[0]}<br>code_oncotree: %{customdata[1]}<extra></extra>",
         "legendgroup": "MYCHS",
         "marker": {
          "color": "#EF553B",
          "opacity": 0.8,
          "symbol": "circle"
         },
         "mode": "markers",
         "name": "MYCHS",
         "scene": "scene",
         "showlegend": true,
         "type": "scatter3d",
         "x": {
          "bdata": "ej4FQXEKDkE5ePxAYW8RQUsoCEE=",
          "dtype": "f4"
         },
         "y": {
          "bdata": "ci9CPxb50z/sahxAz3SEQB30Q0A=",
          "dtype": "f4"
         },
         "z": {
          "bdata": "sZhcP+ELmj+w1sk+UlAePz6MPj8=",
          "dtype": "f4"
         }
        },
        {
         "customdata": [
          [
           "H021-KMYMSJ-M1-Q1",
           "MYEC"
          ],
          [
           "H021-G6ZY19-T1-Q1",
           "MYEC"
          ],
          [
           "H021-DBASRR-T1-Q1",
           "MYEC"
          ],
          [
           "H021-TJJY44-M1-Q1",
           "MYEC"
          ]
         ],
         "hovertemplate": "Sample name: %{customdata[0]}<br>code_oncotree: %{customdata[1]}<extra></extra>",
         "legendgroup": "MYEC",
         "marker": {
          "color": "#00cc96",
          "opacity": 0.8,
          "symbol": "circle"
         },
         "mode": "markers",
         "name": "MYEC",
         "scene": "scene",
         "showlegend": true,
         "type": "scatter3d",
         "x": {
          "bdata": "8j4HQfTuC0FBNQRBFmb4QA==",
          "dtype": "f4"
         },
         "y": {
          "bdata": "P4Q4QPCOWUC9iPQ/o7KGQA==",
          "dtype": "f4"
         },
         "z": {
          "bdata": "iYk6QEsHPz8Dee8/UEQxQA==",
          "dtype": "f4"
         }
        },
        {
         "customdata": [
          [
           "H021-FQG62Y-M1-Q1",
           "NBL"
          ]
         ],
         "hovertemplate": "Sample name: %{customdata[0]}<br>code_oncotree: %{customdata[1]}<extra></extra>",
         "legendgroup": "NBL",
         "marker": {
          "color": "#ab63fa",
          "opacity": 0.8,
          "symbol": "circle"
         },
         "mode": "markers",
         "name": "NBL",
         "scene": "scene",
         "showlegend": true,
         "type": "scatter3d",
         "x": {
          "bdata": "hh4BQQ==",
          "dtype": "f4"
         },
         "y": {
          "bdata": "MABYQA==",
          "dtype": "f4"
         },
         "z": {
          "bdata": "3GWKvQ==",
          "dtype": "f4"
         }
        },
        {
         "customdata": [
          [
           "H021-7WAHQE-M1",
           "NECNOS"
          ],
          [
           "H021-U4KEBY-M4-Q1",
           "NECNOS"
          ],
          [
           "H021-LJ2GQ7-M2-Q1",
           "NECNOS"
          ],
          [
           "H021-VECF27-M1-Q1",
           "NECNOS"
          ],
          [
           "H021-5NJ7AY-M2-Q1",
           "NECNOS"
          ],
          [
           "H021-JRJTPJ-M1-Q1",
           "NECNOS"
          ],
          [
           "H021-FRJRW6H-M1-Q1",
           "NECNOS"
          ]
         ],
         "hovertemplate": "Sample name: %{customdata[0]}<br>code_oncotree: %{customdata[1]}<extra></extra>",
         "legendgroup": "NECNOS",
         "marker": {
          "color": "#FFA15A",
          "opacity": 0.8,
          "symbol": "circle"
         },
         "mode": "markers",
         "name": "NECNOS",
         "scene": "scene",
         "showlegend": true,
         "type": "scatter3d",
         "x": {
          "bdata": "C78PQc0/D0E0rg1BfUj2QP2JF0GkOA5BTukOQQ==",
          "dtype": "f4"
         },
         "y": {
          "bdata": "CMaWQFhTfEAb7IlAJwJvQAw/gECeE2pAcBBhQA==",
          "dtype": "f4"
         },
         "z": {
          "bdata": "Feb5PwGMVkAtymM/9Ke2P1lEBECLsqw+9P11Pw==",
          "dtype": "f4"
         }
        },
        {
         "customdata": [
          [
           "PLAGL-18H01607-T2",
           "NET_PATZ1"
          ],
          [
           "PLAGL-15H01681-T2",
           "NET_PATZ1"
          ]
         ],
         "hovertemplate": "Sample name: %{customdata[0]}<br>code_oncotree: %{customdata[1]}<extra></extra>",
         "legendgroup": "NET_PATZ1",
         "marker": {
          "color": "#19d3f3",
          "opacity": 0.8,
          "symbol": "circle"
         },
         "mode": "markers",
         "name": "NET_PATZ1",
         "scene": "scene",
         "showlegend": true,
         "type": "scatter3d",
         "x": {
          "bdata": "TMUNQXIkQ0E=",
          "dtype": "f4"
         },
         "y": {
          "bdata": "XQ6ZP9DTUD8=",
          "dtype": "f4"
         },
         "z": {
          "bdata": "j4UXv+mewjs=",
          "dtype": "f4"
         }
        },
        {
         "customdata": [
          [
           "H021-M6NE5H-M1-Q1",
           "NETNOS"
          ],
          [
           "H021-MDMK2U-M1-Q1",
           "NETNOS"
          ],
          [
           "H021-EWS4CN-M1-Q1",
           "NETNOS"
          ],
          [
           "H021-4EKUZ1-M1-Q1",
           "NETNOS"
          ]
         ],
         "hovertemplate": "Sample name: %{customdata[0]}<br>code_oncotree: %{customdata[1]}<extra></extra>",
         "legendgroup": "NETNOS",
         "marker": {
          "color": "#FF6692",
          "opacity": 0.8,
          "symbol": "circle"
         },
         "mode": "markers",
         "name": "NETNOS",
         "scene": "scene",
         "showlegend": true,
         "type": "scatter3d",
         "x": {
          "bdata": "tRsLQYMnFUHgAwtBmAL+QA==",
          "dtype": "f4"
         },
         "y": {
          "bdata": "wBqSQGDPM0AQVIhArC49QA==",
          "dtype": "f4"
         },
         "z": {
          "bdata": "bxKhP9vDKEBL2s4/4WaQPw==",
          "dtype": "f4"
         }
        },
        {
         "customdata": [
          [
           "H021-E4KUFD-T1-Q1",
           "NFIB"
          ],
          [
           "H021-7V5F8B-M1-Q1",
           "NFIB"
          ]
         ],
         "hovertemplate": "Sample name: %{customdata[0]}<br>code_oncotree: %{customdata[1]}<extra></extra>",
         "legendgroup": "NFIB",
         "marker": {
          "color": "#B6E880",
          "opacity": 0.8,
          "symbol": "circle"
         },
         "mode": "markers",
         "name": "NFIB",
         "scene": "scene",
         "showlegend": true,
         "type": "scatter3d",
         "x": {
          "bdata": "ThoPQSpw70A=",
          "dtype": "f4"
         },
         "y": {
          "bdata": "T/eGQM6wgEA=",
          "dtype": "f4"
         },
         "z": {
          "bdata": "URJGQLaNhz8=",
          "dtype": "f4"
         }
        },
        {
         "customdata": [
          [
           "H021-5CAU2Y-M1-Q1",
           "NMCHN"
          ]
         ],
         "hovertemplate": "Sample name: %{customdata[0]}<br>code_oncotree: %{customdata[1]}<extra></extra>",
         "legendgroup": "NMCHN",
         "marker": {
          "color": "#FF97FF",
          "opacity": 0.8,
          "symbol": "circle"
         },
         "mode": "markers",
         "name": "NMCHN",
         "scene": "scene",
         "showlegend": true,
         "type": "scatter3d",
         "x": {
          "bdata": "3aj0QA==",
          "dtype": "f4"
         },
         "y": {
          "bdata": "NciDQA==",
          "dtype": "f4"
         },
         "z": {
          "bdata": "yU4zQA==",
          "dtype": "f4"
         }
        },
        {
         "customdata": [
          [
           "H021-XGRX3M-M3-Q1",
           "NPC"
          ],
          [
           "H021-TGM1M7-T2-Q1",
           "NPC"
          ],
          [
           "H021-3ST9QG-M2-Q1",
           "NPC"
          ]
         ],
         "hovertemplate": "Sample name: %{customdata[0]}<br>code_oncotree: %{customdata[1]}<extra></extra>",
         "legendgroup": "NPC",
         "marker": {
          "color": "#FECB52",
          "opacity": 0.8,
          "symbol": "circle"
         },
         "mode": "markers",
         "name": "NPC",
         "scene": "scene",
         "showlegend": true,
         "type": "scatter3d",
         "x": {
          "bdata": "d98UQSZoCEGT+AJB",
          "dtype": "f4"
         },
         "y": {
          "bdata": "ASyAQBbchkDqh4FA",
          "dtype": "f4"
         },
         "z": {
          "bdata": "Ch7sP6Ez1DwzvKc/",
          "dtype": "f4"
         }
        },
        {
         "customdata": [
          [
           "H021-XHRT2L-M1-E1",
           "NSCLC"
          ],
          [
           "H021-CGHL1A-M1-E1",
           "NSCLC"
          ],
          [
           "H021-QPBHCM-T2",
           "NSCLC"
          ],
          [
           "H021-DBYZ8C-M3-Q1",
           "NSCLC"
          ],
          [
           "H021-5WWWE7-T2-Q1",
           "NSCLC"
          ],
          [
           "H021-YJ3RLD-M2-Q1",
           "NSCLC"
          ],
          [
           "H021-CG1ZYH-M1-Q1",
           "NSCLC"
          ],
          [
           "H021-CG1ZYH-M2-Q1",
           "NSCLC"
          ],
          [
           "H021-3WZZDU-M1-Q1",
           "NSCLC"
          ],
          [
           "H021-S7CH4J-M5-Q1",
           "NSCLC"
          ],
          [
           "H021-6YA6W3H-M1-Q1",
           "NSCLC"
          ]
         ],
         "hovertemplate": "Sample name: %{customdata[0]}<br>code_oncotree: %{customdata[1]}<extra></extra>",
         "legendgroup": "NSCLC",
         "marker": {
          "color": "#636efa",
          "opacity": 0.8,
          "symbol": "circle"
         },
         "mode": "markers",
         "name": "NSCLC",
         "scene": "scene",
         "showlegend": true,
         "type": "scatter3d",
         "x": {
          "bdata": "6+MPQY0gCUH2VBVBv54LQaL08EAEgQdB+1cfQfWDIUGA5PpAG7AYQV2XEEE=",
          "dtype": "f4"
         },
         "y": {
          "bdata": "T4NxQI9TMEDBmlRAF65vQH2gZEA5hm9AsadpQA3rRkBUUYJAcyeOQEezdkA=",
          "dtype": "f4"
         },
         "z": {
          "bdata": "ncnJP3bo0T9jHZw+Ns4VQG51AkD7eVZAG0bDP5Fb8D/ymn0//z8wQDkmrT8=",
          "dtype": "f4"
         }
        },
        {
         "customdata": [
          [
           "H021-8JDE58-M2-Q1",
           "NSGCRT"
          ]
         ],
         "hovertemplate": "Sample name: %{customdata[0]}<br>code_oncotree: %{customdata[1]}<extra></extra>",
         "legendgroup": "NSGCRT",
         "marker": {
          "color": "#EF553B",
          "opacity": 0.8,
          "symbol": "circle"
         },
         "mode": "markers",
         "name": "NSGCRT",
         "scene": "scene",
         "showlegend": true,
         "type": "scatter3d",
         "x": {
          "bdata": "bUANQQ==",
          "dtype": "f4"
         },
         "y": {
          "bdata": "1gqZQA==",
          "dtype": "f4"
         },
         "z": {
          "bdata": "kEX6Pw==",
          "dtype": "f4"
         }
        },
        {
         "customdata": [
          [
           "H021-1GB4TR-M1",
           "NSGCT"
          ],
          [
           "H021-UAGXU2-M1-Q1",
           "NSGCT"
          ],
          [
           "H021-FWBZ2B-T1-Q1",
           "NSGCT"
          ],
          [
           "H021-9MAQ9R-M2-Q1",
           "NSGCT"
          ],
          [
           "H021-6ZLCLY-M1-Q1",
           "NSGCT"
          ],
          [
           "H021-D97Y7X-M1-Q1",
           "NSGCT"
          ],
          [
           "H021-E7B8Q3D-M1-Q1",
           "NSGCT"
          ]
         ],
         "hovertemplate": "Sample name: %{customdata[0]}<br>code_oncotree: %{customdata[1]}<extra></extra>",
         "legendgroup": "NSGCT",
         "marker": {
          "color": "#00cc96",
          "opacity": 0.8,
          "symbol": "circle"
         },
         "mode": "markers",
         "name": "NSGCT",
         "scene": "scene",
         "showlegend": true,
         "type": "scatter3d",
         "x": {
          "bdata": "9bgKQWG5AUGjWgdBhgUQQal+C0EgkfVA2JX8QA==",
          "dtype": "f4"
         },
         "y": {
          "bdata": "RSolQK0MKECatlFAcAE3QDhGjkAr2klAS/B2QA==",
          "dtype": "f4"
         },
         "z": {
          "bdata": "khrhP4WaDkD3lEdAlMEsQMnfHEDCrdY/hk4wQA==",
          "dtype": "f4"
         }
        },
        {
         "customdata": [
          [
           "H021-BKDX6Z-M1-Q1",
           "NST"
          ],
          [
           "H021-BKDX6Z-M2-Q1",
           "NST"
          ]
         ],
         "hovertemplate": "Sample name: %{customdata[0]}<br>code_oncotree: %{customdata[1]}<extra></extra>",
         "legendgroup": "NST",
         "marker": {
          "color": "#ab63fa",
          "opacity": 0.8,
          "symbol": "circle"
         },
         "mode": "markers",
         "name": "NST",
         "scene": "scene",
         "showlegend": true,
         "type": "scatter3d",
         "x": {
          "bdata": "JocCQR/GAkE=",
          "dtype": "f4"
         },
         "y": {
          "bdata": "t198QJ3DfUA=",
          "dtype": "f4"
         },
         "z": {
          "bdata": "/ukEv/H8FL8=",
          "dtype": "f4"
         }
        },
        {
         "customdata": [
          [
           "H021-HC6UFK-M4-Q1",
           "NUTCL"
          ],
          [
           "H021-HC6UFK-M1-Q1",
           "NUTCL"
          ]
         ],
         "hovertemplate": "Sample name: %{customdata[0]}<br>code_oncotree: %{customdata[1]}<extra></extra>",
         "legendgroup": "NUTCL",
         "marker": {
          "color": "#FFA15A",
          "opacity": 0.8,
          "symbol": "circle"
         },
         "mode": "markers",
         "name": "NUTCL",
         "scene": "scene",
         "showlegend": true,
         "type": "scatter3d",
         "x": {
          "bdata": "ps8PQadIEkE=",
          "dtype": "f4"
         },
         "y": {
          "bdata": "m5FoQLg3ZUA=",
          "dtype": "f4"
         },
         "z": {
          "bdata": "TQ7/vjBBub4=",
          "dtype": "f4"
         }
        },
        {
         "customdata": [
          [
           "H021-CAR71R-T1-Q1",
           "OCSC"
          ],
          [
           "H021-FXWHRF-T1-Q1",
           "OCSC"
          ]
         ],
         "hovertemplate": "Sample name: %{customdata[0]}<br>code_oncotree: %{customdata[1]}<extra></extra>",
         "legendgroup": "OCSC",
         "marker": {
          "color": "#19d3f3",
          "opacity": 0.8,
          "symbol": "circle"
         },
         "mode": "markers",
         "name": "OCSC",
         "scene": "scene",
         "showlegend": true,
         "type": "scatter3d",
         "x": {
          "bdata": "SDj7QFovDkE=",
          "dtype": "f4"
         },
         "y": {
          "bdata": "/b6FQL4D/D8=",
          "dtype": "f4"
         },
         "z": {
          "bdata": "IvEzQPYvN0A=",
          "dtype": "f4"
         }
        },
        {
         "customdata": [
          [
           "H021-JAYS1K-M2-Q1",
           "OGCT"
          ]
         ],
         "hovertemplate": "Sample name: %{customdata[0]}<br>code_oncotree: %{customdata[1]}<extra></extra>",
         "legendgroup": "OGCT",
         "marker": {
          "color": "#FF6692",
          "opacity": 0.8,
          "symbol": "circle"
         },
         "mode": "markers",
         "name": "OGCT",
         "scene": "scene",
         "showlegend": true,
         "type": "scatter3d",
         "x": {
          "bdata": "IQsaQQ==",
          "dtype": "f4"
         },
         "y": {
          "bdata": "GS1VQA==",
          "dtype": "f4"
         },
         "z": {
          "bdata": "cYn/Pw==",
          "dtype": "f4"
         }
        },
        {
         "customdata": [
          [
           "H021-GJ7PUN-M2-Q1",
           "OMGCT"
          ]
         ],
         "hovertemplate": "Sample name: %{customdata[0]}<br>code_oncotree: %{customdata[1]}<extra></extra>",
         "legendgroup": "OMGCT",
         "marker": {
          "color": "#B6E880",
          "opacity": 0.8,
          "symbol": "circle"
         },
         "mode": "markers",
         "name": "OMGCT",
         "scene": "scene",
         "showlegend": true,
         "type": "scatter3d",
         "x": {
          "bdata": "o9IOQQ==",
          "dtype": "f4"
         },
         "y": {
          "bdata": "SjCAQA==",
          "dtype": "f4"
         },
         "z": {
          "bdata": "THz9Pw==",
          "dtype": "f4"
         }
        },
        {
         "customdata": [
          [
           "H021-QX9D21-M5-Q1",
           "ONBL"
          ]
         ],
         "hovertemplate": "Sample name: %{customdata[0]}<br>code_oncotree: %{customdata[1]}<extra></extra>",
         "legendgroup": "ONBL",
         "marker": {
          "color": "#FF97FF",
          "opacity": 0.8,
          "symbol": "circle"
         },
         "mode": "markers",
         "name": "ONBL",
         "scene": "scene",
         "showlegend": true,
         "type": "scatter3d",
         "x": {
          "bdata": "YDkSQQ==",
          "dtype": "f4"
         },
         "y": {
          "bdata": "4N0fQA==",
          "dtype": "f4"
         },
         "z": {
          "bdata": "faECQA==",
          "dtype": "f4"
         }
        },
        {
         "customdata": [
          [
           "K50K-2BZZJ9-M12-Q1",
           "OOVC"
          ],
          [
           "H021-EM4KY3-M1-Q1",
           "OOVC"
          ],
          [
           "H021-4JZ13LZ-M1-Q1",
           "OOVC"
          ],
          [
           "H021-4JZ13LZ-M1-Q1-R2",
           "OOVC"
          ],
          [
           "H021-EM4KY3-M1-Q1-R2",
           "OOVC"
          ]
         ],
         "hovertemplate": "Sample name: %{customdata[0]}<br>code_oncotree: %{customdata[1]}<extra></extra>",
         "legendgroup": "OOVC",
         "marker": {
          "color": "#FECB52",
          "opacity": 0.8,
          "symbol": "circle"
         },
         "mode": "markers",
         "name": "OOVC",
         "scene": "scene",
         "showlegend": true,
         "type": "scatter3d",
         "x": {
          "bdata": "rrgFQfxgAEGJ/hJBnVkRQab2/0A=",
          "dtype": "f4"
         },
         "y": {
          "bdata": "UfkjQLejXUD7zWBAhMscQAdXXEA=",
          "dtype": "f4"
         },
         "z": {
          "bdata": "OaQcQKM5TEC/psQ/Aj7EPzmsSUA=",
          "dtype": "f4"
         }
        },
        {
         "customdata": [
          [
           "H021-HK6LKB-M2-Q1",
           "OPHSC"
          ]
         ],
         "hovertemplate": "Sample name: %{customdata[0]}<br>code_oncotree: %{customdata[1]}<extra></extra>",
         "legendgroup": "OPHSC",
         "marker": {
          "color": "#636efa",
          "opacity": 0.8,
          "symbol": "circle"
         },
         "mode": "markers",
         "name": "OPHSC",
         "scene": "scene",
         "showlegend": true,
         "type": "scatter3d",
         "x": {
          "bdata": "94IDQQ==",
          "dtype": "f4"
         },
         "y": {
          "bdata": "hdd3QA==",
          "dtype": "f4"
         },
         "z": {
          "bdata": "tuk3QA==",
          "dtype": "f4"
         }
        },
        {
         "customdata": [
          [
           "H021-U9DSGU-M4",
           "OS"
          ],
          [
           "I005-017-1T1-P1",
           "OS"
          ],
          [
           "H021-JNQHBW-T4",
           "OS"
          ],
          [
           "H021-276R4H-M1",
           "OS"
          ],
          [
           "H021-638DT1-M1-Q1",
           "OS"
          ],
          [
           "H021-NSM3WK-M2-Q1",
           "OS"
          ],
          [
           "H021-Z58MC6-T1-Q1",
           "OS"
          ],
          [
           "H021-2QHQ5L-T1-Q1",
           "OS"
          ],
          [
           "H021-ASGGYF-M2-Q1",
           "OS"
          ],
          [
           "H021-Q2Y3CU-M1-Q1",
           "OS"
          ],
          [
           "H021-3CTF21-M1-Q1",
           "OS"
          ],
          [
           "H021-VJLEN9-M2-Q1",
           "OS"
          ],
          [
           "H021-AA5PGM-M1-Q1",
           "OS"
          ],
          [
           "H021-E4YMD9-M2-Q1",
           "OS"
          ],
          [
           "H021-SGDGN1-T1-Q1",
           "OS"
          ],
          [
           "H021-4E6V4E-M3-Q1",
           "OS"
          ],
          [
           "H021-6T3FCU-M2-Q1",
           "OS"
          ],
          [
           "H021-LGHE1F-T2-Q1",
           "OS"
          ],
          [
           "H021-6T3FCU-M2-Q1-R2",
           "OS"
          ],
          [
           "H021-TF6K5J-U3-Q1",
           "OS"
          ],
          [
           "H021-TF6K5J-U4-Q1",
           "OS"
          ],
          [
           "H021-TE436X-M1-Q1",
           "OS"
          ],
          [
           "H021-B9RN5X-T1",
           "OS"
          ],
          [
           "H021-HQC7AD-T1",
           "OS"
          ],
          [
           "H021-W2LFQY-M3",
           "OS"
          ],
          [
           "H021-XT1SE3-T1",
           "OS"
          ],
          [
           "H021-8BZJ5J-M2-E3",
           "OS"
          ],
          [
           "H021-6PN8FL-M2-Q1",
           "OS"
          ],
          [
           "H021-RWZQJE-M1-Q1",
           "OS"
          ],
          [
           "H021-ASGGYF-M3-Q1",
           "OS"
          ],
          [
           "H021-DRDJE6-M5-Q1",
           "OS"
          ],
          [
           "H021-G1VJWJ-M1-Q1",
           "OS"
          ],
          [
           "H021-1RR46G-T2",
           "OS"
          ]
         ],
         "hovertemplate": "Sample name: %{customdata[0]}<br>code_oncotree: %{customdata[1]}<extra></extra>",
         "legendgroup": "OS",
         "marker": {
          "color": "#EF553B",
          "opacity": 0.8,
          "symbol": "circle"
         },
         "mode": "markers",
         "name": "OS",
         "scene": "scene",
         "showlegend": true,
         "type": "scatter3d",
         "x": {
          "bdata": "rH8JQSxY60AC4/NAmQ/xQNWrEkHAAgZBc0IQQbgmHUHhvAhBo8cVQQhK70BWtRRBdPLmQNBnEUHM0BBBJEMHQbh7CEG8IQlB2IX9QGoDBEH7fAZBDGkAQRHKAEEvCfpA+Uv5QP7LBkFeaQxBlNwaQdd3BUGyaBZB4tMHQW8dG0ER5Q9B",
          "dtype": "f4"
         },
         "y": {
          "bdata": "lUvDPyU8OECVFglAae8UQPLUWUBMhhBA8zE3QDKlCkAg8iFAcGrnP/x3KEDbROA/fD1sQLNpL0AcvS1AWRMcQAMhQUCrJTJA1exzQLsGN0BZ5TJAEYBkQNZyFkBXowlAI7obQHceCUCCehU/uVsqQDXed0Cmw29ARxD3P3C1gEBQ8Ok/",
          "dtype": "f4"
         },
         "z": {
          "bdata": "N3DBP/8GCb+F3iE/ujlUP1Ya9b73EZi+dzSwvKc3VT6lMx++b5A8v+8eSj+lw28+rkbjP3xpBz92vqe9D6q4vgpa0j+4f8k+VCoIQM9wAT9xhtM+v8pAPgSgRj9iO7E+Plv2PxEYOb5SX0I+UGAyvukvej856jG+IeIzPxFq/j/OV8G+",
          "dtype": "f4"
         }
        },
        {
         "customdata": [
          [
           "H021-6K4J7F-M1-Q1",
           "OVT"
          ],
          [
           "H021-2ATANY-M1-Q1",
           "OVT"
          ]
         ],
         "hovertemplate": "Sample name: %{customdata[0]}<br>code_oncotree: %{customdata[1]}<extra></extra>",
         "legendgroup": "OVT",
         "marker": {
          "color": "#00cc96",
          "opacity": 0.8,
          "symbol": "circle"
         },
         "mode": "markers",
         "name": "OVT",
         "scene": "scene",
         "showlegend": true,
         "type": "scatter3d",
         "x": {
          "bdata": "zp8KQVUV80A=",
          "dtype": "f4"
         },
         "y": {
          "bdata": "h9iAQPv2Z0A=",
          "dtype": "f4"
         },
         "z": {
          "bdata": "UdUgv8pjM0A=",
          "dtype": "f4"
         }
        },
        {
         "customdata": [
          [
           "H021-72EE9L-M1-Q1",
           "OYST"
          ]
         ],
         "hovertemplate": "Sample name: %{customdata[0]}<br>code_oncotree: %{customdata[1]}<extra></extra>",
         "legendgroup": "OYST",
         "marker": {
          "color": "#ab63fa",
          "opacity": 0.8,
          "symbol": "circle"
         },
         "mode": "markers",
         "name": "OYST",
         "scene": "scene",
         "showlegend": true,
         "type": "scatter3d",
         "x": {
          "bdata": "LjvvQA==",
          "dtype": "f4"
         },
         "y": {
          "bdata": "HF2CQA==",
          "dtype": "f4"
         },
         "z": {
          "bdata": "wfxxPw==",
          "dtype": "f4"
         }
        },
        {
         "customdata": [
          [
           "H021-4RAFXW-M1-Q1",
           "PAAC"
          ],
          [
           "H021-ASPVRN-M1-Q1",
           "PAAC"
          ]
         ],
         "hovertemplate": "Sample name: %{customdata[0]}<br>code_oncotree: %{customdata[1]}<extra></extra>",
         "legendgroup": "PAAC",
         "marker": {
          "color": "#FFA15A",
          "opacity": 0.8,
          "symbol": "circle"
         },
         "mode": "markers",
         "name": "PAAC",
         "scene": "scene",
         "showlegend": true,
         "type": "scatter3d",
         "x": {
          "bdata": "avYTQTxxA0E=",
          "dtype": "f4"
         },
         "y": {
          "bdata": "ZERAQNcqh0A=",
          "dtype": "f4"
         },
         "z": {
          "bdata": "QHQvQDnlyD8=",
          "dtype": "f4"
         }
        },
        {
         "customdata": [
          [
           "H021-BMSJ6E-M2",
           "PAAD"
          ],
          [
           "H021-Z9GP1T-M2-Q1",
           "PAAD"
          ],
          [
           "H021-7GGVNW-T4-Q1",
           "PAAD"
          ],
          [
           "H021-C9AZ42-M2-Q1",
           "PAAD"
          ],
          [
           "H021-4LVFZ7-M13-Q1",
           "PAAD"
          ],
          [
           "H021-1HTTJF-M1-Q1",
           "PAAD"
          ],
          [
           "H021-C9AZ42-M5-Q1",
           "PAAD"
          ],
          [
           "H021-V8C818-M1-Q1",
           "PAAD"
          ],
          [
           "H021-CHLHM6-M1-Q1",
           "PAAD"
          ],
          [
           "H021-7E73SU-M1-Q1",
           "PAAD"
          ],
          [
           "H021-3SG1C4-T1-Q1",
           "PAAD"
          ],
          [
           "H021-H3L53D-M1-Q1",
           "PAAD"
          ],
          [
           "H021-N9RAUJ-T5-Q1",
           "PAAD"
          ],
          [
           "H021-2P1PDF-M1-Q1",
           "PAAD"
          ],
          [
           "H021-23NL3F-M1-Q1",
           "PAAD"
          ],
          [
           "H021-T48DPS-M2-Q1",
           "PAAD"
          ]
         ],
         "hovertemplate": "Sample name: %{customdata[0]}<br>code_oncotree: %{customdata[1]}<extra></extra>",
         "legendgroup": "PAAD",
         "marker": {
          "color": "#19d3f3",
          "opacity": 0.8,
          "symbol": "circle"
         },
         "mode": "markers",
         "name": "PAAD",
         "scene": "scene",
         "showlegend": true,
         "type": "scatter3d",
         "x": {
          "bdata": "jWkFQeTO/kBWXPBAR18FQQTLAkGAdvtAZdP8QB5ID0FI2gtBua0JQVYSBEGj1hJBl0oGQdJEDUFqkxRBL/kRQQ==",
          "dtype": "f4"
         },
         "y": {
          "bdata": "YXiOQGRHgUAm42hA0ulzQL2TYECun4ZAOAp2QAL7l0BYYIFAYHeCQPZCkkBhGIJA9uRfQNIjDkCHuIdA3WRSQA==",
          "dtype": "f4"
         },
         "z": {
          "bdata": "ricoQCkTBUCTjQtAHSpZQBfYT0ALPgdA/ShPQCdiCUBkdU1AaB7CP1FdCECNiDpAIlVPQG0hP0D8WgZAuQYKQA==",
          "dtype": "f4"
         }
        },
        {
         "customdata": [
          [
           "H021-XJ7U46-M1-Q1",
           "PACT"
          ],
          [
           "H021-U6GX54-M3",
           "PACT"
          ]
         ],
         "hovertemplate": "Sample name: %{customdata[0]}<br>code_oncotree: %{customdata[1]}<extra></extra>",
         "legendgroup": "PACT",
         "marker": {
          "color": "#FF6692",
          "opacity": 0.8,
          "symbol": "circle"
         },
         "mode": "markers",
         "name": "PACT",
         "scene": "scene",
         "showlegend": true,
         "type": "scatter3d",
         "x": {
          "bdata": "ftQbQYSkD0E=",
          "dtype": "f4"
         },
         "y": {
          "bdata": "4Fk3QMOM0D8=",
          "dtype": "f4"
         },
         "z": {
          "bdata": "BfwTQCbLkj8=",
          "dtype": "f4"
         }
        },
        {
         "customdata": [
          [
           "H021-Q9DTLGU-M1-Q1",
           "PANET"
          ],
          [
           "H021-PZ248J-M2",
           "PANET"
          ],
          [
           "H021-QJF2SL-M2",
           "PANET"
          ],
          [
           "H021-U7NB3J-M7",
           "PANET"
          ],
          [
           "H021-T7KGC4-M3-Q1",
           "PANET"
          ],
          [
           "H021-4VJZW2-M6-Q1",
           "PANET"
          ],
          [
           "H021-BSMKHF-M1-Q1",
           "PANET"
          ],
          [
           "H021-YJECTB-M1-Q1",
           "PANET"
          ],
          [
           "H021-W9S39T-M1",
           "PANET"
          ],
          [
           "H021-18FRJJ-M5-Q1",
           "PANET"
          ],
          [
           "H021-G1XT3E-T3-Q1",
           "PANET"
          ],
          [
           "H021-GEY8HJ-M2-Q1",
           "PANET"
          ],
          [
           "H021-3HP1HA-M1-Q1",
           "PANET"
          ],
          [
           "H021-GS351U-M1-Q1",
           "PANET"
          ],
          [
           "H021-SKBNGP-M4-Q1",
           "PANET"
          ],
          [
           "H021-7NB7BX-M3-Q1",
           "PANET"
          ],
          [
           "H021-AGUNAEQ-M2-Q1",
           "PANET"
          ],
          [
           "H021-SDFZB4X-M3-Q1",
           "PANET"
          ],
          [
           "H021-GAYFAQ3-M1-Q1",
           "PANET"
          ],
          [
           "H021-4DXUZJ6-M1-Q1",
           "PANET"
          ],
          [
           "H021-YJECTB-M4-Q1",
           "PANET"
          ]
         ],
         "hovertemplate": "Sample name: %{customdata[0]}<br>code_oncotree: %{customdata[1]}<extra></extra>",
         "legendgroup": "PANET",
         "marker": {
          "color": "#B6E880",
          "opacity": 0.8,
          "symbol": "circle"
         },
         "mode": "markers",
         "name": "PANET",
         "scene": "scene",
         "showlegend": true,
         "type": "scatter3d",
         "x": {
          "bdata": "Pm4XQXMjCkGOwwlBFuAmQc9zG0HcAPJAuQIVQSALFkFqahJBE+QSQRIMEUHJqhNBE4gOQS3FHUFoKRJBEtwRQZi2D0EMgA9BhI8hQQkuCUFyWhZB",
          "dtype": "f4"
         },
         "y": {
          "bdata": "GT96QAvLOkBI4jdAcK8nQLvBckBfzlhAqF1PQKYqikAY84BAmc6RQHavlUDzkX5Arrj9PxgWjEA6q4JAu4OTQE3NikDiAopAFORUQLeLgkBDGY1A",
          "dtype": "f4"
         },
         "z": {
          "bdata": "gGYdQIAMTUBviTxAVoFNPiRME0Dps+4+86YoQGFmrj8//9g/JUbMP45e2j8B2AU/cms0QMJ9oj93CrE/K43wP0u3Wj+FaSs/KsM9vojR5T+w/c4/",
          "dtype": "f4"
         }
        },
        {
         "customdata": [
          [
           "MRI-12CR9MVK1-T1",
           "PANCREAS"
          ],
          [
           "MRI-18QMKAKH5-T1",
           "PANCREAS"
          ],
          [
           "MRI-17PUNKU84-T1",
           "PANCREAS"
          ],
          [
           "MRI-1AK0RPN35-T1",
           "PANCREAS"
          ]
         ],
         "hovertemplate": "Sample name: %{customdata[0]}<br>code_oncotree: %{customdata[1]}<extra></extra>",
         "legendgroup": "PANCREAS",
         "marker": {
          "color": "#FF97FF",
          "opacity": 0.8,
          "symbol": "circle"
         },
         "mode": "markers",
         "name": "PANCREAS",
         "scene": "scene",
         "showlegend": true,
         "type": "scatter3d",
         "x": {
          "bdata": "Z98OQXYvD0EXPQhB05EKQQ==",
          "dtype": "f4"
         },
         "y": {
          "bdata": "hrZuQL0RcUCA9W5A+PxoQA==",
          "dtype": "f4"
         },
         "z": {
          "bdata": "WiowQNwTMEAvuyxAPYkrQA==",
          "dtype": "f4"
         }
        },
        {
         "customdata": [
          [
           "S30470010REA-T2",
           "PATZ1fus"
          ],
          [
           "I139-018-T2",
           "PATZ1fus"
          ],
          [
           "S30470010REA-T1-R2",
           "PATZ1fus"
          ],
          [
           "I139-018-T1-R2",
           "PATZ1fus"
          ]
         ],
         "hovertemplate": "Sample name: %{customdata[0]}<br>code_oncotree: %{customdata[1]}<extra></extra>",
         "legendgroup": "PATZ1fus",
         "marker": {
          "color": "#FECB52",
          "opacity": 0.8,
          "symbol": "circle"
         },
         "mode": "markers",
         "name": "PATZ1fus",
         "scene": "scene",
         "showlegend": true,
         "type": "scatter3d",
         "x": {
          "bdata": "ewUOQcSEDUHVCwtBD3wLQQ==",
          "dtype": "f4"
         },
         "y": {
          "bdata": "eiuZP4f5lz+SAaI/T+WePw==",
          "dtype": "f4"
         },
         "z": {
          "bdata": "gbcEv1JGF79REDy/tANCvw==",
          "dtype": "f4"
         }
        },
        {
         "customdata": [
          [
           "H021-7HKMGG4-T1-Q1",
           "PCLCD"
          ]
         ],
         "hovertemplate": "Sample name: %{customdata[0]}<br>code_oncotree: %{customdata[1]}<extra></extra>",
         "legendgroup": "PCLCD",
         "marker": {
          "color": "#636efa",
          "opacity": 0.8,
          "symbol": "circle"
         },
         "mode": "markers",
         "name": "PCLCD",
         "scene": "scene",
         "showlegend": true,
         "type": "scatter3d",
         "x": {
          "bdata": "X4MUQQ==",
          "dtype": "f4"
         },
         "y": {
          "bdata": "xeCPQA==",
          "dtype": "f4"
         },
         "z": {
          "bdata": "R9sMQA==",
          "dtype": "f4"
         }
        },
        {
         "customdata": [
          [
           "H021-ZB26BG-M1",
           "PCM"
          ],
          [
           "H021-VYM29S-T1-Q1",
           "PCM"
          ]
         ],
         "hovertemplate": "Sample name: %{customdata[0]}<br>code_oncotree: %{customdata[1]}<extra></extra>",
         "legendgroup": "PCM",
         "marker": {
          "color": "#EF553B",
          "opacity": 0.8,
          "symbol": "circle"
         },
         "mode": "markers",
         "name": "PCM",
         "scene": "scene",
         "showlegend": true,
         "type": "scatter3d",
         "x": {
          "bdata": "DWAAQSkiFkE=",
          "dtype": "f4"
         },
         "y": {
          "bdata": "30zzP3IPRkA=",
          "dtype": "f4"
         },
         "z": {
          "bdata": "ePeaPnGuyj8=",
          "dtype": "f4"
         }
        },
        {
         "customdata": [
          [
           "MRI-19NTOPH80-T1",
           "PDAC"
          ],
          [
           "H021-8ZTUHJ-M1-Q1",
           "PDAC"
          ],
          [
           "MRI-1MEFANLA0-T1",
           "PDAC"
          ]
         ],
         "hovertemplate": "Sample name: %{customdata[0]}<br>code_oncotree: %{customdata[1]}<extra></extra>",
         "legendgroup": "PDAC",
         "marker": {
          "color": "#00cc96",
          "opacity": 0.8,
          "symbol": "circle"
         },
         "mode": "markers",
         "name": "PDAC",
         "scene": "scene",
         "showlegend": true,
         "type": "scatter3d",
         "x": {
          "bdata": "nmkPQQCT+kDliQFB",
          "dtype": "f4"
         },
         "y": {
          "bdata": "W22RQIrFi0BT9WxA",
          "dtype": "f4"
         },
         "z": {
          "bdata": "rWiDP6dr8D8KIB1A",
          "dtype": "f4"
         }
        },
        {
         "customdata": [
          [
           "H021-LCQDQV-T1-Q1",
           "PECOMA"
          ],
          [
           "H021-ASLRTG-M1-Q1",
           "PECOMA"
          ],
          [
           "H021-RWXYWN-M3-Q1",
           "PECOMA"
          ],
          [
           "H021-9WCL2C-M1-Q1",
           "PECOMA"
          ],
          [
           "H021-DRPWB2-T2-Q1",
           "PECOMA"
          ]
         ],
         "hovertemplate": "Sample name: %{customdata[0]}<br>code_oncotree: %{customdata[1]}<extra></extra>",
         "legendgroup": "PECOMA",
         "marker": {
          "color": "#ab63fa",
          "opacity": 0.8,
          "symbol": "circle"
         },
         "mode": "markers",
         "name": "PECOMA",
         "scene": "scene",
         "showlegend": true,
         "type": "scatter3d",
         "x": {
          "bdata": "Mb4JQb8nCkGI5wZBRYEIQVsLBkE=",
          "dtype": "f4"
         },
         "y": {
          "bdata": "ZODuP37hBEBX4YhASl0oQP/0hUA=",
          "dtype": "f4"
         },
         "z": {
          "bdata": "oLQQvg8/C74smuS9shdXvh5UA78=",
          "dtype": "f4"
         }
        },
        {
         "customdata": [
          [
           "H021-K55YZ3-T2",
           "PEMESO"
          ],
          [
           "H021-4TD3JY-M2",
           "PEMESO"
          ],
          [
           "H021-M22J77-M1-Q1",
           "PEMESO"
          ],
          [
           "H021-HEEZDE-T3-Q1",
           "PEMESO"
          ],
          [
           "H021-FAEDHG-M1-Q1",
           "PEMESO"
          ]
         ],
         "hovertemplate": "Sample name: %{customdata[0]}<br>code_oncotree: %{customdata[1]}<extra></extra>",
         "legendgroup": "PEMESO",
         "marker": {
          "color": "#FFA15A",
          "opacity": 0.8,
          "symbol": "circle"
         },
         "mode": "markers",
         "name": "PEMESO",
         "scene": "scene",
         "showlegend": true,
         "type": "scatter3d",
         "x": {
          "bdata": "hQ8KQeWW8UB91glBL4YJQW+SAUE=",
          "dtype": "f4"
         },
         "y": {
          "bdata": "Cco3QKbeZ0A6uIdADuE/QN7GnUA=",
          "dtype": "f4"
         },
         "z": {
          "bdata": "wTHyP/dOOkAi/jpAM7+eP/JJpj8=",
          "dtype": "f4"
         }
        },
        {
         "customdata": [
          [
           "H021-M4Z12B-M1-Q1",
           "PHC"
          ],
          [
           "H021-RRY5EK-M1-Q1",
           "PHC"
          ],
          [
           "H021-5867EC-M5-Q1",
           "PHC"
          ]
         ],
         "hovertemplate": "Sample name: %{customdata[0]}<br>code_oncotree: %{customdata[1]}<extra></extra>",
         "legendgroup": "PHC",
         "marker": {
          "color": "#19d3f3",
          "opacity": 0.8,
          "symbol": "circle"
         },
         "mode": "markers",
         "name": "PHC",
         "scene": "scene",
         "showlegend": true,
         "type": "scatter3d",
         "x": {
          "bdata": "d78jQT6J+0CU3yBB",
          "dtype": "f4"
         },
         "y": {
          "bdata": "LJY4QJ8eOkAhvDZA",
          "dtype": "f4"
         },
         "z": {
          "bdata": "6jFpvr85kD/pxpM/",
          "dtype": "f4"
         }
        },
        {
         "customdata": [
          [
           "H021-LN8VNF-M1-Q1",
           "PHCH"
          ],
          [
           "H021-7LJR41-T3-Q1",
           "PHCH"
          ],
          [
           "H021-JCB2K7-M3-Q1",
           "PHCH"
          ],
          [
           "H021-XCLLJX-T2-Q1",
           "PHCH"
          ],
          [
           "H021-UN9Q23-M1-Q1",
           "PHCH"
          ]
         ],
         "hovertemplate": "Sample name: %{customdata[0]}<br>code_oncotree: %{customdata[1]}<extra></extra>",
         "legendgroup": "PHCH",
         "marker": {
          "color": "#FF6692",
          "opacity": 0.8,
          "symbol": "circle"
         },
         "mode": "markers",
         "name": "PHCH",
         "scene": "scene",
         "showlegend": true,
         "type": "scatter3d",
         "x": {
          "bdata": "9wESQXN2/kD6HBRBn5EHQXdzA0E=",
          "dtype": "f4"
         },
         "y": {
          "bdata": "G+eJQIUpjEDp735A84F2QNkHVUA=",
          "dtype": "f4"
         },
         "z": {
          "bdata": "1q4BQA0HSkCDyiVAaMrLPwf+T0A=",
          "dtype": "f4"
         }
        },
        {
         "customdata": [
          [
           "PLAGL-20EP00118-T2",
           "PLAG1fus"
          ],
          [
           "PLAGL-3213961-T1-R3",
           "PLAG1fus"
          ],
          [
           "PLAGL-S651.18-T2",
           "PLAG1fus"
          ]
         ],
         "hovertemplate": "Sample name: %{customdata[0]}<br>code_oncotree: %{customdata[1]}<extra></extra>",
         "legendgroup": "PLAG1fus",
         "marker": {
          "color": "#B6E880",
          "opacity": 0.8,
          "symbol": "circle"
         },
         "mode": "markers",
         "name": "PLAG1fus",
         "scene": "scene",
         "showlegend": true,
         "type": "scatter3d",
         "x": {
          "bdata": "eKATQcUcIkEefw9B",
          "dtype": "f4"
         },
         "y": {
          "bdata": "orlTQAneVEBuKrM/",
          "dtype": "f4"
         },
         "z": {
          "bdata": "1GKKvzwdjb6E5Yq+",
          "dtype": "f4"
         }
        },
        {
         "customdata": [
          [
           "PLAGL-19EP02417-T1",
           "PLAGL1"
          ],
          [
           "PLAGL-H16_28824-T1",
           "PLAGL1"
          ],
          [
           "PLAGL-PM36-T1",
           "PLAGL1"
          ],
          [
           "PLAGL-T2490324-T1-R3",
           "PLAGL1"
          ],
          [
           "T24-90324-L1",
           "PLAGL1"
          ],
          [
           "T24-90324-L2",
           "PLAGL1"
          ]
         ],
         "hovertemplate": "Sample name: %{customdata[0]}<br>code_oncotree: %{customdata[1]}<extra></extra>",
         "legendgroup": "PLAGL1",
         "marker": {
          "color": "#FF97FF",
          "opacity": 0.8,
          "symbol": "circle"
         },
         "mode": "markers",
         "name": "PLAGL1",
         "scene": "scene",
         "showlegend": true,
         "type": "scatter3d",
         "x": {
          "bdata": "KXEOQa2hCkGepBVB7/EfQVbkD0GvshBB",
          "dtype": "f4"
         },
         "y": {
          "bdata": "NTVXQOkaWkATBFNA3LiDQAIteUDPjXtA",
          "dtype": "f4"
         },
         "z": {
          "bdata": "gu6Dv6aaYb9Pb4a/D2gkP6nfFb9emwO/",
          "dtype": "f4"
         }
        },
        {
         "customdata": [
          [
           "PLAGL-N173623-T1",
           "PLAGL1, adult"
          ],
          [
           "PLAGL-N201437-T1",
           "PLAGL1, adult"
          ]
         ],
         "hovertemplate": "Sample name: %{customdata[0]}<br>code_oncotree: %{customdata[1]}<extra></extra>",
         "legendgroup": "PLAGL1, adult",
         "marker": {
          "color": "#FECB52",
          "opacity": 0.8,
          "symbol": "circle"
         },
         "mode": "markers",
         "name": "PLAGL1, adult",
         "scene": "scene",
         "showlegend": true,
         "type": "scatter3d",
         "x": {
          "bdata": "Of4KQZK6B0E=",
          "dtype": "f4"
         },
         "y": {
          "bdata": "AspCQA5jL0A=",
          "dtype": "f4"
         },
         "z": {
          "bdata": "0ZNVvyCfZb8=",
          "dtype": "f4"
         }
        },
        {
         "customdata": [
          [
           "PLAGL-T52PNET-T1",
           "PLAGL2"
          ],
          [
           "PLAGL-19EP01899-T1",
           "PLAGL2"
          ],
          [
           "PLAGL-AHG04-T1",
           "PLAGL2"
          ],
          [
           "PLAGL-H235149-T1",
           "PLAGL2"
          ]
         ],
         "hovertemplate": "Sample name: %{customdata[0]}<br>code_oncotree: %{customdata[1]}<extra></extra>",
         "legendgroup": "PLAGL2",
         "marker": {
          "color": "#636efa",
          "opacity": 0.8,
          "symbol": "circle"
         },
         "mode": "markers",
         "name": "PLAGL2",
         "scene": "scene",
         "showlegend": true,
         "type": "scatter3d",
         "x": {
          "bdata": "mI0OQazLFEHIIxNBd+kFQQ==",
          "dtype": "f4"
         },
         "y": {
          "bdata": "mJJVQCGoVEDKelVAY+s6QA==",
          "dtype": "f4"
         },
         "z": {
          "bdata": "IG+Dv6UQh7/+R4y/jE5lvw==",
          "dtype": "f4"
         }
        },
        {
         "customdata": [
          [
           "H021-PY4GWY-M1",
           "PLEMESO"
          ],
          [
           "H021-G78962-M2",
           "PLEMESO"
          ],
          [
           "H021-X1PXC4-M2-Q1",
           "PLEMESO"
          ],
          [
           "H021-KPKEWQ-M4-Q1",
           "PLEMESO"
          ],
          [
           "H021-6UBWL9-M1-Q1",
           "PLEMESO"
          ],
          [
           "H021-G6ANCQ-M1-Q1",
           "PLEMESO"
          ],
          [
           "H021-3GKZLA-M1-Q1",
           "PLEMESO"
          ],
          [
           "H021-AGPSR6-M5-Q1",
           "PLEMESO"
          ],
          [
           "H021-VWVVNKW-M2-Q1",
           "PLEMESO"
          ],
          [
           "H021-J55SHXJ-T1-Q1",
           "PLEMESO"
          ],
          [
           "H021-MLVC1CF-M3-Q1",
           "PLEMESO"
          ]
         ],
         "hovertemplate": "Sample name: %{customdata[0]}<br>code_oncotree: %{customdata[1]}<extra></extra>",
         "legendgroup": "PLEMESO",
         "marker": {
          "color": "#EF553B",
          "opacity": 0.8,
          "symbol": "circle"
         },
         "mode": "markers",
         "name": "PLEMESO",
         "scene": "scene",
         "showlegend": true,
         "type": "scatter3d",
         "x": {
          "bdata": "ulP6QCh6HEFyPAFBQCLxQFwfHUEM4vBA6d8UQUcuHUEI4gJBTxH1QPoMEEE=",
          "dtype": "f4"
         },
         "y": {
          "bdata": "u5xqQDo0NkD8iH9AinppQFnhF0BIxHJAME2fQDavTEC9CnlAxjNtQDrBH0A=",
          "dtype": "f4"
         },
         "z": {
          "bdata": "tC0NQPLn1j6x90tAIJ86QFgZyj8hPzZAqCIyP/vkqL5WudU/T9c3QFw0FEA=",
          "dtype": "f4"
         }
        },
        {
         "customdata": [
          [
           "H021-A9FSW4-T1-Q1",
           "PLLS"
          ],
          [
           "H021-5V29NB-M3-Q1",
           "PLLS"
          ]
         ],
         "hovertemplate": "Sample name: %{customdata[0]}<br>code_oncotree: %{customdata[1]}<extra></extra>",
         "legendgroup": "PLLS",
         "marker": {
          "color": "#00cc96",
          "opacity": 0.8,
          "symbol": "circle"
         },
         "mode": "markers",
         "name": "PLLS",
         "scene": "scene",
         "showlegend": true,
         "type": "scatter3d",
         "x": {
          "bdata": "xhwGQagl8kA=",
          "dtype": "f4"
         },
         "y": {
          "bdata": "TiRTQC0IpT8=",
          "dtype": "f4"
         },
         "z": {
          "bdata": "HCrmPpSjXT8=",
          "dtype": "f4"
         }
        },
        {
         "customdata": [
          [
           "H021-XT8RXW-T2",
           "PLRMS"
          ],
          [
           "H021-XP5T1N-M4",
           "PLRMS"
          ],
          [
           "H021-4CYFXD-M1",
           "PLRMS"
          ],
          [
           "H021-GAMZSE-T2",
           "PLRMS"
          ],
          [
           "H021-VAW2L1-M1-Q1",
           "PLRMS"
          ],
          [
           "H021-AT9S9S-T3-Q1",
           "PLRMS"
          ],
          [
           "H021-S83DHY-M1-Q1",
           "PLRMS"
          ]
         ],
         "hovertemplate": "Sample name: %{customdata[0]}<br>code_oncotree: %{customdata[1]}<extra></extra>",
         "legendgroup": "PLRMS",
         "marker": {
          "color": "#ab63fa",
          "opacity": 0.8,
          "symbol": "circle"
         },
         "mode": "markers",
         "name": "PLRMS",
         "scene": "scene",
         "showlegend": true,
         "type": "scatter3d",
         "x": {
          "bdata": "4bwDQbJRCkEOlApBDa0eQajuEUF6dCRBvBcKQQ==",
          "dtype": "f4"
         },
         "y": {
          "bdata": "DeyEP0vmoD8DbSJAfSv6P6q0U0AWru8/gut6QA==",
          "dtype": "f4"
         },
         "z": {
          "bdata": "OTuFPpFCw71iFFI/OP3oPVfABj6txCM+OqMOvw==",
          "dtype": "f4"
         }
        },
        {
         "customdata": [
          [
           "H021-ZNSUYN-T1",
           "PNET"
          ],
          [
           "H021-JLP1D4-T2",
           "PNET"
          ]
         ],
         "hovertemplate": "Sample name: %{customdata[0]}<br>code_oncotree: %{customdata[1]}<extra></extra>",
         "legendgroup": "PNET",
         "marker": {
          "color": "#FFA15A",
          "opacity": 0.8,
          "symbol": "circle"
         },
         "mode": "markers",
         "name": "PNET",
         "scene": "scene",
         "showlegend": true,
         "type": "scatter3d",
         "x": {
          "bdata": "9uPrQGHE4UA=",
          "dtype": "f4"
         },
         "y": {
          "bdata": "FRQrQHaqJ0A=",
          "dtype": "f4"
         },
         "z": {
          "bdata": "9QEcvsqLlDs=",
          "dtype": "f4"
         }
        },
        {
         "customdata": [
          [
           "H021-S5N2XH-M1-Q2",
           "POCA"
          ]
         ],
         "hovertemplate": "Sample name: %{customdata[0]}<br>code_oncotree: %{customdata[1]}<extra></extra>",
         "legendgroup": "POCA",
         "marker": {
          "color": "#19d3f3",
          "opacity": 0.8,
          "symbol": "circle"
         },
         "mode": "markers",
         "name": "POCA",
         "scene": "scene",
         "showlegend": true,
         "type": "scatter3d",
         "x": {
          "bdata": "gK7zQA==",
          "dtype": "f4"
         },
         "y": {
          "bdata": "g4p5QA==",
          "dtype": "f4"
         },
         "z": {
          "bdata": "7X8eQA==",
          "dtype": "f4"
         }
        },
        {
         "customdata": [
          [
           "H021-WK3CNJ-M3",
           "PRAD"
          ],
          [
           "H021-68YVMK-T1-Q1",
           "PRAD"
          ],
          [
           "H021-PX3MGS-T5-Q1",
           "PRAD"
          ],
          [
           "H021-CK9VHH-M1-Q1",
           "PRAD"
          ],
          [
           "H021-ARXF4R-M1-Q1",
           "PRAD"
          ],
          [
           "H021-JHTL1RU-M1-Q1",
           "PRAD"
          ]
         ],
         "hovertemplate": "Sample name: %{customdata[0]}<br>code_oncotree: %{customdata[1]}<extra></extra>",
         "legendgroup": "PRAD",
         "marker": {
          "color": "#FF6692",
          "opacity": 0.8,
          "symbol": "circle"
         },
         "mode": "markers",
         "name": "PRAD",
         "scene": "scene",
         "showlegend": true,
         "type": "scatter3d",
         "x": {
          "bdata": "nxcQQchlEkEHKBNBHLcTQan59kC6NA5B",
          "dtype": "f4"
         },
         "y": {
          "bdata": "iBuPQHuvPUDXAQJAuqCOQP4AgUDLmYdA",
          "dtype": "f4"
         },
         "z": {
          "bdata": "nO35P0aKNkBq/Ju9C1nRP+J/Zz8e9to/",
          "dtype": "f4"
         }
        },
        {
         "customdata": [
          [
           "H021-GEUYF9-M1-Q1",
           "PRNE"
          ],
          [
           "H021-THC97U5-M1-Q1",
           "PRNE"
          ]
         ],
         "hovertemplate": "Sample name: %{customdata[0]}<br>code_oncotree: %{customdata[1]}<extra></extra>",
         "legendgroup": "PRNE",
         "marker": {
          "color": "#B6E880",
          "opacity": 0.8,
          "symbol": "circle"
         },
         "mode": "markers",
         "name": "PRNE",
         "scene": "scene",
         "showlegend": true,
         "type": "scatter3d",
         "x": {
          "bdata": "588TQa7TCkE=",
          "dtype": "f4"
         },
         "y": {
          "bdata": "agiTQCpagUA=",
          "dtype": "f4"
         },
         "z": {
          "bdata": "8NoCQJjEJj8=",
          "dtype": "f4"
         }
        },
        {
         "customdata": [
          [
           "H021-KFNAL7-M1",
           "PSEC"
          ]
         ],
         "hovertemplate": "Sample name: %{customdata[0]}<br>code_oncotree: %{customdata[1]}<extra></extra>",
         "legendgroup": "PSEC",
         "marker": {
          "color": "#FF97FF",
          "opacity": 0.8,
          "symbol": "circle"
         },
         "mode": "markers",
         "name": "PSEC",
         "scene": "scene",
         "showlegend": true,
         "type": "scatter3d",
         "x": {
          "bdata": "S9wDQQ==",
          "dtype": "f4"
         },
         "y": {
          "bdata": "7wNnQA==",
          "dtype": "f4"
         },
         "z": {
          "bdata": "SMbSPw==",
          "dtype": "f4"
         }
        },
        {
         "customdata": [
          [
           "H021-HXKRG5-M1-Q1",
           "PTAD"
          ]
         ],
         "hovertemplate": "Sample name: %{customdata[0]}<br>code_oncotree: %{customdata[1]}<extra></extra>",
         "legendgroup": "PTAD",
         "marker": {
          "color": "#FECB52",
          "opacity": 0.8,
          "symbol": "circle"
         },
         "mode": "markers",
         "name": "PTAD",
         "scene": "scene",
         "showlegend": true,
         "type": "scatter3d",
         "x": {
          "bdata": "pdfzQA==",
          "dtype": "f4"
         },
         "y": {
          "bdata": "oEccQA==",
          "dtype": "f4"
         },
         "z": {
          "bdata": "UWnHPw==",
          "dtype": "f4"
         }
        },
        {
         "customdata": [
          [
           "H021-8JC5R3-M1-Q1",
           "PTHC"
          ],
          [
           "H021-7M7QB7-M1-Q1",
           "PTHC"
          ],
          [
           "H021-RUDU3J-M1-Q1",
           "PTHC"
          ],
          [
           "H021-MNL1EH-T3-Q1",
           "PTHC"
          ],
          [
           "H021-Q65CUV-M2-Q1",
           "PTHC"
          ]
         ],
         "hovertemplate": "Sample name: %{customdata[0]}<br>code_oncotree: %{customdata[1]}<extra></extra>",
         "legendgroup": "PTHC",
         "marker": {
          "color": "#636efa",
          "opacity": 0.8,
          "symbol": "circle"
         },
         "mode": "markers",
         "name": "PTHC",
         "scene": "scene",
         "showlegend": true,
         "type": "scatter3d",
         "x": {
          "bdata": "lMTyQOozD0G/CAJB3BcMQTIgF0E=",
          "dtype": "f4"
         },
         "y": {
          "bdata": "SBp0QHAVMkDZAYRASQBAQJ9gd0A=",
          "dtype": "f4"
         },
         "z": {
          "bdata": "LXPuP5DNV7t3zD1A0hqTPitWIz8=",
          "dtype": "f4"
         }
        },
        {
         "customdata": [
          [
           "H021-UK5YMH-M5-Q1",
           "RCC"
          ],
          [
           "H021-85264R-M1-Q1",
           "RCC"
          ],
          [
           "H021-UK5YMH-M6-Q1",
           "RCC"
          ],
          [
           "H021-UK5YMH-T3-Q1",
           "RCC"
          ],
          [
           "H021-8GJ9GS-M1-Q1",
           "RCC"
          ],
          [
           "H021-8RPW98-M1-Q1",
           "RCC"
          ],
          [
           "H021-XRG9QT-M2-Q1",
           "RCC"
          ],
          [
           "H021-HZ5EL8C-M1-Q1",
           "RCC"
          ],
          [
           "H021-HGQD6WL-M3-Q1",
           "RCC"
          ],
          [
           "H021-B6MR88Y-M1-Q1",
           "RCC"
          ]
         ],
         "hovertemplate": "Sample name: %{customdata[0]}<br>code_oncotree: %{customdata[1]}<extra></extra>",
         "legendgroup": "RCC",
         "marker": {
          "color": "#EF553B",
          "opacity": 0.8,
          "symbol": "circle"
         },
         "mode": "markers",
         "name": "RCC",
         "scene": "scene",
         "showlegend": true,
         "type": "scatter3d",
         "x": {
          "bdata": "ftYQQRCzDEG9YAVBE8MFQdfNBkGp5AxB/HYLQffoB0FWugtBTbX+QA==",
          "dtype": "f4"
         },
         "y": {
          "bdata": "1UMGQEJbgUCeBE9A80uPQBP+iEAfgAhARpCKQEEXcUAhGFNA+mqRQA==",
          "dtype": "f4"
         },
         "z": {
          "bdata": "Mn+ZP+KvQT/cgbI/t8DxP6r4pL7kno8/o5xPPuFmVD+bJoA/I3I1QA==",
          "dtype": "f4"
         }
        },
        {
         "customdata": [
          [
           "I008-006-99146",
           "RCSNOS"
          ],
          [
           "I005-016-226696",
           "RCSNOS"
          ],
          [
           "H021-EVNRN6-T1-E1",
           "RCSNOS"
          ],
          [
           "H021-618SRQ-U4-E2",
           "RCSNOS"
          ],
          [
           "M007-EVNRN6-M1-Q1",
           "RCSNOS"
          ],
          [
           "I005-014-0M1-P1",
           "RCSNOS"
          ],
          [
           "H021-D6BHS5H-M2-Q1",
           "RCSNOS"
          ]
         ],
         "hovertemplate": "Sample name: %{customdata[0]}<br>code_oncotree: %{customdata[1]}<extra></extra>",
         "legendgroup": "RCSNOS",
         "marker": {
          "color": "#00cc96",
          "opacity": 0.8,
          "symbol": "circle"
         },
         "mode": "markers",
         "name": "RCSNOS",
         "scene": "scene",
         "showlegend": true,
         "type": "scatter3d",
         "x": {
          "bdata": "yzsfQWyuGkGot+1A58H4QCd2HkF3yB1Bq2QIQQ==",
          "dtype": "f4"
         },
         "y": {
          "bdata": "BocCP0CxC0BP7FJARj0DQIUVG0CeXn4//ZlwQA==",
          "dtype": "f4"
         },
         "z": {
          "bdata": "HzLNvpPZR7/kfqo+VEF6PyLM8D9yDmm/SZ0MPw==",
          "dtype": "f4"
         }
        },
        {
         "customdata": [
          [
           "H021-UVJ1LB-M1",
           "READ"
          ],
          [
           "H021-UVJ1LB-M3",
           "READ"
          ],
          [
           "H021-TNGG44-M1",
           "READ"
          ],
          [
           "H021-ERYN6U-M4",
           "READ"
          ],
          [
           "H021-RXLJ7X-M5-Q1",
           "READ"
          ],
          [
           "H021-C15LJ8-T1-Q1",
           "READ"
          ],
          [
           "H021-U7HXMH-M2-Q1",
           "READ"
          ],
          [
           "H021-TNGG44-M4-Q1",
           "READ"
          ],
          [
           "H021-9DU1YF-M2-Q1",
           "READ"
          ],
          [
           "H021-33DUTN-M1-Q1",
           "READ"
          ],
          [
           "H021-5Z26L6-M1-Q1",
           "READ"
          ],
          [
           "H021-Z81XY8-M1-Q1",
           "READ"
          ],
          [
           "H021-4BLCRJ-M2-Q1",
           "READ"
          ],
          [
           "H021-FNT9QNF-M2-Q1",
           "READ"
          ]
         ],
         "hovertemplate": "Sample name: %{customdata[0]}<br>code_oncotree: %{customdata[1]}<extra></extra>",
         "legendgroup": "READ",
         "marker": {
          "color": "#ab63fa",
          "opacity": 0.8,
          "symbol": "circle"
         },
         "mode": "markers",
         "name": "READ",
         "scene": "scene",
         "showlegend": true,
         "type": "scatter3d",
         "x": {
          "bdata": "J/v/QLuf+kBbogdBHpYMQU5bBkGQKhZBUB0KQS0xBUEZ7whBApYcQe8sAkGJUg5BEVgWQXSkDkE=",
          "dtype": "f4"
         },
         "y": {
          "bdata": "uP18QHOUgUBIMgRAcEaCQE5fhECL/i1AGULrP270fUCf/TFAcVaBQHnafUCskUdAxlBHQEx6b0A=",
          "dtype": "f4"
         },
         "z": {
          "bdata": "GylRQPbhS0AfPgpAvY5PQDz4UUBAIi9Aw7XzP8DYT0CwRiVAvz+kP0vGTkCdOkxABtUpQNMDPEA=",
          "dtype": "f4"
         }
        },
        {
         "customdata": [
          [
           "I076-042-9T1",
           "RMS"
          ],
          [
           "H021-S5LP5E-M2-E2",
           "RMS"
          ],
          [
           "H021-HBR2CL-M1-Q1",
           "RMS"
          ],
          [
           "I008-019-0T1-P1",
           "RMS"
          ],
          [
           "H021-3582P3-M1-Q1",
           "RMS"
          ],
          [
           "H021-NM1SU2-M1-Q1",
           "RMS"
          ],
          [
           "H021-FWVK8T-T1-Q1",
           "RMS"
          ],
          [
           "I167-005-1T1-P1",
           "RMS"
          ],
          [
           "H021-48Z3LW-M1-Q1",
           "RMS"
          ],
          [
           "H021-H1ZKQ8-M3-Q2",
           "RMS"
          ],
          [
           "H021-VZRW-T1-Q2",
           "RMS"
          ]
         ],
         "hovertemplate": "Sample name: %{customdata[0]}<br>code_oncotree: %{customdata[1]}<extra></extra>",
         "legendgroup": "RMS",
         "marker": {
          "color": "#FFA15A",
          "opacity": 0.8,
          "symbol": "circle"
         },
         "mode": "markers",
         "name": "RMS",
         "scene": "scene",
         "showlegend": true,
         "type": "scatter3d",
         "x": {
          "bdata": "hIAaQdOw80AyJh5BzHggQWuDG0EYuhpBXbAhQXj8EkHqmyBBx6UHQUpJBUE=",
          "dtype": "f4"
         },
         "y": {
          "bdata": "auvHP7UCOUBCGidAhnvePxZHGkBN4uA//kvRPxs2rD8i1g1AwfaAQKpMnkA=",
          "dtype": "f4"
         },
         "z": {
          "bdata": "4bQWPwL1dzsJWIq+FdATv9zilr4TkzK/UYMGvw08Xb/J1rg/+9/nvic3oz8=",
          "dtype": "f4"
         }
        },
        {
         "customdata": [
          [
           "H021-9QJVT5-T1-E1",
           "RNET"
          ]
         ],
         "hovertemplate": "Sample name: %{customdata[0]}<br>code_oncotree: %{customdata[1]}<extra></extra>",
         "legendgroup": "RNET",
         "marker": {
          "color": "#19d3f3",
          "opacity": 0.8,
          "symbol": "circle"
         },
         "mode": "markers",
         "name": "RNET",
         "scene": "scene",
         "showlegend": true,
         "type": "scatter3d",
         "x": {
          "bdata": "FIsUQQ==",
          "dtype": "f4"
         },
         "y": {
          "bdata": "gOBYQA==",
          "dtype": "f4"
         },
         "z": {
          "bdata": "C0xJPw==",
          "dtype": "f4"
         }
        },
        {
         "customdata": [
          [
           "H021-BJC1YS-M2-Q1",
           "SACA"
          ]
         ],
         "hovertemplate": "Sample name: %{customdata[0]}<br>code_oncotree: %{customdata[1]}<extra></extra>",
         "legendgroup": "SACA",
         "marker": {
          "color": "#FF6692",
          "opacity": 0.8,
          "symbol": "circle"
         },
         "mode": "markers",
         "name": "SACA",
         "scene": "scene",
         "showlegend": true,
         "type": "scatter3d",
         "x": {
          "bdata": "rPIGQQ==",
          "dtype": "f4"
         },
         "y": {
          "bdata": "n8qIQA==",
          "dtype": "f4"
         },
         "z": {
          "bdata": "aSE4QA==",
          "dtype": "f4"
         }
        },
        {
         "customdata": [
          [
           "H021-MZRYXY-M4-Q1",
           "SARCNOS"
          ],
          [
           "H021-P1BLSR-M2-Q1",
           "SARCNOS"
          ],
          [
           "H021-82QZQD-M1-E1",
           "SARCNOS"
          ],
          [
           "H021-5MVGEK-T3",
           "SARCNOS"
          ],
          [
           "H021-4F7QS3-T1",
           "SARCNOS"
          ],
          [
           "H021-S1RRD7-T1",
           "SARCNOS"
          ],
          [
           "H028-7GAB-T1",
           "SARCNOS"
          ],
          [
           "H021-Q5UUUF-M1",
           "SARCNOS"
          ],
          [
           "I036-057-226650",
           "SARCNOS"
          ],
          [
           "H021-4RQVZT-M2-E2",
           "SARCNOS"
          ],
          [
           "H021-YYHL-T1",
           "SARCNOS"
          ],
          [
           "H021-R427FX-M1-E2",
           "SARCNOS"
          ],
          [
           "H021-W834UD-T2-E2",
           "SARCNOS"
          ],
          [
           "I022-052-1T1-P1",
           "SARCNOS"
          ],
          [
           "H021-95DSUJ-M3",
           "SARCNOS"
          ],
          [
           "H021-WZNT6Y-M1-E1",
           "SARCNOS"
          ],
          [
           "I024-040-1M1-P1",
           "SARCNOS"
          ],
          [
           "I027-023-0T1-P1",
           "SARCNOS"
          ],
          [
           "I036-039-9T1-P1",
           "SARCNOS"
          ],
          [
           "I023-031-3T1-P1",
           "SARCNOS"
          ],
          [
           "I070-030-0T2-P1",
           "SARCNOS"
          ],
          [
           "H021-9EP93K-M1",
           "SARCNOS"
          ],
          [
           "H021-CL7TCY-T1",
           "SARCNOS"
          ],
          [
           "I007-134-9T1-P1",
           "SARCNOS"
          ],
          [
           "H021-6PPGRT-M2",
           "SARCNOS"
          ],
          [
           "H021-L3ABZV-M3-E1",
           "SARCNOS"
          ],
          [
           "H021-ERFPF3-T1-Q1",
           "SARCNOS"
          ],
          [
           "H021-5YUU78-T2-Q1",
           "SARCNOS"
          ],
          [
           "H021-MPB64L-T2-Q1",
           "SARCNOS"
          ],
          [
           "H021-SRZJMY-M5-Q1",
           "SARCNOS"
          ],
          [
           "I067-018-1M1-P1",
           "SARCNOS"
          ],
          [
           "I049-023-3M1-P1-R2",
           "SARCNOS"
          ],
          [
           "H021-22BRKF-M2-Q1",
           "SARCNOS"
          ],
          [
           "H021-22BRKF-M1-Q1",
           "SARCNOS"
          ],
          [
           "H021-XVSS4M-M4-Q1",
           "SARCNOS"
          ],
          [
           "H021-47AEME-M3-Q1",
           "SARCNOS"
          ],
          [
           "H021-5X9XEF-T1-Q1",
           "SARCNOS"
          ],
          [
           "H021-65FBP6-T2-Q1",
           "SARCNOS"
          ],
          [
           "H021-5CRGAQ-M1-Q1",
           "SARCNOS"
          ],
          [
           "I167-004-1T1-P1",
           "SARCNOS"
          ],
          [
           "H021-J3HGWD-T2-Q1",
           "SARCNOS"
          ],
          [
           "H021-A6LHFV-M7-Q1",
           "SARCNOS"
          ],
          [
           "H021-J75F36-M2-Q1",
           "SARCNOS"
          ],
          [
           "H021-MS22QL-T1-Q1",
           "SARCNOS"
          ],
          [
           "H021-MNL9VQ-T2-Q1",
           "SARCNOS"
          ],
          [
           "H021-PLHLBV-M1-Q1",
           "SARCNOS"
          ],
          [
           "H021-2YLHAZ-M1-Q1",
           "SARCNOS"
          ],
          [
           "H021-PZ9DHG-M1-Q1",
           "SARCNOS"
          ],
          [
           "H021-PLHLBV-M2-Q1",
           "SARCNOS"
          ],
          [
           "H021-6QF116-T1-Q1",
           "SARCNOS"
          ],
          [
           "I047-036-1T1-P1",
           "SARCNOS"
          ],
          [
           "H021-W1H6TD-M1-Q1",
           "SARCNOS"
          ],
          [
           "I014-063-1M1-P1",
           "SARCNOS"
          ],
          [
           "H021-MU85Q1-T1-Q1",
           "SARCNOS"
          ],
          [
           "H021-PZL9F2-M1-Q1",
           "SARCNOS"
          ],
          [
           "H021-562UDR-M2-Q1",
           "SARCNOS"
          ],
          [
           "H021-Q8LBLJ-M2-Q1",
           "SARCNOS"
          ],
          [
           "H021-B5EN4T-M1-Q1",
           "SARCNOS"
          ],
          [
           "H021-ZFGEM1-T2-Q1",
           "SARCNOS"
          ],
          [
           "H021-7JFUWV-T1-Q1",
           "SARCNOS"
          ],
          [
           "H021-5RWYWC-M3-Q1",
           "SARCNOS"
          ],
          [
           "H021-9SHLAJ-M2-Q1",
           "SARCNOS"
          ],
          [
           "H021-1EWB61-M3-Q1",
           "SARCNOS"
          ],
          [
           "H021-MX9W82-M1-Q1",
           "SARCNOS"
          ],
          [
           "H021-KX7TXH-T2-Q1",
           "SARCNOS"
          ],
          [
           "H021-WUK3HBG-M1-Q1",
           "SARCNOS"
          ],
          [
           "H021-3Q1VYU-M13-Q1",
           "SARCNOS"
          ],
          [
           "H021-ARFSS6-T7-Q1",
           "SARCNOS"
          ],
          [
           "H021-PVPVAM-M1-Q1",
           "SARCNOS"
          ]
         ],
         "hovertemplate": "Sample name: %{customdata[0]}<br>code_oncotree: %{customdata[1]}<extra></extra>",
         "legendgroup": "SARCNOS",
         "marker": {
          "color": "#B6E880",
          "opacity": 0.8,
          "symbol": "circle"
         },
         "mode": "markers",
         "name": "SARCNOS",
         "scene": "scene",
         "showlegend": true,
         "type": "scatter3d",
         "x": {
          "bdata": "yEoeQdqiEEGrGfVAykfvQCzn+0AgzghBL8QIQdFh5kDf9hdBE0UBQf/d4EA8KAlBs5XuQCymCUGZUQ1BYsfsQNds60BsE+xAAJQjQV5UAkGugB9BOdoeQVfjGUEgPBNB7xAdQRS+EUHszhJBmOgIQZrw7kD7iQhBAY8XQQ4kIEENthJBmFoPQTdGEUFXqQZB0qT1QF8xB0FydBVBMPwaQVn6AEFO0wpBL9cEQaMfC0HcU/dABQwGQdnNEUFJYghBGWYOQa5JBUEQbQZBvL0bQXqdJEHXrhJBPJwcQQkpHEFZnRhB+/4DQW9sAEFZhA5BQv8fQT9XFEHLJAdBL3XxQG1e6UB9b+hAbnAVQQDqDEGQ1xFB",
          "dtype": "f4"
         },
         "y": {
          "bdata": "qu4YQJTlfkDyNGpAhX40QN6n3T9H/YZAF18HQBf9CUBvtAFAjOpKQGCfJUBL8rE/HkgxQFKD7j/llQ8/li4gQP2COUA/jTZAE/KNP0oNaEBCy6Q/f2EGQHadNkCPnj9Ah0GCP5NvM0A3RvY/DNCGQLQgOEAiSIBAfQaTP1Z/A0AAblxAPSxhQKIADkD6MUBA+09EQE9sqj9WAzFAZ416P+EWhkBTrwhAZmZyQNFPVEBSX6g/4RSCQMN7jD8WDJFAjSw9QPR9hEDWsHVAimkQQF/jmD+ffj1AT0AUQH6BMUCROUpATnI1QKjcQkCrVVNA2HUbQEh+dkAz0k1A4i52QMyJHUAqBSRAoVqNQMo+YEBtF3lA",
          "dtype": "f4"
         },
         "z": {
          "bdata": "QXjqP2ChrD+XhQ9A+sZrvtI4WT70M8++oUVZvmpnhj7AJSC/gvYov5XpHD5z4qw/XyB5vnn+FL5poio+DSbCPqdmH78QnRe/rkh2Pec7Rb8dCAk9sIOLPz6yFD1MSKM/699fPqugaD0AaWi+FYL/vhby7z6ZIHE/+ot5vho96L79Ie6+tlK8voJKJb/0ybq+UXwmQOT5gzzVkUm+cSoUvuulmb4BYA2/nksYv7BpDD+/WWU/eNgIvwNJx7z5Ao0/tIT3vofVAb9qfxC/IQ1/voOwKb8jP5G7ii3ovYX6ML8B3WQ/sQvZP7X8EkCrla8+40RxP0S4TT9jOho+AOLxPxziED5NZKe9zPfgP7exMr5vWoA/",
          "dtype": "f4"
         }
        },
        {
         "customdata": [
          [
           "H021-BNRT5R-M1",
           "SBWDNET"
          ],
          [
           "H021-WXC9T2-M2-Q1",
           "SBWDNET"
          ]
         ],
         "hovertemplate": "Sample name: %{customdata[0]}<br>code_oncotree: %{customdata[1]}<extra></extra>",
         "legendgroup": "SBWDNET",
         "marker": {
          "color": "#FF97FF",
          "opacity": 0.8,
          "symbol": "circle"
         },
         "mode": "markers",
         "name": "SBWDNET",
         "scene": "scene",
         "showlegend": true,
         "type": "scatter3d",
         "x": {
          "bdata": "aZQLQbOiDEE=",
          "dtype": "f4"
         },
         "y": {
          "bdata": "PN+GQH3dU0A=",
          "dtype": "f4"
         },
         "z": {
          "bdata": "VuTLPxa5Lj4=",
          "dtype": "f4"
         }
        },
        {
         "customdata": [
          [
           "H021-VZLAHS-T1-Q1",
           "SCBC"
          ]
         ],
         "hovertemplate": "Sample name: %{customdata[0]}<br>code_oncotree: %{customdata[1]}<extra></extra>",
         "legendgroup": "SCBC",
         "marker": {
          "color": "#FECB52",
          "opacity": 0.8,
          "symbol": "circle"
         },
         "mode": "markers",
         "name": "SCBC",
         "scene": "scene",
         "showlegend": true,
         "type": "scatter3d",
         "x": {
          "bdata": "bGwTQQ==",
          "dtype": "f4"
         },
         "y": {
          "bdata": "heE3QA==",
          "dtype": "f4"
         },
         "z": {
          "bdata": "Lyk4QA==",
          "dtype": "f4"
         }
        },
        {
         "customdata": [
          [
           "H021-SZA151-M1",
           "SCCNOS"
          ],
          [
           "H021-47FWKE-M1-E1",
           "SCCNOS"
          ],
          [
           "H021-BUB8S2-M1",
           "SCCNOS"
          ],
          [
           "H021-47FWKE-M4-Q1",
           "SCCNOS"
          ],
          [
           "H021-LU7XL3-M2-Q1",
           "SCCNOS"
          ],
          [
           "H021-3LSLZ1-M1-Q1",
           "SCCNOS"
          ],
          [
           "H021-HJDXWD-M2-Q1",
           "SCCNOS"
          ],
          [
           "H021-27B2S7-T1-Q1",
           "SCCNOS"
          ],
          [
           "H021-71N65B-M1-Q1",
           "SCCNOS"
          ]
         ],
         "hovertemplate": "Sample name: %{customdata[0]}<br>code_oncotree: %{customdata[1]}<extra></extra>",
         "legendgroup": "SCCNOS",
         "marker": {
          "color": "#636efa",
          "opacity": 0.8,
          "symbol": "circle"
         },
         "mode": "markers",
         "name": "SCCNOS",
         "scene": "scene",
         "showlegend": true,
         "type": "scatter3d",
         "x": {
          "bdata": "KRAPQVx8F0HY2PhAN7gCQfbVCUHnTBpBTRgKQUicD0HAuQJB",
          "dtype": "f4"
         },
         "y": {
          "bdata": "ef31P3qIWEDHa39A6Z1QQP1wAEC+W6E//bgXQFE2akBLB19A",
          "dtype": "f4"
         },
         "z": {
          "bdata": "exfmPz64Oz4u/yFAuW+QPkyPCkDa5Am+gR6qP3kYOEB0xZQ+",
          "dtype": "f4"
         }
        },
        {
         "customdata": [
          [
           "H021-JYZC6N-T1-Q1",
           "SCCO"
          ],
          [
           "H021-R6E4X3-M1-Q1",
           "SCCO"
          ]
         ],
         "hovertemplate": "Sample name: %{customdata[0]}<br>code_oncotree: %{customdata[1]}<extra></extra>",
         "legendgroup": "SCCO",
         "marker": {
          "color": "#EF553B",
          "opacity": 0.8,
          "symbol": "circle"
         },
         "mode": "markers",
         "name": "SCCO",
         "scene": "scene",
         "showlegend": true,
         "type": "scatter3d",
         "x": {
          "bdata": "crIiQdtdJ0E=",
          "dtype": "f4"
         },
         "y": {
          "bdata": "h908QBsp6z8=",
          "dtype": "f4"
         },
         "z": {
          "bdata": "z52RvvXEgT4=",
          "dtype": "f4"
         }
        },
        {
         "customdata": [
          [
           "H021-A8AWE9-T4",
           "SCHW"
          ],
          [
           "H021-A8AWE9-M3",
           "SCHW"
          ]
         ],
         "hovertemplate": "Sample name: %{customdata[0]}<br>code_oncotree: %{customdata[1]}<extra></extra>",
         "legendgroup": "SCHW",
         "marker": {
          "color": "#00cc96",
          "opacity": 0.8,
          "symbol": "circle"
         },
         "mode": "markers",
         "name": "SCHW",
         "scene": "scene",
         "showlegend": true,
         "type": "scatter3d",
         "x": {
          "bdata": "xMACQTQRG0E=",
          "dtype": "f4"
         },
         "y": {
          "bdata": "RaESQDftpz8=",
          "dtype": "f4"
         },
         "z": {
          "bdata": "DJtkP4Q+HT8=",
          "dtype": "f4"
         }
        },
        {
         "customdata": [
          [
           "H021-1KJALE-M1-E2",
           "SCRMS"
          ],
          [
           "H021-XQGYFN-T2-E2",
           "SCRMS"
          ],
          [
           "I067-007-2M1-P1",
           "SCRMS"
          ],
          [
           "I034-036-2T1-P1",
           "SCRMS"
          ],
          [
           "H021-CHWE2F-M1-Q1",
           "SCRMS"
          ],
          [
           "H021-LKCJEL-U1-Q1",
           "SCRMS"
          ],
          [
           "H021-VZL3LN-T1-Q1",
           "SCRMS"
          ]
         ],
         "hovertemplate": "Sample name: %{customdata[0]}<br>code_oncotree: %{customdata[1]}<extra></extra>",
         "legendgroup": "SCRMS",
         "marker": {
          "color": "#ab63fa",
          "opacity": 0.8,
          "symbol": "circle"
         },
         "mode": "markers",
         "name": "SCRMS",
         "scene": "scene",
         "showlegend": true,
         "type": "scatter3d",
         "x": {
          "bdata": "rhULQYv19UDRwh1B9wIcQSifIEHRqiFB1dkSQQ==",
          "dtype": "f4"
         },
         "y": {
          "bdata": "W+rHPxA1OEApAog/KH+8P7BF0j/ZgSFAMTbHPw==",
          "dtype": "f4"
         },
         "z": {
          "bdata": "0+S7P3HqAr4bwIS/tr94v5toXb+Fcjy+RIW2Pw==",
          "dtype": "f4"
         }
        },
        {
         "customdata": [
          [
           "H021-6B6H6F-T2",
           "SCSARC"
          ],
          [
           "H021-22TQMK-M1",
           "SCSARC"
          ],
          [
           "H021-WFP9B3-M1",
           "SCSARC"
          ],
          [
           "H021-RVV7AR-M1",
           "SCSARC"
          ],
          [
           "H021-CZD95Q-M3",
           "SCSARC"
          ],
          [
           "H021-Z1G45L-M4-E2",
           "SCSARC"
          ],
          [
           "H021-KW1NLB-M1",
           "SCSARC"
          ],
          [
           "H021-3H7X76-T1",
           "SCSARC"
          ],
          [
           "H021-YT3YPX-T1-Q1",
           "SCSARC"
          ],
          [
           "H021-1AV9F5-T1-Q1",
           "SCSARC"
          ],
          [
           "H021-5WGAYL-M1-Q1",
           "SCSARC"
          ],
          [
           "H021-98VBUP-M4-Q1",
           "SCSARC"
          ],
          [
           "H021-PA8FGJ-T1-Q1",
           "SCSARC"
          ],
          [
           "H021-Y27C6Y-M1-Q1",
           "SCSARC"
          ],
          [
           "H021-SX648MM-T1-Q1",
           "SCSARC"
          ]
         ],
         "hovertemplate": "Sample name: %{customdata[0]}<br>code_oncotree: %{customdata[1]}<extra></extra>",
         "legendgroup": "SCSARC",
         "marker": {
          "color": "#FFA15A",
          "opacity": 0.8,
          "symbol": "circle"
         },
         "mode": "markers",
         "name": "SCSARC",
         "scene": "scene",
         "showlegend": true,
         "type": "scatter3d",
         "x": {
          "bdata": "iMz6QLTC90BoR/pAqiAFQUwx5kBlWwNB2IPwQD9i80Ar9hlBRrYWQXMSHEElCRRBsSEhQS8JHEFoCR5B",
          "dtype": "f4"
         },
         "y": {
          "bdata": "S47yPynpzj/wUL0/T6WNP/ydLUCPADNAT1GjP1H/hkDjN/s/ks+kPwe6zz/QwgdApvwHQJv8L0CGjoBA",
          "dtype": "f4"
         },
         "z": {
          "bdata": "mfATPj8DGb5G2d+9cQA6Pm7QET+8iZa+otJfP2TJQ0DRZZU9TBn7veLqBj1NR1E/z/UgP1zlyj9TsAM/",
          "dtype": "f4"
         }
        },
        {
         "customdata": [
          [
           "I013-030-1T1-P1",
           "SCSRMS"
          ]
         ],
         "hovertemplate": "Sample name: %{customdata[0]}<br>code_oncotree: %{customdata[1]}<extra></extra>",
         "legendgroup": "SCSRMS",
         "marker": {
          "color": "#19d3f3",
          "opacity": 0.8,
          "symbol": "circle"
         },
         "mode": "markers",
         "name": "SCSRMS",
         "scene": "scene",
         "showlegend": true,
         "type": "scatter3d",
         "x": {
          "bdata": "v18SQQ==",
          "dtype": "f4"
         },
         "y": {
          "bdata": "lvSTPw==",
          "dtype": "f4"
         },
         "z": {
          "bdata": "Gic6vw==",
          "dtype": "f4"
         }
        },
        {
         "customdata": [
          [
           "H021-S48S3K-M1",
           "SDCA"
          ],
          [
           "H021-MYUT4M-M1-Q1",
           "SDCA"
          ],
          [
           "H021-EYMUVP-M3-E2",
           "SDCA"
          ],
          [
           "H021-MZWFNV-M4-Q1",
           "SDCA"
          ],
          [
           "H021-ECK6W3-M1-Q1",
           "SDCA"
          ],
          [
           "H021-QWLUMQ-M1-Q1",
           "SDCA"
          ],
          [
           "H021-L4C4GQC-M1-Q1",
           "SDCA"
          ]
         ],
         "hovertemplate": "Sample name: %{customdata[0]}<br>code_oncotree: %{customdata[1]}<extra></extra>",
         "legendgroup": "SDCA",
         "marker": {
          "color": "#FF6692",
          "opacity": 0.8,
          "symbol": "circle"
         },
         "mode": "markers",
         "name": "SDCA",
         "scene": "scene",
         "showlegend": true,
         "type": "scatter3d",
         "x": {
          "bdata": "t5AWQUssAkHYYghBMBH2QL2hBUEFERNBPt0SQQ==",
          "dtype": "f4"
         },
         "y": {
          "bdata": "tIM5QEgvYEBrNApA9Wp5QF09LEBu1T9AFuCUQA==",
          "dtype": "f4"
         },
         "z": {
          "bdata": "F70mQBweN0BpaxVAKJZNPzcHLEDPezJAWe4DQA==",
          "dtype": "f4"
         }
        },
        {
         "customdata": [
          [
           "H021-PZY43V-T1-Q1",
           "SEBA"
          ]
         ],
         "hovertemplate": "Sample name: %{customdata[0]}<br>code_oncotree: %{customdata[1]}<extra></extra>",
         "legendgroup": "SEBA",
         "marker": {
          "color": "#B6E880",
          "opacity": 0.8,
          "symbol": "circle"
         },
         "mode": "markers",
         "name": "SEBA",
         "scene": "scene",
         "showlegend": true,
         "type": "scatter3d",
         "x": {
          "bdata": "pbX1QA==",
          "dtype": "f4"
         },
         "y": {
          "bdata": "qtRgQA==",
          "dtype": "f4"
         },
         "z": {
          "bdata": "/D8JQA==",
          "dtype": "f4"
         }
        },
        {
         "customdata": [
          [
           "H021-99S7ZW-M1",
           "SEF"
          ],
          [
           "H021-5ZJP4HD-M2-Q1",
           "SEF"
          ]
         ],
         "hovertemplate": "Sample name: %{customdata[0]}<br>code_oncotree: %{customdata[1]}<extra></extra>",
         "legendgroup": "SEF",
         "marker": {
          "color": "#FF97FF",
          "opacity": 0.8,
          "symbol": "circle"
         },
         "mode": "markers",
         "name": "SEF",
         "scene": "scene",
         "showlegend": true,
         "type": "scatter3d",
         "x": {
          "bdata": "f1AOQahGF0E=",
          "dtype": "f4"
         },
         "y": {
          "bdata": "eSINPyySXEA=",
          "dtype": "f4"
         },
         "z": {
          "bdata": "S+5HPn+SOUA=",
          "dtype": "f4"
         }
        },
        {
         "customdata": [
          [
           "H021-WNBGXXT-M1-Q1",
           "SEM"
          ]
         ],
         "hovertemplate": "Sample name: %{customdata[0]}<br>code_oncotree: %{customdata[1]}<extra></extra>",
         "legendgroup": "SEM",
         "marker": {
          "color": "#FECB52",
          "opacity": 0.8,
          "symbol": "circle"
         },
         "mode": "markers",
         "name": "SEM",
         "scene": "scene",
         "showlegend": true,
         "type": "scatter3d",
         "x": {
          "bdata": "B7sYQQ==",
          "dtype": "f4"
         },
         "y": {
          "bdata": "whgqQA==",
          "dtype": "f4"
         },
         "z": {
          "bdata": "n/rIPw==",
          "dtype": "f4"
         }
        },
        {
         "customdata": [
          [
           "H021-Y3YD-M2-Q1",
           "SFT"
          ],
          [
           "H021-2159PW-T1",
           "SFT"
          ],
          [
           "H021-NRXWGD-T1",
           "SFT"
          ],
          [
           "H021-ZY7D-T3",
           "SFT"
          ],
          [
           "P021-W00D-T1",
           "SFT"
          ],
          [
           "H021-735C3K-M4",
           "SFT"
          ],
          [
           "H021-RBZZUP-M5-E2",
           "SFT"
          ],
          [
           "H021-RBYFAX-M2-E2",
           "SFT"
          ],
          [
           "H021-WFU8BQ-M5",
           "SFT"
          ],
          [
           "H021-89DRF6-M1",
           "SFT"
          ],
          [
           "H021-A8HUB1-M2",
           "SFT"
          ],
          [
           "H021-9CRH8W-M1-Q1",
           "SFT"
          ],
          [
           "H021-8M945W-M1-Q1",
           "SFT"
          ],
          [
           "H021-Y3YD-M1-Q1",
           "SFT"
          ],
          [
           "H021-WEZF97-T1-Q1",
           "SFT"
          ],
          [
           "H021-9PAP7Z-T1-Q1",
           "SFT"
          ],
          [
           "H021-NPNMKT-M2-Q1",
           "SFT"
          ],
          [
           "H021-7SPTSF-M1-Q1",
           "SFT"
          ],
          [
           "H021-H4LDLN-M3-Q1",
           "SFT"
          ],
          [
           "H021-H4LDLN-M6-Q1",
           "SFT"
          ],
          [
           "H021-Y423P1-T1-Q1",
           "SFT"
          ],
          [
           "H021-3B93VX-T1-Q1",
           "SFT"
          ],
          [
           "H021-CD5WYJ-M1-Q1",
           "SFT"
          ],
          [
           "H021-MJBJME-M1-Q1",
           "SFT"
          ],
          [
           "H021-Y3YD-M3-Q1",
           "SFT"
          ],
          [
           "H021-WHMPGR-T1-Q1",
           "SFT"
          ],
          [
           "H021-9PAP7Z-T6-Q1",
           "SFT"
          ],
          [
           "H021-KV1KAC-M1-Q1",
           "SFT"
          ],
          [
           "H021-J2CM3X-T1-E1",
           "SFT"
          ],
          [
           "H021-SCEZST-U1-E2",
           "SFT"
          ],
          [
           "H021-A8HUB1-M1-Q2",
           "SFT"
          ],
          [
           "H021-VMUDYV-M1-Q1",
           "SFT"
          ],
          [
           "H021-VMUDYV-M1-Q1-R2",
           "SFT"
          ],
          [
           "H021-SCEZST-M1-Q1",
           "SFT"
          ],
          [
           "H021-9PAP7Z-T4-Q1",
           "SFT"
          ],
          [
           "H021-7UYYL8V-M1-Q1",
           "SFT"
          ],
          [
           "H021-ATYVKC-T4-Q1",
           "SFT"
          ],
          [
           "H021-JGEJVB-M3-Q1",
           "SFT"
          ],
          [
           "H021-S2C8T4P-T1-Q1",
           "SFT"
          ]
         ],
         "hovertemplate": "Sample name: %{customdata[0]}<br>code_oncotree: %{customdata[1]}<extra></extra>",
         "legendgroup": "SFT",
         "marker": {
          "color": "#636efa",
          "opacity": 0.8,
          "symbol": "circle"
         },
         "mode": "markers",
         "name": "SFT",
         "scene": "scene",
         "showlegend": true,
         "type": "scatter3d",
         "x": {
          "bdata": "mycPQcx5/EBtBABBJuQIQf0JCEHsAANB5OsJQZSfDUGIHBRBGMHxQL51I0FArxJBSVcjQaTV/0Ds8w9BlRMHQRmKE0Fyfw9Bqs0RQbgME0HtZw5BxDgOQW81FEHPoRJBjEjxQGaXH0ET/g5B5WoMQZuvAUGDS/lARXcDQfa3BkEQKQlBHH8KQYb6GUGhrwlB14YEQV1PEUFqSgNB",
          "dtype": "f4"
         },
         "y": {
          "bdata": "7sDRP51F8j8JPwVAlfoCQBMVDEAF5D9AQtoYQANJJkBNDF9AeilxQP6VDEDfGQ1AuggYQBgoxD82UylA8WReQPWUQ0DXDfk/Y/9KQCb6QkDG+opAFGE7QAIacUC/TTVAp0FTQEUFikBN4YRAZgQVQC+kYEBu3mtApqlwQLXWaUCfrgpANqsWQN4HP0C7OiNACFFsQF8VtD8s+2RA",
          "dtype": "f4"
         },
         "z": {
          "bdata": "BtqSP/7voD4CuZc+BEE0vo+wQb5PUFi+jcY+vtX5Xz+MQjQ++dSTP5setT6rAGG+Cb7CPgwfYj9x1ng/S3knvhcuUD+gP5M/XNT6vq5F3b4NtaY+AQCQvmxJWz+BNxo/XLyLP4JEbz//TyU+ziiRPhHfQj8pGlo/TuTSPnEV6L3Y5Km9jyeCvos2CL+Imv8+FhXvvTKfCD/sKki+",
          "dtype": "f4"
         }
        },
        {
         "customdata": [
          [
           "H021-3WWFLS-T2",
           "SFTCNS"
          ],
          [
           "H021-3WWFLS-T3",
           "SFTCNS"
          ],
          [
           "H021-8717LP-M1-Q1",
           "SFTCNS"
          ]
         ],
         "hovertemplate": "Sample name: %{customdata[0]}<br>code_oncotree: %{customdata[1]}<extra></extra>",
         "legendgroup": "SFTCNS",
         "marker": {
          "color": "#EF553B",
          "opacity": 0.8,
          "symbol": "circle"
         },
         "mode": "markers",
         "name": "SFTCNS",
         "scene": "scene",
         "showlegend": true,
         "type": "scatter3d",
         "x": {
          "bdata": "IeLvQFAE9EALTvZA",
          "dtype": "f4"
         },
         "y": {
          "bdata": "804vQLeK9D8h4FhA",
          "dtype": "f4"
         },
         "z": {
          "bdata": "7S2Cvhx3GL5EtII/",
          "dtype": "f4"
         }
        },
        {
         "customdata": [
          [
           "H021-188HA2-T2",
           "SGCS"
          ]
         ],
         "hovertemplate": "Sample name: %{customdata[0]}<br>code_oncotree: %{customdata[1]}<extra></extra>",
         "legendgroup": "SGCS",
         "marker": {
          "color": "#00cc96",
          "opacity": 0.8,
          "symbol": "circle"
         },
         "mode": "markers",
         "name": "SGCS",
         "scene": "scene",
         "showlegend": true,
         "type": "scatter3d",
         "x": {
          "bdata": "SXr6QA==",
          "dtype": "f4"
         },
         "y": {
          "bdata": "1MLnPw==",
          "dtype": "f4"
         },
         "z": {
          "bdata": "8ZJIPg==",
          "dtype": "f4"
         }
        },
        {
         "customdata": [
          [
           "H021-25ABKZ-M1-Q1",
           "SNA"
          ],
          [
           "H021-HXWUFC-M1-Q1",
           "SNA"
          ],
          [
           "H021-S5NH1G-M1-Q1",
           "SNA"
          ]
         ],
         "hovertemplate": "Sample name: %{customdata[0]}<br>code_oncotree: %{customdata[1]}<extra></extra>",
         "legendgroup": "SNA",
         "marker": {
          "color": "#ab63fa",
          "opacity": 0.8,
          "symbol": "circle"
         },
         "mode": "markers",
         "name": "SNA",
         "scene": "scene",
         "showlegend": true,
         "type": "scatter3d",
         "x": {
          "bdata": "brYAQVCoHEEfIQ1B",
          "dtype": "f4"
         },
         "y": {
          "bdata": "xu+IQBMzH0BNs21A",
          "dtype": "f4"
         },
         "z": {
          "bdata": "Ku1OQGv16z9L/DK/",
          "dtype": "f4"
         }
        },
        {
         "customdata": [
          [
           "H021-UC84HLV-T2-Q1",
           "SNSC"
          ]
         ],
         "hovertemplate": "Sample name: %{customdata[0]}<br>code_oncotree: %{customdata[1]}<extra></extra>",
         "legendgroup": "SNSC",
         "marker": {
          "color": "#FFA15A",
          "opacity": 0.8,
          "symbol": "circle"
         },
         "mode": "markers",
         "name": "SNSC",
         "scene": "scene",
         "showlegend": true,
         "type": "scatter3d",
         "x": {
          "bdata": "2BnxQA==",
          "dtype": "f4"
         },
         "y": {
          "bdata": "Y9EdQA==",
          "dtype": "f4"
         },
         "z": {
          "bdata": "axzHPw==",
          "dtype": "f4"
         }
        },
        {
         "customdata": [
          [
           "H021-6MT8KGA-M2-Q1",
           "SNUC"
          ]
         ],
         "hovertemplate": "Sample name: %{customdata[0]}<br>code_oncotree: %{customdata[1]}<extra></extra>",
         "legendgroup": "SNUC",
         "marker": {
          "color": "#19d3f3",
          "opacity": 0.8,
          "symbol": "circle"
         },
         "mode": "markers",
         "name": "SNUC",
         "scene": "scene",
         "showlegend": true,
         "type": "scatter3d",
         "x": {
          "bdata": "RssUQQ==",
          "dtype": "f4"
         },
         "y": {
          "bdata": "H+aHQA==",
          "dtype": "f4"
         },
         "z": {
          "bdata": "al/rPw==",
          "dtype": "f4"
         }
        },
        {
         "customdata": [
          [
           "H021-N5DBP9-T1-Q1",
           "SPDAC"
          ]
         ],
         "hovertemplate": "Sample name: %{customdata[0]}<br>code_oncotree: %{customdata[1]}<extra></extra>",
         "legendgroup": "SPDAC",
         "marker": {
          "color": "#FF6692",
          "opacity": 0.8,
          "symbol": "circle"
         },
         "mode": "markers",
         "name": "SPDAC",
         "scene": "scene",
         "showlegend": true,
         "type": "scatter3d",
         "x": {
          "bdata": "cvEWQQ==",
          "dtype": "f4"
         },
         "y": {
          "bdata": "fjcHQA==",
          "dtype": "f4"
         },
         "z": {
          "bdata": "amntPw==",
          "dtype": "f4"
         }
        },
        {
         "customdata": [
          [
           "H021-QDYNKT-M3-Q1",
           "SRCCR"
          ]
         ],
         "hovertemplate": "Sample name: %{customdata[0]}<br>code_oncotree: %{customdata[1]}<extra></extra>",
         "legendgroup": "SRCCR",
         "marker": {
          "color": "#B6E880",
          "opacity": 0.8,
          "symbol": "circle"
         },
         "mode": "markers",
         "name": "SRCCR",
         "scene": "scene",
         "showlegend": true,
         "type": "scatter3d",
         "x": {
          "bdata": "iOfzQA==",
          "dtype": "f4"
         },
         "y": {
          "bdata": "sxeDQA==",
          "dtype": "f4"
         },
         "z": {
          "bdata": "nsMvQA==",
          "dtype": "f4"
         }
        },
        {
         "customdata": [
          [
           "H021-HC65CS-M3-Q1",
           "SSRCC"
          ],
          [
           "H021-AGHTLK-M1-Q1",
           "SSRCC"
          ],
          [
           "H021-51T9XG-M8-Q1",
           "SSRCC"
          ],
          [
           "H021-QDYNKT-M1-Q1",
           "SSRCC"
          ]
         ],
         "hovertemplate": "Sample name: %{customdata[0]}<br>code_oncotree: %{customdata[1]}<extra></extra>",
         "legendgroup": "SSRCC",
         "marker": {
          "color": "#FF97FF",
          "opacity": 0.8,
          "symbol": "circle"
         },
         "mode": "markers",
         "name": "SSRCC",
         "scene": "scene",
         "showlegend": true,
         "type": "scatter3d",
         "x": {
          "bdata": "ROQFQfpxE0Eu2wNBuQnzQA==",
          "dtype": "f4"
         },
         "y": {
          "bdata": "NCxiQDczJUBjW4dA6kxtQA==",
          "dtype": "f4"
         },
         "z": {
          "bdata": "dEYYP1SA2T+QtE5AmwUgQA==",
          "dtype": "f4"
         }
        },
        {
         "customdata": [
          [
           "H021-SEPUGX-M1",
           "STAD"
          ],
          [
           "H021-JLFYAT-T2-Q1",
           "STAD"
          ],
          [
           "H021-BFYBGG-M2-Q1",
           "STAD"
          ],
          [
           "H021-DEG2RU-M1-Q1",
           "STAD"
          ],
          [
           "H021-1BCX1F-M1-Q1",
           "STAD"
          ],
          [
           "H021-9GE5AQ-M1-Q1",
           "STAD"
          ],
          [
           "H021-TEVZ11-T1-Q2",
           "STAD"
          ]
         ],
         "hovertemplate": "Sample name: %{customdata[0]}<br>code_oncotree: %{customdata[1]}<extra></extra>",
         "legendgroup": "STAD",
         "marker": {
          "color": "#FECB52",
          "opacity": 0.8,
          "symbol": "circle"
         },
         "mode": "markers",
         "name": "STAD",
         "scene": "scene",
         "showlegend": true,
         "type": "scatter3d",
         "x": {
          "bdata": "9LMGQaZzAEFEwQxB18/yQIRmBUERuhRBrI8JQQ==",
          "dtype": "f4"
         },
         "y": {
          "bdata": "owYeQHJnC0DEC9o/d6h4QB23nEA2tnBAKTKMQA==",
          "dtype": "f4"
         },
         "z": {
          "bdata": "pvsjQAvCnT+XPrQ/VpaRPwQkpT8WgIs/syowQA==",
          "dtype": "f4"
         }
        },
        {
         "customdata": [
          [
           "H021-5PS3DS-M1",
           "SYNS"
          ],
          [
           "H021-DNB4KV-T2",
           "SYNS"
          ],
          [
           "H021-DNMH-T2",
           "SYNS"
          ],
          [
           "H021-SEET2F-T1",
           "SYNS"
          ],
          [
           "H021-VMCXJC-M1",
           "SYNS"
          ],
          [
           "H021-MXRQ8Q-M1",
           "SYNS"
          ],
          [
           "H021-3CX96H-T1",
           "SYNS"
          ],
          [
           "H021-LGESLH-T2",
           "SYNS"
          ],
          [
           "I070-014-103148",
           "SYNS"
          ],
          [
           "H021-ALTZ5K-M1",
           "SYNS"
          ],
          [
           "H021-X16BXN-M1",
           "SYNS"
          ],
          [
           "I054-034-226668",
           "SYNS"
          ],
          [
           "H021-UP3EF1-U4-E2",
           "SYNS"
          ],
          [
           "H021-81SMLL-M4",
           "SYNS"
          ],
          [
           "H021-G6YVGM-T2-E2",
           "SYNS"
          ],
          [
           "H021-G6YVGM-T14-E2",
           "SYNS"
          ],
          [
           "I037-010-9T1-P1",
           "SYNS"
          ],
          [
           "I062-062-1T1-P1",
           "SYNS"
          ],
          [
           "H021-FZXNJ1-M1-E1",
           "SYNS"
          ],
          [
           "H021-KXNR54-M2",
           "SYNS"
          ],
          [
           "I019-005-1M1-P1",
           "SYNS"
          ],
          [
           "H021-6G8DSB-M1",
           "SYNS"
          ],
          [
           "H021-4ZKKR5-M2",
           "SYNS"
          ],
          [
           "H021-4KDJS6-T1",
           "SYNS"
          ],
          [
           "H021-QTMDK2-M1",
           "SYNS"
          ],
          [
           "H021-JQ6WER-T1",
           "SYNS"
          ],
          [
           "H021-PMVK1Y-T1",
           "SYNS"
          ],
          [
           "I023-065-9T1-P1",
           "SYNS"
          ],
          [
           "H021-7KW87B-T1-Q1",
           "SYNS"
          ],
          [
           "H021-Q4XWWQ-T1-Q1",
           "SYNS"
          ],
          [
           "H021-M9TTMF-M2-Q1",
           "SYNS"
          ],
          [
           "H021-M9TTMF-M1-Q1",
           "SYNS"
          ],
          [
           "H021-MN5PTN-T1-Q1",
           "SYNS"
          ],
          [
           "H021-E7U1N6-M1-Q1",
           "SYNS"
          ],
          [
           "H021-972NZ9-M1-Q1",
           "SYNS"
          ],
          [
           "H021-AZGSLR-T1-Q1",
           "SYNS"
          ],
          [
           "I058-007-M1",
           "SYNS"
          ],
          [
           "H021-3WMWU8-M1-Q1",
           "SYNS"
          ],
          [
           "I015-025-3T1-P1",
           "SYNS"
          ],
          [
           "H021-Z1ALP4-M1-Q1",
           "SYNS"
          ],
          [
           "H021-RBZMVF-T3-Q1",
           "SYNS"
          ],
          [
           "H021-24SMQ7-M3-Q1",
           "SYNS"
          ],
          [
           "H021-VHAT8U-T3-Q1",
           "SYNS"
          ],
          [
           "H021-24FHXA-M1-Q1",
           "SYNS"
          ],
          [
           "H021-TWC1FN-T31-Q1",
           "SYNS"
          ],
          [
           "H021-TWC1FN-T61-Q1",
           "SYNS"
          ],
          [
           "H021-PJ6GF8-T1-Q1",
           "SYNS"
          ],
          [
           "H021-ASEGT9-M1-Q1",
           "SYNS"
          ],
          [
           "H021-ASEGT9-M2-Q1",
           "SYNS"
          ],
          [
           "I063-069-0T1-P1",
           "SYNS"
          ],
          [
           "H021-KLE6JW-T4-Q1",
           "SYNS"
          ],
          [
           "H021-STG51K-M3-Q1",
           "SYNS"
          ],
          [
           "H021-3MG4UY-T1-Q1",
           "SYNS"
          ],
          [
           "H021-8EFMUF-T2-Q1",
           "SYNS"
          ],
          [
           "H021-L2R2M9-T1-Q1",
           "SYNS"
          ],
          [
           "H021-L2R2M9-T2-Q1",
           "SYNS"
          ],
          [
           "H021-SW756U-M2-Q1",
           "SYNS"
          ],
          [
           "H021-G797AT-M1-Q1",
           "SYNS"
          ],
          [
           "H021-FHFA7V-M1-Q1",
           "SYNS"
          ],
          [
           "H021-4WPR7B-M5-Q1",
           "SYNS"
          ],
          [
           "H021-H7537S-M1-Q1",
           "SYNS"
          ],
          [
           "H021-A8M4KJ-M1-Q1",
           "SYNS"
          ],
          [
           "H021-W8WP7AU-T2-Q1",
           "SYNS"
          ],
          [
           "H021-FHFA7V-M3-Q1",
           "SYNS"
          ],
          [
           "H021-RBZMVF-M1-Q1",
           "SYNS"
          ],
          [
           "H021-81PZGRS-M4-Q1",
           "SYNS"
          ],
          [
           "H021-LFQU91A-M2-Q1",
           "SYNS"
          ],
          [
           "H021-RMUM9JY-T1-Q1",
           "SYNS"
          ],
          [
           "H021-LFQU91A-M2-Q1-R2",
           "SYNS"
          ],
          [
           "H021-RMUM9JY-T1-Q1-R2",
           "SYNS"
          ],
          [
           "H021-GRJDJG3-M1-Q1",
           "SYNS"
          ]
         ],
         "hovertemplate": "Sample name: %{customdata[0]}<br>code_oncotree: %{customdata[1]}<extra></extra>",
         "legendgroup": "SYNS",
         "marker": {
          "color": "#636efa",
          "opacity": 0.8,
          "symbol": "circle"
         },
         "mode": "markers",
         "name": "SYNS",
         "scene": "scene",
         "showlegend": true,
         "type": "scatter3d",
         "x": {
          "bdata": "5vEJQfc/GEGxbxhBO60XQaQe4UBbKfRAoQIGQXe+CUEVsRFBhgIeQdnmHUFV4BhB+awIQYcfHEEIsRNBEyoSQRMpFkEaQRtBkRYaQQIUE0E8zhZBSKslQaMVFkGIWh5BMWIeQQhM/kBdhx1BhSkVQV+mAEEEiBNBHyoEQa+kHUHFLhlBcJ0cQXCOIEFJOh9Bqg4dQZi4IEFWHB1BYnwdQdjZFkG8khxB+VgVQct2GUF0MR5BXCwZQWB5B0GSUB9BemAZQX9XE0HsNBdB01kbQSbvEUFSsBhBM2AYQQ7KEEFJVhFBeckPQYfkFEEPqAJB+xIYQYixHUHlpv9AcG8HQYxDGkEZMRpBIL8UQdT4GkE6phRBv4wZQcTyEkE=",
          "dtype": "f4"
         },
         "y": {
          "bdata": "eLVfQCaj8T90V+c/9jwDQJ81RkBBbN4/7SCIP4aBij8XySZAc/yDPybIfD/rKApA4FNaP5mfyT8+tAZASKcGQBAAaD/M7IE/WPvKP7dBLUAwgQBAgHEnQJxw0D+BvR5AZ7kUQCMakUCYUG5A62kCQL0iiEDR21lANGo8QO0yQUAMWSBAv//jP8NtI0CG69I/LH6dP6V5PUD0Ddw/2YE2QJ6YGEDSX6o/Ptr2P96tJkDRbs8/3N3HP+Iva0Bw6gZAWg+1P0r8FkA+Ei5AGaAnQB7SPkB+KTBAiIbIP1ugNEALe88/M+TzP8y7gECmmp5AurkxQNteIEDmJHFAWylNQFmnN0AWURFA2qYIQN594T/1VgZAH+XxP6pKkz8=",
          "dtype": "f4"
         },
         "z": {
          "bdata": "yZPoP+PSij/1vKY/pgxxP3e9lD/4lk6+8Ft4PtT2SD9zZHm//NKsPuWeBz/SeWG/EBZdPz95bT9LULA/+hSqP2C6Xr2bi2a6LomOPxhJQj/OQMM/GLaaPi9LnL7sZkI/cwo4P5VZ8T8crhc/2+2gP2PwiL1DFQ8+XpNAvRWAOj9Th4Q/7jY/PxqRh77SKQU/hXdePrkNQj+pPUw/LoD7uzOkUD/JWQA/NRWKP2+JxT+QC5A+JuCJPldtjD+Tek0+nAV5PYTGEED+3U4/5h+bP1qwej9d24I+gk3EPkQNPL9flxA/9IEzQBae0z7UEZ0/abfmP5Lwmj8MOAVAwBfjPvwxzT9m5GY/hZPuP7ZEjT9D99c/X+iUPyGfFT8=",
          "dtype": "f4"
         }
        },
        {
         "customdata": [
          [
           "H021-799E2B-M1",
           "TCCA"
          ]
         ],
         "hovertemplate": "Sample name: %{customdata[0]}<br>code_oncotree: %{customdata[1]}<extra></extra>",
         "legendgroup": "TCCA",
         "marker": {
          "color": "#EF553B",
          "opacity": 0.8,
          "symbol": "circle"
         },
         "mode": "markers",
         "name": "TCCA",
         "scene": "scene",
         "showlegend": true,
         "type": "scatter3d",
         "x": {
          "bdata": "k+0jQQ==",
          "dtype": "f4"
         },
         "y": {
          "bdata": "EPlAQA==",
          "dtype": "f4"
         },
         "z": {
          "bdata": "NQO3Pw==",
          "dtype": "f4"
         }
        },
        {
         "customdata": [
          [
           "H021-KLAV6A-M6-Q1",
           "THAP"
          ],
          [
           "H021-8HZGNY-T1-Q1",
           "THAP"
          ],
          [
           "H021-CV2H9C-M2-Q1",
           "THAP"
          ],
          [
           "H021-919B7L-M2-Q1",
           "THAP"
          ],
          [
           "H021-8XMJ4MY-T1-Q1",
           "THAP"
          ]
         ],
         "hovertemplate": "Sample name: %{customdata[0]}<br>code_oncotree: %{customdata[1]}<extra></extra>",
         "legendgroup": "THAP",
         "marker": {
          "color": "#00cc96",
          "opacity": 0.8,
          "symbol": "circle"
         },
         "mode": "markers",
         "name": "THAP",
         "scene": "scene",
         "showlegend": true,
         "type": "scatter3d",
         "x": {
          "bdata": "/FwcQbTJF0HVJx5BG8YSQQZTHEE=",
          "dtype": "f4"
         },
         "y": {
          "bdata": "9wRPQM+APkBvlIxAeP+EQFtVGEA=",
          "dtype": "f4"
         },
         "z": {
          "bdata": "yBWZP53lI0C6NaQ/HajvPxtcED8=",
          "dtype": "f4"
         }
        },
        {
         "customdata": [
          [
           "H021-GHDU6W-M1",
           "THFO"
          ]
         ],
         "hovertemplate": "Sample name: %{customdata[0]}<br>code_oncotree: %{customdata[1]}<extra></extra>",
         "legendgroup": "THFO",
         "marker": {
          "color": "#ab63fa",
          "opacity": 0.8,
          "symbol": "circle"
         },
         "mode": "markers",
         "name": "THFO",
         "scene": "scene",
         "showlegend": true,
         "type": "scatter3d",
         "x": {
          "bdata": "y70XQQ==",
          "dtype": "f4"
         },
         "y": {
          "bdata": "oQJBQA==",
          "dtype": "f4"
         },
         "z": {
          "bdata": "O3gYQA==",
          "dtype": "f4"
         }
        },
        {
         "customdata": [
          [
           "H021-T5KDDN-M2-Q1",
           "THHC"
          ],
          [
           "H021-RE7R1S-M1-Q1",
           "THHC"
          ]
         ],
         "hovertemplate": "Sample name: %{customdata[0]}<br>code_oncotree: %{customdata[1]}<extra></extra>",
         "legendgroup": "THHC",
         "marker": {
          "color": "#FFA15A",
          "opacity": 0.8,
          "symbol": "circle"
         },
         "mode": "markers",
         "name": "THHC",
         "scene": "scene",
         "showlegend": true,
         "type": "scatter3d",
         "x": {
          "bdata": "3zQDQWPJAEE=",
          "dtype": "f4"
         },
         "y": {
          "bdata": "sblAQE/FhUA=",
          "dtype": "f4"
         },
         "z": {
          "bdata": "BMkaQNoZFT4=",
          "dtype": "f4"
         }
        },
        {
         "customdata": [
          [
           "H021-1M19YX-M5-Q1",
           "THME"
          ],
          [
           "H021-YUSQ3A-M1-Q1",
           "THME"
          ],
          [
           "H021-F69LAU-M1-Q1",
           "THME"
          ]
         ],
         "hovertemplate": "Sample name: %{customdata[0]}<br>code_oncotree: %{customdata[1]}<extra></extra>",
         "legendgroup": "THME",
         "marker": {
          "color": "#19d3f3",
          "opacity": 0.8,
          "symbol": "circle"
         },
         "mode": "markers",
         "name": "THME",
         "scene": "scene",
         "showlegend": true,
         "type": "scatter3d",
         "x": {
          "bdata": "ea4aQVAtEUHfpgJB",
          "dtype": "f4"
         },
         "y": {
          "bdata": "/WIlQLhulUAqZB1A",
          "dtype": "f4"
         },
         "z": {
          "bdata": "03bTPixW0D9h4SRA",
          "dtype": "f4"
         }
        },
        {
         "customdata": [
          [
           "H021-CEXBTN-M1-Q1",
           "THPA"
          ]
         ],
         "hovertemplate": "Sample name: %{customdata[0]}<br>code_oncotree: %{customdata[1]}<extra></extra>",
         "legendgroup": "THPA",
         "marker": {
          "color": "#FF6692",
          "opacity": 0.8,
          "symbol": "circle"
         },
         "mode": "markers",
         "name": "THPA",
         "scene": "scene",
         "showlegend": true,
         "type": "scatter3d",
         "x": {
          "bdata": "0vnsQA==",
          "dtype": "f4"
         },
         "y": {
          "bdata": "ZF98QA==",
          "dtype": "f4"
         },
         "z": {
          "bdata": "hOcdQA==",
          "dtype": "f4"
         }
        },
        {
         "customdata": [
          [
           "H021-F3N5LJ-T1-Q1",
           "THPD"
          ],
          [
           "H021-MNL1EH-T4-Q1",
           "THPD"
          ],
          [
           "H021-DGTL6K-M2-Q1",
           "THPD"
          ],
          [
           "H021-LXTSW2M-M1-Q1",
           "THPD"
          ],
          [
           "H021-LXTSW2M-M1-Q1-R2",
           "THPD"
          ],
          [
           "H021-DGTL6K-M2-Q1-R2",
           "THPD"
          ]
         ],
         "hovertemplate": "Sample name: %{customdata[0]}<br>code_oncotree: %{customdata[1]}<extra></extra>",
         "legendgroup": "THPD",
         "marker": {
          "color": "#B6E880",
          "opacity": 0.8,
          "symbol": "circle"
         },
         "mode": "markers",
         "name": "THPD",
         "scene": "scene",
         "showlegend": true,
         "type": "scatter3d",
         "x": {
          "bdata": "3E0TQbsXAkHkpvFAcqEMQRRQC0FCtvNA",
          "dtype": "f4"
         },
         "y": {
          "bdata": "AjJ1QIP8hUAMiXlAF2glQAW3JkA563pA",
          "dtype": "f4"
         },
         "z": {
          "bdata": "EHoXQKHTHj4gEjhAiJEeQNHkIkDHGDVA",
          "dtype": "f4"
         }
        },
        {
         "customdata": [
          [
           "H021-ECKDKR-M3",
           "THYC"
          ],
          [
           "H021-C444S1-M2-Q1",
           "THYC"
          ],
          [
           "H021-5Y7TN1-T1",
           "THYC"
          ],
          [
           "H021-AR6LUZ-T4-E2",
           "THYC"
          ],
          [
           "H021-DS39PP-M2-E2",
           "THYC"
          ],
          [
           "H021-FKPP-T1",
           "THYC"
          ],
          [
           "H021-VVEHNT-M2",
           "THYC"
          ],
          [
           "H021-WDZGV8-M1-E1",
           "THYC"
          ],
          [
           "H021-AW4DMR-M1-Q1",
           "THYC"
          ],
          [
           "H021-WWWN11-M1-Q1",
           "THYC"
          ],
          [
           "H021-43SYEG-M1-Q1",
           "THYC"
          ],
          [
           "H021-LL58RY-M1-Q1",
           "THYC"
          ],
          [
           "H021-3VP39G-M1-Q1",
           "THYC"
          ],
          [
           "H021-NMBHY8L-M1-Q1",
           "THYC"
          ]
         ],
         "hovertemplate": "Sample name: %{customdata[0]}<br>code_oncotree: %{customdata[1]}<extra></extra>",
         "legendgroup": "THYC",
         "marker": {
          "color": "#FF97FF",
          "opacity": 0.8,
          "symbol": "circle"
         },
         "mode": "markers",
         "name": "THYC",
         "scene": "scene",
         "showlegend": true,
         "type": "scatter3d",
         "x": {
          "bdata": "DB0YQSfpIEGdxB5BnLnsQBJCDUHVnwhBCYoPQUBx9kAVywNB72AQQVJXHkF4yRdBPIAbQRn8GEE=",
          "dtype": "f4"
         },
         "y": {
          "bdata": "UKxSQMuvQ0AiolFAKFdPQCGD0z/Sodo/E99PQBIDbUCH0iJAFyICQD+zQECco3tAFfQfQLhWe0A=",
          "dtype": "f4"
         },
         "z": {
          "bdata": "auAGP0JR9T8I9K8/GY+2P/cBrD+hz+E/58uLPww4I0CQTSlAFBDOP3SNCkDSWsE/ZiHfPxxo4z8=",
          "dtype": "f4"
         }
        },
        {
         "customdata": [
          [
           "H021-752RWG-M1-Q1",
           "TNET"
          ]
         ],
         "hovertemplate": "Sample name: %{customdata[0]}<br>code_oncotree: %{customdata[1]}<extra></extra>",
         "legendgroup": "TNET",
         "marker": {
          "color": "#FECB52",
          "opacity": 0.8,
          "symbol": "circle"
         },
         "mode": "markers",
         "name": "TNET",
         "scene": "scene",
         "showlegend": true,
         "type": "scatter3d",
         "x": {
          "bdata": "o6D7QA==",
          "dtype": "f4"
         },
         "y": {
          "bdata": "bq+CQA==",
          "dtype": "f4"
         },
         "z": {
          "bdata": "m44VQA==",
          "dtype": "f4"
         }
        },
        {
         "customdata": [
          [
           "H021-XX16CP-M2",
           "TSCC"
          ],
          [
           "H021-HAEC1Y-M3-Q1",
           "TSCC"
          ]
         ],
         "hovertemplate": "Sample name: %{customdata[0]}<br>code_oncotree: %{customdata[1]}<extra></extra>",
         "legendgroup": "TSCC",
         "marker": {
          "color": "#636efa",
          "opacity": 0.8,
          "symbol": "circle"
         },
         "mode": "markers",
         "name": "TSCC",
         "scene": "scene",
         "showlegend": true,
         "type": "scatter3d",
         "x": {
          "bdata": "s/0HQWRaCkE=",
          "dtype": "f4"
         },
         "y": {
          "bdata": "OxqBQJ4njUA=",
          "dtype": "f4"
         },
         "z": {
          "bdata": "yjfSPy/cwj8=",
          "dtype": "f4"
         }
        },
        {
         "customdata": [
          [
           "H021-XXRVJ5-M2-Q1",
           "TSTAD"
          ]
         ],
         "hovertemplate": "Sample name: %{customdata[0]}<br>code_oncotree: %{customdata[1]}<extra></extra>",
         "legendgroup": "TSTAD",
         "marker": {
          "color": "#EF553B",
          "opacity": 0.8,
          "symbol": "circle"
         },
         "mode": "markers",
         "name": "TSTAD",
         "scene": "scene",
         "showlegend": true,
         "type": "scatter3d",
         "x": {
          "bdata": "gR4YQQ==",
          "dtype": "f4"
         },
         "y": {
          "bdata": "+yV6QA==",
          "dtype": "f4"
         },
         "z": {
          "bdata": "yIQ1QA==",
          "dtype": "f4"
         }
        },
        {
         "customdata": [
          [
           "H021-CTSFUY-M3-Q1",
           "TT"
          ],
          [
           "H021-M3Z7W7-M1-Q1",
           "TT"
          ]
         ],
         "hovertemplate": "Sample name: %{customdata[0]}<br>code_oncotree: %{customdata[1]}<extra></extra>",
         "legendgroup": "TT",
         "marker": {
          "color": "#00cc96",
          "opacity": 0.8,
          "symbol": "circle"
         },
         "mode": "markers",
         "name": "TT",
         "scene": "scene",
         "showlegend": true,
         "type": "scatter3d",
         "x": {
          "bdata": "UcoOQQlfGEE=",
          "dtype": "f4"
         },
         "y": {
          "bdata": "iCuBQDDkeEA=",
          "dtype": "f4"
         },
         "z": {
          "bdata": "2JtPQPuwGEA=",
          "dtype": "f4"
         }
        },
        {
         "customdata": [
          [
           "H021-H8WUDQ-M3",
           "UAD"
          ],
          [
           "H021-P2KAZ5-M2-Q1",
           "UAD"
          ]
         ],
         "hovertemplate": "Sample name: %{customdata[0]}<br>code_oncotree: %{customdata[1]}<extra></extra>",
         "legendgroup": "UAD",
         "marker": {
          "color": "#ab63fa",
          "opacity": 0.8,
          "symbol": "circle"
         },
         "mode": "markers",
         "name": "UAD",
         "scene": "scene",
         "showlegend": true,
         "type": "scatter3d",
         "x": {
          "bdata": "DJgEQX2h+UA=",
          "dtype": "f4"
         },
         "y": {
          "bdata": "QwOFQIxzh0A=",
          "dtype": "f4"
         },
         "z": {
          "bdata": "T15MQF6GTUA=",
          "dtype": "f4"
         }
        },
        {
         "customdata": [
          [
           "H021-54XZK4-T1",
           "UAS"
          ]
         ],
         "hovertemplate": "Sample name: %{customdata[0]}<br>code_oncotree: %{customdata[1]}<extra></extra>",
         "legendgroup": "UAS",
         "marker": {
          "color": "#FFA15A",
          "opacity": 0.8,
          "symbol": "circle"
         },
         "mode": "markers",
         "name": "UAS",
         "scene": "scene",
         "showlegend": true,
         "type": "scatter3d",
         "x": {
          "bdata": "e34EQQ==",
          "dtype": "f4"
         },
         "y": {
          "bdata": "touRPw==",
          "dtype": "f4"
         },
         "z": {
          "bdata": "bAgkPg==",
          "dtype": "f4"
         }
        },
        {
         "customdata": [
          [
           "H021-28FPJC-T1-Q1",
           "UCCC"
          ]
         ],
         "hovertemplate": "Sample name: %{customdata[0]}<br>code_oncotree: %{customdata[1]}<extra></extra>",
         "legendgroup": "UCCC",
         "marker": {
          "color": "#19d3f3",
          "opacity": 0.8,
          "symbol": "circle"
         },
         "mode": "markers",
         "name": "UCCC",
         "scene": "scene",
         "showlegend": true,
         "type": "scatter3d",
         "x": {
          "bdata": "OEIKQQ==",
          "dtype": "f4"
         },
         "y": {
          "bdata": "FEhsQA==",
          "dtype": "f4"
         },
         "z": {
          "bdata": "5ysfQA==",
          "dtype": "f4"
         }
        },
        {
         "customdata": [
          [
           "K26K-ZG97EH-M11-Q1",
           "UCEC"
          ]
         ],
         "hovertemplate": "Sample name: %{customdata[0]}<br>code_oncotree: %{customdata[1]}<extra></extra>",
         "legendgroup": "UCEC",
         "marker": {
          "color": "#FF6692",
          "opacity": 0.8,
          "symbol": "circle"
         },
         "mode": "markers",
         "name": "UCEC",
         "scene": "scene",
         "showlegend": true,
         "type": "scatter3d",
         "x": {
          "bdata": "ea/8QA==",
          "dtype": "f4"
         },
         "y": {
          "bdata": "2H93QA==",
          "dtype": "f4"
         },
         "z": {
          "bdata": "yDlBQA==",
          "dtype": "f4"
         }
        },
        {
         "customdata": [
          [
           "H021-DZ7YXK-M1-Q1",
           "UCU"
          ]
         ],
         "hovertemplate": "Sample name: %{customdata[0]}<br>code_oncotree: %{customdata[1]}<extra></extra>",
         "legendgroup": "UCU",
         "marker": {
          "color": "#B6E880",
          "opacity": 0.8,
          "symbol": "circle"
         },
         "mode": "markers",
         "name": "UCU",
         "scene": "scene",
         "showlegend": true,
         "type": "scatter3d",
         "x": {
          "bdata": "EHYBQQ==",
          "dtype": "f4"
         },
         "y": {
          "bdata": "Abt/QA==",
          "dtype": "f4"
         },
         "z": {
          "bdata": "7llVQA==",
          "dtype": "f4"
         }
        },
        {
         "customdata": [
          [
           "H021-8SF2SV-M1-E2",
           "UELMS"
          ]
         ],
         "hovertemplate": "Sample name: %{customdata[0]}<br>code_oncotree: %{customdata[1]}<extra></extra>",
         "legendgroup": "UELMS",
         "marker": {
          "color": "#FF97FF",
          "opacity": 0.8,
          "symbol": "circle"
         },
         "mode": "markers",
         "name": "UELMS",
         "scene": "scene",
         "showlegend": true,
         "type": "scatter3d",
         "x": {
          "bdata": "jXD5QA==",
          "dtype": "f4"
         },
         "y": {
          "bdata": "zskGQA==",
          "dtype": "f4"
         },
         "z": {
          "bdata": "mihpPw==",
          "dtype": "f4"
         }
        },
        {
         "customdata": [
          [
           "H021-UG7GHE-M7-Q1",
           "ULMS"
          ],
          [
           "H021-2XJ78U-M1-Q1",
           "ULMS"
          ],
          [
           "H021-MWX143-M1-Q1",
           "ULMS"
          ],
          [
           "H021-C9L8VT-T1-Q1",
           "ULMS"
          ],
          [
           "H021-DWG1JA-T1",
           "ULMS"
          ],
          [
           "H021-RYWQDW-T1",
           "ULMS"
          ],
          [
           "H021-8P81QA-T2",
           "ULMS"
          ],
          [
           "H021-H9XVGZ-M1",
           "ULMS"
          ],
          [
           "H021-JSS475-T1",
           "ULMS"
          ],
          [
           "H021-T2J7Z8-M1",
           "ULMS"
          ],
          [
           "H021-CEFU8J-T1",
           "ULMS"
          ],
          [
           "H021-BRW4ZQ-T1",
           "ULMS"
          ],
          [
           "H021-N8SFAC-M1",
           "ULMS"
          ],
          [
           "H021-T2QF9H-M1",
           "ULMS"
          ],
          [
           "H021-GW3H2S-M1",
           "ULMS"
          ],
          [
           "H021-UG7GHE-M1",
           "ULMS"
          ],
          [
           "H021-SBTRPD-M1-Q1",
           "ULMS"
          ],
          [
           "H021-H5XH4D-T1-Q1",
           "ULMS"
          ],
          [
           "H021-9Q12BY-M1-Q1",
           "ULMS"
          ],
          [
           "H021-9Q12BY-M2-Q1",
           "ULMS"
          ],
          [
           "H021-GUS5RX-M1-Q1",
           "ULMS"
          ],
          [
           "H021-ZNGJU6-T3-Q1",
           "ULMS"
          ],
          [
           "H021-V62A8V-T1-Q1",
           "ULMS"
          ]
         ],
         "hovertemplate": "Sample name: %{customdata[0]}<br>code_oncotree: %{customdata[1]}<extra></extra>",
         "legendgroup": "ULMS",
         "marker": {
          "color": "#FECB52",
          "opacity": 0.8,
          "symbol": "circle"
         },
         "mode": "markers",
         "name": "ULMS",
         "scene": "scene",
         "showlegend": true,
         "type": "scatter3d",
         "x": {
          "bdata": "zcsiQSAqIUHrCQdB9ZIUQegR+UDScfJAziH7QA0G8kBBFfdAKJ76QNguAUFvMgZByILqQFOuHEE+6iNBeqkjQeDSFUGAQwtBtP4dQauJFUFM2hBBH4oSQQKIIUE=",
          "dtype": "f4"
         },
         "y": {
          "bdata": "w4r+PwJZC0C2oIdAr5ieQKMPS0BAKylAw/sCQEkawT9IA+s/FLtNQCqwPz+51Yo//9rUPyvpnD96My5ATrsFQO2JbEBJNkhAazsEQL75tj+20yNAV7VsQOFtTUA=",
          "dtype": "f4"
         },
         "z": {
          "bdata": "X781Pr+ltj/x1wO/ITgxP/J0Vr7Oz8++ksYzPkya8D4I2Ac/0GHTvsZwtj6+0zQ/GL0LP7CFjT6S0pe9OeGsPvSV+72lXP6+GZUPvaYMZT2lC9A+UBAWv3Lvt74=",
          "dtype": "f4"
         }
        },
        {
         "customdata": [
          [
           "H021-AAF75G-M2",
           "UM"
          ],
          [
           "H021-LNJLBC-M1",
           "UM"
          ],
          [
           "H021-4G8WUT-M1",
           "UM"
          ],
          [
           "H021-UB9MFS-M1-Q1",
           "UM"
          ],
          [
           "H021-UB9MFS-M3-Q1",
           "UM"
          ],
          [
           "H021-KBL991-M3-Q1",
           "UM"
          ],
          [
           "H021-338SAZ-M1",
           "UM"
          ],
          [
           "H021-QL9PAA-M1-Q1",
           "UM"
          ],
          [
           "H021-98DXXQ-M3-Q1",
           "UM"
          ],
          [
           "H021-VMUZN8-M3-Q1",
           "UM"
          ],
          [
           "H021-KV54HF-T1-Q1",
           "UM"
          ],
          [
           "H021-17Q5ZW-M1-Q1",
           "UM"
          ],
          [
           "H021-V2RUTS-M1-Q1",
           "UM"
          ],
          [
           "H021-PAQVNC-M1-Q1",
           "UM"
          ],
          [
           "H021-S3XV5V-M1-Q1",
           "UM"
          ],
          [
           "H021-E6D33M-M3-Q1",
           "UM"
          ]
         ],
         "hovertemplate": "Sample name: %{customdata[0]}<br>code_oncotree: %{customdata[1]}<extra></extra>",
         "legendgroup": "UM",
         "marker": {
          "color": "#636efa",
          "opacity": 0.8,
          "symbol": "circle"
         },
         "mode": "markers",
         "name": "UM",
         "scene": "scene",
         "showlegend": true,
         "type": "scatter3d",
         "x": {
          "bdata": "2iTjQBC7DUE8nBxBwnUTQTtFEkGOPPFAiIsPQdU8+0D9ZxJBl28MQYW7GUHNDw1B8TAPQaiN9kBdZxxBorQIQQ==",
          "dtype": "f4"
         },
         "y": {
          "bdata": "LtcnQCdFQkBOTtU/Rd4DQOmrOUAB+2NAdlUcQN+H+z/GcmtArsJyQGPGAUDA7fw/1JJLQL0XakAGonRAITx8QA==",
          "dtype": "f4"
         },
         "z": {
          "bdata": "w0uzvf08Yz5gD0w/Ic9jP0v0mD9yhQc/BRUXvv6wMz+Eyrq+KNJyPwvq+T5lJ+69ihKCPvhWkT/H8nM/EVriPg==",
          "dtype": "f4"
         }
        },
        {
         "customdata": [
          [
           "H021-978GLK-T1-Q1",
           "UNCMAL"
          ],
          [
           "H021-HPVSB4-M1-Q1",
           "UNCMAL"
          ],
          [
           "H021-MXAJXV-M1-Q1",
           "UNCMAL"
          ]
         ],
         "hovertemplate": "Sample name: %{customdata[0]}<br>code_oncotree: %{customdata[1]}<extra></extra>",
         "legendgroup": "UNCMAL",
         "marker": {
          "color": "#EF553B",
          "opacity": 0.8,
          "symbol": "circle"
         },
         "mode": "markers",
         "name": "UNCMAL",
         "scene": "scene",
         "showlegend": true,
         "type": "scatter3d",
         "x": {
          "bdata": "Ri0BQUTfAEGFBgVB",
          "dtype": "f4"
         },
         "y": {
          "bdata": "/bWPQIYUhEBPsJVA",
          "dtype": "f4"
         },
         "z": {
          "bdata": "h84ZQNMZXEDXvqE/",
          "dtype": "f4"
         }
        },
        {
         "customdata": [
          [
           "H021-AY48DS-M1-Q1",
           "UPDC"
          ]
         ],
         "hovertemplate": "Sample name: %{customdata[0]}<br>code_oncotree: %{customdata[1]}<extra></extra>",
         "legendgroup": "UPDC",
         "marker": {
          "color": "#00cc96",
          "opacity": 0.8,
          "symbol": "circle"
         },
         "mode": "markers",
         "name": "UPDC",
         "scene": "scene",
         "showlegend": true,
         "type": "scatter3d",
         "x": {
          "bdata": "9bYDQQ==",
          "dtype": "f4"
         },
         "y": {
          "bdata": "9MpyQA==",
          "dtype": "f4"
         },
         "z": {
          "bdata": "QzhUPw==",
          "dtype": "f4"
         }
        },
        {
         "customdata": [
          [
           "H021-1G46Z9-M2-Q1",
           "URCA"
          ],
          [
           "H021-N63CHW-T7-Q1",
           "URCA"
          ]
         ],
         "hovertemplate": "Sample name: %{customdata[0]}<br>code_oncotree: %{customdata[1]}<extra></extra>",
         "legendgroup": "URCA",
         "marker": {
          "color": "#ab63fa",
          "opacity": 0.8,
          "symbol": "circle"
         },
         "mode": "markers",
         "name": "URCA",
         "scene": "scene",
         "showlegend": true,
         "type": "scatter3d",
         "x": {
          "bdata": "iqH3QOOXCkE=",
          "dtype": "f4"
         },
         "y": {
          "bdata": "2s4xQMsKTkA=",
          "dtype": "f4"
         },
         "z": {
          "bdata": "E863P6pIS0A=",
          "dtype": "f4"
         }
        },
        {
         "customdata": [
          [
           "H021-PZCLR3-M5-Q1",
           "URMM"
          ]
         ],
         "hovertemplate": "Sample name: %{customdata[0]}<br>code_oncotree: %{customdata[1]}<extra></extra>",
         "legendgroup": "URMM",
         "marker": {
          "color": "#FFA15A",
          "opacity": 0.8,
          "symbol": "circle"
         },
         "mode": "markers",
         "name": "URMM",
         "scene": "scene",
         "showlegend": true,
         "type": "scatter3d",
         "x": {
          "bdata": "KA77QA==",
          "dtype": "f4"
         },
         "y": {
          "bdata": "O+ROQA==",
          "dtype": "f4"
         },
         "z": {
          "bdata": "MEbxvQ==",
          "dtype": "f4"
         }
        },
        {
         "customdata": [
          [
           "H021-F1XEE3-M3-Q1",
           "USARC"
          ]
         ],
         "hovertemplate": "Sample name: %{customdata[0]}<br>code_oncotree: %{customdata[1]}<extra></extra>",
         "legendgroup": "USARC",
         "marker": {
          "color": "#19d3f3",
          "opacity": 0.8,
          "symbol": "circle"
         },
         "mode": "markers",
         "name": "USARC",
         "scene": "scene",
         "showlegend": true,
         "type": "scatter3d",
         "x": {
          "bdata": "cY8PQQ==",
          "dtype": "f4"
         },
         "y": {
          "bdata": "5D0kQA==",
          "dtype": "f4"
         },
         "z": {
          "bdata": "3TyPug==",
          "dtype": "f4"
         }
        },
        {
         "customdata": [
          [
           "H021-9X7HCM-M1-Q1",
           "USCC"
          ]
         ],
         "hovertemplate": "Sample name: %{customdata[0]}<br>code_oncotree: %{customdata[1]}<extra></extra>",
         "legendgroup": "USCC",
         "marker": {
          "color": "#FF6692",
          "opacity": 0.8,
          "symbol": "circle"
         },
         "mode": "markers",
         "name": "USCC",
         "scene": "scene",
         "showlegend": true,
         "type": "scatter3d",
         "x": {
          "bdata": "pXz7QA==",
          "dtype": "f4"
         },
         "y": {
          "bdata": "Mr95QA==",
          "dtype": "f4"
         },
         "z": {
          "bdata": "OZNLQA==",
          "dtype": "f4"
         }
        },
        {
         "customdata": [
          [
           "H021-LNH5GS-M1",
           "USTAD"
          ]
         ],
         "hovertemplate": "Sample name: %{customdata[0]}<br>code_oncotree: %{customdata[1]}<extra></extra>",
         "legendgroup": "USTAD",
         "marker": {
          "color": "#B6E880",
          "opacity": 0.8,
          "symbol": "circle"
         },
         "mode": "markers",
         "name": "USTAD",
         "scene": "scene",
         "showlegend": true,
         "type": "scatter3d",
         "x": {
          "bdata": "ykglQQ==",
          "dtype": "f4"
         },
         "y": {
          "bdata": "YFU6QA==",
          "dtype": "f4"
         },
         "z": {
          "bdata": "Gsi2PQ==",
          "dtype": "f4"
         }
        },
        {
         "customdata": [
          [
           "H021-QRVGND-M2-Q1",
           "VA"
          ],
          [
           "H021-9L41LB9-M3-Q1",
           "VA"
          ]
         ],
         "hovertemplate": "Sample name: %{customdata[0]}<br>code_oncotree: %{customdata[1]}<extra></extra>",
         "legendgroup": "VA",
         "marker": {
          "color": "#FF97FF",
          "opacity": 0.8,
          "symbol": "circle"
         },
         "mode": "markers",
         "name": "VA",
         "scene": "scene",
         "showlegend": true,
         "type": "scatter3d",
         "x": {
          "bdata": "2eQCQXa87UA=",
          "dtype": "f4"
         },
         "y": {
          "bdata": "WcyJQMm/aUA=",
          "dtype": "f4"
         },
         "z": {
          "bdata": "Dfc0QMF7+j8=",
          "dtype": "f4"
         }
        },
        {
         "customdata": [
          [
           "H021-25HCGP-M2-Q1",
           "VMM"
          ],
          [
           "H021-BYHFHEU-M2-Q1",
           "VMM"
          ]
         ],
         "hovertemplate": "Sample name: %{customdata[0]}<br>code_oncotree: %{customdata[1]}<extra></extra>",
         "legendgroup": "VMM",
         "marker": {
          "color": "#FECB52",
          "opacity": 0.8,
          "symbol": "circle"
         },
         "mode": "markers",
         "name": "VMM",
         "scene": "scene",
         "showlegend": true,
         "type": "scatter3d",
         "x": {
          "bdata": "hTgSQU3PE0E=",
          "dtype": "f4"
         },
         "y": {
          "bdata": "bVwbQELGAUA=",
          "dtype": "f4"
         },
         "z": {
          "bdata": "sD6nvk9RET8=",
          "dtype": "f4"
         }
        },
        {
         "customdata": [
          [
           "H021-VYS51F-M1-Q1",
           "VSC"
          ],
          [
           "H021-1B7R18-M1-Q1",
           "VSC"
          ],
          [
           "H021-FUFZFT-T1-Q1",
           "VSC"
          ],
          [
           "H021-1B7R18-M7-Q1",
           "VSC"
          ]
         ],
         "hovertemplate": "Sample name: %{customdata[0]}<br>code_oncotree: %{customdata[1]}<extra></extra>",
         "legendgroup": "VSC",
         "marker": {
          "color": "#636efa",
          "opacity": 0.8,
          "symbol": "circle"
         },
         "mode": "markers",
         "name": "VSC",
         "scene": "scene",
         "showlegend": true,
         "type": "scatter3d",
         "x": {
          "bdata": "t+wBQbE5DEFQGPJA4pUDQQ==",
          "dtype": "f4"
         },
         "y": {
          "bdata": "tkOJQGvKj0Dl8IBAMb+eQA==",
          "dtype": "f4"
         },
         "z": {
          "bdata": "kEg8QEcpTT9mmjNAHhG6Pw==",
          "dtype": "f4"
         }
        }
       ],
       "layout": {
        "height": 700,
        "legend": {
         "title": {
          "text": "code_oncotree"
         },
         "tracegroupgap": 0
        },
        "margin": {
         "b": 0,
         "l": 0,
         "r": 0,
         "t": 50
        },
        "scene": {
         "camera": {
          "eye": {
           "x": 1.5,
           "y": 1.5,
           "z": 1.5
          }
         },
         "domain": {
          "x": [
           0,
           1
          ],
          "y": [
           0,
           1
          ]
         },
         "xaxis": {
          "title": {
           "text": "UMAP 1"
          }
         },
         "yaxis": {
          "title": {
           "text": "UMAP 2"
          }
         },
         "zaxis": {
          "title": {
           "text": "UMAP 3"
          }
         }
        },
        "template": {
         "data": {
          "bar": [
           {
            "error_x": {
             "color": "#2a3f5f"
            },
            "error_y": {
             "color": "#2a3f5f"
            },
            "marker": {
             "line": {
              "color": "#E5ECF6",
              "width": 0.5
             },
             "pattern": {
              "fillmode": "overlay",
              "size": 10,
              "solidity": 0.2
             }
            },
            "type": "bar"
           }
          ],
          "barpolar": [
           {
            "marker": {
             "line": {
              "color": "#E5ECF6",
              "width": 0.5
             },
             "pattern": {
              "fillmode": "overlay",
              "size": 10,
              "solidity": 0.2
             }
            },
            "type": "barpolar"
           }
          ],
          "carpet": [
           {
            "aaxis": {
             "endlinecolor": "#2a3f5f",
             "gridcolor": "white",
             "linecolor": "white",
             "minorgridcolor": "white",
             "startlinecolor": "#2a3f5f"
            },
            "baxis": {
             "endlinecolor": "#2a3f5f",
             "gridcolor": "white",
             "linecolor": "white",
             "minorgridcolor": "white",
             "startlinecolor": "#2a3f5f"
            },
            "type": "carpet"
           }
          ],
          "choropleth": [
           {
            "colorbar": {
             "outlinewidth": 0,
             "ticks": ""
            },
            "type": "choropleth"
           }
          ],
          "contour": [
           {
            "colorbar": {
             "outlinewidth": 0,
             "ticks": ""
            },
            "colorscale": [
             [
              0,
              "#0d0887"
             ],
             [
              0.1111111111111111,
              "#46039f"
             ],
             [
              0.2222222222222222,
              "#7201a8"
             ],
             [
              0.3333333333333333,
              "#9c179e"
             ],
             [
              0.4444444444444444,
              "#bd3786"
             ],
             [
              0.5555555555555556,
              "#d8576b"
             ],
             [
              0.6666666666666666,
              "#ed7953"
             ],
             [
              0.7777777777777778,
              "#fb9f3a"
             ],
             [
              0.8888888888888888,
              "#fdca26"
             ],
             [
              1,
              "#f0f921"
             ]
            ],
            "type": "contour"
           }
          ],
          "contourcarpet": [
           {
            "colorbar": {
             "outlinewidth": 0,
             "ticks": ""
            },
            "type": "contourcarpet"
           }
          ],
          "heatmap": [
           {
            "colorbar": {
             "outlinewidth": 0,
             "ticks": ""
            },
            "colorscale": [
             [
              0,
              "#0d0887"
             ],
             [
              0.1111111111111111,
              "#46039f"
             ],
             [
              0.2222222222222222,
              "#7201a8"
             ],
             [
              0.3333333333333333,
              "#9c179e"
             ],
             [
              0.4444444444444444,
              "#bd3786"
             ],
             [
              0.5555555555555556,
              "#d8576b"
             ],
             [
              0.6666666666666666,
              "#ed7953"
             ],
             [
              0.7777777777777778,
              "#fb9f3a"
             ],
             [
              0.8888888888888888,
              "#fdca26"
             ],
             [
              1,
              "#f0f921"
             ]
            ],
            "type": "heatmap"
           }
          ],
          "histogram": [
           {
            "marker": {
             "pattern": {
              "fillmode": "overlay",
              "size": 10,
              "solidity": 0.2
             }
            },
            "type": "histogram"
           }
          ],
          "histogram2d": [
           {
            "colorbar": {
             "outlinewidth": 0,
             "ticks": ""
            },
            "colorscale": [
             [
              0,
              "#0d0887"
             ],
             [
              0.1111111111111111,
              "#46039f"
             ],
             [
              0.2222222222222222,
              "#7201a8"
             ],
             [
              0.3333333333333333,
              "#9c179e"
             ],
             [
              0.4444444444444444,
              "#bd3786"
             ],
             [
              0.5555555555555556,
              "#d8576b"
             ],
             [
              0.6666666666666666,
              "#ed7953"
             ],
             [
              0.7777777777777778,
              "#fb9f3a"
             ],
             [
              0.8888888888888888,
              "#fdca26"
             ],
             [
              1,
              "#f0f921"
             ]
            ],
            "type": "histogram2d"
           }
          ],
          "histogram2dcontour": [
           {
            "colorbar": {
             "outlinewidth": 0,
             "ticks": ""
            },
            "colorscale": [
             [
              0,
              "#0d0887"
             ],
             [
              0.1111111111111111,
              "#46039f"
             ],
             [
              0.2222222222222222,
              "#7201a8"
             ],
             [
              0.3333333333333333,
              "#9c179e"
             ],
             [
              0.4444444444444444,
              "#bd3786"
             ],
             [
              0.5555555555555556,
              "#d8576b"
             ],
             [
              0.6666666666666666,
              "#ed7953"
             ],
             [
              0.7777777777777778,
              "#fb9f3a"
             ],
             [
              0.8888888888888888,
              "#fdca26"
             ],
             [
              1,
              "#f0f921"
             ]
            ],
            "type": "histogram2dcontour"
           }
          ],
          "mesh3d": [
           {
            "colorbar": {
             "outlinewidth": 0,
             "ticks": ""
            },
            "type": "mesh3d"
           }
          ],
          "parcoords": [
           {
            "line": {
             "colorbar": {
              "outlinewidth": 0,
              "ticks": ""
             }
            },
            "type": "parcoords"
           }
          ],
          "pie": [
           {
            "automargin": true,
            "type": "pie"
           }
          ],
          "scatter": [
           {
            "fillpattern": {
             "fillmode": "overlay",
             "size": 10,
             "solidity": 0.2
            },
            "type": "scatter"
           }
          ],
          "scatter3d": [
           {
            "line": {
             "colorbar": {
              "outlinewidth": 0,
              "ticks": ""
             }
            },
            "marker": {
             "colorbar": {
              "outlinewidth": 0,
              "ticks": ""
             }
            },
            "type": "scatter3d"
           }
          ],
          "scattercarpet": [
           {
            "marker": {
             "colorbar": {
              "outlinewidth": 0,
              "ticks": ""
             }
            },
            "type": "scattercarpet"
           }
          ],
          "scattergeo": [
           {
            "marker": {
             "colorbar": {
              "outlinewidth": 0,
              "ticks": ""
             }
            },
            "type": "scattergeo"
           }
          ],
          "scattergl": [
           {
            "marker": {
             "colorbar": {
              "outlinewidth": 0,
              "ticks": ""
             }
            },
            "type": "scattergl"
           }
          ],
          "scattermap": [
           {
            "marker": {
             "colorbar": {
              "outlinewidth": 0,
              "ticks": ""
             }
            },
            "type": "scattermap"
           }
          ],
          "scattermapbox": [
           {
            "marker": {
             "colorbar": {
              "outlinewidth": 0,
              "ticks": ""
             }
            },
            "type": "scattermapbox"
           }
          ],
          "scatterpolar": [
           {
            "marker": {
             "colorbar": {
              "outlinewidth": 0,
              "ticks": ""
             }
            },
            "type": "scatterpolar"
           }
          ],
          "scatterpolargl": [
           {
            "marker": {
             "colorbar": {
              "outlinewidth": 0,
              "ticks": ""
             }
            },
            "type": "scatterpolargl"
           }
          ],
          "scatterternary": [
           {
            "marker": {
             "colorbar": {
              "outlinewidth": 0,
              "ticks": ""
             }
            },
            "type": "scatterternary"
           }
          ],
          "surface": [
           {
            "colorbar": {
             "outlinewidth": 0,
             "ticks": ""
            },
            "colorscale": [
             [
              0,
              "#0d0887"
             ],
             [
              0.1111111111111111,
              "#46039f"
             ],
             [
              0.2222222222222222,
              "#7201a8"
             ],
             [
              0.3333333333333333,
              "#9c179e"
             ],
             [
              0.4444444444444444,
              "#bd3786"
             ],
             [
              0.5555555555555556,
              "#d8576b"
             ],
             [
              0.6666666666666666,
              "#ed7953"
             ],
             [
              0.7777777777777778,
              "#fb9f3a"
             ],
             [
              0.8888888888888888,
              "#fdca26"
             ],
             [
              1,
              "#f0f921"
             ]
            ],
            "type": "surface"
           }
          ],
          "table": [
           {
            "cells": {
             "fill": {
              "color": "#EBF0F8"
             },
             "line": {
              "color": "white"
             }
            },
            "header": {
             "fill": {
              "color": "#C8D4E3"
             },
             "line": {
              "color": "white"
             }
            },
            "type": "table"
           }
          ]
         },
         "layout": {
          "annotationdefaults": {
           "arrowcolor": "#2a3f5f",
           "arrowhead": 0,
           "arrowwidth": 1
          },
          "autotypenumbers": "strict",
          "coloraxis": {
           "colorbar": {
            "outlinewidth": 0,
            "ticks": ""
           }
          },
          "colorscale": {
           "diverging": [
            [
             0,
             "#8e0152"
            ],
            [
             0.1,
             "#c51b7d"
            ],
            [
             0.2,
             "#de77ae"
            ],
            [
             0.3,
             "#f1b6da"
            ],
            [
             0.4,
             "#fde0ef"
            ],
            [
             0.5,
             "#f7f7f7"
            ],
            [
             0.6,
             "#e6f5d0"
            ],
            [
             0.7,
             "#b8e186"
            ],
            [
             0.8,
             "#7fbc41"
            ],
            [
             0.9,
             "#4d9221"
            ],
            [
             1,
             "#276419"
            ]
           ],
           "sequential": [
            [
             0,
             "#0d0887"
            ],
            [
             0.1111111111111111,
             "#46039f"
            ],
            [
             0.2222222222222222,
             "#7201a8"
            ],
            [
             0.3333333333333333,
             "#9c179e"
            ],
            [
             0.4444444444444444,
             "#bd3786"
            ],
            [
             0.5555555555555556,
             "#d8576b"
            ],
            [
             0.6666666666666666,
             "#ed7953"
            ],
            [
             0.7777777777777778,
             "#fb9f3a"
            ],
            [
             0.8888888888888888,
             "#fdca26"
            ],
            [
             1,
             "#f0f921"
            ]
           ],
           "sequentialminus": [
            [
             0,
             "#0d0887"
            ],
            [
             0.1111111111111111,
             "#46039f"
            ],
            [
             0.2222222222222222,
             "#7201a8"
            ],
            [
             0.3333333333333333,
             "#9c179e"
            ],
            [
             0.4444444444444444,
             "#bd3786"
            ],
            [
             0.5555555555555556,
             "#d8576b"
            ],
            [
             0.6666666666666666,
             "#ed7953"
            ],
            [
             0.7777777777777778,
             "#fb9f3a"
            ],
            [
             0.8888888888888888,
             "#fdca26"
            ],
            [
             1,
             "#f0f921"
            ]
           ]
          },
          "colorway": [
           "#636efa",
           "#EF553B",
           "#00cc96",
           "#ab63fa",
           "#FFA15A",
           "#19d3f3",
           "#FF6692",
           "#B6E880",
           "#FF97FF",
           "#FECB52"
          ],
          "font": {
           "color": "#2a3f5f"
          },
          "geo": {
           "bgcolor": "white",
           "lakecolor": "white",
           "landcolor": "#E5ECF6",
           "showlakes": true,
           "showland": true,
           "subunitcolor": "white"
          },
          "hoverlabel": {
           "align": "left"
          },
          "hovermode": "closest",
          "mapbox": {
           "style": "light"
          },
          "paper_bgcolor": "white",
          "plot_bgcolor": "#E5ECF6",
          "polar": {
           "angularaxis": {
            "gridcolor": "white",
            "linecolor": "white",
            "ticks": ""
           },
           "bgcolor": "#E5ECF6",
           "radialaxis": {
            "gridcolor": "white",
            "linecolor": "white",
            "ticks": ""
           }
          },
          "scene": {
           "xaxis": {
            "backgroundcolor": "#E5ECF6",
            "gridcolor": "white",
            "gridwidth": 2,
            "linecolor": "white",
            "showbackground": true,
            "ticks": "",
            "zerolinecolor": "white"
           },
           "yaxis": {
            "backgroundcolor": "#E5ECF6",
            "gridcolor": "white",
            "gridwidth": 2,
            "linecolor": "white",
            "showbackground": true,
            "ticks": "",
            "zerolinecolor": "white"
           },
           "zaxis": {
            "backgroundcolor": "#E5ECF6",
            "gridcolor": "white",
            "gridwidth": 2,
            "linecolor": "white",
            "showbackground": true,
            "ticks": "",
            "zerolinecolor": "white"
           }
          },
          "shapedefaults": {
           "line": {
            "color": "#2a3f5f"
           }
          },
          "ternary": {
           "aaxis": {
            "gridcolor": "white",
            "linecolor": "white",
            "ticks": ""
           },
           "baxis": {
            "gridcolor": "white",
            "linecolor": "white",
            "ticks": ""
           },
           "bgcolor": "#E5ECF6",
           "caxis": {
            "gridcolor": "white",
            "linecolor": "white",
            "ticks": ""
           }
          },
          "title": {
           "x": 0.05
          },
          "xaxis": {
           "automargin": true,
           "gridcolor": "white",
           "linecolor": "white",
           "ticks": "",
           "title": {
            "standoff": 15
           },
           "zerolinecolor": "white",
           "zerolinewidth": 2
          },
          "yaxis": {
           "automargin": true,
           "gridcolor": "white",
           "linecolor": "white",
           "ticks": "",
           "title": {
            "standoff": 15
           },
           "zerolinecolor": "white",
           "zerolinewidth": 2
          }
         }
        },
        "title": {
         "font": {
          "size": 16
         },
         "text": "3D_UMAP_TEST",
         "x": 0.5,
         "xanchor": "center"
        },
        "width": 900
       }
      }
     },
     "metadata": {},
     "output_type": "display_data"
    }
   ],
   "source": [
    "create_3d_umap_plot(df=initial_df, \n",
    "                       feature_columns=CHDM_proteins, \n",
    "                       color_column='code_oncotree', \n",
    "                       metadata_cols=['Sample name', 'code_oncotree'],\n",
    "                       title=\"3D_UMAP_TEST\")"
   ]
  }
 ],
 "metadata": {
  "kernelspec": {
   "display_name": "tumor_type_clasifier",
   "language": "python",
   "name": "python3"
  },
  "language_info": {
   "codemirror_mode": {
    "name": "ipython",
    "version": 3
   },
   "file_extension": ".py",
   "mimetype": "text/x-python",
   "name": "python",
   "nbconvert_exporter": "python",
   "pygments_lexer": "ipython3",
   "version": "3.13.5"
  }
 },
 "nbformat": 4,
 "nbformat_minor": 5
}
