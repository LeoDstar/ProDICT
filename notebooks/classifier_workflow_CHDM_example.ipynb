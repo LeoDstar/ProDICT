{
 "cells": [
  {
   "cell_type": "markdown",
   "id": "d921dd65",
   "metadata": {},
   "source": [
    "## Imports"
   ]
  },
  {
   "cell_type": "code",
   "execution_count": 1,
   "id": "d22b7644",
   "metadata": {},
   "outputs": [
    {
     "name": "stderr",
     "output_type": "stream",
     "text": [
      "/home/lestrada/miniconda3/envs/tumor_type_clasifier/lib/python3.13/site-packages/tqdm/auto.py:21: TqdmWarning: IProgress not found. Please update jupyter and ipywidgets. See https://ipywidgets.readthedocs.io/en/stable/user_install.html\n",
      "  from .autonotebook import tqdm as notebook_tqdm\n"
     ]
    }
   ],
   "source": [
    "import sys\n",
    "import os\n",
    "import pandas as pd\n",
    "import numpy as np\n",
    "from pathlib import Path\n",
    "\n",
    "module_path = str(Path(\"../src/data\").resolve())\n",
    "if module_path not in sys.path:\n",
    "    sys.path.append(module_path)\n",
    "\n",
    "import preprocessing as prep\n",
    "import feature_selection as fs\n",
    "import model_fit as mf\n",
    "import graphs as grph\n",
    "\n"
   ]
  },
  {
   "cell_type": "code",
   "execution_count": 3,
   "id": "a7c8692c",
   "metadata": {},
   "outputs": [
    {
     "data": {
      "text/plain": [
       "<module 'graphs' from '/home/lestrada/tumor_type_prediction/src/data/graphs.py'>"
      ]
     },
     "execution_count": 3,
     "metadata": {},
     "output_type": "execute_result"
    }
   ],
   "source": [
    "import importlib\n",
    "importlib.reload(grph)\n"
   ]
  },
  {
   "cell_type": "markdown",
   "id": "b95e6332",
   "metadata": {},
   "source": [
    "## Data Import"
   ]
  },
  {
   "cell_type": "code",
   "execution_count": 6,
   "id": "84e9b090",
   "metadata": {},
   "outputs": [],
   "source": [
    "#Proteins quantification intensities file\n",
    "processed_data = '2025.07.14_CJ_pancancer_334/'\n",
    "folder_path = '/media/kusterlab/internal_projects/active/TOPAS/WP31/Playground/Retrospective_study/'\n",
    "PREPROCESSED_FP_INTENSITY = 'preprocessed_fp.csv'\n",
    "intensity_path_file = folder_path + processed_data + PREPROCESSED_FP_INTENSITY\n",
    "input_quantifications = pd.read_csv(intensity_path_file)\n",
    "\n",
    "#--------------------------------------------------------------------------------\n",
    "\n",
    "# Proteins quantification z-scores file\n",
    "preprocessed_fp_z_scores = 'full_proteome_measures_z.tsv'\n",
    "z_scores_path_file = folder_path + processed_data + preprocessed_fp_z_scores\n",
    "df_z_scores = pd.read_csv(z_scores_path_file, sep='\\t')\n",
    "\n",
    "\n",
    "#--------------------------------------------------------------------------------\n",
    "\n",
    "#Samples metadata (oncotree classification) file.\n",
    "METADATA_PATH = '/media/kusterlab/internal_projects/active/TOPAS/WP31/Playground/LE_PROdict/paper_freeze_versions_22_08/'\n",
    "metadata_file = 'METADATA_PANCANCER_PAPER_final.xlsx'\n",
    "the_metadata_file = metadata_path + metadata_file\n",
    "input_metadata = pd.read_excel(the_metadata_file,\n",
    "                                        usecols=['Sample name', 'code_oncotree', 'Tumor cell content', 'TCC_Bioinfo', 'TCC GROUP'],\n",
    "                                        dtype={'Sample name': 'string', 'code_oncotree': 'string', 'Tumor cell content': 'float64', 'TCC_Bioinfo': 'float64', 'TCC GROUP': 'string'},\n",
    "                                        na_values=['', 'NA', 'NaN', 'nan', 'N/A', 'n/a', 'None', 'TBD', 'notavailable', 'missing'])\n",
    "\n"
   ]
  },
  {
   "cell_type": "code",
   "execution_count": 151,
   "id": "934c8f6a",
   "metadata": {},
   "outputs": [],
   "source": [
    "project_root = os.path.abspath(os.path.join(os.getcwd(), '..'))\n",
    "output_dir = os.path.join(project_root, 'data', 'data_output', 'Notebook_output')\n",
    "os.makedirs(output_dir, exist_ok=True)\n"
   ]
  },
  {
   "cell_type": "markdown",
   "id": "0d31b59b",
   "metadata": {},
   "source": [
    "## Data Preprocessing"
   ]
  },
  {
   "cell_type": "code",
   "execution_count": 7,
   "id": "e6163b23",
   "metadata": {},
   "outputs": [
    {
     "name": "stdout",
     "output_type": "stream",
     "text": [
      "(2567, 13063)\n",
      "Proteins with  empty values: ['ENPP7', 'SHOX2', 'CRYGA', 'HNRNPCL3;HNRNPCL4', 'MYBPHL']\n"
     ]
    }
   ],
   "source": [
    "# Protein and peptides quantification intensities post-processing\n",
    "input_quantifications = input_quantifications.set_index(input_quantifications.columns[0])\n",
    "peptides_quant_info = prep.post_process_meta_intensities(input_quantifications.iloc[:,int(input_quantifications.shape[1]/2):].T ) #clean dataframe from regex characers\n",
    "proteins_quant = input_quantifications.iloc[:,:int(input_quantifications.shape[1]/2)].T #subset protein measurements from dataset\n",
    "\n",
    "#Imputation\n",
    "prot_quant_imputed = prep.impute_normal_down_shift_distribution(proteins_quant) #Imputation of missing values in protein intensities using normal distribution down-shift method\n",
    "na_columns = prot_quant_imputed.isna().any()\n",
    "na_columns_true = na_columns[na_columns].index.tolist()\n",
    "print(\"Proteins with  empty values:\", na_columns_true)\n",
    "\n",
    "#Cleaning sample names\n",
    "prot_quant_imputed.reset_index(inplace=True)\n",
    "prot_quant_imputed.rename(columns={'index': 'Sample name'}, inplace=True)\n",
    "prot_quant_imputed['Sample name'] = prot_quant_imputed['Sample name'].str.replace('pat_', '')\n",
    "\n",
    "#Dataset with protein intensities and metadata\n",
    "input_metadata['TCC'] = input_metadata['TCC_Bioinfo'].fillna(input_metadata['Tumor cell content'])\n",
    "samples_metadata = input_metadata[[\"Sample name\", \"code_oncotree\", 'TCC', \"TCC GROUP\"]] #sample metadata e.g. class, TCC, tissue of origin, etc.\n",
    "initial_df = samples_metadata.merge(prot_quant_imputed, left_on='Sample name', right_on='Sample name')\n",
    "\n",
    "#Peptides quantification to binary dataset\n",
    "peptides_df_binary = pd.DataFrame(\n",
    "    np.where(peptides_quant_info > 1, 1, 0), #if the # of peptides > 1, then turns to 1, otherwise 0. \n",
    "    index=peptides_quant_info.index,\n",
    "    columns=peptides_quant_info.columns  \n",
    ")\n",
    "peptides_df_binary.reset_index(inplace=True) #Moves the index to a column. Allows to obtain patient id\n",
    "peptides_df_binary.replace('Identification metadata ','',regex=True, inplace=True) #Removes text from id's\n",
    "peptides_df_binary = samples_metadata.merge(peptides_df_binary, left_on='Sample name', right_on='index') #merging both data sets by Sample Name, ontaining a dataset with sample, classification and peptide binary count\n",
    "peptides_df_binary.drop('index', axis=1, inplace=True)\n"
   ]
  },
  {
   "cell_type": "code",
   "execution_count": 8,
   "id": "ea85d65c",
   "metadata": {},
   "outputs": [
    {
     "name": "stdout",
     "output_type": "stream",
     "text": [
      "(1987, 13063)\n"
     ]
    },
    {
     "data": {
      "text/html": [
       "<div>\n",
       "<style scoped>\n",
       "    .dataframe tbody tr th:only-of-type {\n",
       "        vertical-align: middle;\n",
       "    }\n",
       "\n",
       "    .dataframe tbody tr th {\n",
       "        vertical-align: top;\n",
       "    }\n",
       "\n",
       "    .dataframe thead th {\n",
       "        text-align: right;\n",
       "    }\n",
       "</style>\n",
       "<table border=\"1\" class=\"dataframe\">\n",
       "  <thead>\n",
       "    <tr style=\"text-align: right;\">\n",
       "      <th></th>\n",
       "      <th>Sample name</th>\n",
       "      <th>code_oncotree</th>\n",
       "      <th>TCC</th>\n",
       "      <th>TCC GROUP</th>\n",
       "      <th>FN1</th>\n",
       "      <th>HMBS</th>\n",
       "      <th>CDKN1B</th>\n",
       "      <th>DENR</th>\n",
       "      <th>CTNNA2</th>\n",
       "      <th>INA</th>\n",
       "      <th>...</th>\n",
       "      <th>TMPRSS11F</th>\n",
       "      <th>IL34</th>\n",
       "      <th>FREM3</th>\n",
       "      <th>LRRC2</th>\n",
       "      <th>ZP4</th>\n",
       "      <th>TRIML2</th>\n",
       "      <th>TBX19</th>\n",
       "      <th>DNAI3</th>\n",
       "      <th>CSF3R</th>\n",
       "      <th>MSANTD3</th>\n",
       "    </tr>\n",
       "  </thead>\n",
       "  <tbody>\n",
       "    <tr>\n",
       "      <th>0</th>\n",
       "      <td>A26K-5SXQR3-T11-Q1</td>\n",
       "      <td>BRCA</td>\n",
       "      <td>30.0</td>\n",
       "      <td>low</td>\n",
       "      <td>0.419207</td>\n",
       "      <td>0.064605</td>\n",
       "      <td>-1.517050</td>\n",
       "      <td>0.992052</td>\n",
       "      <td>0.530773</td>\n",
       "      <td>-0.405181</td>\n",
       "      <td>...</td>\n",
       "      <td>-1.721890</td>\n",
       "      <td>-2.551214</td>\n",
       "      <td>-1.592601</td>\n",
       "      <td>-1.298179</td>\n",
       "      <td>-1.945411</td>\n",
       "      <td>-3.737643</td>\n",
       "      <td>-3.227579</td>\n",
       "      <td>-1.365518</td>\n",
       "      <td>0.996891</td>\n",
       "      <td>-1.534333</td>\n",
       "    </tr>\n",
       "    <tr>\n",
       "      <th>1</th>\n",
       "      <td>A26K-5SXQR3-T24-Q1</td>\n",
       "      <td>BRCA</td>\n",
       "      <td>42.0</td>\n",
       "      <td>intermediate</td>\n",
       "      <td>0.241614</td>\n",
       "      <td>0.607330</td>\n",
       "      <td>-1.941840</td>\n",
       "      <td>0.922715</td>\n",
       "      <td>0.507636</td>\n",
       "      <td>0.110441</td>\n",
       "      <td>...</td>\n",
       "      <td>-1.524969</td>\n",
       "      <td>-2.780512</td>\n",
       "      <td>-1.904598</td>\n",
       "      <td>-2.136195</td>\n",
       "      <td>-1.721556</td>\n",
       "      <td>-2.674478</td>\n",
       "      <td>-2.634187</td>\n",
       "      <td>-1.435020</td>\n",
       "      <td>1.019020</td>\n",
       "      <td>-1.744125</td>\n",
       "    </tr>\n",
       "    <tr>\n",
       "      <th>2</th>\n",
       "      <td>A26K-9TET1N-T11-Q1</td>\n",
       "      <td>BRCA</td>\n",
       "      <td>52.0</td>\n",
       "      <td>intermediate</td>\n",
       "      <td>0.182117</td>\n",
       "      <td>-0.452370</td>\n",
       "      <td>0.494543</td>\n",
       "      <td>0.321400</td>\n",
       "      <td>-2.411723</td>\n",
       "      <td>0.711820</td>\n",
       "      <td>...</td>\n",
       "      <td>-1.724645</td>\n",
       "      <td>-3.301664</td>\n",
       "      <td>-0.902085</td>\n",
       "      <td>-1.714741</td>\n",
       "      <td>-2.095086</td>\n",
       "      <td>-3.001014</td>\n",
       "      <td>-3.006426</td>\n",
       "      <td>-1.800624</td>\n",
       "      <td>-1.810894</td>\n",
       "      <td>-1.757925</td>\n",
       "    </tr>\n",
       "    <tr>\n",
       "      <th>3</th>\n",
       "      <td>A26K-ADUQXR-T11-Q1</td>\n",
       "      <td>BRCA</td>\n",
       "      <td>53.0</td>\n",
       "      <td>intermediate</td>\n",
       "      <td>1.249130</td>\n",
       "      <td>-0.082325</td>\n",
       "      <td>0.535330</td>\n",
       "      <td>0.671047</td>\n",
       "      <td>-1.937163</td>\n",
       "      <td>1.283470</td>\n",
       "      <td>...</td>\n",
       "      <td>-1.257435</td>\n",
       "      <td>-3.376623</td>\n",
       "      <td>-1.515989</td>\n",
       "      <td>-1.919593</td>\n",
       "      <td>-1.937873</td>\n",
       "      <td>-3.606769</td>\n",
       "      <td>-3.984241</td>\n",
       "      <td>-1.650024</td>\n",
       "      <td>0.173736</td>\n",
       "      <td>-1.607774</td>\n",
       "    </tr>\n",
       "    <tr>\n",
       "      <th>4</th>\n",
       "      <td>A26K-HS3BDB-T14-Q1</td>\n",
       "      <td>BRCA</td>\n",
       "      <td>80.0</td>\n",
       "      <td>high</td>\n",
       "      <td>0.332858</td>\n",
       "      <td>-0.019439</td>\n",
       "      <td>-0.109984</td>\n",
       "      <td>-1.077440</td>\n",
       "      <td>-1.417420</td>\n",
       "      <td>-0.026247</td>\n",
       "      <td>...</td>\n",
       "      <td>-1.689900</td>\n",
       "      <td>-3.364729</td>\n",
       "      <td>-2.308590</td>\n",
       "      <td>-2.014349</td>\n",
       "      <td>-1.631705</td>\n",
       "      <td>-2.809192</td>\n",
       "      <td>-2.875324</td>\n",
       "      <td>-1.701577</td>\n",
       "      <td>-2.059592</td>\n",
       "      <td>-1.651387</td>\n",
       "    </tr>\n",
       "    <tr>\n",
       "      <th>...</th>\n",
       "      <td>...</td>\n",
       "      <td>...</td>\n",
       "      <td>...</td>\n",
       "      <td>...</td>\n",
       "      <td>...</td>\n",
       "      <td>...</td>\n",
       "      <td>...</td>\n",
       "      <td>...</td>\n",
       "      <td>...</td>\n",
       "      <td>...</td>\n",
       "      <td>...</td>\n",
       "      <td>...</td>\n",
       "      <td>...</td>\n",
       "      <td>...</td>\n",
       "      <td>...</td>\n",
       "      <td>...</td>\n",
       "      <td>...</td>\n",
       "      <td>...</td>\n",
       "      <td>...</td>\n",
       "      <td>...</td>\n",
       "      <td>...</td>\n",
       "    </tr>\n",
       "    <tr>\n",
       "      <th>1938</th>\n",
       "      <td>S033-33+029-T1-Q1</td>\n",
       "      <td>CHDM</td>\n",
       "      <td>70.0</td>\n",
       "      <td>high</td>\n",
       "      <td>1.489240</td>\n",
       "      <td>0.753119</td>\n",
       "      <td>-0.088520</td>\n",
       "      <td>0.273985</td>\n",
       "      <td>0.911104</td>\n",
       "      <td>1.047210</td>\n",
       "      <td>...</td>\n",
       "      <td>-1.917155</td>\n",
       "      <td>-3.008746</td>\n",
       "      <td>-1.383428</td>\n",
       "      <td>-1.689841</td>\n",
       "      <td>-2.338460</td>\n",
       "      <td>-2.520990</td>\n",
       "      <td>-3.945086</td>\n",
       "      <td>-1.201763</td>\n",
       "      <td>2.061710</td>\n",
       "      <td>-1.596457</td>\n",
       "    </tr>\n",
       "    <tr>\n",
       "      <th>1939</th>\n",
       "      <td>S033-33+030-T1-Q1</td>\n",
       "      <td>CHDM</td>\n",
       "      <td>80.0</td>\n",
       "      <td>high</td>\n",
       "      <td>0.464197</td>\n",
       "      <td>0.232156</td>\n",
       "      <td>0.113310</td>\n",
       "      <td>0.892083</td>\n",
       "      <td>-1.400324</td>\n",
       "      <td>-1.039850</td>\n",
       "      <td>...</td>\n",
       "      <td>-1.812466</td>\n",
       "      <td>-3.222541</td>\n",
       "      <td>-1.380890</td>\n",
       "      <td>-1.251379</td>\n",
       "      <td>-1.980979</td>\n",
       "      <td>-3.255978</td>\n",
       "      <td>-3.107019</td>\n",
       "      <td>-1.971122</td>\n",
       "      <td>-0.264134</td>\n",
       "      <td>-1.608001</td>\n",
       "    </tr>\n",
       "    <tr>\n",
       "      <th>1940</th>\n",
       "      <td>S033-33+035-T1-Q1</td>\n",
       "      <td>CHDM</td>\n",
       "      <td>NaN</td>\n",
       "      <td>&lt;NA&gt;</td>\n",
       "      <td>0.109016</td>\n",
       "      <td>-0.870740</td>\n",
       "      <td>-0.866849</td>\n",
       "      <td>0.309826</td>\n",
       "      <td>0.327108</td>\n",
       "      <td>2.762510</td>\n",
       "      <td>...</td>\n",
       "      <td>-1.971065</td>\n",
       "      <td>-2.843725</td>\n",
       "      <td>-0.219780</td>\n",
       "      <td>-1.752959</td>\n",
       "      <td>-1.898055</td>\n",
       "      <td>-3.027615</td>\n",
       "      <td>-3.732931</td>\n",
       "      <td>-1.851137</td>\n",
       "      <td>0.325024</td>\n",
       "      <td>-1.436321</td>\n",
       "    </tr>\n",
       "    <tr>\n",
       "      <th>1941</th>\n",
       "      <td>S033-33+036-T1-Q1</td>\n",
       "      <td>CHDM</td>\n",
       "      <td>NaN</td>\n",
       "      <td>&lt;NA&gt;</td>\n",
       "      <td>1.311050</td>\n",
       "      <td>-0.652790</td>\n",
       "      <td>-0.035056</td>\n",
       "      <td>1.623510</td>\n",
       "      <td>0.349962</td>\n",
       "      <td>-0.129080</td>\n",
       "      <td>...</td>\n",
       "      <td>-1.382845</td>\n",
       "      <td>-4.168036</td>\n",
       "      <td>0.297935</td>\n",
       "      <td>-1.943607</td>\n",
       "      <td>-2.466811</td>\n",
       "      <td>-3.918682</td>\n",
       "      <td>-3.185430</td>\n",
       "      <td>-2.132708</td>\n",
       "      <td>0.328319</td>\n",
       "      <td>-1.416544</td>\n",
       "    </tr>\n",
       "    <tr>\n",
       "      <th>1942</th>\n",
       "      <td>S033-33+038-T1-Q1</td>\n",
       "      <td>CHDM</td>\n",
       "      <td>NaN</td>\n",
       "      <td>&lt;NA&gt;</td>\n",
       "      <td>2.320200</td>\n",
       "      <td>0.057696</td>\n",
       "      <td>-0.624622</td>\n",
       "      <td>0.504874</td>\n",
       "      <td>-0.324436</td>\n",
       "      <td>0.159188</td>\n",
       "      <td>...</td>\n",
       "      <td>-1.289486</td>\n",
       "      <td>-3.011104</td>\n",
       "      <td>-1.504959</td>\n",
       "      <td>-1.875260</td>\n",
       "      <td>-2.099019</td>\n",
       "      <td>-2.387550</td>\n",
       "      <td>-2.911818</td>\n",
       "      <td>-1.526956</td>\n",
       "      <td>1.498150</td>\n",
       "      <td>-1.648602</td>\n",
       "    </tr>\n",
       "  </tbody>\n",
       "</table>\n",
       "<p>1943 rows × 13067 columns</p>\n",
       "</div>"
      ],
      "text/plain": [
       "             Sample name code_oncotree   TCC     TCC GROUP       FN1  \\\n",
       "0     A26K-5SXQR3-T11-Q1          BRCA  30.0           low  0.419207   \n",
       "1     A26K-5SXQR3-T24-Q1          BRCA  42.0  intermediate  0.241614   \n",
       "2     A26K-9TET1N-T11-Q1          BRCA  52.0  intermediate  0.182117   \n",
       "3     A26K-ADUQXR-T11-Q1          BRCA  53.0  intermediate  1.249130   \n",
       "4     A26K-HS3BDB-T14-Q1          BRCA  80.0          high  0.332858   \n",
       "...                  ...           ...   ...           ...       ...   \n",
       "1938   S033-33+029-T1-Q1          CHDM  70.0          high  1.489240   \n",
       "1939   S033-33+030-T1-Q1          CHDM  80.0          high  0.464197   \n",
       "1940   S033-33+035-T1-Q1          CHDM   NaN          <NA>  0.109016   \n",
       "1941   S033-33+036-T1-Q1          CHDM   NaN          <NA>  1.311050   \n",
       "1942   S033-33+038-T1-Q1          CHDM   NaN          <NA>  2.320200   \n",
       "\n",
       "          HMBS    CDKN1B      DENR    CTNNA2       INA  ...  TMPRSS11F  \\\n",
       "0     0.064605 -1.517050  0.992052  0.530773 -0.405181  ...  -1.721890   \n",
       "1     0.607330 -1.941840  0.922715  0.507636  0.110441  ...  -1.524969   \n",
       "2    -0.452370  0.494543  0.321400 -2.411723  0.711820  ...  -1.724645   \n",
       "3    -0.082325  0.535330  0.671047 -1.937163  1.283470  ...  -1.257435   \n",
       "4    -0.019439 -0.109984 -1.077440 -1.417420 -0.026247  ...  -1.689900   \n",
       "...        ...       ...       ...       ...       ...  ...        ...   \n",
       "1938  0.753119 -0.088520  0.273985  0.911104  1.047210  ...  -1.917155   \n",
       "1939  0.232156  0.113310  0.892083 -1.400324 -1.039850  ...  -1.812466   \n",
       "1940 -0.870740 -0.866849  0.309826  0.327108  2.762510  ...  -1.971065   \n",
       "1941 -0.652790 -0.035056  1.623510  0.349962 -0.129080  ...  -1.382845   \n",
       "1942  0.057696 -0.624622  0.504874 -0.324436  0.159188  ...  -1.289486   \n",
       "\n",
       "          IL34     FREM3     LRRC2       ZP4    TRIML2     TBX19     DNAI3  \\\n",
       "0    -2.551214 -1.592601 -1.298179 -1.945411 -3.737643 -3.227579 -1.365518   \n",
       "1    -2.780512 -1.904598 -2.136195 -1.721556 -2.674478 -2.634187 -1.435020   \n",
       "2    -3.301664 -0.902085 -1.714741 -2.095086 -3.001014 -3.006426 -1.800624   \n",
       "3    -3.376623 -1.515989 -1.919593 -1.937873 -3.606769 -3.984241 -1.650024   \n",
       "4    -3.364729 -2.308590 -2.014349 -1.631705 -2.809192 -2.875324 -1.701577   \n",
       "...        ...       ...       ...       ...       ...       ...       ...   \n",
       "1938 -3.008746 -1.383428 -1.689841 -2.338460 -2.520990 -3.945086 -1.201763   \n",
       "1939 -3.222541 -1.380890 -1.251379 -1.980979 -3.255978 -3.107019 -1.971122   \n",
       "1940 -2.843725 -0.219780 -1.752959 -1.898055 -3.027615 -3.732931 -1.851137   \n",
       "1941 -4.168036  0.297935 -1.943607 -2.466811 -3.918682 -3.185430 -2.132708   \n",
       "1942 -3.011104 -1.504959 -1.875260 -2.099019 -2.387550 -2.911818 -1.526956   \n",
       "\n",
       "         CSF3R   MSANTD3  \n",
       "0     0.996891 -1.534333  \n",
       "1     1.019020 -1.744125  \n",
       "2    -1.810894 -1.757925  \n",
       "3     0.173736 -1.607774  \n",
       "4    -2.059592 -1.651387  \n",
       "...        ...       ...  \n",
       "1938  2.061710 -1.596457  \n",
       "1939 -0.264134 -1.608001  \n",
       "1940  0.325024 -1.436321  \n",
       "1941  0.328319 -1.416544  \n",
       "1942  1.498150 -1.648602  \n",
       "\n",
       "[1943 rows x 13067 columns]"
      ]
     },
     "execution_count": 8,
     "metadata": {},
     "output_type": "execute_result"
    }
   ],
   "source": [
    "# Transforming Z-scores file to obtain values and info\n",
    "z_scores_df = df_z_scores.transpose(copy=True) \n",
    "z_scores_df = z_scores_df.reset_index()\n",
    "z_scores_df = z_scores_df.replace('zscore_','', regex=True) \n",
    "z_scores_df.rename(columns = z_scores_df.iloc[0], inplace=True)\n",
    "z_scores_df.drop(axis=0, index=0, inplace=True)\n",
    "z_scores_df['Gene names'] = z_scores_df['Gene names'].str.replace('pat_', '')\n",
    "z_scores_df = z_scores_df.set_index('Gene names') \n",
    "\n",
    "z_scores_imputed = prep.impute_normal_down_shift_distribution(z_scores_df)\n",
    "z_scores_imputed.reset_index(inplace=True)\n",
    "z_scores_imputed.rename(columns={'Gene names': 'Sample name'}, inplace=True)\n",
    "\n",
    "z_scores_initial_df = samples_metadata.merge(z_scores_imputed, left_on='Sample name', right_on='Sample name')\n",
    "z_scores_initial_df"
   ]
  },
  {
   "cell_type": "code",
   "execution_count": 9,
   "id": "1eab53ea",
   "metadata": {},
   "outputs": [
    {
     "data": {
      "text/plain": [
       "(1943, 13067)"
      ]
     },
     "execution_count": 9,
     "metadata": {},
     "output_type": "execute_result"
    }
   ],
   "source": [
    "z_scores_initial_df.shape"
   ]
  },
  {
   "cell_type": "code",
   "execution_count": 13,
   "id": "1906967e",
   "metadata": {},
   "outputs": [
    {
     "data": {
      "text/plain": [
       "code_oncotree\n",
       "BRCA      231\n",
       "CUPNOS    111\n",
       "CHDM       97\n",
       "SYNS       79\n",
       "LMS        69\n",
       "         ... \n",
       "TSTAD       1\n",
       "MPT         1\n",
       "PCM         1\n",
       "SCSRMS      1\n",
       "UCEC        1\n",
       "Name: count, Length: 195, dtype: Int64"
      ]
     },
     "execution_count": 13,
     "metadata": {},
     "output_type": "execute_result"
    }
   ],
   "source": [
    "initial_df['code_oncotree'].value_counts()"
   ]
  },
  {
   "cell_type": "code",
   "execution_count": 14,
   "id": "78a95827",
   "metadata": {},
   "outputs": [
    {
     "data": {
      "text/plain": [
       "code_oncotree\n",
       "BRCA      231\n",
       "CUPNOS    111\n",
       "CHDM       97\n",
       "SYNS       79\n",
       "LMS        69\n",
       "         ... \n",
       "TSTAD       1\n",
       "MPT         1\n",
       "PCM         1\n",
       "SCSRMS      1\n",
       "UCEC        1\n",
       "Name: count, Length: 195, dtype: Int64"
      ]
     },
     "execution_count": 14,
     "metadata": {},
     "output_type": "execute_result"
    }
   ],
   "source": [
    "z_scores_initial_df['code_oncotree'].value_counts()"
   ]
  },
  {
   "cell_type": "markdown",
   "id": "06bfbece",
   "metadata": {},
   "source": [
    "## Data Set Split"
   ]
  },
  {
   "cell_type": "code",
   "execution_count": 153,
   "id": "25a553a7",
   "metadata": {},
   "outputs": [
    {
     "name": "stdout",
     "output_type": "stream",
     "text": [
      "Removed samples: 204\n",
      "Remaining samples: 1739\n",
      "Removed samples: 168\n",
      "Remaining samples: 1571\n",
      "Classes with only one sample: 67\n",
      "Training set samples: 1184\n",
      "Held-out set samples: 373\n"
     ]
    }
   ],
   "source": [
    "#Removing samples not part of the Oncotree classification\n",
    "NOS_cases = initial_df[initial_df['code_oncotree'].str.endswith('NOS', na=False)]['code_oncotree'].unique().tolist()\n",
    "other_cases = ['missing']\n",
    "cases_to_remove = NOS_cases + other_cases\n",
    "\n",
    "ml_initial_df = (\n",
    "    initial_df\n",
    "    .pipe(prep.remove_class, cases_to_remove, 'code_oncotree')\n",
    "    .pipe(prep.remove_class, ['very low', 'missing'], 'TCC GROUP')\n",
    "    .loc[lambda df: df['TCC GROUP'].notna()]\n",
    ")\n",
    "\n",
    "# Splitting dataset into training and held-out sets1\n",
    "training_df, held_out_df = prep.data_split(ml_initial_df, split_size=0.25, classified_by='code_oncotree', export=False)\n",
    "\n",
    "#Z_scores dataset\n",
    "z_scores_training_df = z_scores_initial_df.iloc[training_df.index]"
   ]
  },
  {
   "cell_type": "code",
   "execution_count": 154,
   "id": "147d3579",
   "metadata": {},
   "outputs": [],
   "source": [
    "test_samples_def = pd.DataFrame(ml_initial_df['code_oncotree'].value_counts())"
   ]
  },
  {
   "cell_type": "code",
   "execution_count": 159,
   "id": "e059eca1",
   "metadata": {},
   "outputs": [
    {
     "data": {
      "text/html": [
       "<div>\n",
       "<style scoped>\n",
       "    .dataframe tbody tr th:only-of-type {\n",
       "        vertical-align: middle;\n",
       "    }\n",
       "\n",
       "    .dataframe tbody tr th {\n",
       "        vertical-align: top;\n",
       "    }\n",
       "\n",
       "    .dataframe thead th {\n",
       "        text-align: right;\n",
       "    }\n",
       "</style>\n",
       "<table border=\"1\" class=\"dataframe\">\n",
       "  <thead>\n",
       "    <tr style=\"text-align: right;\">\n",
       "      <th></th>\n",
       "      <th>count</th>\n",
       "    </tr>\n",
       "    <tr>\n",
       "      <th>code_oncotree</th>\n",
       "      <th></th>\n",
       "    </tr>\n",
       "  </thead>\n",
       "  <tbody>\n",
       "    <tr>\n",
       "      <th>BRCA</th>\n",
       "      <td>200</td>\n",
       "    </tr>\n",
       "    <tr>\n",
       "      <th>CHDM</th>\n",
       "      <td>84</td>\n",
       "    </tr>\n",
       "    <tr>\n",
       "      <th>SYNS</th>\n",
       "      <td>71</td>\n",
       "    </tr>\n",
       "    <tr>\n",
       "      <th>LMS</th>\n",
       "      <td>65</td>\n",
       "    </tr>\n",
       "    <tr>\n",
       "      <th>ACYC</th>\n",
       "      <td>59</td>\n",
       "    </tr>\n",
       "    <tr>\n",
       "      <th>SFT</th>\n",
       "      <td>50</td>\n",
       "    </tr>\n",
       "    <tr>\n",
       "      <th>MFH</th>\n",
       "      <td>44</td>\n",
       "    </tr>\n",
       "    <tr>\n",
       "      <th>ES</th>\n",
       "      <td>43</td>\n",
       "    </tr>\n",
       "    <tr>\n",
       "      <th>ARMS</th>\n",
       "      <td>43</td>\n",
       "    </tr>\n",
       "    <tr>\n",
       "      <th>ACC</th>\n",
       "      <td>37</td>\n",
       "    </tr>\n",
       "    <tr>\n",
       "      <th>OS</th>\n",
       "      <td>31</td>\n",
       "    </tr>\n",
       "    <tr>\n",
       "      <th>IHCH</th>\n",
       "      <td>30</td>\n",
       "    </tr>\n",
       "    <tr>\n",
       "      <th>ERMS</th>\n",
       "      <td>29</td>\n",
       "    </tr>\n",
       "    <tr>\n",
       "      <th>ULMS</th>\n",
       "      <td>23</td>\n",
       "    </tr>\n",
       "    <tr>\n",
       "      <th>DSRCT</th>\n",
       "      <td>22</td>\n",
       "    </tr>\n",
       "    <tr>\n",
       "      <th>PANET</th>\n",
       "      <td>21</td>\n",
       "    </tr>\n",
       "    <tr>\n",
       "      <th>MRLS</th>\n",
       "      <td>21</td>\n",
       "    </tr>\n",
       "    <tr>\n",
       "      <th>DDLS</th>\n",
       "      <td>21</td>\n",
       "    </tr>\n",
       "    <tr>\n",
       "      <th>PAAD</th>\n",
       "      <td>20</td>\n",
       "    </tr>\n",
       "    <tr>\n",
       "      <th>ASPS</th>\n",
       "      <td>19</td>\n",
       "    </tr>\n",
       "    <tr>\n",
       "      <th>MEL</th>\n",
       "      <td>19</td>\n",
       "    </tr>\n",
       "    <tr>\n",
       "      <th>SDCA</th>\n",
       "      <td>19</td>\n",
       "    </tr>\n",
       "    <tr>\n",
       "      <th>DIFG</th>\n",
       "      <td>19</td>\n",
       "    </tr>\n",
       "    <tr>\n",
       "      <th>COAD</th>\n",
       "      <td>16</td>\n",
       "    </tr>\n",
       "    <tr>\n",
       "      <th>MPNST</th>\n",
       "      <td>16</td>\n",
       "    </tr>\n",
       "    <tr>\n",
       "      <th>THYC</th>\n",
       "      <td>15</td>\n",
       "    </tr>\n",
       "    <tr>\n",
       "      <th>GIST</th>\n",
       "      <td>15</td>\n",
       "    </tr>\n",
       "    <tr>\n",
       "      <th>CHS</th>\n",
       "      <td>15</td>\n",
       "    </tr>\n",
       "    <tr>\n",
       "      <th>LGFMS</th>\n",
       "      <td>15</td>\n",
       "    </tr>\n",
       "    <tr>\n",
       "      <th>CCS</th>\n",
       "      <td>13</td>\n",
       "    </tr>\n",
       "    <tr>\n",
       "      <th>EPIS</th>\n",
       "      <td>13</td>\n",
       "    </tr>\n",
       "    <tr>\n",
       "      <th>READ</th>\n",
       "      <td>13</td>\n",
       "    </tr>\n",
       "    <tr>\n",
       "      <th>UM</th>\n",
       "      <td>13</td>\n",
       "    </tr>\n",
       "    <tr>\n",
       "      <th>BA</th>\n",
       "      <td>11</td>\n",
       "    </tr>\n",
       "    <tr>\n",
       "      <th>DFSP</th>\n",
       "      <td>11</td>\n",
       "    </tr>\n",
       "    <tr>\n",
       "      <th>GINET</th>\n",
       "      <td>11</td>\n",
       "    </tr>\n",
       "    <tr>\n",
       "      <th>PLEMESO</th>\n",
       "      <td>10</td>\n",
       "    </tr>\n",
       "    <tr>\n",
       "      <th>RMS</th>\n",
       "      <td>10</td>\n",
       "    </tr>\n",
       "    <tr>\n",
       "      <th>SCRMS</th>\n",
       "      <td>10</td>\n",
       "    </tr>\n",
       "    <tr>\n",
       "      <th>ANGS</th>\n",
       "      <td>10</td>\n",
       "    </tr>\n",
       "    <tr>\n",
       "      <th>THYM</th>\n",
       "      <td>10</td>\n",
       "    </tr>\n",
       "    <tr>\n",
       "      <th>LUAD</th>\n",
       "      <td>10</td>\n",
       "    </tr>\n",
       "    <tr>\n",
       "      <th>MYEC</th>\n",
       "      <td>9</td>\n",
       "    </tr>\n",
       "    <tr>\n",
       "      <th>EHAE</th>\n",
       "      <td>9</td>\n",
       "    </tr>\n",
       "  </tbody>\n",
       "</table>\n",
       "</div>"
      ],
      "text/plain": [
       "               count\n",
       "code_oncotree       \n",
       "BRCA             200\n",
       "CHDM              84\n",
       "SYNS              71\n",
       "LMS               65\n",
       "ACYC              59\n",
       "SFT               50\n",
       "MFH               44\n",
       "ES                43\n",
       "ARMS              43\n",
       "ACC               37\n",
       "OS                31\n",
       "IHCH              30\n",
       "ERMS              29\n",
       "ULMS              23\n",
       "DSRCT             22\n",
       "PANET             21\n",
       "MRLS              21\n",
       "DDLS              21\n",
       "PAAD              20\n",
       "ASPS              19\n",
       "MEL               19\n",
       "SDCA              19\n",
       "DIFG              19\n",
       "COAD              16\n",
       "MPNST             16\n",
       "THYC              15\n",
       "GIST              15\n",
       "CHS               15\n",
       "LGFMS             15\n",
       "CCS               13\n",
       "EPIS              13\n",
       "READ              13\n",
       "UM                13\n",
       "BA                11\n",
       "DFSP              11\n",
       "GINET             11\n",
       "PLEMESO           10\n",
       "RMS               10\n",
       "SCRMS             10\n",
       "ANGS              10\n",
       "THYM              10\n",
       "LUAD              10\n",
       "MYEC               9\n",
       "EHAE               9"
      ]
     },
     "execution_count": 159,
     "metadata": {},
     "output_type": "execute_result"
    }
   ],
   "source": [
    "test_samples_def[test_samples_def['count']>8]"
   ]
  },
  {
   "cell_type": "code",
   "execution_count": null,
   "id": "6ba0d091",
   "metadata": {},
   "outputs": [
    {
     "data": {
      "text/html": [
       "<div>\n",
       "<style scoped>\n",
       "    .dataframe tbody tr th:only-of-type {\n",
       "        vertical-align: middle;\n",
       "    }\n",
       "\n",
       "    .dataframe tbody tr th {\n",
       "        vertical-align: top;\n",
       "    }\n",
       "\n",
       "    .dataframe thead th {\n",
       "        text-align: right;\n",
       "    }\n",
       "</style>\n",
       "<table border=\"1\" class=\"dataframe\">\n",
       "  <thead>\n",
       "    <tr style=\"text-align: right;\">\n",
       "      <th></th>\n",
       "      <th>count</th>\n",
       "    </tr>\n",
       "    <tr>\n",
       "      <th>code_oncotree</th>\n",
       "      <th></th>\n",
       "    </tr>\n",
       "  </thead>\n",
       "  <tbody>\n",
       "    <tr>\n",
       "      <th>BRCA</th>\n",
       "      <td>127</td>\n",
       "    </tr>\n",
       "    <tr>\n",
       "      <th>CHDM</th>\n",
       "      <td>79</td>\n",
       "    </tr>\n",
       "    <tr>\n",
       "      <th>SYNS</th>\n",
       "      <td>58</td>\n",
       "    </tr>\n",
       "    <tr>\n",
       "      <th>LMS</th>\n",
       "      <td>49</td>\n",
       "    </tr>\n",
       "    <tr>\n",
       "      <th>ARMS</th>\n",
       "      <td>44</td>\n",
       "    </tr>\n",
       "    <tr>\n",
       "      <th>MFH</th>\n",
       "      <td>39</td>\n",
       "    </tr>\n",
       "    <tr>\n",
       "      <th>ES</th>\n",
       "      <td>38</td>\n",
       "    </tr>\n",
       "    <tr>\n",
       "      <th>SFT</th>\n",
       "      <td>35</td>\n",
       "    </tr>\n",
       "    <tr>\n",
       "      <th>ERMS</th>\n",
       "      <td>29</td>\n",
       "    </tr>\n",
       "    <tr>\n",
       "      <th>ACC</th>\n",
       "      <td>28</td>\n",
       "    </tr>\n",
       "    <tr>\n",
       "      <th>OS</th>\n",
       "      <td>26</td>\n",
       "    </tr>\n",
       "    <tr>\n",
       "      <th>IHCH</th>\n",
       "      <td>25</td>\n",
       "    </tr>\n",
       "    <tr>\n",
       "      <th>MRLS</th>\n",
       "      <td>21</td>\n",
       "    </tr>\n",
       "    <tr>\n",
       "      <th>ULMS</th>\n",
       "      <td>20</td>\n",
       "    </tr>\n",
       "    <tr>\n",
       "      <th>DSRCT</th>\n",
       "      <td>19</td>\n",
       "    </tr>\n",
       "    <tr>\n",
       "      <th>PANET</th>\n",
       "      <td>19</td>\n",
       "    </tr>\n",
       "    <tr>\n",
       "      <th>DDLS</th>\n",
       "      <td>18</td>\n",
       "    </tr>\n",
       "    <tr>\n",
       "      <th>MEL</th>\n",
       "      <td>17</td>\n",
       "    </tr>\n",
       "    <tr>\n",
       "      <th>ASPS</th>\n",
       "      <td>16</td>\n",
       "    </tr>\n",
       "    <tr>\n",
       "      <th>DIFG</th>\n",
       "      <td>16</td>\n",
       "    </tr>\n",
       "    <tr>\n",
       "      <th>MPNST</th>\n",
       "      <td>14</td>\n",
       "    </tr>\n",
       "    <tr>\n",
       "      <th>GIST</th>\n",
       "      <td>13</td>\n",
       "    </tr>\n",
       "    <tr>\n",
       "      <th>COAD</th>\n",
       "      <td>13</td>\n",
       "    </tr>\n",
       "    <tr>\n",
       "      <th>EPIS</th>\n",
       "      <td>13</td>\n",
       "    </tr>\n",
       "    <tr>\n",
       "      <th>UM</th>\n",
       "      <td>13</td>\n",
       "    </tr>\n",
       "    <tr>\n",
       "      <th>PAAD</th>\n",
       "      <td>13</td>\n",
       "    </tr>\n",
       "    <tr>\n",
       "      <th>THYC</th>\n",
       "      <td>12</td>\n",
       "    </tr>\n",
       "    <tr>\n",
       "      <th>READ</th>\n",
       "      <td>12</td>\n",
       "    </tr>\n",
       "    <tr>\n",
       "      <th>CHS</th>\n",
       "      <td>11</td>\n",
       "    </tr>\n",
       "    <tr>\n",
       "      <th>GINET</th>\n",
       "      <td>10</td>\n",
       "    </tr>\n",
       "    <tr>\n",
       "      <th>CCS</th>\n",
       "      <td>10</td>\n",
       "    </tr>\n",
       "    <tr>\n",
       "      <th>LGFMS</th>\n",
       "      <td>10</td>\n",
       "    </tr>\n",
       "    <tr>\n",
       "      <th>RMS</th>\n",
       "      <td>9</td>\n",
       "    </tr>\n",
       "    <tr>\n",
       "      <th>THYM</th>\n",
       "      <td>9</td>\n",
       "    </tr>\n",
       "    <tr>\n",
       "      <th>PLEMESO</th>\n",
       "      <td>9</td>\n",
       "    </tr>\n",
       "    <tr>\n",
       "      <th>ANGS</th>\n",
       "      <td>9</td>\n",
       "    </tr>\n",
       "    <tr>\n",
       "      <th>BA</th>\n",
       "      <td>9</td>\n",
       "    </tr>\n",
       "    <tr>\n",
       "      <th>LUAD</th>\n",
       "      <td>8</td>\n",
       "    </tr>\n",
       "    <tr>\n",
       "      <th>EHAE</th>\n",
       "      <td>8</td>\n",
       "    </tr>\n",
       "    <tr>\n",
       "      <th>ACYC</th>\n",
       "      <td>8</td>\n",
       "    </tr>\n",
       "    <tr>\n",
       "      <th>RCC</th>\n",
       "      <td>7</td>\n",
       "    </tr>\n",
       "    <tr>\n",
       "      <th>ANSC</th>\n",
       "      <td>7</td>\n",
       "    </tr>\n",
       "    <tr>\n",
       "      <th>DFSP</th>\n",
       "      <td>7</td>\n",
       "    </tr>\n",
       "    <tr>\n",
       "      <th>SCRMS</th>\n",
       "      <td>7</td>\n",
       "    </tr>\n",
       "    <tr>\n",
       "      <th>PLRMS</th>\n",
       "      <td>6</td>\n",
       "    </tr>\n",
       "    <tr>\n",
       "      <th>GINETES</th>\n",
       "      <td>6</td>\n",
       "    </tr>\n",
       "    <tr>\n",
       "      <th>SOC</th>\n",
       "      <td>6</td>\n",
       "    </tr>\n",
       "    <tr>\n",
       "      <th>SDCA</th>\n",
       "      <td>6</td>\n",
       "    </tr>\n",
       "    <tr>\n",
       "      <th>LUNE</th>\n",
       "      <td>6</td>\n",
       "    </tr>\n",
       "    <tr>\n",
       "      <th>MFS</th>\n",
       "      <td>6</td>\n",
       "    </tr>\n",
       "    <tr>\n",
       "      <th>NSGCT</th>\n",
       "      <td>6</td>\n",
       "    </tr>\n",
       "    <tr>\n",
       "      <th>MYCHS</th>\n",
       "      <td>5</td>\n",
       "    </tr>\n",
       "    <tr>\n",
       "      <th>PRAD</th>\n",
       "      <td>5</td>\n",
       "    </tr>\n",
       "    <tr>\n",
       "      <th>THAP</th>\n",
       "      <td>5</td>\n",
       "    </tr>\n",
       "    <tr>\n",
       "      <th>ESCA</th>\n",
       "      <td>5</td>\n",
       "    </tr>\n",
       "    <tr>\n",
       "      <th>THPD</th>\n",
       "      <td>5</td>\n",
       "    </tr>\n",
       "    <tr>\n",
       "      <th>ALUCA</th>\n",
       "      <td>4</td>\n",
       "    </tr>\n",
       "    <tr>\n",
       "      <th>IMT</th>\n",
       "      <td>4</td>\n",
       "    </tr>\n",
       "  </tbody>\n",
       "</table>\n",
       "</div>"
      ],
      "text/plain": [
       "               count\n",
       "code_oncotree       \n",
       "BRCA             127\n",
       "CHDM              79\n",
       "SYNS              58\n",
       "LMS               49\n",
       "ARMS              44\n",
       "MFH               39\n",
       "ES                38\n",
       "SFT               35\n",
       "ERMS              29\n",
       "ACC               28\n",
       "OS                26\n",
       "IHCH              25\n",
       "MRLS              21\n",
       "ULMS              20\n",
       "DSRCT             19\n",
       "PANET             19\n",
       "DDLS              18\n",
       "MEL               17\n",
       "ASPS              16\n",
       "DIFG              16\n",
       "MPNST             14\n",
       "GIST              13\n",
       "COAD              13\n",
       "EPIS              13\n",
       "UM                13\n",
       "PAAD              13\n",
       "THYC              12\n",
       "READ              12\n",
       "CHS               11\n",
       "GINET             10\n",
       "CCS               10\n",
       "LGFMS             10\n",
       "RMS                9\n",
       "THYM               9\n",
       "PLEMESO            9\n",
       "ANGS               9\n",
       "BA                 9\n",
       "LUAD               8\n",
       "EHAE               8\n",
       "ACYC               8\n",
       "RCC                7\n",
       "ANSC               7\n",
       "DFSP               7\n",
       "SCRMS              7\n",
       "PLRMS              6\n",
       "GINETES            6\n",
       "SOC                6\n",
       "SDCA               6\n",
       "LUNE               6\n",
       "MFS                6\n",
       "NSGCT              6\n",
       "MYCHS              5\n",
       "PRAD               5\n",
       "THAP               5\n",
       "ESCA               5\n",
       "THPD               5\n",
       "ALUCA              4\n",
       "IMT                4"
      ]
     },
     "metadata": {},
     "output_type": "display_data"
    }
   ],
   "source": [
    "test_samples_def[test_samples_def['count']>3]"
   ]
  },
  {
   "cell_type": "code",
   "execution_count": null,
   "id": "8793d7fd",
   "metadata": {},
   "outputs": [
    {
     "data": {
      "text/html": [
       "<div>\n",
       "<style scoped>\n",
       "    .dataframe tbody tr th:only-of-type {\n",
       "        vertical-align: middle;\n",
       "    }\n",
       "\n",
       "    .dataframe tbody tr th {\n",
       "        vertical-align: top;\n",
       "    }\n",
       "\n",
       "    .dataframe thead th {\n",
       "        text-align: right;\n",
       "    }\n",
       "</style>\n",
       "<table border=\"1\" class=\"dataframe\">\n",
       "  <thead>\n",
       "    <tr style=\"text-align: right;\">\n",
       "      <th></th>\n",
       "      <th>count</th>\n",
       "    </tr>\n",
       "    <tr>\n",
       "      <th>code_oncotree</th>\n",
       "      <th></th>\n",
       "    </tr>\n",
       "  </thead>\n",
       "  <tbody>\n",
       "    <tr>\n",
       "      <th>BRCA</th>\n",
       "      <td>32</td>\n",
       "    </tr>\n",
       "    <tr>\n",
       "      <th>CHDM</th>\n",
       "      <td>20</td>\n",
       "    </tr>\n",
       "    <tr>\n",
       "      <th>SYNS</th>\n",
       "      <td>15</td>\n",
       "    </tr>\n",
       "    <tr>\n",
       "      <th>LMS</th>\n",
       "      <td>12</td>\n",
       "    </tr>\n",
       "    <tr>\n",
       "      <th>ARMS</th>\n",
       "      <td>11</td>\n",
       "    </tr>\n",
       "    <tr>\n",
       "      <th>ES</th>\n",
       "      <td>10</td>\n",
       "    </tr>\n",
       "    <tr>\n",
       "      <th>MFH</th>\n",
       "      <td>10</td>\n",
       "    </tr>\n",
       "    <tr>\n",
       "      <th>SFT</th>\n",
       "      <td>9</td>\n",
       "    </tr>\n",
       "    <tr>\n",
       "      <th>ACC</th>\n",
       "      <td>7</td>\n",
       "    </tr>\n",
       "    <tr>\n",
       "      <th>OS</th>\n",
       "      <td>7</td>\n",
       "    </tr>\n",
       "    <tr>\n",
       "      <th>ERMS</th>\n",
       "      <td>7</td>\n",
       "    </tr>\n",
       "    <tr>\n",
       "      <th>IHCH</th>\n",
       "      <td>6</td>\n",
       "    </tr>\n",
       "    <tr>\n",
       "      <th>DSRCT</th>\n",
       "      <td>5</td>\n",
       "    </tr>\n",
       "    <tr>\n",
       "      <th>ULMS</th>\n",
       "      <td>5</td>\n",
       "    </tr>\n",
       "    <tr>\n",
       "      <th>DDLS</th>\n",
       "      <td>5</td>\n",
       "    </tr>\n",
       "    <tr>\n",
       "      <th>PANET</th>\n",
       "      <td>5</td>\n",
       "    </tr>\n",
       "    <tr>\n",
       "      <th>MRLS</th>\n",
       "      <td>5</td>\n",
       "    </tr>\n",
       "    <tr>\n",
       "      <th>ASPS</th>\n",
       "      <td>4</td>\n",
       "    </tr>\n",
       "    <tr>\n",
       "      <th>MPNST</th>\n",
       "      <td>4</td>\n",
       "    </tr>\n",
       "    <tr>\n",
       "      <th>DIFG</th>\n",
       "      <td>4</td>\n",
       "    </tr>\n",
       "    <tr>\n",
       "      <th>MEL</th>\n",
       "      <td>4</td>\n",
       "    </tr>\n",
       "  </tbody>\n",
       "</table>\n",
       "</div>"
      ],
      "text/plain": [
       "               count\n",
       "code_oncotree       \n",
       "BRCA              32\n",
       "CHDM              20\n",
       "SYNS              15\n",
       "LMS               12\n",
       "ARMS              11\n",
       "ES                10\n",
       "MFH               10\n",
       "SFT                9\n",
       "ACC                7\n",
       "OS                 7\n",
       "ERMS               7\n",
       "IHCH               6\n",
       "DSRCT              5\n",
       "ULMS               5\n",
       "DDLS               5\n",
       "PANET              5\n",
       "MRLS               5\n",
       "ASPS               4\n",
       "MPNST              4\n",
       "DIFG               4\n",
       "MEL                4"
      ]
     },
     "metadata": {},
     "output_type": "display_data"
    }
   ],
   "source": [
    "test_samples_def[test_samples_def['count']>3]"
   ]
  },
  {
   "cell_type": "code",
   "execution_count": null,
   "id": "9c23386a",
   "metadata": {},
   "outputs": [
    {
     "name": "stdout",
     "output_type": "stream",
     "text": [
      "(1193, 13078)\n",
      "(911, 13079)\n",
      "(282, 13079)\n"
     ]
    }
   ],
   "source": [
    "print(ml_initial_df.shape)\n",
    "print(training_df.shape)\n",
    "print(held_out_df.shape)"
   ]
  },
  {
   "cell_type": "markdown",
   "id": "37b6f928",
   "metadata": {},
   "source": [
    "# Class Specific Worflow"
   ]
  },
  {
   "cell_type": "code",
   "execution_count": 52,
   "id": "52604b5e",
   "metadata": {},
   "outputs": [],
   "source": [
    "#Set Classification Parameters\n",
    "target_class = ['CHDM'] \n",
    "classified_by = 'code_oncotree'\n",
    "samples_column = 'Sample name'\n"
   ]
  },
  {
   "cell_type": "code",
   "execution_count": 53,
   "id": "0b2520a4",
   "metadata": {},
   "outputs": [
    {
     "name": "stdout",
     "output_type": "stream",
     "text": [
      " 5838 proteins identified in 70.0% of ['CHDM'] samples\n",
      "\n",
      "Number of samples per class:\n",
      "Classifier\n",
      "0    852\n",
      "1     59\n",
      "Name: count, dtype: int64\n",
      "\n",
      "\n",
      "Number of samples per class:\n",
      "Classifier\n",
      "0    262\n",
      "1     20\n",
      "Name: count, dtype: int64\n",
      "\n",
      "\n",
      "Number of samples per class:\n",
      "Classifier\n",
      "0    859\n",
      "1     52\n",
      "Name: count, dtype: int64\n",
      "\n"
     ]
    }
   ],
   "source": [
    "\n",
    "#Obtaining high confidence proteins by peptides\n",
    "entity_proteins_by_peptides = fs.get_high_confidence_proteins(peptides_df_binary, target_class, classified_by, threshold=0.7)\n",
    "\n",
    "# Binary labeling for specific class classification \n",
    "entity_training_df = fs.binary_labeling(training_df, classified_by=classified_by, true_class=target_class)\n",
    "entity_ho_df = fs.binary_labeling(held_out_df, classified_by=classified_by, true_class=target_class)\n",
    "\n",
    "entity_z_scores_train_df = fs.binary_labeling(z_scores_training_df, classified_by=classified_by, true_class=target_class)\n",
    "\n",
    "\n",
    "# 1st Filter - Filtering entity training and held-out dataframes by proteins with peptides\n",
    "entity_training_df = entity_training_df.filter(items=[samples_column, classified_by, 'Classifier'] + entity_proteins_by_peptides)\n",
    "entity_ho_df = entity_ho_df.filter(items=[samples_column, classified_by, 'Classifier'] + entity_proteins_by_peptides)\n",
    "\n",
    "entity_z_scores_train_df = entity_z_scores_train_df.filter(items=[samples_column, classified_by, 'Classifier'] + entity_proteins_by_peptides)"
   ]
  },
  {
   "cell_type": "markdown",
   "id": "89bd5127",
   "metadata": {},
   "source": [
    "## Feature Selection"
   ]
  },
  {
   "cell_type": "markdown",
   "id": "999c958e",
   "metadata": {},
   "source": [
    "### Hyperparametes for ElasticNet\n",
    "Calculated in Z-scores"
   ]
  },
  {
   "cell_type": "code",
   "execution_count": 73,
   "id": "fad0b1f5",
   "metadata": {},
   "outputs": [
    {
     "name": "stdout",
     "output_type": "stream",
     "text": [
      "Grid search completed in 2.36 seconds\n",
      "Best parameters: {'C': 1, 'l1_ratio': 0.5, 'max_iter': 10000, 'penalty': 'elasticnet', 'solver': 'saga'}\n",
      "Best score: 0.8870251743579333\n"
     ]
    }
   ],
   "source": [
    "entity_cv_results, entity_best_params, entity_best_score, entity_grid_search_obj = fs.hparameter_grid_search(entity_z_scores_train_df.iloc[:,:30], 4, l1_ratio_list=[0.7,0.5], C_list=[0.1,1], classified_by='code_oncotree')"
   ]
  },
  {
   "cell_type": "markdown",
   "id": "9a1fddbc",
   "metadata": {},
   "source": [
    "### Feature Selection by ElasticNet Cross-Validation"
   ]
  },
  {
   "cell_type": "code",
   "execution_count": 74,
   "id": "e7785ee3",
   "metadata": {},
   "outputs": [
    {
     "name": "stderr",
     "output_type": "stream",
     "text": [
      "Running Logistic Regression:   0%|          | 0/25 [00:00<?, ?iteration/s]Exception ignored in: <function ResourceTracker.__del__ at 0x71d40909e020>\n",
      "Traceback (most recent call last):\n",
      "  File \"/home/lestrada/miniconda3/envs/tumor_type_clasifier/lib/python3.13/multiprocessing/resource_tracker.py\", line 82, in __del__\n",
      "  File \"/home/lestrada/miniconda3/envs/tumor_type_clasifier/lib/python3.13/multiprocessing/resource_tracker.py\", line 91, in _stop\n",
      "  File \"/home/lestrada/miniconda3/envs/tumor_type_clasifier/lib/python3.13/multiprocessing/resource_tracker.py\", line 116, in _stop_locked\n",
      "ChildProcessError: [Errno 10] No child processes\n",
      "Exception ignored in: <function ResourceTracker.__del__ at 0x7618c419e020>\n",
      "Traceback (most recent call last):\n",
      "  File \"/home/lestrada/miniconda3/envs/tumor_type_clasifier/lib/python3.13/multiprocessing/resource_tracker.py\", line 82, in __del__\n",
      "  File \"/home/lestrada/miniconda3/envs/tumor_type_clasifier/lib/python3.13/multiprocessing/resource_tracker.py\", line 91, in _stop\n",
      "  File \"/home/lestrada/miniconda3/envs/tumor_type_clasifier/lib/python3.13/multiprocessing/resource_tracker.py\", line 116, in _stop_locked\n",
      "ChildProcessError: [Errno 10] No child processes\n",
      "Exception ignored in: <function ResourceTracker.__del__ at 0x7d8826ca2020>\n",
      "Traceback (most recent call last):\n",
      "  File \"/home/lestrada/miniconda3/envs/tumor_type_clasifier/lib/python3.13/multiprocessing/resource_tracker.py\", line 82, in __del__\n",
      "  File \"/home/lestrada/miniconda3/envs/tumor_type_clasifier/lib/python3.13/multiprocessing/resource_tracker.py\", line 91, in _stop\n",
      "  File \"/home/lestrada/miniconda3/envs/tumor_type_clasifier/lib/python3.13/multiprocessing/resource_tracker.py\", line 116, in _stop_locked\n",
      "ChildProcessError: [Errno 10] No child processes\n",
      "Exception ignored in: <function ResourceTracker.__del__ at 0x756f9779e020>\n",
      "Traceback (most recent call last):\n",
      "  File \"/home/lestrada/miniconda3/envs/tumor_type_clasifier/lib/python3.13/multiprocessing/resource_tracker.py\", line 82, in __del__\n",
      "  File \"/home/lestrada/miniconda3/envs/tumor_type_clasifier/lib/python3.13/multiprocessing/resource_tracker.py\", line 91, in _stop\n",
      "  File \"/home/lestrada/miniconda3/envs/tumor_type_clasifier/lib/python3.13/multiprocessing/resource_tracker.py\", line 116, in _stop_locked\n",
      "ChildProcessError: [Errno 10] No child processes\n",
      "Exception ignored in: <function ResourceTracker.__del__ at 0x71262d58e020>\n",
      "Traceback (most recent call last):\n",
      "  File \"/home/lestrada/miniconda3/envs/tumor_type_clasifier/lib/python3.13/multiprocessing/resource_tracker.py\", line 82, in __del__\n",
      "  File \"/home/lestrada/miniconda3/envs/tumor_type_clasifier/lib/python3.13/multiprocessing/resource_tracker.py\", line 91, in _stop\n",
      "  File \"/home/lestrada/miniconda3/envs/tumor_type_clasifier/lib/python3.13/multiprocessing/resource_tracker.py\", line 116, in _stop_locked\n",
      "ChildProcessError: [Errno 10] No child processes\n",
      "Exception ignored in: <function ResourceTracker.__del__ at 0x74a84cea6020>\n",
      "Traceback (most recent call last):\n",
      "  File \"/home/lestrada/miniconda3/envs/tumor_type_clasifier/lib/python3.13/multiprocessing/resource_tracker.py\", line 82, in __del__\n",
      "  File \"/home/lestrada/miniconda3/envs/tumor_type_clasifier/lib/python3.13/multiprocessing/resource_tracker.py\", line 91, in _stop\n",
      "  File \"/home/lestrada/miniconda3/envs/tumor_type_clasifier/lib/python3.13/multiprocessing/resource_tracker.py\", line 116, in _stop_locked\n",
      "ChildProcessError: [Errno 10] No child processes\n",
      "Exception ignored in: <function ResourceTracker.__del__ at 0x7c0c95ea2020>\n",
      "Traceback (most recent call last):\n",
      "  File \"/home/lestrada/miniconda3/envs/tumor_type_clasifier/lib/python3.13/multiprocessing/resource_tracker.py\", line 82, in __del__\n",
      "  File \"/home/lestrada/miniconda3/envs/tumor_type_clasifier/lib/python3.13/multiprocessing/resource_tracker.py\", line 91, in _stop\n",
      "  File \"/home/lestrada/miniconda3/envs/tumor_type_clasifier/lib/python3.13/multiprocessing/resource_tracker.py\", line 116, in _stop_locked\n",
      "ChildProcessError: [Errno 10] No child processes\n",
      "Exception ignored in: <function ResourceTracker.__del__ at 0x77a41d196020>\n",
      "Traceback (most recent call last):\n",
      "  File \"/home/lestrada/miniconda3/envs/tumor_type_clasifier/lib/python3.13/multiprocessing/resource_tracker.py\", line 82, in __del__\n",
      "  File \"/home/lestrada/miniconda3/envs/tumor_type_clasifier/lib/python3.13/multiprocessing/resource_tracker.py\", line 91, in _stop\n",
      "  File \"/home/lestrada/miniconda3/envs/tumor_type_clasifier/lib/python3.13/multiprocessing/resource_tracker.py\", line 116, in _stop_locked\n",
      "ChildProcessError: [Errno 10] No child processes\n",
      "Running Logistic Regression: 100%|██████████| 25/25 [00:02<00:00, 11.05iteration/s]\n",
      "/home/lestrada/miniconda3/envs/tumor_type_clasifier/lib/python3.13/site-packages/sklearn/linear_model/_sag.py:348: ConvergenceWarning: The max_iter was reached which means the coef_ did not converge\n",
      "  warnings.warn(\n",
      "/home/lestrada/miniconda3/envs/tumor_type_clasifier/lib/python3.13/site-packages/sklearn/linear_model/_sag.py:348: ConvergenceWarning: The max_iter was reached which means the coef_ did not converge\n",
      "  warnings.warn(\n",
      "/home/lestrada/miniconda3/envs/tumor_type_clasifier/lib/python3.13/site-packages/sklearn/linear_model/_sag.py:348: ConvergenceWarning: The max_iter was reached which means the coef_ did not converge\n",
      "  warnings.warn(\n",
      "/home/lestrada/miniconda3/envs/tumor_type_clasifier/lib/python3.13/site-packages/sklearn/linear_model/_sag.py:348: ConvergenceWarning: The max_iter was reached which means the coef_ did not converge\n",
      "  warnings.warn(\n",
      "/home/lestrada/miniconda3/envs/tumor_type_clasifier/lib/python3.13/site-packages/sklearn/linear_model/_sag.py:348: ConvergenceWarning: The max_iter was reached which means the coef_ did not converge\n",
      "  warnings.warn(\n",
      "/home/lestrada/miniconda3/envs/tumor_type_clasifier/lib/python3.13/site-packages/sklearn/linear_model/_sag.py:348: ConvergenceWarning: The max_iter was reached which means the coef_ did not converge\n",
      "  warnings.warn(\n",
      "/home/lestrada/miniconda3/envs/tumor_type_clasifier/lib/python3.13/site-packages/sklearn/linear_model/_sag.py:348: ConvergenceWarning: The max_iter was reached which means the coef_ did not converge\n",
      "  warnings.warn(\n"
     ]
    },
    {
     "name": "stdout",
     "output_type": "stream",
     "text": [
      "DataFrame exported to: /home/lestrada/tumor_type_prediction/notebooks/data/data_output/BRCA_250817_1230_results/feature_selection/CHDM_coefficients.xlsx\n"
     ]
    }
   ],
   "source": [
    "entity_cross_val_coeffs = fs.elnet_wrapper(entity_z_scores_train_df.iloc[:,:30],classified_by=classified_by, tumor_type_name='CHDM', l1_ratio=entity_best_params['l1_ratio'], C=entity_best_params['C'], n_splits=4, n_repeats=25,n_jobs=16, export=True)"
   ]
  },
  {
   "cell_type": "code",
   "execution_count": null,
   "id": "22c53150",
   "metadata": {},
   "outputs": [
    {
     "name": "stdout",
     "output_type": "stream",
     "text": [
      "With  26  folds, the following statistics were obtained, from feature selection:\n",
      "• Mean MCC score: 0.8063 ± 0.0667\n",
      "\n",
      "----------------------------------------\n",
      "• Top 3 proteins with highest coefficients:\n",
      "           mean       std  Freq  Wald Chi-Square   p-value_corrected  \\\n",
      "KRT19  2.018405  0.531257   1.0        14.434680            0.000409   \n",
      "SCRN1  1.649494  0.571543   1.0         8.329203            0.009303   \n",
      "TBL2   0.817797  0.439555   1.0         3.461513            0.108178   \n",
      "\n",
      "       Significant  \n",
      "KRT19          1.0  \n",
      "SCRN1          1.0  \n",
      "TBL2           0.0  \n",
      "\n",
      "----------------------------------------\n",
      "• List of significant proteins: ['KRT19', 'SCRN1', 'VCP', 'HSD17B4', 'VDAC2', 'PHGDH', 'SEPTIN9', 'SNRNP70', 'CPSF7']\n",
      "• Number of significant proteins: 9\n",
      "\n",
      "----------------------------------------\n",
      "★ The mean MCC score is above 0.8, indicating reliable model performance. ★\n"
     ]
    }
   ],
   "source": [
    "entity_stats_try, entity_proteins = fs.statistic_from_coefficients(entity_cross_val_coeffs, target_class)"
   ]
  },
  {
   "cell_type": "markdown",
   "id": "a6c19ce5",
   "metadata": {},
   "source": [
    "## Model Fitting\n",
    "Calculated on intensities"
   ]
  },
  {
   "cell_type": "markdown",
   "id": "72a324a7",
   "metadata": {},
   "source": [
    "### Reshaping dataset for training and test"
   ]
  },
  {
   "cell_type": "code",
   "execution_count": 82,
   "id": "b07d03c8",
   "metadata": {},
   "outputs": [],
   "source": [
    "entity_training_fs = fs.reshape_df_for_fitting(entity_z_scores_train_df.iloc[:,:30], entity_proteins)\n",
    "entity_test_fs = fs.reshape_df_for_fitting(entity_ho_df.iloc[:,:30], entity_proteins)\n"
   ]
  },
  {
   "cell_type": "markdown",
   "id": "57dde188",
   "metadata": {},
   "source": [
    "### Hyperparameter Selection for Logistic Regression"
   ]
  },
  {
   "cell_type": "code",
   "execution_count": 83,
   "id": "68635a44",
   "metadata": {},
   "outputs": [
    {
     "name": "stdout",
     "output_type": "stream",
     "text": [
      "• Running for random_state=0\n",
      "1 Inner fold best parameter={'C': 1}, Score=0.7406, Outer Validation MCC Score: 0.7795\n",
      "\n",
      "2 Inner fold best parameter={'C': 10}, Score=0.9271, Outer Validation MCC Score: 0.7047\n",
      "\n",
      "3 Inner fold best parameter={'C': 10}, Score=0.7543, Outer Validation MCC Score: 0.7641\n",
      "\n",
      "Average MCC across all outer folds: 0.7494\n",
      "\n",
      "--------------------------------------------------\n",
      "• Running for random_state=1\n",
      "1 Inner fold best parameter={'C': 0.1}, Score=0.7743, Outer Validation MCC Score: 0.7222\n",
      "\n",
      "2 Inner fold best parameter={'C': 10}, Score=0.8194, Outer Validation MCC Score: 0.7114\n",
      "\n",
      "3 Inner fold best parameter={'C': 10}, Score=0.8049, Outer Validation MCC Score: 0.8834\n",
      "\n",
      "Average MCC across all outer folds: 0.7724\n",
      "\n",
      "--------------------------------------------------\n",
      "• Running for random_state=2\n",
      "1 Inner fold best parameter={'C': 1}, Score=0.7637, Outer Validation MCC Score: 0.7222\n",
      "\n",
      "2 Inner fold best parameter={'C': 1}, Score=0.7455, Outer Validation MCC Score: 0.7189\n",
      "\n",
      "3 Inner fold best parameter={'C': 10}, Score=0.8803, Outer Validation MCC Score: 0.8700\n",
      "\n",
      "Average MCC across all outer folds: 0.7704\n",
      "\n",
      "--------------------------------------------------\n",
      "• Running for random_state=3\n",
      "1 Inner fold best parameter={'C': 10}, Score=0.7810, Outer Validation MCC Score: 0.7966\n",
      "\n",
      "2 Inner fold best parameter={'C': 10}, Score=0.8551, Outer Validation MCC Score: 0.7873\n",
      "\n",
      "3 Inner fold best parameter={'C': 10}, Score=0.7811, Outer Validation MCC Score: 0.7222\n",
      "\n",
      "Average MCC across all outer folds: 0.7687\n",
      "\n",
      "--------------------------------------------------\n",
      "• Running for random_state=4\n",
      "1 Inner fold best parameter={'C': 10}, Score=0.8158, Outer Validation MCC Score: 0.8594\n",
      "\n",
      "2 Inner fold best parameter={'C': 10}, Score=0.7431, Outer Validation MCC Score: 0.7876\n",
      "\n",
      "Inner fold model did not converged.\n",
      "3 Inner fold best parameter={'C': 0.1}, Score=0.8101, Outer Validation MCC Score: 0.8161\n",
      "\n",
      "Average MCC across all outer folds: 0.8210\n",
      "\n",
      "--------------------------------------------------\n",
      "                                                     1.0   \\\n",
      "scores  [0.7795455823801378, 0.7222440769488162, 0.718...   \n",
      "count                                                   3   \n",
      "avg                                              0.740237   \n",
      "\n",
      "                                                     10.0  \\\n",
      "scores  [0.7047397047397047, 0.7640623068776582, 0.711...   \n",
      "count                                                  10   \n",
      "avg                                              0.788673   \n",
      "\n",
      "                                            0.1   \n",
      "scores  [0.7222440769488162, 0.8160635911414869]  \n",
      "count                                          2  \n",
      "avg                                     0.769154  \n"
     ]
    }
   ],
   "source": [
    "entity_to_nest_cv_results = mf.wrapper_nested_cv(entity_training_fs, random_state_tries=5, n_splits=3, classified_by=classified_by)\n",
    "entity_to_nest_hp = mf.nested_cv_hparameters_selection(entity_to_nest_cv_results)"
   ]
  },
  {
   "cell_type": "code",
   "execution_count": 84,
   "id": "c630f68f",
   "metadata": {},
   "outputs": [],
   "source": [
    "hyperparameter_C = pd.DataFrame(entity_to_nest_hp).T.sort_values(by='avg', ascending=False).index.tolist()[0]"
   ]
  },
  {
   "cell_type": "code",
   "execution_count": 85,
   "id": "1b69a286",
   "metadata": {},
   "outputs": [
    {
     "data": {
      "text/plain": [
       "10.0"
      ]
     },
     "execution_count": 85,
     "metadata": {},
     "output_type": "execute_result"
    }
   ],
   "source": [
    "hyperparameter_C"
   ]
  },
  {
   "cell_type": "markdown",
   "id": "b1b535ce",
   "metadata": {},
   "source": [
    "### Model Fit"
   ]
  },
  {
   "cell_type": "code",
   "execution_count": 86,
   "id": "737c7a0a",
   "metadata": {},
   "outputs": [
    {
     "name": "stdout",
     "output_type": "stream",
     "text": [
      "Model saved as CHDM_log_reg_ridge_model.pkl\n"
     ]
    }
   ],
   "source": [
    "entity_log_reg_model = mf.logistic_regression_ridge( entity_training_fs, hyperparameter_C, target_class, classified_by=classified_by) "
   ]
  },
  {
   "cell_type": "code",
   "execution_count": 87,
   "id": "05fd7658",
   "metadata": {},
   "outputs": [
    {
     "name": "stdout",
     "output_type": "stream",
     "text": [
      "# of Iterations: [115]\n",
      "MCC train: 0.77096848314381\n",
      "MCC test: 0.0\n",
      "F1 Positive: 0.0\n"
     ]
    }
   ],
   "source": [
    "entity_coefficients, entity_train_probabilities, entity_test_probabilities = mf.logistic_regression_results(entity_log_reg_model, entity_training_fs, entity_ho_df, target_class, classified_by=classified_by)"
   ]
  },
  {
   "cell_type": "code",
   "execution_count": 88,
   "id": "aaef3c09",
   "metadata": {},
   "outputs": [
    {
     "name": "stdout",
     "output_type": "stream",
     "text": [
      "------------------------------------\n",
      "•General Scores:\n",
      "MCC Score: 0.0\n",
      "F1 Macro: 0.48161764705882354\n",
      "F1 Micro: 0.9290780141843972\n",
      "F1 Entity Score: 0.0\n",
      "\n",
      "------------------------------------\n",
      "•Confusion Matrix:\n",
      "  TN | FP\n",
      "[[262   0]\n",
      " [ 20   0]]\n",
      "  FN | TP\n",
      "\n",
      "------------------------------------\n",
      "•False Positives:\n",
      "No False Positives detected.\n",
      "\n",
      "------------------------------------\n",
      "•False Negatives:\n",
      "           Sample name code_oncotree  Classifier   Probability  Predicted\n",
      "16      H021-7J2J7X-M1          CHDM           1  1.436548e-20        0.0\n",
      "87   H021-V6BV2M-M2-Q1          CHDM           1  1.718825e-19        0.0\n",
      "134  S033-33+005-T2-Q1          CHDM           1  8.806193e-20        0.0\n",
      "135  S033-33+006-T1-Q1          CHDM           1  1.581967e-20        0.0\n",
      "136  S033-33+030-T1-Q1          CHDM           1  6.068903e-19        0.0\n",
      "137  H021-6A9ZQ6-T2-Q1          CHDM           1  6.686990e-21        0.0\n",
      "145  S033-33+001-T3-Q1          CHDM           1  2.839905e-19        0.0\n",
      "146  S033-33+008-T2-Q1          CHDM           1  1.920147e-19        0.0\n",
      "186     H021-NQ7S9M-T1          CHDM           1  1.514346e-19        0.0\n",
      "204  H021-Y9L8J1-M1-Q1          CHDM           1  1.236579e-18        0.0\n",
      "206     H021-Z1LD1V-T1          CHDM           1  1.436476e-19        0.0\n",
      "223  S033-33+005-T1-Q1          CHDM           1  1.160365e-19        0.0\n",
      "224  S033-33+020-T1-Q1          CHDM           1  3.550434e-20        0.0\n",
      "225  S033-33+022-T1-Q1          CHDM           1  1.420871e-19        0.0\n",
      "227  H021-EV7BPV-M1-Q1          CHDM           1  5.551136e-20        0.0\n",
      "233  S033-33+023-T1-Q1          CHDM           1  5.951140e-20        0.0\n",
      "240     H021-5YEPF5-M1          CHDM           1  1.223427e-20        0.0\n",
      "247     H021-CM887S-M2          CHDM           1  1.829213e-21        0.0\n",
      "250  H021-FJ8QYX-T2-E1          CHDM           1  4.082171e-22        0.0\n",
      "256     H021-LS387K-T2          CHDM           1  3.180190e-20        0.0\n"
     ]
    }
   ],
   "source": [
    "test_entity_scores = mf.classification_scores(entity_test_probabilities)"
   ]
  },
  {
   "cell_type": "markdown",
   "id": "3049e4d5",
   "metadata": {},
   "source": [
    "# Graphs"
   ]
  },
  {
   "cell_type": "markdown",
   "id": "ce519f26",
   "metadata": {},
   "source": [
    "### 3D UMAP with selected features"
   ]
  },
  {
   "cell_type": "code",
   "execution_count": 89,
   "id": "08d1e6c3",
   "metadata": {},
   "outputs": [
    {
     "name": "stdout",
     "output_type": "stream",
     "text": [
      "Original dataframe shape: (1479, 13078)\n",
      "Feature data shape: (1479, 9)\n",
      "Standardizing features...\n",
      "Applying UMAP...\n",
      "UMAP(n_components=3, n_jobs=1, n_neighbors=5, random_state=93, verbose=True)\n",
      "Sun Aug 17 15:55:50 2025 Construct fuzzy simplicial set\n",
      "Sun Aug 17 15:55:52 2025 Finding Nearest Neighbors\n",
      "Sun Aug 17 15:55:56 2025 Finished Nearest Neighbor Search\n",
      "Sun Aug 17 15:55:58 2025 Construct embedding\n"
     ]
    },
    {
     "name": "stderr",
     "output_type": "stream",
     "text": [
      "Epochs completed:   7%| ▋          34/500 [00:00]"
     ]
    },
    {
     "name": "stdout",
     "output_type": "stream",
     "text": [
      "\tcompleted  0  /  500 epochs\n",
      "\tcompleted  50  /  500 epochs\n"
     ]
    },
    {
     "name": "stderr",
     "output_type": "stream",
     "text": [
      "Epochs completed:  31%| ███▏       157/500 [00:01]"
     ]
    },
    {
     "name": "stdout",
     "output_type": "stream",
     "text": [
      "\tcompleted  100  /  500 epochs\n",
      "\tcompleted  150  /  500 epochs\n"
     ]
    },
    {
     "name": "stderr",
     "output_type": "stream",
     "text": [
      "Epochs completed:  50%| ████▉      248/500 [00:01]"
     ]
    },
    {
     "name": "stdout",
     "output_type": "stream",
     "text": [
      "\tcompleted  200  /  500 epochs\n",
      "\tcompleted  250  /  500 epochs\n"
     ]
    },
    {
     "name": "stderr",
     "output_type": "stream",
     "text": [
      "Epochs completed:  68%| ██████▊    341/500 [00:01]"
     ]
    },
    {
     "name": "stdout",
     "output_type": "stream",
     "text": [
      "\tcompleted  300  /  500 epochs\n",
      "\tcompleted  350  /  500 epochs\n"
     ]
    },
    {
     "name": "stderr",
     "output_type": "stream",
     "text": [
      "Epochs completed:  87%| ████████▋  433/500 [00:02]"
     ]
    },
    {
     "name": "stdout",
     "output_type": "stream",
     "text": [
      "\tcompleted  400  /  500 epochs\n",
      "\tcompleted  450  /  500 epochs\n"
     ]
    },
    {
     "name": "stderr",
     "output_type": "stream",
     "text": [
      "Epochs completed: 100%| ██████████ 500/500 [00:02]\n"
     ]
    },
    {
     "name": "stdout",
     "output_type": "stream",
     "text": [
      "Sun Aug 17 15:56:01 2025 Finished embedding\n",
      "Number of unique categories in code_oncotree: 177\n",
      "Plot saved as: /home/lestrada/tumor_type_prediction/notebooks/data/data_output/BRCA_250817_1230_results/model_fit/UMAP_of_class.html\n"
     ]
    },
    {
     "data": {
      "application/vnd.plotly.v1+json": {
       "config": {
        "plotlyServerURL": "https://plot.ly"
       },
       "data": [
        {
         "customdata": [
          [
           "A26K-HS3BDB-T14-Q1",
           "BRCA",
           "high"
          ],
          [
           "H021-6WNNW9-M3-Q1",
           "BRCA",
           "high"
          ],
          [
           "H021-C16TMF-M1",
           "BRCA",
           "high"
          ],
          [
           "H021-EWZVEU-M1-Q1",
           "BRCA",
           "high"
          ],
          [
           "K26K-K6UAUG-M31-Q1",
           "BRCA",
           "intermediate"
          ],
          [
           "K26K-V115SB-M22-Q1",
           "BRCA",
           "intermediate"
          ],
          [
           "K26K-XX8LUG-T11-Q1",
           "BRCA",
           "very low"
          ],
          [
           "H021-LHXEM5-M2",
           "BRCA",
           "high"
          ],
          [
           "H021-RFVHWPB-M1-Q1",
           "BRCA",
           "high"
          ],
          [
           "H021-VFEAZR-T1-Q1",
           "BRCA",
           "high"
          ],
          [
           "H021-VMUK3T-M3",
           "BRCA",
           "high"
          ],
          [
           "K26K-1GVZCL-M11-Q1",
           "BRCA",
           "high"
          ],
          [
           "K26K-28ZXGT-M21-Q1",
           "BRCA",
           "high"
          ],
          [
           "K26K-49JAYE-M12-Q1",
           "BRCA",
           "high"
          ],
          [
           "K26K-5KJWGU-T13-Q1",
           "BRCA",
           "high"
          ],
          [
           "K26K-6GEYS6-M21-Q1",
           "BRCA",
           "high"
          ],
          [
           "K26K-7BQYTL-M21-Q1",
           "BRCA",
           "high"
          ],
          [
           "K26K-7M2CHU-M11-Q1",
           "BRCA",
           "high"
          ],
          [
           "K26K-7ZLPNW-M12-Q1",
           "BRCA",
           "high"
          ],
          [
           "K26K-8MY2XR-M21-Q1",
           "BRCA",
           "high"
          ],
          [
           "K26K-8QKEP7-A11-Q1",
           "BRCA",
           "high"
          ],
          [
           "K26K-8S9KYB-M11-Q1",
           "BRCA",
           "high"
          ],
          [
           "K26K-A927U9-M22-Q1",
           "BRCA",
           "high"
          ],
          [
           "K26K-AJETBY-M12-Q1",
           "BRCA",
           "high"
          ],
          [
           "K26K-BNT5N4-M11-Q1",
           "BRCA",
           "high"
          ],
          [
           "K26K-BZEUFF-T11-Q1",
           "BRCA",
           "high"
          ],
          [
           "K26K-CEUF36-T12-Q1",
           "BRCA",
           "high"
          ],
          [
           "K26K-CTD3KC-M21-Q1",
           "BRCA",
           "high"
          ],
          [
           "K26K-D7V6HC-T11-Q1",
           "BRCA",
           "high"
          ],
          [
           "K26K-DJ3HQD-M12-Q1",
           "BRCA",
           "high"
          ],
          [
           "K26K-DM3BDU-M12-Q1",
           "BRCA",
           "high"
          ],
          [
           "K26K-DUL4HS-M22-Q1",
           "BRCA",
           "high"
          ],
          [
           "K26K-EWZVEU-M21-Q1",
           "BRCA",
           "high"
          ],
          [
           "K26K-FEVN2M-M11-Q1",
           "BRCA",
           "high"
          ],
          [
           "K26K-FFERGY-M11-Q1",
           "BRCA",
           "high"
          ],
          [
           "K26K-L8XPSZ-M11-Q1",
           "BRCA",
           "high"
          ],
          [
           "K26K-L9SSK5-M12-Q1",
           "BRCA",
           "high"
          ],
          [
           "K26K-L9VFYV-M12-Q1",
           "BRCA",
           "high"
          ],
          [
           "K26K-ML427X-M11-Q1",
           "BRCA",
           "high"
          ],
          [
           "K26K-MSWYW3-M11-Q1",
           "BRCA",
           "high"
          ],
          [
           "K26K-VFCNAH-T11-Q1",
           "BRCA",
           "high"
          ],
          [
           "K26K-VWASDF-T21-Q1",
           "BRCA",
           "high"
          ],
          [
           "K26K-WVMDQM-M11-Q1",
           "BRCA",
           "high"
          ],
          [
           "K26K-YJ9GCJ-T12-Q1",
           "BRCA",
           "high"
          ],
          [
           "K26K-YYSRMQ-M11-Q1",
           "BRCA",
           "high"
          ],
          [
           "K26K-4HZ171-M13-Q1",
           "BRCA",
           "high"
          ],
          [
           "K26K-9L1Y67-M11-Q1",
           "BRCA",
           "high"
          ],
          [
           "K26K-VNZ1KD-M11-Q1",
           "BRCA",
           "high"
          ],
          [
           "A26K-5SXQR3-T24-Q1",
           "BRCA",
           "intermediate"
          ],
          [
           "A26K-9TET1N-T11-Q1",
           "BRCA",
           "intermediate"
          ],
          [
           "A26K-NBD9LE-T22-Q1",
           "BRCA",
           "intermediate"
          ],
          [
           "A26K-NM2AUB-T23-Q1",
           "BRCA",
           "intermediate"
          ],
          [
           "H021-C9TCY8-M1-Q1",
           "BRCA",
           "intermediate"
          ],
          [
           "K26K-2ALFPG-M21-Q1",
           "BRCA",
           "intermediate"
          ],
          [
           "K26K-2N34MS-M12-Q1",
           "BRCA",
           "intermediate"
          ],
          [
           "K26K-2SYX4M-M11-Q1",
           "BRCA",
           "intermediate"
          ],
          [
           "K26K-3STYTF-T11",
           "BRCA",
           "intermediate"
          ],
          [
           "K26K-48FUPJ-M11-Q1",
           "BRCA",
           "intermediate"
          ],
          [
           "K26K-4GNEQB-M21-Q1",
           "BRCA",
           "intermediate"
          ],
          [
           "K26K-5QQNGF-M41-Q1",
           "BRCA",
           "intermediate"
          ],
          [
           "K26K-626NYZ-M11-Q1",
           "BRCA",
           "intermediate"
          ],
          [
           "K26K-6CQ3E7-M11-Q1",
           "BRCA",
           "intermediate"
          ],
          [
           "K26K-8DNE6X-T11-Q1",
           "BRCA",
           "intermediate"
          ],
          [
           "K26K-8KYJA3-M11-Q1",
           "BRCA",
           "intermediate"
          ],
          [
           "K26K-8SNWXL-M21-Q1",
           "BRCA",
           "intermediate"
          ],
          [
           "K26K-9HC2UR-M11-Q1",
           "BRCA",
           "intermediate"
          ],
          [
           "K26K-ADUQXR-M12-Q1",
           "BRCA",
           "intermediate"
          ],
          [
           "K26K-AFAHUU-M14-Q1",
           "BRCA",
           "intermediate"
          ],
          [
           "K26K-B1XR5S-M11-Q1",
           "BRCA",
           "intermediate"
          ],
          [
           "K26K-BY3CU9-M11-Q1",
           "BRCA",
           "intermediate"
          ],
          [
           "K26K-BZEUFF-M11-Q1",
           "BRCA",
           "intermediate"
          ],
          [
           "K26K-C6CD3Y-M11-Q1",
           "BRCA",
           "intermediate"
          ],
          [
           "K26K-CDY5WK-M12-Q1",
           "BRCA",
           "intermediate"
          ],
          [
           "K26K-DRLREE-M11-Q1",
           "BRCA",
           "intermediate"
          ],
          [
           "K26K-EPJFEF-T11-Q1",
           "BRCA",
           "intermediate"
          ],
          [
           "K26K-EPRC8E-T41-Q1",
           "BRCA",
           "intermediate"
          ],
          [
           "K26K-G4JX3M-M11-Q1",
           "BRCA",
           "intermediate"
          ],
          [
           "K26K-JJERC1-M11-Q1",
           "BRCA",
           "intermediate"
          ],
          [
           "K26K-JTA6QT-M11-Q1",
           "BRCA",
           "intermediate"
          ],
          [
           "K26K-K6UAUG-M21-Q1",
           "BRCA",
           "intermediate"
          ],
          [
           "K26K-L45Y7Y-M11-Q1",
           "BRCA",
           "intermediate"
          ],
          [
           "K26K-MMXGSX-M32-Q1",
           "BRCA",
           "intermediate"
          ],
          [
           "K26K-P4CX71-M11-Q1",
           "BRCA",
           "intermediate"
          ],
          [
           "K26K-QHXP8F-M12-Q1",
           "BRCA",
           "intermediate"
          ],
          [
           "K26K-R8PSWC-M11-Q1",
           "BRCA",
           "intermediate"
          ],
          [
           "K26K-RAFWHB-M11-Q1",
           "BRCA",
           "intermediate"
          ],
          [
           "K26K-SNFUYE-M11-Q1",
           "BRCA",
           "intermediate"
          ],
          [
           "K26K-SP2BGE-M11-Q1",
           "BRCA",
           "intermediate"
          ],
          [
           "K26K-T89Y8P-T11-Q1",
           "BRCA",
           "intermediate"
          ],
          [
           "K26K-UFZWVB-M12-Q1",
           "BRCA",
           "intermediate"
          ],
          [
           "K26K-UTHXYT-T12-Q1",
           "BRCA",
           "intermediate"
          ],
          [
           "K26K-UWLWTK-T12-Q1",
           "BRCA",
           "intermediate"
          ],
          [
           "K26K-UYPA78-M12-Q1",
           "BRCA",
           "intermediate"
          ],
          [
           "K26K-W13FSS-T11-Q1",
           "BRCA",
           "intermediate"
          ],
          [
           "K26K-XBFHQ2-M21-Q1",
           "BRCA",
           "intermediate"
          ],
          [
           "K26K-XBSCRQ-T11-Q1",
           "BRCA",
           "intermediate"
          ],
          [
           "K26K-XL4SBF-M22-Q1",
           "BRCA",
           "intermediate"
          ],
          [
           "K26K-XNAQJ3-M14-Q1",
           "BRCA",
           "intermediate"
          ],
          [
           "K26K-YJ41GL-A11-Q1",
           "BRCA",
           "intermediate"
          ],
          [
           "K26K-YN54AN-M11-Q1",
           "BRCA",
           "intermediate"
          ],
          [
           "K26K-YRU28Z-M22-Q1",
           "BRCA",
           "intermediate"
          ],
          [
           "A26K-ADUQXR-T11-Q1",
           "BRCA",
           "intermediate"
          ],
          [
           "K26K-7ARCJQ-M22-Q1",
           "BRCA",
           "intermediate"
          ],
          [
           "K26K-CU68PJ-M12-Q1",
           "BRCA",
           "intermediate"
          ],
          [
           "K26K-ER3MP5-M11-Q1",
           "BRCA",
           "intermediate"
          ],
          [
           "A26K-5SXQR3-T11-Q1",
           "BRCA",
           "low"
          ],
          [
           "H021-MH3PJE-M2-Q1",
           "BRCA",
           "low"
          ],
          [
           "K26K-18N8XX-M11-Q1",
           "BRCA",
           "low"
          ],
          [
           "K26K-32H7H5-M21-Q1",
           "BRCA",
           "low"
          ],
          [
           "K26K-4GF7MY-T11-Q1",
           "BRCA",
           "low"
          ],
          [
           "K26K-7ATS4U-M12-Q1",
           "BRCA",
           "low"
          ],
          [
           "K26K-84BAN3-T11-Q1",
           "BRCA",
           "low"
          ],
          [
           "K26K-98EVMC-M11-Q1",
           "BRCA",
           "low"
          ],
          [
           "K26K-BKWV8G-T11-Q1",
           "BRCA",
           "low"
          ],
          [
           "K26K-E8QNET-M21-Q1",
           "BRCA",
           "low"
          ],
          [
           "K26K-HH2AKS-M11-Q1",
           "BRCA",
           "low"
          ],
          [
           "K26K-LGFSLT-M11-Q1",
           "BRCA",
           "low"
          ],
          [
           "K26K-SM3SDD-M12-Q1",
           "BRCA",
           "low"
          ],
          [
           "K26K-T1HPZ7-M11-Q1",
           "BRCA",
           "low"
          ],
          [
           "K26K-UHFDPK-M11-Q1",
           "BRCA",
           "low"
          ],
          [
           "K26K-VM998R-M12-Q1",
           "BRCA",
           "low"
          ],
          [
           "K26K-VQYWVY-M13-Q1",
           "BRCA",
           "low"
          ],
          [
           "K26K-W61WUT-M11-Q1",
           "BRCA",
           "low"
          ],
          [
           "K26K-WSFER2-M11-Q1",
           "BRCA",
           "low"
          ],
          [
           "K26K-X8ZH2R-A12-Q1",
           "BRCA",
           "low"
          ],
          [
           "K26K-XTJ7Y9-T11-Q1",
           "BRCA",
           "low"
          ],
          [
           "K26K-XXKAUD-T12-Q1",
           "BRCA",
           "low"
          ],
          [
           "K26K-ZQ18H5-M11-Q1",
           "BRCA",
           "low"
          ],
          [
           "K26K-UTKPWH-M11-Q1",
           "BRCA",
           null
          ],
          [
           "H021-59N89Q-M1",
           "BRCA",
           "very low"
          ],
          [
           "H021-V5L84W-M1",
           "BRCA",
           "very low"
          ],
          [
           "K26K-HGX6HZ-M11-Q1",
           "BRCA",
           "very low"
          ],
          [
           "K26K-ME6J6U-M11-Q1",
           "BRCA",
           "very low"
          ],
          [
           "K26K-P9MXM1-M21-Q1",
           "BRCA",
           "very low"
          ]
         ],
         "hovertemplate": "Sample name: %{customdata[0]}<br>code_oncotree: %{customdata[1]}<br>TCC GROUP: %{customdata[2]}<extra></extra>",
         "legendgroup": "BRCA",
         "marker": {
          "color": "#636efa",
          "opacity": 0.7,
          "symbol": "circle"
         },
         "mode": "markers",
         "name": "BRCA",
         "scene": "scene",
         "showlegend": true,
         "type": "scatter3d",
         "x": {
          "bdata": "SBV/QJrYSUA2Z31ARhRQQDc7kECE475Aq12aQJKaD0GWdnFAM8C8QMkqbUBQ68JALx7yQNgSi0Afo7lAynlvQMVqwEBo36pAleMFQfUjVkAhUVxAyvSwQG67ykBLTxpA2d0TQJ9Ru0An1VBATEpcQMFGUEAAvFdAbQmTQFfyhEDeEEFAEe4YQRrmbUBytIFA5YmxQKHPWkBoKK9A+UlSQH8Gp0Dvza9AmXuFQImZj0APjwdA11dZQAhXnkDiOKFAWDq9QC+2xEBW+cBAR83iQBcshEBXFVBADnLEQAWdrEBKjVRAP++IQPT24EAOo0lAr6xlQMwmIEBL3kdAB3y0QAjGykCN01pAyUSuQB+PgkBJxDpAfRZCQNFJq0CAIvpAL1wYQIjjQUAuBKlAnOCnQKpfp0DNizhA8oKRQHx2GUCSfoJAVUxlQAUAdEAZrkxAjlBwQPKoe0DovI9AUx5zQHxvdkDR2ClA0QL2QK+qw0CcAllA0GCfQGjFuUDwh59A+l+gQLrYDUCz6rBAVvrHQI1mdUDsyYpACO2WQBI/JEBauUpARIa8QGBxmEAKtEtAVeZ/QOoOWECThf5AeVWTQCaCrUDKpSpA2aq+QCZlpUD9/k5AjTZMQDyYQUCxZkhAD9UxQGCGJUC5+H1AV7ChQODtw0AnXj1A0PKwQI94ZECE+aRAR4VFQHmTuUBoloNArqolQObd7UA=",
          "dtype": "f4"
         },
         "y": {
          "bdata": "UW9jP2khzz93lts/gP6KPyYwmD93M/k9IcGLPyGhIECLmzxA4m4MQF30bD4URoI+sMpgQGwDFUCk2zFALzM6P12uiT7svxk+NFtwQLbkDUAqu08/G0VkP4thlz4IQAc+tnVNQBz8NkDUdDlAba0lQKvudT+bjDBAaEbjP1B2aL4hOj9AtGuIQKKoAT8AELI/Ai6JPssKuz4neII/0K8DQNP5BkBRMQY/OGWzP64f8j+hV1pAsz2zPoN7pz8fC5w9nC1EQFAGej8JwrU+praoQCI9Tz+znIE/WkSAPuKq6z/pADM/lDIGQJWnZEDesKg/lJwEP4TfTz7tkU1AFwRdPyxbez7ce5k+tNLLP3Z4vD+MSRo/nanIPxsn3D262N4/zoIEPy24vT6sS5s/f9ztP9OeAD/Z7yk/duETQFKGFz5qLa0/daXbPpSD/T+JzQM/QmUEQDMh1z+L3zBA2gD0P7qw7D8UnRw/vnKgQC6RmD/wvcO82Z3CP8Y6BD+2Mpk/2pxmP/yMZr5qixY/i0KPPq1r2j9PFSVALFmiPylafr7ipkBAY0dGQFV0/j/p8+E+eG38P9cQQUDuhGRAbRc/QGXYyD+Be0tAmf09QN7/lD9vBFhAYzlIQAUIckAsa+U+bwOzPuiT8z4ziLo/VsGBPm8wSkCnlARAEwKwQJlbekCT7nQ/l550QCg5kUDUu/8/qb1YP+IQNkA=",
          "dtype": "f4"
         },
         "z": {
          "bdata": "fM8JQADlBUCWulZARQquPwujHUC+gkY/RLwJQNViOkCQ8Os/MEUvQCea3D+DQ48/RtpvQAxeLUCeuwlAM60bQHAphT+mzNM/dIwcPlk1vD9UvNQ/bfr3PzmOqT/Q+Yk/UnUEQIk+CEBvXExAnKT+P2oWpz/jOuc/IGZNP03H0j8TRBlA4yXJP7PTDUC10yxAihLZP3C7DED3P+8/NVwdQKpUXkAZrxBA+YcHQLFKDUC5kC1AbxuMP/xDzz++buA/4/kSQLP08D8epJ0/sGrOPwkHE0DHO58/L92PPynNWkC+TMw/VOwjP0TaN0D4XZE/EVyMPxTLkz9Q6g9AmZghQDwNrj80aoc/kixPQCN+GECG9OA/QpaCP7UN1D/fjGc+fuK/P8n6oj8aDxxA85GPP9peFECJduY/9vIyQEWxhz9/vRxAjBjzP1xpFkD25Yk/PmcxQBbPT0DXtElAes5YQPkwV0DgdIk/DXioP24xxT8a1eY/TTPwP7pgF0AXKyhA0w8cQMqByD8zY6Y/eMKWP3oSK0ANbj1A3gIkQOWG7T8BOhpA08UUQGJqREDkdI4/9keFP1hqTEC94xu919kuQC9fTkDUqjNAZKtPPwGr1D8WeBBA5MBLQGkYAkBfg5E/oQ6VP05fgj8vtzpAzakCQDYXEECPEBpAB92/PyREMkC5FYI/nIT7P1609T9jHDlADOLxPwC9qT8=",
          "dtype": "f4"
         }
        },
        {
         "customdata": [
          [
           "H021-AQW6-T1",
           "MFH",
           "high"
          ],
          [
           "H021-22TQMK-M1",
           "MFH",
           "high"
          ],
          [
           "H021-5WGAYL-M1-Q1",
           "MFH",
           "high"
          ],
          [
           "H021-5WGAYL-M2-Q1",
           "MFH",
           "high"
          ],
          [
           "H021-CZD95Q-M3",
           "MFH",
           "high"
          ],
          [
           "H021-KW1NLB-M1",
           "MFH",
           "high"
          ],
          [
           "H021-3CFAQD-T1-Q1",
           "MFH",
           "intermediate"
          ],
          [
           "H021-RF6GGV-M1",
           "MFH",
           "high"
          ],
          [
           "H021-SX648MM-T1-Q1",
           "MFH",
           "high"
          ],
          [
           "H021-WFP9B3-M1",
           "MFH",
           "high"
          ],
          [
           "H021-Z1G45L-M4-E2",
           "MFH",
           "high"
          ],
          [
           "H021-Z2SMN2-M1-Q1",
           "MFH",
           "high"
          ],
          [
           "I014-034-1M1-P1",
           "MFH",
           "high"
          ],
          [
           "I014-052-2T1-P1",
           "MFH",
           "high"
          ],
          [
           "I018-032-7T1-P1",
           "MFH",
           "high"
          ],
          [
           "I043-009-1M1-P1",
           "MFH",
           "high"
          ],
          [
           "I049-015-223128",
           "MFH",
           "high"
          ],
          [
           "I076-014-129774",
           "MFH",
           "high"
          ],
          [
           "I137-004-100626",
           "MFH",
           "high"
          ],
          [
           "H021-9BTB7K-T1-Q1",
           "MFH",
           "high"
          ],
          [
           "H021-6B6H6F-T2",
           "MFH",
           "intermediate"
          ],
          [
           "H021-98VBUP-M4-Q1",
           "MFH",
           "intermediate"
          ],
          [
           "H021-F3AWG4-M3-Q1",
           "MFH",
           "intermediate"
          ],
          [
           "H021-FA1JUKY-M3-Q1",
           "MFH",
           "intermediate"
          ],
          [
           "H021-MPDGSY-M3-Q1",
           "MFH",
           "intermediate"
          ],
          [
           "H021-MRDFTG-M2-Q1",
           "MFH",
           "intermediate"
          ],
          [
           "H021-N8E2BK-M1",
           "MFH",
           "intermediate"
          ],
          [
           "H021-NKFCRMC-M1-Q1",
           "MFH",
           "intermediate"
          ],
          [
           "H021-RVV7AR-M1",
           "MFH",
           "intermediate"
          ],
          [
           "H021-STLBVC-M1-Q1",
           "MFH",
           "intermediate"
          ],
          [
           "H021-TFGGL1-M1-Q1",
           "MFH",
           "intermediate"
          ],
          [
           "H021-U5KKB2-T1",
           "MFH",
           "intermediate"
          ],
          [
           "H021-UUG8Q5U-T1-Q1",
           "MFH",
           "intermediate"
          ],
          [
           "H021-WGDJK3-T1-Q1",
           "MFH",
           "intermediate"
          ],
          [
           "H021-Y27C6Y-M1-Q1",
           "MFH",
           "intermediate"
          ],
          [
           "H021-57TAMB-M1",
           "MFH",
           "intermediate"
          ],
          [
           "H021-RK5R2C-T1-E1",
           "MFH",
           "intermediate"
          ],
          [
           "H021-E3K3EE-M1-Q1",
           "MFH",
           "low"
          ],
          [
           "H021-RF6GGV-T1",
           "MFH",
           "low"
          ],
          [
           "H021-1AV9F5-T1-Q1",
           "MFH",
           "very low"
          ],
          [
           "H021-3H7X76-T1",
           "MFH",
           "very low"
          ],
          [
           "H021-7QX261Z-T1-Q1",
           "MFH",
           "very low"
          ],
          [
           "H021-MVHAGX-M2-Q1",
           "MFH",
           "very low"
          ]
         ],
         "hovertemplate": "Sample name: %{customdata[0]}<br>code_oncotree: %{customdata[1]}<br>TCC GROUP: %{customdata[2]}<extra></extra>",
         "legendgroup": "MFH",
         "marker": {
          "color": "#EF553B",
          "opacity": 0.7,
          "symbol": "circle"
         },
         "mode": "markers",
         "name": "MFH",
         "scene": "scene",
         "showlegend": true,
         "type": "scatter3d",
         "x": {
          "bdata": "XVDGQDV6B0F/aQxBWuoLQbzwk0Ahf+9AAXEHQRNnmEDRL7RAfzQCQRhXCUFRqf1A8abFQNUD1EDPyQRBbHXjQIDKF0FP9A5BJ+oXQPOU00ADO71AGKr3QFfBz0CwgNRAoW/VQKsr80BI7fBAhISaQHZOqkCFzQRBtnC7QBxbAkHvy8tAeJj6QFWZiEBvJtFAkN7WQDUTjUASYLhA62siQCYPkECB+KNAKbErQA==",
          "dtype": "f4"
         },
         "y": {
          "bdata": "vFeoQBL4c0DhEThAUgU0QAyBY0AFuo5AKhOcQM5sY0CWY55A30uhQDbCjEBODjhAhvm0QN0imEB7GJZAJdV3QLSPVUDeBX5A7W0SPn/7nUDi1qxAc0tZQHtDYUAC11ZAqPrjPz9wP0DrmUNAHVPxPw6hnEDS/0BAHJyQQGboXkBm5CJA2QNBQB00gUCjWto/hp6KQMX63D//e6ZAJLluQJe9WkA8v6hApoBoQA==",
          "dtype": "f4"
         },
         "z": {
          "bdata": "1X22P/Q57j17XTM+H5QFPmuXCUBk3mFAeopjPrloO0Bs+CU/YCB7P7zTzz9fTiA+5eedP8AX6D84IcY/E0JWQEZxG0Cnces/FT+DP9bXuz86b30/vc/bP2T98z+yKfE/bAAHQFeCBkDo79M/YYhDQJid5D51b0pAkT4QQO570z8jq9E+tw5QQNpIJEBgygBAlFZcPxRGHUDUp6U/s+WoP+Z/CUD6qJE/PXbbPw==",
          "dtype": "f4"
         }
        },
        {
         "customdata": [
          [
           "H021-1L48V5-M2-Q1",
           "CUPNOS",
           "high"
          ],
          [
           "H021-1QHA7Y-M1-Q1",
           "CUPNOS",
           "high"
          ],
          [
           "H021-22DWTZ-T3-Q1",
           "CUPNOS",
           "high"
          ],
          [
           "H021-39CD5T-M1-Q1",
           "CUPNOS",
           "high"
          ],
          [
           "H021-53E58V-M1-Q1",
           "CUPNOS",
           "high"
          ],
          [
           "H021-5T33RC-T1-E2",
           "CUPNOS",
           "high"
          ],
          [
           "H021-5WAN93-M2",
           "CUPNOS",
           "high"
          ],
          [
           "H021-6181DL-T5-Q1",
           "CUPNOS",
           "high"
          ],
          [
           "H021-74ED9R-M1-E2",
           "CUPNOS",
           "high"
          ],
          [
           "H021-771M6X-M1-Q1",
           "CUPNOS",
           "high"
          ],
          [
           "H021-839NS8-M1-Q1",
           "CUPNOS",
           "high"
          ],
          [
           "H021-F33Q2Y-M6-Q1",
           "CUPNOS",
           "high"
          ],
          [
           "H021-F7WRJV-M1-Q1",
           "CUPNOS",
           "high"
          ],
          [
           "H021-FMHV-M6-Q1",
           "CUPNOS",
           "high"
          ],
          [
           "H021-FQ7G9VT-M1-Q1",
           "CUPNOS",
           "high"
          ],
          [
           "H021-HAPD6U-M1-Q1",
           "CUPNOS",
           "high"
          ],
          [
           "H021-HLZKLD-M1-Q1",
           "CUPNOS",
           "high"
          ],
          [
           "H021-38PAMXP-M2-Q1",
           "CUPNOS",
           "high"
          ],
          [
           "H021-LTDE4Z-M2-Q1",
           "CUPNOS",
           "high"
          ],
          [
           "H021-MALFTE-T2-Q1",
           "CUPNOS",
           "high"
          ],
          [
           "H021-N22K6U-M1-E2",
           "CUPNOS",
           "high"
          ],
          [
           "H021-NM3WX2-M1-Q1",
           "CUPNOS",
           "high"
          ],
          [
           "H021-UJBX-M4-Q1",
           "CUPNOS",
           "high"
          ],
          [
           "H021-WNTLNE-M2-E2",
           "CUPNOS",
           "high"
          ],
          [
           "H021-XSCYZ5-M1-Q1",
           "CUPNOS",
           "high"
          ],
          [
           "H021-1HCWLP-M1-Q1",
           "CUPNOS",
           "high"
          ],
          [
           "H021-6ZECLT-M2-Q1",
           "CUPNOS",
           "high"
          ],
          [
           "H021-11X1GP-M3-Q1",
           "CUPNOS",
           "intermediate"
          ],
          [
           "H021-16RER7-M2-Q1",
           "CUPNOS",
           "intermediate"
          ],
          [
           "H021-3VKMK2-M1-Q1",
           "CUPNOS",
           "intermediate"
          ],
          [
           "H021-3WADQY-M2-Q1",
           "CUPNOS",
           "intermediate"
          ],
          [
           "H021-43W61N-M2-Q1",
           "CUPNOS",
           "intermediate"
          ],
          [
           "H021-51MR4Y-M2-Q1",
           "CUPNOS",
           "intermediate"
          ],
          [
           "H021-5L7GSS-T1-Q1",
           "CUPNOS",
           "intermediate"
          ],
          [
           "H021-5L7GSS-T2-Q1",
           "CUPNOS",
           "intermediate"
          ],
          [
           "H021-5MRTGM-T1-Q1",
           "CUPNOS",
           "intermediate"
          ],
          [
           "H021-5U4YZ3-M3-Q1",
           "CUPNOS",
           "intermediate"
          ],
          [
           "H021-81B1R7-M1-Q1",
           "CUPNOS",
           "intermediate"
          ],
          [
           "H021-83ZA1A-M2-Q1",
           "CUPNOS",
           "intermediate"
          ],
          [
           "H021-8GZX2Z-M1-Q1",
           "CUPNOS",
           "intermediate"
          ],
          [
           "H021-8Q7DZ9-M1-Q1",
           "CUPNOS",
           "intermediate"
          ],
          [
           "H021-A5L4DW-M3-Q1",
           "CUPNOS",
           "intermediate"
          ],
          [
           "H021-AFGC5G-M1-E1",
           "CUPNOS",
           "intermediate"
          ],
          [
           "H021-ASLRTG-M1-Q1",
           "CUPNOS",
           "intermediate"
          ],
          [
           "H021-BYAX6U-T1-Q1",
           "CUPNOS",
           "intermediate"
          ],
          [
           "H021-BZ7J2A-M2-Q1",
           "CUPNOS",
           "intermediate"
          ],
          [
           "H021-C8HAJF-M2-Q1",
           "CUPNOS",
           "intermediate"
          ],
          [
           "H021-CVU24V-M1-Q1",
           "CUPNOS",
           "intermediate"
          ],
          [
           "H021-EPNK7Z-M1-Q1",
           "CUPNOS",
           "intermediate"
          ],
          [
           "H021-F83ADS-T1-Q1",
           "CUPNOS",
           "intermediate"
          ],
          [
           "H021-FA6G48-T2-Q1",
           "CUPNOS",
           "intermediate"
          ],
          [
           "H021-H3B86K-T1",
           "CUPNOS",
           "intermediate"
          ],
          [
           "H021-HTQQ-T4-Q1",
           "CUPNOS",
           "intermediate"
          ],
          [
           "H021-L9FKXK-M3-Q1",
           "CUPNOS",
           "intermediate"
          ],
          [
           "H021-LRE6DV-T1-Q1",
           "CUPNOS",
           "intermediate"
          ],
          [
           "H021-M1MUHA-M2-Q1",
           "CUPNOS",
           "intermediate"
          ],
          [
           "H021-MLCJSS-M1-Q1",
           "CUPNOS",
           "intermediate"
          ],
          [
           "H021-Q8AG7S-M2-Q1",
           "CUPNOS",
           "intermediate"
          ],
          [
           "H021-TBBLEM-M1-Q1",
           "CUPNOS",
           "intermediate"
          ],
          [
           "H021-U3AER9-M1-E2",
           "CUPNOS",
           "intermediate"
          ],
          [
           "H021-Z7B8BE-M1-Q1",
           "CUPNOS",
           "intermediate"
          ],
          [
           "P021-QLEE-T1-Q1-R2",
           "CUPNOS",
           "intermediate"
          ],
          [
           "H021-G66V2C-M2-Q1",
           "CUPNOS",
           "intermediate"
          ],
          [
           "H021-LTZ8C1-M3-Q1",
           "CUPNOS",
           "intermediate"
          ],
          [
           "H021-Q6RYR7-M2-Q1",
           "CUPNOS",
           "intermediate"
          ],
          [
           "H021-RFFMCK-M1-Q1",
           "CUPNOS",
           "intermediate"
          ],
          [
           "H021-1T2KTK9-M1-Q1",
           "CUPNOS",
           "low"
          ],
          [
           "H021-5YBBAM-M2-Q1",
           "CUPNOS",
           "low"
          ],
          [
           "H021-62BL5E-M2-Q1",
           "CUPNOS",
           "low"
          ],
          [
           "H021-6CM2ZE-T1",
           "CUPNOS",
           "low"
          ],
          [
           "H021-6MU9K4-M2-Q1",
           "CUPNOS",
           "low"
          ],
          [
           "H021-JKKJ8Q8-M1-Q1",
           "CUPNOS",
           "low"
          ],
          [
           "H021-K6H1-T3-Q1",
           "CUPNOS",
           "low"
          ],
          [
           "H021-KNCPCX-M8",
           "CUPNOS",
           "low"
          ],
          [
           "H021-L7L8KS-M1-Q1",
           "CUPNOS",
           "low"
          ],
          [
           "H021-LTSKYV-M1-Q1",
           "CUPNOS",
           "low"
          ],
          [
           "H021-PEM7HN-M1-Q1",
           "CUPNOS",
           "low"
          ],
          [
           "H021-RFKULG-M1-Q1",
           "CUPNOS",
           "low"
          ],
          [
           "H021-S2F9XTP-M1-Q1-R2",
           "CUPNOS",
           "low"
          ],
          [
           "H021-SSD7B8-M4-Q1",
           "CUPNOS",
           "low"
          ],
          [
           "H021-UR6DLY-M2-Q1",
           "CUPNOS",
           "low"
          ],
          [
           "H021-XFKKVM-T1-Q1",
           "CUPNOS",
           "low"
          ],
          [
           "H021-Y19M1T-M2-Q1",
           "CUPNOS",
           "low"
          ],
          [
           "H021-Z71CF3B-M2-Q1",
           "CUPNOS",
           "low"
          ],
          [
           "H021-44P9-T1-Q1",
           "CUPNOS",
           null
          ],
          [
           "H021-1V2961-T2-Q1",
           "CUPNOS",
           "very low"
          ],
          [
           "H021-5KD35T-T1-Q1",
           "CUPNOS",
           "very low"
          ],
          [
           "H021-FR44XKM-M2-Q1",
           "CUPNOS",
           "very low"
          ],
          [
           "H021-FXCFXC-M1-E2",
           "CUPNOS",
           "very low"
          ],
          [
           "H021-K9ZBFG-M4-Q1",
           "CUPNOS",
           "very low"
          ],
          [
           "H021-KFPLSM-M4-Q1",
           "CUPNOS",
           "very low"
          ],
          [
           "H021-KKAMDZ-T2-Q1",
           "CUPNOS",
           "very low"
          ],
          [
           "H021-LHR4LM-T1-Q1",
           "CUPNOS",
           "very low"
          ],
          [
           "H021-LHR4LM-T2-Q1",
           "CUPNOS",
           "very low"
          ],
          [
           "H021-MVGHWG-M2-Q1",
           "CUPNOS",
           "very low"
          ],
          [
           "H021-SD8H8Q-T1-Q1",
           "CUPNOS",
           "very low"
          ],
          [
           "H021-SSD7B8-M2-Q1",
           "CUPNOS",
           "very low"
          ],
          [
           "H021-WYJZNBF-T1-Q1",
           "CUPNOS",
           "very low"
          ]
         ],
         "hovertemplate": "Sample name: %{customdata[0]}<br>code_oncotree: %{customdata[1]}<br>TCC GROUP: %{customdata[2]}<extra></extra>",
         "legendgroup": "CUPNOS",
         "marker": {
          "color": "#00cc96",
          "opacity": 0.7,
          "symbol": "circle"
         },
         "mode": "markers",
         "name": "CUPNOS",
         "scene": "scene",
         "showlegend": true,
         "type": "scatter3d",
         "x": {
          "bdata": "VX7UQFq0sUBnAwNBclqAQHTyiUDg3n1AoASNQB9Sw0CMu1ZAczwIQSOwhUD6ZlNAuYlmQEodBUF+4eRAy/GiQFJ3b0BpCLFArLqEQEY4NUADqPNAscNsQCoYhED4Z5dA76SKQL2qtUBjVRNBTz+jQG6NLUB5TxFAtq3mQGwIGEDw3y9AkB9fQCJRW0A5usJAa1S7QJ3QXkAdGlVAfOZjQJ4/D0GoOGFAHn1sQNpIikAVIXNAm+w+QGXsYUDiFDFACE6hQOLDKkAEW5ZAvyqSQHyDf0BPMs1A5+SAQBZoNUCtthxAfduTQPJDokAjKx1A8PcGQfWFb0DnopxAFtgOQH31FUBdjVdADUhGQE20GEAmAm1AdDm/QGALrUCX1yFA5OlvQJdXmUANm7tAzQaeQAlRLUDCGi5ATdndQHmTokBBBI1AXPAyQOigLUCf+EBAsevlQLgNnEDv3MpAaKQlQKoWUEB31yxA4LFzQOTda0AVGlZAQ5NTQDfxG0AxRz5AnTFHQNIrxEA=",
          "dtype": "f4"
         },
         "y": {
          "bdata": "KNe0P73mbj+ECQlAyOCNP4ipB0A6jO4/rKYbQNftOj4QwPo/1wl0QO7aVUCU9hZAI+EEQB4ZbECtY49AEaNkP/UcEUCovAZANnf/Pw4X+T/yy2RAXN0xP5IIGkD7hWZA5xoIQHEptz+oW0pAXcq5Pyihxj9YxWJAlbqjQLeSn76F8itALN0JQC9nHT+21Y8/rFOmP2pe7T9jZ/s/2+4pQCpIgUBYYw5AEkcPQHK+H0BW3fM/XopPQHmlKUAM0U5AL8l9QLxrL0Aa8RNA2FtjQFF18T9wXQ1A4khJQMyfFUBQ6G5AAjffPz1Jqj7zxW9AK6hHQFdTKD/WkvM/HJF1QOjkUkDyMYZAq0F1QE8dPb68DzBAxZSqP6eCEz+ftmxAgkZgQMK4OkD7u5k/uYyLP548LkCxHSpAXaOIQDfiiz+uOxFAafU9PsWZ9z5BQkNASgVFQLx/ekAv+jBA5feIPydmGkBfSTBAZnxTQACPUkAb9WBAOioqQKAtZkDi+klAPu4uQGHNUUA=",
          "dtype": "f4"
         },
         "z": {
          "bdata": "gnMnQEhCI0CFrxo/334hQCEKG0D5by5A1Ek4QKosZj9tSJ4/br0GPwv7RUBFsYw/XvdaQAN7UL5du1S9oyLmP1CXuD8hjVhAKnS/va1+E0AVboG+Yj4cQN5MHEAoAQA/O6wTQKOJcj+7n/o/wDk/QKapmD8egvY/CZ7NP4oZ5T+T9hFAEMGDP3Csij9q8S4/2bZ8P1Nd2j4ZBx5AwQvyP6OoZz9PmVlAXrS0P8GBOb4xjlpA4yZNQAvWAEB86fc/fUZRPxFtGkA8f94+eXjBPowTTT/51BI/Zw4/QIZyHkAZU1VAeBkwQOKApj+VI1RA72RNQFcbGUDt30hAWfTsP65t+z/c5eU/1PH/P8pZzD/S/wFAyMMsQPbTlD9LNag/kecuQDnUKEAFKrI/998mQLx5F0DCVBlAiR5nP0oLlz+tnw5AGBAFQBtdBkBoMug/gCPkPxH5Cz9rsCw+AKJvP9iGTUCXhRRAwmBFQKwBPkDJGyRAvNw+QLC96T/kmf0/wyemP+TNZz8=",
          "dtype": "f4"
         }
        },
        {
         "customdata": [
          [
           "H021-1MYGU2-T1-Q1",
           "DSRCT",
           "high"
          ],
          [
           "H021-8Z72-T4",
           "DSRCT",
           "high"
          ],
          [
           "H021-DTSDEX-M6",
           "DSRCT",
           "high"
          ],
          [
           "H021-HSBCS2-M1-Q1",
           "DSRCT",
           "high"
          ],
          [
           "H021-MBWS1AA-U1-Q1",
           "DSRCT",
           "high"
          ],
          [
           "H021-SMB6ZC-M1-Q1",
           "DSRCT",
           "high"
          ],
          [
           "H021-EZEV9M-M3-Q1",
           "DSRCT",
           "low"
          ],
          [
           "H021-2TA59U5-M3-Q1",
           "DSRCT",
           "very low"
          ],
          [
           "H021-XHP589-M2",
           "DSRCT",
           "high"
          ],
          [
           "H021-YHPFMB-T1",
           "DSRCT",
           "high"
          ],
          [
           "I063-067-0M1-P1",
           "DSRCT",
           "high"
          ],
          [
           "H021-ZLTJUV-M3-Q1",
           "DSRCT",
           "high"
          ],
          [
           "H021-F3U464-M1-Q1",
           "DSRCT",
           "intermediate"
          ],
          [
           "H021-JNMLVC-M1-Q1",
           "DSRCT",
           "intermediate"
          ],
          [
           "H021-TPPC3H-M2",
           "DSRCT",
           "intermediate"
          ],
          [
           "H021-TPPC3H-M3",
           "DSRCT",
           "intermediate"
          ],
          [
           "H021-UA4J9Y-T1",
           "DSRCT",
           "intermediate"
          ],
          [
           "H021-YHPFMB-T2",
           "DSRCT",
           "intermediate"
          ],
          [
           "H021-1S77F3-T4-Q1",
           "DSRCT",
           "low"
          ],
          [
           "H021-3GHH6S-T1",
           "DSRCT",
           "low"
          ],
          [
           "H021-7KHCMY-T1-Q1",
           "DSRCT",
           "very low"
          ]
         ],
         "hovertemplate": "Sample name: %{customdata[0]}<br>code_oncotree: %{customdata[1]}<br>TCC GROUP: %{customdata[2]}<extra></extra>",
         "legendgroup": "DSRCT",
         "marker": {
          "color": "#ab63fa",
          "opacity": 0.7,
          "symbol": "circle"
         },
         "mode": "markers",
         "name": "DSRCT",
         "scene": "scene",
         "showlegend": true,
         "type": "scatter3d",
         "x": {
          "bdata": "pIXWQFKrk0AAjOpA/w/3QA9a10Bu6MRAtyVRQGJCzkDTD6dAQ/iIQJSZE0Gg1KZApMW3QJM89kBK4L1APeq8QFODtkAlhMNAqz5DQNk8w0DCjiBA",
          "dtype": "f4"
         },
         "y": {
          "bdata": "oVUGQMKphkDk0StAfAuIQOq46z9jqbA/jXIXPx1SZkCgYuQ/C3zCP/lNQ0DThpc/zUy4P+V3jUAgXsU/c0HWP6DO4T9h8oA+4TFOQKoq5j+IgWxA",
          "dtype": "f4"
         },
         "z": {
          "bdata": "EsYXP0k6Bz5Biy4/RhXSP6JPPD8Nwwg/37iTPxR4Aj81JTo/fj0kQOUh2D+Qpco/EUsTQPJS4T/gTfQ+2hkOP0eCBj8hal4/C2sNQK/4DD95WLU/",
          "dtype": "f4"
         }
        },
        {
         "customdata": [
          [
           "H021-1RR46G-T2",
           "OS",
           "high"
          ],
          [
           "H021-B9RN5X-T1",
           "OS",
           "high"
          ],
          [
           "H021-XT1SE3-T1",
           "OS",
           "intermediate"
          ],
          [
           "H021-6PN8FL-M2-Q1",
           "OS",
           "high"
          ],
          [
           "H021-FWUR29-M3",
           "OS",
           "high"
          ],
          [
           "H021-NSM3WK-M2-Q1",
           "OS",
           "high"
          ],
          [
           "H021-SGDGN1-T1-Q1",
           "OS",
           "high"
          ],
          [
           "H021-VJLEN9-M2-Q1",
           "OS",
           "high"
          ],
          [
           "H021-W2LFQY-M3",
           "OS",
           "high"
          ],
          [
           "H021-3CTF21-M1-Q1",
           "OS",
           "intermediate"
          ],
          [
           "H021-4E6V4E-M3-Q1",
           "OS",
           "intermediate"
          ],
          [
           "H021-DRDJE6-M5-Q1",
           "OS",
           "intermediate"
          ],
          [
           "H021-E4YMD9-M2-Q1",
           "OS",
           "intermediate"
          ],
          [
           "H021-G1VJWJ-M1-Q1",
           "OS",
           "intermediate"
          ],
          [
           "H021-HQC7AD-T1",
           "OS",
           "intermediate"
          ],
          [
           "H021-JTAK5Y-M2-Q1",
           "OS",
           "intermediate"
          ],
          [
           "H021-LGHE1F-T2-Q1",
           "OS",
           "intermediate"
          ],
          [
           "H021-Q2Y3CU-M1-Q1",
           "OS",
           "intermediate"
          ],
          [
           "H021-TF6K5J-U3-Q1",
           "OS",
           "intermediate"
          ],
          [
           "H021-ASGGYF-M2-Q1",
           "OS",
           "intermediate"
          ],
          [
           "H021-Z58MC6-T1-Q1",
           "OS",
           "intermediate"
          ],
          [
           "H021-276R4H-M1",
           "OS",
           "low"
          ],
          [
           "H021-5LKTTN-M1",
           "OS",
           "low"
          ],
          [
           "H021-TE436X-M1-Q1",
           "OS",
           "low"
          ],
          [
           "H021-TF6K5J-U4-Q1",
           "OS",
           "low"
          ],
          [
           "H021-U9DSGU-M4",
           "OS",
           "low"
          ],
          [
           "H021-6T3FCU-M2-Q1-R2",
           "OS",
           "very low"
          ],
          [
           "H021-8BZJ5J-M2-E3",
           "OS",
           "very low"
          ],
          [
           "H021-AA5PGM-M1-Q1",
           "OS",
           "very low"
          ]
         ],
         "hovertemplate": "Sample name: %{customdata[0]}<br>code_oncotree: %{customdata[1]}<br>TCC GROUP: %{customdata[2]}<extra></extra>",
         "legendgroup": "OS",
         "marker": {
          "color": "#FFA15A",
          "opacity": 0.7,
          "symbol": "circle"
         },
         "mode": "markers",
         "name": "OS",
         "scene": "scene",
         "showlegend": true,
         "type": "scatter3d",
         "x": {
          "bdata": "0/EIQcnGrUDtKahAF/wTQbP4m0D7NAdBauXpQGnR60CHDpdAXxwNQcinb0Diq9RA8bTyQNFx6UAL27ZAr8Y2QJIKD0EKzwtBGHLZQMKgE0FNJvhAScKhQCYJKUBv8pRAK3fOQEpdnEAJ9UFA0oWsQCmpNEA=",
          "dtype": "f4"
         },
         "y": {
          "bdata": "5fJTQFyQr0Cfr2RA6FFKQJf7RUCpo0JAk49MQNPwlUCeAqhAgiNzQNx0KT9W3oxAciSSQK/nP0Ak3a9AK6BhQDsQbED+op9A0nmbQHvXR0BrJFRAu6CcQGASUkDtGWVAE8CRQDLdtz/Ldg5ANkWqQE5M/z8=",
          "dtype": "f4"
         },
         "z": {
          "bdata": "EL9IQAo3wz/tNzxAFc8QQF2EIEDSEExA6EAjQLdmW0CCuW4/XcodQJq0EEA0yjw/DjKOP7EU6z+H/o8/VJ35P9wzMEDFgyk/u/rDP+5FcD/0cHw/GZvxPrjV1D/CMwhAACClP5ZyAkB9my9AMPM0PyaDDkA=",
          "dtype": "f4"
         }
        },
        {
         "customdata": [
          [
           "H021-1SMFSC-T2",
           "DDLS",
           "high"
          ],
          [
           "H021-6UHYUH-M2-Q1",
           "DDLS",
           "high"
          ],
          [
           "H021-DFXK2X-T1",
           "DDLS",
           "high"
          ],
          [
           "H021-KK5NCZ-M2",
           "DDLS",
           "high"
          ],
          [
           "H021-QFC8A8-T2",
           "DDLS",
           "high"
          ],
          [
           "H021-GQA6VF-M1",
           "DDLS",
           "high"
          ],
          [
           "H021-K9SLGN-T1-Q1",
           "DDLS",
           "high"
          ],
          [
           "H021-192LV1-M1",
           "DDLS",
           "intermediate"
          ],
          [
           "H021-192LV1-M2",
           "DDLS",
           "intermediate"
          ],
          [
           "H021-FUGSYF8-T1-Q1",
           "DDLS",
           "intermediate"
          ],
          [
           "H021-FUGSYF8-T4-Q1",
           "DDLS",
           "intermediate"
          ],
          [
           "H021-FUGSYF8-T7-Q1",
           "DDLS",
           "intermediate"
          ],
          [
           "H021-WX6QVK-M3-Q1",
           "DDLS",
           "intermediate"
          ],
          [
           "H021-1CM1EC-T1-Q1",
           "DDLS",
           "low"
          ],
          [
           "H021-1CM1EC-T2-Q1",
           "DDLS",
           "low"
          ],
          [
           "H021-1GLAY6-T3",
           "DDLS",
           "low"
          ],
          [
           "H021-H7W4EN-T1",
           "DDLS",
           "low"
          ],
          [
           "H021-KAPWJB-T3",
           "DDLS",
           "low"
          ],
          [
           "H021-BCJ6SM-M2",
           "DDLS",
           "very low"
          ],
          [
           "H021-QFC8A8-T1",
           "DDLS",
           "very low"
          ],
          [
           "H021-T17KB4-T2-Q1",
           "DDLS",
           "very low"
          ],
          [
           "H021-WNF9LY-T2-Q1",
           "DDLS",
           "very low"
          ]
         ],
         "hovertemplate": "Sample name: %{customdata[0]}<br>code_oncotree: %{customdata[1]}<br>TCC GROUP: %{customdata[2]}<extra></extra>",
         "legendgroup": "DDLS",
         "marker": {
          "color": "#19d3f3",
          "opacity": 0.7,
          "symbol": "circle"
         },
         "mode": "markers",
         "name": "DDLS",
         "scene": "scene",
         "showlegend": true,
         "type": "scatter3d",
         "x": {
          "bdata": "SJasQN2Q9ECIoNdArq/xQNnWuEAllMNA51/FQMvP1UCCoeBAduSxQLGGrECnXbNAjYXPQHTyvEA2b7tA94KqQLY98kDqpeRAFSK7QJBRw0BoOslA/e/vQA==",
          "dtype": "f4"
         },
         "y": {
          "bdata": "7PGhQLnlQUCoMKxAFCmcQH+bsUDVoaVArEZ/QHJsiECth4RAvY2mQOAhqECeTaRA4cqgQLnds0BXFrRA602nQD9/MUD+YqNAxnijQHKzs0Czxl9A0JNFQA==",
          "dtype": "f4"
         },
         "z": {
          "bdata": "mZE7P2Sobj/cgBs/XUemPywmkD9Y2cs/6lGBPx+ERD9/6Ba8ickQP5j5Gj/g2AU/xCK5P6SKoT+CKJ8/arMbP6ZERz4afko+WBnWPxYzlj/3MXg/TE0MQA==",
          "dtype": "f4"
         }
        },
        {
         "customdata": [
          [
           "H021-2159PW-T1",
           "SFT",
           "high"
          ],
          [
           "H021-ZY7D-T3",
           "SFT",
           "high"
          ],
          [
           "P021-W00D-T1",
           "SFT",
           "intermediate"
          ],
          [
           "H021-8717LP-M1-Q1",
           "SFT",
           "high"
          ],
          [
           "H021-9PAP7Z-T4-Q1",
           "SFT",
           "high"
          ],
          [
           "H021-A8HUB1-M1-Q2",
           "SFT",
           "high"
          ],
          [
           "H021-ATYVKC-T4-Q1",
           "SFT",
           "high"
          ],
          [
           "H021-CD5WYJ-M1-Q1",
           "SFT",
           "high"
          ],
          [
           "H021-H4LDLN-M3-Q1",
           "SFT",
           "high"
          ],
          [
           "H021-H4LDLN-M6-Q1",
           "SFT",
           "high"
          ],
          [
           "H021-J2CM3X-T1-E1",
           "SFT",
           "high"
          ],
          [
           "H021-JGEJVB-M3-Q1",
           "SFT",
           "high"
          ],
          [
           "H021-KV1KAC-M1-Q1",
           "SFT",
           "high"
          ],
          [
           "H021-MJBJME-M1-Q1",
           "SFT",
           "high"
          ],
          [
           "H021-NRXWGD-T1",
           "SFT",
           "high"
          ],
          [
           "H021-RBYFAX-M2-E2",
           "SFT",
           "high"
          ],
          [
           "H021-WEZF97-T1-Q1",
           "SFT",
           "high"
          ],
          [
           "H021-Y3YD-M1-Q1",
           "SFT",
           "high"
          ],
          [
           "H021-Y3YD-M2-Q1",
           "SFT",
           "high"
          ],
          [
           "H021-WHMPGR-T1-Q1",
           "SFT",
           "high"
          ],
          [
           "H021-3B93VX-T1-Q1",
           "SFT",
           "intermediate"
          ],
          [
           "H021-3WWFLS-T2",
           "SFT",
           "intermediate"
          ],
          [
           "H021-3WWFLS-T3",
           "SFT",
           "intermediate"
          ],
          [
           "H021-7SPTSF-M1-Q1",
           "SFT",
           "intermediate"
          ],
          [
           "H021-9PAP7Z-T1-Q1",
           "SFT",
           "intermediate"
          ],
          [
           "H021-9PAP7Z-T6-Q1",
           "SFT",
           "intermediate"
          ],
          [
           "H021-RBZZUP-M5-E2",
           "SFT",
           "intermediate"
          ],
          [
           "H021-SCEZST-M1-Q1",
           "SFT",
           "intermediate"
          ],
          [
           "H021-SCEZST-U1-E2",
           "SFT",
           "intermediate"
          ],
          [
           "H021-VMUDYV-M1-Q1",
           "SFT",
           "intermediate"
          ],
          [
           "H021-Y3YD-M3-Q1",
           "SFT",
           "intermediate"
          ],
          [
           "H021-735C3K-M4",
           "SFT",
           "low"
          ],
          [
           "H021-7UYYL8V-M1-Q1",
           "SFT",
           "low"
          ],
          [
           "H021-9CRH8W-M1-Q1",
           "SFT",
           "low"
          ],
          [
           "H021-S2C8T4P-T1-Q1",
           "SFT",
           "low"
          ]
         ],
         "hovertemplate": "Sample name: %{customdata[0]}<br>code_oncotree: %{customdata[1]}<br>TCC GROUP: %{customdata[2]}<extra></extra>",
         "legendgroup": "SFT",
         "marker": {
          "color": "#FF6692",
          "opacity": 0.7,
          "symbol": "circle"
         },
         "mode": "markers",
         "name": "SFT",
         "scene": "scene",
         "showlegend": true,
         "type": "scatter3d",
         "x": {
          "bdata": "xprpQFU5C0HBXdxAHAMFQeXICkFz1gVBmn7+QAQHWECMoAdB2iwEQZD1BkGCnQFBy6gUQYn94kAIBPpAKPHcQGLlVkDyTAlBhEsLQbyAvkDrLPhAydvPQO+hD0FwhwdBJo0LQWCIDkFww+ZAYQUUQYe890AWpfZA81UGQTSwBUE+C/NAnrzuQEJzAkE=",
          "dtype": "f4"
         },
         "y": {
          "bdata": "r5egQKVrn0B7DaxAH02MQMehoUDNWpBAB4w5QG+1ED3OlgZARV3yP9/lm0B0ZpdALp0+QBKUWEApxJ1A3B+sQNKyDT0LupVAYyKSQNeqo0D9gV5ARlOgQKEMiUBPDplAskmhQEFFjUDPoaNAkSE1QPcVjkAHrJFAiJCAQGUQUECJhp1AOWhHQNTCXEA=",
          "dtype": "f4"
         },
         "z": {
          "bdata": "f8rRP0q0IT+QScw/eP+FPe4bHj9pM8A/R1cDPudfE0CihmA+Pv5ZPnI+Mz7GMrw9XYxNP6oIHEBvC9g9difUP1hNEkBhBVs+ZbprPqtLyj8G84k/lfLOP+i3gT931qs+OusgP0kkZD+r7Mk/K4YuP6Oq9T9O19g//bJgu0rlAj+vAuc9FoEKQGLQOj8=",
          "dtype": "f4"
         }
        },
        {
         "customdata": [
          [
           "H021-2286RM-T4-E2",
           "EHAE",
           "high"
          ],
          [
           "H021-6UE8LT-T1",
           "EHAE",
           "high"
          ],
          [
           "H021-38VW4Y-M2-Q1",
           "EHAE",
           "high"
          ],
          [
           "H021-PHNFEA-M1-Q1",
           "EHAE",
           "high"
          ],
          [
           "H021-HR2ZN1-T1-E2",
           "EHAE",
           "intermediate"
          ],
          [
           "H021-RMFND4-T2",
           "EHAE",
           "intermediate"
          ],
          [
           "H021-XC64RA-M2-Q1",
           "EHAE",
           "intermediate"
          ],
          [
           "H021-S971AK-M1",
           "EHAE",
           "low"
          ],
          [
           "H021-N65WN4-M4",
           "EHAE",
           "very low"
          ],
          [
           "H021-UPQD-M1",
           "EHAE",
           "very low"
          ]
         ],
         "hovertemplate": "Sample name: %{customdata[0]}<br>code_oncotree: %{customdata[1]}<br>TCC GROUP: %{customdata[2]}<extra></extra>",
         "legendgroup": "EHAE",
         "marker": {
          "color": "#B6E880",
          "opacity": 0.7,
          "symbol": "circle"
         },
         "mode": "markers",
         "name": "EHAE",
         "scene": "scene",
         "showlegend": true,
         "type": "scatter3d",
         "x": {
          "bdata": "X9aTQNiE60B7YtRAobrGQPr7kkAaoZRAdApOQE8BI0ArhA1Au7+ZQA==",
          "dtype": "f4"
         },
         "y": {
          "bdata": "LqpLQP/IgUCD2KRAYghsQGtfmkD/+YVAgtsFQDgniEBx0JW+E5KYQA==",
          "dtype": "f4"
         },
         "z": {
          "bdata": "vnaBPkebZEAOPNU/sxq6P46E+z7p7ow+60tlP/wkCECIjNA/+L7gPg==",
          "dtype": "f4"
         }
        },
        {
         "customdata": [
          [
           "H021-24FHXA-M1-Q1",
           "SYNS",
           "high"
          ],
          [
           "H021-3CX96H-T1",
           "SYNS",
           "high"
          ],
          [
           "H021-3WMWU8-M1-Q1",
           "SYNS",
           "high"
          ],
          [
           "H021-DNMH-T2",
           "SYNS",
           "high"
          ],
          [
           "H021-DNB4KV-T2",
           "SYNS",
           "intermediate"
          ],
          [
           "H021-5PS3DS-M1",
           "SYNS",
           "high"
          ],
          [
           "H021-6G8DSB-M1",
           "SYNS",
           "high"
          ],
          [
           "H021-81SMLL-M4",
           "SYNS",
           "high"
          ],
          [
           "H021-972NZ9-M1-Q1",
           "SYNS",
           "high"
          ],
          [
           "H021-A8M4KJ-M1-Q1",
           "SYNS",
           "high"
          ],
          [
           "H021-ALTZ5K-M1",
           "SYNS",
           "high"
          ],
          [
           "H021-ASEGT9-M2-Q1",
           "SYNS",
           "high"
          ],
          [
           "H021-AZGSLR-T1-Q1",
           "SYNS",
           "high"
          ],
          [
           "H021-G6YVGM-T14-E2",
           "SYNS",
           "high"
          ],
          [
           "H021-G6YVGM-T2-E2",
           "SYNS",
           "intermediate"
          ],
          [
           "H021-E7U1N6-M1-Q1",
           "SYNS",
           "high"
          ],
          [
           "H021-G797AT-M1-Q1",
           "SYNS",
           "high"
          ],
          [
           "H021-GRJDJG3-M1-Q1",
           "SYNS",
           "high"
          ],
          [
           "H021-H7537S-M1-Q1",
           "SYNS",
           "high"
          ],
          [
           "H021-KLE6JW-T4-Q1",
           "SYNS",
           "high"
          ],
          [
           "H021-LFQU91A-M2-Q1",
           "SYNS",
           "high"
          ],
          [
           "H021-LGESLH-T2",
           "SYNS",
           "high"
          ],
          [
           "H021-M9TTMF-M2-Q1",
           "SYNS",
           "high"
          ],
          [
           "H021-MXRQ8Q-M1",
           "SYNS",
           "high"
          ],
          [
           "H021-PMVK1Y-T1",
           "SYNS",
           "high"
          ],
          [
           "H021-QTMDK2-M1",
           "SYNS",
           "high"
          ],
          [
           "H021-RBZMVF-M1-Q1",
           "SYNS",
           "high"
          ],
          [
           "H021-RBZMVF-T3-Q1",
           "SYNS",
           "high"
          ],
          [
           "H021-RMUM9JY-T1-Q1-R2",
           "SYNS",
           "high"
          ],
          [
           "H021-SEET2F-T1",
           "SYNS",
           "high"
          ],
          [
           "H021-SW756U-M2-Q1",
           "SYNS",
           "high"
          ],
          [
           "H021-UP3EF1-U4-E2",
           "SYNS",
           "high"
          ],
          [
           "H021-VHAT8U-T3-Q1",
           "SYNS",
           "high"
          ],
          [
           "H021-X16BXN-M1",
           "SYNS",
           "high"
          ],
          [
           "I015-025-3T1-P1",
           "SYNS",
           "high"
          ],
          [
           "I023-065-9T1-P1",
           "SYNS",
           "high"
          ],
          [
           "I037-010-9T1-P1",
           "SYNS",
           "high"
          ],
          [
           "I054-034-226668",
           "SYNS",
           "high"
          ],
          [
           "I058-007-M1",
           "SYNS",
           "high"
          ],
          [
           "I062-062-1T1-P1",
           "SYNS",
           "high"
          ],
          [
           "I063-069-0T1-P1",
           "SYNS",
           "high"
          ],
          [
           "I070-014-103148",
           "SYNS",
           "high"
          ],
          [
           "H021-81PZGRS-M4-Q1",
           "SYNS",
           "high"
          ],
          [
           "H021-8EFMUF-T2-Q1",
           "SYNS",
           "high"
          ],
          [
           "H021-Z1ALP4-M1-Q1",
           "SYNS",
           "high"
          ],
          [
           "H021-24SMQ7-M3-Q1",
           "SYNS",
           "intermediate"
          ],
          [
           "H021-4ZKKR5-M2",
           "SYNS",
           "intermediate"
          ],
          [
           "H021-FHFA7V-M3-Q1",
           "SYNS",
           "intermediate"
          ],
          [
           "H021-JQ6WER-T1",
           "SYNS",
           "intermediate"
          ],
          [
           "H021-TWC1FN-T31-Q1",
           "SYNS",
           "intermediate"
          ],
          [
           "H021-TWC1FN-T61-Q1",
           "SYNS",
           "intermediate"
          ],
          [
           "H021-VMCXJC-M1",
           "SYNS",
           "intermediate"
          ],
          [
           "H021-W8WP7AU-T2-Q1",
           "SYNS",
           "intermediate"
          ],
          [
           "H021-M9TTMF-M1-Q1",
           "SYNS",
           "intermediate"
          ],
          [
           "H021-PJ6GF8-T1-Q1",
           "SYNS",
           "intermediate"
          ],
          [
           "H021-Q4XWWQ-T1-Q1",
           "SYNS",
           "intermediate"
          ],
          [
           "H021-3MG4UY-T1-Q1",
           "SYNS",
           "low"
          ],
          [
           "H021-4WPR7B-M5-Q1",
           "SYNS",
           "low"
          ],
          [
           "H021-7KW87B-T1-Q1",
           "SYNS",
           "very low"
          ],
          [
           "H021-L2R2M9-T1-Q1",
           "SYNS",
           "very low"
          ],
          [
           "H021-L2R2M9-T2-Q1",
           "SYNS",
           "very low"
          ],
          [
           "H021-MN5PTN-T1-Q1",
           "SYNS",
           "very low"
          ]
         ],
         "hovertemplate": "Sample name: %{customdata[0]}<br>code_oncotree: %{customdata[1]}<br>TCC GROUP: %{customdata[2]}<extra></extra>",
         "legendgroup": "SYNS",
         "marker": {
          "color": "#FF97FF",
          "opacity": 0.7,
          "symbol": "circle"
         },
         "mode": "markers",
         "name": "SYNS",
         "scene": "scene",
         "showlegend": true,
         "type": "scatter3d",
         "x": {
          "bdata": "k2QVQVTcA0GxxQ9BveoIQVU1A0EC1wBBTwwSQWJ8DEHQFQdBGb/lQMkrH0GwexdBQxQQQZYmxUD5+chALYsTQa8JBEGbjf1AJuzjQN1EF0HGzxRByMoAQfPV5EAcngpBmLboQORLEUHJqQVBrI4ZQQWAH0HrGQpBkmR1QGnz+UAN/vNAIN0IQSaOHUFnjs5AYBPzQB9ty0DPDwtBFFf4QEmc3UDeFNRA/ffwQB02C0FSBN5AmjkTQaNO1kDAQxNBcJkFQcdyD0GkyA9BgwY5QLiG10AmJ9JAos+pQHLWjECMGONA6ygjQLU0NUDK49VAtenVQMnLCEE=",
          "dtype": "f4"
         },
         "y": {
          "bdata": "hGJaQGTGmkCKyH5AcQtgQIWrZkBSA2lAt+NCQAZ7bUB6rZ1A3FebQCIniUB8L0hA4s1CQLkVhEDYEXpAQHA8QAmBbUAgzU1AVKCZP5+wT0CGOTxAiLo7QCHwcEDWPWlAXvOZQGSMcEAGMW5AOY5jQJ2RkEB8AklA8eevPutQlED0nUNAI4hFQCjXjkBqdaJATMNhQN6yokCMSZBAqjJdQJ+SOEAMpm5Af/05QAm4UEAX1VNAivZIQPYmYkADLT9Aw6FHQK6lWUAdJ3VAYc7fPxjV9j/bbF5AQWudQMZUdUBsYDJA/wNXQM/VbUBKb+M/PNL4PwOneEA=",
          "dtype": "f4"
         },
         "z": {
          "bdata": "6uhKP38L/D3UdHA/n3l1Pw9tmz8Fi2Y/EtuSP431fD/UzNM++iz0PyyE0T+AYUY/KuJ0P2uyHUACQCBALP9ZPzLc3z3r1n0/lsUbQAzkTD8x1EY/EtoWPtoN1z/WMKo+cTXyP2Ps5D+dePW9NMCAP/hk6T9OpM0/75bOP7x42Lwl8a4/DjdCQFz32z/P2LU/LC6cP+yntj9pfk0+L5yNP2BhyT8VhfQ/r0f3P91DbD9NYv4/F2R9P3tpyz/cGXA/8UWzP0y4vz8GYnY/merDP6F0rj8JQp0/HE70Ph79kj1gy8c/0zXUP6cWmj8Op60/8juvP2zpwj8=",
          "dtype": "f4"
         }
        },
        {
         "customdata": [
          [
           "H021-27B2S7-T1-Q1",
           "SCCNOS",
           "high"
          ],
          [
           "H021-BUB8S2-M1",
           "SCCNOS",
           "high"
          ],
          [
           "H021-47FWKE-M4-Q1",
           "SCCNOS",
           "intermediate"
          ],
          [
           "H021-LU7XL3-M2-Q1",
           "SCCNOS",
           "intermediate"
          ],
          [
           "H021-3LSLZ1-M1-Q1",
           "SCCNOS",
           "low"
          ],
          [
           "H021-HJDXWD-M2-Q1",
           "SCCNOS",
           "very low"
          ]
         ],
         "hovertemplate": "Sample name: %{customdata[0]}<br>code_oncotree: %{customdata[1]}<br>TCC GROUP: %{customdata[2]}<extra></extra>",
         "legendgroup": "SCCNOS",
         "marker": {
          "color": "#FECB52",
          "opacity": 0.7,
          "symbol": "circle"
         },
         "mode": "markers",
         "name": "SCCNOS",
         "scene": "scene",
         "showlegend": true,
         "type": "scatter3d",
         "x": {
          "bdata": "0lBmQIq+VUAjijlA3LmgQF0/mkBwdntA",
          "dtype": "f4"
         },
         "y": {
          "bdata": "4A6VPvv7lD9bz7U+v619PyMRfEAqtAtA",
          "dtype": "f4"
         },
         "z": {
          "bdata": "VQmZPywA3j8LUwlA/WgbQOE/8T7sNDpA",
          "dtype": "f4"
         }
        },
        {
         "customdata": [
          [
           "H021-2TMXRD-M1-Q1",
           "LMS",
           "high"
          ],
          [
           "H021-3FZJBT-M1-E2",
           "LMS",
           "high"
          ],
          [
           "H021-47SSXZ-T1-Q1",
           "LMS",
           "high"
          ],
          [
           "H021-60KM-T1",
           "LMS",
           "high"
          ],
          [
           "H021-67S8MY-T1-Q1",
           "LMS",
           "high"
          ],
          [
           "H021-8MZ7W9L-M2-Q1",
           "LMS",
           "high"
          ],
          [
           "H021-8RDP1B-T1-Q1",
           "LMS",
           "high"
          ],
          [
           "H021-9V19Y4-M1-Q1",
           "LMS",
           "high"
          ],
          [
           "H021-D1HYBA-M1-Q1",
           "LMS",
           "high"
          ],
          [
           "H021-DXJNNJ-M2-E1",
           "LMS",
           "intermediate"
          ],
          [
           "H021-DZLVQQ-T2-Q2",
           "LMS",
           "high"
          ],
          [
           "H021-DXJNNJ-M1-E1",
           "LMS",
           "very low"
          ],
          [
           "H021-EUCUU1-T3",
           "LMS",
           "high"
          ],
          [
           "H021-EWRPWA-U3-Q1",
           "LMS",
           "high"
          ],
          [
           "H021-FD8YQK-M2",
           "LMS",
           "high"
          ],
          [
           "H021-FKET3M-M1-E2",
           "LMS",
           "high"
          ],
          [
           "H021-HFDWTJ-T1-Q1",
           "LMS",
           "intermediate"
          ],
          [
           "H021-HDPJV4-M2-Q1",
           "LMS",
           "high"
          ],
          [
           "H021-J421-T1",
           "LMS",
           "high"
          ],
          [
           "H021-K3L9X8-M1-Q1",
           "LMS",
           "high"
          ],
          [
           "H021-L47PRH-T1",
           "LMS",
           "high"
          ],
          [
           "H021-L6CXBDF-M1-Q1",
           "LMS",
           "high"
          ],
          [
           "H021-L85AJB-M6-Q1",
           "LMS",
           "high"
          ],
          [
           "H021-LAE8AJ-M2-Q1",
           "LMS",
           "high"
          ],
          [
           "H021-P1DAC8-M2",
           "LMS",
           "high"
          ],
          [
           "H021-RYWQDW-T4",
           "LMS",
           "high"
          ],
          [
           "H021-TLCRQX-T1",
           "LMS",
           "high"
          ],
          [
           "H021-TP3SA7-T2",
           "LMS",
           "high"
          ],
          [
           "H021-U6JPKP-T1",
           "LMS",
           "high"
          ],
          [
           "H021-UEH1HB-M8-E1",
           "LMS",
           "high"
          ],
          [
           "H021-UGK7SR1-M1-Q1",
           "LMS",
           "high"
          ],
          [
           "H021-VD9X43-M1",
           "LMS",
           "high"
          ],
          [
           "H021-VSE5MP-T2",
           "LMS",
           "high"
          ],
          [
           "I036-018-0T1-P1",
           "LMS",
           "high"
          ],
          [
           "H021-2TVADY-M1",
           "LMS",
           "intermediate"
          ],
          [
           "H021-5HBQ4N-M2-E2",
           "LMS",
           "intermediate"
          ],
          [
           "H021-7G1DR8-M1-Q1",
           "LMS",
           "intermediate"
          ],
          [
           "H021-8LS3XY-M1-Q1",
           "LMS",
           "intermediate"
          ],
          [
           "H021-9F8Z82-M2",
           "LMS",
           "intermediate"
          ],
          [
           "H021-FPSFZU-M1-Q1",
           "LMS",
           "intermediate"
          ],
          [
           "H021-MP1TNY-M2",
           "LMS",
           "intermediate"
          ],
          [
           "H021-T2TUSXH-T1-Q1",
           "LMS",
           "intermediate"
          ],
          [
           "H021-W43PCV-T3-Q1",
           "LMS",
           "intermediate"
          ],
          [
           "H021-2C4N95-M4-Q1",
           "LMS",
           "intermediate"
          ],
          [
           "H021-4SM457-T1-Q1",
           "LMS",
           "intermediate"
          ],
          [
           "H021-6YTA91T-M1-Q1",
           "LMS",
           "intermediate"
          ],
          [
           "H021-YVV1AM-M2-Q1",
           "LMS",
           "intermediate"
          ],
          [
           "H021-1CEBJN-M1-Q1",
           "LMS",
           "low"
          ],
          [
           "H021-CL2W8H-M1-E1",
           "LMS",
           "low"
          ],
          [
           "H021-VG824X-M2-Q1",
           "LMS",
           "low"
          ],
          [
           "H021-22JTPS-M2-Q1",
           "LMS",
           "very low"
          ],
          [
           "H021-EXW7DV-M2",
           "LMS",
           "very low"
          ]
         ],
         "hovertemplate": "Sample name: %{customdata[0]}<br>code_oncotree: %{customdata[1]}<br>TCC GROUP: %{customdata[2]}<extra></extra>",
         "legendgroup": "LMS",
         "marker": {
          "color": "#636efa",
          "opacity": 0.7,
          "symbol": "circle"
         },
         "mode": "markers",
         "name": "LMS",
         "scene": "scene",
         "showlegend": true,
         "type": "scatter3d",
         "x": {
          "bdata": "zX7tQNMrCkFdybdAEtfcQFYmB0FhIuhATGHIQPXI7kDr1PRAkoqTQNgL40D8c0dA6rqeQHfs60CxyL5Ai57tQHVC50Aw1AhBPFPDQF1K60B0ffFAqC/wQOvE7EBl4gdB1Kq7QNEH80AI5sRA2AXvQMRg60BDrOtAwCLsQNA7BkEzac5A0z/yQAxExkDxjp5A8LIRQQbQCkHE87pAqKXlQAHitUCkbexAEfyYQOzC7UAm+9VAbNq+QDCiREDDZCdA82SmQOp0SkDogBRAV0YHQA==",
          "dtype": "f4"
         },
         "y": {
          "bdata": "4UmHQIisTkA+HahA5kRzQOiJoEAKVY1AgLmEQLJFk0AeBYFAcY9fQPBvZ0AHVX5A/K2pQHRJKUBl7wM/gx+FQPG0WkAuKFpA1Ha2QIPBkkCkJ2VADmdmQDTQlEBuk1dAKsOWQEXVYUDf+7RAiASFQD33gkAfBJRAGMKHQNMQn0AzuolAqtpkQPpldUCJCWVAXd8hQNz5nkC2bJVAgw+MQPiQsUBTuYRAA3ZtQD+8gkBB6KxANVeuQD33gEArMTxA8DugQHYq2D2t4uo8G5vSvQ==",
          "dtype": "f4"
         },
         "z": {
          "bdata": "JXxlQBkEwT95qZM/MCZSQGzDgj+mdl5ADyknQOxgWkDHanZAjGrrPkLbP0CqBOk/uUiEP5tHEj9HxhhA9UloQGhiMkCqqUxALJaMP3rKZ0DC9GNAdgdpQK3VWEAwYaw/V5oUQMfJcECnc4M/0SllQI90bkCc6GJAgHF8QIFWOj938DFAgCJoQK4aHkAGOjxAwk4rQPBIcz9LXRJAbM5OQGsnqD+vmGtAdk8EQFj5cEBt4SE/Ya2ZPyYo/z/4sZE/jaEAP5KWyz/OFdw/cEqJPw==",
          "dtype": "f4"
         }
        },
        {
         "customdata": [
          [
           "H021-2XJ78U-M1-Q1",
           "ULMS",
           "high"
          ],
          [
           "H021-8P81QA-T2",
           "ULMS",
           "high"
          ],
          [
           "H021-9Q12BY-M1-Q1",
           "ULMS",
           "high"
          ],
          [
           "H021-9Q12BY-M2-Q1",
           "ULMS",
           "high"
          ],
          [
           "H021-BRW4ZQ-T1",
           "ULMS",
           "high"
          ],
          [
           "H021-C9L8VT-T1-Q1",
           "ULMS",
           "high"
          ],
          [
           "H021-CEFU8J-T1",
           "ULMS",
           "high"
          ],
          [
           "H021-DWG1JA-T1",
           "ULMS",
           "high"
          ],
          [
           "H021-GUS5RX-M1-Q1",
           "ULMS",
           "high"
          ],
          [
           "H021-H5XH4D-T1-Q1",
           "ULMS",
           "high"
          ],
          [
           "H021-H9XVGZ-M1",
           "ULMS",
           "high"
          ],
          [
           "H021-N8SFAC-M1",
           "ULMS",
           "high"
          ],
          [
           "H021-RYWQDW-T1",
           "ULMS",
           "high"
          ],
          [
           "H021-T2J7Z8-M1",
           "ULMS",
           "high"
          ],
          [
           "H021-T2QF9H-M1",
           "ULMS",
           "high"
          ],
          [
           "H021-UG7GHE-M1",
           "ULMS",
           "high"
          ],
          [
           "H021-UG7GHE-M7-Q1",
           "ULMS",
           "high"
          ],
          [
           "H021-V62A8V-T1-Q1",
           "ULMS",
           "high"
          ],
          [
           "H021-8SF2SV-M1-E2",
           "ULMS",
           "intermediate"
          ],
          [
           "H021-JSS475-T1",
           "ULMS",
           "intermediate"
          ],
          [
           "H021-MWX143-M1-Q1",
           "ULMS",
           "very low"
          ]
         ],
         "hovertemplate": "Sample name: %{customdata[0]}<br>code_oncotree: %{customdata[1]}<br>TCC GROUP: %{customdata[2]}<extra></extra>",
         "legendgroup": "ULMS",
         "marker": {
          "color": "#EF553B",
          "opacity": 0.7,
          "symbol": "circle"
         },
         "mode": "markers",
         "name": "ULMS",
         "scene": "scene",
         "showlegend": true,
         "type": "scatter3d",
         "x": {
          "bdata": "xUoFQSIY7EDV4+1AsoztQAR89EDObEdAwmTXQLLrr0AASRJBMSH9QNLtCkFjsL1AOCzWQFUI2kBx1eNAbCkIQXFaBEH8ZQRBw/LIQD1A7UAndJZA",
          "dtype": "f4"
         },
         "y": {
          "bdata": "ge0uQBFiVUC4qS1Apq8rQDkZZ0AOoXk+OFW4P+TLAkCkAzZAKEM6QGzhUUCOb5ZAlD6tQOelcUDJK2NAFtGEQA44OkBenGlAUpmqQKJVKUDJIYlA",
          "dtype": "f4"
         },
         "z": {
          "bdata": "/9cOP6+qOUAaoHw/h419P9CLdUDf1hFAD1MLQGmvYUBWKDA/co8APhp9Yz8tcBtAz/MoPxUNhT+41by+UAHgP/WNRUAYwJA/xZapP6pr8T5V06I+",
          "dtype": "f4"
         }
        },
        {
         "customdata": [
          [
           "H021-2YLHAZ-M1-Q1",
           "SARCNOS",
           "high"
          ],
          [
           "H021-4RQVZT-M2-E2",
           "SARCNOS",
           "high"
          ],
          [
           "H021-5CRGAQ-M1-Q1",
           "SARCNOS",
           "high"
          ],
          [
           "H021-5RWYWC-M3-Q1",
           "SARCNOS",
           "high"
          ],
          [
           "H021-5X9XEF-T1-Q1",
           "SARCNOS",
           "high"
          ],
          [
           "H028-7GAB-T1",
           "SARCNOS",
           null
          ],
          [
           "H021-82QZQD-M1-E1",
           "SARCNOS",
           "high"
          ],
          [
           "H021-ERFPF3-T1-Q1",
           "SARCNOS",
           "high"
          ],
          [
           "H021-KX7TXH-T2-Q1",
           "SARCNOS",
           "high"
          ],
          [
           "H021-L3ABZV-M3-E1",
           "SARCNOS",
           "high"
          ],
          [
           "H021-MNL9VQ-T2-Q1",
           "SARCNOS",
           "high"
          ],
          [
           "H021-MX9W82-M1-Q1",
           "SARCNOS",
           "high"
          ],
          [
           "H021-NJ78W6-U1-Q1",
           "SARCNOS",
           "high"
          ],
          [
           "H021-PLHLBV-M2-Q1",
           "SARCNOS",
           "high"
          ],
          [
           "H021-R427FX-M1-E2",
           "SARCNOS",
           "high"
          ],
          [
           "H021-UUC7M1-T1-Q1",
           "SARCNOS",
           "high"
          ],
          [
           "H021-W834UD-T2-E2",
           "SARCNOS",
           "high"
          ],
          [
           "H021-WUK3HBG-M1-Q1",
           "SARCNOS",
           "high"
          ],
          [
           "I007-134-9T1-P1",
           "SARCNOS",
           "high"
          ],
          [
           "I014-063-1M1-P1",
           "SARCNOS",
           "high"
          ],
          [
           "I015-026-2M1",
           "SARCNOS",
           "high"
          ],
          [
           "I023-031-3T1-P1",
           "SARCNOS",
           "high"
          ],
          [
           "I036-039-9T1-P1",
           "SARCNOS",
           "high"
          ],
          [
           "I036-057-226650",
           "SARCNOS",
           "high"
          ],
          [
           "I036-070-0T1-P1",
           "SARCNOS",
           "high"
          ],
          [
           "I047-036-1T1-P1",
           "SARCNOS",
           "high"
          ],
          [
           "I067-018-1M1-P1",
           "SARCNOS",
           "high"
          ],
          [
           "I070-030-0T2-P1",
           "SARCNOS",
           "high"
          ],
          [
           "I070-039-1T1-P1",
           "SARCNOS",
           "high"
          ],
          [
           "I167-004-1T1-P1",
           "SARCNOS",
           "high"
          ],
          [
           "H021-XVSS4M-M4-Q1",
           "SARCNOS",
           "high"
          ],
          [
           "H021-ZFGEM1-T2-Q1",
           "SARCNOS",
           "high"
          ],
          [
           "H021-47AEME-M3-Q1",
           "SARCNOS",
           "intermediate"
          ],
          [
           "H021-4F7QS3-T1",
           "SARCNOS",
           "intermediate"
          ],
          [
           "H021-562UDR-M2-Q1",
           "SARCNOS",
           "intermediate"
          ],
          [
           "H021-5MVGEK-T3",
           "SARCNOS",
           "intermediate"
          ],
          [
           "H021-65FBP6-T2-Q1",
           "SARCNOS",
           "intermediate"
          ],
          [
           "H021-95DSUJ-M3",
           "SARCNOS",
           "intermediate"
          ],
          [
           "H021-A6LHFV-M7-Q1",
           "SARCNOS",
           "intermediate"
          ],
          [
           "H021-B5EN4T-M1-Q1",
           "SARCNOS",
           "intermediate"
          ],
          [
           "H021-CL7TCY-T1",
           "SARCNOS",
           "intermediate"
          ],
          [
           "H021-J3HGWD-T2-Q1",
           "SARCNOS",
           "intermediate"
          ],
          [
           "H021-J75F36-M2-Q1",
           "SARCNOS",
           "intermediate"
          ],
          [
           "H021-MPB64L-T2-Q1",
           "SARCNOS",
           "intermediate"
          ],
          [
           "H021-MS22QL-T1-Q1",
           "SARCNOS",
           "intermediate"
          ],
          [
           "H021-MU85Q1-T1-Q1",
           "SARCNOS",
           "intermediate"
          ],
          [
           "H021-P1BLSR-M2-Q1",
           "SARCNOS",
           "intermediate"
          ],
          [
           "H021-Q8LBLJ-M2-Q1",
           "SARCNOS",
           "intermediate"
          ],
          [
           "H021-WZNT6Y-M1-E1",
           "SARCNOS",
           "intermediate"
          ],
          [
           "H021-YYHL-T1",
           "SARCNOS",
           "intermediate"
          ],
          [
           "H021-MZRYXY-M4-Q1",
           "SARCNOS",
           "intermediate"
          ],
          [
           "H021-22BRKF-M1-Q1",
           "SARCNOS",
           "low"
          ],
          [
           "H021-6QF116-T1-Q1",
           "SARCNOS",
           "low"
          ],
          [
           "H021-S1RRD7-T1",
           "SARCNOS",
           "low"
          ],
          [
           "H021-1EWB61-M3-Q1",
           "SARCNOS",
           "very low"
          ],
          [
           "H021-PLHLBV-M1-Q1",
           "SARCNOS",
           "very low"
          ]
         ],
         "hovertemplate": "Sample name: %{customdata[0]}<br>code_oncotree: %{customdata[1]}<br>TCC GROUP: %{customdata[2]}<extra></extra>",
         "legendgroup": "SARCNOS",
         "marker": {
          "color": "#00cc96",
          "opacity": 0.7,
          "symbol": "circle"
         },
         "mode": "markers",
         "name": "SARCNOS",
         "scene": "scene",
         "showlegend": true,
         "type": "scatter3d",
         "x": {
          "bdata": "knTxQAdMDkFEDAVBz9wOQYrw2kD+pLtAUzS1QIB69UDJivJA9O7QQCMU70BC3wVBMOPpQEX9wUDGLuZACKcCQcy+2kD5lwdBotLZQLUk2EAzdwdBYMi2QGROUEDE/hJBOXngQBG600AxdNdAxBzNQOGd1kAHwglB+PfTQG8qv0AcMa5Auo2+QH7aC0FBFLNAaQH5QG4o6UBrV7xAeI4AQbwd7EBs7epAurPyQAOLn0CrwwJB9hbRQMhs3UA3A8pAWIsKQRVwgkBmu7tAbE77QKgGrkDRG+ZAceINQQ5Sv0A=",
          "dtype": "f4"
         },
         "y": {
          "bdata": "Ny1oQMUsSkBssjJAJtiGQItOG0BrgLFAaDydQA/MjEDWnZBAMwBcQGH3hECz129A0LmTQCU5mkDnI6NAq/ZEQNlWdUDTdEhAIbmrQNYJ7j+G0J1ATXaoQHCrVUALqTdAgW0OQdi2kkBjo2dArWmsQKyl0z/VbS9A/JBVQFp5nD+cZKBADMifQFknH0ARvK5AYCw1QPuZcECVgqNArmk7QKy8U0BmT3tAKWk4QBgSlUCdL1ZADowUQIqvwD/sBVpA9wo1QLnfRkAUZgY/j21mQFbhpkBcYINApQ1wQAptf0A=",
          "dtype": "f4"
         },
         "z": {
          "bdata": "18RnQD2vpD+hHBo/1sRsP+VcOD/FMYw/C1v6Pk+xbD/VuY4//TT4PlO5eUD33yy+T8FTQPohlT+IisY/TolNQN/ifj9XmTtAYofVPwNeMj8UQg0/XUo5Px/cDkADMO4/rsAaQNwfrj/rj4c/8njkP4HVlD9zBkVAo3aWvUZc2z4DXwI/IXa1PxSWNkCvN8c/yeH/PboAvD+FBvs/eMcDPtj8NkBCr2FA/VQWP+vxtz6itzZACXvuPoX8FkCXhOM+vXRAPol6RkBj3hVA1OKfP1y0ET+z9HRA6g0wQNQH8z8=",
          "dtype": "f4"
         }
        },
        {
         "customdata": [
          [
           "H021-2ZDXQV-M1-Q1",
           "CHDM",
           "high"
          ],
          [
           "H021-5WKVYW-T3",
           "CHDM",
           "high"
          ],
          [
           "H021-794YRF-M1-Q1",
           "CHDM",
           "high"
          ],
          [
           "H021-7J2J7X-M1",
           "CHDM",
           "high"
          ],
          [
           "H021-8P95WW-M1",
           "CHDM",
           "high"
          ],
          [
           "H021-S1WQZ5-M1",
           "CHDM",
           "intermediate"
          ],
          [
           "H021-YTWLBM-T3-E1",
           "CHDM",
           "low"
          ],
          [
           "H021-E381AV-T2-E2",
           "CHDM",
           "high"
          ],
          [
           "H021-9DVBZG-M1-E2",
           "CHDM",
           "very low"
          ],
          [
           "H021-HGZEZ3-M4",
           "CHDM",
           "high"
          ],
          [
           "H021-REMV5U-T3-Q1",
           "CHDM",
           "high"
          ],
          [
           "H021-V6BV2M-M2-Q1",
           "CHDM",
           "high"
          ],
          [
           "S033-33+001-T1-Q1",
           "CHDM",
           "high"
          ],
          [
           "S033-33+004-T1-Q1",
           "CHDM",
           "high"
          ],
          [
           "S033-33+004-T2-Q1",
           "CHDM",
           "high"
          ],
          [
           "S033-33+005-T2-Q1",
           "CHDM",
           "high"
          ],
          [
           "S033-33+006-T1-Q1",
           "CHDM",
           "high"
          ],
          [
           "S033-33+007-T2-Q1",
           "CHDM",
           "high"
          ],
          [
           "S033-33+014-T1-Q1",
           "CHDM",
           "high"
          ],
          [
           "S033-33+016-T1-Q1",
           "CHDM",
           "high"
          ],
          [
           "S033-33+026-T1-Q1",
           "CHDM",
           "high"
          ],
          [
           "S033-33+030-T1-Q1",
           "CHDM",
           "high"
          ],
          [
           "H021-6A9ZQ6-T2-Q1",
           "CHDM",
           "high"
          ],
          [
           "S033-33+001-T2-Q1",
           "CHDM",
           "high"
          ],
          [
           "S033-33+001-T3-Q1",
           "CHDM",
           "high"
          ],
          [
           "S033-33+006-T3-Q1",
           "CHDM",
           "high"
          ],
          [
           "S033-33+008-T2-Q1",
           "CHDM",
           "high"
          ],
          [
           "S033-33+011-T1-Q1",
           "CHDM",
           "high"
          ],
          [
           "S033-33+018-T1-Q1",
           "CHDM",
           "high"
          ],
          [
           "S033-33+021-T1-Q1",
           "CHDM",
           "high"
          ],
          [
           "S033-33+025-T1-Q1",
           "CHDM",
           "high"
          ],
          [
           "S033-33+029-T1-Q1",
           "CHDM",
           "high"
          ],
          [
           "H021-1Z1Z9R-T3",
           "CHDM",
           "intermediate"
          ],
          [
           "H021-4QAQ6K-M3-E2",
           "CHDM",
           "intermediate"
          ],
          [
           "H021-5VNN-T1",
           "CHDM",
           "intermediate"
          ],
          [
           "H021-6NY94X-T3",
           "CHDM",
           "intermediate"
          ],
          [
           "H021-7PCAFC-M1-Q1",
           "CHDM",
           "intermediate"
          ],
          [
           "H021-7PCAFC-M2-Q1",
           "CHDM",
           "intermediate"
          ],
          [
           "H021-7QF8-T1-Q1",
           "CHDM",
           "intermediate"
          ],
          [
           "H021-BDWQVA-M3",
           "CHDM",
           "intermediate"
          ],
          [
           "H021-CJVR-T1",
           "CHDM",
           "intermediate"
          ],
          [
           "H021-CVMKDE-M1-Q1",
           "CHDM",
           "intermediate"
          ],
          [
           "H021-DC9SNL-M1-Q1",
           "CHDM",
           "intermediate"
          ],
          [
           "H021-JA26GW-T1",
           "CHDM",
           "intermediate"
          ],
          [
           "H021-JNQHBW-T1",
           "CHDM",
           "intermediate"
          ],
          [
           "H021-N624KQ-T10-Q1",
           "CHDM",
           "intermediate"
          ],
          [
           "H021-N624KQ-T3-Q1",
           "CHDM",
           "intermediate"
          ],
          [
           "H021-NQ7S9M-T1",
           "CHDM",
           "intermediate"
          ],
          [
           "H021-PN8G4P-T2",
           "CHDM",
           "intermediate"
          ],
          [
           "H021-UJN13U-M1-Q1",
           "CHDM",
           "intermediate"
          ],
          [
           "H021-V4UVPH-T1-Q1",
           "CHDM",
           "intermediate"
          ],
          [
           "H021-Y9L8J1-M1-Q1",
           "CHDM",
           "intermediate"
          ],
          [
           "H021-YUE8CH-T1",
           "CHDM",
           "intermediate"
          ],
          [
           "H021-YW2T5S-T1",
           "CHDM",
           "intermediate"
          ],
          [
           "H021-Z1LD1V-T1",
           "CHDM",
           "intermediate"
          ],
          [
           "S033-33+005-T1-Q1",
           "CHDM",
           "intermediate"
          ],
          [
           "S033-33+008-T1-Q1",
           "CHDM",
           "intermediate"
          ],
          [
           "S033-33+020-T1-Q1",
           "CHDM",
           "intermediate"
          ],
          [
           "S033-33+022-T1-Q1",
           "CHDM",
           "intermediate"
          ],
          [
           "H021-EV7BPV-M1-Q1",
           "CHDM",
           "intermediate"
          ],
          [
           "H021-W4TA9C-T4-Q1",
           "CHDM",
           "intermediate"
          ],
          [
           "S033-33+003-T1-Q1",
           "CHDM",
           "intermediate"
          ],
          [
           "S033-33+006-T2-Q1",
           "CHDM",
           "intermediate"
          ],
          [
           "S033-33+007-T1-Q1",
           "CHDM",
           "intermediate"
          ],
          [
           "S033-33+023-T1-Q1",
           "CHDM",
           "intermediate"
          ],
          [
           "S033-33+024-T1-Q1",
           "CHDM",
           "intermediate"
          ],
          [
           "H021-1E41KP-T4-Q1",
           "CHDM",
           "low"
          ],
          [
           "H021-2GFWNK-M1",
           "CHDM",
           "low"
          ],
          [
           "H021-4GTCCA-T1",
           "CHDM",
           "low"
          ],
          [
           "H021-5YEPF5-M1",
           "CHDM",
           "low"
          ],
          [
           "H021-5YEPF5-M3",
           "CHDM",
           "low"
          ],
          [
           "H021-6CUT1H-T1-Q1",
           "CHDM",
           "low"
          ],
          [
           "H021-BDWQVA-M4",
           "CHDM",
           "low"
          ],
          [
           "H021-CM887S-M2",
           "CHDM",
           "low"
          ],
          [
           "H021-FJ8QYX-T2-E1",
           "CHDM",
           "low"
          ],
          [
           "H021-HTX8PM-T1-Q1",
           "CHDM",
           "low"
          ],
          [
           "H021-LS387K-T2",
           "CHDM",
           "low"
          ],
          [
           "H021-REMV5U-T1",
           "CHDM",
           "low"
          ],
          [
           "H021-YQWZ88-M3-Q1",
           "CHDM",
           "low"
          ],
          [
           "H021-ZLMX2F-T2-Q1",
           "CHDM",
           "low"
          ],
          [
           "S033-33+038-T1-Q1",
           "CHDM",
           null
          ],
          [
           "H021-CF522-T1-Q1",
           "CHDM",
           null
          ],
          [
           "H021-CF672-T1-Q1",
           "CHDM",
           null
          ],
          [
           "S033-33+035-T1-Q1",
           "CHDM",
           null
          ],
          [
           "S033-33+036-T1-Q1",
           "CHDM",
           null
          ],
          [
           "H021-2577B8-M5-Q1",
           "CHDM",
           "very low"
          ],
          [
           "H021-9G2S1F-T1-E2",
           "CHDM",
           "very low"
          ],
          [
           "H021-A8GH43-T5-Q1",
           "CHDM",
           "very low"
          ],
          [
           "H021-SX9EQ8-T3-E2",
           "CHDM",
           "very low"
          ],
          [
           "H021-V6BV2M-M1-Q1",
           "CHDM",
           "very low"
          ]
         ],
         "hovertemplate": "Sample name: %{customdata[0]}<br>code_oncotree: %{customdata[1]}<br>TCC GROUP: %{customdata[2]}<extra></extra>",
         "legendgroup": "CHDM",
         "marker": {
          "color": "#ab63fa",
          "opacity": 0.7,
          "symbol": "circle"
         },
         "mode": "markers",
         "name": "CHDM",
         "scene": "scene",
         "showlegend": true,
         "type": "scatter3d",
         "x": {
          "bdata": "m9wnQFsHuj9E1r0/XlXMP9sc+T/anQhAmbI7QBhPLkAY7vQ/gFfsP4BC3z/Q3JFAmEDEP7xj9D8DQOo/WqJgQDr8H0BSnQNAg/rCP8U4tz+15/s/hp3cP3/tJECmqxtAu0W9P3Z78j89YsE/Ie/fP+nxwD8cSdo/ocvMPxBRtj8cn+o/r3fTP+1SvT/YEv8/NLIpQItKI0BwfRdAaXHcP2Tgzz9o898/TMRzQMxsD0Dh7cQ/bmXZP3CT1j8Iz+M/beW5Pwx2BUBbbR9A21TPP0gL6D+gXf0/q0r6P+7KyD9a/hRAVIntP3ETBECfsd0/9OYAQLA4AkB2WLw/cE/cP2mU+T9uKrk/LYvBQMGiOECiNuU/6lTqP5yx6j/ZzeA/DPH1P9v1e0AJLVVArOLjPyei+j/PXAdADtgbQEnQAUA9hr0/xK68P2PU/D/OOaJAxQZtQM0cCECeu0NA8JroPyUEIkDeVAdA",
          "dtype": "f4"
         },
         "y": {
          "bdata": "gotQQPt5kkBZ64xAADaMQJ5if0AA7l5AGO9bQF+WbkBQOYhAsiKKQMr4fUDCcNI/rKmLQAYAkEC1EI1A1ocvQMurXUDKgGNA39OPQJdDkkAw/pFAJ0B6QEakgEBQdWJAi/2RQDIpl0AXlJNAX4GAQMZ5j0AJH45AbeiCQANZkkBRHI1Ac7KBQDrWkUDAPIFAudlBQHlUPUBOMXFA3s97QGcWjUAjY3pAX6wnQJhNVEAmjo1AaC+BQGB0g0BOQ4RAyCiNQMG7ZkC8okdAZ2OCQCrahkB7QnRAU5aVQJA/hUCt53hACtd5QNJolUAwCXpAOl+WQJdilkBoK5JA7QV6QKnJh0DU9pJAuw1lQP08e0Bh8olAcg+NQJAwi0Dl3n5APFyTQOeST0DVhYG83h91QJaTg0AtnHVAvJVdQMJUbUAsJo1Au/eHQFEWiECkdQNAvz4rQHWllEAwoiNAhwCLQFjMjEDcHB2+",
          "dtype": "f4"
         },
         "z": {
          "bdata": "dm4aQA1NNUB9WTlAyCEUQIRcHkAxwTBA9hoAQJhJC0AKUQ1A5WkOQD+RSkCwQYY/FLwcQMLnI0CO/h9AL/sAQOS2QEDflSxAsgwcQLyzKEA9QCZA0i1QQIXBCkA43kJAXUUbQCmOIUD6oTdAh4YcQCUEJUCkaRtAbaQwQJ/8KkBKEgtAfxEpQF0hHEBcxhJACsEmQEV4H0AM9U9AmjtMQGjsGEAZnk1ADWEBQNmrJUCosDxAC5UkQIcxKEB13RRAlLMlQOzzMEBJWxhAsjIrQE6uEUAzpENAVvAeQDOYLkB9Q05AlJREQNflFUCb8U5AVvUaQJTrGECBzDhA5sMkQCKdREBI3hxAO3ejP7Ik/T9kCg1A990EQB9mB0DijB1AdgQtQFc+HEBlo7Y/Mj1NQJ0eCUAenktA6ck7QB7WM0BgNDxARpQ1QBO6CkD1/gNADSUCQBb4EEBh0Yg/dWwHQOCpB0AttIo/",
          "dtype": "f4"
         }
        },
        {
         "customdata": [
          [
           "H021-314BWF-T1",
           "FIBS",
           "high"
          ],
          [
           "H021-VTEG9B-T1",
           "FIBS",
           "high"
          ],
          [
           "H021-W91N9P-M1",
           "FIBS",
           "low"
          ]
         ],
         "hovertemplate": "Sample name: %{customdata[0]}<br>code_oncotree: %{customdata[1]}<br>TCC GROUP: %{customdata[2]}<extra></extra>",
         "legendgroup": "FIBS",
         "marker": {
          "color": "#FFA15A",
          "opacity": 0.7,
          "symbol": "circle"
         },
         "mode": "markers",
         "name": "FIBS",
         "scene": "scene",
         "showlegend": true,
         "type": "scatter3d",
         "x": {
          "bdata": "ak7uQF4i/kBugCFA",
          "dtype": "f4"
         },
         "y": {
          "bdata": "/lGlQN+1nUB/uGdA",
          "dtype": "f4"
         },
         "z": {
          "bdata": "gBe2PzMJmD+I/bs/",
          "dtype": "f4"
         }
        },
        {
         "customdata": [
          [
           "H021-3582P3-M1-Q1",
           "RMS",
           "high"
          ],
          [
           "H021-48Z3LW-M1-Q1",
           "RMS",
           "high"
          ],
          [
           "H021-FWVK8T-T1-Q1",
           "RMS",
           "high"
          ],
          [
           "H021-HBR2CL-M1-Q1",
           "RMS",
           "high"
          ],
          [
           "H021-NM1SU2-M1-Q1",
           "RMS",
           "high"
          ],
          [
           "I008-019-0T1-P1",
           "RMS",
           "high"
          ],
          [
           "I167-005-1T1-P1",
           "RMS",
           "high"
          ],
          [
           "H021-H1ZKQ8-M3-Q2",
           "RMS",
           "intermediate"
          ],
          [
           "H021-S5LP5E-M2-E2",
           "RMS",
           "low"
          ],
          [
           "H021-VZRW-T1-Q2",
           "RMS",
           "very low"
          ]
         ],
         "hovertemplate": "Sample name: %{customdata[0]}<br>code_oncotree: %{customdata[1]}<br>TCC GROUP: %{customdata[2]}<extra></extra>",
         "legendgroup": "RMS",
         "marker": {
          "color": "#19d3f3",
          "opacity": 0.7,
          "symbol": "circle"
         },
         "mode": "markers",
         "name": "RMS",
         "scene": "scene",
         "showlegend": true,
         "type": "scatter3d",
         "x": {
          "bdata": "8rIMQSw6/EBU3hZBoQEQQaVe3EC9cBdBX9ERQd2iBEH5S7tAmaQFQQ==",
          "dtype": "f4"
         },
         "y": {
          "bdata": "LA0lQL60OkAAUoxA8IR4QN56XkBWOZFAdNR/QBjvL0DOnKpAEYZwQA==",
          "dtype": "f4"
         },
         "z": {
          "bdata": "5N+JPgVvI0CPgNo/AYB+P1PDez97jtE/KC4QQJKB0D7fJJM/N8dEvg==",
          "dtype": "f4"
         }
        },
        {
         "customdata": [
          [
           "H021-BXQFYJ-T1",
           "EPIS",
           "high"
          ],
          [
           "H021-ATE46U-T1",
           "EPIS",
           "high"
          ],
          [
           "H021-EAP7LV-M1-E1",
           "EPIS",
           "high"
          ],
          [
           "H021-DGKVVG-T1",
           "EPIS",
           "high"
          ],
          [
           "H021-RY13PM-M1",
           "EPIS",
           "high"
          ],
          [
           "I002-020-0T1-P1",
           "EPIS",
           "high"
          ],
          [
           "I018-026-1M1-P1",
           "EPIS",
           "high"
          ],
          [
           "I037-009-0T1-P1",
           "EPIS",
           "high"
          ],
          [
           "I052-042-9T1-P1",
           "EPIS",
           "high"
          ],
          [
           "I070-032-0T1-P1",
           "EPIS",
           "high"
          ],
          [
           "H021-3XT28G-M1-Q1",
           "EPIS",
           "intermediate"
          ],
          [
           "H021-HLHW2B-T1-Q1",
           "EPIS",
           "low"
          ],
          [
           "H021-ZNGJU6-T3-Q1",
           "EPIS",
           "low"
          ]
         ],
         "hovertemplate": "Sample name: %{customdata[0]}<br>code_oncotree: %{customdata[1]}<br>TCC GROUP: %{customdata[2]}<extra></extra>",
         "legendgroup": "EPIS",
         "marker": {
          "color": "#FF6692",
          "opacity": 0.7,
          "symbol": "circle"
         },
         "mode": "markers",
         "name": "EPIS",
         "scene": "scene",
         "showlegend": true,
         "type": "scatter3d",
         "x": {
          "bdata": "nn8AQdO70EDnlAVB3AMMQWJTA0HnDXNAVmSpQO6B0UBKVmhAjurOQGC21UDiy21A4F+kQA==",
          "dtype": "f4"
         },
         "y": {
          "bdata": "kQhjQLxtVUAM00BARI2hQGWAoEB9hChAHskLQLD3sT9V/TxAyLcPQPLJuz+pCkFA8D2eQA==",
          "dtype": "f4"
         },
         "z": {
          "bdata": "sN6OPx44nD2DiII/gWYQP4p0iD+vZAdAJdYCP9aPaT8ndwpAMqXXPvteCUBI5UZAOwPiPg==",
          "dtype": "f4"
         }
        },
        {
         "customdata": [
          [
           "H021-3R5SQWA-M1-Q1",
           "IHCH",
           "high"
          ],
          [
           "H021-8K4N7X-M2",
           "IHCH",
           "high"
          ],
          [
           "H021-HPSK7H-M2-Q1",
           "IHCH",
           "high"
          ],
          [
           "H021-NUFMTE-M1-Q1",
           "IHCH",
           "high"
          ],
          [
           "H021-5F8MA6-T1-Q1",
           "IHCH",
           "intermediate"
          ],
          [
           "H021-6P5GUW-M1-Q1",
           "IHCH",
           "intermediate"
          ],
          [
           "H021-E4ZY7YZ-M2-Q1",
           "IHCH",
           "intermediate"
          ],
          [
           "H021-HPSK7H-M1-Q2",
           "IHCH",
           "intermediate"
          ],
          [
           "H021-LA9G3T-M1",
           "IHCH",
           "intermediate"
          ],
          [
           "H021-NS82CZ-M1-Q1",
           "IHCH",
           "intermediate"
          ],
          [
           "H021-SA46FB-M2-Q1",
           "IHCH",
           "intermediate"
          ],
          [
           "H021-ULZHNQ-M1-Q1",
           "IHCH",
           "intermediate"
          ],
          [
           "H021-VF63R3-U3",
           "IHCH",
           "intermediate"
          ],
          [
           "H021-HEZMHC-M1-Q1",
           "IHCH",
           "intermediate"
          ],
          [
           "H021-K7WZ2U-T1-Q1",
           "IHCH",
           "intermediate"
          ],
          [
           "H021-6PGS9W-M2-Q1",
           "IHCH",
           "low"
          ],
          [
           "H021-ATPT9K-M4-Q1",
           "IHCH",
           "low"
          ],
          [
           "H021-BDGRM7-T2-Q1",
           "IHCH",
           "low"
          ],
          [
           "H021-CN1GRW-T1",
           "IHCH",
           "low"
          ],
          [
           "H021-LA9G3T-T1-Q1",
           "IHCH",
           "low"
          ],
          [
           "H021-NUWP8A-M2-Q1",
           "IHCH",
           "low"
          ],
          [
           "H021-QZCNXP-T2",
           "IHCH",
           "low"
          ],
          [
           "H021-UYZU5H-M1-Q1",
           "IHCH",
           "low"
          ],
          [
           "H021-VF63R3-M4",
           "IHCH",
           "low"
          ],
          [
           "H021-VN7KR5-T3",
           "IHCH",
           "low"
          ],
          [
           "H021-53VEZY-T1",
           "IHCH",
           "very low"
          ],
          [
           "H021-8WHK8E-M1-Q1",
           "IHCH",
           "very low"
          ],
          [
           "H021-N8BCH7A-M3-Q1",
           "IHCH",
           "very low"
          ],
          [
           "H021-NBJSS8-M3-Q1",
           "IHCH",
           "very low"
          ]
         ],
         "hovertemplate": "Sample name: %{customdata[0]}<br>code_oncotree: %{customdata[1]}<br>TCC GROUP: %{customdata[2]}<extra></extra>",
         "legendgroup": "IHCH",
         "marker": {
          "color": "#B6E880",
          "opacity": 0.7,
          "symbol": "circle"
         },
         "mode": "markers",
         "name": "IHCH",
         "scene": "scene",
         "showlegend": true,
         "type": "scatter3d",
         "x": {
          "bdata": "4BdfQJy5MUC5llFAC9o4QIBbfEDk7idARgmCQPb9U0BAdSFAKnqRQL2PH0BJYpNAwzATQLClV0DHVppArRuBQNMmHUCMwUZAGNJJQI6zDkD4hmFAapZqQDS8CUCU4VNAf+UJQFoWVkC6fSVAmvkaQBOVEUA=",
          "dtype": "f4"
         },
         "y": {
          "bdata": "V3T4P9iFE0AjGKc/FoQQvchu9T91rtU+h0VHQEFoBkAGHkg/B8XVP2Q0OUBgcKg/+JdUQB4fPkCEeqY/ieU4QOhaPj/g/ag/qjEQQNRQwb5AEUZAZI/+PydS6b4WLA5AuChDvQFI0T8SPsu+5r3/vq1Ckb0=",
          "dtype": "f4"
         },
         "z": {
          "bdata": "VS7lPq8DG0CH5KA/oaG7P8CwMkDz15M/BCv/P0dkoj8k83o/HfRtP9WxoD8tD9s/brABQC7iGEDgXNI/HHgNQODf0z80UJA/RMRaPxz/vT/CVktAOpyGP1Wiuj8om58/J7GMP7gCnz8YosI/S329P2EOzT8=",
          "dtype": "f4"
         }
        },
        {
         "customdata": [
          [
           "H021-3UN257-T2-E2",
           "ES",
           "high"
          ],
          [
           "H021-6XYFYE-T2-Q1",
           "ES",
           "high"
          ],
          [
           "H021-9CHMG8-M1-Q1",
           "ES",
           "high"
          ],
          [
           "H021-9Q5CD2-M1",
           "ES",
           "high"
          ],
          [
           "H021-AUDM8Q-M1-Q1",
           "ES",
           "high"
          ],
          [
           "H021-BUUX5Y-M1-Q1",
           "ES",
           "high"
          ],
          [
           "H021-CCNRZF-M8-Q1",
           "ES",
           "high"
          ],
          [
           "H021-HWZUPV-M1",
           "ES",
           "high"
          ],
          [
           "H021-M4U2KM-M3",
           "ES",
           "high"
          ],
          [
           "H021-M9ZE3G-M1-E1",
           "ES",
           "high"
          ],
          [
           "H021-D5EJ1B-T2-Q1",
           "ES",
           "high"
          ],
          [
           "H021-4SHR5Q5-M2-Q1",
           "ES",
           "intermediate"
          ],
          [
           "H021-PL5W1B-M1-Q1",
           "ES",
           "high"
          ],
          [
           "H021-SAE3YV-T1-Q1",
           "ES",
           "high"
          ],
          [
           "H021-ZHQNGB-M1-Q1",
           "ES",
           "high"
          ],
          [
           "H021-ZRU5JL-M1",
           "ES",
           "high"
          ],
          [
           "I007-069-1T1-P1",
           "ES",
           "high"
          ],
          [
           "I007-105-2M1-P1",
           "ES",
           "high"
          ],
          [
           "I020-001-1M1-P1",
           "ES",
           "high"
          ],
          [
           "I020-004-1M1-P1",
           "ES",
           "high"
          ],
          [
           "I024-053-1T1-P1",
           "ES",
           "high"
          ],
          [
           "I024-054-1M1-P1",
           "ES",
           "high"
          ],
          [
           "I052-041-9M1-P1",
           "ES",
           "high"
          ],
          [
           "I054-028-5M1-P1",
           "ES",
           "high"
          ],
          [
           "I054-042-6T1-P1",
           "ES",
           "high"
          ],
          [
           "I056-036-2M1-P1",
           "ES",
           "high"
          ],
          [
           "I071-010-9M1-P1",
           "ES",
           "high"
          ],
          [
           "I078-053-1T1-P1",
           "ES",
           "high"
          ],
          [
           "H021-4J66QY-M1-Q1",
           "ES",
           "intermediate"
          ],
          [
           "H021-CCNRZF-M2-Q1",
           "ES",
           "intermediate"
          ],
          [
           "H021-CH8C8S-M3",
           "ES",
           "intermediate"
          ],
          [
           "H021-WP9X95-M4-Q1",
           "ES",
           "intermediate"
          ],
          [
           "I043-017-2M1-P1",
           "ES",
           "intermediate"
          ],
          [
           "I056-035-0T1-P1",
           "ES",
           "intermediate"
          ],
          [
           "I063-061-3M1-P1",
           "ES",
           "intermediate"
          ],
          [
           "H021-LBKUEJ-M2-E1",
           "ES",
           "low"
          ],
          [
           "H021-ZX2W8U-T1",
           "ES",
           "low"
          ],
          [
           "I063-042-1T2-P1",
           "ES",
           "low"
          ]
         ],
         "hovertemplate": "Sample name: %{customdata[0]}<br>code_oncotree: %{customdata[1]}<br>TCC GROUP: %{customdata[2]}<extra></extra>",
         "legendgroup": "ES",
         "marker": {
          "color": "#FF97FF",
          "opacity": 0.7,
          "symbol": "circle"
         },
         "mode": "markers",
         "name": "ES",
         "scene": "scene",
         "showlegend": true,
         "type": "scatter3d",
         "x": {
          "bdata": "ywwVQRjW90Dx/tFAFoERQXOJEEHWthBBu+4KQY9jEEE73PNAVEMOQXmHSEAwPLZA8T+iQKKuEUEC5RBBhJLvQK6HEUEeNA9BhiAQQQk+20DDUqBAX6UVQcf8EkFIHxNBosHWQPNA5kAyT5dAccn2QODQDUHVrgVBt3IOQSf7rUD/kZpABhMQQdUi90BZlANBfYfdQGZW6UA=",
          "dtype": "f4"
         },
         "y": {
          "bdata": "7OFEQF9Qj0B3U+g/MlQmQIq0JEDnEiJAhqx7QIH8akCWp49AFr4nQHnOg0D7EqI/zIx/QGxbIECsgiZAzl2TQF99IkDN0B1AMqMfQKTAuD8bRX9AShVFQCQVVUCbPixAYwR5QJ4yfEDJLoVA+XWRQAGVLEDfYYhAZTsrQBfbqEAxPXhADvkgQO0LjkCxbO8/hNsZQIhjj0A=",
          "dtype": "f4"
         },
         "z": {
          "bdata": "zPErQKkeQ0BS1Jc/VRcwQIS/NUDzejZAtoD8P1tl7z8Atz9ABkFBQMw1AUCrEzRA4ddVP7BVLED/ADZAFRHPPzC9LkAhtUJAraA5QHaSE0D8c0Y/TfYlQBVR/D9aOh9AjgdPQLLyVkA2Bbc+6vVIQDzXPUDU2fU/7i1BQDC96D+33P8+UW0lQAWSREBZZlM+bcggQI95YEA=",
          "dtype": "f4"
         }
        },
        {
         "customdata": [
          [
           "H021-3WX86Q-T6-Q1",
           "DFSP",
           "high"
          ],
          [
           "H021-5W1H1S-T1",
           "DFSP",
           "high"
          ],
          [
           "H021-7AAYWW-T1",
           "DFSP",
           "high"
          ],
          [
           "H021-7AAYWW-T2",
           "DFSP",
           "high"
          ],
          [
           "H021-9LPY7S-T1-Q1",
           "DFSP",
           "high"
          ],
          [
           "H021-EN4UG6-T1-Q1",
           "DFSP",
           "high"
          ],
          [
           "H021-ZCCGMV3-M3-Q1",
           "DFSP",
           "high"
          ]
         ],
         "hovertemplate": "Sample name: %{customdata[0]}<br>code_oncotree: %{customdata[1]}<br>TCC GROUP: %{customdata[2]}<extra></extra>",
         "legendgroup": "DFSP",
         "marker": {
          "color": "#FECB52",
          "opacity": 0.7,
          "symbol": "circle"
         },
         "mode": "markers",
         "name": "DFSP",
         "scene": "scene",
         "showlegend": true,
         "type": "scatter3d",
         "x": {
          "bdata": "Ma8OQS6G2kCaww5B5qsOQRC2CEFQ6g5BdUUIQQ==",
          "dtype": "f4"
         },
         "y": {
          "bdata": "uQV1QMCZl0B51XNA9vFwQAq6a0Bi3HBALOOVQA==",
          "dtype": "f4"
         },
         "z": {
          "bdata": "fMccQO+AuT+k8TBAXfEvQE6Q3T/PpS9AlymwPw==",
          "dtype": "f4"
         }
        },
        {
         "customdata": [
          [
           "H021-43SYEG-M1-Q1",
           "THYC",
           "high"
          ],
          [
           "H021-5Y7TN1-T1",
           "THYC",
           "high"
          ],
          [
           "H021-DS39PP-M2-E2",
           "THYC",
           "high"
          ],
          [
           "H021-WWWN11-M1-Q1",
           "THYC",
           "high"
          ],
          [
           "H021-AR6LUZ-T4-E2",
           "THYC",
           "intermediate"
          ],
          [
           "H021-FKPP-T1",
           "THYC",
           "intermediate"
          ],
          [
           "H021-NMBHY8L-M1-Q1",
           "THYC",
           "intermediate"
          ],
          [
           "H021-VVEHNT-M2",
           "THYC",
           "intermediate"
          ],
          [
           "H021-WDZGV8-M1-E1",
           "THYC",
           "intermediate"
          ],
          [
           "H021-XX16CP-M2",
           "THYC",
           "intermediate"
          ],
          [
           "H021-HAEC1Y-M3-Q1",
           "THYC",
           "intermediate"
          ],
          [
           "H021-3VP39G-M1-Q1",
           "THYC",
           "low"
          ],
          [
           "H021-ECKDKR-M3",
           "THYC",
           "very low"
          ]
         ],
         "hovertemplate": "Sample name: %{customdata[0]}<br>code_oncotree: %{customdata[1]}<br>TCC GROUP: %{customdata[2]}<extra></extra>",
         "legendgroup": "THYC",
         "marker": {
          "color": "#636efa",
          "opacity": 0.7,
          "symbol": "circle"
         },
         "mode": "markers",
         "name": "THYC",
         "scene": "scene",
         "showlegend": true,
         "type": "scatter3d",
         "x": {
          "bdata": "rMStQO9EE0GzAw1BmAGdQMsJakAWO8JAyWtkQPcztUAIzLdAviFqQHnKL0DJDr5AeM1IQA==",
          "dtype": "f4"
         },
         "y": {
          "bdata": "tQcHQE8QRUA46zFAmeNVPqO1ET+MrkY/2y9UPkcV0D9R5KM/kf8DvkIK776RqK8/OM2AQA==",
          "dtype": "f4"
         },
         "z": {
          "bdata": "79DKPxZ21j+QeD5A2fPnP4XmDEAsddw/L+XPPyTnEkADbDBAihDIP+6uvT8PJjBAIAn7Pw==",
          "dtype": "f4"
         }
        },
        {
         "customdata": [
          [
           "H021-48AFU3-M1-Q1",
           "ACC",
           "high"
          ],
          [
           "H021-4VYEQ4-M1-Q1",
           "ACC",
           "high"
          ],
          [
           "H021-52P7GS-M1-Q1",
           "ACC",
           "high"
          ],
          [
           "H021-6CUKMQ-M1-Q1",
           "ACC",
           "high"
          ],
          [
           "H021-77HFDN-M1-Q1",
           "ACC",
           "high"
          ],
          [
           "H021-CX3R53-M1-Q1",
           "ACC",
           "high"
          ],
          [
           "H021-GJUNWML-M1-Q1",
           "ACC",
           "high"
          ],
          [
           "H021-KYRZE9P-T1-Q1",
           "ACC",
           "high"
          ],
          [
           "H021-NPY8VX-M1-Q1",
           "ACC",
           "high"
          ],
          [
           "H021-W6JXJF-M1-Q1",
           "ACC",
           "high"
          ],
          [
           "H021-XKP7ZN-M1",
           "ACC",
           "high"
          ],
          [
           "H021-ZHVK6R-M3-Q1",
           "ACC",
           "high"
          ],
          [
           "H021-MQ3B2C-M5",
           "ACC",
           "high"
          ],
          [
           "H021-3D86AH-M1-Q1",
           "ACC",
           "intermediate"
          ],
          [
           "H021-BM2ECG-M1-Q1",
           "ACC",
           "intermediate"
          ],
          [
           "H021-C2AL3T-M1-Q1",
           "ACC",
           "intermediate"
          ],
          [
           "H021-FYKTQP-M1-Q1",
           "ACC",
           "intermediate"
          ],
          [
           "H021-HX1NGL-M3-Q1",
           "ACC",
           "intermediate"
          ],
          [
           "H021-NBLW1GU-M2-Q1",
           "ACC",
           "intermediate"
          ],
          [
           "H021-VA1FGV-M3-Q1",
           "ACC",
           "intermediate"
          ],
          [
           "H021-Z55HV3-M1-Q1",
           "ACC",
           "intermediate"
          ],
          [
           "H021-ADE19T-M1-Q1",
           "ACC",
           "intermediate"
          ],
          [
           "H021-T1B3YD-M1-Q1",
           "ACC",
           "intermediate"
          ],
          [
           "H021-VD45DC-M2-Q1",
           "ACC",
           "intermediate"
          ],
          [
           "H021-BKDDSP-M1",
           "ACC",
           "low"
          ],
          [
           "H021-DX3UW1-M1-Q1",
           "ACC",
           "low"
          ],
          [
           "H021-QBUMCB-M1-Q1",
           "ACC",
           "low"
          ],
          [
           "H021-RVZGMCY-M2-Q1",
           "ACC",
           "low"
          ],
          [
           "H021-NBLW1GU-M1-Q1",
           "ACC",
           "very low"
          ]
         ],
         "hovertemplate": "Sample name: %{customdata[0]}<br>code_oncotree: %{customdata[1]}<br>TCC GROUP: %{customdata[2]}<extra></extra>",
         "legendgroup": "ACC",
         "marker": {
          "color": "#EF553B",
          "opacity": 0.7,
          "symbol": "circle"
         },
         "mode": "markers",
         "name": "ACC",
         "scene": "scene",
         "showlegend": true,
         "type": "scatter3d",
         "x": {
          "bdata": "Y/ISQUu060AMFMRA4nnXQIrDk0Ckt89Af1CVQOzbT0DOKtpAlLvCQJV3j0BT3MBAaheWQAp13EDw4c5A85OTQDVFHUDLltdAlmGXQEofRUBhANlA+rCQQBx8iEDHhlFAVfiLQL/1h0B7OolA9rKGQBl9REA=",
          "dtype": "f4"
         },
         "y": {
          "bdata": "kQA+QIFV/D+YeDg/JqRDQMKqKUCQCAtAAHwZQO8Itz8lFEZAGQVuPzFqNECcjX8/SLoXQP7kGUDLxjlAy+I/QCG2Dr60aEFAyDIXQDVdjD+2dUJAQs9FQNocMEDnMfg+oL44QA/CMUDtfjNATBA4QJ203T8=",
          "dtype": "f4"
         },
         "z": {
          "bdata": "7qJWP8JNEEBbxyA/Pb4wv1Lorj4feO0+8oKqPpmm9z+1rxq/BnsoP0Obwb4NZkA/oJKwPgX1RT+d5TS+Oq+tPttAxz9u/xm/58yvPq69aj9X3yO/153WPoTbvr4BNb0/ELS9vtpAxb5KHc++p/zzvfjdUj8=",
          "dtype": "f4"
         }
        },
        {
         "customdata": [
          [
           "H021-4CYFXD-M1",
           "PLRMS",
           "high"
          ],
          [
           "H021-AT9S9S-T3-Q1",
           "PLRMS",
           "high"
          ],
          [
           "H021-GAMZSE-T2",
           "PLRMS",
           "high"
          ],
          [
           "H021-XP5T1N-M4",
           "PLRMS",
           "high"
          ],
          [
           "H021-XT8RXW-T2",
           "PLRMS",
           "high"
          ],
          [
           "H021-S83DHY-M1-Q1",
           "PLRMS",
           "low"
          ]
         ],
         "hovertemplate": "Sample name: %{customdata[0]}<br>code_oncotree: %{customdata[1]}<br>TCC GROUP: %{customdata[2]}<extra></extra>",
         "legendgroup": "PLRMS",
         "marker": {
          "color": "#00cc96",
          "opacity": 0.7,
          "symbol": "circle"
         },
         "mode": "markers",
         "name": "PLRMS",
         "scene": "scene",
         "showlegend": true,
         "type": "scatter3d",
         "x": {
          "bdata": "Mc4HQZbPBEHHrttAl8/qQIrF8UC8p1VA",
          "dtype": "f4"
         },
         "y": {
          "bdata": "1rtTQK3EJEBxKcA/uSozQIypmECNwBVA",
          "dtype": "f4"
         },
         "z": {
          "bdata": "MZJOQHYHEj/cpA5AxUNkP6Q0oz+2klNA",
          "dtype": "f4"
         }
        },
        {
         "customdata": [
          [
           "H021-4JZ13LZ-M1-Q1",
           "OOVC",
           "high"
          ],
          [
           "H021-EM4KY3-M1-Q1",
           "OOVC",
           "high"
          ]
         ],
         "hovertemplate": "Sample name: %{customdata[0]}<br>code_oncotree: %{customdata[1]}<br>TCC GROUP: %{customdata[2]}<extra></extra>",
         "legendgroup": "OOVC",
         "marker": {
          "color": "#ab63fa",
          "opacity": 0.7,
          "symbol": "circle"
         },
         "mode": "markers",
         "name": "OOVC",
         "scene": "scene",
         "showlegend": true,
         "type": "scatter3d",
         "x": {
          "bdata": "bImeQB08okA=",
          "dtype": "f4"
         },
         "y": {
          "bdata": "8hb7P0Exgr0=",
          "dtype": "f4"
         },
         "z": {
          "bdata": "Uu1JQNs10z8=",
          "dtype": "f4"
         }
        },
        {
         "customdata": [
          [
           "H021-4RAFXW-M1-Q1",
           "PAAC",
           "high"
          ],
          [
           "H021-ASPVRN-M1-Q1",
           "PAAC",
           "high"
          ]
         ],
         "hovertemplate": "Sample name: %{customdata[0]}<br>code_oncotree: %{customdata[1]}<br>TCC GROUP: %{customdata[2]}<extra></extra>",
         "legendgroup": "PAAC",
         "marker": {
          "color": "#FFA15A",
          "opacity": 0.7,
          "symbol": "circle"
         },
         "mode": "markers",
         "name": "PAAC",
         "scene": "scene",
         "showlegend": true,
         "type": "scatter3d",
         "x": {
          "bdata": "CPUJQTNhVUA=",
          "dtype": "f4"
         },
         "y": {
          "bdata": "vlI3QOHSvj0=",
          "dtype": "f4"
         },
         "z": {
          "bdata": "VyubPikrEkA=",
          "dtype": "f4"
         }
        },
        {
         "customdata": [
          [
           "H021-4RWKD3-M3",
           "LGFMS",
           "high"
          ],
          [
           "H021-9L4BAU-M1-E2",
           "LGFMS",
           "high"
          ],
          [
           "H021-RCJFWM-T1",
           "LGFMS",
           "high"
          ],
          [
           "H021-KR1BDV-T3-Q1",
           "LGFMS",
           "high"
          ],
          [
           "H021-83CB1G-M1-E2",
           "LGFMS",
           "intermediate"
          ],
          [
           "H021-J7T6N7-M1-E1",
           "LGFMS",
           "intermediate"
          ],
          [
           "H021-TDDW-T1",
           "LGFMS",
           "intermediate"
          ],
          [
           "H021-TZEK4W-U1-Q1",
           "LGFMS",
           "intermediate"
          ],
          [
           "H021-TAFPLZ-T1-Q1",
           "LGFMS",
           "intermediate"
          ],
          [
           "H021-TAFPLZ-T5-Q1",
           "LGFMS",
           "intermediate"
          ],
          [
           "H021-HSPL2T-M1-Q1",
           "LGFMS",
           "very low"
          ]
         ],
         "hovertemplate": "Sample name: %{customdata[0]}<br>code_oncotree: %{customdata[1]}<br>TCC GROUP: %{customdata[2]}<extra></extra>",
         "legendgroup": "LGFMS",
         "marker": {
          "color": "#19d3f3",
          "opacity": 0.7,
          "symbol": "circle"
         },
         "mode": "markers",
         "name": "LGFMS",
         "scene": "scene",
         "showlegend": true,
         "type": "scatter3d",
         "x": {
          "bdata": "IUECQVtohUCSE4tAwBKNQDK+KECMUgVBh1HVQGGBn0BFkM5AD4XAQHuY80A=",
          "dtype": "f4"
         },
         "y": {
          "bdata": "fihLQLhfVkBJwkRALlZaQJsGO0D/rEpAPlaEQOZ1oUDC95hABxqoQK5ePUA=",
          "dtype": "f4"
         },
         "z": {
          "bdata": "rX7tPsdfMD+htThAR1QLQNPTlT/MhOI+AuFOP/A3Oz+5esk/byDTP3Bp+j8=",
          "dtype": "f4"
         }
        },
        {
         "customdata": [
          [
           "H021-4SRLF8-T1-Q1",
           "ASPS",
           "high"
          ],
          [
           "H021-52JBSW-T1-Q1",
           "ASPS",
           "high"
          ],
          [
           "H021-5YFB63-T4-Q1",
           "ASPS",
           "high"
          ],
          [
           "I007-020-1007541",
           "ASPS",
           "high"
          ],
          [
           "I007-031-108742",
           "ASPS",
           "high"
          ],
          [
           "I011-005-226590",
           "ASPS",
           "high"
          ],
          [
           "I018-007-102938",
           "ASPS",
           "high"
          ],
          [
           "H021-281WVS-M1-Q1",
           "ASPS",
           "intermediate"
          ],
          [
           "H021-56GPUX-M1-Q1",
           "ASPS",
           "intermediate"
          ],
          [
           "H021-5YFB63-T1-Q1",
           "ASPS",
           "intermediate"
          ],
          [
           "H021-6VH6W2-T1-Q1",
           "ASPS",
           "intermediate"
          ],
          [
           "H021-ETC3EF-M5",
           "ASPS",
           "intermediate"
          ],
          [
           "H021-J8VNC7-M7-Q1",
           "ASPS",
           "intermediate"
          ],
          [
           "I007-039-130734",
           "ASPS",
           "intermediate"
          ],
          [
           "H021-5YFB63-M3-Q1",
           "ASPS",
           "low"
          ],
          [
           "H021-PWTUGA-M3",
           "ASPS",
           "low"
          ],
          [
           "H021-64DVV7-T1",
           "ASPS",
           "very low"
          ],
          [
           "H021-J8VNC7-M2",
           "ASPS",
           "very low"
          ]
         ],
         "hovertemplate": "Sample name: %{customdata[0]}<br>code_oncotree: %{customdata[1]}<br>TCC GROUP: %{customdata[2]}<extra></extra>",
         "legendgroup": "ASPS",
         "marker": {
          "color": "#FF6692",
          "opacity": 0.7,
          "symbol": "circle"
         },
         "mode": "markers",
         "name": "ASPS",
         "scene": "scene",
         "showlegend": true,
         "type": "scatter3d",
         "x": {
          "bdata": "VNiKQDXwiEBHYYhA/EqIQHnGh0BFWI1AKy2TQG+5jECHYmtAtG+MQLzqh0B61IdAga2LQKIFikDuOoxAqGkgQLozk0A9UopA",
          "dtype": "f4"
         },
         "y": {
          "bdata": "/iBbQD5RaEDeF2lA5JRrQON4dkD1gE1Ag4JOQKT/RkDxwg9ACnQtQGQOZ0AvjG1AIL1XQN6qYUCd0zxAY3iOP96OokBQh4VA",
          "dtype": "f4"
         },
         "z": {
          "bdata": "K6mdvvPGnr7vaKW+bgievinqLr4NYdq9tisKPtoGtb6xfEY/gklPvhRLr77aIYq+ZXmtvlEdr760bcu+Ys51P0cZQT+75V+7",
          "dtype": "f4"
         }
        },
        {
         "customdata": [
          [
           "H021-4V4XLY-T1-Q1",
           "LIPO",
           "high"
          ],
          [
           "H021-SHRT1M-M1-Q1",
           "LIPO",
           "very low"
          ]
         ],
         "hovertemplate": "Sample name: %{customdata[0]}<br>code_oncotree: %{customdata[1]}<br>TCC GROUP: %{customdata[2]}<extra></extra>",
         "legendgroup": "LIPO",
         "marker": {
          "color": "#B6E880",
          "opacity": 0.7,
          "symbol": "circle"
         },
         "mode": "markers",
         "name": "LIPO",
         "scene": "scene",
         "showlegend": true,
         "type": "scatter3d",
         "x": {
          "bdata": "0ssQQXamv0A=",
          "dtype": "f4"
         },
         "y": {
          "bdata": "3MJmQFwzYEA=",
          "dtype": "f4"
         },
         "z": {
          "bdata": "97hOP5Eimj8=",
          "dtype": "f4"
         }
        },
        {
         "customdata": [
          [
           "H021-4YMMRY9-T2-Q1",
           "THYM",
           "high"
          ],
          [
           "H021-EFM37HB-M2-Q1",
           "THYM",
           "high"
          ],
          [
           "H021-F4Z1YL-U1-Q1",
           "THYM",
           "high"
          ],
          [
           "H021-PK9AGE-M1",
           "THYM",
           "high"
          ],
          [
           "H021-WCSVKG-M6",
           "THYM",
           "high"
          ],
          [
           "H021-DMV13G-M1-Q1",
           "THYM",
           "intermediate"
          ],
          [
           "H021-Q9FFSN-M3",
           "THYM",
           "intermediate"
          ],
          [
           "H021-E26393-M1-Q1",
           "THYM",
           "low"
          ],
          [
           "H021-LL58RY-M1-Q1",
           "THYM",
           "low"
          ],
          [
           "H021-7DPSSL-M3-Q1",
           "THYM",
           "very low"
          ],
          [
           "H021-7YQWSN8-M1-Q1",
           "THYM",
           "very low"
          ],
          [
           "H021-A32WDGP-M1-Q1",
           "THYM",
           "very low"
          ],
          [
           "H021-AC1JA4-M1-Q1",
           "THYM",
           "very low"
          ],
          [
           "H021-D93K3Q1-T1-Q1",
           "THYM",
           "very low"
          ],
          [
           "H021-L3A2R1F-M6-Q1",
           "THYM",
           "very low"
          ],
          [
           "H021-Q9FFSN-M1",
           "THYM",
           "very low"
          ],
          [
           "H021-YMGWJ2U-M1-Q1",
           "THYM",
           "very low"
          ]
         ],
         "hovertemplate": "Sample name: %{customdata[0]}<br>code_oncotree: %{customdata[1]}<br>TCC GROUP: %{customdata[2]}<extra></extra>",
         "legendgroup": "THYM",
         "marker": {
          "color": "#FF97FF",
          "opacity": 0.7,
          "symbol": "circle"
         },
         "mode": "markers",
         "name": "THYM",
         "scene": "scene",
         "showlegend": true,
         "type": "scatter3d",
         "x": {
          "bdata": "UuOeQD0Lg0Dbj59A06C0QPTeyUBQ4LdAobHCQFOkEUH+hrZAi8HIQEdCoEDJHrZA6CbCQMVPyUAEj8lAkPDGQJc+pEA=",
          "dtype": "f4"
         },
         "y": {
          "bdata": "QMl4PaGCWb4WmX69lLFAP/Q+lT7lExw/BjaOPgphM0CvTh8//86KPvhS7T/pcDE/JtE1Pgoylj6p744+DoOFPuEWWT4=",
          "dtype": "f4"
         },
         "z": {
          "bdata": "L/TmPxD1zj/pLdM/7nL7P2V9sD84AwJA2nSXPxIjKj/3pwdAZTywP6sxUkC9uARA55VVP1YkuT+6vbk/9jqoP1KjrT8=",
          "dtype": "f4"
         }
        },
        {
         "customdata": [
          [
           "H021-52PSUG-M1-Q1",
           "ACYC",
           "high"
          ],
          [
           "H021-LLUY3N-M1-Q1",
           "ACYC",
           "high"
          ],
          [
           "H021-VCEUSG-T1-Q1",
           "ACYC",
           "high"
          ],
          [
           "H021-VMT5HA-M3-Q1",
           "ACYC",
           "high"
          ],
          [
           "H021-ZHRCET-M2",
           "ACYC",
           "high"
          ],
          [
           "H021-ZVCVAA-T1-Q1",
           "ACYC",
           "high"
          ],
          [
           "H021-NL1BWY-M1-Q1",
           "ACYC",
           "high"
          ],
          [
           "H021-VF8X6Y-M2",
           "ACYC",
           "intermediate"
          ],
          [
           "H021-TV353Q-M4-Q1",
           "ACYC",
           "very low"
          ]
         ],
         "hovertemplate": "Sample name: %{customdata[0]}<br>code_oncotree: %{customdata[1]}<br>TCC GROUP: %{customdata[2]}<extra></extra>",
         "legendgroup": "ACYC",
         "marker": {
          "color": "#FECB52",
          "opacity": 0.7,
          "symbol": "circle"
         },
         "mode": "markers",
         "name": "ACYC",
         "scene": "scene",
         "showlegend": true,
         "type": "scatter3d",
         "x": {
          "bdata": "/YSsQHWmokB0JQVBUBCvQEcPr0DWShhB7mCsQNetcEBUQX1A",
          "dtype": "f4"
         },
         "y": {
          "bdata": "Bw4DQA7G9T9uTnRA3L3/PwwC/j8foGFAijrAP3X+Ez7JpgdA",
          "dtype": "f4"
         },
         "z": {
          "bdata": "jmRhQNv2U0AjXmU+uGZiQBSyYEDeNoc/K2NLQLrgtT8oWjlA",
          "dtype": "f4"
         }
        },
        {
         "customdata": [
          [
           "H021-53AP9F-M2",
           "MRLS",
           "high"
          ],
          [
           "H021-5F7F7Q-T3-Q1",
           "MRLS",
           "high"
          ],
          [
           "H021-5F7F7Q-T4-Q1",
           "MRLS",
           "high"
          ],
          [
           "H021-8579CD-M2-Q1",
           "MRLS",
           "high"
          ],
          [
           "H021-HDK1RD-M8-E2",
           "MRLS",
           "high"
          ],
          [
           "H021-HJ31TY-T1-Q1",
           "MRLS",
           "high"
          ],
          [
           "H021-HJ31TY-T5-Q1",
           "MRLS",
           "high"
          ],
          [
           "H021-LHLAAT-M1",
           "MRLS",
           "high"
          ],
          [
           "H021-NSABSY-M4-Q1",
           "MRLS",
           "high"
          ],
          [
           "H021-5K3JA81-M2-Q1",
           "MRLS",
           "intermediate"
          ],
          [
           "H021-2ZCU8XU-M1-Q1",
           "MRLS",
           "high"
          ],
          [
           "H021-GGXAWN6-T2-Q1",
           "MRLS",
           "intermediate"
          ],
          [
           "H021-HX3DAY-T1-Q1",
           "MRLS",
           "intermediate"
          ],
          [
           "H021-U3NFTQ-T2-Q1",
           "MRLS",
           "intermediate"
          ],
          [
           "H021-U72ATSC-T2-Q1-R2",
           "MRLS",
           "intermediate"
          ],
          [
           "H021-FGV5Y9-T1-Q1",
           "MRLS",
           "intermediate"
          ],
          [
           "H021-KM3QBW-T3-Q1",
           "MRLS",
           "intermediate"
          ],
          [
           "H021-TCPMY4-T5",
           "MRLS",
           "intermediate"
          ],
          [
           "H021-TCPMY4-T4",
           "MRLS",
           "low"
          ],
          [
           "H021-U3WTZ3-M1-Q1",
           "MRLS",
           "low"
          ],
          [
           "H021-W8216PB-M2-Q1",
           "MRLS",
           "low"
          ],
          [
           "H021-U3NFTQ-T1-Q1",
           "MRLS",
           "very low"
          ]
         ],
         "hovertemplate": "Sample name: %{customdata[0]}<br>code_oncotree: %{customdata[1]}<br>TCC GROUP: %{customdata[2]}<extra></extra>",
         "legendgroup": "MRLS",
         "marker": {
          "color": "#636efa",
          "opacity": 0.7,
          "symbol": "circle"
         },
         "mode": "markers",
         "name": "MRLS",
         "scene": "scene",
         "showlegend": true,
         "type": "scatter3d",
         "x": {
          "bdata": "Hk4TQbdfD0F1dupAFAwFQX7X7kDYUhFBCM0KQQR7DEElLQ9BN52WQBIQ6kBhWApBv1q+QIvCD0Fao99AKfzhQDJ860BDoZdABTuvQDlE+0DxP+BAW6bXQA==",
          "dtype": "f4"
         },
         "y": {
          "bdata": "eHdFQCudJEAIOk1ASD4/QMOKUUDuqmNAJw9uQDzXMUCbNyhA8sxgQHLgWkAH+XFAbQP7Pz/pKECCBKBACuWOQFcgTkAYvadA1CWqQM/lWECSSI1Aw890QA==",
          "dtype": "f4"
         },
         "z": {
          "bdata": "TV3rP+wsO0ChUixAVN1BQAzYOkCPNyc//nSSP+ufPkBxEUFAhc/FPtGlOkCgK3c/G5QZQMqvN0BYZdI/96A7QNPDMEBGoHQ/OSuBPwuKO0CF/zFADtPgPw==",
          "dtype": "f4"
         }
        },
        {
         "customdata": [
          [
           "H021-5CMLW9-M1-Q1",
           "ESS",
           "high"
          ],
          [
           "H021-5CMLW9-M3-Q1",
           "ESS",
           "high"
          ],
          [
           "H021-SU7U6F-M1-Q1",
           "ESS",
           "high"
          ]
         ],
         "hovertemplate": "Sample name: %{customdata[0]}<br>code_oncotree: %{customdata[1]}<br>TCC GROUP: %{customdata[2]}<extra></extra>",
         "legendgroup": "ESS",
         "marker": {
          "color": "#EF553B",
          "opacity": 0.7,
          "symbol": "circle"
         },
         "mode": "markers",
         "name": "ESS",
         "scene": "scene",
         "showlegend": true,
         "type": "scatter3d",
         "x": {
          "bdata": "VvYNQZ2ODEG2EfFA",
          "dtype": "f4"
         },
         "y": {
          "bdata": "iQAeQOysEUD1+jlA",
          "dtype": "f4"
         },
         "z": {
          "bdata": "BSG1PrIwoT5eA/U/",
          "dtype": "f4"
         }
        },
        {
         "customdata": [
          [
           "H021-5EMPLL-M1",
           "CCS",
           "high"
          ],
          [
           "H021-DDK5N8-M1-Q1",
           "CCS",
           "high"
          ],
          [
           "H021-F8J91GP-M1-Q1",
           "CCS",
           "high"
          ],
          [
           "H021-WS3DL3-M3-Q1",
           "CCS",
           "high"
          ],
          [
           "I007-029-108166",
           "CCS",
           "high"
          ],
          [
           "I054-019-3M1-P1",
           "CCS",
           "high"
          ],
          [
           "H021-3CAFV3-M1",
           "CCS",
           "intermediate"
          ],
          [
           "H021-PJTHE7-M2-Q1",
           "CCS",
           "intermediate"
          ],
          [
           "H021-Q2DU1B-M5-Q1",
           "CCS",
           "intermediate"
          ],
          [
           "H021-UQYD3U-M3",
           "CCS",
           "intermediate"
          ],
          [
           "H021-Q2DU1B-M3-Q1",
           "CCS",
           "very low"
          ]
         ],
         "hovertemplate": "Sample name: %{customdata[0]}<br>code_oncotree: %{customdata[1]}<br>TCC GROUP: %{customdata[2]}<extra></extra>",
         "legendgroup": "CCS",
         "marker": {
          "color": "#00cc96",
          "opacity": 0.7,
          "symbol": "circle"
         },
         "mode": "markers",
         "name": "CCS",
         "scene": "scene",
         "showlegend": true,
         "type": "scatter3d",
         "x": {
          "bdata": "DU/vQKWIDUHgqQhBRLTeQA/WGUG3CAtBpPvhQLuFhUC9sZ1AGUvgQDfSLkA=",
          "dtype": "f4"
         },
         "y": {
          "bdata": "G8tnQJ7VakCmk5dAvR/jPzINbEAv0CpA1xiCQOvpAUCxhIE/iWmAQBlXyz8=",
          "dtype": "f4"
         },
         "z": {
          "bdata": "FQCPvkrNNEDDFbM/HMMwQESWDUD1AklAil58QG34C75IvyNApF97QG/kjz8=",
          "dtype": "f4"
         }
        },
        {
         "customdata": [
          [
           "H021-5NJ7AY-M2-Q1",
           "NECNOS",
           "high"
          ],
          [
           "H021-FRJRW6H-M1-Q1",
           "NECNOS",
           "high"
          ],
          [
           "H021-JRJTPJ-M1-Q1",
           "NECNOS",
           "high"
          ],
          [
           "H021-7WAHQE-M1",
           "NECNOS",
           "high"
          ],
          [
           "H021-VECF27-M1-Q1",
           "NECNOS",
           "intermediate"
          ],
          [
           "H021-U4KEBY-M4-Q1",
           "NECNOS",
           "intermediate"
          ]
         ],
         "hovertemplate": "Sample name: %{customdata[0]}<br>code_oncotree: %{customdata[1]}<br>TCC GROUP: %{customdata[2]}<extra></extra>",
         "legendgroup": "NECNOS",
         "marker": {
          "color": "#ab63fa",
          "opacity": 0.7,
          "symbol": "circle"
         },
         "mode": "markers",
         "name": "NECNOS",
         "scene": "scene",
         "showlegend": true,
         "type": "scatter3d",
         "x": {
          "bdata": "XV8oQLCTCUF2dbJA5+M5QOklBkH7NqBA",
          "dtype": "f4"
         },
         "y": {
          "bdata": "VLMsvvX9SUBYXP4/+0nNPpiRckAo6sO9",
          "dtype": "f4"
         },
         "z": {
          "bdata": "3HPPP3sm1D4s8fc++REFQHe+cT3Sz9A/",
          "dtype": "f4"
         }
        },
        {
         "customdata": [
          [
           "H021-5VAWTY-M1-Q1",
           "MFS",
           "high"
          ],
          [
           "H021-A7DYMS-U1",
           "MFS",
           "high"
          ],
          [
           "H021-ENQC15-T1",
           "MFS",
           "intermediate"
          ],
          [
           "H021-ENQC15-T3",
           "MFS",
           "intermediate"
          ],
          [
           "H021-HSPL2T-M3-Q1",
           "MFS",
           "intermediate"
          ],
          [
           "H021-REMYWJ-T1-Q1",
           "MFS",
           "low"
          ]
         ],
         "hovertemplate": "Sample name: %{customdata[0]}<br>code_oncotree: %{customdata[1]}<br>TCC GROUP: %{customdata[2]}<extra></extra>",
         "legendgroup": "MFS",
         "marker": {
          "color": "#FFA15A",
          "opacity": 0.7,
          "symbol": "circle"
         },
         "mode": "markers",
         "name": "MFS",
         "scene": "scene",
         "showlegend": true,
         "type": "scatter3d",
         "x": {
          "bdata": "H7K8QLY/9EDl2sFAqzTHQOUU7UDtlMdA",
          "dtype": "f4"
         },
         "y": {
          "bdata": "jB2LQDiijUBFc7RAnkSuQI+jKUD1GU9A",
          "dtype": "f4"
         },
         "z": {
          "bdata": "tXgEQK8RQkBae5A/lJ6sP9Ft8T50yjg/",
          "dtype": "f4"
         }
        },
        {
         "customdata": [
          [
           "H021-5ZJP4HD-M2-Q1",
           "SEF",
           "high"
          ],
          [
           "H021-99S7ZW-M1",
           "SEF",
           "intermediate"
          ]
         ],
         "hovertemplate": "Sample name: %{customdata[0]}<br>code_oncotree: %{customdata[1]}<br>TCC GROUP: %{customdata[2]}<extra></extra>",
         "legendgroup": "SEF",
         "marker": {
          "color": "#19d3f3",
          "opacity": 0.7,
          "symbol": "circle"
         },
         "mode": "markers",
         "name": "SEF",
         "scene": "scene",
         "showlegend": true,
         "type": "scatter3d",
         "x": {
          "bdata": "o9zoQLdq9UA=",
          "dtype": "f4"
         },
         "y": {
          "bdata": "SqqDQMm68T8=",
          "dtype": "f4"
         },
         "z": {
          "bdata": "aj+CQKK4I0A=",
          "dtype": "f4"
         }
        },
        {
         "customdata": [
          [
           "H021-618SRQ-U4-E2",
           "RCSNOS",
           "high"
          ],
          [
           "H021-D6BHS5H-M2-Q1",
           "RCSNOS",
           "high"
          ],
          [
           "H021-EVNRN6-T1-E1",
           "RCSNOS",
           "high"
          ],
          [
           "I005-014-0M1-P1",
           "RCSNOS",
           "high"
          ],
          [
           "I005-016-226696",
           "RCSNOS",
           "high"
          ],
          [
           "I008-006-99146",
           "RCSNOS",
           "high"
          ]
         ],
         "hovertemplate": "Sample name: %{customdata[0]}<br>code_oncotree: %{customdata[1]}<br>TCC GROUP: %{customdata[2]}<extra></extra>",
         "legendgroup": "RCSNOS",
         "marker": {
          "color": "#FF6692",
          "opacity": 0.7,
          "symbol": "circle"
         },
         "mode": "markers",
         "name": "RCSNOS",
         "scene": "scene",
         "showlegend": true,
         "type": "scatter3d",
         "x": {
          "bdata": "bFCiQGGV7UCxbMtA/ITWQIxtC0FO5xVB",
          "dtype": "f4"
         },
         "y": {
          "bdata": "ngV2QJzniEDBN2xA3GmPQBgUMkDVG0VA",
          "dtype": "f4"
         },
         "z": {
          "bdata": "HsliP01eRUBdoZk+79EYQKEbWT7ZYyZA",
          "dtype": "f4"
         }
        },
        {
         "customdata": [
          [
           "H021-6CGB64-M3-Q1",
           "GINETES",
           "high"
          ],
          [
           "H021-E3ZW37-T2-Q1",
           "GINETES",
           "high"
          ],
          [
           "H021-6YEK7Z-M1-Q1",
           "GINETES",
           "intermediate"
          ],
          [
           "H021-S9STPR-M1",
           "GINETES",
           "intermediate"
          ],
          [
           "H021-S9STPR-U1-Q1",
           "GINETES",
           "intermediate"
          ],
          [
           "H021-Y9QDLE-M2-Q1",
           "GINETES",
           "intermediate"
          ]
         ],
         "hovertemplate": "Sample name: %{customdata[0]}<br>code_oncotree: %{customdata[1]}<br>TCC GROUP: %{customdata[2]}<extra></extra>",
         "legendgroup": "GINETES",
         "marker": {
          "color": "#B6E880",
          "opacity": 0.7,
          "symbol": "circle"
         },
         "mode": "markers",
         "name": "GINETES",
         "scene": "scene",
         "showlegend": true,
         "type": "scatter3d",
         "x": {
          "bdata": "yOTDQBEY0EB2YC5ABqe+QGZMwEDhZmhA",
          "dtype": "f4"
         },
         "y": {
          "bdata": "vuqEP80Zpj+0iiNAjMWdPc2xxz2KwBE/",
          "dtype": "f4"
         },
         "z": {
          "bdata": "qbDPP/GQOj/+L4Y/st0+P/WhQz+fjY4/",
          "dtype": "f4"
         }
        },
        {
         "customdata": [
          [
           "H021-6MT8KGA-M2-Q1",
           "SNUC",
           "high"
          ]
         ],
         "hovertemplate": "Sample name: %{customdata[0]}<br>code_oncotree: %{customdata[1]}<br>TCC GROUP: %{customdata[2]}<extra></extra>",
         "legendgroup": "SNUC",
         "marker": {
          "color": "#FF97FF",
          "opacity": 0.7,
          "symbol": "circle"
         },
         "mode": "markers",
         "name": "SNUC",
         "scene": "scene",
         "showlegend": true,
         "type": "scatter3d",
         "x": {
          "bdata": "nSoCQQ==",
          "dtype": "f4"
         },
         "y": {
          "bdata": "lyeHQA==",
          "dtype": "f4"
         },
         "z": {
          "bdata": "R7f+Pw==",
          "dtype": "f4"
         }
        },
        {
         "customdata": [
          [
           "H021-6UBWL9-M1-Q1",
           "PLEMESO",
           "high"
          ],
          [
           "H021-G6ANCQ-M1-Q1",
           "PLEMESO",
           "high"
          ],
          [
           "H021-G78962-M2",
           "PLEMESO",
           "high"
          ],
          [
           "H021-J55SHXJ-T1-Q1",
           "PLEMESO",
           "high"
          ],
          [
           "H021-PY4GWY-M1",
           "PLEMESO",
           "high"
          ],
          [
           "H021-3GKZLA-M1-Q1",
           "PLEMESO",
           "intermediate"
          ],
          [
           "H021-KPKEWQ-M4-Q1",
           "PLEMESO",
           "intermediate"
          ],
          [
           "H021-AGPSR6-M5-Q1",
           "PLEMESO",
           "low"
          ],
          [
           "H021-HEEZDE-T3-Q1",
           "PLEMESO",
           "low"
          ],
          [
           "H021-MLVC1CF-M3-Q1",
           "PLEMESO",
           "very low"
          ]
         ],
         "hovertemplate": "Sample name: %{customdata[0]}<br>code_oncotree: %{customdata[1]}<br>TCC GROUP: %{customdata[2]}<extra></extra>",
         "legendgroup": "PLEMESO",
         "marker": {
          "color": "#FECB52",
          "opacity": 0.7,
          "symbol": "circle"
         },
         "mode": "markers",
         "name": "PLEMESO",
         "scene": "scene",
         "showlegend": true,
         "type": "scatter3d",
         "x": {
          "bdata": "Io2GQPLSk0BvM89AtMOAQFppwkCXaC1ACgJ4QEVrQ0BDVmRAL9q7QA==",
          "dtype": "f4"
         },
         "y": {
          "bdata": "w+WoP/qJyj+dgKlArdslQPJ9FT/vbXi8hYrXP0tz8z4QiHpAizaHQA==",
          "dtype": "f4"
         },
         "z": {
          "bdata": "lDwkQAUtjT+fVBo/pZY6QL9VzT90L/4/1+wuQGuBkT+WbTdAulABQA==",
          "dtype": "f4"
         }
        },
        {
         "customdata": [
          [
           "H021-752RWG-M1-Q1",
           "TNET",
           "high"
          ]
         ],
         "hovertemplate": "Sample name: %{customdata[0]}<br>code_oncotree: %{customdata[1]}<br>TCC GROUP: %{customdata[2]}<extra></extra>",
         "legendgroup": "TNET",
         "marker": {
          "color": "#636efa",
          "opacity": 0.7,
          "symbol": "circle"
         },
         "mode": "markers",
         "name": "TNET",
         "scene": "scene",
         "showlegend": true,
         "type": "scatter3d",
         "x": {
          "bdata": "zXKVQA==",
          "dtype": "f4"
         },
         "y": {
          "bdata": "gX2SPw==",
          "dtype": "f4"
         },
         "z": {
          "bdata": "gJsWQA==",
          "dtype": "f4"
         }
        },
        {
         "customdata": [
          [
           "H021-62T6K1-M3-E2",
           "CHS",
           "low"
          ],
          [
           "H021-7BG79Z-M1-Q1",
           "CHS",
           "high"
          ],
          [
           "H021-JHUP1B-T1-Q1",
           "CHS",
           "high"
          ],
          [
           "H021-RJ1PV3-T1-Q1",
           "CHS",
           "high"
          ],
          [
           "H021-RJ1PV3-T3-Q1",
           "CHS",
           "high"
          ],
          [
           "H021-RJ1PV3-T6-Q1",
           "CHS",
           "high"
          ],
          [
           "H021-33UKSM-M1",
           "CHS",
           "high"
          ],
          [
           "H021-PJCDQK-T1-Q1",
           "CHS",
           "high"
          ],
          [
           "H021-AJDAHQ-T2-Q1",
           "CHS",
           "intermediate"
          ],
          [
           "H021-Z3Q2QK-T2-Q1",
           "CHS",
           "intermediate"
          ],
          [
           "H021-WAPKKMA-T1-Q1",
           "CHS",
           "low"
          ]
         ],
         "hovertemplate": "Sample name: %{customdata[0]}<br>code_oncotree: %{customdata[1]}<br>TCC GROUP: %{customdata[2]}<extra></extra>",
         "legendgroup": "CHS",
         "marker": {
          "color": "#EF553B",
          "opacity": 0.7,
          "symbol": "circle"
         },
         "mode": "markers",
         "name": "CHS",
         "scene": "scene",
         "showlegend": true,
         "type": "scatter3d",
         "x": {
          "bdata": "VxOCQHvQ8UCZ4w1BJTvAQKO4v0A5PcFAPuaUQD8SmkBIbg9BPFbzQByHu0A=",
          "dtype": "f4"
         },
         "y": {
          "bdata": "hPt5QDvIgUARPG9ASHq8P81JwD/gYaw/6YOmQEciekC6un9AmsU8QMEpB0A=",
          "dtype": "f4"
         },
         "z": {
          "bdata": "kIUrQLjvc0B0PDJAL8DVPnEPuT4n/dM+8fBlPxdh+D5Xvvc/vwYAQD5qH0A=",
          "dtype": "f4"
         }
        },
        {
         "customdata": [
          [
           "H021-7CYQUK9-M1-Q1",
           "MEL",
           "high"
          ],
          [
           "H021-JBKVPE-M3-Q1",
           "MEL",
           "high"
          ],
          [
           "H021-NCZY1GC-M1-Q1",
           "MEL",
           "high"
          ],
          [
           "H021-PMCF88-M1-Q1",
           "MEL",
           "high"
          ],
          [
           "H021-SE7VGG-M1-Q1",
           "MEL",
           "high"
          ],
          [
           "H021-TJXM166-M1-Q1",
           "MEL",
           "high"
          ],
          [
           "H021-3FTKAW-T1-Q1",
           "MEL",
           "intermediate"
          ],
          [
           "H021-8KZUNK-M1-Q1",
           "MEL",
           "intermediate"
          ],
          [
           "H021-BLKEG2S-M1-Q1",
           "MEL",
           "intermediate"
          ],
          [
           "H021-F13PDS-M1-Q1",
           "MEL",
           "intermediate"
          ],
          [
           "H021-GGA4MH-M1-Q1",
           "MEL",
           "intermediate"
          ],
          [
           "H021-JXPXG1-T1-Q1",
           "MEL",
           "intermediate"
          ],
          [
           "H021-K7S2TE-M6-Q1",
           "MEL",
           "intermediate"
          ],
          [
           "H021-S53T4J-M1-Q1",
           "MEL",
           "intermediate"
          ],
          [
           "H021-N9LUJG-M2-Q1",
           "MEL",
           "intermediate"
          ],
          [
           "H021-BG5MDH-M1-Q1",
           "MEL",
           "low"
          ],
          [
           "H021-DUNQJ4-T1-Q1",
           "MEL",
           "low"
          ],
          [
           "H021-JBKVPE-M1-Q1",
           "MEL",
           "very low"
          ]
         ],
         "hovertemplate": "Sample name: %{customdata[0]}<br>code_oncotree: %{customdata[1]}<br>TCC GROUP: %{customdata[2]}<extra></extra>",
         "legendgroup": "MEL",
         "marker": {
          "color": "#00cc96",
          "opacity": 0.7,
          "symbol": "circle"
         },
         "mode": "markers",
         "name": "MEL",
         "scene": "scene",
         "showlegend": true,
         "type": "scatter3d",
         "x": {
          "bdata": "ygoCQT6d20AY+wtB7hvjQB62EUGkyL1A6eTpQOMZzUAktQVBEcq2QLzTl0AbgoVAQCjGQIwa5kDBesxAkijWQJCU40CWp/NA",
          "dtype": "f4"
         },
         "y": {
          "bdata": "WydDQAGuvj9DN05AHqBfQCXDMkDkXa4/gM2DQEBGlkBATPk/7B8IQDiV1T8CvwBAyORZQJoJcEB3Z3RA5OyMQERziEDrJ0BA",
          "dtype": "f4"
         },
         "z": {
          "bdata": "tf1CQB1lEUC1fMI/3siovkjSMkBQ2S5AUqKBQBrvsj/k4nk+4hhPQO+YKkAGnwK+vYFpP3uwSUBrOvg/zypFP4zBR0DgCQZA",
          "dtype": "f4"
         }
        },
        {
         "customdata": [
          [
           "H021-7HKMGG4-T1-Q1",
           "PCLPD",
           "high"
          ]
         ],
         "hovertemplate": "Sample name: %{customdata[0]}<br>code_oncotree: %{customdata[1]}<br>TCC GROUP: %{customdata[2]}<extra></extra>",
         "legendgroup": "PCLPD",
         "marker": {
          "color": "#ab63fa",
          "opacity": 0.7,
          "symbol": "circle"
         },
         "mode": "markers",
         "name": "PCLPD",
         "scene": "scene",
         "showlegend": true,
         "type": "scatter3d",
         "x": {
          "bdata": "6jflQA==",
          "dtype": "f4"
         },
         "y": {
          "bdata": "MU6KQA==",
          "dtype": "f4"
         },
         "z": {
          "bdata": "vwVLQA==",
          "dtype": "f4"
         }
        },
        {
         "customdata": [
          [
           "H021-7M7QB7-M1-Q1",
           "PTHC",
           "high"
          ],
          [
           "H021-8JC5R3-M1-Q1",
           "PTHC",
           "intermediate"
          ]
         ],
         "hovertemplate": "Sample name: %{customdata[0]}<br>code_oncotree: %{customdata[1]}<br>TCC GROUP: %{customdata[2]}<extra></extra>",
         "legendgroup": "PTHC",
         "marker": {
          "color": "#FFA15A",
          "opacity": 0.7,
          "symbol": "circle"
         },
         "mode": "markers",
         "name": "PTHC",
         "scene": "scene",
         "showlegend": true,
         "type": "scatter3d",
         "x": {
          "bdata": "7f/VQNe2AEE=",
          "dtype": "f4"
         },
         "y": {
          "bdata": "Mth1QAPY4j8=",
          "dtype": "f4"
         },
         "z": {
          "bdata": "z7FRQAqfUT4=",
          "dtype": "f4"
         }
        },
        {
         "customdata": [
          [
           "H021-7QCREA-M4",
           "COAD",
           "high"
          ],
          [
           "H021-K614AF-M2-Q1",
           "COAD",
           "high"
          ],
          [
           "H021-7JJYMV-M2-Q1",
           "COAD",
           "intermediate"
          ],
          [
           "H021-H42G69-M2-Q1",
           "COAD",
           "intermediate"
          ],
          [
           "H021-W7ENJM-M4-Q1",
           "COAD",
           "intermediate"
          ],
          [
           "H021-SY1BYDF-M1-Q1",
           "COAD",
           "intermediate"
          ],
          [
           "H021-XA7KZM-M3-Q1",
           "COAD",
           "intermediate"
          ],
          [
           "H021-1TL7YW-M4-Q1",
           "COAD",
           "low"
          ],
          [
           "H021-7CCGJ4-M3-Q1",
           "COAD",
           "low"
          ],
          [
           "H021-DVXCP3-M1-Q1",
           "COAD",
           "low"
          ],
          [
           "H021-GAC568-T2-Q1",
           "COAD",
           "low"
          ],
          [
           "H021-J7RC5V-M1-Q1",
           "COAD",
           "low"
          ],
          [
           "H021-JDMT53-T2-Q1",
           "COAD",
           "low"
          ],
          [
           "H021-2DK8S2B-T3-Q1",
           "COAD",
           "very low"
          ],
          [
           "H021-MLZGAS-M1-Q1",
           "COAD",
           "very low"
          ],
          [
           "H021-U73C8J1-M1-Q1",
           "COAD",
           "very low"
          ]
         ],
         "hovertemplate": "Sample name: %{customdata[0]}<br>code_oncotree: %{customdata[1]}<br>TCC GROUP: %{customdata[2]}<extra></extra>",
         "legendgroup": "COAD",
         "marker": {
          "color": "#19d3f3",
          "opacity": 0.7,
          "symbol": "circle"
         },
         "mode": "markers",
         "name": "COAD",
         "scene": "scene",
         "showlegend": true,
         "type": "scatter3d",
         "x": {
          "bdata": "302IQI8Hm0AM3l9AeLBBQPnit0DVAmdAmt9CQOww3UCxa2dABxUMQLWfa0DFggdAnKCqQGdVa0BqUA9A6mYWQA==",
          "dtype": "f4"
         },
         "y": {
          "bdata": "Rk5Zvr+O6z9p8FBADE/UP8ZunT9rE9I9MbIiQAVIjED/CwFAZLiCvjpHQkD0yIu+O9eRP317EUBuOQK/DgojPg==",
          "dtype": "f4"
         },
         "z": {
          "bdata": "5K3cPwNsOj/rQhdA6BZfPzbYpT9YLbA/aQ9oP0Q1K0CSh68+99+WP5W6OkBJcsE//27vP4zftj/Kz8E/IljjPw==",
          "dtype": "f4"
         }
        },
        {
         "customdata": [
          [
           "H021-82JNWB-T1-Q1",
           "DIFG",
           "high"
          ],
          [
           "H021-8TH97K-T1-Q1",
           "DIFG",
           "high"
          ],
          [
           "H021-9SJV64-T1-Q1",
           "DIFG",
           "high"
          ],
          [
           "H021-C7DD21S-T1-Q1",
           "DIFG",
           "high"
          ],
          [
           "H021-MNL8UP-T1-Q1",
           "DIFG",
           "high"
          ],
          [
           "H021-NTAHUW-T1-Q1",
           "DIFG",
           "high"
          ],
          [
           "H021-NTAHUW-T2-Q1",
           "DIFG",
           "high"
          ],
          [
           "H021-PS47PJU-T2-Q1",
           "DIFG",
           "high"
          ],
          [
           "H021-S717PM-T1",
           "DIFG",
           "high"
          ],
          [
           "H021-W3ZFUV-T1-E1",
           "DIFG",
           "high"
          ],
          [
           "H021-KVEGE9C-T1-Q1",
           "DIFG",
           "intermediate"
          ],
          [
           "H021-NBNJR5B-T1-Q1",
           "DIFG",
           "intermediate"
          ],
          [
           "H021-T9LCEZZ-T1-Q1",
           "DIFG",
           "intermediate"
          ],
          [
           "H021-3RLVZS-T1-Q1",
           "DIFG",
           "low"
          ],
          [
           "H021-VFM3B1-T1-Q1",
           "DIFG",
           "low"
          ],
          [
           "H021-XBLS3R-M1-Q1",
           "DIFG",
           "low"
          ],
          [
           "H021-EAA6P2Y-T1-Q1",
           "DIFG",
           "very low"
          ]
         ],
         "hovertemplate": "Sample name: %{customdata[0]}<br>code_oncotree: %{customdata[1]}<br>TCC GROUP: %{customdata[2]}<extra></extra>",
         "legendgroup": "DIFG",
         "marker": {
          "color": "#FF6692",
          "opacity": 0.7,
          "symbol": "circle"
         },
         "mode": "markers",
         "name": "DIFG",
         "scene": "scene",
         "showlegend": true,
         "type": "scatter3d",
         "x": {
          "bdata": "5ufzQGEK8UCQWPJA4TAKQa/G7UC7OPJAK5niQLnY60BXcQxBC4zyQN5/4kDoxdxA7UTrQLYH5kDRv+VA9l7kQHYa4EA=",
          "dtype": "f4"
         },
         "y": {
          "bdata": "oDOVQN7MmUDpvJNApkcYQCYWlUACo5NAJqafQLrSkkCeeCVABqWSQCh3XUBrfpNAWsCVQO3pnUDcwWJAUvSdQOd9oUA=",
          "dtype": "f4"
         },
         "z": {
          "bdata": "QEGXviFVHb0/sa2+1u4wPjvUMj1dsaO+d6GBPfv1HL7IEqY9hxoqveFtkr6ZjpE+4KDtvdcPnj3OEN2+qCPMPSwDtT0=",
          "dtype": "f4"
         }
        },
        {
         "customdata": [
          [
           "H021-86LW15-T2-Q1",
           "CENE",
           "high"
          ]
         ],
         "hovertemplate": "Sample name: %{customdata[0]}<br>code_oncotree: %{customdata[1]}<br>TCC GROUP: %{customdata[2]}<extra></extra>",
         "legendgroup": "CENE",
         "marker": {
          "color": "#B6E880",
          "opacity": 0.7,
          "symbol": "circle"
         },
         "mode": "markers",
         "name": "CENE",
         "scene": "scene",
         "showlegend": true,
         "type": "scatter3d",
         "x": {
          "bdata": "keSEQA==",
          "dtype": "f4"
         },
         "y": {
          "bdata": "92VLPw==",
          "dtype": "f4"
         },
         "z": {
          "bdata": "8A8OQA==",
          "dtype": "f4"
         }
        },
        {
         "customdata": [
          [
           "H021-8DSJKN-T1-Q1",
           "MPNST",
           "high"
          ],
          [
           "H021-FJW4LA-M1-Q1",
           "MPNST",
           "high"
          ],
          [
           "H021-QSF764-T1-Q1",
           "MPNST",
           "high"
          ],
          [
           "H021-VGVHN6-T3",
           "MPNST",
           "high"
          ],
          [
           "H021-WJQEW5-T1",
           "MPNST",
           "high"
          ],
          [
           "I002-019-1T1-P1",
           "MPNST",
           "high"
          ],
          [
           "I007-126-1T1-P1",
           "MPNST",
           "high"
          ],
          [
           "I012-003-1T1-P1",
           "MPNST",
           "high"
          ],
          [
           "I049-022-XT1-P1",
           "MPNST",
           "high"
          ],
          [
           "H021-CQK51F-M1-Q1",
           "MPNST",
           "intermediate"
          ],
          [
           "H021-HG4SF7-M1-Q1",
           "MPNST",
           "intermediate"
          ],
          [
           "H021-HGG6RY-M1-Q1",
           "MPNST",
           "intermediate"
          ],
          [
           "H021-JDDYR6-T1-Q1",
           "MPNST",
           "low"
          ],
          [
           "H021-VDA4RJ-M1",
           "MPNST",
           "low"
          ],
          [
           "H021-93RXHR-T1-Q1",
           "MPNST",
           "very low"
          ],
          [
           "H021-93RXHR-T2-Q1",
           "MPNST",
           "very low"
          ]
         ],
         "hovertemplate": "Sample name: %{customdata[0]}<br>code_oncotree: %{customdata[1]}<br>TCC GROUP: %{customdata[2]}<extra></extra>",
         "legendgroup": "MPNST",
         "marker": {
          "color": "#FF97FF",
          "opacity": 0.7,
          "symbol": "circle"
         },
         "mode": "markers",
         "name": "MPNST",
         "scene": "scene",
         "showlegend": true,
         "type": "scatter3d",
         "x": {
          "bdata": "TtALQdKu6UCscyBBbTIBQeH920AL5t9APe0CQYJQ0UCY8sVAXW+BQIMX3EBXZ31AvPxQQOiZAEHFDaJASf2QQA==",
          "dtype": "f4"
         },
         "y": {
          "bdata": "ulVzQHmFhEDJHI9AP2alQK0pq0DaGg5Bc92hQB8DsEDGGqBAwcZZQKR8rEC2qxNAIaYCQNSpoECeRqdAN9teQA==",
          "dtype": "f4"
         },
         "z": {
          "bdata": "qxwIQNzlgUBFPeY/iE5kPw8EAT+RmhlAnHmDP1ZVPD9YCtg/cT5BP0DLCz/UezxAYAR6P7Waij+ELpE/cTjhPg==",
          "dtype": "f4"
         }
        },
        {
         "customdata": [
          [
           "H021-8XMJ4MY-T1-Q1",
           "THAP",
           "high"
          ],
          [
           "H021-8HZGNY-T1-Q1",
           "THAP",
           "intermediate"
          ],
          [
           "H021-CV2H9C-M2-Q1",
           "THAP",
           "intermediate"
          ],
          [
           "H021-KLAV6A-M6-Q1",
           "THAP",
           "intermediate"
          ],
          [
           "H021-919B7L-M2-Q1",
           "THAP",
           "intermediate"
          ]
         ],
         "hovertemplate": "Sample name: %{customdata[0]}<br>code_oncotree: %{customdata[1]}<br>TCC GROUP: %{customdata[2]}<extra></extra>",
         "legendgroup": "THAP",
         "marker": {
          "color": "#FECB52",
          "opacity": 0.7,
          "symbol": "circle"
         },
         "mode": "markers",
         "name": "THAP",
         "scene": "scene",
         "showlegend": true,
         "type": "scatter3d",
         "x": {
          "bdata": "jbgRQfp4AEHm7iJANBPDQF7eS0A=",
          "dtype": "f4"
         },
         "y": {
          "bdata": "Ymh8QI8l5T/M2Oe+YJFqQLubAUA=",
          "dtype": "f4"
         },
         "z": {
          "bdata": "CkHTPy1RSj73psc/17+0P6pTgD8=",
          "dtype": "f4"
         }
        },
        {
         "customdata": [
          [
           "H021-9QJVT5-T1-E1",
           "RNET",
           "high"
          ]
         ],
         "hovertemplate": "Sample name: %{customdata[0]}<br>code_oncotree: %{customdata[1]}<br>TCC GROUP: %{customdata[2]}<extra></extra>",
         "legendgroup": "RNET",
         "marker": {
          "color": "#636efa",
          "opacity": 0.7,
          "symbol": "circle"
         },
         "mode": "markers",
         "name": "RNET",
         "scene": "scene",
         "showlegend": true,
         "type": "scatter3d",
         "x": {
          "bdata": "oJ7XQA==",
          "dtype": "f4"
         },
         "y": {
          "bdata": "XMj2Pw==",
          "dtype": "f4"
         },
         "z": {
          "bdata": "l5QaPw==",
          "dtype": "f4"
         }
        },
        {
         "customdata": [
          [
           "H021-9QVK3SZ-T4-Q1",
           "MYCHS",
           "high"
          ],
          [
           "H021-K756JR-M1-Q1",
           "MYCHS",
           "high"
          ],
          [
           "H021-VEPZ3V-M1",
           "MYCHS",
           "high"
          ],
          [
           "H021-HC9ZD6-U1-E2",
           "MYCHS",
           "intermediate"
          ],
          [
           "H021-BXZS35-M1-Q2",
           "MYCHS",
           "intermediate"
          ]
         ],
         "hovertemplate": "Sample name: %{customdata[0]}<br>code_oncotree: %{customdata[1]}<br>TCC GROUP: %{customdata[2]}<extra></extra>",
         "legendgroup": "MYCHS",
         "marker": {
          "color": "#EF553B",
          "opacity": 0.7,
          "symbol": "circle"
         },
         "mode": "markers",
         "name": "MYCHS",
         "scene": "scene",
         "showlegend": true,
         "type": "scatter3d",
         "x": {
          "bdata": "r/ihQMP/mEAPxgtBf1SoQLhYS0A=",
          "dtype": "f4"
         },
         "y": {
          "bdata": "1SF9QOOuaUBDDQpA77CAQAjfFUA=",
          "dtype": "f4"
         },
         "z": {
          "bdata": "PidMP5faBT/GiMU+FOg/Pxubaz8=",
          "dtype": "f4"
         }
        },
        {
         "customdata": [
          [
           "H021-A9FSW4-T1-Q1",
           "PLLS",
           "high"
          ],
          [
           "H021-5V29NB-M3-Q1",
           "PLLS",
           "intermediate"
          ]
         ],
         "hovertemplate": "Sample name: %{customdata[0]}<br>code_oncotree: %{customdata[1]}<br>TCC GROUP: %{customdata[2]}<extra></extra>",
         "legendgroup": "PLLS",
         "marker": {
          "color": "#00cc96",
          "opacity": 0.7,
          "symbol": "circle"
         },
         "mode": "markers",
         "name": "PLLS",
         "scene": "scene",
         "showlegend": true,
         "type": "scatter3d",
         "x": {
          "bdata": "gN7bQMkJ7EA=",
          "dtype": "f4"
         },
         "y": {
          "bdata": "hsa5P8mFlEA=",
          "dtype": "f4"
         },
         "z": {
          "bdata": "oxTQP9HQXkA=",
          "dtype": "f4"
         }
        },
        {
         "customdata": [
          [
           "H021-AGUNAEQ-M2-Q1",
           "PANET",
           "high"
          ],
          [
           "H021-BSMKHF-M1-Q1",
           "PANET",
           "high"
          ],
          [
           "H021-GAYFAQ3-M1-Q1",
           "PANET",
           "high"
          ],
          [
           "H021-QJF2SL-M2",
           "PANET",
           "high"
          ],
          [
           "H021-G1XT3E-T3-Q1",
           "PANET",
           "high"
          ],
          [
           "H021-7NB7BX-M3-Q1",
           "PANET",
           "intermediate"
          ],
          [
           "H021-GEY8HJ-M2-Q1",
           "PANET",
           "intermediate"
          ],
          [
           "H021-GS351U-M1-Q1",
           "PANET",
           "intermediate"
          ],
          [
           "H021-PZ248J-M2",
           "PANET",
           "intermediate"
          ],
          [
           "H021-Q9DTLGU-M1-Q1",
           "PANET",
           "intermediate"
          ],
          [
           "H021-SDFZB4X-M3-Q1",
           "PANET",
           "intermediate"
          ],
          [
           "H021-SKBNGP-M4-Q1",
           "PANET",
           "intermediate"
          ],
          [
           "H021-T7KGC4-M3-Q1",
           "PANET",
           "intermediate"
          ],
          [
           "H021-U7NB3J-M7",
           "PANET",
           "intermediate"
          ],
          [
           "H021-W9S39T-M1",
           "PANET",
           "intermediate"
          ],
          [
           "H021-18FRJJ-M5-Q1",
           "PANET",
           "low"
          ],
          [
           "H021-3HP1HA-M1-Q1",
           "PANET",
           "low"
          ],
          [
           "H021-4VJZW2-M6-Q1",
           "PANET",
           "low"
          ],
          [
           "H021-YJECTB-M4-Q1",
           "PANET",
           "low"
          ]
         ],
         "hovertemplate": "Sample name: %{customdata[0]}<br>code_oncotree: %{customdata[1]}<br>TCC GROUP: %{customdata[2]}<extra></extra>",
         "legendgroup": "PANET",
         "marker": {
          "color": "#ab63fa",
          "opacity": 0.7,
          "symbol": "circle"
         },
         "mode": "markers",
         "name": "PANET",
         "scene": "scene",
         "showlegend": true,
         "type": "scatter3d",
         "x": {
          "bdata": "Z+7UQC6Dw0ChiLRA9zW1QFEquEDd87lAVOinQAU4H0A2y9xA6EQAQLDXtECci0xA8Z4XQDdq2kCM7wxAmsMqQITrFECO2JZABOo0QA==",
          "dtype": "f4"
         },
         "y": {
          "bdata": "ccvYP0QOYj9JqO8/DovtP1XeBT8yGKo/8vydP1ghOz0Qkx1A1YIGv/4j9T8Aeqo/6jDkPaTXPkATCRK+5bPjPqPhkT5dC6BA4ae7Pg==",
          "dtype": "f4"
         },
         "z": {
          "bdata": "SECdP9kJIz/P5f8+y+vnPiTpiT9fkoc/6mTxP2Tsxj/Clk8/JNywP85X3j6t3OE/IVGKP/5uG78/cJU/HfiDP8sYuz/xsTA//ealPw==",
          "dtype": "f4"
         }
        },
        {
         "customdata": [
          [
           "H021-AR786E-M12",
           "ARMS",
           "high"
          ],
          [
           "H021-7Q96VB-T2-Q1",
           "ARMS",
           "intermediate"
          ],
          [
           "H021-HZYN318-T2-Q1",
           "ARMS",
           "high"
          ],
          [
           "H021-LGAPJC-M1",
           "ARMS",
           "high"
          ],
          [
           "H021-683NYUB-M1-Q1",
           "ARMS",
           "high"
          ],
          [
           "I002-010-106444",
           "ARMS",
           "high"
          ],
          [
           "I002-029-1T1-P1",
           "ARMS",
           "high"
          ],
          [
           "I002-036-0T1-P1",
           "ARMS",
           "high"
          ],
          [
           "I002-037-0T1-P1",
           "ARMS",
           "high"
          ],
          [
           "I005-018-1M1-P1",
           "ARMS",
           "high"
          ],
          [
           "I007-007-80690",
           "ARMS",
           "high"
          ],
          [
           "I007-048-4M1-P1",
           "ARMS",
           "high"
          ],
          [
           "I007-148-1T1-P1",
           "ARMS",
           "high"
          ],
          [
           "I010-013-0T1-P1",
           "ARMS",
           "high"
          ],
          [
           "I010-021-226690",
           "ARMS",
           "high"
          ],
          [
           "I010-022-226744",
           "ARMS",
           "high"
          ],
          [
           "I010-028-291004",
           "ARMS",
           "high"
          ],
          [
           "I014-014-1T1-P1",
           "ARMS",
           "high"
          ],
          [
           "I015-006-107208",
           "ARMS",
           "high"
          ],
          [
           "I022-018-98376",
           "ARMS",
           "high"
          ],
          [
           "I023-037-0T1-P1",
           "ARMS",
           "high"
          ],
          [
           "I023-047-9T1-P1",
           "ARMS",
           "high"
          ],
          [
           "I024-020-127332",
           "ARMS",
           "high"
          ],
          [
           "I026-012-1M1-P1",
           "ARMS",
           "high"
          ],
          [
           "I032-022-1M1-P1",
           "ARMS",
           "high"
          ],
          [
           "I032-022-9M1-P1",
           "ARMS",
           "high"
          ],
          [
           "I036-012-107936",
           "ARMS",
           "high"
          ],
          [
           "I041-007-1T1-P1",
           "ARMS",
           "high"
          ],
          [
           "I042-048-1T1-P1",
           "ARMS",
           "high"
          ],
          [
           "I043-001-80842",
           "ARMS",
           "high"
          ],
          [
           "I043-005-130270",
           "ARMS",
           "high"
          ],
          [
           "I043-005-95540",
           "ARMS",
           "high"
          ],
          [
           "I046-011-2T1-P1",
           "ARMS",
           "high"
          ],
          [
           "I046-018-1M1",
           "ARMS",
           "high"
          ],
          [
           "I047-021-1T1-P1",
           "ARMS",
           "high"
          ],
          [
           "I047-035-1M1-P1",
           "ARMS",
           "high"
          ],
          [
           "I049-012-2M1-P1",
           "ARMS",
           "high"
          ],
          [
           "I052-003-93894",
           "ARMS",
           "high"
          ],
          [
           "I063-072-0M1-P1",
           "ARMS",
           "high"
          ],
          [
           "I070-029-1M1-P1",
           "ARMS",
           "high"
          ],
          [
           "I076-027-2M1-P1",
           "ARMS",
           "high"
          ],
          [
           "I137-003-84050",
           "ARMS",
           "high"
          ],
          [
           "H021-GDTFYK-M2",
           "ARMS",
           "intermediate"
          ],
          [
           "I018-037-1T1-P1",
           "ARMS",
           "intermediate"
          ],
          [
           "I070-070-9T1",
           "ARMS",
           "very low"
          ]
         ],
         "hovertemplate": "Sample name: %{customdata[0]}<br>code_oncotree: %{customdata[1]}<br>TCC GROUP: %{customdata[2]}<extra></extra>",
         "legendgroup": "ARMS",
         "marker": {
          "color": "#FFA15A",
          "opacity": 0.7,
          "symbol": "circle"
         },
         "mode": "markers",
         "name": "ARMS",
         "scene": "scene",
         "showlegend": true,
         "type": "scatter3d",
         "x": {
          "bdata": "g7LZQJEf6UCOc9pALNwGQZtfGEG0gRpBizICQQg7mUDlZBpBejgSQWVM8kBHnhRBL5ISQQkaEEESivJApm//QC7HD0FjQhNBkhEcQUcd/UALFxlBk8ANQYbBGkFndBNBMckdQcSOHkErQBpB4OffQOL/GUESRwZBZW0BQSXWA0E2DflAGCcbQXyB60DX8wFB7q4JQUrKFEGpsxZBpTwBQVl/D0FTehlBIF+/QLBJtkBDjc1A",
          "dtype": "f4"
         },
         "y": {
          "bdata": "3HrLPyxHcEBj8MI/FiNUQMiWTUCD+l5APQx6QBiPdUBXHmFAbImEQIIJaEBGuEZA5fRvQOO7e0CulmdAJvl2QMyReUA8k0FAlYKEQLeAakCal1ZADp4/QMj1YUATkTVAzs6LQLiBhkBD1VdAuSIOQYF+YkBFRXJAFSeAQD3tfECyhkhAhYyAQL7LZ0D8UXNATSdrQIDKeECr+n5AEk+CQE3xd0A/8llAa0z4Pvj8q0AwO2RA",
          "dtype": "f4"
         },
         "z": {
          "bdata": "LzeVPyB91z/7lKU/V2wwQH12VT8iOwNAbz+KPyNd8z4TjAdAXEPnP6kluT/GEZ4/QErmP1bo8D9T3Kc/w+KHP+8Idj9a240/hxnoP0rTnz+LiRFALHguQGPDCEDPQa8/kk3mP9pY7z9X1QZA/J0ZQJQKA0Cq34s/unWJP5VEkD+V0Yc/H9vwPyxJoj+gTok/6qkrP1iX4T/Lm/A/45mNP70W6T/jyRJAqCsVQO5uuT8q0mY+",
          "dtype": "f4"
         }
        },
        {
         "customdata": [
          [
           "H021-AUWFSZ-T2-Q1",
           "GNBL",
           "high"
          ]
         ],
         "hovertemplate": "Sample name: %{customdata[0]}<br>code_oncotree: %{customdata[1]}<br>TCC GROUP: %{customdata[2]}<extra></extra>",
         "legendgroup": "GNBL",
         "marker": {
          "color": "#19d3f3",
          "opacity": 0.7,
          "symbol": "circle"
         },
         "mode": "markers",
         "name": "GNBL",
         "scene": "scene",
         "showlegend": true,
         "type": "scatter3d",
         "x": {
          "bdata": "B+7ZQA==",
          "dtype": "f4"
         },
         "y": {
          "bdata": "lylXQA==",
          "dtype": "f4"
         },
         "z": {
          "bdata": "mEtIvg==",
          "dtype": "f4"
         }
        },
        {
         "customdata": [
          [
           "H021-AYLJPCA-M2-Q1",
           "EMCHS",
           "high"
          ],
          [
           "H021-BTYDJX-M3-Q1",
           "EMCHS",
           "low"
          ],
          [
           "H021-HX3DAY-T6-Q1",
           "EMCHS",
           "low"
          ]
         ],
         "hovertemplate": "Sample name: %{customdata[0]}<br>code_oncotree: %{customdata[1]}<br>TCC GROUP: %{customdata[2]}<extra></extra>",
         "legendgroup": "EMCHS",
         "marker": {
          "color": "#FF6692",
          "opacity": 0.7,
          "symbol": "circle"
         },
         "mode": "markers",
         "name": "EMCHS",
         "scene": "scene",
         "showlegend": true,
         "type": "scatter3d",
         "x": {
          "bdata": "ha66QF3imECN4ZNA",
          "dtype": "f4"
         },
         "y": {
          "bdata": "imkCQAcndUBw12tA",
          "dtype": "f4"
         },
         "z": {
          "bdata": "rCAcQNnIyz6Xkqk+",
          "dtype": "f4"
         }
        },
        {
         "customdata": [
          [
           "H021-B58HYJ-M1-Q1",
           "CAEXPA",
           "high"
          ]
         ],
         "hovertemplate": "Sample name: %{customdata[0]}<br>code_oncotree: %{customdata[1]}<br>TCC GROUP: %{customdata[2]}<extra></extra>",
         "legendgroup": "CAEXPA",
         "marker": {
          "color": "#B6E880",
          "opacity": 0.7,
          "symbol": "circle"
         },
         "mode": "markers",
         "name": "CAEXPA",
         "scene": "scene",
         "showlegend": true,
         "type": "scatter3d",
         "x": {
          "bdata": "O+uqQA==",
          "dtype": "f4"
         },
         "y": {
          "bdata": "CCaoQA==",
          "dtype": "f4"
         },
         "z": {
          "bdata": "UCOTPw==",
          "dtype": "f4"
         }
        },
        {
         "customdata": [
          [
           "H021-BB23V81-T1-Q1",
           "BCAC",
           "high"
          ],
          [
           "H021-MRRBED-M2-Q1",
           "BCAC",
           "intermediate"
          ]
         ],
         "hovertemplate": "Sample name: %{customdata[0]}<br>code_oncotree: %{customdata[1]}<br>TCC GROUP: %{customdata[2]}<extra></extra>",
         "legendgroup": "BCAC",
         "marker": {
          "color": "#FF97FF",
          "opacity": 0.7,
          "symbol": "circle"
         },
         "mode": "markers",
         "name": "BCAC",
         "scene": "scene",
         "showlegend": true,
         "type": "scatter3d",
         "x": {
          "bdata": "4bsOQX2e4kA=",
          "dtype": "f4"
         },
         "y": {
          "bdata": "apGDQCG6p0A=",
          "dtype": "f4"
         },
         "z": {
          "bdata": "0nXhP+GD0D8=",
          "dtype": "f4"
         }
        },
        {
         "customdata": [
          [
           "H021-BNYT4K6-M2-Q1",
           "GIST",
           "high"
          ],
          [
           "H021-CG5Q59-M1-Q1",
           "GIST",
           "high"
          ],
          [
           "H021-ETMGAJB-M2-Q1",
           "GIST",
           "high"
          ],
          [
           "H021-F7VR2D-T1",
           "GIST",
           "high"
          ],
          [
           "H021-MLZAFR-M2-Q1",
           "GIST",
           "high"
          ],
          [
           "H021-QL4GEW-T1",
           "GIST",
           "high"
          ],
          [
           "H021-QY2Q95-M1",
           "GIST",
           "high"
          ],
          [
           "H021-YTV8N8-M1",
           "GIST",
           "high"
          ],
          [
           "I044-035-0T1-P1",
           "GIST",
           "high"
          ],
          [
           "H021-2FV6UJ-T3",
           "GIST",
           "intermediate"
          ],
          [
           "H021-TT6C32-M2-Q2",
           "GIST",
           "intermediate"
          ],
          [
           "H021-X2UVYS-T1",
           "GIST",
           "intermediate"
          ],
          [
           "H021-ZK65BC-M1-Q1",
           "GIST",
           "intermediate"
          ]
         ],
         "hovertemplate": "Sample name: %{customdata[0]}<br>code_oncotree: %{customdata[1]}<br>TCC GROUP: %{customdata[2]}<extra></extra>",
         "legendgroup": "GIST",
         "marker": {
          "color": "#FECB52",
          "opacity": 0.7,
          "symbol": "circle"
         },
         "mode": "markers",
         "name": "GIST",
         "scene": "scene",
         "showlegend": true,
         "type": "scatter3d",
         "x": {
          "bdata": "fd0QQQaC00AbiP5AfYvcQC0J2kA1IuFAkFu6QBxdyUDJed1AljKqQJs60kCYV+hA8r7kQA==",
          "dtype": "f4"
         },
         "y": {
          "bdata": "W947QB5IPkBN9ipA1DSPQJFOxj8ohjBAJM/bP7sjoj84vpBAohimQAtMTUCa6UxAOm1kQA==",
          "dtype": "f4"
         },
         "z": {
          "bdata": "1ydTP9NK674k+y5AqC8aPrPlJ0CmZ2c/fgcCP2TfCD8t6u09pIONPzQhB71QbzNAY3+1vg==",
          "dtype": "f4"
         }
        },
        {
         "customdata": [
          [
           "H021-BPS42D-T2-Q1",
           "LUNE",
           "high"
          ],
          [
           "H021-BZKXV4-M1-Q1",
           "LUNE",
           "high"
          ],
          [
           "H021-EVR4X7-M2-Q1",
           "LUNE",
           "intermediate"
          ],
          [
           "H021-YBKLGT-M1-Q1",
           "LUNE",
           "intermediate"
          ],
          [
           "H021-BPS42D-T3-Q1",
           "LUNE",
           "low"
          ],
          [
           "H021-BZKXV4-M2-Q1",
           "LUNE",
           "low"
          ]
         ],
         "hovertemplate": "Sample name: %{customdata[0]}<br>code_oncotree: %{customdata[1]}<br>TCC GROUP: %{customdata[2]}<extra></extra>",
         "legendgroup": "LUNE",
         "marker": {
          "color": "#636efa",
          "opacity": 0.7,
          "symbol": "circle"
         },
         "mode": "markers",
         "name": "LUNE",
         "scene": "scene",
         "showlegend": true,
         "type": "scatter3d",
         "x": {
          "bdata": "yrqpQDcT0kBIkiNA69uPQEMvs0AUlI1A",
          "dtype": "f4"
         },
         "y": {
          "bdata": "AzvePwInVUBD/zNA7GVvQBUE4z+AS0BA",
          "dtype": "f4"
         },
         "z": {
          "bdata": "e0FFPxxlTrs04ZE/bfNNPiszBz8y9qW+",
          "dtype": "f4"
         }
        },
        {
         "customdata": [
          [
           "H021-BYHFHEU-M2-Q1",
           "VMM",
           "high"
          ],
          [
           "H021-25HCGP-M2-Q1",
           "VMM",
           "intermediate"
          ]
         ],
         "hovertemplate": "Sample name: %{customdata[0]}<br>code_oncotree: %{customdata[1]}<br>TCC GROUP: %{customdata[2]}<extra></extra>",
         "legendgroup": "VMM",
         "marker": {
          "color": "#EF553B",
          "opacity": 0.7,
          "symbol": "circle"
         },
         "mode": "markers",
         "name": "VMM",
         "scene": "scene",
         "showlegend": true,
         "type": "scatter3d",
         "x": {
          "bdata": "PMT1QLb7jkA=",
          "dtype": "f4"
         },
         "y": {
          "bdata": "9MhRQA0iXUA=",
          "dtype": "f4"
         },
         "z": {
          "bdata": "9cNqP7+vB0A=",
          "dtype": "f4"
         }
        },
        {
         "customdata": [
          [
           "H021-C15ZW3-M1-E3",
           "FDCS",
           "high"
          ],
          [
           "H021-3Q1VYU-M13-Q1",
           "FDCS",
           "intermediate"
          ],
          [
           "H021-JKA541B-T1-Q1",
           "FDCS",
           "very low"
          ]
         ],
         "hovertemplate": "Sample name: %{customdata[0]}<br>code_oncotree: %{customdata[1]}<br>TCC GROUP: %{customdata[2]}<extra></extra>",
         "legendgroup": "FDCS",
         "marker": {
          "color": "#00cc96",
          "opacity": 0.7,
          "symbol": "circle"
         },
         "mode": "markers",
         "name": "FDCS",
         "scene": "scene",
         "showlegend": true,
         "type": "scatter3d",
         "x": {
          "bdata": "C/fAQKpQ80BkGMJA",
          "dtype": "f4"
         },
         "y": {
          "bdata": "nAV8QHRh/T9BwDBA",
          "dtype": "f4"
         },
         "z": {
          "bdata": "ByB9PxJeIkA1+kI/",
          "dtype": "f4"
         }
        },
        {
         "customdata": [
          [
           "H021-C4RPTK-M1-Q1",
           "LUCA",
           "high"
          ],
          [
           "H021-XHRT2L-M1-E1",
           "LUCA",
           "high"
          ],
          [
           "H021-J4RQGV-M1",
           "LUCA",
           "high"
          ],
          [
           "H021-BG2P4P-M3-Q1",
           "LUCA",
           "very low"
          ]
         ],
         "hovertemplate": "Sample name: %{customdata[0]}<br>code_oncotree: %{customdata[1]}<br>TCC GROUP: %{customdata[2]}<extra></extra>",
         "legendgroup": "LUCA",
         "marker": {
          "color": "#ab63fa",
          "opacity": 0.7,
          "symbol": "circle"
         },
         "mode": "markers",
         "name": "LUCA",
         "scene": "scene",
         "showlegend": true,
         "type": "scatter3d",
         "x": {
          "bdata": "zuTVQJjUVED7KihAGO0pQA==",
          "dtype": "f4"
         },
         "y": {
          "bdata": "oxj3P+krAD9OoDM+qWGkvg==",
          "dtype": "f4"
         },
         "z": {
          "bdata": "ZMgPPzxKoT+Y6Jc/W7q+Pw==",
          "dtype": "f4"
         }
        },
        {
         "customdata": [
          [
           "H021-C8Y1PP-M1-Q1",
           "LCH",
           "high"
          ],
          [
           "H021-AV98YH-M1",
           "LCH",
           "low"
          ]
         ],
         "hovertemplate": "Sample name: %{customdata[0]}<br>code_oncotree: %{customdata[1]}<br>TCC GROUP: %{customdata[2]}<extra></extra>",
         "legendgroup": "LCH",
         "marker": {
          "color": "#FFA15A",
          "opacity": 0.7,
          "symbol": "circle"
         },
         "mode": "markers",
         "name": "LCH",
         "scene": "scene",
         "showlegend": true,
         "type": "scatter3d",
         "x": {
          "bdata": "RdjBQJSi0kA=",
          "dtype": "f4"
         },
         "y": {
          "bdata": "tKp3QBElE0A=",
          "dtype": "f4"
         },
         "z": {
          "bdata": "HD6DP1/eCj8=",
          "dtype": "f4"
         }
        },
        {
         "customdata": [
          [
           "H021-CEXBTN-M1-Q1",
           "THPA",
           "high"
          ]
         ],
         "hovertemplate": "Sample name: %{customdata[0]}<br>code_oncotree: %{customdata[1]}<br>TCC GROUP: %{customdata[2]}<extra></extra>",
         "legendgroup": "THPA",
         "marker": {
          "color": "#19d3f3",
          "opacity": 0.7,
          "symbol": "circle"
         },
         "mode": "markers",
         "name": "THPA",
         "scene": "scene",
         "showlegend": true,
         "type": "scatter3d",
         "x": {
          "bdata": "4tqbQA==",
          "dtype": "f4"
         },
         "y": {
          "bdata": "qlsBPw==",
          "dtype": "f4"
         },
         "z": {
          "bdata": "BZ78Pw==",
          "dtype": "f4"
         }
        },
        {
         "customdata": [
          [
           "H021-CHWE2F-M1-Q1",
           "SCRMS",
           "high"
          ],
          [
           "I034-036-2T1-P1",
           "SCRMS",
           "high"
          ],
          [
           "I067-007-2M1-P1",
           "SCRMS",
           "high"
          ],
          [
           "H021-1KJALE-M1-E2",
           "SCRMS",
           "intermediate"
          ],
          [
           "H021-LKCJEL-U1-Q1",
           "SCRMS",
           "intermediate"
          ],
          [
           "H021-VZL3LN-T1-Q1",
           "SCRMS",
           "intermediate"
          ],
          [
           "H021-XQGYFN-T2-E2",
           "SCRMS",
           "low"
          ]
         ],
         "hovertemplate": "Sample name: %{customdata[0]}<br>code_oncotree: %{customdata[1]}<br>TCC GROUP: %{customdata[2]}<extra></extra>",
         "legendgroup": "SCRMS",
         "marker": {
          "color": "#FF6692",
          "opacity": 0.7,
          "symbol": "circle"
         },
         "mode": "markers",
         "name": "SCRMS",
         "scene": "scene",
         "showlegend": true,
         "type": "scatter3d",
         "x": {
          "bdata": "JW4MQUHq10DcQxRBO/2pQPnv1UCuBZpAhc+iQA==",
          "dtype": "f4"
         },
         "y": {
          "bdata": "DUFrQKkYp0AoEJJAAnAfP73oo0BzmbA/jAieQA==",
          "dtype": "f4"
         },
         "z": {
          "bdata": "yU43QMTGyj+0d8o/CVSLP7a7+D86kb8/4Hr2Pg==",
          "dtype": "f4"
         }
        },
        {
         "customdata": [
          [
           "H021-CJ2Y9N-T2-Q1",
           "APE",
           "high"
          ],
          [
           "H021-GEYU72-T1",
           "APE",
           "high"
          ]
         ],
         "hovertemplate": "Sample name: %{customdata[0]}<br>code_oncotree: %{customdata[1]}<br>TCC GROUP: %{customdata[2]}<extra></extra>",
         "legendgroup": "APE",
         "marker": {
          "color": "#B6E880",
          "opacity": 0.7,
          "symbol": "circle"
         },
         "mode": "markers",
         "name": "APE",
         "scene": "scene",
         "showlegend": true,
         "type": "scatter3d",
         "x": {
          "bdata": "rfALQSiv7EA=",
          "dtype": "f4"
         },
         "y": {
          "bdata": "ATkYQDTZk0A=",
          "dtype": "f4"
         },
         "z": {
          "bdata": "YoxePvDiBL4=",
          "dtype": "f4"
         }
        },
        {
         "customdata": [
          [
           "H021-CL1T8C-T1-Q1",
           "AML",
           "high"
          ],
          [
           "H021-G7GHPL-T1-Q1",
           "AML",
           "high"
          ],
          [
           "H021-VBNB25-T1-Q1",
           "AML",
           "very low"
          ]
         ],
         "hovertemplate": "Sample name: %{customdata[0]}<br>code_oncotree: %{customdata[1]}<br>TCC GROUP: %{customdata[2]}<extra></extra>",
         "legendgroup": "AML",
         "marker": {
          "color": "#FF97FF",
          "opacity": 0.7,
          "symbol": "circle"
         },
         "mode": "markers",
         "name": "AML",
         "scene": "scene",
         "showlegend": true,
         "type": "scatter3d",
         "x": {
          "bdata": "OU/mQAgMEEFYgFNA",
          "dtype": "f4"
         },
         "y": {
          "bdata": "oYFfQGbLLUB1PxVA",
          "dtype": "f4"
         },
         "z": {
          "bdata": "0CUsQO6yO0CColBA",
          "dtype": "f4"
         }
        },
        {
         "customdata": [
          [
           "H021-CTSFUY-M3-Q1",
           "TT",
           "high"
          ],
          [
           "H021-M3Z7W7-M1-Q1",
           "TT",
           "intermediate"
          ]
         ],
         "hovertemplate": "Sample name: %{customdata[0]}<br>code_oncotree: %{customdata[1]}<br>TCC GROUP: %{customdata[2]}<extra></extra>",
         "legendgroup": "TT",
         "marker": {
          "color": "#FECB52",
          "opacity": 0.7,
          "symbol": "circle"
         },
         "mode": "markers",
         "name": "TT",
         "scene": "scene",
         "showlegend": true,
         "type": "scatter3d",
         "x": {
          "bdata": "m8fEQA7ODEA=",
          "dtype": "f4"
         },
         "y": {
          "bdata": "H8UeP1qdBb8=",
          "dtype": "f4"
         },
         "z": {
          "bdata": "tLcjP3C3vT8=",
          "dtype": "f4"
         }
        },
        {
         "customdata": [
          [
           "H021-D97Y7X-M1-Q1",
           "NSGCT",
           "high"
          ],
          [
           "H021-1GB4TR-M1",
           "NSGCT",
           "intermediate"
          ],
          [
           "H021-6ZLCLY-M1-Q1",
           "NSGCT",
           "intermediate"
          ],
          [
           "H021-8JDE58-M2-Q1",
           "NSGCT",
           "intermediate"
          ],
          [
           "H021-UAGXU2-M1-Q1",
           "NSGCT",
           "intermediate"
          ],
          [
           "H021-FWBZ2B-T1-Q1",
           "NSGCT",
           "low"
          ],
          [
           "H021-E7B8Q3D-M1-Q1",
           "NSGCT",
           "very low"
          ]
         ],
         "hovertemplate": "Sample name: %{customdata[0]}<br>code_oncotree: %{customdata[1]}<br>TCC GROUP: %{customdata[2]}<extra></extra>",
         "legendgroup": "NSGCT",
         "marker": {
          "color": "#636efa",
          "opacity": 0.7,
          "symbol": "circle"
         },
         "mode": "markers",
         "name": "NSGCT",
         "scene": "scene",
         "showlegend": true,
         "type": "scatter3d",
         "x": {
          "bdata": "BZaJQHwoSECs7FdA4oRWQJsGHEBjE2lAN00xQA==",
          "dtype": "f4"
         },
         "y": {
          "bdata": "Jz5WP0HkTT4S8v4/uD9EQJqOZEA7/DdAgS/8Pw==",
          "dtype": "f4"
         },
         "z": {
          "bdata": "Li0LQPzuuT9j1R5A5p9SQOZQsj+icghACpXwPw==",
          "dtype": "f4"
         }
        },
        {
         "customdata": [
          [
           "H021-E6D33M-M3-Q1",
           "UM",
           "high"
          ],
          [
           "H021-KV54HF-T1-Q1",
           "UM",
           "high"
          ],
          [
           "H021-LNJLBC-M1",
           "UM",
           "high"
          ],
          [
           "H021-PAQVNC-M1-Q1",
           "UM",
           "high"
          ],
          [
           "H021-QL9PAA-M1-Q1",
           "UM",
           "high"
          ],
          [
           "H021-UB9MFS-M1-Q1",
           "UM",
           "high"
          ],
          [
           "H021-UB9MFS-M3-Q1",
           "UM",
           "high"
          ],
          [
           "H021-V2RUTS-M1-Q1",
           "UM",
           "high"
          ],
          [
           "H021-VMUZN8-M3-Q1",
           "UM",
           "high"
          ],
          [
           "H021-17Q5ZW-M1-Q1",
           "UM",
           "intermediate"
          ],
          [
           "H021-338SAZ-M1",
           "UM",
           "intermediate"
          ],
          [
           "H021-AAF75G-M2",
           "UM",
           "intermediate"
          ],
          [
           "H021-KBL991-M3-Q1",
           "UM",
           "low"
          ],
          [
           "H021-S3XV5V-M1-Q1",
           "UM",
           "very low"
          ]
         ],
         "hovertemplate": "Sample name: %{customdata[0]}<br>code_oncotree: %{customdata[1]}<br>TCC GROUP: %{customdata[2]}<extra></extra>",
         "legendgroup": "UM",
         "marker": {
          "color": "#EF553B",
          "opacity": 0.7,
          "symbol": "circle"
         },
         "mode": "markers",
         "name": "UM",
         "scene": "scene",
         "showlegend": true,
         "type": "scatter3d",
         "x": {
          "bdata": "7lJ8QA4n70CiW95AHqTgQApD9ECN7NxAntrdQGAFDEFPgelA8pG8QPMjhEAAGoRA6WUzQDRgAUA=",
          "dtype": "f4"
         },
         "y": {
          "bdata": "OTn9P9+h2z8rasI/M/LIP9dQYUDxbQxASJviPyaiM0DzWMw/xOgNQBLiAEAMUU5AmXDdvNGp674=",
          "dtype": "f4"
         },
         "z": {
          "bdata": "oOvBPeFuHkABeRRADhgaQIT3akCrehxATuAaQLd3PEAbtxpAX7M9QCgoib33JEJAgAG4P5ajsT8=",
          "dtype": "f4"
         }
        },
        {
         "customdata": [
          [
           "H021-EVBQQ7-M1",
           "ANSC",
           "high"
          ],
          [
           "H021-FCD4M3-M1-Q1",
           "ANSC",
           "high"
          ],
          [
           "H021-HP8GP8-M1-Q1",
           "ANSC",
           "high"
          ],
          [
           "H021-M5F4QY-M2-Q1",
           "ANSC",
           "high"
          ],
          [
           "H021-XG2F9J-M1-Q1",
           "ANSC",
           "high"
          ],
          [
           "H021-UWVGXP-M1-Q1",
           "ANSC",
           "intermediate"
          ],
          [
           "H021-8A6W54-M3-Q1",
           "ANSC",
           "low"
          ]
         ],
         "hovertemplate": "Sample name: %{customdata[0]}<br>code_oncotree: %{customdata[1]}<br>TCC GROUP: %{customdata[2]}<extra></extra>",
         "legendgroup": "ANSC",
         "marker": {
          "color": "#00cc96",
          "opacity": 0.7,
          "symbol": "circle"
         },
         "mode": "markers",
         "name": "ANSC",
         "scene": "scene",
         "showlegend": true,
         "type": "scatter3d",
         "x": {
          "bdata": "g5+8QNZHckBsPpFAKh2tQIBBE0FsC6RAa/dGQA==",
          "dtype": "f4"
         },
         "y": {
          "bdata": "nM33Pp71/T6gpfQ/DNqPP9TWTkBsCv4+Dus6QA==",
          "dtype": "f4"
         },
         "z": {
          "bdata": "aV3QP+5bCkDvjgRAL/jRPxlf+j9LMxJAlVaxPw==",
          "dtype": "f4"
         }
        },
        {
         "customdata": [
          [
           "H021-EWS4CN-M1-Q1",
           "NETNOS",
           "high"
          ],
          [
           "H021-4EKUZ1-M1-Q1",
           "NETNOS",
           "intermediate"
          ]
         ],
         "hovertemplate": "Sample name: %{customdata[0]}<br>code_oncotree: %{customdata[1]}<br>TCC GROUP: %{customdata[2]}<extra></extra>",
         "legendgroup": "NETNOS",
         "marker": {
          "color": "#ab63fa",
          "opacity": 0.7,
          "symbol": "circle"
         },
         "mode": "markers",
         "name": "NETNOS",
         "scene": "scene",
         "showlegend": true,
         "type": "scatter3d",
         "x": {
          "bdata": "W8+RQJSFZUA=",
          "dtype": "f4"
         },
         "y": {
          "bdata": "wwoHQFFlE0A=",
          "dtype": "f4"
         },
         "z": {
          "bdata": "tizyPyGcAUA=",
          "dtype": "f4"
         }
        },
        {
         "customdata": [
          [
           "H021-F1XEE3-M3-Q1",
           "USARC",
           "high"
          ]
         ],
         "hovertemplate": "Sample name: %{customdata[0]}<br>code_oncotree: %{customdata[1]}<br>TCC GROUP: %{customdata[2]}<extra></extra>",
         "legendgroup": "USARC",
         "marker": {
          "color": "#FFA15A",
          "opacity": 0.7,
          "symbol": "circle"
         },
         "mode": "markers",
         "name": "USARC",
         "scene": "scene",
         "showlegend": true,
         "type": "scatter3d",
         "x": {
          "bdata": "7WELQQ==",
          "dtype": "f4"
         },
         "y": {
          "bdata": "2lgTQA==",
          "dtype": "f4"
         },
         "z": {
          "bdata": "qDiRPg==",
          "dtype": "f4"
         }
        },
        {
         "customdata": [
          [
           "H021-F3N5LJ-T1-Q1",
           "THPD",
           "high"
          ],
          [
           "H021-DGTL6K-M2-Q1-R2",
           "THPD",
           "intermediate"
          ],
          [
           "H021-LXTSW2M-M1-Q1",
           "THPD",
           "intermediate"
          ],
          [
           "H021-MNL1EH-T3-Q1",
           "THPD",
           "intermediate"
          ],
          [
           "H021-MNL1EH-T4-Q1",
           "THPD",
           "intermediate"
          ]
         ],
         "hovertemplate": "Sample name: %{customdata[0]}<br>code_oncotree: %{customdata[1]}<br>TCC GROUP: %{customdata[2]}<extra></extra>",
         "legendgroup": "THPD",
         "marker": {
          "color": "#19d3f3",
          "opacity": 0.7,
          "symbol": "circle"
         },
         "mode": "markers",
         "name": "THPD",
         "scene": "scene",
         "showlegend": true,
         "type": "scatter3d",
         "x": {
          "bdata": "jkxVQGztp0BKwEZAK3hmQMIWZkA=",
          "dtype": "f4"
         },
         "y": {
          "bdata": "Ki1vO3hLWj/hyQJAVgoaP8QRFT8=",
          "dtype": "f4"
         },
         "z": {
          "bdata": "yWkNQJ6hxj+tTmY/BVSNP7G8iT8=",
          "dtype": "f4"
         }
        },
        {
         "customdata": [
          [
           "H021-FAEDHG-M1-Q1",
           "PEMESO",
           "high"
          ],
          [
           "H021-M22J77-M1-Q1",
           "PEMESO",
           "high"
          ]
         ],
         "hovertemplate": "Sample name: %{customdata[0]}<br>code_oncotree: %{customdata[1]}<br>TCC GROUP: %{customdata[2]}<extra></extra>",
         "legendgroup": "PEMESO",
         "marker": {
          "color": "#FF6692",
          "opacity": 0.7,
          "symbol": "circle"
         },
         "mode": "markers",
         "name": "PEMESO",
         "scene": "scene",
         "showlegend": true,
         "type": "scatter3d",
         "x": {
          "bdata": "qgUDQDNklkA=",
          "dtype": "f4"
         },
         "y": {
          "bdata": "paGBQOFwvz8=",
          "dtype": "f4"
         },
         "z": {
          "bdata": "E9UCQHhErj8=",
          "dtype": "f4"
         }
        },
        {
         "customdata": [
          [
           "H021-FDDAKY7-M1-Q1",
           "ALUCA",
           "high"
          ],
          [
           "H021-H5R2S4-M3-Q1",
           "ALUCA",
           "high"
          ],
          [
           "H021-SCBFK5-M3-Q1",
           "ALUCA",
           "high"
          ],
          [
           "H021-XPEYA2-M1-Q1",
           "ALUCA",
           "high"
          ],
          [
           "H021-DMENTM8-M1-Q1",
           "ALUCA",
           "very low"
          ],
          [
           "H021-H5R2S4-M2-Q1",
           "ALUCA",
           "very low"
          ],
          [
           "H021-WVX6MR3-M1-Q1",
           "ALUCA",
           "very low"
          ]
         ],
         "hovertemplate": "Sample name: %{customdata[0]}<br>code_oncotree: %{customdata[1]}<br>TCC GROUP: %{customdata[2]}<extra></extra>",
         "legendgroup": "ALUCA",
         "marker": {
          "color": "#B6E880",
          "opacity": 0.7,
          "symbol": "circle"
         },
         "mode": "markers",
         "name": "ALUCA",
         "scene": "scene",
         "showlegend": true,
         "type": "scatter3d",
         "x": {
          "bdata": "6OTCQLlYS0B9cchAaP+EQP/BskAHVgFAK7YAQA==",
          "dtype": "f4"
         },
         "y": {
          "bdata": "QRDhPwY6Cz+1V+I/o92sP+na6z9/VLC+s40Cvw==",
          "dtype": "f4"
         },
         "z": {
          "bdata": "URceP3GNhj+N70k/RU4IQCV+AD8Nx54/WQKwPw==",
          "dtype": "f4"
         }
        },
        {
         "customdata": [
          [
           "H021-FT48YD-M2",
           "ACCC",
           "high"
          ]
         ],
         "hovertemplate": "Sample name: %{customdata[0]}<br>code_oncotree: %{customdata[1]}<br>TCC GROUP: %{customdata[2]}<extra></extra>",
         "legendgroup": "ACCC",
         "marker": {
          "color": "#FF97FF",
          "opacity": 0.7,
          "symbol": "circle"
         },
         "mode": "markers",
         "name": "ACCC",
         "scene": "scene",
         "showlegend": true,
         "type": "scatter3d",
         "x": {
          "bdata": "2TfzQA==",
          "dtype": "f4"
         },
         "y": {
          "bdata": "Q5ZlQA==",
          "dtype": "f4"
         },
         "z": {
          "bdata": "hIBuQA==",
          "dtype": "f4"
         }
        },
        {
         "customdata": [
          [
           "H021-FXWHRF-T1-Q1",
           "OCSC",
           "high"
          ],
          [
           "H021-CAR71R-T1-Q1",
           "OCSC",
           "intermediate"
          ]
         ],
         "hovertemplate": "Sample name: %{customdata[0]}<br>code_oncotree: %{customdata[1]}<br>TCC GROUP: %{customdata[2]}<extra></extra>",
         "legendgroup": "OCSC",
         "marker": {
          "color": "#FECB52",
          "opacity": 0.7,
          "symbol": "circle"
         },
         "mode": "markers",
         "name": "OCSC",
         "scene": "scene",
         "showlegend": true,
         "type": "scatter3d",
         "x": {
          "bdata": "4biPQFGzVkA=",
          "dtype": "f4"
         },
         "y": {
          "bdata": "d6BBQDdkRkA=",
          "dtype": "f4"
         },
         "z": {
          "bdata": "pOM6QHTbUUA=",
          "dtype": "f4"
         }
        },
        {
         "customdata": [
          [
           "H021-G3NVDT-T2-Q1",
           "ESCC",
           "high"
          ]
         ],
         "hovertemplate": "Sample name: %{customdata[0]}<br>code_oncotree: %{customdata[1]}<br>TCC GROUP: %{customdata[2]}<extra></extra>",
         "legendgroup": "ESCC",
         "marker": {
          "color": "#636efa",
          "opacity": 0.7,
          "symbol": "circle"
         },
         "mode": "markers",
         "name": "ESCC",
         "scene": "scene",
         "showlegend": true,
         "type": "scatter3d",
         "x": {
          "bdata": "riETQQ==",
          "dtype": "f4"
         },
         "y": {
          "bdata": "iK5pQA==",
          "dtype": "f4"
         },
         "z": {
          "bdata": "xdLdPw==",
          "dtype": "f4"
         }
        },
        {
         "customdata": [
          [
           "H021-G6ZY19-T1-Q1",
           "MYEC",
           "high"
          ],
          [
           "H021-KMYMSJ-M1-Q1",
           "MYEC",
           "high"
          ],
          [
           "H021-TJJY44-M1-Q1",
           "MYEC",
           "intermediate"
          ],
          [
           "H021-DBASRR-T1-Q1",
           "MYEC",
           "very low"
          ]
         ],
         "hovertemplate": "Sample name: %{customdata[0]}<br>code_oncotree: %{customdata[1]}<br>TCC GROUP: %{customdata[2]}<extra></extra>",
         "legendgroup": "MYEC",
         "marker": {
          "color": "#EF553B",
          "opacity": 0.7,
          "symbol": "circle"
         },
         "mode": "markers",
         "name": "MYEC",
         "scene": "scene",
         "showlegend": true,
         "type": "scatter3d",
         "x": {
          "bdata": "4pp2QDAcC0FTgudA//DTQA==",
          "dtype": "f4"
         },
         "y": {
          "bdata": "+7JdP0CvGkCj3aBAkitVQA==",
          "dtype": "f4"
         },
         "z": {
          "bdata": "4N3UP+35ID6VE8c/SzywvQ==",
          "dtype": "f4"
         }
        },
        {
         "customdata": [
          [
           "H021-GCYHRH-T1-Q1",
           "MNG",
           "high"
          ],
          [
           "H021-N75UNZ-T2-Q1",
           "MNG",
           "high"
          ]
         ],
         "hovertemplate": "Sample name: %{customdata[0]}<br>code_oncotree: %{customdata[1]}<br>TCC GROUP: %{customdata[2]}<extra></extra>",
         "legendgroup": "MNG",
         "marker": {
          "color": "#00cc96",
          "opacity": 0.7,
          "symbol": "circle"
         },
         "mode": "markers",
         "name": "MNG",
         "scene": "scene",
         "showlegend": true,
         "type": "scatter3d",
         "x": {
          "bdata": "dhenQKGB4EA=",
          "dtype": "f4"
         },
         "y": {
          "bdata": "du6FQKcdgEA=",
          "dtype": "f4"
         },
         "z": {
          "bdata": "Qlo+PwF+eEA=",
          "dtype": "f4"
         }
        },
        {
         "customdata": [
          [
           "H021-GJ7PUN-M2-Q1",
           "OMGCT",
           "high"
          ]
         ],
         "hovertemplate": "Sample name: %{customdata[0]}<br>code_oncotree: %{customdata[1]}<br>TCC GROUP: %{customdata[2]}<extra></extra>",
         "legendgroup": "OMGCT",
         "marker": {
          "color": "#ab63fa",
          "opacity": 0.7,
          "symbol": "circle"
         },
         "mode": "markers",
         "name": "OMGCT",
         "scene": "scene",
         "showlegend": true,
         "type": "scatter3d",
         "x": {
          "bdata": "o2C1QA==",
          "dtype": "f4"
         },
         "y": {
          "bdata": "mrgCQA==",
          "dtype": "f4"
         },
         "z": {
          "bdata": "CFsDPw==",
          "dtype": "f4"
         }
        },
        {
         "customdata": [
          [
           "H021-GUTUCGZ-M1-Q1",
           "COADREAD",
           "intermediate"
          ]
         ],
         "hovertemplate": "Sample name: %{customdata[0]}<br>code_oncotree: %{customdata[1]}<br>TCC GROUP: %{customdata[2]}<extra></extra>",
         "legendgroup": "COADREAD",
         "marker": {
          "color": "#FFA15A",
          "opacity": 0.7,
          "symbol": "circle"
         },
         "mode": "markers",
         "name": "COADREAD",
         "scene": "scene",
         "showlegend": true,
         "type": "scatter3d",
         "x": {
          "bdata": "DiWcQA==",
          "dtype": "f4"
         },
         "y": {
          "bdata": "IlGsvA==",
          "dtype": "f4"
         },
         "z": {
          "bdata": "7rbMPw==",
          "dtype": "f4"
         }
        },
        {
         "customdata": [
          [
           "H021-GSHN75-M2-Q1",
           "MBLNOS",
           "high"
          ]
         ],
         "hovertemplate": "Sample name: %{customdata[0]}<br>code_oncotree: %{customdata[1]}<br>TCC GROUP: %{customdata[2]}<extra></extra>",
         "legendgroup": "MBLNOS",
         "marker": {
          "color": "#19d3f3",
          "opacity": 0.7,
          "symbol": "circle"
         },
         "mode": "markers",
         "name": "MBLNOS",
         "scene": "scene",
         "showlegend": true,
         "type": "scatter3d",
         "x": {
          "bdata": "P1jdQA==",
          "dtype": "f4"
         },
         "y": {
          "bdata": "WTiRPw==",
          "dtype": "f4"
         },
         "z": {
          "bdata": "iu8eQA==",
          "dtype": "f4"
         }
        },
        {
         "customdata": [
          [
           "H021-GUA1P8-M2-Q1",
           "BA",
           "high"
          ],
          [
           "H021-U5PZDV-M2-Q1",
           "BA",
           "high"
          ],
          [
           "H021-QFMYFK-M1-Q1",
           "BA",
           "intermediate"
          ],
          [
           "H021-QRX3NQ-T1-E2",
           "BA",
           "intermediate"
          ],
          [
           "H021-T3LJ7V-T1",
           "BA",
           "intermediate"
          ],
          [
           "H021-VHY17P-M1",
           "BA",
           "intermediate"
          ],
          [
           "H021-XHXA22-M7-Q1",
           "BA",
           "intermediate"
          ],
          [
           "H021-7YBKAY-T2-Q1",
           "BA",
           "low"
          ],
          [
           "H021-WRE78WG-M2-Q1",
           "BA",
           "low"
          ],
          [
           "H021-1AZ5GH-T1",
           "BA",
           "very low"
          ]
         ],
         "hovertemplate": "Sample name: %{customdata[0]}<br>code_oncotree: %{customdata[1]}<br>TCC GROUP: %{customdata[2]}<extra></extra>",
         "legendgroup": "BA",
         "marker": {
          "color": "#FF6692",
          "opacity": 0.7,
          "symbol": "circle"
         },
         "mode": "markers",
         "name": "BA",
         "scene": "scene",
         "showlegend": true,
         "type": "scatter3d",
         "x": {
          "bdata": "4doOQdBWDkE4bfBAMtnRQKiKnEBK69BA5/MBQTfshEAzzqZAsQeQQA==",
          "dtype": "f4"
         },
         "y": {
          "bdata": "yYWJQHaWgUC/uzlA9bqqQDnblkCATZ9AjNSaQLNCU0DtYp5AtLShQA==",
          "dtype": "f4"
         },
         "z": {
          "bdata": "IMJ0P+DhAkD/Srg/uzftPzGzyD4XhMo/HR1CPnLZSEA2Qtw+W+hDPw==",
          "dtype": "f4"
         }
        },
        {
         "customdata": [
          [
           "H021-H2LZWA-M1-Q1",
           "SOC",
           "high"
          ],
          [
           "H021-KT4HC3-M2",
           "SOC",
           "high"
          ],
          [
           "H021-ABQZJ9-M1-Q1",
           "SOC",
           "intermediate"
          ],
          [
           "H021-AUFSB1-M7-Q1",
           "SOC",
           "intermediate"
          ],
          [
           "H021-KU88U7-M1-Q1",
           "SOC",
           "intermediate"
          ],
          [
           "H021-T82USU-M4-Q1",
           "SOC",
           "intermediate"
          ]
         ],
         "hovertemplate": "Sample name: %{customdata[0]}<br>code_oncotree: %{customdata[1]}<br>TCC GROUP: %{customdata[2]}<extra></extra>",
         "legendgroup": "SOC",
         "marker": {
          "color": "#B6E880",
          "opacity": 0.7,
          "symbol": "circle"
         },
         "mode": "markers",
         "name": "SOC",
         "scene": "scene",
         "showlegend": true,
         "type": "scatter3d",
         "x": {
          "bdata": "RBGgQHJCi0DdsIBASmpFQPxYtEDQZidA",
          "dtype": "f4"
         },
         "y": {
          "bdata": "eEx2P87CHUBdB8w/QWlRQJKk4j/q+25A",
          "dtype": "f4"
         },
         "z": {
          "bdata": "PlIOQEFKOUDCMyRAG2kQQHf/EECJNQlA",
          "dtype": "f4"
         }
        },
        {
         "customdata": [
          [
           "H021-HK6LKB-M2-Q1",
           "OPHSC",
           "high"
          ]
         ],
         "hovertemplate": "Sample name: %{customdata[0]}<br>code_oncotree: %{customdata[1]}<br>TCC GROUP: %{customdata[2]}<extra></extra>",
         "legendgroup": "OPHSC",
         "marker": {
          "color": "#FF97FF",
          "opacity": 0.7,
          "symbol": "circle"
         },
         "mode": "markers",
         "name": "OPHSC",
         "scene": "scene",
         "showlegend": true,
         "type": "scatter3d",
         "x": {
          "bdata": "OGCUQA==",
          "dtype": "f4"
         },
         "y": {
          "bdata": "mmj4Pw==",
          "dtype": "f4"
         },
         "z": {
          "bdata": "GJf2Pw==",
          "dtype": "f4"
         }
        },
        {
         "customdata": [
          [
           "H021-5NNJUD-M3-Q1",
           "ESCA",
           "low"
          ],
          [
           "H021-5NNJUD-M1-Q1",
           "ESCA",
           "intermediate"
          ],
          [
           "H021-B1WP5Y-M1-Q1",
           "ESCA",
           "intermediate"
          ],
          [
           "H021-Z3BB3X-M1-Q1",
           "ESCA",
           "intermediate"
          ],
          [
           "H021-FQXTR9-M1-Q1",
           "ESCA",
           "low"
          ]
         ],
         "hovertemplate": "Sample name: %{customdata[0]}<br>code_oncotree: %{customdata[1]}<br>TCC GROUP: %{customdata[2]}<extra></extra>",
         "legendgroup": "ESCA",
         "marker": {
          "color": "#FECB52",
          "opacity": 0.7,
          "symbol": "circle"
         },
         "mode": "markers",
         "name": "ESCA",
         "scene": "scene",
         "showlegend": true,
         "type": "scatter3d",
         "x": {
          "bdata": "/SF8QPYhcUA7Di5AT8ESQDVdg0A=",
          "dtype": "f4"
         },
         "y": {
          "bdata": "ewffP5X0BEDohBdA9mZRQIrlWEA=",
          "dtype": "f4"
         },
         "z": {
          "bdata": "7bxSQPe1WkAvIxpAhXIBQCKYIUA=",
          "dtype": "f4"
         }
        },
        {
         "customdata": [
          [
           "H021-HXKRG5-M1-Q1",
           "PTAD",
           "high"
          ]
         ],
         "hovertemplate": "Sample name: %{customdata[0]}<br>code_oncotree: %{customdata[1]}<br>TCC GROUP: %{customdata[2]}<extra></extra>",
         "legendgroup": "PTAD",
         "marker": {
          "color": "#636efa",
          "opacity": 0.7,
          "symbol": "circle"
         },
         "mode": "markers",
         "name": "PTAD",
         "scene": "scene",
         "showlegend": true,
         "type": "scatter3d",
         "x": {
          "bdata": "DWnQQA==",
          "dtype": "f4"
         },
         "y": {
          "bdata": "9SkMQA==",
          "dtype": "f4"
         },
         "z": {
          "bdata": "GpH3Pg==",
          "dtype": "f4"
         }
        },
        {
         "customdata": [
          [
           "H021-HXWUFC-M1-Q1",
           "SNA",
           "high"
          ],
          [
           "H021-25ABKZ-M1-Q1",
           "SNA",
           "very low"
          ],
          [
           "H021-S5NH1G-M1-Q1",
           "SNA",
           "very low"
          ]
         ],
         "hovertemplate": "Sample name: %{customdata[0]}<br>code_oncotree: %{customdata[1]}<br>TCC GROUP: %{customdata[2]}<extra></extra>",
         "legendgroup": "SNA",
         "marker": {
          "color": "#EF553B",
          "opacity": 0.7,
          "symbol": "circle"
         },
         "mode": "markers",
         "name": "SNA",
         "scene": "scene",
         "showlegend": true,
         "type": "scatter3d",
         "x": {
          "bdata": "k3YRQQyCQED9gLxA",
          "dtype": "f4"
         },
         "y": {
          "bdata": "MfMlQJIvZ0DXOYFA",
          "dtype": "f4"
         },
         "z": {
          "bdata": "HGTmP2sw8j/2gP4/",
          "dtype": "f4"
         }
        },
        {
         "customdata": [
          [
           "H021-JHTL1RU-M1-Q1",
           "PRAD",
           "low"
          ],
          [
           "H021-ARXF4R-M1-Q1",
           "PRAD",
           "intermediate"
          ],
          [
           "H021-WK3CNJ-M3",
           "PRAD",
           "intermediate"
          ],
          [
           "H021-68YVMK-T1-Q1",
           "PRAD",
           "low"
          ],
          [
           "H021-CK9VHH-M1-Q1",
           "PRAD",
           "low"
          ]
         ],
         "hovertemplate": "Sample name: %{customdata[0]}<br>code_oncotree: %{customdata[1]}<br>TCC GROUP: %{customdata[2]}<extra></extra>",
         "legendgroup": "PRAD",
         "marker": {
          "color": "#00cc96",
          "opacity": 0.7,
          "symbol": "circle"
         },
         "mode": "markers",
         "name": "PRAD",
         "scene": "scene",
         "showlegend": true,
         "type": "scatter3d",
         "x": {
          "bdata": "z1uHQIha4UAa905ADvtvQH6CRUA=",
          "dtype": "f4"
         },
         "y": {
          "bdata": "h7VEvsceckDLJ8e97bn7P52y4L4=",
          "dtype": "f4"
         },
         "z": {
          "bdata": "KXfNP7nvUkBe+rU/4UAqQBhqxz8=",
          "dtype": "f4"
         }
        },
        {
         "customdata": [
          [
           "H021-KA2Y38-M2-Q1",
           "GINET",
           "high"
          ],
          [
           "H021-SW2NS5U-M1-Q1",
           "GINET",
           "high"
          ],
          [
           "H021-W3ATXAC-M1-Q1",
           "GINET",
           "high"
          ],
          [
           "H021-WGQSSP-M2-Q1",
           "GINET",
           "high"
          ],
          [
           "H021-UXUUTN-M2-Q1",
           "GINET",
           "high"
          ],
          [
           "H021-3UJK45P-M1-Q1",
           "GINET",
           "intermediate"
          ],
          [
           "H021-GDE7ZW-M2-Q1",
           "GINET",
           "intermediate"
          ],
          [
           "H021-H2N9HR-T1-Q1",
           "GINET",
           "intermediate"
          ],
          [
           "H021-KKM5YL-T2",
           "GINET",
           "low"
          ],
          [
           "H021-ZD413K-M1-Q1",
           "GINET",
           "low"
          ]
         ],
         "hovertemplate": "Sample name: %{customdata[0]}<br>code_oncotree: %{customdata[1]}<br>TCC GROUP: %{customdata[2]}<extra></extra>",
         "legendgroup": "GINET",
         "marker": {
          "color": "#ab63fa",
          "opacity": 0.7,
          "symbol": "circle"
         },
         "mode": "markers",
         "name": "GINET",
         "scene": "scene",
         "showlegend": true,
         "type": "scatter3d",
         "x": {
          "bdata": "n/kDQQR3u0AWWo5AHEToQFJ3ZUAR04FAPXixQHiWAUHOfsxAq/qdQA==",
          "dtype": "f4"
         },
         "y": {
          "bdata": "avh6QC4J3j9Q3n9Aik6MQKEE/j+H2Is/Sx5vP6NnhUCCuH8+ADptPw==",
          "dtype": "f4"
         },
         "z": {
          "bdata": "TBMoPkitBj/vuqu86WXZvVW9tj4R2us/rxv2P4WA/T/hWak/z2sgQA==",
          "dtype": "f4"
         }
        },
        {
         "customdata": [
          [
           "H021-M2MSRE-M1-Q1",
           "ACBC",
           "high"
          ]
         ],
         "hovertemplate": "Sample name: %{customdata[0]}<br>code_oncotree: %{customdata[1]}<br>TCC GROUP: %{customdata[2]}<extra></extra>",
         "legendgroup": "ACBC",
         "marker": {
          "color": "#FFA15A",
          "opacity": 0.7,
          "symbol": "circle"
         },
         "mode": "markers",
         "name": "ACBC",
         "scene": "scene",
         "showlegend": true,
         "type": "scatter3d",
         "x": {
          "bdata": "Yo4IQQ==",
          "dtype": "f4"
         },
         "y": {
          "bdata": "BYyCQA==",
          "dtype": "f4"
         },
         "z": {
          "bdata": "UmD4Pw==",
          "dtype": "f4"
         }
        },
        {
         "customdata": [
          [
           "H021-M4Z12B-M1-Q1",
           "PHC",
           "high"
          ],
          [
           "H021-RRY5EK-M1-Q1",
           "PHC",
           "high"
          ],
          [
           "H021-5867EC-M5-Q1",
           "PHC",
           "low"
          ]
         ],
         "hovertemplate": "Sample name: %{customdata[0]}<br>code_oncotree: %{customdata[1]}<br>TCC GROUP: %{customdata[2]}<extra></extra>",
         "legendgroup": "PHC",
         "marker": {
          "color": "#19d3f3",
          "opacity": 0.7,
          "symbol": "circle"
         },
         "mode": "markers",
         "name": "PHC",
         "scene": "scene",
         "showlegend": true,
         "type": "scatter3d",
         "x": {
          "bdata": "VEPbQNwmhECTSY1A",
          "dtype": "f4"
         },
         "y": {
          "bdata": "dmIYQDfEV0AiMIhA",
          "dtype": "f4"
         },
         "z": {
          "bdata": "Xyw/P7jaMT9jws09",
          "dtype": "f4"
         }
        },
        {
         "customdata": [
          [
           "H021-MVBNYBZ-T1-Q1",
           "CHBL",
           "high"
          ]
         ],
         "hovertemplate": "Sample name: %{customdata[0]}<br>code_oncotree: %{customdata[1]}<br>TCC GROUP: %{customdata[2]}<extra></extra>",
         "legendgroup": "CHBL",
         "marker": {
          "color": "#FF6692",
          "opacity": 0.7,
          "symbol": "circle"
         },
         "mode": "markers",
         "name": "CHBL",
         "scene": "scene",
         "showlegend": true,
         "type": "scatter3d",
         "x": {
          "bdata": "zFF+QA==",
          "dtype": "f4"
         },
         "y": {
          "bdata": "Akm+Pw==",
          "dtype": "f4"
         },
         "z": {
          "bdata": "TII0QA==",
          "dtype": "f4"
         }
        },
        {
         "customdata": [
          [
           "H021-MYUT4M-M1-Q1",
           "SDCA",
           "high"
          ],
          [
           "H021-L4C4GQC-M1-Q1",
           "SDCA",
           "high"
          ],
          [
           "H021-ECK6W3-M1-Q1",
           "SDCA",
           "intermediate"
          ],
          [
           "H021-EYMUVP-M3-E2",
           "SDCA",
           "low"
          ],
          [
           "H021-QWLUMQ-M1-Q1",
           "SDCA",
           "low"
          ],
          [
           "H021-S48S3K-M1",
           "SDCA",
           "low"
          ],
          [
           "H021-MZWFNV-M4-Q1",
           "SDCA",
           "very low"
          ]
         ],
         "hovertemplate": "Sample name: %{customdata[0]}<br>code_oncotree: %{customdata[1]}<br>TCC GROUP: %{customdata[2]}<extra></extra>",
         "legendgroup": "SDCA",
         "marker": {
          "color": "#B6E880",
          "opacity": 0.7,
          "symbol": "circle"
         },
         "mode": "markers",
         "name": "SDCA",
         "scene": "scene",
         "showlegend": true,
         "type": "scatter3d",
         "x": {
          "bdata": "OYjCQC8LrkDCTPtAJ4WZQEEq0UCHmohAC22OQA==",
          "dtype": "f4"
         },
         "y": {
          "bdata": "MFU0P99t0D+POWNALTbkP2KSrkBeQUdANdVXQA==",
          "dtype": "f4"
         },
         "z": {
          "bdata": "tpDNP6T+UkAO+hy+kwRIQLsI9D/fxEtABhk7QA==",
          "dtype": "f4"
         }
        },
        {
         "customdata": [
          [
           "H021-N63CHW-T7-Q1",
           "URCA",
           "high"
          ],
          [
           "H021-1G46Z9-M2-Q1",
           "URCA",
           "low"
          ]
         ],
         "hovertemplate": "Sample name: %{customdata[0]}<br>code_oncotree: %{customdata[1]}<br>TCC GROUP: %{customdata[2]}<extra></extra>",
         "legendgroup": "URCA",
         "marker": {
          "color": "#FF97FF",
          "opacity": 0.7,
          "symbol": "circle"
         },
         "mode": "markers",
         "name": "URCA",
         "scene": "scene",
         "showlegend": true,
         "type": "scatter3d",
         "x": {
          "bdata": "MwC0QHxlfUA=",
          "dtype": "f4"
         },
         "y": {
          "bdata": "Bp+wP9WR4T8=",
          "dtype": "f4"
         },
         "z": {
          "bdata": "xqk6QHMkLEA=",
          "dtype": "f4"
         }
        },
        {
         "customdata": [
          [
           "H021-N6JBU4-M1-Q1",
           "HNMUCM",
           "high"
          ]
         ],
         "hovertemplate": "Sample name: %{customdata[0]}<br>code_oncotree: %{customdata[1]}<br>TCC GROUP: %{customdata[2]}<extra></extra>",
         "legendgroup": "HNMUCM",
         "marker": {
          "color": "#FECB52",
          "opacity": 0.7,
          "symbol": "circle"
         },
         "mode": "markers",
         "name": "HNMUCM",
         "scene": "scene",
         "showlegend": true,
         "type": "scatter3d",
         "x": {
          "bdata": "0QAHQQ==",
          "dtype": "f4"
         },
         "y": {
          "bdata": "9kSXQA==",
          "dtype": "f4"
         },
         "z": {
          "bdata": "TzwfPg==",
          "dtype": "f4"
         }
        },
        {
         "customdata": [
          [
           "H021-NLVPFP-M2-Q1",
           "LNET",
           "high"
          ]
         ],
         "hovertemplate": "Sample name: %{customdata[0]}<br>code_oncotree: %{customdata[1]}<br>TCC GROUP: %{customdata[2]}<extra></extra>",
         "legendgroup": "LNET",
         "marker": {
          "color": "#636efa",
          "opacity": 0.7,
          "symbol": "circle"
         },
         "mode": "markers",
         "name": "LNET",
         "scene": "scene",
         "showlegend": true,
         "type": "scatter3d",
         "x": {
          "bdata": "RfzIQA==",
          "dtype": "f4"
         },
         "y": {
          "bdata": "PvrlPw==",
          "dtype": "f4"
         },
         "z": {
          "bdata": "U8RgPw==",
          "dtype": "f4"
         }
        },
        {
         "customdata": [
          [
           "H021-PZCLR3-M5-Q1",
           "URMM",
           "high"
          ]
         ],
         "hovertemplate": "Sample name: %{customdata[0]}<br>code_oncotree: %{customdata[1]}<br>TCC GROUP: %{customdata[2]}<extra></extra>",
         "legendgroup": "URMM",
         "marker": {
          "color": "#EF553B",
          "opacity": 0.7,
          "symbol": "circle"
         },
         "mode": "markers",
         "name": "URMM",
         "scene": "scene",
         "showlegend": true,
         "type": "scatter3d",
         "x": {
          "bdata": "T0wNQQ==",
          "dtype": "f4"
         },
         "y": {
          "bdata": "wPAfQA==",
          "dtype": "f4"
         },
         "z": {
          "bdata": "MYRGQA==",
          "dtype": "f4"
         }
        },
        {
         "customdata": [
          [
           "H021-R6E4X3-M1-Q1",
           "SCCO",
           "high"
          ],
          [
           "H021-JYZC6N-T1-Q1",
           "SCCO",
           "very low"
          ]
         ],
         "hovertemplate": "Sample name: %{customdata[0]}<br>code_oncotree: %{customdata[1]}<br>TCC GROUP: %{customdata[2]}<extra></extra>",
         "legendgroup": "SCCO",
         "marker": {
          "color": "#00cc96",
          "opacity": 0.7,
          "symbol": "circle"
         },
         "mode": "markers",
         "name": "SCCO",
         "scene": "scene",
         "showlegend": true,
         "type": "scatter3d",
         "x": {
          "bdata": "IV66QNHiEkE=",
          "dtype": "f4"
         },
         "y": {
          "bdata": "8rewP4g/VUA=",
          "dtype": "f4"
         },
         "z": {
          "bdata": "enYSQEor9z8=",
          "dtype": "f4"
         }
        },
        {
         "customdata": [
          [
           "H021-U6GX54-M3",
           "PACT",
           "high"
          ]
         ],
         "hovertemplate": "Sample name: %{customdata[0]}<br>code_oncotree: %{customdata[1]}<br>TCC GROUP: %{customdata[2]}<extra></extra>",
         "legendgroup": "PACT",
         "marker": {
          "color": "#ab63fa",
          "opacity": 0.7,
          "symbol": "circle"
         },
         "mode": "markers",
         "name": "PACT",
         "scene": "scene",
         "showlegend": true,
         "type": "scatter3d",
         "x": {
          "bdata": "uT7JQA==",
          "dtype": "f4"
         },
         "y": {
          "bdata": "GgyVPw==",
          "dtype": "f4"
         },
         "z": {
          "bdata": "i1YiPw==",
          "dtype": "f4"
         }
        },
        {
         "customdata": [
          [
           "H021-UBLX5J-T4-E2",
           "INTS",
           "high"
          ]
         ],
         "hovertemplate": "Sample name: %{customdata[0]}<br>code_oncotree: %{customdata[1]}<br>TCC GROUP: %{customdata[2]}<extra></extra>",
         "legendgroup": "INTS",
         "marker": {
          "color": "#FFA15A",
          "opacity": 0.7,
          "symbol": "circle"
         },
         "mode": "markers",
         "name": "INTS",
         "scene": "scene",
         "showlegend": true,
         "type": "scatter3d",
         "x": {
          "bdata": "CJIkQA==",
          "dtype": "f4"
         },
         "y": {
          "bdata": "jqxiQA==",
          "dtype": "f4"
         },
         "z": {
          "bdata": "2drKPw==",
          "dtype": "f4"
         }
        },
        {
         "customdata": [
          [
           "H021-UC84HLV-T2-Q1",
           "SNSC",
           "high"
          ]
         ],
         "hovertemplate": "Sample name: %{customdata[0]}<br>code_oncotree: %{customdata[1]}<br>TCC GROUP: %{customdata[2]}<extra></extra>",
         "legendgroup": "SNSC",
         "marker": {
          "color": "#19d3f3",
          "opacity": 0.7,
          "symbol": "circle"
         },
         "mode": "markers",
         "name": "SNSC",
         "scene": "scene",
         "showlegend": true,
         "type": "scatter3d",
         "x": {
          "bdata": "HsCsQA==",
          "dtype": "f4"
         },
         "y": {
          "bdata": "MRTEPw==",
          "dtype": "f4"
         },
         "z": {
          "bdata": "m89MQA==",
          "dtype": "f4"
         }
        },
        {
         "customdata": [
          [
           "H021-UN9Q23-M1-Q1",
           "PHCH",
           "high"
          ],
          [
           "H021-LN8VNF-M1-Q1",
           "PHCH",
           "intermediate"
          ],
          [
           "H021-XCLLJX-T2-Q1",
           "PHCH",
           "low"
          ]
         ],
         "hovertemplate": "Sample name: %{customdata[0]}<br>code_oncotree: %{customdata[1]}<br>TCC GROUP: %{customdata[2]}<extra></extra>",
         "legendgroup": "PHCH",
         "marker": {
          "color": "#FF6692",
          "opacity": 0.7,
          "symbol": "circle"
         },
         "mode": "markers",
         "name": "PHCH",
         "scene": "scene",
         "showlegend": true,
         "type": "scatter3d",
         "x": {
          "bdata": "7i1qQIIxUUD9gh5A",
          "dtype": "f4"
         },
         "y": {
          "bdata": "v98zQLl9FD9pX01A",
          "dtype": "f4"
         },
         "z": {
          "bdata": "BzQEQP0Mjz/l8LY/",
          "dtype": "f4"
         }
        },
        {
         "customdata": [
          [
           "H021-VZLAHS-T1-Q1",
           "SCBC",
           "high"
          ]
         ],
         "hovertemplate": "Sample name: %{customdata[0]}<br>code_oncotree: %{customdata[1]}<br>TCC GROUP: %{customdata[2]}<extra></extra>",
         "legendgroup": "SCBC",
         "marker": {
          "color": "#B6E880",
          "opacity": 0.7,
          "symbol": "circle"
         },
         "mode": "markers",
         "name": "SCBC",
         "scene": "scene",
         "showlegend": true,
         "type": "scatter3d",
         "x": {
          "bdata": "NOMSQQ==",
          "dtype": "f4"
         },
         "y": {
          "bdata": "NZstQA==",
          "dtype": "f4"
         },
         "z": {
          "bdata": "2qjbPw==",
          "dtype": "f4"
         }
        },
        {
         "customdata": [
          [
           "H021-XJ7U46-M1-Q1",
           "PAAD",
           "high"
          ],
          [
           "H021-Z9GP1T-M2-Q1",
           "PAAD",
           "high"
          ],
          [
           "H021-23NL3F-M1-Q1",
           "PAAD",
           "intermediate"
          ],
          [
           "H021-BMSJ6E-M2",
           "PAAD",
           "intermediate"
          ],
          [
           "H021-C9AZ42-M2-Q1",
           "PAAD",
           "intermediate"
          ],
          [
           "H021-C9AZ42-M5-Q1",
           "PAAD",
           "intermediate"
          ],
          [
           "H021-H3L53D-M1-Q1",
           "PAAD",
           "intermediate"
          ],
          [
           "H021-N9RAUJ-T5-Q1",
           "PAAD",
           "intermediate"
          ],
          [
           "H021-1HTTJF-M1-Q1",
           "PAAD",
           "low"
          ],
          [
           "H021-2P1PDF-M1-Q1",
           "PAAD",
           "low"
          ],
          [
           "H021-CHLHM6-M1-Q1",
           "PAAD",
           "low"
          ],
          [
           "H021-T48DPS-M2-Q1",
           "PAAD",
           "low"
          ],
          [
           "H021-V8C818-M1-Q1",
           "PAAD",
           "low"
          ],
          [
           "H021-8ZTUHJ-M1-Q1",
           "PAAD",
           "very low"
          ]
         ],
         "hovertemplate": "Sample name: %{customdata[0]}<br>code_oncotree: %{customdata[1]}<br>TCC GROUP: %{customdata[2]}<extra></extra>",
         "legendgroup": "PAAD",
         "marker": {
          "color": "#FF97FF",
          "opacity": 0.7,
          "symbol": "circle"
         },
         "mode": "markers",
         "name": "PAAD",
         "scene": "scene",
         "showlegend": true,
         "type": "scatter3d",
         "x": {
          "bdata": "UHjxQFytdkCPOjFAGl1sQI6kUEBTPF5A/OcPQMU0e0AphEdA8bJUQHZoFkAr6GdAFM0zQFHCf0A=",
          "dtype": "f4"
         },
         "y": {
          "bdata": "a45jQDeb+z/jDR9A8u8xQMLeCEC4Xg5AUgl9vczK1D9ht7Q/WT0QQDSbsj7KohNA26SwPpqA3z8=",
          "dtype": "f4"
         },
         "z": {
          "bdata": "1EpuQDsNL0BrzxtAaDQIQGaPez8KIbM/Qg2OP5/vKEDxvJI/qs+cPwYNxj/n2QhAnqiVP/BPUUA=",
          "dtype": "f4"
         }
        },
        {
         "customdata": [
          [
           "H021-Y6JGQE-T2-Q1",
           "DLBCL",
           "high"
          ]
         ],
         "hovertemplate": "Sample name: %{customdata[0]}<br>code_oncotree: %{customdata[1]}<br>TCC GROUP: %{customdata[2]}<extra></extra>",
         "legendgroup": "DLBCL",
         "marker": {
          "color": "#FECB52",
          "opacity": 0.7,
          "symbol": "circle"
         },
         "mode": "markers",
         "name": "DLBCL",
         "scene": "scene",
         "showlegend": true,
         "type": "scatter3d",
         "x": {
          "bdata": "6QcQQQ==",
          "dtype": "f4"
         },
         "y": {
          "bdata": "3TV6QA==",
          "dtype": "f4"
         },
         "z": {
          "bdata": "aUzDPw==",
          "dtype": "f4"
         }
        },
        {
         "customdata": [
          [
           "H021-YLF7WN-M2-Q1",
           "SACA",
           "high"
          ],
          [
           "H021-YLF7WN-M1-Q1",
           "SACA",
           "intermediate"
          ],
          [
           "H021-BJC1YS-M2-Q1",
           "SACA",
           "very low"
          ]
         ],
         "hovertemplate": "Sample name: %{customdata[0]}<br>code_oncotree: %{customdata[1]}<br>TCC GROUP: %{customdata[2]}<extra></extra>",
         "legendgroup": "SACA",
         "marker": {
          "color": "#636efa",
          "opacity": 0.7,
          "symbol": "circle"
         },
         "mode": "markers",
         "name": "SACA",
         "scene": "scene",
         "showlegend": true,
         "type": "scatter3d",
         "x": {
          "bdata": "FUoDQWM/AUGFk6dA",
          "dtype": "f4"
         },
         "y": {
          "bdata": "1nubQGH5mEAkzJ8/",
          "dtype": "f4"
         },
         "z": {
          "bdata": "t5dCPhnMnT22Ae0/",
          "dtype": "f4"
         }
        },
        {
         "customdata": [
          [
           "H021-YMU2T4-M4-Q1",
           "EOV",
           "high"
          ]
         ],
         "hovertemplate": "Sample name: %{customdata[0]}<br>code_oncotree: %{customdata[1]}<br>TCC GROUP: %{customdata[2]}<extra></extra>",
         "legendgroup": "EOV",
         "marker": {
          "color": "#EF553B",
          "opacity": 0.7,
          "symbol": "circle"
         },
         "mode": "markers",
         "name": "EOV",
         "scene": "scene",
         "showlegend": true,
         "type": "scatter3d",
         "x": {
          "bdata": "3mGhQA==",
          "dtype": "f4"
         },
         "y": {
          "bdata": "NPJwPg==",
          "dtype": "f4"
         },
         "z": {
          "bdata": "SmyoPw==",
          "dtype": "f4"
         }
        },
        {
         "customdata": [
          [
           "H021-ZB26BG-M1",
           "PCM",
           "high"
          ]
         ],
         "hovertemplate": "Sample name: %{customdata[0]}<br>code_oncotree: %{customdata[1]}<br>TCC GROUP: %{customdata[2]}<extra></extra>",
         "legendgroup": "PCM",
         "marker": {
          "color": "#00cc96",
          "opacity": 0.7,
          "symbol": "circle"
         },
         "mode": "markers",
         "name": "PCM",
         "scene": "scene",
         "showlegend": true,
         "type": "scatter3d",
         "x": {
          "bdata": "5HmrQA==",
          "dtype": "f4"
         },
         "y": {
          "bdata": "PzbkPw==",
          "dtype": "f4"
         },
         "z": {
          "bdata": "dsmLPw==",
          "dtype": "f4"
         }
        },
        {
         "customdata": [
          [
           "H021-ZNSUYN-T1",
           "PNET",
           "high"
          ],
          [
           "H021-JLP1D4-T2",
           "PNET",
           "intermediate"
          ]
         ],
         "hovertemplate": "Sample name: %{customdata[0]}<br>code_oncotree: %{customdata[1]}<br>TCC GROUP: %{customdata[2]}<extra></extra>",
         "legendgroup": "PNET",
         "marker": {
          "color": "#ab63fa",
          "opacity": 0.7,
          "symbol": "circle"
         },
         "mode": "markers",
         "name": "PNET",
         "scene": "scene",
         "showlegend": true,
         "type": "scatter3d",
         "x": {
          "bdata": "8L3VQFxVzUA=",
          "dtype": "f4"
         },
         "y": {
          "bdata": "qd2HQMCGBEA=",
          "dtype": "f4"
         },
         "z": {
          "bdata": "s9pRP96j4T4=",
          "dtype": "f4"
         }
        },
        {
         "customdata": [
          [
           "I002-025-226610",
           "IMT",
           "high"
          ],
          [
           "H021-MKTPXJ-T1",
           "IMT",
           "intermediate"
          ],
          [
           "I063-065-1T1-P1",
           "IMT",
           "intermediate"
          ],
          [
           "H021-Q5RP8W-M3-Q1",
           "IMT",
           "low"
          ]
         ],
         "hovertemplate": "Sample name: %{customdata[0]}<br>code_oncotree: %{customdata[1]}<br>TCC GROUP: %{customdata[2]}<extra></extra>",
         "legendgroup": "IMT",
         "marker": {
          "color": "#FFA15A",
          "opacity": 0.7,
          "symbol": "circle"
         },
         "mode": "markers",
         "name": "IMT",
         "scene": "scene",
         "showlegend": true,
         "type": "scatter3d",
         "x": {
          "bdata": "HMtwQBUPuEAwI9VAB1WZQA==",
          "dtype": "f4"
         },
         "y": {
          "bdata": "uT8GQEUorkB8w4RAucFIQA==",
          "dtype": "f4"
         },
         "z": {
          "bdata": "9aeRP4Ocjj+6gmE/CXMeQA==",
          "dtype": "f4"
         }
        },
        {
         "customdata": [
          [
           "I003-006-103006",
           "ERMS",
           "high"
          ],
          [
           "I003-017-1M1-P1",
           "ERMS",
           "high"
          ],
          [
           "I007-076-1T1-P1",
           "ERMS",
           "high"
          ],
          [
           "I011-006-0T1-P1",
           "ERMS",
           "high"
          ],
          [
           "I015-017-0M1-P1",
           "ERMS",
           "high"
          ],
          [
           "I022-063-1M1-P1",
           "ERMS",
           "high"
          ],
          [
           "I023-023-1T1-P1",
           "ERMS",
           "high"
          ],
          [
           "I023-066-1T1-P1",
           "ERMS",
           "high"
          ],
          [
           "I023-069-3T1-P1",
           "ERMS",
           "high"
          ],
          [
           "I024-015-104566",
           "ERMS",
           "high"
          ],
          [
           "I024-032-1T1-P1",
           "ERMS",
           "high"
          ],
          [
           "I024-034-189638",
           "ERMS",
           "high"
          ],
          [
           "I028-003-84352",
           "ERMS",
           "high"
          ],
          [
           "I034-044-186620",
           "ERMS",
           "high"
          ],
          [
           "I036-036-2T1-P1",
           "ERMS",
           "high"
          ],
          [
           "I036-077-1T1-P1",
           "ERMS",
           "high"
          ],
          [
           "I043-011-2M1-P1",
           "ERMS",
           "high"
          ],
          [
           "I052-025-1T1-P1",
           "ERMS",
           "high"
          ],
          [
           "I054-024-1T1-P1",
           "ERMS",
           "high"
          ],
          [
           "I054-026-1T1-P1",
           "ERMS",
           "high"
          ],
          [
           "I054-033-226658",
           "ERMS",
           "high"
          ],
          [
           "I054-046-1M1-P1",
           "ERMS",
           "high"
          ],
          [
           "I062-008-87120",
           "ERMS",
           "high"
          ],
          [
           "I062-051-1T1-P1",
           "ERMS",
           "high"
          ],
          [
           "I071-004-1T1-P1",
           "ERMS",
           "high"
          ],
          [
           "I137-022-1T1-P1",
           "ERMS",
           "high"
          ],
          [
           "I137-023-1T1-P1",
           "ERMS",
           "high"
          ],
          [
           "I054-039-1T1-P1",
           "ERMS",
           "high"
          ],
          [
           "I034-071-2T1-P1",
           "ERMS",
           "intermediate"
          ]
         ],
         "hovertemplate": "Sample name: %{customdata[0]}<br>code_oncotree: %{customdata[1]}<br>TCC GROUP: %{customdata[2]}<extra></extra>",
         "legendgroup": "ERMS",
         "marker": {
          "color": "#19d3f3",
          "opacity": 0.7,
          "symbol": "circle"
         },
         "mode": "markers",
         "name": "ERMS",
         "scene": "scene",
         "showlegend": true,
         "type": "scatter3d",
         "x": {
          "bdata": "lvIcQZ0kvUAcVR5B13cgQf7gCEEgMRJBVeDfQEoGCkFu8wxB6b8fQeACzEAbQv5Ao6kcQRO5GkGesBJBt5oKQaQ3HkHQQxlBE97gQL6R00D1FQFBSOsdQWKGE0GZxB9BOYAFQR+WG0Ht7CBBwVTpQORzwUA=",
          "dtype": "f4"
         },
         "y": {
          "bdata": "p96NQBrlqUCMUY9ARDGOQLURnED98GpAARUOQa5GnEAV0JNAgciOQAk1VkD+QmVA2Bx/QDFfj0Bgjo5AGbByQEl0jEAnAoJAq8yfQIIglkBSY2FAdO6JQAGsg0C2S49A5q6LQKHWh0DMN49AHCxpQK0YhEA=",
          "dtype": "f4"
         },
         "z": {
          "bdata": "/h/mPzIlvT9LheQ/IojiPwP88j4f5N0/cY0ZQAFkhD/JVZI/+Q/qP1nIzT5q3qA/CDT9Pwa23T+jW8c/krrlP9lm2j+II/0/d37UP8ywjz+rhJw/iJvQP6mu+D/uSeo/sNzlPz2x0T9wM+Y/PByiP1mrgD8=",
          "dtype": "f4"
         }
        },
        {
         "customdata": [
          [
           "I007-066-3T1-P1",
           "IFS",
           "high"
          ],
          [
           "I034-018-101046",
           "IFS",
           "high"
          ]
         ],
         "hovertemplate": "Sample name: %{customdata[0]}<br>code_oncotree: %{customdata[1]}<br>TCC GROUP: %{customdata[2]}<extra></extra>",
         "legendgroup": "IFS",
         "marker": {
          "color": "#FF6692",
          "opacity": 0.7,
          "symbol": "circle"
         },
         "mode": "markers",
         "name": "IFS",
         "scene": "scene",
         "showlegend": true,
         "type": "scatter3d",
         "x": {
          "bdata": "tT0MQU5U80A=",
          "dtype": "f4"
         },
         "y": {
          "bdata": "U4CfQAe+PkA=",
          "dtype": "f4"
         },
         "z": {
          "bdata": "x20wP1vj/T8=",
          "dtype": "f4"
         }
        },
        {
         "customdata": [
          [
           "I013-030-1T1-P1",
           "SCSRMS",
           "high"
          ]
         ],
         "hovertemplate": "Sample name: %{customdata[0]}<br>code_oncotree: %{customdata[1]}<br>TCC GROUP: %{customdata[2]}<extra></extra>",
         "legendgroup": "SCSRMS",
         "marker": {
          "color": "#B6E880",
          "opacity": 0.7,
          "symbol": "circle"
         },
         "mode": "markers",
         "name": "SCSRMS",
         "scene": "scene",
         "showlegend": true,
         "type": "scatter3d",
         "x": {
          "bdata": "Rnv2QA==",
          "dtype": "f4"
         },
         "y": {
          "bdata": "P3+YQA==",
          "dtype": "f4"
         },
         "z": {
          "bdata": "vpqjPw==",
          "dtype": "f4"
         }
        },
        {
         "customdata": [
          [
           "I063-024-2M1-P1",
           "ANGS",
           "high"
          ],
          [
           "H021-2821AR-T1-Q1",
           "ANGS",
           "intermediate"
          ],
          [
           "H021-EUE5HLX-T1-Q1",
           "ANGS",
           "intermediate"
          ],
          [
           "H021-HFZLJV-T1",
           "ANGS",
           "intermediate"
          ],
          [
           "H021-RMX3LH-T1",
           "ANGS",
           "intermediate"
          ],
          [
           "H021-UF8YD6-T2",
           "ANGS",
           "intermediate"
          ],
          [
           "H021-C4ZHSL-T1-Q1",
           "ANGS",
           "low"
          ],
          [
           "H021-SA41ZPW-T4-Q1",
           "ANGS",
           "low"
          ],
          [
           "H021-XKJDR1-M1-Q1",
           "ANGS",
           "low"
          ],
          [
           "H021-XCBGFF-T1",
           "ANGS",
           "very low"
          ],
          [
           "H021-XQG7LH-T1-Q1",
           "ANGS",
           "very low"
          ]
         ],
         "hovertemplate": "Sample name: %{customdata[0]}<br>code_oncotree: %{customdata[1]}<br>TCC GROUP: %{customdata[2]}<extra></extra>",
         "legendgroup": "ANGS",
         "marker": {
          "color": "#FF97FF",
          "opacity": 0.7,
          "symbol": "circle"
         },
         "mode": "markers",
         "name": "ANGS",
         "scene": "scene",
         "showlegend": true,
         "type": "scatter3d",
         "x": {
          "bdata": "QCvjQNDttkDxGM9AuFrFQK75kkCt/cNA6GzqQOT01EC4x7tA7bdxQDr4C0A=",
          "dtype": "f4"
         },
         "y": {
          "bdata": "DrueQP70qECJAZBAvJyfQH1ChkBub09A4SZDQFGwpUCmjUtAo9TuP9KElD0=",
          "dtype": "f4"
         },
         "z": {
          "bdata": "5rvbPzXT6T+NO8g/LQueP4K0fz73I1o/wa/6P+iKAkDB90s/O05oP8oVqz8=",
          "dtype": "f4"
         }
        },
        {
         "customdata": [
          [
           "K26K-ZG97EH-M11-Q1",
           "UCEC",
           "high"
          ]
         ],
         "hovertemplate": "Sample name: %{customdata[0]}<br>code_oncotree: %{customdata[1]}<br>TCC GROUP: %{customdata[2]}<extra></extra>",
         "legendgroup": "UCEC",
         "marker": {
          "color": "#FECB52",
          "opacity": 0.7,
          "symbol": "circle"
         },
         "mode": "markers",
         "name": "UCEC",
         "scene": "scene",
         "showlegend": true,
         "type": "scatter3d",
         "x": {
          "bdata": "ESCjQA==",
          "dtype": "f4"
         },
         "y": {
          "bdata": "fAHkPw==",
          "dtype": "f4"
         },
         "z": {
          "bdata": "0ONFPw==",
          "dtype": "f4"
         }
        },
        {
         "customdata": [
          [
           "H021-C15LJ8-T1-Q1",
           "READ",
           "high"
          ],
          [
           "H021-5Z26L6-M1-Q1",
           "READ",
           "intermediate"
          ],
          [
           "H021-ERYN6U-M4",
           "READ",
           "intermediate"
          ],
          [
           "H021-FNT9QNF-M2-Q1",
           "READ",
           "intermediate"
          ],
          [
           "H021-RXLJ7X-M5-Q1",
           "READ",
           "intermediate"
          ],
          [
           "H021-U7HXMH-M2-Q1",
           "READ",
           "intermediate"
          ],
          [
           "H021-UVJ1LB-M1",
           "READ",
           "intermediate"
          ],
          [
           "H021-UVJ1LB-M3",
           "READ",
           "intermediate"
          ],
          [
           "H021-Z81XY8-M1-Q1",
           "READ",
           "intermediate"
          ],
          [
           "H021-33DUTN-M1-Q1",
           "READ",
           "intermediate"
          ],
          [
           "H021-TNGG44-M1",
           "READ",
           "low"
          ],
          [
           "H021-TNGG44-M4-Q1",
           "READ",
           "low"
          ]
         ],
         "hovertemplate": "Sample name: %{customdata[0]}<br>code_oncotree: %{customdata[1]}<br>TCC GROUP: %{customdata[2]}<extra></extra>",
         "legendgroup": "READ",
         "marker": {
          "color": "#636efa",
          "opacity": 0.7,
          "symbol": "circle"
         },
         "mode": "markers",
         "name": "READ",
         "scene": "scene",
         "showlegend": true,
         "type": "scatter3d",
         "x": {
          "bdata": "NjDOQI+FUEBhdkVAP/eIQIxsXEAwdpRA48OEQMNCWUBAJodAEA4QQCuDjkDjqEhA",
          "dtype": "f4"
         },
         "y": {
          "bdata": "GKDRP2JljD5M5fg+KUb/P4gt9T4GShJAGmErvuUX7D+tMQc/P+VBvddnC0BOJSs+",
          "dtype": "f4"
         },
         "z": {
          "bdata": "kTTqP6Shoz+mzog/sV4FQEf2B0BxONY+4FLRPx3OIj88KOk/4jCSP2a2Az/W7r4/",
          "dtype": "f4"
         }
        },
        {
         "customdata": [
          [
           "H021-HZ5EL8C-M1-Q1",
           "RCC",
           "high"
          ],
          [
           "H021-UK5YMH-M5-Q1",
           "RCC",
           "intermediate"
          ],
          [
           "H021-XRG9QT-M2-Q1",
           "RCC",
           "intermediate"
          ],
          [
           "H021-HGQD6WL-M3-Q1",
           "RCC",
           "intermediate"
          ],
          [
           "H021-8GJ9GS-M1-Q1",
           "RCC",
           "low"
          ],
          [
           "H021-8RPW98-M1-Q1",
           "RCC",
           "low"
          ],
          [
           "H021-UK5YMH-T3-Q1",
           "RCC",
           "low"
          ]
         ],
         "hovertemplate": "Sample name: %{customdata[0]}<br>code_oncotree: %{customdata[1]}<br>TCC GROUP: %{customdata[2]}<extra></extra>",
         "legendgroup": "RCC",
         "marker": {
          "color": "#EF553B",
          "opacity": 0.7,
          "symbol": "circle"
         },
         "mode": "markers",
         "name": "RCC",
         "scene": "scene",
         "showlegend": true,
         "type": "scatter3d",
         "x": {
          "bdata": "8rWEQNqUg0B7bt1AeMyVQF2KJkDVajNAf6uKQA==",
          "dtype": "f4"
         },
         "y": {
          "bdata": "EqFVQOJjS0BkJ4pAOaJkQC7sOUBv52lAeDkkQA==",
          "dtype": "f4"
         },
         "z": {
          "bdata": "6yYcQGYSEkCzEoU/zXnMPm4nlj8kKJM/KP0Kvg==",
          "dtype": "f4"
         }
        },
        {
         "customdata": [
          [
           "H021-188HA2-T2",
           "SGCS",
           "intermediate"
          ]
         ],
         "hovertemplate": "Sample name: %{customdata[0]}<br>code_oncotree: %{customdata[1]}<br>TCC GROUP: %{customdata[2]}<extra></extra>",
         "legendgroup": "SGCS",
         "marker": {
          "color": "#00cc96",
          "opacity": 0.7,
          "symbol": "circle"
         },
         "mode": "markers",
         "name": "SGCS",
         "scene": "scene",
         "showlegend": true,
         "type": "scatter3d",
         "x": {
          "bdata": "G/vmQA==",
          "dtype": "f4"
         },
         "y": {
          "bdata": "WTR3QA==",
          "dtype": "f4"
         },
         "z": {
          "bdata": "+yRbQA==",
          "dtype": "f4"
         }
        },
        {
         "customdata": [
          [
           "H021-1B7R18-M7-Q1",
           "VSC",
           "intermediate"
          ],
          [
           "H021-FUFZFT-T1-Q1",
           "VSC",
           "intermediate"
          ],
          [
           "H021-VYS51F-M1-Q1",
           "VSC",
           "low"
          ]
         ],
         "hovertemplate": "Sample name: %{customdata[0]}<br>code_oncotree: %{customdata[1]}<br>TCC GROUP: %{customdata[2]}<extra></extra>",
         "legendgroup": "VSC",
         "marker": {
          "color": "#ab63fa",
          "opacity": 0.7,
          "symbol": "circle"
         },
         "mode": "markers",
         "name": "VSC",
         "scene": "scene",
         "showlegend": true,
         "type": "scatter3d",
         "x": {
          "bdata": "georQFni20B8aUZA",
          "dtype": "f4"
         },
         "y": {
          "bdata": "h/1cQHoPvT/3ekdA",
          "dtype": "f4"
         },
         "z": {
          "bdata": "NhDkP+iEEUBivxRA",
          "dtype": "f4"
         }
        },
        {
         "customdata": [
          [
           "H021-2PZZHX-M1-Q1",
           "LUACC",
           "intermediate"
          ],
          [
           "H021-YFVHVB-U1-Q1",
           "LUACC",
           "intermediate"
          ],
          [
           "H021-51B2T8-M2",
           "LUACC",
           "intermediate"
          ]
         ],
         "hovertemplate": "Sample name: %{customdata[0]}<br>code_oncotree: %{customdata[1]}<br>TCC GROUP: %{customdata[2]}<extra></extra>",
         "legendgroup": "LUACC",
         "marker": {
          "color": "#FFA15A",
          "opacity": 0.7,
          "symbol": "circle"
         },
         "mode": "markers",
         "name": "LUACC",
         "scene": "scene",
         "showlegend": true,
         "type": "scatter3d",
         "x": {
          "bdata": "SqiQQAhC0UBsRnxA",
          "dtype": "f4"
         },
         "y": {
          "bdata": "qBkqQHVQsEAkheA/",
          "dtype": "f4"
         },
         "z": {
          "bdata": "opRFQHxl7j9IESBA",
          "dtype": "f4"
         }
        },
        {
         "customdata": [
          [
           "H021-3WZZDU-M1-Q1",
           "LUAD",
           "intermediate"
          ],
          [
           "H021-6YA6W3H-M1-Q1",
           "LUAD",
           "intermediate"
          ],
          [
           "H021-CGHL1A-M1-E1",
           "LUAD",
           "intermediate"
          ],
          [
           "H021-W77W46-M5-Q1",
           "LUAD",
           "intermediate"
          ],
          [
           "H021-DBYZ8C-M3-Q1",
           "LUAD",
           "low"
          ],
          [
           "H021-P1UTPG-M4-Q1",
           "LUAD",
           "low"
          ],
          [
           "H021-VJJ1UX-T1",
           "LUAD",
           "low"
          ],
          [
           "H021-YJ3RLD-M2-Q1",
           "LUAD",
           "low"
          ],
          [
           "H021-5WWWE7-T2-Q1",
           "LUAD",
           "very low"
          ],
          [
           "H021-QPBHCM-T2",
           "LUAD",
           "very low"
          ],
          [
           "H021-S7CH4J-M5-Q1",
           "LUAD",
           "very low"
          ]
         ],
         "hovertemplate": "Sample name: %{customdata[0]}<br>code_oncotree: %{customdata[1]}<br>TCC GROUP: %{customdata[2]}<extra></extra>",
         "legendgroup": "LUAD",
         "marker": {
          "color": "#19d3f3",
          "opacity": 0.7,
          "symbol": "circle"
         },
         "mode": "markers",
         "name": "LUAD",
         "scene": "scene",
         "showlegend": true,
         "type": "scatter3d",
         "x": {
          "bdata": "Q2+4QIWIaEBW7VVAiZ9gQCbySECd1zVAt7BMQOKJV0AICSNA1WC2QBg1CEA=",
          "dtype": "f4"
         },
         "y": {
          "bdata": "JjeeQCbDe0DpQSC+30z2P72HwT+ukMc/peolQI53QkAJBYk/L9sKP/IPJL4=",
          "dtype": "f4"
         },
         "z": {
          "bdata": "GuYGP5dGMUDfHMM/EqMhQCIrnj+1vIs/2N5IQKF3U0B0hHg/xCWRPweGhz8=",
          "dtype": "f4"
         }
        },
        {
         "customdata": [
          [
           "H021-54XZK4-T1",
           "UAS",
           "intermediate"
          ]
         ],
         "hovertemplate": "Sample name: %{customdata[0]}<br>code_oncotree: %{customdata[1]}<br>TCC GROUP: %{customdata[2]}<extra></extra>",
         "legendgroup": "UAS",
         "marker": {
          "color": "#FF6692",
          "opacity": 0.7,
          "symbol": "circle"
         },
         "mode": "markers",
         "name": "UAS",
         "scene": "scene",
         "showlegend": true,
         "type": "scatter3d",
         "x": {
          "bdata": "WhSTQA==",
          "dtype": "f4"
         },
         "y": {
          "bdata": "Qr1kQA==",
          "dtype": "f4"
         },
         "z": {
          "bdata": "6FkNQA==",
          "dtype": "f4"
         }
        },
        {
         "customdata": [
          [
           "H021-5CAU2Y-M1-Q1",
           "NMCHN",
           "intermediate"
          ]
         ],
         "hovertemplate": "Sample name: %{customdata[0]}<br>code_oncotree: %{customdata[1]}<br>TCC GROUP: %{customdata[2]}<extra></extra>",
         "legendgroup": "NMCHN",
         "marker": {
          "color": "#B6E880",
          "opacity": 0.7,
          "symbol": "circle"
         },
         "mode": "markers",
         "name": "NMCHN",
         "scene": "scene",
         "showlegend": true,
         "type": "scatter3d",
         "x": {
          "bdata": "zLScQA==",
          "dtype": "f4"
         },
         "y": {
          "bdata": "X2WpPg==",
          "dtype": "f4"
         },
         "z": {
          "bdata": "7W3tPw==",
          "dtype": "f4"
         }
        },
        {
         "customdata": [
          [
           "H021-72EE9L-M1-Q1",
           "OYST",
           "intermediate"
          ]
         ],
         "hovertemplate": "Sample name: %{customdata[0]}<br>code_oncotree: %{customdata[1]}<br>TCC GROUP: %{customdata[2]}<extra></extra>",
         "legendgroup": "OYST",
         "marker": {
          "color": "#FF97FF",
          "opacity": 0.7,
          "symbol": "circle"
         },
         "mode": "markers",
         "name": "OYST",
         "scene": "scene",
         "showlegend": true,
         "type": "scatter3d",
         "x": {
          "bdata": "B4RPQA==",
          "dtype": "f4"
         },
         "y": {
          "bdata": "uPn+Pw==",
          "dtype": "f4"
         },
         "z": {
          "bdata": "g46RPw==",
          "dtype": "f4"
         }
        },
        {
         "customdata": [
          [
           "H021-7TL2GTK-M2-Q1",
           "GEJ",
           "intermediate"
          ]
         ],
         "hovertemplate": "Sample name: %{customdata[0]}<br>code_oncotree: %{customdata[1]}<br>TCC GROUP: %{customdata[2]}<extra></extra>",
         "legendgroup": "GEJ",
         "marker": {
          "color": "#FECB52",
          "opacity": 0.7,
          "symbol": "circle"
         },
         "mode": "markers",
         "name": "GEJ",
         "scene": "scene",
         "showlegend": true,
         "type": "scatter3d",
         "x": {
          "bdata": "qwUvQA==",
          "dtype": "f4"
         },
         "y": {
          "bdata": "Yaw/Pw==",
          "dtype": "f4"
         },
         "z": {
          "bdata": "3IPuPw==",
          "dtype": "f4"
         }
        },
        {
         "customdata": [
          [
           "H021-7V5F8B-M1-Q1",
           "NFIB",
           "intermediate"
          ],
          [
           "H021-E4KUFD-T1-Q1",
           "NFIB",
           "low"
          ]
         ],
         "hovertemplate": "Sample name: %{customdata[0]}<br>code_oncotree: %{customdata[1]}<br>TCC GROUP: %{customdata[2]}<extra></extra>",
         "legendgroup": "NFIB",
         "marker": {
          "color": "#636efa",
          "opacity": 0.7,
          "symbol": "circle"
         },
         "mode": "markers",
         "name": "NFIB",
         "scene": "scene",
         "showlegend": true,
         "type": "scatter3d",
         "x": {
          "bdata": "GIGDQI//2EA=",
          "dtype": "f4"
         },
         "y": {
          "bdata": "Wb9GQBWKrUA=",
          "dtype": "f4"
         },
         "z": {
          "bdata": "o4QJQNZE0D8=",
          "dtype": "f4"
         }
        },
        {
         "customdata": [
          [
           "H021-9GE5AQ-M1-Q1",
           "STAD",
           "intermediate"
          ],
          [
           "H021-BFYBGG-M2-Q1",
           "STAD",
           "intermediate"
          ],
          [
           "H021-TEVZ11-T1-Q2",
           "STAD",
           "intermediate"
          ],
          [
           "H021-1BCX1F-M1-Q1",
           "STAD",
           "very low"
          ]
         ],
         "hovertemplate": "Sample name: %{customdata[0]}<br>code_oncotree: %{customdata[1]}<br>TCC GROUP: %{customdata[2]}<extra></extra>",
         "legendgroup": "STAD",
         "marker": {
          "color": "#EF553B",
          "opacity": 0.7,
          "symbol": "circle"
         },
         "mode": "markers",
         "name": "STAD",
         "scene": "scene",
         "showlegend": true,
         "type": "scatter3d",
         "x": {
          "bdata": "ILwRQOBkl0BY8rBAu4hfQA==",
          "dtype": "f4"
         },
         "y": {
          "bdata": "V+RUQCSFAkCeErs/HeJ8QA==",
          "dtype": "f4"
         },
         "z": {
          "bdata": "WwwBQLSx7z+rXTtA13o3QA==",
          "dtype": "f4"
         }
        },
        {
         "customdata": [
          [
           "H021-9L41LB9-M3-Q1",
           "VA",
           "intermediate"
          ],
          [
           "H021-QRVGND-M2-Q1",
           "VA",
           "intermediate"
          ]
         ],
         "hovertemplate": "Sample name: %{customdata[0]}<br>code_oncotree: %{customdata[1]}<br>TCC GROUP: %{customdata[2]}<extra></extra>",
         "legendgroup": "VA",
         "marker": {
          "color": "#00cc96",
          "opacity": 0.7,
          "symbol": "circle"
         },
         "mode": "markers",
         "name": "VA",
         "scene": "scene",
         "showlegend": true,
         "type": "scatter3d",
         "x": {
          "bdata": "PO8RQctPpkA=",
          "dtype": "f4"
         },
         "y": {
          "bdata": "qBQpQMeLoD8=",
          "dtype": "f4"
         },
         "z": {
          "bdata": "oI7oP3oy/D8=",
          "dtype": "f4"
         }
        },
        {
         "customdata": [
          [
           "H021-AWHZA6-M1-Q1",
           "CEAD",
           "intermediate"
          ],
          [
           "H021-AYXXK9-M1-Q2",
           "CEAD",
           "intermediate"
          ]
         ],
         "hovertemplate": "Sample name: %{customdata[0]}<br>code_oncotree: %{customdata[1]}<br>TCC GROUP: %{customdata[2]}<extra></extra>",
         "legendgroup": "CEAD",
         "marker": {
          "color": "#ab63fa",
          "opacity": 0.7,
          "symbol": "circle"
         },
         "mode": "markers",
         "name": "CEAD",
         "scene": "scene",
         "showlegend": true,
         "type": "scatter3d",
         "x": {
          "bdata": "fkmrQF7NxEA=",
          "dtype": "f4"
         },
         "y": {
          "bdata": "vU2MP/EldD8=",
          "dtype": "f4"
         },
         "z": {
          "bdata": "q5+AP4nt5z8=",
          "dtype": "f4"
         }
        },
        {
         "customdata": [
          [
           "H021-AY48DS-M1-Q1",
           "UPDC",
           "intermediate"
          ]
         ],
         "hovertemplate": "Sample name: %{customdata[0]}<br>code_oncotree: %{customdata[1]}<br>TCC GROUP: %{customdata[2]}<extra></extra>",
         "legendgroup": "UPDC",
         "marker": {
          "color": "#FFA15A",
          "opacity": 0.7,
          "symbol": "circle"
         },
         "mode": "markers",
         "name": "UPDC",
         "scene": "scene",
         "showlegend": true,
         "type": "scatter3d",
         "x": {
          "bdata": "VTPaQA==",
          "dtype": "f4"
         },
         "y": {
          "bdata": "oC6uQA==",
          "dtype": "f4"
         },
         "z": {
          "bdata": "86XPPw==",
          "dtype": "f4"
         }
        },
        {
         "customdata": [
          [
           "H021-BNRT5R-M1",
           "SBWDNET",
           "intermediate"
          ]
         ],
         "hovertemplate": "Sample name: %{customdata[0]}<br>code_oncotree: %{customdata[1]}<br>TCC GROUP: %{customdata[2]}<extra></extra>",
         "legendgroup": "SBWDNET",
         "marker": {
          "color": "#19d3f3",
          "opacity": 0.7,
          "symbol": "circle"
         },
         "mode": "markers",
         "name": "SBWDNET",
         "scene": "scene",
         "showlegend": true,
         "type": "scatter3d",
         "x": {
          "bdata": "aLM7QA==",
          "dtype": "f4"
         },
         "y": {
          "bdata": "aH21Pw==",
          "dtype": "f4"
         },
         "z": {
          "bdata": "Yk5MPw==",
          "dtype": "f4"
         }
        },
        {
         "customdata": [
          [
           "H021-BSDEKA-M6-Q1",
           "UAD",
           "intermediate"
          ],
          [
           "H021-P2KAZ5-M2-Q1",
           "UAD",
           "very low"
          ]
         ],
         "hovertemplate": "Sample name: %{customdata[0]}<br>code_oncotree: %{customdata[1]}<br>TCC GROUP: %{customdata[2]}<extra></extra>",
         "legendgroup": "UAD",
         "marker": {
          "color": "#FF6692",
          "opacity": 0.7,
          "symbol": "circle"
         },
         "mode": "markers",
         "name": "UAD",
         "scene": "scene",
         "showlegend": true,
         "type": "scatter3d",
         "x": {
          "bdata": "WD2XQNZKHUA=",
          "dtype": "f4"
         },
         "y": {
          "bdata": "Mu6cPwwCUEA=",
          "dtype": "f4"
         },
         "z": {
          "bdata": "Puf6P0AN8D8=",
          "dtype": "f4"
         }
        },
        {
         "customdata": [
          [
           "H021-DZ7YXK-M1-Q1",
           "UCU",
           "intermediate"
          ]
         ],
         "hovertemplate": "Sample name: %{customdata[0]}<br>code_oncotree: %{customdata[1]}<br>TCC GROUP: %{customdata[2]}<extra></extra>",
         "legendgroup": "UCU",
         "marker": {
          "color": "#B6E880",
          "opacity": 0.7,
          "symbol": "circle"
         },
         "mode": "markers",
         "name": "UCU",
         "scene": "scene",
         "showlegend": true,
         "type": "scatter3d",
         "x": {
          "bdata": "+iV1QA==",
          "dtype": "f4"
         },
         "y": {
          "bdata": "8W5TPw==",
          "dtype": "f4"
         },
         "z": {
          "bdata": "CaMhQA==",
          "dtype": "f4"
         }
        },
        {
         "customdata": [
          [
           "H021-FQG62Y-M1-Q1",
           "NBL",
           "intermediate"
          ]
         ],
         "hovertemplate": "Sample name: %{customdata[0]}<br>code_oncotree: %{customdata[1]}<br>TCC GROUP: %{customdata[2]}<extra></extra>",
         "legendgroup": "NBL",
         "marker": {
          "color": "#FF97FF",
          "opacity": 0.7,
          "symbol": "circle"
         },
         "mode": "markers",
         "name": "NBL",
         "scene": "scene",
         "showlegend": true,
         "type": "scatter3d",
         "x": {
          "bdata": "/rLbQA==",
          "dtype": "f4"
         },
         "y": {
          "bdata": "zk3APw==",
          "dtype": "f4"
         },
         "z": {
          "bdata": "roSvPw==",
          "dtype": "f4"
         }
        },
        {
         "customdata": [
          [
           "H021-GEUYF9-M1-Q1",
           "PRNE",
           "intermediate"
          ],
          [
           "H021-THC97U5-M1-Q1",
           "PRNE",
           "intermediate"
          ]
         ],
         "hovertemplate": "Sample name: %{customdata[0]}<br>code_oncotree: %{customdata[1]}<br>TCC GROUP: %{customdata[2]}<extra></extra>",
         "legendgroup": "PRNE",
         "marker": {
          "color": "#FECB52",
          "opacity": 0.7,
          "symbol": "circle"
         },
         "mode": "markers",
         "name": "PRNE",
         "scene": "scene",
         "showlegend": true,
         "type": "scatter3d",
         "x": {
          "bdata": "lx1XQALkikA=",
          "dtype": "f4"
         },
         "y": {
          "bdata": "GauIPVHJOkA=",
          "dtype": "f4"
         },
         "z": {
          "bdata": "3JcRQAeKvr4=",
          "dtype": "f4"
         }
        },
        {
         "customdata": [
          [
           "H021-HC6UFK-M4-Q1",
           "NUTCL",
           "intermediate"
          ]
         ],
         "hovertemplate": "Sample name: %{customdata[0]}<br>code_oncotree: %{customdata[1]}<br>TCC GROUP: %{customdata[2]}<extra></extra>",
         "legendgroup": "NUTCL",
         "marker": {
          "color": "#636efa",
          "opacity": 0.7,
          "symbol": "circle"
         },
         "mode": "markers",
         "name": "NUTCL",
         "scene": "scene",
         "showlegend": true,
         "type": "scatter3d",
         "x": {
          "bdata": "2GwSQQ==",
          "dtype": "f4"
         },
         "y": {
          "bdata": "3RorQA==",
          "dtype": "f4"
         },
         "z": {
          "bdata": "I8zBPw==",
          "dtype": "f4"
         }
        },
        {
         "customdata": [
          [
           "H021-HPVSB4-M1-Q1",
           "UNCMAL",
           "intermediate"
          ],
          [
           "H021-MXAJXV-M1-Q1",
           "UNCMAL",
           "intermediate"
          ],
          [
           "H021-978GLK-T1-Q1",
           "UNCMAL",
           "intermediate"
          ],
          [
           "H021-F2A9VV-U1",
           "UNCMAL",
           "very low"
          ]
         ],
         "hovertemplate": "Sample name: %{customdata[0]}<br>code_oncotree: %{customdata[1]}<br>TCC GROUP: %{customdata[2]}<extra></extra>",
         "legendgroup": "UNCMAL",
         "marker": {
          "color": "#EF553B",
          "opacity": 0.7,
          "symbol": "circle"
         },
         "mode": "markers",
         "name": "UNCMAL",
         "scene": "scene",
         "showlegend": true,
         "type": "scatter3d",
         "x": {
          "bdata": "Iv55QKzvq0B5eadAsyqoQA==",
          "dtype": "f4"
         },
         "y": {
          "bdata": "rlHZP5I5A0AkreM/0x+oQA==",
          "dtype": "f4"
         },
         "z": {
          "bdata": "0k8pQNY2tz9skWo/8nSOPw==",
          "dtype": "f4"
         }
        },
        {
         "customdata": [
          [
           "H021-JAYS1K-M2-Q1",
           "OGCT",
           "intermediate"
          ]
         ],
         "hovertemplate": "Sample name: %{customdata[0]}<br>code_oncotree: %{customdata[1]}<br>TCC GROUP: %{customdata[2]}<extra></extra>",
         "legendgroup": "OGCT",
         "marker": {
          "color": "#00cc96",
          "opacity": 0.7,
          "symbol": "circle"
         },
         "mode": "markers",
         "name": "OGCT",
         "scene": "scene",
         "showlegend": true,
         "type": "scatter3d",
         "x": {
          "bdata": "NJe+QA==",
          "dtype": "f4"
         },
         "y": {
          "bdata": "Su6aPw==",
          "dtype": "f4"
         },
         "z": {
          "bdata": "UiwlQA==",
          "dtype": "f4"
         }
        },
        {
         "customdata": [
          [
           "H021-KFNAL7-M1",
           "PSEC",
           "intermediate"
          ]
         ],
         "hovertemplate": "Sample name: %{customdata[0]}<br>code_oncotree: %{customdata[1]}<br>TCC GROUP: %{customdata[2]}<extra></extra>",
         "legendgroup": "PSEC",
         "marker": {
          "color": "#ab63fa",
          "opacity": 0.7,
          "symbol": "circle"
         },
         "mode": "markers",
         "name": "PSEC",
         "scene": "scene",
         "showlegend": true,
         "type": "scatter3d",
         "x": {
          "bdata": "dw07QA==",
          "dtype": "f4"
         },
         "y": {
          "bdata": "ifFPQA==",
          "dtype": "f4"
         },
         "z": {
          "bdata": "nRRGQA==",
          "dtype": "f4"
         }
        },
        {
         "customdata": [
          [
           "H021-P9G5GE-M1-Q1",
           "LIMNET",
           "intermediate"
          ]
         ],
         "hovertemplate": "Sample name: %{customdata[0]}<br>code_oncotree: %{customdata[1]}<br>TCC GROUP: %{customdata[2]}<extra></extra>",
         "legendgroup": "LIMNET",
         "marker": {
          "color": "#FFA15A",
          "opacity": 0.7,
          "symbol": "circle"
         },
         "mode": "markers",
         "name": "LIMNET",
         "scene": "scene",
         "showlegend": true,
         "type": "scatter3d",
         "x": {
          "bdata": "G3DHQA==",
          "dtype": "f4"
         },
         "y": {
          "bdata": "QCJbPw==",
          "dtype": "f4"
         },
         "z": {
          "bdata": "3W0iPw==",
          "dtype": "f4"
         }
        },
        {
         "customdata": [
          [
           "H021-PZY43V-T1-Q1",
           "SEBA",
           "intermediate"
          ]
         ],
         "hovertemplate": "Sample name: %{customdata[0]}<br>code_oncotree: %{customdata[1]}<br>TCC GROUP: %{customdata[2]}<extra></extra>",
         "legendgroup": "SEBA",
         "marker": {
          "color": "#19d3f3",
          "opacity": 0.7,
          "symbol": "circle"
         },
         "mode": "markers",
         "name": "SEBA",
         "scene": "scene",
         "showlegend": true,
         "type": "scatter3d",
         "x": {
          "bdata": "APjuQA==",
          "dtype": "f4"
         },
         "y": {
          "bdata": "nduYQA==",
          "dtype": "f4"
         },
         "z": {
          "bdata": "x13RPw==",
          "dtype": "f4"
         }
        },
        {
         "customdata": [
          [
           "H021-RE7R1S-M1-Q1",
           "THHC",
           "intermediate"
          ],
          [
           "H021-T5KDDN-M2-Q1",
           "THHC",
           "intermediate"
          ]
         ],
         "hovertemplate": "Sample name: %{customdata[0]}<br>code_oncotree: %{customdata[1]}<br>TCC GROUP: %{customdata[2]}<extra></extra>",
         "legendgroup": "THHC",
         "marker": {
          "color": "#FF6692",
          "opacity": 0.7,
          "symbol": "circle"
         },
         "mode": "markers",
         "name": "THHC",
         "scene": "scene",
         "showlegend": true,
         "type": "scatter3d",
         "x": {
          "bdata": "5bqPQKX1hUA=",
          "dtype": "f4"
         },
         "y": {
          "bdata": "1bM3QEsnL0A=",
          "dtype": "f4"
         },
         "z": {
          "bdata": "YMmzvtAbm74=",
          "dtype": "f4"
         }
        },
        {
         "customdata": [
          [
           "H021-RWXYWN-M3-Q1",
           "PECOMA",
           "intermediate"
          ],
          [
           "H021-LCQDQV-T1-Q1",
           "PECOMA",
           "low"
          ],
          [
           "H021-9WCL2C-M1-Q1",
           "PECOMA",
           "very low"
          ],
          [
           "H021-DRPWB2-T2-Q1",
           "PECOMA",
           "very low"
          ]
         ],
         "hovertemplate": "Sample name: %{customdata[0]}<br>code_oncotree: %{customdata[1]}<br>TCC GROUP: %{customdata[2]}<extra></extra>",
         "legendgroup": "PECOMA",
         "marker": {
          "color": "#B6E880",
          "opacity": 0.7,
          "symbol": "circle"
         },
         "mode": "markers",
         "name": "PECOMA",
         "scene": "scene",
         "showlegend": true,
         "type": "scatter3d",
         "x": {
          "bdata": "WusOQDxVi0CMckpAlBHpQA==",
          "dtype": "f4"
         },
         "y": {
          "bdata": "/BkBvx2WIkAyYqI/F6sxQA==",
          "dtype": "f4"
         },
         "z": {
          "bdata": "Jpq3P6inUb5cbtQ/KLFvPw==",
          "dtype": "f4"
         }
        },
        {
         "customdata": [
          [
           "H021-S5N2XH-M1-Q2",
           "POCA",
           "intermediate"
          ]
         ],
         "hovertemplate": "Sample name: %{customdata[0]}<br>code_oncotree: %{customdata[1]}<br>TCC GROUP: %{customdata[2]}<extra></extra>",
         "legendgroup": "POCA",
         "marker": {
          "color": "#FF97FF",
          "opacity": 0.7,
          "symbol": "circle"
         },
         "mode": "markers",
         "name": "POCA",
         "scene": "scene",
         "showlegend": true,
         "type": "scatter3d",
         "x": {
          "bdata": "tkqeQA==",
          "dtype": "f4"
         },
         "y": {
          "bdata": "58a0Pw==",
          "dtype": "f4"
         },
         "z": {
          "bdata": "1Lg6QA==",
          "dtype": "f4"
         }
        },
        {
         "customdata": [
          [
           "H021-SERSP4-M1-Q1",
           "LM",
           "intermediate"
          ]
         ],
         "hovertemplate": "Sample name: %{customdata[0]}<br>code_oncotree: %{customdata[1]}<br>TCC GROUP: %{customdata[2]}<extra></extra>",
         "legendgroup": "LM",
         "marker": {
          "color": "#FECB52",
          "opacity": 0.7,
          "symbol": "circle"
         },
         "mode": "markers",
         "name": "LM",
         "scene": "scene",
         "showlegend": true,
         "type": "scatter3d",
         "x": {
          "bdata": "VzfnQA==",
          "dtype": "f4"
         },
         "y": {
          "bdata": "yTlQQA==",
          "dtype": "f4"
         },
         "z": {
          "bdata": "nschQA==",
          "dtype": "f4"
         }
        },
        {
         "customdata": [
          [
           "H021-UCNCE2-M5-Q1",
           "MGCT",
           "intermediate"
          ]
         ],
         "hovertemplate": "Sample name: %{customdata[0]}<br>code_oncotree: %{customdata[1]}<br>TCC GROUP: %{customdata[2]}<extra></extra>",
         "legendgroup": "MGCT",
         "marker": {
          "color": "#636efa",
          "opacity": 0.7,
          "symbol": "circle"
         },
         "mode": "markers",
         "name": "MGCT",
         "scene": "scene",
         "showlegend": true,
         "type": "scatter3d",
         "x": {
          "bdata": "PYykQA==",
          "dtype": "f4"
         },
         "y": {
          "bdata": "5WMhPw==",
          "dtype": "f4"
         },
         "z": {
          "bdata": "lvEWQA==",
          "dtype": "f4"
         }
        },
        {
         "customdata": [
          [
           "H021-WNBGXXT-M1-Q1",
           "SEM",
           "intermediate"
          ]
         ],
         "hovertemplate": "Sample name: %{customdata[0]}<br>code_oncotree: %{customdata[1]}<br>TCC GROUP: %{customdata[2]}<extra></extra>",
         "legendgroup": "SEM",
         "marker": {
          "color": "#EF553B",
          "opacity": 0.7,
          "symbol": "circle"
         },
         "mode": "markers",
         "name": "SEM",
         "scene": "scene",
         "showlegend": true,
         "type": "scatter3d",
         "x": {
          "bdata": "McAPQQ==",
          "dtype": "f4"
         },
         "y": {
          "bdata": "TGSBQA==",
          "dtype": "f4"
         },
         "z": {
          "bdata": "hhhtPw==",
          "dtype": "f4"
         }
        },
        {
         "customdata": [
          [
           "H021-XGRX3M-M3-Q1",
           "NPC",
           "intermediate"
          ]
         ],
         "hovertemplate": "Sample name: %{customdata[0]}<br>code_oncotree: %{customdata[1]}<br>TCC GROUP: %{customdata[2]}<extra></extra>",
         "legendgroup": "NPC",
         "marker": {
          "color": "#00cc96",
          "opacity": 0.7,
          "symbol": "circle"
         },
         "mode": "markers",
         "name": "NPC",
         "scene": "scene",
         "showlegend": true,
         "type": "scatter3d",
         "x": {
          "bdata": "5CRUQA==",
          "dtype": "f4"
         },
         "y": {
          "bdata": "1MGevg==",
          "dtype": "f4"
         },
         "z": {
          "bdata": "3Q7NPw==",
          "dtype": "f4"
         }
        },
        {
         "customdata": [
          [
           "H021-XWSK4J-M1-Q1",
           "MAAP",
           "intermediate"
          ]
         ],
         "hovertemplate": "Sample name: %{customdata[0]}<br>code_oncotree: %{customdata[1]}<br>TCC GROUP: %{customdata[2]}<extra></extra>",
         "legendgroup": "MAAP",
         "marker": {
          "color": "#ab63fa",
          "opacity": 0.7,
          "symbol": "circle"
         },
         "mode": "markers",
         "name": "MAAP",
         "scene": "scene",
         "showlegend": true,
         "type": "scatter3d",
         "x": {
          "bdata": "imixQA==",
          "dtype": "f4"
         },
         "y": {
          "bdata": "uxLKPw==",
          "dtype": "f4"
         },
         "z": {
          "bdata": "1lkKQA==",
          "dtype": "f4"
         }
        },
        {
         "customdata": [
          [
           "H021-YBJP2NN-M1-Q1",
           "LXSC",
           "intermediate"
          ]
         ],
         "hovertemplate": "Sample name: %{customdata[0]}<br>code_oncotree: %{customdata[1]}<br>TCC GROUP: %{customdata[2]}<extra></extra>",
         "legendgroup": "LXSC",
         "marker": {
          "color": "#FFA15A",
          "opacity": 0.7,
          "symbol": "circle"
         },
         "mode": "markers",
         "name": "LXSC",
         "scene": "scene",
         "showlegend": true,
         "type": "scatter3d",
         "x": {
          "bdata": "ApF1QA==",
          "dtype": "f4"
         },
         "y": {
          "bdata": "YCFPPw==",
          "dtype": "f4"
         },
         "z": {
          "bdata": "jm0eQA==",
          "dtype": "f4"
         }
        },
        {
         "customdata": [
          [
           "H021-6K4J7F-M1-Q1",
           "OVT",
           "intermediate"
          ]
         ],
         "hovertemplate": "Sample name: %{customdata[0]}<br>code_oncotree: %{customdata[1]}<br>TCC GROUP: %{customdata[2]}<extra></extra>",
         "legendgroup": "OVT",
         "marker": {
          "color": "#19d3f3",
          "opacity": 0.7,
          "symbol": "circle"
         },
         "mode": "markers",
         "name": "OVT",
         "scene": "scene",
         "showlegend": true,
         "type": "scatter3d",
         "x": {
          "bdata": "9eujQA==",
          "dtype": "f4"
         },
         "y": {
          "bdata": "Ng7nPw==",
          "dtype": "f4"
         },
         "z": {
          "bdata": "lURKPw==",
          "dtype": "f4"
         }
        },
        {
         "customdata": [
          [
           "H021-BKDX6Z-M2-Q1",
           "NST",
           "intermediate"
          ]
         ],
         "hovertemplate": "Sample name: %{customdata[0]}<br>code_oncotree: %{customdata[1]}<br>TCC GROUP: %{customdata[2]}<extra></extra>",
         "legendgroup": "NST",
         "marker": {
          "color": "#FF6692",
          "opacity": 0.7,
          "symbol": "circle"
         },
         "mode": "markers",
         "name": "NST",
         "scene": "scene",
         "showlegend": true,
         "type": "scatter3d",
         "x": {
          "bdata": "MXq9QA==",
          "dtype": "f4"
         },
         "y": {
          "bdata": "knyGPw==",
          "dtype": "f4"
         },
         "z": {
          "bdata": "8+CNPw==",
          "dtype": "f4"
         }
        },
        {
         "customdata": [
          [
           "H021-GJ85B2-T2-Q1",
           "HGESS",
           "intermediate"
          ]
         ],
         "hovertemplate": "Sample name: %{customdata[0]}<br>code_oncotree: %{customdata[1]}<br>TCC GROUP: %{customdata[2]}<extra></extra>",
         "legendgroup": "HGESS",
         "marker": {
          "color": "#B6E880",
          "opacity": 0.7,
          "symbol": "circle"
         },
         "mode": "markers",
         "name": "HGESS",
         "scene": "scene",
         "showlegend": true,
         "type": "scatter3d",
         "x": {
          "bdata": "5huMQA==",
          "dtype": "f4"
         },
         "y": {
          "bdata": "AbXbPw==",
          "dtype": "f4"
         },
         "z": {
          "bdata": "1LQZQA==",
          "dtype": "f4"
         }
        },
        {
         "customdata": [
          [
           "H021-LNH5GS-M1",
           "USTAD",
           "intermediate"
          ]
         ],
         "hovertemplate": "Sample name: %{customdata[0]}<br>code_oncotree: %{customdata[1]}<br>TCC GROUP: %{customdata[2]}<extra></extra>",
         "legendgroup": "USTAD",
         "marker": {
          "color": "#FF97FF",
          "opacity": 0.7,
          "symbol": "circle"
         },
         "mode": "markers",
         "name": "USTAD",
         "scene": "scene",
         "showlegend": true,
         "type": "scatter3d",
         "x": {
          "bdata": "Z9aeQA==",
          "dtype": "f4"
         },
         "y": {
          "bdata": "/VcbQA==",
          "dtype": "f4"
         },
         "z": {
          "bdata": "cGr2Pg==",
          "dtype": "f4"
         }
        },
        {
         "customdata": [
          [
           "H021-1KK46T-M1",
           "CEMN",
           "low"
          ],
          [
           "H021-1KK46T-M2",
           "CEMN",
           "low"
          ]
         ],
         "hovertemplate": "Sample name: %{customdata[0]}<br>code_oncotree: %{customdata[1]}<br>TCC GROUP: %{customdata[2]}<extra></extra>",
         "legendgroup": "CEMN",
         "marker": {
          "color": "#FECB52",
          "opacity": 0.7,
          "symbol": "circle"
         },
         "mode": "markers",
         "name": "CEMN",
         "scene": "scene",
         "showlegend": true,
         "type": "scatter3d",
         "x": {
          "bdata": "cJsuQJd6KEA=",
          "dtype": "f4"
         },
         "y": {
          "bdata": "ux6IvtpNob4=",
          "dtype": "f4"
         },
         "z": {
          "bdata": "E+HWP/VN4D8=",
          "dtype": "f4"
         }
        },
        {
         "customdata": [
          [
           "H021-3HFVRE-M1-Q1",
           "GBASC",
           "low"
          ]
         ],
         "hovertemplate": "Sample name: %{customdata[0]}<br>code_oncotree: %{customdata[1]}<br>TCC GROUP: %{customdata[2]}<extra></extra>",
         "legendgroup": "GBASC",
         "marker": {
          "color": "#636efa",
          "opacity": 0.7,
          "symbol": "circle"
         },
         "mode": "markers",
         "name": "GBASC",
         "scene": "scene",
         "showlegend": true,
         "type": "scatter3d",
         "x": {
          "bdata": "Js2hQA==",
          "dtype": "f4"
         },
         "y": {
          "bdata": "5AqcPw==",
          "dtype": "f4"
         },
         "z": {
          "bdata": "YGPHPw==",
          "dtype": "f4"
         }
        },
        {
         "customdata": [
          [
           "H021-3ST9QG-M2-Q1",
           "HNSC",
           "low"
          ],
          [
           "H021-FVS4WV-T2-Q1",
           "HNSC",
           "low"
          ],
          [
           "H021-T1Y7HM-T1-Q1",
           "HNSC",
           "low"
          ],
          [
           "H021-6G7VSLA-M1-Q1",
           "HNSC",
           "very low"
          ]
         ],
         "hovertemplate": "Sample name: %{customdata[0]}<br>code_oncotree: %{customdata[1]}<br>TCC GROUP: %{customdata[2]}<extra></extra>",
         "legendgroup": "HNSC",
         "marker": {
          "color": "#EF553B",
          "opacity": 0.7,
          "symbol": "circle"
         },
         "mode": "markers",
         "name": "HNSC",
         "scene": "scene",
         "showlegend": true,
         "type": "scatter3d",
         "x": {
          "bdata": "o06vQJIy3UBenMJARSF9QA==",
          "dtype": "f4"
         },
         "y": {
          "bdata": "Ik98PyZUvz/bEHU/B8xJQA==",
          "dtype": "f4"
         },
         "z": {
          "bdata": "oNcgQLyDGkAQ8eE/oalOQA==",
          "dtype": "f4"
         }
        },
        {
         "customdata": [
          [
           "H021-7QUJ2X-M2-Q1",
           "APAD",
           "low"
          ]
         ],
         "hovertemplate": "Sample name: %{customdata[0]}<br>code_oncotree: %{customdata[1]}<br>TCC GROUP: %{customdata[2]}<extra></extra>",
         "legendgroup": "APAD",
         "marker": {
          "color": "#00cc96",
          "opacity": 0.7,
          "symbol": "circle"
         },
         "mode": "markers",
         "name": "APAD",
         "scene": "scene",
         "showlegend": true,
         "type": "scatter3d",
         "x": {
          "bdata": "1VEkQA==",
          "dtype": "f4"
         },
         "y": {
          "bdata": "oV+zvg==",
          "dtype": "f4"
         },
         "z": {
          "bdata": "TMrKPw==",
          "dtype": "f4"
         }
        },
        {
         "customdata": [
          [
           "H021-BQ9Y9R-T1-Q1",
           "BCC",
           "low"
          ]
         ],
         "hovertemplate": "Sample name: %{customdata[0]}<br>code_oncotree: %{customdata[1]}<br>TCC GROUP: %{customdata[2]}<extra></extra>",
         "legendgroup": "BCC",
         "marker": {
          "color": "#ab63fa",
          "opacity": 0.7,
          "symbol": "circle"
         },
         "mode": "markers",
         "name": "BCC",
         "scene": "scene",
         "showlegend": true,
         "type": "scatter3d",
         "x": {
          "bdata": "FrGMQA==",
          "dtype": "f4"
         },
         "y": {
          "bdata": "WlNHQA==",
          "dtype": "f4"
         },
         "z": {
          "bdata": "tmNHQA==",
          "dtype": "f4"
         }
        },
        {
         "customdata": [
          [
           "H021-H2JVJ6-M1",
           "HL",
           "low"
          ],
          [
           "H021-W2KCYWM-M2-Q1",
           "HL",
           "very low"
          ]
         ],
         "hovertemplate": "Sample name: %{customdata[0]}<br>code_oncotree: %{customdata[1]}<br>TCC GROUP: %{customdata[2]}<extra></extra>",
         "legendgroup": "HL",
         "marker": {
          "color": "#FFA15A",
          "opacity": 0.7,
          "symbol": "circle"
         },
         "mode": "markers",
         "name": "HL",
         "scene": "scene",
         "showlegend": true,
         "type": "scatter3d",
         "x": {
          "bdata": "SErrQPUrSEA=",
          "dtype": "f4"
         },
         "y": {
          "bdata": "6Oz7P8Nag0A=",
          "dtype": "f4"
         },
         "z": {
          "bdata": "+78PQFgQ/z8=",
          "dtype": "f4"
         }
        },
        {
         "customdata": [
          [
           "H021-L1MA46-M1-Q1",
           "GBC",
           "low"
          ]
         ],
         "hovertemplate": "Sample name: %{customdata[0]}<br>code_oncotree: %{customdata[1]}<br>TCC GROUP: %{customdata[2]}<extra></extra>",
         "legendgroup": "GBC",
         "marker": {
          "color": "#19d3f3",
          "opacity": 0.7,
          "symbol": "circle"
         },
         "mode": "markers",
         "name": "GBC",
         "scene": "scene",
         "showlegend": true,
         "type": "scatter3d",
         "x": {
          "bdata": "SuxmQA==",
          "dtype": "f4"
         },
         "y": {
          "bdata": "W/AOQA==",
          "dtype": "f4"
         },
         "z": {
          "bdata": "obu3Pw==",
          "dtype": "f4"
         }
        },
        {
         "customdata": [
          [
           "H021-MVGHWG-M6-Q1",
           "LUSC",
           "low"
          ]
         ],
         "hovertemplate": "Sample name: %{customdata[0]}<br>code_oncotree: %{customdata[1]}<br>TCC GROUP: %{customdata[2]}<extra></extra>",
         "legendgroup": "LUSC",
         "marker": {
          "color": "#FF6692",
          "opacity": 0.7,
          "symbol": "circle"
         },
         "mode": "markers",
         "name": "LUSC",
         "scene": "scene",
         "showlegend": true,
         "type": "scatter3d",
         "x": {
          "bdata": "dT94QA==",
          "dtype": "f4"
         },
         "y": {
          "bdata": "mK4OQA==",
          "dtype": "f4"
         },
         "z": {
          "bdata": "U8U1QA==",
          "dtype": "f4"
         }
        },
        {
         "customdata": [
          [
           "H021-XXRVJ5-M2-Q1",
           "TSTAD",
           "low"
          ]
         ],
         "hovertemplate": "Sample name: %{customdata[0]}<br>code_oncotree: %{customdata[1]}<br>TCC GROUP: %{customdata[2]}<extra></extra>",
         "legendgroup": "TSTAD",
         "marker": {
          "color": "#B6E880",
          "opacity": 0.7,
          "symbol": "circle"
         },
         "mode": "markers",
         "name": "TSTAD",
         "scene": "scene",
         "showlegend": true,
         "type": "scatter3d",
         "x": {
          "bdata": "N8UGQA==",
          "dtype": "f4"
         },
         "y": {
          "bdata": "pxULvg==",
          "dtype": "f4"
         },
         "z": {
          "bdata": "zMGKPw==",
          "dtype": "f4"
         }
        },
        {
         "customdata": [
          [
           "H021-ZV4BPP-M1-Q1",
           "MPT",
           "low"
          ]
         ],
         "hovertemplate": "Sample name: %{customdata[0]}<br>code_oncotree: %{customdata[1]}<br>TCC GROUP: %{customdata[2]}<extra></extra>",
         "legendgroup": "MPT",
         "marker": {
          "color": "#FF97FF",
          "opacity": 0.7,
          "symbol": "circle"
         },
         "mode": "markers",
         "name": "MPT",
         "scene": "scene",
         "showlegend": true,
         "type": "scatter3d",
         "x": {
          "bdata": "e8WLQA==",
          "dtype": "f4"
         },
         "y": {
          "bdata": "p6gdQA==",
          "dtype": "f4"
         },
         "z": {
          "bdata": "WdSRvQ==",
          "dtype": "f4"
         }
        },
        {
         "customdata": [
          [
           "I062-029-T2",
           "MNET",
           null
          ],
          [
           "I139-018-T1-R2",
           "MNET",
           null
          ],
          [
           "I139-018-T2",
           "MNET",
           null
          ]
         ],
         "hovertemplate": "Sample name: %{customdata[0]}<br>code_oncotree: %{customdata[1]}<br>TCC GROUP: %{customdata[2]}<extra></extra>",
         "legendgroup": "MNET",
         "marker": {
          "color": "#FECB52",
          "opacity": 0.7,
          "symbol": "circle"
         },
         "mode": "markers",
         "name": "MNET",
         "scene": "scene",
         "showlegend": true,
         "type": "scatter3d",
         "x": {
          "bdata": "YsIMQdNC1kB5WdhA",
          "dtype": "f4"
         },
         "y": {
          "bdata": "4rI4QCunokDOOZZA",
          "dtype": "f4"
         },
         "z": {
          "bdata": "ucQ7PzSYzz5Q0lk+",
          "dtype": "f4"
         }
        },
        {
         "customdata": [
          [
           "H021-9ZENZBK-M3-Q1",
           "AMPCA",
           "very low"
          ]
         ],
         "hovertemplate": "Sample name: %{customdata[0]}<br>code_oncotree: %{customdata[1]}<br>TCC GROUP: %{customdata[2]}<extra></extra>",
         "legendgroup": "AMPCA",
         "marker": {
          "color": "#636efa",
          "opacity": 0.7,
          "symbol": "circle"
         },
         "mode": "markers",
         "name": "AMPCA",
         "scene": "scene",
         "showlegend": true,
         "type": "scatter3d",
         "x": {
          "bdata": "o6gYQA==",
          "dtype": "f4"
         },
         "y": {
          "bdata": "IzUjPw==",
          "dtype": "f4"
         },
         "z": {
          "bdata": "1Q3SPw==",
          "dtype": "f4"
         }
        },
        {
         "customdata": [
          [
           "H021-DKGLER-T2",
           "DES",
           "very low"
          ]
         ],
         "hovertemplate": "Sample name: %{customdata[0]}<br>code_oncotree: %{customdata[1]}<br>TCC GROUP: %{customdata[2]}<extra></extra>",
         "legendgroup": "DES",
         "marker": {
          "color": "#EF553B",
          "opacity": 0.7,
          "symbol": "circle"
         },
         "mode": "markers",
         "name": "DES",
         "scene": "scene",
         "showlegend": true,
         "type": "scatter3d",
         "x": {
          "bdata": "gC6vQA==",
          "dtype": "f4"
         },
         "y": {
          "bdata": "9VGpQA==",
          "dtype": "f4"
         },
         "z": {
          "bdata": "KhmUPw==",
          "dtype": "f4"
         }
        },
        {
         "customdata": [
          [
           "H021-GRT6JZ-M2-Q1",
           "HDCS",
           "very low"
          ]
         ],
         "hovertemplate": "Sample name: %{customdata[0]}<br>code_oncotree: %{customdata[1]}<br>TCC GROUP: %{customdata[2]}<extra></extra>",
         "legendgroup": "HDCS",
         "marker": {
          "color": "#00cc96",
          "opacity": 0.7,
          "symbol": "circle"
         },
         "mode": "markers",
         "name": "HDCS",
         "scene": "scene",
         "showlegend": true,
         "type": "scatter3d",
         "x": {
          "bdata": "VgZzQA==",
          "dtype": "f4"
         },
         "y": {
          "bdata": "MGlRvg==",
          "dtype": "f4"
         },
         "z": {
          "bdata": "TLLKPw==",
          "dtype": "f4"
         }
        },
        {
         "customdata": [
          [
           "H021-QDYNKT-M1-Q1",
           "SSRCC",
           "very low"
          ],
          [
           "H021-QDYNKT-M3-Q1",
           "SSRCC",
           "very low"
          ]
         ],
         "hovertemplate": "Sample name: %{customdata[0]}<br>code_oncotree: %{customdata[1]}<br>TCC GROUP: %{customdata[2]}<extra></extra>",
         "legendgroup": "SSRCC",
         "marker": {
          "color": "#ab63fa",
          "opacity": 0.7,
          "symbol": "circle"
         },
         "mode": "markers",
         "name": "SSRCC",
         "scene": "scene",
         "showlegend": true,
         "type": "scatter3d",
         "x": {
          "bdata": "e5S1QP+4tkA=",
          "dtype": "f4"
         },
         "y": {
          "bdata": "RCKvQGCCsEA=",
          "dtype": "f4"
         },
         "z": {
          "bdata": "uZq7P03Vtj8=",
          "dtype": "f4"
         }
        },
        {
         "customdata": [
          [
           "H021-TS247S-T15-Q1",
           "HCC",
           "very low"
          ]
         ],
         "hovertemplate": "Sample name: %{customdata[0]}<br>code_oncotree: %{customdata[1]}<br>TCC GROUP: %{customdata[2]}<extra></extra>",
         "legendgroup": "HCC",
         "marker": {
          "color": "#FFA15A",
          "opacity": 0.7,
          "symbol": "circle"
         },
         "mode": "markers",
         "name": "HCC",
         "scene": "scene",
         "showlegend": true,
         "type": "scatter3d",
         "x": {
          "bdata": "EyqGQA==",
          "dtype": "f4"
         },
         "y": {
          "bdata": "Sox8QA==",
          "dtype": "f4"
         },
         "z": {
          "bdata": "zfeAvQ==",
          "dtype": "f4"
         }
        },
        {
         "customdata": [
          [
           "H021-VYM29S-T1-Q1",
           "LNM",
           "very low"
          ]
         ],
         "hovertemplate": "Sample name: %{customdata[0]}<br>code_oncotree: %{customdata[1]}<br>TCC GROUP: %{customdata[2]}<extra></extra>",
         "legendgroup": "LNM",
         "marker": {
          "color": "#19d3f3",
          "opacity": 0.7,
          "symbol": "circle"
         },
         "mode": "markers",
         "name": "LNM",
         "scene": "scene",
         "showlegend": true,
         "type": "scatter3d",
         "x": {
          "bdata": "OiCDQA==",
          "dtype": "f4"
         },
         "y": {
          "bdata": "4DZMQA==",
          "dtype": "f4"
         },
         "z": {
          "bdata": "f6JMQA==",
          "dtype": "f4"
         }
        },
        {
         "customdata": [
          [
           "H021-YG77B33-T2-Q1",
           "HEMA",
           "very low"
          ]
         ],
         "hovertemplate": "Sample name: %{customdata[0]}<br>code_oncotree: %{customdata[1]}<br>TCC GROUP: %{customdata[2]}<extra></extra>",
         "legendgroup": "HEMA",
         "marker": {
          "color": "#FF6692",
          "opacity": 0.7,
          "symbol": "circle"
         },
         "mode": "markers",
         "name": "HEMA",
         "scene": "scene",
         "showlegend": true,
         "type": "scatter3d",
         "x": {
          "bdata": "NtKOQA==",
          "dtype": "f4"
         },
         "y": {
          "bdata": "5XNdQA==",
          "dtype": "f4"
         },
         "z": {
          "bdata": "ZqYNQA==",
          "dtype": "f4"
         }
        }
       ],
       "layout": {
        "height": 900,
        "legend": {
         "title": {
          "text": "code_oncotree"
         },
         "tracegroupgap": 0
        },
        "margin": {
         "b": 0,
         "l": 0,
         "r": 0,
         "t": 50
        },
        "scene": {
         "aspectmode": "cube",
         "camera": {
          "eye": {
           "x": 1.5,
           "y": 1.5,
           "z": 1.5
          }
         },
         "domain": {
          "x": [
           0,
           1
          ],
          "y": [
           0,
           1
          ]
         },
         "xaxis": {
          "title": {
           "text": "UMAP 1"
          }
         },
         "yaxis": {
          "title": {
           "text": "UMAP 2"
          }
         },
         "zaxis": {
          "title": {
           "text": "UMAP 3"
          }
         }
        },
        "template": {
         "data": {
          "bar": [
           {
            "error_x": {
             "color": "#2a3f5f"
            },
            "error_y": {
             "color": "#2a3f5f"
            },
            "marker": {
             "line": {
              "color": "#E5ECF6",
              "width": 0.5
             },
             "pattern": {
              "fillmode": "overlay",
              "size": 10,
              "solidity": 0.2
             }
            },
            "type": "bar"
           }
          ],
          "barpolar": [
           {
            "marker": {
             "line": {
              "color": "#E5ECF6",
              "width": 0.5
             },
             "pattern": {
              "fillmode": "overlay",
              "size": 10,
              "solidity": 0.2
             }
            },
            "type": "barpolar"
           }
          ],
          "carpet": [
           {
            "aaxis": {
             "endlinecolor": "#2a3f5f",
             "gridcolor": "white",
             "linecolor": "white",
             "minorgridcolor": "white",
             "startlinecolor": "#2a3f5f"
            },
            "baxis": {
             "endlinecolor": "#2a3f5f",
             "gridcolor": "white",
             "linecolor": "white",
             "minorgridcolor": "white",
             "startlinecolor": "#2a3f5f"
            },
            "type": "carpet"
           }
          ],
          "choropleth": [
           {
            "colorbar": {
             "outlinewidth": 0,
             "ticks": ""
            },
            "type": "choropleth"
           }
          ],
          "contour": [
           {
            "colorbar": {
             "outlinewidth": 0,
             "ticks": ""
            },
            "colorscale": [
             [
              0,
              "#0d0887"
             ],
             [
              0.1111111111111111,
              "#46039f"
             ],
             [
              0.2222222222222222,
              "#7201a8"
             ],
             [
              0.3333333333333333,
              "#9c179e"
             ],
             [
              0.4444444444444444,
              "#bd3786"
             ],
             [
              0.5555555555555556,
              "#d8576b"
             ],
             [
              0.6666666666666666,
              "#ed7953"
             ],
             [
              0.7777777777777778,
              "#fb9f3a"
             ],
             [
              0.8888888888888888,
              "#fdca26"
             ],
             [
              1,
              "#f0f921"
             ]
            ],
            "type": "contour"
           }
          ],
          "contourcarpet": [
           {
            "colorbar": {
             "outlinewidth": 0,
             "ticks": ""
            },
            "type": "contourcarpet"
           }
          ],
          "heatmap": [
           {
            "colorbar": {
             "outlinewidth": 0,
             "ticks": ""
            },
            "colorscale": [
             [
              0,
              "#0d0887"
             ],
             [
              0.1111111111111111,
              "#46039f"
             ],
             [
              0.2222222222222222,
              "#7201a8"
             ],
             [
              0.3333333333333333,
              "#9c179e"
             ],
             [
              0.4444444444444444,
              "#bd3786"
             ],
             [
              0.5555555555555556,
              "#d8576b"
             ],
             [
              0.6666666666666666,
              "#ed7953"
             ],
             [
              0.7777777777777778,
              "#fb9f3a"
             ],
             [
              0.8888888888888888,
              "#fdca26"
             ],
             [
              1,
              "#f0f921"
             ]
            ],
            "type": "heatmap"
           }
          ],
          "histogram": [
           {
            "marker": {
             "pattern": {
              "fillmode": "overlay",
              "size": 10,
              "solidity": 0.2
             }
            },
            "type": "histogram"
           }
          ],
          "histogram2d": [
           {
            "colorbar": {
             "outlinewidth": 0,
             "ticks": ""
            },
            "colorscale": [
             [
              0,
              "#0d0887"
             ],
             [
              0.1111111111111111,
              "#46039f"
             ],
             [
              0.2222222222222222,
              "#7201a8"
             ],
             [
              0.3333333333333333,
              "#9c179e"
             ],
             [
              0.4444444444444444,
              "#bd3786"
             ],
             [
              0.5555555555555556,
              "#d8576b"
             ],
             [
              0.6666666666666666,
              "#ed7953"
             ],
             [
              0.7777777777777778,
              "#fb9f3a"
             ],
             [
              0.8888888888888888,
              "#fdca26"
             ],
             [
              1,
              "#f0f921"
             ]
            ],
            "type": "histogram2d"
           }
          ],
          "histogram2dcontour": [
           {
            "colorbar": {
             "outlinewidth": 0,
             "ticks": ""
            },
            "colorscale": [
             [
              0,
              "#0d0887"
             ],
             [
              0.1111111111111111,
              "#46039f"
             ],
             [
              0.2222222222222222,
              "#7201a8"
             ],
             [
              0.3333333333333333,
              "#9c179e"
             ],
             [
              0.4444444444444444,
              "#bd3786"
             ],
             [
              0.5555555555555556,
              "#d8576b"
             ],
             [
              0.6666666666666666,
              "#ed7953"
             ],
             [
              0.7777777777777778,
              "#fb9f3a"
             ],
             [
              0.8888888888888888,
              "#fdca26"
             ],
             [
              1,
              "#f0f921"
             ]
            ],
            "type": "histogram2dcontour"
           }
          ],
          "mesh3d": [
           {
            "colorbar": {
             "outlinewidth": 0,
             "ticks": ""
            },
            "type": "mesh3d"
           }
          ],
          "parcoords": [
           {
            "line": {
             "colorbar": {
              "outlinewidth": 0,
              "ticks": ""
             }
            },
            "type": "parcoords"
           }
          ],
          "pie": [
           {
            "automargin": true,
            "type": "pie"
           }
          ],
          "scatter": [
           {
            "fillpattern": {
             "fillmode": "overlay",
             "size": 10,
             "solidity": 0.2
            },
            "type": "scatter"
           }
          ],
          "scatter3d": [
           {
            "line": {
             "colorbar": {
              "outlinewidth": 0,
              "ticks": ""
             }
            },
            "marker": {
             "colorbar": {
              "outlinewidth": 0,
              "ticks": ""
             }
            },
            "type": "scatter3d"
           }
          ],
          "scattercarpet": [
           {
            "marker": {
             "colorbar": {
              "outlinewidth": 0,
              "ticks": ""
             }
            },
            "type": "scattercarpet"
           }
          ],
          "scattergeo": [
           {
            "marker": {
             "colorbar": {
              "outlinewidth": 0,
              "ticks": ""
             }
            },
            "type": "scattergeo"
           }
          ],
          "scattergl": [
           {
            "marker": {
             "colorbar": {
              "outlinewidth": 0,
              "ticks": ""
             }
            },
            "type": "scattergl"
           }
          ],
          "scattermap": [
           {
            "marker": {
             "colorbar": {
              "outlinewidth": 0,
              "ticks": ""
             }
            },
            "type": "scattermap"
           }
          ],
          "scattermapbox": [
           {
            "marker": {
             "colorbar": {
              "outlinewidth": 0,
              "ticks": ""
             }
            },
            "type": "scattermapbox"
           }
          ],
          "scatterpolar": [
           {
            "marker": {
             "colorbar": {
              "outlinewidth": 0,
              "ticks": ""
             }
            },
            "type": "scatterpolar"
           }
          ],
          "scatterpolargl": [
           {
            "marker": {
             "colorbar": {
              "outlinewidth": 0,
              "ticks": ""
             }
            },
            "type": "scatterpolargl"
           }
          ],
          "scatterternary": [
           {
            "marker": {
             "colorbar": {
              "outlinewidth": 0,
              "ticks": ""
             }
            },
            "type": "scatterternary"
           }
          ],
          "surface": [
           {
            "colorbar": {
             "outlinewidth": 0,
             "ticks": ""
            },
            "colorscale": [
             [
              0,
              "#0d0887"
             ],
             [
              0.1111111111111111,
              "#46039f"
             ],
             [
              0.2222222222222222,
              "#7201a8"
             ],
             [
              0.3333333333333333,
              "#9c179e"
             ],
             [
              0.4444444444444444,
              "#bd3786"
             ],
             [
              0.5555555555555556,
              "#d8576b"
             ],
             [
              0.6666666666666666,
              "#ed7953"
             ],
             [
              0.7777777777777778,
              "#fb9f3a"
             ],
             [
              0.8888888888888888,
              "#fdca26"
             ],
             [
              1,
              "#f0f921"
             ]
            ],
            "type": "surface"
           }
          ],
          "table": [
           {
            "cells": {
             "fill": {
              "color": "#EBF0F8"
             },
             "line": {
              "color": "white"
             }
            },
            "header": {
             "fill": {
              "color": "#C8D4E3"
             },
             "line": {
              "color": "white"
             }
            },
            "type": "table"
           }
          ]
         },
         "layout": {
          "annotationdefaults": {
           "arrowcolor": "#2a3f5f",
           "arrowhead": 0,
           "arrowwidth": 1
          },
          "autotypenumbers": "strict",
          "coloraxis": {
           "colorbar": {
            "outlinewidth": 0,
            "ticks": ""
           }
          },
          "colorscale": {
           "diverging": [
            [
             0,
             "#8e0152"
            ],
            [
             0.1,
             "#c51b7d"
            ],
            [
             0.2,
             "#de77ae"
            ],
            [
             0.3,
             "#f1b6da"
            ],
            [
             0.4,
             "#fde0ef"
            ],
            [
             0.5,
             "#f7f7f7"
            ],
            [
             0.6,
             "#e6f5d0"
            ],
            [
             0.7,
             "#b8e186"
            ],
            [
             0.8,
             "#7fbc41"
            ],
            [
             0.9,
             "#4d9221"
            ],
            [
             1,
             "#276419"
            ]
           ],
           "sequential": [
            [
             0,
             "#0d0887"
            ],
            [
             0.1111111111111111,
             "#46039f"
            ],
            [
             0.2222222222222222,
             "#7201a8"
            ],
            [
             0.3333333333333333,
             "#9c179e"
            ],
            [
             0.4444444444444444,
             "#bd3786"
            ],
            [
             0.5555555555555556,
             "#d8576b"
            ],
            [
             0.6666666666666666,
             "#ed7953"
            ],
            [
             0.7777777777777778,
             "#fb9f3a"
            ],
            [
             0.8888888888888888,
             "#fdca26"
            ],
            [
             1,
             "#f0f921"
            ]
           ],
           "sequentialminus": [
            [
             0,
             "#0d0887"
            ],
            [
             0.1111111111111111,
             "#46039f"
            ],
            [
             0.2222222222222222,
             "#7201a8"
            ],
            [
             0.3333333333333333,
             "#9c179e"
            ],
            [
             0.4444444444444444,
             "#bd3786"
            ],
            [
             0.5555555555555556,
             "#d8576b"
            ],
            [
             0.6666666666666666,
             "#ed7953"
            ],
            [
             0.7777777777777778,
             "#fb9f3a"
            ],
            [
             0.8888888888888888,
             "#fdca26"
            ],
            [
             1,
             "#f0f921"
            ]
           ]
          },
          "colorway": [
           "#636efa",
           "#EF553B",
           "#00cc96",
           "#ab63fa",
           "#FFA15A",
           "#19d3f3",
           "#FF6692",
           "#B6E880",
           "#FF97FF",
           "#FECB52"
          ],
          "font": {
           "color": "#2a3f5f"
          },
          "geo": {
           "bgcolor": "white",
           "lakecolor": "white",
           "landcolor": "#E5ECF6",
           "showlakes": true,
           "showland": true,
           "subunitcolor": "white"
          },
          "hoverlabel": {
           "align": "left"
          },
          "hovermode": "closest",
          "mapbox": {
           "style": "light"
          },
          "paper_bgcolor": "white",
          "plot_bgcolor": "#E5ECF6",
          "polar": {
           "angularaxis": {
            "gridcolor": "white",
            "linecolor": "white",
            "ticks": ""
           },
           "bgcolor": "#E5ECF6",
           "radialaxis": {
            "gridcolor": "white",
            "linecolor": "white",
            "ticks": ""
           }
          },
          "scene": {
           "xaxis": {
            "backgroundcolor": "#E5ECF6",
            "gridcolor": "white",
            "gridwidth": 2,
            "linecolor": "white",
            "showbackground": true,
            "ticks": "",
            "zerolinecolor": "white"
           },
           "yaxis": {
            "backgroundcolor": "#E5ECF6",
            "gridcolor": "white",
            "gridwidth": 2,
            "linecolor": "white",
            "showbackground": true,
            "ticks": "",
            "zerolinecolor": "white"
           },
           "zaxis": {
            "backgroundcolor": "#E5ECF6",
            "gridcolor": "white",
            "gridwidth": 2,
            "linecolor": "white",
            "showbackground": true,
            "ticks": "",
            "zerolinecolor": "white"
           }
          },
          "shapedefaults": {
           "line": {
            "color": "#2a3f5f"
           }
          },
          "ternary": {
           "aaxis": {
            "gridcolor": "white",
            "linecolor": "white",
            "ticks": ""
           },
           "baxis": {
            "gridcolor": "white",
            "linecolor": "white",
            "ticks": ""
           },
           "bgcolor": "#E5ECF6",
           "caxis": {
            "gridcolor": "white",
            "linecolor": "white",
            "ticks": ""
           }
          },
          "title": {
           "x": 0.05
          },
          "xaxis": {
           "automargin": true,
           "gridcolor": "white",
           "linecolor": "white",
           "ticks": "",
           "title": {
            "standoff": 15
           },
           "zerolinecolor": "white",
           "zerolinewidth": 2
          },
          "yaxis": {
           "automargin": true,
           "gridcolor": "white",
           "linecolor": "white",
           "ticks": "",
           "title": {
            "standoff": 15
           },
           "zerolinecolor": "white",
           "zerolinewidth": 2
          }
         }
        },
        "title": {
         "font": {
          "size": 14
         },
         "text": "BRCA",
         "x": 0.5,
         "xanchor": "center"
        },
        "width": 900
       }
      }
     },
     "metadata": {},
     "output_type": "display_data"
    }
   ],
   "source": [
    "grph.create_umap_plot(df=initial_df, \n",
    "                       feature_columns= entity_proteins, \n",
    "                       color_column='code_oncotree', \n",
    "                       metadata_cols=['Sample name', 'code_oncotree', 'TCC GROUP'],\n",
    "                       n_neighbors=5)"
   ]
  },
  {
   "cell_type": "code",
   "execution_count": 116,
   "id": "ff59edef",
   "metadata": {},
   "outputs": [
    {
     "ename": "ValueError",
     "evalue": "\nImage export using the \"kaleido\" engine requires the Kaleido package,\nwhich can be installed using pip:\n\n    $ pip install --upgrade kaleido\n",
     "output_type": "error",
     "traceback": [
      "\u001b[31m---------------------------------------------------------------------------\u001b[39m",
      "\u001b[31mValueError\u001b[39m                                Traceback (most recent call last)",
      "\u001b[36mCell\u001b[39m\u001b[36m \u001b[39m\u001b[32mIn[116]\u001b[39m\u001b[32m, line 1\u001b[39m\n\u001b[32m----> \u001b[39m\u001b[32m1\u001b[39m \u001b[43mgrph\u001b[49m\u001b[43m.\u001b[49m\u001b[43mplot_tcc_vs_probability\u001b[49m\u001b[43m(\u001b[49m\u001b[43minitial_df\u001b[49m\u001b[43m,\u001b[49m\u001b[43m \u001b[49m\u001b[43mtest_entity_scores\u001b[49m\u001b[43m)\u001b[49m\n",
      "\u001b[36mFile \u001b[39m\u001b[32m~/tumor_type_prediction/src/data/graphs.py:171\u001b[39m, in \u001b[36mplot_tcc_vs_probability\u001b[39m\u001b[34m(TCC_df, probabilities_df)\u001b[39m\n\u001b[32m    168\u001b[39m \u001b[38;5;66;03m# export\u001b[39;00m\n\u001b[32m    170\u001b[39m fig.write_html(\u001b[33m'\u001b[39m\u001b[33m/\u001b[39m\u001b[33m'\u001b[39m.join([output_dir, \u001b[33m'\u001b[39m\u001b[33mTCC_probs_scatterplot.html\u001b[39m\u001b[33m'\u001b[39m]), include_plotlyjs=\u001b[38;5;28;01mTrue\u001b[39;00m)\n\u001b[32m--> \u001b[39m\u001b[32m171\u001b[39m \u001b[43mfig\u001b[49m\u001b[43m.\u001b[49m\u001b[43mwrite_image\u001b[49m\u001b[43m(\u001b[49m\u001b[33;43m'\u001b[39;49m\u001b[33;43m/\u001b[39;49m\u001b[33;43m'\u001b[39;49m\u001b[43m.\u001b[49m\u001b[43mjoin\u001b[49m\u001b[43m(\u001b[49m\u001b[43m[\u001b[49m\u001b[43moutput_dir\u001b[49m\u001b[43m,\u001b[49m\u001b[43m \u001b[49m\u001b[33;43m'\u001b[39;49m\u001b[33;43mTCC_probs_scatterplt.png\u001b[39;49m\u001b[33;43m'\u001b[39;49m\u001b[43m]\u001b[49m\u001b[43m)\u001b[49m\u001b[43m)\u001b[49m\n\u001b[32m    172\u001b[39m \u001b[38;5;28mprint\u001b[39m (\u001b[33mf\u001b[39m\u001b[33m\"\u001b[39m\u001b[33mPlot saved as: \u001b[39m\u001b[38;5;132;01m{\u001b[39;00moutput_dir\u001b[38;5;132;01m}\u001b[39;00m\u001b[33m/TCC_probs_scatterplot.html and \u001b[39m\u001b[38;5;132;01m{\u001b[39;00moutput_dir\u001b[38;5;132;01m}\u001b[39;00m\u001b[33m/TCC_probs_scatterplt.png\u001b[39m\u001b[33m\"\u001b[39m)\n\u001b[32m    173\u001b[39m \u001b[38;5;28;01mreturn\u001b[39;00m fig\n",
      "\u001b[36mFile \u001b[39m\u001b[32m~/miniconda3/envs/tumor_type_clasifier/lib/python3.13/site-packages/plotly/basedatatypes.py:3895\u001b[39m, in \u001b[36mBaseFigure.write_image\u001b[39m\u001b[34m(self, *args, **kwargs)\u001b[39m\n\u001b[32m   3891\u001b[39m     \u001b[38;5;28;01mif\u001b[39;00m kwargs.get(\u001b[33m\"\u001b[39m\u001b[33mengine\u001b[39m\u001b[33m\"\u001b[39m, \u001b[38;5;28;01mNone\u001b[39;00m):\n\u001b[32m   3892\u001b[39m         warnings.warn(\n\u001b[32m   3893\u001b[39m             ENGINE_PARAM_DEPRECATION_MSG, \u001b[38;5;167;01mDeprecationWarning\u001b[39;00m, stacklevel=\u001b[32m2\u001b[39m\n\u001b[32m   3894\u001b[39m         )\n\u001b[32m-> \u001b[39m\u001b[32m3895\u001b[39m \u001b[38;5;28;01mreturn\u001b[39;00m \u001b[43mpio\u001b[49m\u001b[43m.\u001b[49m\u001b[43mwrite_image\u001b[49m\u001b[43m(\u001b[49m\u001b[38;5;28;43mself\u001b[39;49m\u001b[43m,\u001b[49m\u001b[43m \u001b[49m\u001b[43m*\u001b[49m\u001b[43margs\u001b[49m\u001b[43m,\u001b[49m\u001b[43m \u001b[49m\u001b[43m*\u001b[49m\u001b[43m*\u001b[49m\u001b[43mkwargs\u001b[49m\u001b[43m)\u001b[49m\n",
      "\u001b[36mFile \u001b[39m\u001b[32m~/miniconda3/envs/tumor_type_clasifier/lib/python3.13/site-packages/plotly/io/_kaleido.py:510\u001b[39m, in \u001b[36mwrite_image\u001b[39m\u001b[34m(fig, file, format, scale, width, height, validate, engine)\u001b[39m\n\u001b[32m    506\u001b[39m \u001b[38;5;28mformat\u001b[39m = infer_format(path, \u001b[38;5;28mformat\u001b[39m)\n\u001b[32m    508\u001b[39m \u001b[38;5;66;03m# Request image\u001b[39;00m\n\u001b[32m    509\u001b[39m \u001b[38;5;66;03m# Do this first so we don't create a file if image conversion fails\u001b[39;00m\n\u001b[32m--> \u001b[39m\u001b[32m510\u001b[39m img_data = \u001b[43mto_image\u001b[49m\u001b[43m(\u001b[49m\n\u001b[32m    511\u001b[39m \u001b[43m    \u001b[49m\u001b[43mfig\u001b[49m\u001b[43m,\u001b[49m\n\u001b[32m    512\u001b[39m \u001b[43m    \u001b[49m\u001b[38;5;28;43mformat\u001b[39;49m\u001b[43m=\u001b[49m\u001b[38;5;28;43mformat\u001b[39;49m\u001b[43m,\u001b[49m\n\u001b[32m    513\u001b[39m \u001b[43m    \u001b[49m\u001b[43mscale\u001b[49m\u001b[43m=\u001b[49m\u001b[43mscale\u001b[49m\u001b[43m,\u001b[49m\n\u001b[32m    514\u001b[39m \u001b[43m    \u001b[49m\u001b[43mwidth\u001b[49m\u001b[43m=\u001b[49m\u001b[43mwidth\u001b[49m\u001b[43m,\u001b[49m\n\u001b[32m    515\u001b[39m \u001b[43m    \u001b[49m\u001b[43mheight\u001b[49m\u001b[43m=\u001b[49m\u001b[43mheight\u001b[49m\u001b[43m,\u001b[49m\n\u001b[32m    516\u001b[39m \u001b[43m    \u001b[49m\u001b[43mvalidate\u001b[49m\u001b[43m=\u001b[49m\u001b[43mvalidate\u001b[49m\u001b[43m,\u001b[49m\n\u001b[32m    517\u001b[39m \u001b[43m    \u001b[49m\u001b[43mengine\u001b[49m\u001b[43m=\u001b[49m\u001b[43mengine\u001b[49m\u001b[43m,\u001b[49m\n\u001b[32m    518\u001b[39m \u001b[43m\u001b[49m\u001b[43m)\u001b[49m\n\u001b[32m    520\u001b[39m \u001b[38;5;66;03m# Open file\u001b[39;00m\n\u001b[32m    521\u001b[39m \u001b[38;5;28;01mif\u001b[39;00m path \u001b[38;5;129;01mis\u001b[39;00m \u001b[38;5;28;01mNone\u001b[39;00m:\n\u001b[32m    522\u001b[39m     \u001b[38;5;66;03m# We previously failed to make sense of `file` as a pathlib object.\u001b[39;00m\n\u001b[32m    523\u001b[39m     \u001b[38;5;66;03m# Attempt to write to `file` as an open file descriptor.\u001b[39;00m\n",
      "\u001b[36mFile \u001b[39m\u001b[32m~/miniconda3/envs/tumor_type_clasifier/lib/python3.13/site-packages/plotly/io/_kaleido.py:345\u001b[39m, in \u001b[36mto_image\u001b[39m\u001b[34m(fig, format, width, height, scale, validate, engine)\u001b[39m\n\u001b[32m    343\u001b[39m     \u001b[38;5;66;03m# Raise informative error message if Kaleido is not installed\u001b[39;00m\n\u001b[32m    344\u001b[39m     \u001b[38;5;28;01mif\u001b[39;00m \u001b[38;5;129;01mnot\u001b[39;00m kaleido_available():\n\u001b[32m--> \u001b[39m\u001b[32m345\u001b[39m         \u001b[38;5;28;01mraise\u001b[39;00m \u001b[38;5;167;01mValueError\u001b[39;00m(\n\u001b[32m    346\u001b[39m \u001b[38;5;250m            \u001b[39m\u001b[33;03m\"\"\"\u001b[39;00m\n\u001b[32m    347\u001b[39m \u001b[33;03mImage export using the \"kaleido\" engine requires the Kaleido package,\u001b[39;00m\n\u001b[32m    348\u001b[39m \u001b[33;03mwhich can be installed using pip:\u001b[39;00m\n\u001b[32m    349\u001b[39m \n\u001b[32m    350\u001b[39m \u001b[33;03m    $ pip install --upgrade kaleido\u001b[39;00m\n\u001b[32m    351\u001b[39m \u001b[33;03m\"\"\"\u001b[39;00m\n\u001b[32m    352\u001b[39m         )\n\u001b[32m    354\u001b[39m     \u001b[38;5;66;03m# Convert figure to dict (and validate if requested)\u001b[39;00m\n\u001b[32m    355\u001b[39m     fig_dict = validate_coerce_fig_to_dict(fig, validate)\n",
      "\u001b[31mValueError\u001b[39m: \nImage export using the \"kaleido\" engine requires the Kaleido package,\nwhich can be installed using pip:\n\n    $ pip install --upgrade kaleido\n"
     ]
    }
   ],
   "source": [
    "grph.plot_tcc_vs_probability(initial_df, test_entity_scores)"
   ]
  },
  {
   "cell_type": "code",
   "execution_count": null,
   "id": "45dd7b65",
   "metadata": {},
   "outputs": [],
   "source": []
  }
 ],
 "metadata": {
  "kernelspec": {
   "display_name": "tumor_type_clasifier",
   "language": "python",
   "name": "python3"
  },
  "language_info": {
   "codemirror_mode": {
    "name": "ipython",
    "version": 3
   },
   "file_extension": ".py",
   "mimetype": "text/x-python",
   "name": "python",
   "nbconvert_exporter": "python",
   "pygments_lexer": "ipython3",
   "version": "3.13.5"
  }
 },
 "nbformat": 4,
 "nbformat_minor": 5
}
