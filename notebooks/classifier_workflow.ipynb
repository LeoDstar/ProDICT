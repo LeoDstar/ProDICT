{
 "cells": [
  {
   "cell_type": "markdown",
   "id": "d921dd65",
   "metadata": {},
   "source": [
    "## Imports"
   ]
  },
  {
   "cell_type": "code",
   "execution_count": 1,
   "id": "d22b7644",
   "metadata": {},
   "outputs": [],
   "source": [
    "import sys\n",
    "import os\n",
    "import importlib\n",
    "from pathlib import Path\n",
    "\n",
    "import pandas as pd\n",
    "import numpy as np\n",
    "import matplotlib.pyplot as plt\n",
    "import seaborn as sns\n",
    "from scipy.stats import shapiro, kstest\n",
    "from scipy import stats  \n",
    "\n",
    "from sklearn.linear_model import LogisticRegression, Ridge, Lasso, ElasticNet, RidgeCV, LassoCV,ElasticNetCV, LogisticRegressionCV\n",
    "from sklearn.model_selection import train_test_split, cross_val_score, StratifiedKFold, GridSearchCV\n",
    "from sklearn.preprocessing import StandardScaler\n",
    "from sklearn.metrics import make_scorer, accuracy_score, classification_report, f1_score, matthews_corrcoef, mean_squared_error,r2_score, roc_auc_score, roc_curve, auc, confusion_matrix, log_loss\n",
    "from sklearn.datasets import make_classification\n",
    "from sklearn.preprocessing import MinMaxScaler\n",
    "from statsmodels.stats.diagnostic import kstest_normal\n",
    "from timeit import default_timer as timer\n",
    "from tqdm import tqdm  \n",
    "from typing import Optional\n",
    "from joblib import Parallel, delayed\n",
    "import pickle\n",
    "\n",
    "module_path = str(Path(\"../src/data\").resolve())\n",
    "if module_path not in sys.path:\n",
    "    sys.path.append(module_path)\n",
    "\n",
    "import LogRegFxF as LR\n",
    "import preprocessing as prep\n",
    "\n",
    "project_root = os.path.abspath(os.path.join(os.getcwd(), '..'))"
   ]
  },
  {
   "cell_type": "code",
   "execution_count": 2,
   "id": "ead4dc59",
   "metadata": {},
   "outputs": [
    {
     "data": {
      "text/plain": [
       "['/home/lestrada/miniconda3/envs/tumor_type_clasifier/lib/python313.zip',\n",
       " '/home/lestrada/miniconda3/envs/tumor_type_clasifier/lib/python3.13',\n",
       " '/home/lestrada/miniconda3/envs/tumor_type_clasifier/lib/python3.13/lib-dynload',\n",
       " '',\n",
       " '/home/lestrada/miniconda3/envs/tumor_type_clasifier/lib/python3.13/site-packages',\n",
       " '/home/lestrada/tumor_type_prediction/src/data']"
      ]
     },
     "execution_count": 2,
     "metadata": {},
     "output_type": "execute_result"
    }
   ],
   "source": [
    "sys.path"
   ]
  },
  {
   "cell_type": "code",
   "execution_count": 30,
   "id": "0bfee16d",
   "metadata": {},
   "outputs": [],
   "source": [
    "import LogRegFxF as LR\n",
    "import preprocessing as prep\n",
    "import feature_selection as fs"
   ]
  },
  {
   "cell_type": "code",
   "execution_count": 43,
   "id": "a65c44ef",
   "metadata": {},
   "outputs": [
    {
     "data": {
      "text/plain": [
       "['__builtins__',\n",
       " '__cached__',\n",
       " '__doc__',\n",
       " '__file__',\n",
       " '__loader__',\n",
       " '__name__',\n",
       " '__package__',\n",
       " '__spec__',\n",
       " 'binary_labeling',\n",
       " 'np',\n",
       " 'pd']"
      ]
     },
     "execution_count": 43,
     "metadata": {},
     "output_type": "execute_result"
    }
   ],
   "source": [
    "importlib.reload(fs)\n",
    "\n",
    "dir(fs)"
   ]
  },
  {
   "cell_type": "markdown",
   "id": "b95e6332",
   "metadata": {},
   "source": [
    "## Data Import"
   ]
  },
  {
   "cell_type": "code",
   "execution_count": 5,
   "id": "84e9b090",
   "metadata": {},
   "outputs": [],
   "source": [
    "#Proteins quantification intensities file\n",
    "processed_data = '2024.10.23_CJ_pancancer_250/'\n",
    "folder_path = '/media/kusterlab/internal_projects/active/TOPAS/WP31/Playground/Retrospective_study/'\n",
    "PREPROCESSED_FP_INTENSITY = 'preprocessed_fp_with_ref.csv'\n",
    "intensity_path_file = folder_path + processed_data + PREPROCESSED_FP_INTENSITY\n",
    "input_quantifications = pd.read_csv(intensity_path_file)\n",
    "\n",
    "#--------------------------------------------------------------------------------\n",
    "\n",
    "#Samples metadata (oncotree classification) file.\n",
    "metadata_path = '/media/kusterlab/internal_projects/active/TOPAS/WP31/Playground/Retrospective_MTBs_Evaluation/'\n",
    "metadata_file = 'METADATA_PAN_CANCER_Batch300.xlsx'\n",
    "the_metadata_file = metadata_path + metadata_file\n",
    "input_metadata = pd.read_excel(the_metadata_file)\n",
    "\n",
    "#--------------------------------------------------------------------------------\n",
    "\n",
    "# # Proteins quantification z-scores file\n",
    "# processed_data = '2024.10.23_CJ_pancancer_250/'\n",
    "# folder_path = '/media/kusterlab/internal_projects/active/TOPAS/WP31/Playground/Retrospective_study/'\n",
    "# PREPROCESSED_FP_INTENSITY = 'full_proteome_measures_z.tsv'\n",
    "# intensity_path_file = folder_path + processed_data + PREPROCESSED_FP_INTENSITY\n",
    "# df_Z_scores = pd.read_csv(intensity_path_file, sep='\\t')"
   ]
  },
  {
   "cell_type": "markdown",
   "id": "0d31b59b",
   "metadata": {},
   "source": [
    "## Data Preprocessing"
   ]
  },
  {
   "cell_type": "code",
   "execution_count": null,
   "id": "e6163b23",
   "metadata": {},
   "outputs": [
    {
     "name": "stdout",
     "output_type": "stream",
     "text": [
      "(2135, 13017)\n"
     ]
    },
    {
     "name": "stderr",
     "output_type": "stream",
     "text": [
      "/home/lestrada/miniconda3/envs/tumor_type_clasifier/lib/python3.13/site-packages/numpy/lib/_nanfunctions_impl.py:2015: RuntimeWarning: Degrees of freedom <= 0 for slice.\n",
      "  var = nanvar(a, axis=axis, dtype=dtype, out=out, ddof=ddof,\n",
      "/home/lestrada/tumor_type_prediction/src/data/preprocessing.py:50: RuntimeWarning: Mean of empty slice\n",
      "  temp_mean = np.nanmean(temp)\n"
     ]
    },
    {
     "name": "stdout",
     "output_type": "stream",
     "text": [
      "Proteins with  empty values: ['PTGER4', 'CD19', 'FOXO4', 'CRYGA', 'HNRNPCL3;HNRNPCL4', 'MYBPHL']\n"
     ]
    }
   ],
   "source": [
    "#Peptides quantification intensities post-processing\n",
    "\n",
    "# Protein quantification intensities post-processing\n",
    "input_quantifications = input_quantifications.set_index(input_quantifications.columns[0])\n",
    "peptides_quant_info = prep.post_process_meta_intensities(input_quantifications.iloc[:,int(input_quantifications.shape[1]/2):].T ) #clean dataframe from regex characers\n",
    "proteins_quant = input_quantifications.iloc[:,:int(input_quantifications.shape[1]/2)].T #subset protein measurements from dataset\n",
    "\n",
    "#Imputation\n",
    "prot_quant_imputed = prep.impute_normal_down_shift_distribution(proteins_quant) #Imputation of missing values in protein intensities using normal distribution down-shift method\n",
    "na_columns = prot_quant_imputed.isna().any()\n",
    "na_columns_true = na_columns[na_columns].index.tolist()\n",
    "print(\"Proteins with  empty values:\", na_columns_true)\n",
    "\n",
    "#Cleaning sample names\n",
    "prot_quant_imputed.reset_index(inplace=True)\n",
    "prot_quant_imputed.rename(columns={'index': 'Sample name'}, inplace=True)\n",
    "prot_quant_imputed['Sample name'] = prot_quant_imputed['Sample name'].str.replace('pat_', '')\n",
    "\n",
    "#Dataset with protein intensities and metadata\n",
    "samples_metadata = input_metadata[[\"Sample name\", \"code_oncotree\",]] #sample metadata e.g. class, TCC, tissue of origin, etc.\n",
    "initial_df = samples_metadata.merge(prot_quant_imputed, left_on='Sample name', right_on='Sample name')\n",
    "\n",
    "#Peptides quantification to binary dataset\n",
    "peptides_df_binary = pd.DataFrame(\n",
    "    np.where(peptides_quant_info > 1, 1, 0), #if the # of peptides > 1, then turns to 1, otherwise 0. \n",
    "    index=peptides_quant_info.index,\n",
    "    columns=peptides_quant_info.columns  \n",
    ")\n",
    "peptides_df_binary.reset_index(inplace=True) #Moves the index to a column. Allows to obtain patient id\n",
    "peptides_df_binary.replace('Identification metadata ','',regex=True, inplace=True) #Removes text from id's\n",
    "peptides_df_binary = samples_metadata.merge(peptides_df_binary, left_on='Sample name', right_on='index') #merging both data sets by Sample Name, ontaining a dataset with sample, classification and peptide binary count\n",
    "peptides_df_binary.drop('index', axis=1, inplace=True)\n",
    "\n",
    "peptides_df_binary"
   ]
  },
  {
   "cell_type": "markdown",
   "id": "06bfbece",
   "metadata": {},
   "source": [
    "## Data Set Split"
   ]
  },
  {
   "cell_type": "code",
   "execution_count": 7,
   "id": "25a553a7",
   "metadata": {},
   "outputs": [
    {
     "name": "stdout",
     "output_type": "stream",
     "text": [
      "Removed samples: 191\n",
      "Remaining samples: 1469\n"
     ]
    }
   ],
   "source": [
    "#Removing samples not part of the Oncotree classification\n",
    "NOS_cases = ['CUPNOS', 'ADNOS', 'SARCNOS', 'SCCNOS', 'missing', 'SOLIDNOS', 'RCSNOS', 'GCTNOS']\n",
    "ml_initial_df = prep.remove_class(initial_df, NOS_cases, 'code_oncotree')"
   ]
  },
  {
   "cell_type": "code",
   "execution_count": 8,
   "id": "7dc6220f",
   "metadata": {},
   "outputs": [
    {
     "name": "stdout",
     "output_type": "stream",
     "text": [
      "Classes with only one sample: 70\n",
      "Training set samples: 1119\n",
      "Held-out set samples: 350\n"
     ]
    }
   ],
   "source": [
    "# Splitting dataset into training and held-out sets1\n",
    "training_df, held_out_df = prep.data_split(ml_initial_df, split_size=0.25, classified_by='code_oncotree')"
   ]
  },
  {
   "cell_type": "code",
   "execution_count": 44,
   "id": "5b653776",
   "metadata": {},
   "outputs": [
    {
     "name": "stdout",
     "output_type": "stream",
     "text": [
      "\n",
      "Number of samples per class:\n",
      "Classifier\n",
      "0    1076\n",
      "1      43\n",
      "Name: count, dtype: int64\n",
      "\n",
      "\n",
      "Number of samples per class:\n",
      "Classifier\n",
      "0    336\n",
      "1     14\n",
      "Name: count, dtype: int64\n",
      "\n"
     ]
    }
   ],
   "source": [
    "ARMS_training_df = fs.binary_labeling(training_df, classified_by='code_oncotree', true_class=['ARMS'])\n",
    "ARMS_ho_df = fs.binary_labeling(held_out_df, classified_by='code_oncotree', true_class=['ARMS'])"
   ]
  },
  {
   "cell_type": "markdown",
   "id": "89bd5127",
   "metadata": {},
   "source": [
    "## Feature Selection"
   ]
  },
  {
   "cell_type": "code",
   "execution_count": null,
   "id": "dcabee3e",
   "metadata": {},
   "outputs": [],
   "source": []
  },
  {
   "cell_type": "code",
   "execution_count": null,
   "id": "8c89fada",
   "metadata": {},
   "outputs": [],
   "source": []
  },
  {
   "cell_type": "code",
   "execution_count": null,
   "id": "40f37a18",
   "metadata": {},
   "outputs": [],
   "source": []
  },
  {
   "cell_type": "code",
   "execution_count": null,
   "id": "c362e493",
   "metadata": {},
   "outputs": [],
   "source": [
    "#cross validation for final model\n",
    "def nested_cross_validation_logistic_regression(train_df:pd.DataFrame,classified_by:str, random_state=93):\n",
    "    \"\"\"\n",
    "    classification_criteria: insert the \n",
    "    \"\"\"\n",
    "    y = train_df['Classifier']  # True values (dependent variable)\n",
    "    X = train_df.drop(columns=['Sample name', classified_by, 'Classifier'], inplace=True)  # Independent variables (proteins)\n",
    "\n",
    "    # Define the hyperparameter grid for Logistic Regression\n",
    "    param_grid = {'C': [0.1, 1, 10]}\n",
    "\n",
    "    # Set up the Logistic Regression model with L2 regularization (Ridge)\n",
    "    logreg = LogisticRegression(penalty='elasticnet',\n",
    "                                solver='saga',\n",
    "                                l1_ratio=0,  # Ridge regularization\n",
    "                                max_iter=10000,\n",
    "                                class_weight='balanced',\n",
    "                                warm_start=True)\n",
    "\n",
    "    # Set up MCC scorer\n",
    "    mcc_scorer = make_scorer(matthews_corrcoef)\n",
    "\n",
    "    # Set up inner and outer cross-validation\n",
    "    inner_cv = StratifiedKFold(n_splits=4, shuffle=True, random_state=random_state)\n",
    "    outer_cv = StratifiedKFold(n_splits=4, shuffle=True, random_state=random_state)\n",
    "\n",
    "    # Lists to store results\n",
    "    outer_scores = []\n",
    "    best_params = []\n",
    "    inner_fold_cycle = 1\n",
    "    # Perform nested cross-validation\n",
    "    for train_idx, test_idx in outer_cv.split(X, y):\n",
    "        X_train, X_test = X.iloc[train_idx], X.iloc[test_idx]\n",
    "        y_train, y_test = y.iloc[train_idx], y.iloc[test_idx]\n",
    "\n",
    "        # Inner cross-validation with GridSearchCV\n",
    "        grid_search = GridSearchCV(estimator=logreg, param_grid=param_grid, cv=inner_cv, scoring=mcc_scorer)\n",
    "        grid_search.fit(X_train, y_train)\n",
    "\n",
    "        # Get the best parameters and the score for the inner CV\n",
    "        best_param = grid_search.best_params_\n",
    "        best_score = grid_search.best_score_\n",
    "\n",
    "        # Evaluate the best model on the outer test set\n",
    "        best_model = grid_search.best_estimator_\n",
    "        y_pred = best_model.predict(X_test)\n",
    "        outer_score = matthews_corrcoef(y_test, y_pred)\n",
    "\n",
    "        # Store the results\n",
    "        outer_scores.append(outer_score)\n",
    "        best_params.append(best_param)\n",
    "\n",
    "        # Print the best parameters and the cross-validation score for each fold\n",
    "        print(f\"{inner_fold_cycle} Inner fold best parameter={best_param}, Score={best_score:.4f}, Outer MCC Score(held-out): {outer_score:.4f}\")\n",
    "        inner_fold_cycle += 1\n",
    " \n",
    "    # Print overall mean MCC score\n",
    "    print(f\"Average MCC across all outer folds: {np.mean(outer_scores):.4f}\")\n",
    "    \n",
    "    return outer_scores, best_params\n"
   ]
  }
 ],
 "metadata": {
  "kernelspec": {
   "display_name": "tumor_type_clasifier",
   "language": "python",
   "name": "python3"
  },
  "language_info": {
   "codemirror_mode": {
    "name": "ipython",
    "version": 3
   },
   "file_extension": ".py",
   "mimetype": "text/x-python",
   "name": "python",
   "nbconvert_exporter": "python",
   "pygments_lexer": "ipython3",
   "version": "3.13.5"
  }
 },
 "nbformat": 4,
 "nbformat_minor": 5
}
