{
 "cells": [
  {
   "cell_type": "markdown",
   "id": "d921dd65",
   "metadata": {},
   "source": [
    "## Imports"
   ]
  },
  {
   "cell_type": "code",
   "execution_count": 4,
   "id": "a198300e",
   "metadata": {},
   "outputs": [],
   "source": [
    "import sys\n",
    "from pathlib import Path\n",
    "\n",
    "module_path = str(Path(\"../src/data\").resolve())\n",
    "if module_path not in sys.path:\n",
    "    sys.path.append(module_path)\n"
   ]
  },
  {
   "cell_type": "code",
   "execution_count": 5,
   "id": "ead4dc59",
   "metadata": {},
   "outputs": [
    {
     "data": {
      "text/plain": [
       "['/home/lestrada/miniconda3/envs/tumor_type_clasifier/lib/python313.zip',\n",
       " '/home/lestrada/miniconda3/envs/tumor_type_clasifier/lib/python3.13',\n",
       " '/home/lestrada/miniconda3/envs/tumor_type_clasifier/lib/python3.13/lib-dynload',\n",
       " '',\n",
       " '/home/lestrada/miniconda3/envs/tumor_type_clasifier/lib/python3.13/site-packages',\n",
       " '/home/lestrada/tumor_type_prediction',\n",
       " '/home/lestrada/tumor_type_prediction/src/data']"
      ]
     },
     "execution_count": 5,
     "metadata": {},
     "output_type": "execute_result"
    }
   ],
   "source": [
    "sys.path"
   ]
  },
  {
   "cell_type": "code",
   "execution_count": 16,
   "id": "d22b7644",
   "metadata": {},
   "outputs": [],
   "source": [
    "import LogRegFxF as LR\n",
    "import preprocessing as prep\n",
    "\n",
    "import pandas as pd\n",
    "import numpy as np\n",
    "import matplotlib.pyplot as plt\n",
    "import seaborn as sns\n",
    "from scipy.stats import shapiro, kstest\n",
    "from scipy import stats  \n",
    "\n",
    "from sklearn.linear_model import LogisticRegression, Ridge, Lasso, ElasticNet, RidgeCV, LassoCV,ElasticNetCV, LogisticRegressionCV\n",
    "from sklearn.model_selection import train_test_split, cross_val_score, StratifiedKFold, GridSearchCV\n",
    "from sklearn.preprocessing import StandardScaler\n",
    "from sklearn.metrics import make_scorer, accuracy_score, classification_report, f1_score, matthews_corrcoef, mean_squared_error,r2_score, roc_auc_score, roc_curve, auc, confusion_matrix, log_loss\n",
    "from sklearn.datasets import make_classification\n",
    "from sklearn.preprocessing import MinMaxScaler\n",
    "from statsmodels.stats.diagnostic import kstest_normal\n",
    "from timeit import default_timer as timer\n",
    "from tqdm import tqdm  \n",
    "from typing import Optional\n",
    "from joblib import Parallel, delayed\n",
    "import pickle"
   ]
  },
  {
   "cell_type": "code",
   "execution_count": 21,
   "id": "a65c44ef",
   "metadata": {},
   "outputs": [
    {
     "data": {
      "text/plain": [
       "['__builtins__',\n",
       " '__cached__',\n",
       " '__doc__',\n",
       " '__file__',\n",
       " '__loader__',\n",
       " '__name__',\n",
       " '__package__',\n",
       " '__spec__',\n",
       " 'impute_normal_down_shift_distribution',\n",
       " 'np',\n",
       " 'pd',\n",
       " 'post_process_meta_intensities']"
      ]
     },
     "execution_count": 21,
     "metadata": {},
     "output_type": "execute_result"
    }
   ],
   "source": [
    "import importlib\n",
    "importlib.reload(prep)\n",
    "dir(prep)"
   ]
  },
  {
   "cell_type": "code",
   "execution_count": 17,
   "id": "18623a08",
   "metadata": {},
   "outputs": [
    {
     "data": {
      "text/plain": [
       "['__builtins__',\n",
       " '__cached__',\n",
       " '__doc__',\n",
       " '__file__',\n",
       " '__loader__',\n",
       " '__name__',\n",
       " '__package__',\n",
       " '__spec__',\n",
       " 'pd',\n",
       " 'post_process_meta_intensities']"
      ]
     },
     "execution_count": 17,
     "metadata": {},
     "output_type": "execute_result"
    }
   ],
   "source": [
    "dir(prep)"
   ]
  },
  {
   "cell_type": "markdown",
   "id": "b95e6332",
   "metadata": {},
   "source": [
    "## Data Import"
   ]
  },
  {
   "cell_type": "code",
   "execution_count": 10,
   "id": "84e9b090",
   "metadata": {},
   "outputs": [],
   "source": [
    "#Proteins quantification intensities file\n",
    "processed_data = '2024.10.23_CJ_pancancer_250/'\n",
    "folder_path = '/media/kusterlab/internal_projects/active/TOPAS/WP31/Playground/Retrospective_study/'\n",
    "PREPROCESSED_FP_INTENSITY = 'preprocessed_fp_with_ref.csv'\n",
    "intensity_path_file = folder_path + processed_data + PREPROCESSED_FP_INTENSITY\n",
    "input_quantifications = pd.read_csv(intensity_path_file)\n",
    "\n",
    "#--------------------------------------------------------------------------------\n",
    "\n",
    "#Samples metadata (oncotree classification) file.\n",
    "metadata_path = '/media/kusterlab/internal_projects/active/TOPAS/WP31/Playground/Retrospective_MTBs_Evaluation/'\n",
    "metadata_file = 'METADATA_PAN_CANCER_Batch300.xlsx'\n",
    "the_metadata_file = metadata_path + metadata_file\n",
    "input_metadata = pd.read_excel(the_metadata_file)\n",
    "\n",
    "#--------------------------------------------------------------------------------\n",
    "\n",
    "# # Proteins quantification z-scores file\n",
    "# processed_data = '2024.10.23_CJ_pancancer_250/'\n",
    "# folder_path = '/media/kusterlab/internal_projects/active/TOPAS/WP31/Playground/Retrospective_study/'\n",
    "# PREPROCESSED_FP_INTENSITY = 'full_proteome_measures_z.tsv'\n",
    "# intensity_path_file = folder_path + processed_data + PREPROCESSED_FP_INTENSITY\n",
    "# df_Z_scores = pd.read_csv(intensity_path_file, sep='\\t')"
   ]
  },
  {
   "cell_type": "markdown",
   "id": "0d31b59b",
   "metadata": {},
   "source": [
    "# Data Preprocessing"
   ]
  },
  {
   "cell_type": "code",
   "execution_count": null,
   "id": "e6163b23",
   "metadata": {},
   "outputs": [],
   "source": [
    "# Protein quantification intensities post-processing\n",
    "input_quantifications = input_quantifications.set_index(input_quantifications.columns[0])\n",
    "peptides_quant_info = prep.post_process_meta_intensities(input_quantifications.iloc[:,int(input_quantifications.shape[1]/2):].T ) #clean dataframe from regex characers\n",
    "proteins_quant = input_quantifications.iloc[:,:int(input_quantifications.shape[1]/2)].T #subset protein measurements from dataset\n",
    "\n",
    "#Imputation\n",
    "prot_quant_imputed = prep.impute_normal_down_shift_distribution(proteins_quant) #Imputation of missing values in protein intensities using normal distribution down-shift method\n",
    "na_columns = prot_quant_imputed.isna().any()\n",
    "na_columns_true = na_columns[na_columns].index.tolist()\n",
    "print(\"Proteins with  empty values:\", na_columns_true)\n",
    "\n",
    "#Cleaning sample names\n",
    "prot_quant_imputed.reset_index(inplace=True)\n",
    "prot_quant_imputed.rename(columns={'index': 'Sample name'}, inplace=True)\n",
    "prot_quant_imputed['Sample name'] = prot_quant_imputed['Sample name'].str.replace('pat_', '')\n",
    "\n",
    "#Dataset with protein intensities and metadata\n",
    "samples_metadata = input_metadata[[\"Sample name\", \"code_oncotree\",]] #sample metadata e.g. class, TCC, tissue of origin, etc.\n",
    "initial_df = samples_metadata.merge(prot_quant_imputed, left_on='Sample name', right_on='Sample name')"
   ]
  },
  {
   "cell_type": "markdown",
   "id": "06bfbece",
   "metadata": {},
   "source": [
    "# Data Set Split"
   ]
  },
  {
   "cell_type": "code",
   "execution_count": null,
   "id": "d93e6450",
   "metadata": {},
   "outputs": [],
   "source": []
  }
 ],
 "metadata": {
  "kernelspec": {
   "display_name": "tumor_type_clasifier",
   "language": "python",
   "name": "python3"
  },
  "language_info": {
   "codemirror_mode": {
    "name": "ipython",
    "version": 3
   },
   "file_extension": ".py",
   "mimetype": "text/x-python",
   "name": "python",
   "nbconvert_exporter": "python",
   "pygments_lexer": "ipython3",
   "version": "3.13.5"
  }
 },
 "nbformat": 4,
 "nbformat_minor": 5
}
