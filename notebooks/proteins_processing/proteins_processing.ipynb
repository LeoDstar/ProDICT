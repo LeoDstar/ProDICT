{
 "cells": [
  {
   "cell_type": "markdown",
   "id": "25383c8f",
   "metadata": {},
   "source": [
    "### Imports"
   ]
  },
  {
   "cell_type": "code",
   "execution_count": null,
   "id": "0bfe7929",
   "metadata": {},
   "outputs": [],
   "source": [
    "### Imports"
   ]
  },
  {
   "cell_type": "code",
   "execution_count": null,
   "id": "9607b7e2",
   "metadata": {},
   "outputs": [],
   "source": [
    "\n",
    "import os\n",
    "import glob\n",
    "from pathlib import Path\n",
    "\n",
    "# Method 1: Using pathlib (recommended - more modern and cross-platform)\n",
    "def process_txt_files_pathlib(folder_path):\n",
    "    \"\"\"Process all .txt files in folders ending with '_final' using pathlib\"\"\"\n",
    "    \n",
    "    # Dictionary to store all lists with folder names as keys\n",
    "    all_lists = {}\n",
    "    \n",
    "    proteins_path = Path(folder_path)\n",
    "    \n",
    "    # Find all directories ending with \"_final\"\n",
    "    final_folders = list(proteins_path.glob(\"*_final\"))\n",
    "    \n",
    "    # Process each folder\n",
    "    for folder in final_folders:\n",
    "        \n",
    "        # Find all .txt files in the current folder\n",
    "        txt_files = list(folder.glob(\"*.txt\"))\n",
    "        \n",
    "        # Process each .txt file\n",
    "        for txt_file in txt_files:\n",
    "            try:\n",
    "                with open(txt_file, 'r', encoding='utf-8') as file:\n",
    "                    # Create list from file lines (removes empty lines)\n",
    "                    file_list = [line.strip() for line in file if line.strip()]\n",
    "                    \n",
    "                import re\n",
    "                file_name_stripped = re.sub(r'_selected_features.txt', '', txt_file.name)\n",
    "                file_name_stripped = re.sub(r'\\d+', '', file_name_stripped)\n",
    "                all_lists[file_name_stripped] = file_list\n",
    "                print(f\"  Loaded {len(file_list)} items from {txt_file.name}\")\n",
    "                \n",
    "            except Exception as e:\n",
    "                print(f\"  Error reading {txt_file.name}: {e}\")\n",
    "        \n",
    "    return all_lists\n",
    "\n",
    "\n"
   ]
  },
  {
   "cell_type": "code",
   "execution_count": 17,
   "id": "f183b467",
   "metadata": {},
   "outputs": [
    {
     "name": "stdout",
     "output_type": "stream",
     "text": [
      "  Loaded 20 items from ACYC_selected_features.txt\n",
      "  Loaded 127 items from BA_ANGS_selected_features.txt\n",
      "  Loaded 183 items from ARMS_selected_features.txt\n",
      "  Loaded 50 items from ASPS_selected_features.txt\n",
      "  Loaded 73 items from CCS_selected_features.txt\n",
      "  Loaded 56 items from CHS_selected_features.txt\n",
      "  Loaded 127 items from DFSP_selected_features.txt\n",
      "  Loaded 74 items from ERMS_selected_features.txt\n",
      "  Loaded 102 items from ES_selected_features.txt\n",
      "  Loaded 56 items from GINET_selected_features.txt\n",
      "  Loaded 116 items from GIST_selected_features.txt\n",
      "  Loaded 114 items from IHCH_selected_features.txt\n",
      "  Loaded 59 items from MEL_UM_selected_features.txt\n",
      "  Loaded 280 items from MRLS_selected_features.txt\n",
      "  Loaded 213 items from PAAD_selected_features.txt\n",
      "  Loaded 40 items from PANET_selected_features.txt\n",
      "  Loaded 118 items from SFT_selected_features.txt\n",
      "  Loaded 208 items from SDCA_selected_features.txt\n",
      "  Loaded 136 items from THYC_selected_features.txt\n",
      "  Loaded 234 items from BRCA_selected_features.txt\n",
      "  Loaded 48 items from CHDM_selected_features.txt\n",
      "  Loaded 315 items from DDLS_selected_features.txt\n",
      "  Loaded 88 items from DIFG_selected_features.txt\n",
      "  Loaded 55 items from DSRCT_selected_features.txt\n",
      "  Loaded 256 items from LMS_ULMS_selected_features.txt\n",
      "  Loaded 63 items from MFH_selected_features.txt\n",
      "  Loaded 277 items from MPNST_selected_features.txt\n",
      "  Loaded 117 items from SYNS_selected_features.txt\n",
      "  Loaded 203 items from THYM_selected_features.txt\n",
      "  Loaded 186 items from OS_selected_features.txt\n",
      "  Loaded 193 items from PLEMESO_PEMESO_selected_features.txt\n",
      "  Loaded 224 items from ACC_selected_features.txt\n",
      "  Loaded 98 items from COAD_READ_COADREAD_selected_features.txt\n"
     ]
    }
   ],
   "source": [
    "proteins_lists = process_txt_files_pathlib(\"/media/kusterlab/internal_projects/active/TOPAS/WP31/Playground/LE_PROdict/paper_classifier_results\")"
   ]
  },
  {
   "cell_type": "code",
   "execution_count": 20,
   "id": "56e77d64",
   "metadata": {},
   "outputs": [
    {
     "name": "stdout",
     "output_type": "stream",
     "text": [
      "['MEGF6', 'VIT', 'BCL2', 'ART3', 'MATN1', 'FRMD4A', 'ITGA9', 'VGLL4', 'TRAF3IP3', 'RASA1', 'MIF4GD', 'PDZK1', 'NTN1', 'GAS2', 'MT2A', 'LAMC3', 'ANXA8L1', 'TFAP2C', 'ESRP2', 'MCUR1']\n"
     ]
    }
   ],
   "source": [
    "print(proteins_lists['ACYC'])"
   ]
  },
  {
   "cell_type": "code",
   "execution_count": 25,
   "id": "92712134",
   "metadata": {},
   "outputs": [
    {
     "name": "stdout",
     "output_type": "stream",
     "text": [
      "[PosixPath('/media/kusterlab/internal_projects/active/TOPAS/WP31/Playground/LE_PROdict/paper_classifier_results/ACYC_250908_results_final/ACYC_selected_features.txt')]\n",
      "[PosixPath('/media/kusterlab/internal_projects/active/TOPAS/WP31/Playground/LE_PROdict/paper_classifier_results/BA_ANGS_250830_final/BA_ANGS_selected_features.txt')]\n",
      "[PosixPath('/media/kusterlab/internal_projects/active/TOPAS/WP31/Playground/LE_PROdict/paper_classifier_results/ASPS_250829_results_final/ASPS_selected_features.txt')]\n",
      "[PosixPath('/media/kusterlab/internal_projects/active/TOPAS/WP31/Playground/LE_PROdict/paper_classifier_results/CCS_250828_results_final/CCS_selected_features.txt')]\n",
      "[PosixPath('/media/kusterlab/internal_projects/active/TOPAS/WP31/Playground/LE_PROdict/paper_classifier_results/CHS_250827_results_final/CHS_selected_features.txt')]\n",
      "[PosixPath('/media/kusterlab/internal_projects/active/TOPAS/WP31/Playground/LE_PROdict/paper_classifier_results/DFSP_250828_results_final/DFSP_selected_features.txt')]\n",
      "[PosixPath('/media/kusterlab/internal_projects/active/TOPAS/WP31/Playground/LE_PROdict/paper_classifier_results/ERMS_250824_results_final/ERMS_selected_features.txt')]\n",
      "[PosixPath('/media/kusterlab/internal_projects/active/TOPAS/WP31/Playground/LE_PROdict/paper_classifier_results/ES_250827_results_final/ES_selected_features.txt')]\n",
      "[PosixPath('/media/kusterlab/internal_projects/active/TOPAS/WP31/Playground/LE_PROdict/paper_classifier_results/GINET_250826_results_final/GINET_selected_features.txt')]\n",
      "[PosixPath('/media/kusterlab/internal_projects/active/TOPAS/WP31/Playground/LE_PROdict/paper_classifier_results/GIST_250828_results_final/GIST_selected_features.txt')]\n",
      "[PosixPath('/media/kusterlab/internal_projects/active/TOPAS/WP31/Playground/LE_PROdict/paper_classifier_results/IHCH_250828_results_final/IHCH_selected_features.txt')]\n",
      "[PosixPath('/media/kusterlab/internal_projects/active/TOPAS/WP31/Playground/LE_PROdict/paper_classifier_results/MEL_UM_250831_results_final/MEL_UM_selected_features.txt')]\n",
      "[PosixPath('/media/kusterlab/internal_projects/active/TOPAS/WP31/Playground/LE_PROdict/paper_classifier_results/MRLS_250828_results_final/MRLS_selected_features.txt')]\n",
      "[PosixPath('/media/kusterlab/internal_projects/active/TOPAS/WP31/Playground/LE_PROdict/paper_classifier_results/PAAD_250825_results_final/PAAD_selected_features.txt')]\n",
      "[PosixPath('/media/kusterlab/internal_projects/active/TOPAS/WP31/Playground/LE_PROdict/paper_classifier_results/PANET_250828_results_final/PANET_selected_features.txt')]\n",
      "[PosixPath('/media/kusterlab/internal_projects/active/TOPAS/WP31/Playground/LE_PROdict/paper_classifier_results/SFT_250827_results_final/SFT_selected_features.txt')]\n",
      "[PosixPath('/media/kusterlab/internal_projects/active/TOPAS/WP31/Playground/LE_PROdict/paper_classifier_results/SDCA_250825_results_final/SDCA_selected_features.txt')]\n",
      "[PosixPath('/media/kusterlab/internal_projects/active/TOPAS/WP31/Playground/LE_PROdict/paper_classifier_results/THYC_250827_results_final/THYC_selected_features.txt')]\n",
      "[PosixPath('/media/kusterlab/internal_projects/active/TOPAS/WP31/Playground/LE_PROdict/paper_classifier_results/BRCA_250829_results_final/BRCA_selected_features.txt')]\n",
      "[PosixPath('/media/kusterlab/internal_projects/active/TOPAS/WP31/Playground/LE_PROdict/paper_classifier_results/CHDM_250825_results_final/CHDM_selected_features.txt')]\n",
      "[PosixPath('/media/kusterlab/internal_projects/active/TOPAS/WP31/Playground/LE_PROdict/paper_classifier_results/DDLS_250828_results_final/DDLS_selected_features.txt')]\n",
      "[PosixPath('/media/kusterlab/internal_projects/active/TOPAS/WP31/Playground/LE_PROdict/paper_classifier_results/DIFG_250829_results_final/DIFG_selected_features.txt')]\n",
      "[PosixPath('/media/kusterlab/internal_projects/active/TOPAS/WP31/Playground/LE_PROdict/paper_classifier_results/DSRCT_250827_results_final/DSRCT_selected_features.txt')]\n",
      "[PosixPath('/media/kusterlab/internal_projects/active/TOPAS/WP31/Playground/LE_PROdict/paper_classifier_results/LMS_ULMS_250828_results_final/LMS_ULMS_selected_features.txt')]\n",
      "[PosixPath('/media/kusterlab/internal_projects/active/TOPAS/WP31/Playground/LE_PROdict/paper_classifier_results/MFH_250825_results_final/MFH_selected_features.txt')]\n",
      "[PosixPath('/media/kusterlab/internal_projects/active/TOPAS/WP31/Playground/LE_PROdict/paper_classifier_results/MPNST_250830_results_final/MPNST_selected_features.txt')]\n",
      "[PosixPath('/media/kusterlab/internal_projects/active/TOPAS/WP31/Playground/LE_PROdict/paper_classifier_results/SYNS_250911_results_final/SYNS_selected_features.txt')]\n",
      "[PosixPath('/media/kusterlab/internal_projects/active/TOPAS/WP31/Playground/LE_PROdict/paper_classifier_results/THYM_250827_results_final/THYM_selected_features.txt')]\n",
      "[PosixPath('/media/kusterlab/internal_projects/active/TOPAS/WP31/Playground/LE_PROdict/paper_classifier_results/OS_250827_results_final/OS_selected_features.txt')]\n",
      "[PosixPath('/media/kusterlab/internal_projects/active/TOPAS/WP31/Playground/LE_PROdict/paper_classifier_results/PLEMESO_PEMESO_250829_results_final/PLEMESO_PEMESO_selected_features.txt')]\n",
      "[PosixPath('/media/kusterlab/internal_projects/active/TOPAS/WP31/Playground/LE_PROdict/paper_classifier_results/ARMS_250912_results_final/ARMS_selected_features.txt')]\n",
      "[PosixPath('/media/kusterlab/internal_projects/active/TOPAS/WP31/Playground/LE_PROdict/paper_classifier_results/ACC_250825_results_final/ACC_selected_features.txt')]\n",
      "[PosixPath('/media/kusterlab/internal_projects/active/TOPAS/WP31/Playground/LE_PROdict/paper_classifier_results/COAD_READ_COADREAD_250831_results_final/COAD_READ_COADREAD_selected_features.txt')]\n"
     ]
    }
   ],
   "source": [
    "folder_path = \"/media/kusterlab/internal_projects/active/TOPAS/WP31/Playground/LE_PROdict/paper_classifier_results\"\n",
    "proteins_path = Path(folder_path)\n",
    "\n",
    "# Find all directories ending with \"_final\"\n",
    "final_folders = proteins_path.glob(\"*_final\")\n",
    "\n",
    "# Process each folder\n",
    "for folder in final_folders:\n",
    "    \n",
    "    # Find all .txt files in the current folder\n",
    "    txt_files = list(folder.glob(\"*.txt\"))\n",
    "    print(txt_files)\n",
    "    "
   ]
  },
  {
   "cell_type": "code",
   "execution_count": 29,
   "id": "2a1fe8d2",
   "metadata": {},
   "outputs": [
    {
     "name": "stdout",
     "output_type": "stream",
     "text": [
      "All .txt files copied to /media/kusterlab/internal_projects/active/TOPAS/WP31/Playground/LE_PROdict/paper_classifier_results/04_classifiers_protein_lists\n"
     ]
    }
   ],
   "source": [
    "import shutil\n",
    "from pathlib import Path\n",
    "\n",
    "folder_path = \"/media/kusterlab/internal_projects/active/TOPAS/WP31/Playground/LE_PROdict/paper_classifier_results\"\n",
    "proteins_path = Path(folder_path)\n",
    "\n",
    "dest_folder = proteins_path / \"04_classifiers_protein_lists\"\n",
    "dest_folder.mkdir(exist_ok=True)\n",
    "\n",
    "\n",
    "final_folders = proteins_path.glob(\"*_final\")\n",
    "\n",
    "\n",
    "for folder in final_folders:\n",
    "\n",
    "    txt_files = list(folder.glob(\"*.txt\"))\n",
    "    for file in txt_files:\n",
    "        shutil.copyfile(file, dest_folder / file.name)\n",
    "\n",
    "print(f\"All .txt files copied to {dest_folder}\")\n"
   ]
  },
  {
   "cell_type": "code",
   "execution_count": 32,
   "id": "e60cca89",
   "metadata": {},
   "outputs": [
    {
     "data": {
      "text/plain": [
       "list"
      ]
     },
     "execution_count": 32,
     "metadata": {},
     "output_type": "execute_result"
    }
   ],
   "source": [
    "TARGET_CLASS = 'ACYC'\n",
    "target_proteins_path = f'/media/kusterlab/internal_projects/active/TOPAS/WP31/Playground/LE_PROdict/paper_classifier_results/04_classifiers_protein_lists/{TARGET_CLASS}_selected_features.txt'\n",
    "with open(target_proteins_path, 'r') as fd:\n",
    "    target_proteins = [line.strip() for line in fd if line.strip()]\n",
    "    \n",
    "type(target_proteins)"
   ]
  },
  {
   "cell_type": "code",
   "execution_count": null,
   "id": "d5e6d064",
   "metadata": {},
   "outputs": [],
   "source": []
  }
 ],
 "metadata": {
  "kernelspec": {
   "display_name": "tumor_type_clasifier",
   "language": "python",
   "name": "python3"
  },
  "language_info": {
   "codemirror_mode": {
    "name": "ipython",
    "version": 3
   },
   "file_extension": ".py",
   "mimetype": "text/x-python",
   "name": "python",
   "nbconvert_exporter": "python",
   "pygments_lexer": "ipython3",
   "version": "3.13.5"
  }
 },
 "nbformat": 4,
 "nbformat_minor": 5
}
