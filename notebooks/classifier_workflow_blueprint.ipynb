{
 "cells": [
  {
   "cell_type": "markdown",
   "id": "d921dd65",
   "metadata": {},
   "source": [
    "## Imports"
   ]
  },
  {
   "cell_type": "code",
   "execution_count": null,
   "id": "d22b7644",
   "metadata": {},
   "outputs": [],
   "source": [
    "import sys\n",
    "import os\n",
    "import pandas as pd\n",
    "import numpy as np\n",
    "from pathlib import Path\n",
    "\n",
    "module_path = str(Path(\"../src/data\").resolve())\n",
    "if module_path not in sys.path:\n",
    "    sys.path.append(module_path)\n",
    "\n",
    "import preprocessing as prep\n",
    "import feature_selection as fs\n",
    "import model_fit as mf\n",
    "\n",
    "project_root = os.path.abspath(os.path.join(os.getcwd(), '..'))"
   ]
  },
  {
   "cell_type": "markdown",
   "id": "b95e6332",
   "metadata": {},
   "source": [
    "## Data Import"
   ]
  },
  {
   "cell_type": "code",
   "execution_count": null,
   "id": "84e9b090",
   "metadata": {},
   "outputs": [],
   "source": [
    "#Proteins quantification intensities file\n",
    "processed_data = '2024.10.23_CJ_pancancer_250/'\n",
    "folder_path = '/media/kusterlab/internal_projects/active/TOPAS/WP31/Playground/Retrospective_study/'\n",
    "PREPROCESSED_FP_INTENSITY = 'preprocessed_fp_with_ref.csv'\n",
    "intensity_path_file = folder_path + processed_data + PREPROCESSED_FP_INTENSITY\n",
    "input_quantifications = pd.read_csv(intensity_path_file)\n",
    "\n",
    "#--------------------------------------------------------------------------------\n",
    "\n",
    "# Proteins quantification z-scores file\n",
    "preprocessed_fp_z_scores = 'full_proteome_measures_z.tsv'\n",
    "z_scores_path_file = folder_path + processed_data + preprocessed_fp_z_scores\n",
    "df_z_scores = pd.read_csv(z_scores_path_file, sep='\\t')\n",
    "\n",
    "\n",
    "#--------------------------------------------------------------------------------\n",
    "\n",
    "#Samples metadata (oncotree classification) file.\n",
    "metadata_path = '/media/kusterlab/internal_projects/active/TOPAS/WP31/Playground/Retrospective_MTBs_Evaluation/'\n",
    "metadata_file = 'METADATA_PAN_CANCER_Batch300.xlsx'\n",
    "the_metadata_file = metadata_path + metadata_file\n",
    "input_metadata = pd.read_excel(the_metadata_file)\n",
    "\n"
   ]
  },
  {
   "cell_type": "markdown",
   "id": "0d31b59b",
   "metadata": {},
   "source": [
    "## Data Preprocessing"
   ]
  },
  {
   "cell_type": "code",
   "execution_count": null,
   "id": "e6163b23",
   "metadata": {},
   "outputs": [],
   "source": [
    "# Protein and peptides quantification intensities post-processing\n",
    "input_quantifications = input_quantifications.set_index(input_quantifications.columns[0])\n",
    "\n",
    "peptides_quant_info = prep.post_process_meta_intensities(input_quantifications.iloc[:,int(input_quantifications.shape[1]/2):].T ) #clean dataframe from regex characers\n",
    "proteins_quant = input_quantifications.iloc[:,:int(input_quantifications.shape[1]/2)].T #subset protein measurements from dataset\n",
    "\n",
    "#Imputation\n",
    "prot_quant_imputed = prep.impute_normal_down_shift_distribution(proteins_quant) #Imputation of missing values in protein intensities using normal distribution down-shift method\n",
    "na_columns = prot_quant_imputed.isna().any()\n",
    "na_columns_true = na_columns[na_columns].index.tolist()\n",
    "print(\"Proteins with  empty values:\", na_columns_true)\n",
    "\n",
    "#Cleaning sample names\n",
    "prot_quant_imputed.reset_index(inplace=True)\n",
    "prot_quant_imputed.rename(columns={'index': 'Sample name'}, inplace=True)\n",
    "prot_quant_imputed['Sample name'] = prot_quant_imputed['Sample name'].str.replace('pat_', '')\n",
    "\n",
    "#Dataset with protein intensities and metadata\n",
    "samples_metadata = input_metadata[[\"Sample name\", \"code_oncotree\",]] #sample metadata e.g. class, TCC, tissue of origin, etc.\n",
    "initial_df = samples_metadata.merge(prot_quant_imputed, left_on='Sample name', right_on='Sample name')\n",
    "\n",
    "#Peptides quantification to binary dataset\n",
    "peptides_df_binary = pd.DataFrame(\n",
    "    np.where(peptides_quant_info > 1, 1, 0), #if the # of peptides > 1, then turns to 1, otherwise 0. \n",
    "    index=peptides_quant_info.index,\n",
    "    columns=peptides_quant_info.columns  \n",
    ")\n",
    "peptides_df_binary.reset_index(inplace=True) #Moves the index to a column. Allows to obtain patient id\n",
    "peptides_df_binary.replace('Identification metadata ','',regex=True, inplace=True) #Removes text from id's\n",
    "peptides_df_binary = samples_metadata.merge(peptides_df_binary, left_on='Sample name', right_on='index') #merging both data sets by Sample Name, ontaining a dataset with sample, classification and peptide binary count\n",
    "peptides_df_binary.drop('index', axis=1, inplace=True)\n",
    "\n",
    "peptides_df_binary"
   ]
  },
  {
   "cell_type": "code",
   "execution_count": null,
   "id": "ea85d65c",
   "metadata": {},
   "outputs": [],
   "source": [
    "# Transforming Z-scores file to obtain values and info\n",
    "z_scores_df = df_z_scores.transpose(copy=True) \n",
    "z_scores_df = z_scores_df.reset_index()\n",
    "z_scores_df = z_scores_df.replace('zscore_','', regex=True) \n",
    "z_scores_df.rename(columns = z_scores_df.iloc[0], inplace=True)\n",
    "z_scores_df.drop(axis=0, index=0, inplace=True)\n",
    "z_scores_df['Gene names'] = z_scores_df['Gene names'].str.replace('pat_', '')\n",
    "z_scores_df = z_scores_df.set_index('Gene names') \n",
    "\n",
    "z_scores_imputed = prep.impute_normal_down_shift_distribution(z_scores_df)\n",
    "z_scores_imputed.reset_index(inplace=True)\n",
    "z_scores_imputed.rename(columns={'Gene names': 'Sample name'}, inplace=True)\n",
    "\n",
    "z_scores_initial_df = samples_metadata.merge(z_scores_imputed, left_on='Sample name', right_on='Sample name')"
   ]
  },
  {
   "cell_type": "code",
   "execution_count": null,
   "id": "2d5c29bd",
   "metadata": {},
   "outputs": [],
   "source": [
    "z_scores_initial_df"
   ]
  },
  {
   "cell_type": "markdown",
   "id": "06bfbece",
   "metadata": {},
   "source": [
    "## Data Set Split"
   ]
  },
  {
   "cell_type": "code",
   "execution_count": null,
   "id": "c4b3c94d",
   "metadata": {},
   "outputs": [],
   "source": [
    "#Set Classification Parameters\n",
    "target_class = ['ARMS'] \n",
    "classified_by = 'code_oncotree'\n",
    "samples_column = 'Sample name'\n"
   ]
  },
  {
   "cell_type": "code",
   "execution_count": null,
   "id": "25a553a7",
   "metadata": {},
   "outputs": [],
   "source": [
    "#Removing samples not part of the Oncotree classification\n",
    "NOS_cases = initial_df[initial_df[classified_by].str.endswith('NOS', na=False)][classified_by].unique().tolist()\n",
    "other_cases = ['missing']\n",
    "cases_to_remove = NOS_cases + other_cases\n",
    "ml_initial_df = prep.remove_class(initial_df, cases_to_remove, classified_by)\n",
    "\n",
    "# Splitting dataset into training and held-out sets1\n",
    "training_df, held_out_df = prep.data_split(ml_initial_df, split_size=0.25, classified_by=classified_by, export=False)\n",
    "\n",
    "#Z_scores dataset\n",
    "z_scores_training_df = z_scores_initial_df.iloc[training_df.index]"
   ]
  },
  {
   "cell_type": "markdown",
   "id": "37b6f928",
   "metadata": {},
   "source": [
    "# Class Specific Worflow"
   ]
  },
  {
   "cell_type": "code",
   "execution_count": null,
   "id": "0b2520a4",
   "metadata": {},
   "outputs": [],
   "source": [
    "\n",
    "#Obtaining high confidence proteins by peptides\n",
    "entity_proteins_by_peptides = fs.get_high_confidence_proteins(peptides_df_binary, target_class, classified_by, threshold=0.7)\n",
    "\n",
    "# Binary labeling for specific class classification \n",
    "entity_training_df = fs.binary_labeling(training_df, classified_by=classified_by, true_class=target_class)\n",
    "entity_ho_df = fs.binary_labeling(held_out_df, classified_by=classified_by, true_class=target_class)\n",
    "\n",
    "entity_z_scores_train_df = fs.binary_labeling(z_scores_training_df, classified_by=classified_by, true_class=target_class)\n",
    "\n",
    "\n",
    "# 1st Filter - Filtering entity training and held-out dataframes by proteins with peptides\n",
    "entity_training_df = entity_training_df.filter(items=[samples_column, classified_by, 'Classifier'] + entity_proteins_by_peptides)\n",
    "entity_ho_df = entity_ho_df.filter(items=[samples_column, classified_by, 'Classifier'] + entity_proteins_by_peptides)\n",
    "\n",
    "entity_z_scores_train_df = entity_z_scores_train_df.filter(items=[samples_column, classified_by, 'Classifier'] + entity_proteins_by_peptides)"
   ]
  },
  {
   "cell_type": "markdown",
   "id": "89bd5127",
   "metadata": {},
   "source": [
    "## Feature Selection"
   ]
  },
  {
   "cell_type": "markdown",
   "id": "999c958e",
   "metadata": {},
   "source": [
    "### Hyperparametes for ElasticNet\n",
    "Done in Z-scores"
   ]
  },
  {
   "cell_type": "code",
   "execution_count": null,
   "id": "fad0b1f5",
   "metadata": {},
   "outputs": [],
   "source": [
    "entity_cv_results, entity_best_params, entity_best_score, entity_grid_search_obj = fs.hparameter_grid_search(entity_z_scores_train_df.iloc[:, 0:20], 4, [0.5], [1], classified_by=classified_by)"
   ]
  },
  {
   "cell_type": "markdown",
   "id": "9a1fddbc",
   "metadata": {},
   "source": [
    "### Feature Selection by ElasticNet Cross-Validation"
   ]
  },
  {
   "cell_type": "code",
   "execution_count": null,
   "id": "e7785ee3",
   "metadata": {},
   "outputs": [],
   "source": [
    "entity_cross_val_coeffs = fs.elnet_wrapper(entity_z_scores_train_df.iloc[:, 0:20],classified_by=classified_by, tumor_type_name='ARSM_try', l1_ratio=0.1, C=100, n_splits=3, n_repeats=3,n_jobs=3, export=False)"
   ]
  },
  {
   "cell_type": "code",
   "execution_count": null,
   "id": "22c53150",
   "metadata": {},
   "outputs": [],
   "source": [
    "entity_stats_try, entity_proteins = fs.statistic_from_coefficients(entity_cross_val_coeffs, target_class)"
   ]
  },
  {
   "cell_type": "markdown",
   "id": "a6c19ce5",
   "metadata": {},
   "source": [
    "## Model Fitting\n",
    "Done on intensities"
   ]
  },
  {
   "cell_type": "markdown",
   "id": "72a324a7",
   "metadata": {},
   "source": [
    "### Reshaping dataset for training and test"
   ]
  },
  {
   "cell_type": "code",
   "execution_count": null,
   "id": "b07d03c8",
   "metadata": {},
   "outputs": [],
   "source": [
    "entity_training_fs = fs.reshape_df_for_fitting(entity_training_df, entity_proteins)\n",
    "entity_test_fs = fs.reshape_df_for_fitting(entity_ho_df, entity_proteins)\n"
   ]
  },
  {
   "cell_type": "markdown",
   "id": "57dde188",
   "metadata": {},
   "source": [
    "### Hyperparameter Selection for Logistic Regression"
   ]
  },
  {
   "cell_type": "code",
   "execution_count": null,
   "id": "68635a44",
   "metadata": {},
   "outputs": [],
   "source": [
    "entity_to_nest_cv_results = mf.wrapper_nested_cv(entity_training_fs, random_state_tries=4, n_splits=2, classified_by=classified_by)\n",
    "entity_to_nest_hp = mf.nested_cv_hparameters_selection(entity_to_nest_cv_results)"
   ]
  },
  {
   "cell_type": "code",
   "execution_count": null,
   "id": "c630f68f",
   "metadata": {},
   "outputs": [],
   "source": [
    "hyperparameter_C = pd.DataFrame(entity_to_nest_hp).T.sort_values(by='avg', ascending=False).index.tolist()[0]"
   ]
  },
  {
   "cell_type": "markdown",
   "id": "b1b535ce",
   "metadata": {},
   "source": [
    "### Model Fit"
   ]
  },
  {
   "cell_type": "code",
   "execution_count": null,
   "id": "737c7a0a",
   "metadata": {},
   "outputs": [],
   "source": [
    "entity_log_reg_model = mf.logistic_regression_ridge( entity_training_fs, hyperparameter_C, target_class, classified_by=classified_by) "
   ]
  },
  {
   "cell_type": "code",
   "execution_count": null,
   "id": "05fd7658",
   "metadata": {},
   "outputs": [],
   "source": [
    "entity_coefficients, entity_train_probabilities, entity_test_probabilities = mf.logistic_regression_results(entity_log_reg_model, entity_training_fs, entity_ho_df, target_class, classified_by=classified_by)"
   ]
  },
  {
   "cell_type": "code",
   "execution_count": null,
   "id": "aaef3c09",
   "metadata": {},
   "outputs": [],
   "source": [
    "test_entity_scores = mf.classification_scores(entity_test_probabilities)"
   ]
  }
 ],
 "metadata": {
  "kernelspec": {
   "display_name": "tumor_type_clasifier",
   "language": "python",
   "name": "python3"
  },
  "language_info": {
   "codemirror_mode": {
    "name": "ipython",
    "version": 3
   },
   "file_extension": ".py",
   "mimetype": "text/x-python",
   "name": "python",
   "nbconvert_exporter": "python",
   "pygments_lexer": "ipython3",
   "version": "3.13.5"
  }
 },
 "nbformat": 4,
 "nbformat_minor": 5
}
